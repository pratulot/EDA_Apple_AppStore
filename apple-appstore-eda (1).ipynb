{
 "cells": [
  {
   "cell_type": "markdown",
   "metadata": {
    "id": "qcuq1Rufd5BB"
   },
   "source": [
    "# Exploratory Data Analysis on Apple's Appstore Data \n",
    "![](https://i.imgur.com/2bpcKS8.jpg)\n",
    "The [App Store](https://en.wikipedia.org/wiki/App_Store_(iOS/iPadOS)) is an app store platform, developed and maintained by Apple Inc., for mobile apps on its iOS and iPadOS operating systems. The store allows users to browse and download approved apps developed within Apple's iOS Software Development Kit.\n",
    "\n",
    "The project is about process of exploring, investigating and gathering insights from data using statistical measures and visualizations. Various techniques of exploratory and predictive analysis can help businesses structure and recalibrate their pricing, marketing and inventory strategies in real-time. The libraries used in this project are Pandas, Seaborn, Plotly and Matplotlib."
   ]
  },
  {
   "cell_type": "markdown",
   "metadata": {
    "id": "uSZEQmH5jo7u"
   },
   "source": [
    "Here's the outline of the project:\n",
    "\n",
    "1. Download the data\n",
    "2. Data preperation and cleaning\n",
    "3. Data Analysis and visualizing.\n",
    "4. Questioning & Answering\n",
    "5. Summary\n",
    "6. Future work\n",
    "6. References"
   ]
  },
  {
   "cell_type": "markdown",
   "metadata": {
    "id": "JWL04mZJeA6i"
   },
   "source": [
    "## -> Downloading the data."
   ]
  },
  {
   "cell_type": "markdown",
   "metadata": {
    "id": "olwVa164lmLw"
   },
   "source": [
    "I found [Apple Appstore Dataset](https://www.kaggle.com/datasets/gauthamp10/apple-appstore-apps) on kaggle containing 1.2+ million app data from 2008 - 2021.\n",
    "\n",
    "The data is categorized into 21 columns:-\n",
    "\n",
    "1. `App_Id`: Each application that is listed has a unique id.\n",
    "2. `App_Name`: Contains application name.\n",
    "3. `Appstore_URL`: Link to visit app in appstore.\n",
    "4. `Primary_Genre`: Contains application genre(category).\n",
    "5. `Content_Rating`: Contains age limit for each app.\n",
    "6. `Size_Bytes`: Application size in bytes.\n",
    "7. `Required_IOS_Version`: Contains required IOS version to download the app.\n",
    "8. `Released`: When was the app released (Year, month, date, time).\n",
    "9. `Updated`: Latest update of the app (Year, month, date, time).\n",
    "10. `Version`: Version of the app.\n",
    "11. `Price`: Price of the app.\n",
    "12. `Currency`: What is the currency of the price.\n",
    "13. `Free`: Contains info about the app is free or paid. \n",
    "14. `DeveloperId`: Each developer that is listed has a unique id.\n",
    "15. `Developer`: Contains developer name.\n",
    "16. `Developer_Url`: Contains link to the developer site.\n",
    "17. `Developer_Website`: Contains link to the developer site.\n",
    "18. `Average_User_Rating`: Average user rating of the app.\n",
    "19. `Reviews`: Total number of of reviews.\n",
    "20. `Current_Version_Score`: Current version rating.\n",
    "21. `Current_Version_Reviews`: Current version reviews.\n",
    "\n",
    "Let's start by downloading the dataset"
   ]
  },
  {
   "cell_type": "code",
   "execution_count": 1,
   "metadata": {
    "executionInfo": {
     "elapsed": 5105,
     "status": "ok",
     "timestamp": 1662822000583,
     "user": {
      "displayName": "Pratul Chandra",
      "userId": "06160049637809107783"
     },
     "user_tz": -330
    },
    "id": "FnquqigFkA3D"
   },
   "outputs": [],
   "source": [
    "# Opendatasets is a Python library for downloading datasets from online sources like Kaggle and Google Drive using a simple Python command.\n",
    "!pip install opendatasets --upgrade --quiet "
   ]
  },
  {
   "cell_type": "code",
   "execution_count": 2,
   "metadata": {
    "colab": {
     "base_uri": "https://localhost:8080/"
    },
    "executionInfo": {
     "elapsed": 107733,
     "status": "ok",
     "timestamp": 1662822108292,
     "user": {
      "displayName": "Pratul Chandra",
      "userId": "06160049637809107783"
     },
     "user_tz": -330
    },
    "id": "czKfu9MdkAzr",
    "outputId": "990923e6-6620-4783-aff3-c50f4cd618d5"
   },
   "outputs": [
    {
     "name": "stdout",
     "output_type": "stream",
     "text": [
      "Please provide your Kaggle credentials to download this dataset. Learn more: http://bit.ly/kaggle-creds\n",
      "Your Kaggle username: \n",
      "Your Kaggle username: pratulperla\n",
      "Your Kaggle Key: ··········\n",
      "Downloading apple-appstore-apps.zip to ./apple-appstore-apps\n"
     ]
    },
    {
     "name": "stderr",
     "output_type": "stream",
     "text": [
      "100%|██████████| 117M/117M [00:02<00:00, 58.9MB/s]\n"
     ]
    },
    {
     "name": "stdout",
     "output_type": "stream",
     "text": [
      "\n"
     ]
    }
   ],
   "source": [
    "import opendatasets\n",
    "opendatasets.download('https://www.kaggle.com/datasets/gauthamp10/apple-appstore-apps')"
   ]
  },
  {
   "cell_type": "code",
   "execution_count": 3,
   "metadata": {
    "executionInfo": {
     "elapsed": 34,
     "status": "ok",
     "timestamp": 1662822108295,
     "user": {
      "displayName": "Pratul Chandra",
      "userId": "06160049637809107783"
     },
     "user_tz": -330
    },
    "id": "FX-eDyWJkAw4"
   },
   "outputs": [],
   "source": [
    "data_filename= './apple-appstore-apps/appleAppData.csv' "
   ]
  },
  {
   "cell_type": "markdown",
   "metadata": {
    "id": "58R7qL1YndU1"
   },
   "source": [
    "## -> Data preperation and Cleaning.\n",
    "\n",
    "The quality of data is the most crucial element of any business intelligence strategy. Data cleaning is the process of fixing or removing incorrect, corrupted, incorrectly formatted, duplicate, or incomplete data within a dataset.\n"
   ]
  },
  {
   "cell_type": "code",
   "execution_count": 4,
   "metadata": {
    "executionInfo": {
     "elapsed": 33,
     "status": "ok",
     "timestamp": 1662822108296,
     "user": {
      "displayName": "Pratul Chandra",
      "userId": "06160049637809107783"
     },
     "user_tz": -330
    },
    "id": "BIzIeqLZkAua"
   },
   "outputs": [],
   "source": [
    "#Pandas is a fast, powerful, flexible and easy to use open source data analysis and manipulation tool, built on top of the Python programming language.\n",
    "import pandas as pd"
   ]
  },
  {
   "cell_type": "markdown",
   "metadata": {
    "id": "AqO59YXdl9bz"
   },
   "source": [
    "Creating a copy of the dataset just in case."
   ]
  },
  {
   "cell_type": "code",
   "execution_count": 5,
   "metadata": {
    "executionInfo": {
     "elapsed": 21132,
     "status": "ok",
     "timestamp": 1662822129397,
     "user": {
      "displayName": "Pratul Chandra",
      "userId": "06160049637809107783"
     },
     "user_tz": -330
    },
    "id": "ZWrAt7CmkAsc"
   },
   "outputs": [],
   "source": [
    "df_backedup= pd.read_csv(data_filename)\n",
    "df=df_backedup.copy()"
   ]
  },
  {
   "cell_type": "markdown",
   "metadata": {
    "id": "1bKMP-81mHFY"
   },
   "source": [
    "This how the data looks like"
   ]
  },
  {
   "cell_type": "code",
   "execution_count": 6,
   "metadata": {
    "colab": {
     "base_uri": "https://localhost:8080/",
     "height": 306
    },
    "executionInfo": {
     "elapsed": 31,
     "status": "ok",
     "timestamp": 1662822129405,
     "user": {
      "displayName": "Pratul Chandra",
      "userId": "06160049637809107783"
     },
     "user_tz": -330
    },
    "id": "PaAEnF96r4O5",
    "outputId": "538142e9-261e-45f7-d425-1d90cc12ad10"
   },
   "outputs": [
    {
     "data": {
      "text/html": [
       "\n",
       "  <div id=\"df-e88e9733-57e1-4c6a-be0a-f7b8b5d1df39\">\n",
       "    <div class=\"colab-df-container\">\n",
       "      <div>\n",
       "<style scoped>\n",
       "    .dataframe tbody tr th:only-of-type {\n",
       "        vertical-align: middle;\n",
       "    }\n",
       "\n",
       "    .dataframe tbody tr th {\n",
       "        vertical-align: top;\n",
       "    }\n",
       "\n",
       "    .dataframe thead th {\n",
       "        text-align: right;\n",
       "    }\n",
       "</style>\n",
       "<table border=\"1\" class=\"dataframe\">\n",
       "  <thead>\n",
       "    <tr style=\"text-align: right;\">\n",
       "      <th></th>\n",
       "      <th>App_Id</th>\n",
       "      <th>App_Name</th>\n",
       "      <th>AppStore_Url</th>\n",
       "      <th>Primary_Genre</th>\n",
       "      <th>Content_Rating</th>\n",
       "      <th>Size_Bytes</th>\n",
       "      <th>Required_IOS_Version</th>\n",
       "      <th>Released</th>\n",
       "      <th>Updated</th>\n",
       "      <th>Version</th>\n",
       "      <th>...</th>\n",
       "      <th>Currency</th>\n",
       "      <th>Free</th>\n",
       "      <th>DeveloperId</th>\n",
       "      <th>Developer</th>\n",
       "      <th>Developer_Url</th>\n",
       "      <th>Developer_Website</th>\n",
       "      <th>Average_User_Rating</th>\n",
       "      <th>Reviews</th>\n",
       "      <th>Current_Version_Score</th>\n",
       "      <th>Current_Version_Reviews</th>\n",
       "    </tr>\n",
       "  </thead>\n",
       "  <tbody>\n",
       "    <tr>\n",
       "      <th>243083</th>\n",
       "      <td>com.lospinoshardware.builder</td>\n",
       "      <td>Los Pinos App</td>\n",
       "      <td>https://apps.apple.com/us/app/los-pinos-app/id...</td>\n",
       "      <td>Business</td>\n",
       "      <td>4+</td>\n",
       "      <td>67632128.0</td>\n",
       "      <td>10.0</td>\n",
       "      <td>2021-02-02T08:00:00Z</td>\n",
       "      <td>2021-02-20T17:54:59Z</td>\n",
       "      <td>1.2.7</td>\n",
       "      <td>...</td>\n",
       "      <td>USD</td>\n",
       "      <td>True</td>\n",
       "      <td>1548233340</td>\n",
       "      <td>Los Pinos Hardware Co.</td>\n",
       "      <td>https://apps.apple.com/us/developer/los-pinos-...</td>\n",
       "      <td>NaN</td>\n",
       "      <td>0.0</td>\n",
       "      <td>0</td>\n",
       "      <td>0.0</td>\n",
       "      <td>0</td>\n",
       "    </tr>\n",
       "    <tr>\n",
       "      <th>40676</th>\n",
       "      <td>com.isc.kduefame</td>\n",
       "      <td>KDU CRM</td>\n",
       "      <td>https://apps.apple.com/us/app/kdu-crm/id144254...</td>\n",
       "      <td>Business</td>\n",
       "      <td>4+</td>\n",
       "      <td>8479744.0</td>\n",
       "      <td>11.0</td>\n",
       "      <td>2019-02-05T17:17:27Z</td>\n",
       "      <td>2020-09-01T20:48:23Z</td>\n",
       "      <td>4.1</td>\n",
       "      <td>...</td>\n",
       "      <td>USD</td>\n",
       "      <td>True</td>\n",
       "      <td>1442546797</td>\n",
       "      <td>Pravin Angane</td>\n",
       "      <td>https://apps.apple.com/us/developer/pravin-ang...</td>\n",
       "      <td>http://isconline.co.in</td>\n",
       "      <td>0.0</td>\n",
       "      <td>0</td>\n",
       "      <td>0.0</td>\n",
       "      <td>0</td>\n",
       "    </tr>\n",
       "    <tr>\n",
       "      <th>1073818</th>\n",
       "      <td>com.bitcot.app.emokeys</td>\n",
       "      <td>Selfiemoji</td>\n",
       "      <td>https://apps.apple.com/us/app/selfiemoji/id945...</td>\n",
       "      <td>Utilities</td>\n",
       "      <td>4+</td>\n",
       "      <td>4187136.0</td>\n",
       "      <td>8.0</td>\n",
       "      <td>2015-01-28T11:47:00Z</td>\n",
       "      <td>2015-07-28T12:55:42Z</td>\n",
       "      <td>2.0.0</td>\n",
       "      <td>...</td>\n",
       "      <td>USD</td>\n",
       "      <td>True</td>\n",
       "      <td>919972367</td>\n",
       "      <td>Bitcot</td>\n",
       "      <td>https://apps.apple.com/us/developer/bitcot/id9...</td>\n",
       "      <td>NaN</td>\n",
       "      <td>0.0</td>\n",
       "      <td>0</td>\n",
       "      <td>0.0</td>\n",
       "      <td>0</td>\n",
       "    </tr>\n",
       "  </tbody>\n",
       "</table>\n",
       "<p>3 rows × 21 columns</p>\n",
       "</div>\n",
       "      <button class=\"colab-df-convert\" onclick=\"convertToInteractive('df-e88e9733-57e1-4c6a-be0a-f7b8b5d1df39')\"\n",
       "              title=\"Convert this dataframe to an interactive table.\"\n",
       "              style=\"display:none;\">\n",
       "        \n",
       "  <svg xmlns=\"http://www.w3.org/2000/svg\" height=\"24px\"viewBox=\"0 0 24 24\"\n",
       "       width=\"24px\">\n",
       "    <path d=\"M0 0h24v24H0V0z\" fill=\"none\"/>\n",
       "    <path d=\"M18.56 5.44l.94 2.06.94-2.06 2.06-.94-2.06-.94-.94-2.06-.94 2.06-2.06.94zm-11 1L8.5 8.5l.94-2.06 2.06-.94-2.06-.94L8.5 2.5l-.94 2.06-2.06.94zm10 10l.94 2.06.94-2.06 2.06-.94-2.06-.94-.94-2.06-.94 2.06-2.06.94z\"/><path d=\"M17.41 7.96l-1.37-1.37c-.4-.4-.92-.59-1.43-.59-.52 0-1.04.2-1.43.59L10.3 9.45l-7.72 7.72c-.78.78-.78 2.05 0 2.83L4 21.41c.39.39.9.59 1.41.59.51 0 1.02-.2 1.41-.59l7.78-7.78 2.81-2.81c.8-.78.8-2.07 0-2.86zM5.41 20L4 18.59l7.72-7.72 1.47 1.35L5.41 20z\"/>\n",
       "  </svg>\n",
       "      </button>\n",
       "      \n",
       "  <style>\n",
       "    .colab-df-container {\n",
       "      display:flex;\n",
       "      flex-wrap:wrap;\n",
       "      gap: 12px;\n",
       "    }\n",
       "\n",
       "    .colab-df-convert {\n",
       "      background-color: #E8F0FE;\n",
       "      border: none;\n",
       "      border-radius: 50%;\n",
       "      cursor: pointer;\n",
       "      display: none;\n",
       "      fill: #1967D2;\n",
       "      height: 32px;\n",
       "      padding: 0 0 0 0;\n",
       "      width: 32px;\n",
       "    }\n",
       "\n",
       "    .colab-df-convert:hover {\n",
       "      background-color: #E2EBFA;\n",
       "      box-shadow: 0px 1px 2px rgba(60, 64, 67, 0.3), 0px 1px 3px 1px rgba(60, 64, 67, 0.15);\n",
       "      fill: #174EA6;\n",
       "    }\n",
       "\n",
       "    [theme=dark] .colab-df-convert {\n",
       "      background-color: #3B4455;\n",
       "      fill: #D2E3FC;\n",
       "    }\n",
       "\n",
       "    [theme=dark] .colab-df-convert:hover {\n",
       "      background-color: #434B5C;\n",
       "      box-shadow: 0px 1px 3px 1px rgba(0, 0, 0, 0.15);\n",
       "      filter: drop-shadow(0px 1px 2px rgba(0, 0, 0, 0.3));\n",
       "      fill: #FFFFFF;\n",
       "    }\n",
       "  </style>\n",
       "\n",
       "      <script>\n",
       "        const buttonEl =\n",
       "          document.querySelector('#df-e88e9733-57e1-4c6a-be0a-f7b8b5d1df39 button.colab-df-convert');\n",
       "        buttonEl.style.display =\n",
       "          google.colab.kernel.accessAllowed ? 'block' : 'none';\n",
       "\n",
       "        async function convertToInteractive(key) {\n",
       "          const element = document.querySelector('#df-e88e9733-57e1-4c6a-be0a-f7b8b5d1df39');\n",
       "          const dataTable =\n",
       "            await google.colab.kernel.invokeFunction('convertToInteractive',\n",
       "                                                     [key], {});\n",
       "          if (!dataTable) return;\n",
       "\n",
       "          const docLinkHtml = 'Like what you see? Visit the ' +\n",
       "            '<a target=\"_blank\" href=https://colab.research.google.com/notebooks/data_table.ipynb>data table notebook</a>'\n",
       "            + ' to learn more about interactive tables.';\n",
       "          element.innerHTML = '';\n",
       "          dataTable['output_type'] = 'display_data';\n",
       "          await google.colab.output.renderOutput(dataTable, element);\n",
       "          const docLink = document.createElement('div');\n",
       "          docLink.innerHTML = docLinkHtml;\n",
       "          element.appendChild(docLink);\n",
       "        }\n",
       "      </script>\n",
       "    </div>\n",
       "  </div>\n",
       "  "
      ],
      "text/plain": [
       "                               App_Id       App_Name  \\\n",
       "243083   com.lospinoshardware.builder  Los Pinos App   \n",
       "40676                com.isc.kduefame        KDU CRM   \n",
       "1073818        com.bitcot.app.emokeys     Selfiemoji   \n",
       "\n",
       "                                              AppStore_Url Primary_Genre  \\\n",
       "243083   https://apps.apple.com/us/app/los-pinos-app/id...      Business   \n",
       "40676    https://apps.apple.com/us/app/kdu-crm/id144254...      Business   \n",
       "1073818  https://apps.apple.com/us/app/selfiemoji/id945...     Utilities   \n",
       "\n",
       "        Content_Rating  Size_Bytes Required_IOS_Version              Released  \\\n",
       "243083              4+  67632128.0                 10.0  2021-02-02T08:00:00Z   \n",
       "40676               4+   8479744.0                 11.0  2019-02-05T17:17:27Z   \n",
       "1073818             4+   4187136.0                  8.0  2015-01-28T11:47:00Z   \n",
       "\n",
       "                      Updated Version  ...  Currency  Free  DeveloperId  \\\n",
       "243083   2021-02-20T17:54:59Z   1.2.7  ...       USD  True   1548233340   \n",
       "40676    2020-09-01T20:48:23Z     4.1  ...       USD  True   1442546797   \n",
       "1073818  2015-07-28T12:55:42Z   2.0.0  ...       USD  True    919972367   \n",
       "\n",
       "                      Developer  \\\n",
       "243083   Los Pinos Hardware Co.   \n",
       "40676             Pravin Angane   \n",
       "1073818                  Bitcot   \n",
       "\n",
       "                                             Developer_Url  \\\n",
       "243083   https://apps.apple.com/us/developer/los-pinos-...   \n",
       "40676    https://apps.apple.com/us/developer/pravin-ang...   \n",
       "1073818  https://apps.apple.com/us/developer/bitcot/id9...   \n",
       "\n",
       "              Developer_Website Average_User_Rating  Reviews  \\\n",
       "243083                      NaN                 0.0        0   \n",
       "40676    http://isconline.co.in                 0.0        0   \n",
       "1073818                     NaN                 0.0        0   \n",
       "\n",
       "         Current_Version_Score  Current_Version_Reviews  \n",
       "243083                     0.0                        0  \n",
       "40676                      0.0                        0  \n",
       "1073818                    0.0                        0  \n",
       "\n",
       "[3 rows x 21 columns]"
      ]
     },
     "execution_count": 6,
     "metadata": {},
     "output_type": "execute_result"
    }
   ],
   "source": [
    "df.sample(3)"
   ]
  },
  {
   "cell_type": "code",
   "execution_count": 7,
   "metadata": {
    "colab": {
     "base_uri": "https://localhost:8080/"
    },
    "executionInfo": {
     "elapsed": 28,
     "status": "ok",
     "timestamp": 1662822129406,
     "user": {
      "displayName": "Pratul Chandra",
      "userId": "06160049637809107783"
     },
     "user_tz": -330
    },
    "id": "mTKLQM6fqGfW",
    "outputId": "381be9cf-5dde-4b3a-eece-d51964ac2706"
   },
   "outputs": [
    {
     "data": {
      "text/plain": [
       "(1230376, 21)"
      ]
     },
     "execution_count": 7,
     "metadata": {},
     "output_type": "execute_result"
    }
   ],
   "source": [
    "# Shape of the Dataset\n",
    "# Rows :  1230376 ; Columns : 21\n",
    "df.shape"
   ]
  },
  {
   "cell_type": "code",
   "execution_count": 8,
   "metadata": {
    "colab": {
     "base_uri": "https://localhost:8080/"
    },
    "executionInfo": {
     "elapsed": 1922,
     "status": "ok",
     "timestamp": 1662822131313,
     "user": {
      "displayName": "Pratul Chandra",
      "userId": "06160049637809107783"
     },
     "user_tz": -330
    },
    "id": "6JjiKJR2kAqc",
    "outputId": "97d7d9c3-e2a4-4c65-ba73-3466cd9ee5e2"
   },
   "outputs": [
    {
     "name": "stdout",
     "output_type": "stream",
     "text": [
      "<class 'pandas.core.frame.DataFrame'>\n",
      "RangeIndex: 1230376 entries, 0 to 1230375\n",
      "Data columns (total 21 columns):\n",
      " #   Column                   Non-Null Count    Dtype  \n",
      "---  ------                   --------------    -----  \n",
      " 0   App_Id                   1230376 non-null  object \n",
      " 1   App_Name                 1230375 non-null  object \n",
      " 2   AppStore_Url             1230376 non-null  object \n",
      " 3   Primary_Genre            1230376 non-null  object \n",
      " 4   Content_Rating           1230376 non-null  object \n",
      " 5   Size_Bytes               1230152 non-null  float64\n",
      " 6   Required_IOS_Version     1230376 non-null  object \n",
      " 7   Released                 1230373 non-null  object \n",
      " 8   Updated                  1230376 non-null  object \n",
      " 9   Version                  1230376 non-null  object \n",
      " 10  Price                    1229886 non-null  float64\n",
      " 11  Currency                 1230376 non-null  object \n",
      " 12  Free                     1230376 non-null  bool   \n",
      " 13  DeveloperId              1230376 non-null  int64  \n",
      " 14  Developer                1230376 non-null  object \n",
      " 15  Developer_Url            1229267 non-null  object \n",
      " 16  Developer_Website        586388 non-null   object \n",
      " 17  Average_User_Rating      1230376 non-null  float64\n",
      " 18  Reviews                  1230376 non-null  int64  \n",
      " 19  Current_Version_Score    1230376 non-null  float64\n",
      " 20  Current_Version_Reviews  1230376 non-null  int64  \n",
      "dtypes: bool(1), float64(4), int64(3), object(13)\n",
      "memory usage: 188.9+ MB\n"
     ]
    }
   ],
   "source": [
    "df.info()"
   ]
  },
  {
   "cell_type": "markdown",
   "metadata": {
    "id": "A85D79LNmiXO"
   },
   "source": [
    "The data contains 4 float, 1 bool, 3 int and 13 objects i.e string formatted columns."
   ]
  },
  {
   "cell_type": "markdown",
   "metadata": {
    "id": "rs2Nv6gCmbUj"
   },
   "source": [
    "Checking for null/nan values."
   ]
  },
  {
   "cell_type": "code",
   "execution_count": 9,
   "metadata": {
    "colab": {
     "base_uri": "https://localhost:8080/"
    },
    "executionInfo": {
     "elapsed": 2041,
     "status": "ok",
     "timestamp": 1662822133349,
     "user": {
      "displayName": "Pratul Chandra",
      "userId": "06160049637809107783"
     },
     "user_tz": -330
    },
    "id": "HcGLuHxdqhtz",
    "outputId": "3eaa1105-0a5d-4eac-a730-a1e9971d18a9"
   },
   "outputs": [
    {
     "data": {
      "text/plain": [
       "App_Id                          0\n",
       "App_Name                        1\n",
       "AppStore_Url                    0\n",
       "Primary_Genre                   0\n",
       "Content_Rating                  0\n",
       "Size_Bytes                    224\n",
       "Required_IOS_Version            0\n",
       "Released                        3\n",
       "Updated                         0\n",
       "Version                         0\n",
       "Price                         490\n",
       "Currency                        0\n",
       "Free                            0\n",
       "DeveloperId                     0\n",
       "Developer                       0\n",
       "Developer_Url                1109\n",
       "Developer_Website          643988\n",
       "Average_User_Rating             0\n",
       "Reviews                         0\n",
       "Current_Version_Score           0\n",
       "Current_Version_Reviews         0\n",
       "dtype: int64"
      ]
     },
     "execution_count": 9,
     "metadata": {},
     "output_type": "execute_result"
    }
   ],
   "source": [
    "df.isna().sum()"
   ]
  },
  {
   "cell_type": "markdown",
   "metadata": {
    "id": "e6D8O2DgnZF2"
   },
   "source": [
    "Droping the columns which are not used in this analysis"
   ]
  },
  {
   "cell_type": "code",
   "execution_count": 10,
   "metadata": {
    "executionInfo": {
     "elapsed": 10,
     "status": "ok",
     "timestamp": 1662822133350,
     "user": {
      "displayName": "Pratul Chandra",
      "userId": "06160049637809107783"
     },
     "user_tz": -330
    },
    "id": "PqsaGo62kAou"
   },
   "outputs": [],
   "source": [
    "removing_col = ['App_Id', 'AppStore_Url','Version','DeveloperId','Current_Version_Score',\n",
    "                'Current_Version_Reviews','Developer_Url','Developer_Website']\n",
    "df.drop(removing_col,axis=1,inplace=True)"
   ]
  },
  {
   "cell_type": "markdown",
   "metadata": {
    "id": "ZRcx_NwlnlQ_"
   },
   "source": [
    "Converting from the column app size in 'Bytes' into 'MegaBytes' and created new column and Rounding multiple decimal values into two."
   ]
  },
  {
   "cell_type": "code",
   "execution_count": 11,
   "metadata": {
    "executionInfo": {
     "elapsed": 10,
     "status": "ok",
     "timestamp": 1662822133351,
     "user": {
      "displayName": "Pratul Chandra",
      "userId": "06160049637809107783"
     },
     "user_tz": -330
    },
    "id": "qZn2adhXkAnG"
   },
   "outputs": [],
   "source": [
    "df['Size_MB']= round(df.Size_Bytes*0.000001, 2)\n",
    "df['Average_User_Rating']= round(df.Average_User_Rating, 2)"
   ]
  },
  {
   "cell_type": "markdown",
   "metadata": {
    "id": "qMXOmuBCn0yw"
   },
   "source": [
    "Now the 'Size_Bytes' column is no longer needed"
   ]
  },
  {
   "cell_type": "code",
   "execution_count": 12,
   "metadata": {
    "executionInfo": {
     "elapsed": 500,
     "status": "ok",
     "timestamp": 1662822133842,
     "user": {
      "displayName": "Pratul Chandra",
      "userId": "06160049637809107783"
     },
     "user_tz": -330
    },
    "id": "wT8CLWJokAdk"
   },
   "outputs": [],
   "source": [
    "df.drop('Size_Bytes',axis=1,inplace=True)"
   ]
  },
  {
   "cell_type": "markdown",
   "metadata": {
    "id": "KXfTtNZ5n4N5"
   },
   "source": [
    "Converting datatype of 'Released' and 'Updated' column to DateTime. Previously it was an object"
   ]
  },
  {
   "cell_type": "code",
   "execution_count": 13,
   "metadata": {
    "executionInfo": {
     "elapsed": 3528,
     "status": "ok",
     "timestamp": 1662822137364,
     "user": {
      "displayName": "Pratul Chandra",
      "userId": "06160049637809107783"
     },
     "user_tz": -330
    },
    "id": "OG12CJpykAbB"
   },
   "outputs": [],
   "source": [
    "df['Released']= pd.to_datetime(df['Released'])\n",
    "df['Updated']= pd.to_datetime(df['Updated'])"
   ]
  },
  {
   "cell_type": "markdown",
   "metadata": {
    "id": "k97l6i_wn_ue"
   },
   "source": [
    "Seems like the column as sum null values in it"
   ]
  },
  {
   "cell_type": "code",
   "execution_count": 14,
   "metadata": {
    "colab": {
     "base_uri": "https://localhost:8080/",
     "height": 312
    },
    "executionInfo": {
     "elapsed": 32,
     "status": "ok",
     "timestamp": 1662822137370,
     "user": {
      "displayName": "Pratul Chandra",
      "userId": "06160049637809107783"
     },
     "user_tz": -330
    },
    "id": "aaCmjO-QkAYJ",
    "outputId": "8ac0ff03-2822-47ce-e7bd-8c5581610d6b"
   },
   "outputs": [
    {
     "data": {
      "text/html": [
       "\n",
       "  <div id=\"df-1b07f5a2-52b8-4019-831f-dc6916ad9728\">\n",
       "    <div class=\"colab-df-container\">\n",
       "      <div>\n",
       "<style scoped>\n",
       "    .dataframe tbody tr th:only-of-type {\n",
       "        vertical-align: middle;\n",
       "    }\n",
       "\n",
       "    .dataframe tbody tr th {\n",
       "        vertical-align: top;\n",
       "    }\n",
       "\n",
       "    .dataframe thead th {\n",
       "        text-align: right;\n",
       "    }\n",
       "</style>\n",
       "<table border=\"1\" class=\"dataframe\">\n",
       "  <thead>\n",
       "    <tr style=\"text-align: right;\">\n",
       "      <th></th>\n",
       "      <th>App_Name</th>\n",
       "      <th>Primary_Genre</th>\n",
       "      <th>Content_Rating</th>\n",
       "      <th>Required_IOS_Version</th>\n",
       "      <th>Released</th>\n",
       "      <th>Updated</th>\n",
       "      <th>Price</th>\n",
       "      <th>Currency</th>\n",
       "      <th>Free</th>\n",
       "      <th>Developer</th>\n",
       "      <th>Average_User_Rating</th>\n",
       "      <th>Reviews</th>\n",
       "      <th>Size_MB</th>\n",
       "    </tr>\n",
       "  </thead>\n",
       "  <tbody>\n",
       "    <tr>\n",
       "      <th>264853</th>\n",
       "      <td>Kingdom Rush Frontiers TD+</td>\n",
       "      <td>Games</td>\n",
       "      <td>12+</td>\n",
       "      <td>13.0</td>\n",
       "      <td>NaT</td>\n",
       "      <td>2021-11-12 08:00:00+00:00</td>\n",
       "      <td>NaN</td>\n",
       "      <td>USD</td>\n",
       "      <td>False</td>\n",
       "      <td>Ironhide Irl</td>\n",
       "      <td>0.0</td>\n",
       "      <td>0</td>\n",
       "      <td>NaN</td>\n",
       "    </tr>\n",
       "    <tr>\n",
       "      <th>836858</th>\n",
       "      <td>Transformers: Tactical Arena</td>\n",
       "      <td>Games</td>\n",
       "      <td>9+</td>\n",
       "      <td>13.5.0</td>\n",
       "      <td>NaT</td>\n",
       "      <td>2021-11-05 07:00:00+00:00</td>\n",
       "      <td>NaN</td>\n",
       "      <td>USD</td>\n",
       "      <td>False</td>\n",
       "      <td>RED GAMES CO, LLC</td>\n",
       "      <td>0.0</td>\n",
       "      <td>0</td>\n",
       "      <td>NaN</td>\n",
       "    </tr>\n",
       "    <tr>\n",
       "      <th>919513</th>\n",
       "      <td>Crayola Create and Play+</td>\n",
       "      <td>Games</td>\n",
       "      <td>4+</td>\n",
       "      <td>13</td>\n",
       "      <td>NaT</td>\n",
       "      <td>2021-10-29 07:00:00+00:00</td>\n",
       "      <td>NaN</td>\n",
       "      <td>USD</td>\n",
       "      <td>False</td>\n",
       "      <td>RED GAMES CO, LLC</td>\n",
       "      <td>0.0</td>\n",
       "      <td>0</td>\n",
       "      <td>NaN</td>\n",
       "    </tr>\n",
       "  </tbody>\n",
       "</table>\n",
       "</div>\n",
       "      <button class=\"colab-df-convert\" onclick=\"convertToInteractive('df-1b07f5a2-52b8-4019-831f-dc6916ad9728')\"\n",
       "              title=\"Convert this dataframe to an interactive table.\"\n",
       "              style=\"display:none;\">\n",
       "        \n",
       "  <svg xmlns=\"http://www.w3.org/2000/svg\" height=\"24px\"viewBox=\"0 0 24 24\"\n",
       "       width=\"24px\">\n",
       "    <path d=\"M0 0h24v24H0V0z\" fill=\"none\"/>\n",
       "    <path d=\"M18.56 5.44l.94 2.06.94-2.06 2.06-.94-2.06-.94-.94-2.06-.94 2.06-2.06.94zm-11 1L8.5 8.5l.94-2.06 2.06-.94-2.06-.94L8.5 2.5l-.94 2.06-2.06.94zm10 10l.94 2.06.94-2.06 2.06-.94-2.06-.94-.94-2.06-.94 2.06-2.06.94z\"/><path d=\"M17.41 7.96l-1.37-1.37c-.4-.4-.92-.59-1.43-.59-.52 0-1.04.2-1.43.59L10.3 9.45l-7.72 7.72c-.78.78-.78 2.05 0 2.83L4 21.41c.39.39.9.59 1.41.59.51 0 1.02-.2 1.41-.59l7.78-7.78 2.81-2.81c.8-.78.8-2.07 0-2.86zM5.41 20L4 18.59l7.72-7.72 1.47 1.35L5.41 20z\"/>\n",
       "  </svg>\n",
       "      </button>\n",
       "      \n",
       "  <style>\n",
       "    .colab-df-container {\n",
       "      display:flex;\n",
       "      flex-wrap:wrap;\n",
       "      gap: 12px;\n",
       "    }\n",
       "\n",
       "    .colab-df-convert {\n",
       "      background-color: #E8F0FE;\n",
       "      border: none;\n",
       "      border-radius: 50%;\n",
       "      cursor: pointer;\n",
       "      display: none;\n",
       "      fill: #1967D2;\n",
       "      height: 32px;\n",
       "      padding: 0 0 0 0;\n",
       "      width: 32px;\n",
       "    }\n",
       "\n",
       "    .colab-df-convert:hover {\n",
       "      background-color: #E2EBFA;\n",
       "      box-shadow: 0px 1px 2px rgba(60, 64, 67, 0.3), 0px 1px 3px 1px rgba(60, 64, 67, 0.15);\n",
       "      fill: #174EA6;\n",
       "    }\n",
       "\n",
       "    [theme=dark] .colab-df-convert {\n",
       "      background-color: #3B4455;\n",
       "      fill: #D2E3FC;\n",
       "    }\n",
       "\n",
       "    [theme=dark] .colab-df-convert:hover {\n",
       "      background-color: #434B5C;\n",
       "      box-shadow: 0px 1px 3px 1px rgba(0, 0, 0, 0.15);\n",
       "      filter: drop-shadow(0px 1px 2px rgba(0, 0, 0, 0.3));\n",
       "      fill: #FFFFFF;\n",
       "    }\n",
       "  </style>\n",
       "\n",
       "      <script>\n",
       "        const buttonEl =\n",
       "          document.querySelector('#df-1b07f5a2-52b8-4019-831f-dc6916ad9728 button.colab-df-convert');\n",
       "        buttonEl.style.display =\n",
       "          google.colab.kernel.accessAllowed ? 'block' : 'none';\n",
       "\n",
       "        async function convertToInteractive(key) {\n",
       "          const element = document.querySelector('#df-1b07f5a2-52b8-4019-831f-dc6916ad9728');\n",
       "          const dataTable =\n",
       "            await google.colab.kernel.invokeFunction('convertToInteractive',\n",
       "                                                     [key], {});\n",
       "          if (!dataTable) return;\n",
       "\n",
       "          const docLinkHtml = 'Like what you see? Visit the ' +\n",
       "            '<a target=\"_blank\" href=https://colab.research.google.com/notebooks/data_table.ipynb>data table notebook</a>'\n",
       "            + ' to learn more about interactive tables.';\n",
       "          element.innerHTML = '';\n",
       "          dataTable['output_type'] = 'display_data';\n",
       "          await google.colab.output.renderOutput(dataTable, element);\n",
       "          const docLink = document.createElement('div');\n",
       "          docLink.innerHTML = docLinkHtml;\n",
       "          element.appendChild(docLink);\n",
       "        }\n",
       "      </script>\n",
       "    </div>\n",
       "  </div>\n",
       "  "
      ],
      "text/plain": [
       "                            App_Name Primary_Genre Content_Rating  \\\n",
       "264853    Kingdom Rush Frontiers TD+         Games            12+   \n",
       "836858  Transformers: Tactical Arena         Games             9+   \n",
       "919513      Crayola Create and Play+         Games             4+   \n",
       "\n",
       "       Required_IOS_Version Released                   Updated  Price  \\\n",
       "264853                 13.0      NaT 2021-11-12 08:00:00+00:00    NaN   \n",
       "836858               13.5.0      NaT 2021-11-05 07:00:00+00:00    NaN   \n",
       "919513                   13      NaT 2021-10-29 07:00:00+00:00    NaN   \n",
       "\n",
       "       Currency   Free          Developer  Average_User_Rating  Reviews  \\\n",
       "264853      USD  False       Ironhide Irl                  0.0        0   \n",
       "836858      USD  False  RED GAMES CO, LLC                  0.0        0   \n",
       "919513      USD  False  RED GAMES CO, LLC                  0.0        0   \n",
       "\n",
       "        Size_MB  \n",
       "264853      NaN  \n",
       "836858      NaN  \n",
       "919513      NaN  "
      ]
     },
     "execution_count": 14,
     "metadata": {},
     "output_type": "execute_result"
    }
   ],
   "source": [
    "df[df['Released'].isna()]"
   ]
  },
  {
   "cell_type": "markdown",
   "metadata": {
    "id": "GMvg53deoD3i"
   },
   "source": [
    "Dropping the null rows because there are no reviews(users) for the apps which I am considering as invalid apps"
   ]
  },
  {
   "cell_type": "code",
   "execution_count": 15,
   "metadata": {
    "executionInfo": {
     "elapsed": 567,
     "status": "ok",
     "timestamp": 1662822137909,
     "user": {
      "displayName": "Pratul Chandra",
      "userId": "06160049637809107783"
     },
     "user_tz": -330
    },
    "id": "IKQf1IpxkAVQ"
   },
   "outputs": [],
   "source": [
    "df.drop([264853,836858,919513],inplace=True)"
   ]
  },
  {
   "cell_type": "markdown",
   "metadata": {
    "id": "cfex7-acoWvw"
   },
   "source": [
    "In the data there are some paid apps which the price is NaN/null"
   ]
  },
  {
   "cell_type": "code",
   "execution_count": 16,
   "metadata": {
    "colab": {
     "base_uri": "https://localhost:8080/",
     "height": 113
    },
    "executionInfo": {
     "elapsed": 19,
     "status": "ok",
     "timestamp": 1662822137911,
     "user": {
      "displayName": "Pratul Chandra",
      "userId": "06160049637809107783"
     },
     "user_tz": -330
    },
    "id": "i2GWrc8EkASm",
    "outputId": "1c14121d-d806-431a-f816-4f52fcf6796b"
   },
   "outputs": [
    {
     "data": {
      "text/html": [
       "\n",
       "  <div id=\"df-35a7ed5c-0519-4477-9c8a-0ca21ac5c65b\">\n",
       "    <div class=\"colab-df-container\">\n",
       "      <div>\n",
       "<style scoped>\n",
       "    .dataframe tbody tr th:only-of-type {\n",
       "        vertical-align: middle;\n",
       "    }\n",
       "\n",
       "    .dataframe tbody tr th {\n",
       "        vertical-align: top;\n",
       "    }\n",
       "\n",
       "    .dataframe thead th {\n",
       "        text-align: right;\n",
       "    }\n",
       "</style>\n",
       "<table border=\"1\" class=\"dataframe\">\n",
       "  <thead>\n",
       "    <tr style=\"text-align: right;\">\n",
       "      <th></th>\n",
       "      <th>App_Name</th>\n",
       "      <th>Primary_Genre</th>\n",
       "      <th>Content_Rating</th>\n",
       "      <th>Required_IOS_Version</th>\n",
       "      <th>Released</th>\n",
       "      <th>Updated</th>\n",
       "      <th>Price</th>\n",
       "      <th>Currency</th>\n",
       "      <th>Free</th>\n",
       "      <th>Developer</th>\n",
       "      <th>Average_User_Rating</th>\n",
       "      <th>Reviews</th>\n",
       "      <th>Size_MB</th>\n",
       "    </tr>\n",
       "  </thead>\n",
       "  <tbody>\n",
       "  </tbody>\n",
       "</table>\n",
       "</div>\n",
       "      <button class=\"colab-df-convert\" onclick=\"convertToInteractive('df-35a7ed5c-0519-4477-9c8a-0ca21ac5c65b')\"\n",
       "              title=\"Convert this dataframe to an interactive table.\"\n",
       "              style=\"display:none;\">\n",
       "        \n",
       "  <svg xmlns=\"http://www.w3.org/2000/svg\" height=\"24px\"viewBox=\"0 0 24 24\"\n",
       "       width=\"24px\">\n",
       "    <path d=\"M0 0h24v24H0V0z\" fill=\"none\"/>\n",
       "    <path d=\"M18.56 5.44l.94 2.06.94-2.06 2.06-.94-2.06-.94-.94-2.06-.94 2.06-2.06.94zm-11 1L8.5 8.5l.94-2.06 2.06-.94-2.06-.94L8.5 2.5l-.94 2.06-2.06.94zm10 10l.94 2.06.94-2.06 2.06-.94-2.06-.94-.94-2.06-.94 2.06-2.06.94z\"/><path d=\"M17.41 7.96l-1.37-1.37c-.4-.4-.92-.59-1.43-.59-.52 0-1.04.2-1.43.59L10.3 9.45l-7.72 7.72c-.78.78-.78 2.05 0 2.83L4 21.41c.39.39.9.59 1.41.59.51 0 1.02-.2 1.41-.59l7.78-7.78 2.81-2.81c.8-.78.8-2.07 0-2.86zM5.41 20L4 18.59l7.72-7.72 1.47 1.35L5.41 20z\"/>\n",
       "  </svg>\n",
       "      </button>\n",
       "      \n",
       "  <style>\n",
       "    .colab-df-container {\n",
       "      display:flex;\n",
       "      flex-wrap:wrap;\n",
       "      gap: 12px;\n",
       "    }\n",
       "\n",
       "    .colab-df-convert {\n",
       "      background-color: #E8F0FE;\n",
       "      border: none;\n",
       "      border-radius: 50%;\n",
       "      cursor: pointer;\n",
       "      display: none;\n",
       "      fill: #1967D2;\n",
       "      height: 32px;\n",
       "      padding: 0 0 0 0;\n",
       "      width: 32px;\n",
       "    }\n",
       "\n",
       "    .colab-df-convert:hover {\n",
       "      background-color: #E2EBFA;\n",
       "      box-shadow: 0px 1px 2px rgba(60, 64, 67, 0.3), 0px 1px 3px 1px rgba(60, 64, 67, 0.15);\n",
       "      fill: #174EA6;\n",
       "    }\n",
       "\n",
       "    [theme=dark] .colab-df-convert {\n",
       "      background-color: #3B4455;\n",
       "      fill: #D2E3FC;\n",
       "    }\n",
       "\n",
       "    [theme=dark] .colab-df-convert:hover {\n",
       "      background-color: #434B5C;\n",
       "      box-shadow: 0px 1px 3px 1px rgba(0, 0, 0, 0.15);\n",
       "      filter: drop-shadow(0px 1px 2px rgba(0, 0, 0, 0.3));\n",
       "      fill: #FFFFFF;\n",
       "    }\n",
       "  </style>\n",
       "\n",
       "      <script>\n",
       "        const buttonEl =\n",
       "          document.querySelector('#df-35a7ed5c-0519-4477-9c8a-0ca21ac5c65b button.colab-df-convert');\n",
       "        buttonEl.style.display =\n",
       "          google.colab.kernel.accessAllowed ? 'block' : 'none';\n",
       "\n",
       "        async function convertToInteractive(key) {\n",
       "          const element = document.querySelector('#df-35a7ed5c-0519-4477-9c8a-0ca21ac5c65b');\n",
       "          const dataTable =\n",
       "            await google.colab.kernel.invokeFunction('convertToInteractive',\n",
       "                                                     [key], {});\n",
       "          if (!dataTable) return;\n",
       "\n",
       "          const docLinkHtml = 'Like what you see? Visit the ' +\n",
       "            '<a target=\"_blank\" href=https://colab.research.google.com/notebooks/data_table.ipynb>data table notebook</a>'\n",
       "            + ' to learn more about interactive tables.';\n",
       "          element.innerHTML = '';\n",
       "          dataTable['output_type'] = 'display_data';\n",
       "          await google.colab.output.renderOutput(dataTable, element);\n",
       "          const docLink = document.createElement('div');\n",
       "          docLink.innerHTML = docLinkHtml;\n",
       "          element.appendChild(docLink);\n",
       "        }\n",
       "      </script>\n",
       "    </div>\n",
       "  </div>\n",
       "  "
      ],
      "text/plain": [
       "Empty DataFrame\n",
       "Columns: [App_Name, Primary_Genre, Content_Rating, Required_IOS_Version, Released, Updated, Price, Currency, Free, Developer, Average_User_Rating, Reviews, Size_MB]\n",
       "Index: []"
      ]
     },
     "execution_count": 16,
     "metadata": {},
     "output_type": "execute_result"
    }
   ],
   "source": [
    "df.loc[((df.Free==False) & (df['Price'].isnull())), 'Price'] = 0.0 # Converting NaN values to 0\n",
    "df.loc[((df.Free==False) & (df['Price']==0.0)), 'Free'] = True # Converting fake Paid apps into Free apps\n",
    "df[(df.Free==False) & (df['Price']==0.0)]"
   ]
  },
  {
   "cell_type": "code",
   "execution_count": 17,
   "metadata": {
    "colab": {
     "base_uri": "https://localhost:8080/",
     "height": 162
    },
    "executionInfo": {
     "elapsed": 539,
     "status": "ok",
     "timestamp": 1662822138435,
     "user": {
      "displayName": "Pratul Chandra",
      "userId": "06160049637809107783"
     },
     "user_tz": -330
    },
    "id": "GROHYN7ikAOO",
    "outputId": "d613d1dd-d993-4fd1-afb1-e062caaa39a5"
   },
   "outputs": [
    {
     "data": {
      "text/html": [
       "\n",
       "  <div id=\"df-68d0e444-cfd5-47ff-926e-edf5c662873e\">\n",
       "    <div class=\"colab-df-container\">\n",
       "      <div>\n",
       "<style scoped>\n",
       "    .dataframe tbody tr th:only-of-type {\n",
       "        vertical-align: middle;\n",
       "    }\n",
       "\n",
       "    .dataframe tbody tr th {\n",
       "        vertical-align: top;\n",
       "    }\n",
       "\n",
       "    .dataframe thead th {\n",
       "        text-align: right;\n",
       "    }\n",
       "</style>\n",
       "<table border=\"1\" class=\"dataframe\">\n",
       "  <thead>\n",
       "    <tr style=\"text-align: right;\">\n",
       "      <th></th>\n",
       "      <th>App_Name</th>\n",
       "      <th>Primary_Genre</th>\n",
       "      <th>Content_Rating</th>\n",
       "      <th>Required_IOS_Version</th>\n",
       "      <th>Released</th>\n",
       "      <th>Updated</th>\n",
       "      <th>Price</th>\n",
       "      <th>Currency</th>\n",
       "      <th>Free</th>\n",
       "      <th>Developer</th>\n",
       "      <th>Average_User_Rating</th>\n",
       "      <th>Reviews</th>\n",
       "      <th>Size_MB</th>\n",
       "    </tr>\n",
       "  </thead>\n",
       "  <tbody>\n",
       "    <tr>\n",
       "      <th>964888</th>\n",
       "      <td>NaN</td>\n",
       "      <td>News</td>\n",
       "      <td>4+</td>\n",
       "      <td>9.0</td>\n",
       "      <td>2011-08-08 11:45:30+00:00</td>\n",
       "      <td>2020-12-21 14:08:02+00:00</td>\n",
       "      <td>0.0</td>\n",
       "      <td>USD</td>\n",
       "      <td>True</td>\n",
       "      <td>Promedia</td>\n",
       "      <td>5.0</td>\n",
       "      <td>1</td>\n",
       "      <td>19.53</td>\n",
       "    </tr>\n",
       "  </tbody>\n",
       "</table>\n",
       "</div>\n",
       "      <button class=\"colab-df-convert\" onclick=\"convertToInteractive('df-68d0e444-cfd5-47ff-926e-edf5c662873e')\"\n",
       "              title=\"Convert this dataframe to an interactive table.\"\n",
       "              style=\"display:none;\">\n",
       "        \n",
       "  <svg xmlns=\"http://www.w3.org/2000/svg\" height=\"24px\"viewBox=\"0 0 24 24\"\n",
       "       width=\"24px\">\n",
       "    <path d=\"M0 0h24v24H0V0z\" fill=\"none\"/>\n",
       "    <path d=\"M18.56 5.44l.94 2.06.94-2.06 2.06-.94-2.06-.94-.94-2.06-.94 2.06-2.06.94zm-11 1L8.5 8.5l.94-2.06 2.06-.94-2.06-.94L8.5 2.5l-.94 2.06-2.06.94zm10 10l.94 2.06.94-2.06 2.06-.94-2.06-.94-.94-2.06-.94 2.06-2.06.94z\"/><path d=\"M17.41 7.96l-1.37-1.37c-.4-.4-.92-.59-1.43-.59-.52 0-1.04.2-1.43.59L10.3 9.45l-7.72 7.72c-.78.78-.78 2.05 0 2.83L4 21.41c.39.39.9.59 1.41.59.51 0 1.02-.2 1.41-.59l7.78-7.78 2.81-2.81c.8-.78.8-2.07 0-2.86zM5.41 20L4 18.59l7.72-7.72 1.47 1.35L5.41 20z\"/>\n",
       "  </svg>\n",
       "      </button>\n",
       "      \n",
       "  <style>\n",
       "    .colab-df-container {\n",
       "      display:flex;\n",
       "      flex-wrap:wrap;\n",
       "      gap: 12px;\n",
       "    }\n",
       "\n",
       "    .colab-df-convert {\n",
       "      background-color: #E8F0FE;\n",
       "      border: none;\n",
       "      border-radius: 50%;\n",
       "      cursor: pointer;\n",
       "      display: none;\n",
       "      fill: #1967D2;\n",
       "      height: 32px;\n",
       "      padding: 0 0 0 0;\n",
       "      width: 32px;\n",
       "    }\n",
       "\n",
       "    .colab-df-convert:hover {\n",
       "      background-color: #E2EBFA;\n",
       "      box-shadow: 0px 1px 2px rgba(60, 64, 67, 0.3), 0px 1px 3px 1px rgba(60, 64, 67, 0.15);\n",
       "      fill: #174EA6;\n",
       "    }\n",
       "\n",
       "    [theme=dark] .colab-df-convert {\n",
       "      background-color: #3B4455;\n",
       "      fill: #D2E3FC;\n",
       "    }\n",
       "\n",
       "    [theme=dark] .colab-df-convert:hover {\n",
       "      background-color: #434B5C;\n",
       "      box-shadow: 0px 1px 3px 1px rgba(0, 0, 0, 0.15);\n",
       "      filter: drop-shadow(0px 1px 2px rgba(0, 0, 0, 0.3));\n",
       "      fill: #FFFFFF;\n",
       "    }\n",
       "  </style>\n",
       "\n",
       "      <script>\n",
       "        const buttonEl =\n",
       "          document.querySelector('#df-68d0e444-cfd5-47ff-926e-edf5c662873e button.colab-df-convert');\n",
       "        buttonEl.style.display =\n",
       "          google.colab.kernel.accessAllowed ? 'block' : 'none';\n",
       "\n",
       "        async function convertToInteractive(key) {\n",
       "          const element = document.querySelector('#df-68d0e444-cfd5-47ff-926e-edf5c662873e');\n",
       "          const dataTable =\n",
       "            await google.colab.kernel.invokeFunction('convertToInteractive',\n",
       "                                                     [key], {});\n",
       "          if (!dataTable) return;\n",
       "\n",
       "          const docLinkHtml = 'Like what you see? Visit the ' +\n",
       "            '<a target=\"_blank\" href=https://colab.research.google.com/notebooks/data_table.ipynb>data table notebook</a>'\n",
       "            + ' to learn more about interactive tables.';\n",
       "          element.innerHTML = '';\n",
       "          dataTable['output_type'] = 'display_data';\n",
       "          await google.colab.output.renderOutput(dataTable, element);\n",
       "          const docLink = document.createElement('div');\n",
       "          docLink.innerHTML = docLinkHtml;\n",
       "          element.appendChild(docLink);\n",
       "        }\n",
       "      </script>\n",
       "    </div>\n",
       "  </div>\n",
       "  "
      ],
      "text/plain": [
       "       App_Name Primary_Genre Content_Rating Required_IOS_Version  \\\n",
       "964888      NaN          News             4+                  9.0   \n",
       "\n",
       "                        Released                   Updated  Price Currency  \\\n",
       "964888 2011-08-08 11:45:30+00:00 2020-12-21 14:08:02+00:00    0.0      USD   \n",
       "\n",
       "        Free Developer  Average_User_Rating  Reviews  Size_MB  \n",
       "964888  True  Promedia                  5.0        1    19.53  "
      ]
     },
     "execution_count": 17,
     "metadata": {},
     "output_type": "execute_result"
    }
   ],
   "source": [
    "# One App name has NaN value\n",
    "df[df['App_Name'].isna()]"
   ]
  },
  {
   "cell_type": "code",
   "execution_count": 18,
   "metadata": {
    "executionInfo": {
     "elapsed": 31,
     "status": "ok",
     "timestamp": 1662822138437,
     "user": {
      "displayName": "Pratul Chandra",
      "userId": "06160049637809107783"
     },
     "user_tz": -330
    },
    "id": "ERd0PQZikAME"
   },
   "outputs": [],
   "source": [
    "df.at[964888,'App_Name']= 'Unkonown App' # Named that null value to Unknown app"
   ]
  },
  {
   "cell_type": "markdown",
   "metadata": {
    "id": "oftfBMf4oqPC"
   },
   "source": [
    "There are 221 null values in size column"
   ]
  },
  {
   "cell_type": "code",
   "execution_count": 19,
   "metadata": {
    "colab": {
     "base_uri": "https://localhost:8080/"
    },
    "executionInfo": {
     "elapsed": 31,
     "status": "ok",
     "timestamp": 1662822138438,
     "user": {
      "displayName": "Pratul Chandra",
      "userId": "06160049637809107783"
     },
     "user_tz": -330
    },
    "id": "pzGPQ_epkAJe",
    "outputId": "58516626-bef1-4296-ed0e-de92d072b681"
   },
   "outputs": [
    {
     "data": {
      "text/plain": [
       "(221, 13)"
      ]
     },
     "execution_count": 19,
     "metadata": {},
     "output_type": "execute_result"
    }
   ],
   "source": [
    "df[df['Size_MB'].isnull()].shape"
   ]
  },
  {
   "cell_type": "markdown",
   "metadata": {
    "id": "fx-BFbnfoz5F"
   },
   "source": [
    "Replacing the null values with randomn value size of 50.0 mb."
   ]
  },
  {
   "cell_type": "code",
   "execution_count": 20,
   "metadata": {
    "executionInfo": {
     "elapsed": 18,
     "status": "ok",
     "timestamp": 1662822138439,
     "user": {
      "displayName": "Pratul Chandra",
      "userId": "06160049637809107783"
     },
     "user_tz": -330
    },
    "id": "2ytTwl9IkAG0"
   },
   "outputs": [],
   "source": [
    "df.loc[df['Size_MB'].isnull(), 'Size_MB'] = 50.0"
   ]
  },
  {
   "cell_type": "markdown",
   "metadata": {
    "id": "SEMEMn0do7eJ"
   },
   "source": [
    "This data was released in the month of Oct 2021, possibly there might be false data that in the year 2022, So dropping the data of app releases in the year 2022."
   ]
  },
  {
   "cell_type": "code",
   "execution_count": 21,
   "metadata": {
    "executionInfo": {
     "elapsed": 569,
     "status": "ok",
     "timestamp": 1662822138992,
     "user": {
      "displayName": "Pratul Chandra",
      "userId": "06160049637809107783"
     },
     "user_tz": -330
    },
    "id": "oZOeI5RbjHrJ"
   },
   "outputs": [],
   "source": [
    "df.drop(df[df['Released'].dt.year==2022].index, inplace=True)"
   ]
  },
  {
   "cell_type": "markdown",
   "metadata": {
    "id": "EKrZwz3GprQc"
   },
   "source": [
    "Cleaned and processed data"
   ]
  },
  {
   "cell_type": "code",
   "execution_count": 22,
   "metadata": {
    "colab": {
     "base_uri": "https://localhost:8080/"
    },
    "executionInfo": {
     "elapsed": 5042,
     "status": "ok",
     "timestamp": 1662822144019,
     "user": {
      "displayName": "Pratul Chandra",
      "userId": "06160049637809107783"
     },
     "user_tz": -330
    },
    "id": "0vWxSOyRkAER",
    "outputId": "e776aa42-3396-4de8-a648-f2350a53499b"
   },
   "outputs": [
    {
     "name": "stdout",
     "output_type": "stream",
     "text": [
      "Shape : (1230315, 13) \n",
      "\n",
      "\n",
      " Duplicate values : 0 \n",
      "\n",
      "Missing Data :\n",
      " App_Name                0\n",
      "Primary_Genre           0\n",
      "Content_Rating          0\n",
      "Required_IOS_Version    0\n",
      "Released                0\n",
      "Updated                 0\n",
      "Price                   0\n",
      "Currency                0\n",
      "Free                    0\n",
      "Developer               0\n",
      "Average_User_Rating     0\n",
      "Reviews                 0\n",
      "Size_MB                 0\n",
      "dtype: int64\n"
     ]
    }
   ],
   "source": [
    "print(\"Shape :\", df.shape,\"\\n\")\n",
    "print(\"\\n Duplicate values :\", df.duplicated().sum(),\"\\n\")\n",
    "print(\"Missing Data :\\n\", df.isna().sum())"
   ]
  },
  {
   "cell_type": "markdown",
   "metadata": {
    "id": "iTKCEvAw2B8P"
   },
   "source": [
    "## -> Univariate Analysis and Visualization.\n",
    "\n",
    "Analysis is done to understand the data and get a overview of the situation we get into. Visualizing is the most effective way to understand anything it empowers us to communicate stories more effectively."
   ]
  },
  {
   "cell_type": "markdown",
   "metadata": {
    "id": "EEPrKz_GvI6x"
   },
   "source": [
    "Installing appropriate packages for visualizing data"
   ]
  },
  {
   "cell_type": "code",
   "execution_count": 23,
   "metadata": {
    "colab": {
     "base_uri": "https://localhost:8080/"
    },
    "executionInfo": {
     "elapsed": 40723,
     "status": "ok",
     "timestamp": 1662822184725,
     "user": {
      "displayName": "Pratul Chandra",
      "userId": "06160049637809107783"
     },
     "user_tz": -330
    },
    "id": "QyAaUpgUkAB3",
    "outputId": "8dd89efc-dbe3-425d-bb22-86a7d1f98b6c"
   },
   "outputs": [
    {
     "name": "stdout",
     "output_type": "stream",
     "text": [
      "\u001b[K     |████████████████████████████████| 15.2 MB 15.8 MB/s \n",
      "\u001b[?25h"
     ]
    }
   ],
   "source": [
    "#!pip uninstall matplotlib\n",
    "#!pip install matplotlib --upgrade --quiet\n",
    "!pip install seaborn matplotlib==3.2.2 --quiet\n",
    "!pip install plotly altair --upgrade --quiet"
   ]
  },
  {
   "cell_type": "markdown",
   "metadata": {
    "id": "gefw9Bsbwqmm"
   },
   "source": [
    "Importing Appropriate Libraries"
   ]
  },
  {
   "cell_type": "code",
   "execution_count": 24,
   "metadata": {
    "executionInfo": {
     "elapsed": 1978,
     "status": "ok",
     "timestamp": 1662822186681,
     "user": {
      "displayName": "Pratul Chandra",
      "userId": "06160049637809107783"
     },
     "user_tz": -330
    },
    "id": "K4GaL_9Ej_--"
   },
   "outputs": [],
   "source": [
    "# For creating interactive visualizations\n",
    "import altair as alt\n",
    "import plotly.express as px\n",
    "import plotly.graph_objects as go\n",
    "# For creating static visualizations in Python\n",
    "import matplotlib.pyplot as plt\n",
    "# A high-level interface for drawing informative statistical graphics.\n",
    "import seaborn as sns\n",
    "# Numerical computing library\n",
    "import numpy as np\n",
    "#  It turns on “inline plotting”, where plot graphics will appear in your notebook\n",
    "%matplotlib inline"
   ]
  },
  {
   "cell_type": "markdown",
   "metadata": {
    "id": "0Vk7MZIOwtMD"
   },
   "source": [
    "Columns in the cleaned dataset"
   ]
  },
  {
   "cell_type": "code",
   "execution_count": 25,
   "metadata": {
    "colab": {
     "base_uri": "https://localhost:8080/"
    },
    "executionInfo": {
     "elapsed": 26,
     "status": "ok",
     "timestamp": 1662822186682,
     "user": {
      "displayName": "Pratul Chandra",
      "userId": "06160049637809107783"
     },
     "user_tz": -330
    },
    "id": "PoUdwUSpj_8A",
    "outputId": "995307e7-b88e-45cc-beea-7ad5e8834b5d"
   },
   "outputs": [
    {
     "data": {
      "text/plain": [
       "Index(['App_Name', 'Primary_Genre', 'Content_Rating', 'Required_IOS_Version',\n",
       "       'Released', 'Updated', 'Price', 'Currency', 'Free', 'Developer',\n",
       "       'Average_User_Rating', 'Reviews', 'Size_MB'],\n",
       "      dtype='object')"
      ]
     },
     "execution_count": 25,
     "metadata": {},
     "output_type": "execute_result"
    }
   ],
   "source": [
    "df.columns"
   ]
  },
  {
   "cell_type": "markdown",
   "metadata": {
    "id": "3dfKc_K3nyIT"
   },
   "source": [
    "There are 13 columns"
   ]
  },
  {
   "cell_type": "code",
   "execution_count": 26,
   "metadata": {
    "colab": {
     "base_uri": "https://localhost:8080/",
     "height": 300
    },
    "executionInfo": {
     "elapsed": 20,
     "status": "ok",
     "timestamp": 1662822186683,
     "user": {
      "displayName": "Pratul Chandra",
      "userId": "06160049637809107783"
     },
     "user_tz": -330
    },
    "id": "jwFl-E4gj_5m",
    "outputId": "1f2c1fb1-6fd4-42a7-99ef-52bee635a403"
   },
   "outputs": [
    {
     "data": {
      "text/html": [
       "\n",
       "  <div id=\"df-b9dd463a-343b-4314-bcd8-4d1c801cbd48\">\n",
       "    <div class=\"colab-df-container\">\n",
       "      <div>\n",
       "<style scoped>\n",
       "    .dataframe tbody tr th:only-of-type {\n",
       "        vertical-align: middle;\n",
       "    }\n",
       "\n",
       "    .dataframe tbody tr th {\n",
       "        vertical-align: top;\n",
       "    }\n",
       "\n",
       "    .dataframe thead th {\n",
       "        text-align: right;\n",
       "    }\n",
       "</style>\n",
       "<table border=\"1\" class=\"dataframe\">\n",
       "  <thead>\n",
       "    <tr style=\"text-align: right;\">\n",
       "      <th></th>\n",
       "      <th>Price</th>\n",
       "      <th>Average_User_Rating</th>\n",
       "      <th>Reviews</th>\n",
       "      <th>Size_MB</th>\n",
       "    </tr>\n",
       "  </thead>\n",
       "  <tbody>\n",
       "    <tr>\n",
       "      <th>count</th>\n",
       "      <td>1.230315e+06</td>\n",
       "      <td>1.230315e+06</td>\n",
       "      <td>1.230315e+06</td>\n",
       "      <td>1.230315e+06</td>\n",
       "    </tr>\n",
       "    <tr>\n",
       "      <th>mean</th>\n",
       "      <td>5.039506e-01</td>\n",
       "      <td>1.788491e+00</td>\n",
       "      <td>8.259887e+02</td>\n",
       "      <td>7.509612e+01</td>\n",
       "    </tr>\n",
       "    <tr>\n",
       "      <th>std</th>\n",
       "      <td>6.868483e+00</td>\n",
       "      <td>2.154146e+00</td>\n",
       "      <td>5.016176e+04</td>\n",
       "      <td>2.318429e+02</td>\n",
       "    </tr>\n",
       "    <tr>\n",
       "      <th>min</th>\n",
       "      <td>0.000000e+00</td>\n",
       "      <td>0.000000e+00</td>\n",
       "      <td>0.000000e+00</td>\n",
       "      <td>3.000000e-02</td>\n",
       "    </tr>\n",
       "    <tr>\n",
       "      <th>25%</th>\n",
       "      <td>0.000000e+00</td>\n",
       "      <td>0.000000e+00</td>\n",
       "      <td>0.000000e+00</td>\n",
       "      <td>2.042000e+01</td>\n",
       "    </tr>\n",
       "    <tr>\n",
       "      <th>50%</th>\n",
       "      <td>0.000000e+00</td>\n",
       "      <td>0.000000e+00</td>\n",
       "      <td>0.000000e+00</td>\n",
       "      <td>4.334000e+01</td>\n",
       "    </tr>\n",
       "    <tr>\n",
       "      <th>75%</th>\n",
       "      <td>0.000000e+00</td>\n",
       "      <td>4.330000e+00</td>\n",
       "      <td>3.000000e+00</td>\n",
       "      <td>8.364000e+01</td>\n",
       "    </tr>\n",
       "    <tr>\n",
       "      <th>max</th>\n",
       "      <td>9.999900e+02</td>\n",
       "      <td>5.000000e+00</td>\n",
       "      <td>2.268533e+07</td>\n",
       "      <td>7.677945e+04</td>\n",
       "    </tr>\n",
       "  </tbody>\n",
       "</table>\n",
       "</div>\n",
       "      <button class=\"colab-df-convert\" onclick=\"convertToInteractive('df-b9dd463a-343b-4314-bcd8-4d1c801cbd48')\"\n",
       "              title=\"Convert this dataframe to an interactive table.\"\n",
       "              style=\"display:none;\">\n",
       "        \n",
       "  <svg xmlns=\"http://www.w3.org/2000/svg\" height=\"24px\"viewBox=\"0 0 24 24\"\n",
       "       width=\"24px\">\n",
       "    <path d=\"M0 0h24v24H0V0z\" fill=\"none\"/>\n",
       "    <path d=\"M18.56 5.44l.94 2.06.94-2.06 2.06-.94-2.06-.94-.94-2.06-.94 2.06-2.06.94zm-11 1L8.5 8.5l.94-2.06 2.06-.94-2.06-.94L8.5 2.5l-.94 2.06-2.06.94zm10 10l.94 2.06.94-2.06 2.06-.94-2.06-.94-.94-2.06-.94 2.06-2.06.94z\"/><path d=\"M17.41 7.96l-1.37-1.37c-.4-.4-.92-.59-1.43-.59-.52 0-1.04.2-1.43.59L10.3 9.45l-7.72 7.72c-.78.78-.78 2.05 0 2.83L4 21.41c.39.39.9.59 1.41.59.51 0 1.02-.2 1.41-.59l7.78-7.78 2.81-2.81c.8-.78.8-2.07 0-2.86zM5.41 20L4 18.59l7.72-7.72 1.47 1.35L5.41 20z\"/>\n",
       "  </svg>\n",
       "      </button>\n",
       "      \n",
       "  <style>\n",
       "    .colab-df-container {\n",
       "      display:flex;\n",
       "      flex-wrap:wrap;\n",
       "      gap: 12px;\n",
       "    }\n",
       "\n",
       "    .colab-df-convert {\n",
       "      background-color: #E8F0FE;\n",
       "      border: none;\n",
       "      border-radius: 50%;\n",
       "      cursor: pointer;\n",
       "      display: none;\n",
       "      fill: #1967D2;\n",
       "      height: 32px;\n",
       "      padding: 0 0 0 0;\n",
       "      width: 32px;\n",
       "    }\n",
       "\n",
       "    .colab-df-convert:hover {\n",
       "      background-color: #E2EBFA;\n",
       "      box-shadow: 0px 1px 2px rgba(60, 64, 67, 0.3), 0px 1px 3px 1px rgba(60, 64, 67, 0.15);\n",
       "      fill: #174EA6;\n",
       "    }\n",
       "\n",
       "    [theme=dark] .colab-df-convert {\n",
       "      background-color: #3B4455;\n",
       "      fill: #D2E3FC;\n",
       "    }\n",
       "\n",
       "    [theme=dark] .colab-df-convert:hover {\n",
       "      background-color: #434B5C;\n",
       "      box-shadow: 0px 1px 3px 1px rgba(0, 0, 0, 0.15);\n",
       "      filter: drop-shadow(0px 1px 2px rgba(0, 0, 0, 0.3));\n",
       "      fill: #FFFFFF;\n",
       "    }\n",
       "  </style>\n",
       "\n",
       "      <script>\n",
       "        const buttonEl =\n",
       "          document.querySelector('#df-b9dd463a-343b-4314-bcd8-4d1c801cbd48 button.colab-df-convert');\n",
       "        buttonEl.style.display =\n",
       "          google.colab.kernel.accessAllowed ? 'block' : 'none';\n",
       "\n",
       "        async function convertToInteractive(key) {\n",
       "          const element = document.querySelector('#df-b9dd463a-343b-4314-bcd8-4d1c801cbd48');\n",
       "          const dataTable =\n",
       "            await google.colab.kernel.invokeFunction('convertToInteractive',\n",
       "                                                     [key], {});\n",
       "          if (!dataTable) return;\n",
       "\n",
       "          const docLinkHtml = 'Like what you see? Visit the ' +\n",
       "            '<a target=\"_blank\" href=https://colab.research.google.com/notebooks/data_table.ipynb>data table notebook</a>'\n",
       "            + ' to learn more about interactive tables.';\n",
       "          element.innerHTML = '';\n",
       "          dataTable['output_type'] = 'display_data';\n",
       "          await google.colab.output.renderOutput(dataTable, element);\n",
       "          const docLink = document.createElement('div');\n",
       "          docLink.innerHTML = docLinkHtml;\n",
       "          element.appendChild(docLink);\n",
       "        }\n",
       "      </script>\n",
       "    </div>\n",
       "  </div>\n",
       "  "
      ],
      "text/plain": [
       "              Price  Average_User_Rating       Reviews       Size_MB\n",
       "count  1.230315e+06         1.230315e+06  1.230315e+06  1.230315e+06\n",
       "mean   5.039506e-01         1.788491e+00  8.259887e+02  7.509612e+01\n",
       "std    6.868483e+00         2.154146e+00  5.016176e+04  2.318429e+02\n",
       "min    0.000000e+00         0.000000e+00  0.000000e+00  3.000000e-02\n",
       "25%    0.000000e+00         0.000000e+00  0.000000e+00  2.042000e+01\n",
       "50%    0.000000e+00         0.000000e+00  0.000000e+00  4.334000e+01\n",
       "75%    0.000000e+00         4.330000e+00  3.000000e+00  8.364000e+01\n",
       "max    9.999900e+02         5.000000e+00  2.268533e+07  7.677945e+04"
      ]
     },
     "execution_count": 26,
     "metadata": {},
     "output_type": "execute_result"
    }
   ],
   "source": [
    "df.describe()"
   ]
  },
  {
   "cell_type": "markdown",
   "metadata": {
    "id": "v4xt9zs0y2DZ"
   },
   "source": [
    "Price: Min= 0 Max= 999.99\n",
    "\n",
    "Size: Min= 0.3mb Max= 7.6gb"
   ]
  },
  {
   "cell_type": "markdown",
   "metadata": {
    "id": "Mh3JPCIYz7K2"
   },
   "source": [
    "### Content Rating \n",
    "\n",
    "This column contains age limit for each app."
   ]
  },
  {
   "cell_type": "code",
   "execution_count": 27,
   "metadata": {
    "colab": {
     "base_uri": "https://localhost:8080/",
     "height": 458
    },
    "executionInfo": {
     "elapsed": 591,
     "status": "ok",
     "timestamp": 1662822187257,
     "user": {
      "displayName": "Pratul Chandra",
      "userId": "06160049637809107783"
     },
     "user_tz": -330
    },
    "id": "RUiel0hMj_2q",
    "outputId": "0d807adc-da04-4447-b7d0-1cefb36f9fa8"
   },
   "outputs": [
    {
     "data": {
      "image/png": "[encoded data removed]",
      "text/plain": [
       "<Figure size 720x504 with 1 Axes>"
      ]
     },
     "metadata": {
      "needs_background": "light"
     },
     "output_type": "display_data"
    }
   ],
   "source": [
    "c_r= df.Content_Rating.value_counts().reset_index()\n",
    "c_r.columns=['Content Rating', 'App Count']\n",
    "\n",
    "fig,ax= plt.subplots(figsize=(10,7))\n",
    "plt.title(\"No of Apps per Content Rating\")\n",
    "sns.barplot(x = c_r['Content Rating'],y = c_r['App Count'], data=c_r)\n",
    "ax.set_ylim(0, 999999);"
   ]
  },
  {
   "cell_type": "markdown",
   "metadata": {
    "id": "y98Wah4TogUh"
   },
   "source": [
    "> Apps rated 4+ contain no objectionable material.\n",
    "\n",
    "> Apps rated 9+ may contain instances of content that may not be suitable for children under the age of 9.\n",
    "\n",
    "> Apps rated 12+ may contain instances of content that may not be suitable for children under the age of 12. \n",
    "\n",
    "> Apps rated 17+ may contain instances of content that may not be suitable for minors under the age of 17.\n",
    "\n",
    "Large amount of the apps are present in 4+ content rating"
   ]
  },
  {
   "cell_type": "markdown",
   "metadata": {
    "id": "2GBYYPXE0W6q"
   },
   "source": [
    "### Repeating app names\n",
    "There several apps that have same names"
   ]
  },
  {
   "cell_type": "code",
   "execution_count": 28,
   "metadata": {
    "colab": {
     "base_uri": "https://localhost:8080/"
    },
    "executionInfo": {
     "elapsed": 847,
     "status": "ok",
     "timestamp": 1662822189708,
     "user": {
      "displayName": "Pratul Chandra",
      "userId": "06160049637809107783"
     },
     "user_tz": -330
    },
    "id": "e9NgK48cj_wo",
    "outputId": "53fdfe3e-f3cc-49ab-bc8e-4f07e97e45da"
   },
   "outputs": [
    {
     "data": {
      "text/plain": [
       "Vanguard                        6\n",
       "Bloom                           5\n",
       "Linker                          5\n",
       "Flow                            4\n",
       "Settle                          4\n",
       "                               ..\n",
       "Popstar Crush消星星爱上消消乐           1\n",
       "Popstar Bubbles - Brain Game    1\n",
       "Popstar Blast                   1\n",
       "PopStar 3                       1\n",
       "Sổ Điểm Thông Minh              1\n",
       "Name: App_Name, Length: 1223450, dtype: int64"
      ]
     },
     "execution_count": 28,
     "metadata": {},
     "output_type": "execute_result"
    }
   ],
   "source": [
    "df.App_Name.value_counts()"
   ]
  },
  {
   "cell_type": "markdown",
   "metadata": {
    "id": "i-xh_B940rGl"
   },
   "source": [
    "Seems like a valid data because the app has different vendors and also from different category"
   ]
  },
  {
   "cell_type": "code",
   "execution_count": 29,
   "metadata": {
    "colab": {
     "base_uri": "https://localhost:8080/",
     "height": 423
    },
    "executionInfo": {
     "elapsed": 15,
     "status": "ok",
     "timestamp": 1662822189709,
     "user": {
      "displayName": "Pratul Chandra",
      "userId": "06160049637809107783"
     },
     "user_tz": -330
    },
    "id": "9kgMZmgc5mWs",
    "outputId": "c254f538-b3d8-4ee4-82fd-5241a44f8776"
   },
   "outputs": [
    {
     "data": {
      "text/html": [
       "\n",
       "  <div id=\"df-1d6e2043-31a2-482d-8ee7-8663b8bac06f\">\n",
       "    <div class=\"colab-df-container\">\n",
       "      <div>\n",
       "<style scoped>\n",
       "    .dataframe tbody tr th:only-of-type {\n",
       "        vertical-align: middle;\n",
       "    }\n",
       "\n",
       "    .dataframe tbody tr th {\n",
       "        vertical-align: top;\n",
       "    }\n",
       "\n",
       "    .dataframe thead th {\n",
       "        text-align: right;\n",
       "    }\n",
       "</style>\n",
       "<table border=\"1\" class=\"dataframe\">\n",
       "  <thead>\n",
       "    <tr style=\"text-align: right;\">\n",
       "      <th></th>\n",
       "      <th>App_Name</th>\n",
       "      <th>Primary_Genre</th>\n",
       "      <th>Content_Rating</th>\n",
       "      <th>Required_IOS_Version</th>\n",
       "      <th>Released</th>\n",
       "      <th>Updated</th>\n",
       "      <th>Price</th>\n",
       "      <th>Currency</th>\n",
       "      <th>Free</th>\n",
       "      <th>Developer</th>\n",
       "      <th>Average_User_Rating</th>\n",
       "      <th>Reviews</th>\n",
       "      <th>Size_MB</th>\n",
       "    </tr>\n",
       "  </thead>\n",
       "  <tbody>\n",
       "    <tr>\n",
       "      <th>478488</th>\n",
       "      <td>Vanguard</td>\n",
       "      <td>Finance</td>\n",
       "      <td>4+</td>\n",
       "      <td>10.0</td>\n",
       "      <td>2009-10-24 19:14:54+00:00</td>\n",
       "      <td>2021-08-26 19:55:20+00:00</td>\n",
       "      <td>0.0</td>\n",
       "      <td>USD</td>\n",
       "      <td>True</td>\n",
       "      <td>The Vanguard Group, Inc.</td>\n",
       "      <td>4.74</td>\n",
       "      <td>167472</td>\n",
       "      <td>160.80</td>\n",
       "    </tr>\n",
       "    <tr>\n",
       "      <th>624553</th>\n",
       "      <td>Vanguard</td>\n",
       "      <td>Games</td>\n",
       "      <td>4+</td>\n",
       "      <td>10.0</td>\n",
       "      <td>2021-08-27 07:00:00+00:00</td>\n",
       "      <td>2021-08-27 12:16:53+00:00</td>\n",
       "      <td>0.0</td>\n",
       "      <td>USD</td>\n",
       "      <td>True</td>\n",
       "      <td>omar naser</td>\n",
       "      <td>3.00</td>\n",
       "      <td>2</td>\n",
       "      <td>191.24</td>\n",
       "    </tr>\n",
       "    <tr>\n",
       "      <th>871735</th>\n",
       "      <td>Vanguard</td>\n",
       "      <td>Lifestyle</td>\n",
       "      <td>4+</td>\n",
       "      <td>9.0</td>\n",
       "      <td>2020-03-25 07:00:00+00:00</td>\n",
       "      <td>2021-10-05 23:12:01+00:00</td>\n",
       "      <td>0.0</td>\n",
       "      <td>USD</td>\n",
       "      <td>True</td>\n",
       "      <td>Vanguard Home Empreendimentos Imobiliarios LTDA</td>\n",
       "      <td>0.00</td>\n",
       "      <td>0</td>\n",
       "      <td>87.82</td>\n",
       "    </tr>\n",
       "    <tr>\n",
       "      <th>1024185</th>\n",
       "      <td>Vanguard</td>\n",
       "      <td>Productivity</td>\n",
       "      <td>17+</td>\n",
       "      <td>13.0</td>\n",
       "      <td>2021-06-11 07:00:00+00:00</td>\n",
       "      <td>2021-09-05 08:02:33+00:00</td>\n",
       "      <td>0.0</td>\n",
       "      <td>USD</td>\n",
       "      <td>True</td>\n",
       "      <td>3k CO-LIVING $ ACCOMODATION</td>\n",
       "      <td>0.00</td>\n",
       "      <td>0</td>\n",
       "      <td>35.23</td>\n",
       "    </tr>\n",
       "    <tr>\n",
       "      <th>1066082</th>\n",
       "      <td>Vanguard</td>\n",
       "      <td>Reference</td>\n",
       "      <td>4+</td>\n",
       "      <td>12.0</td>\n",
       "      <td>2018-11-13 01:31:37+00:00</td>\n",
       "      <td>2021-03-24 12:38:41+00:00</td>\n",
       "      <td>0.0</td>\n",
       "      <td>USD</td>\n",
       "      <td>True</td>\n",
       "      <td>TONANDEL PTY LTD</td>\n",
       "      <td>0.00</td>\n",
       "      <td>0</td>\n",
       "      <td>24.20</td>\n",
       "    </tr>\n",
       "    <tr>\n",
       "      <th>1094792</th>\n",
       "      <td>Vanguard</td>\n",
       "      <td>Shopping</td>\n",
       "      <td>4+</td>\n",
       "      <td>13.0</td>\n",
       "      <td>2014-09-28 16:38:41+00:00</td>\n",
       "      <td>2021-07-26 09:36:18+00:00</td>\n",
       "      <td>0.0</td>\n",
       "      <td>USD</td>\n",
       "      <td>True</td>\n",
       "      <td>Just Brands B.V.</td>\n",
       "      <td>5.00</td>\n",
       "      <td>1</td>\n",
       "      <td>68.75</td>\n",
       "    </tr>\n",
       "  </tbody>\n",
       "</table>\n",
       "</div>\n",
       "      <button class=\"colab-df-convert\" onclick=\"convertToInteractive('df-1d6e2043-31a2-482d-8ee7-8663b8bac06f')\"\n",
       "              title=\"Convert this dataframe to an interactive table.\"\n",
       "              style=\"display:none;\">\n",
       "        \n",
       "  <svg xmlns=\"http://www.w3.org/2000/svg\" height=\"24px\"viewBox=\"0 0 24 24\"\n",
       "       width=\"24px\">\n",
       "    <path d=\"M0 0h24v24H0V0z\" fill=\"none\"/>\n",
       "    <path d=\"M18.56 5.44l.94 2.06.94-2.06 2.06-.94-2.06-.94-.94-2.06-.94 2.06-2.06.94zm-11 1L8.5 8.5l.94-2.06 2.06-.94-2.06-.94L8.5 2.5l-.94 2.06-2.06.94zm10 10l.94 2.06.94-2.06 2.06-.94-2.06-.94-.94-2.06-.94 2.06-2.06.94z\"/><path d=\"M17.41 7.96l-1.37-1.37c-.4-.4-.92-.59-1.43-.59-.52 0-1.04.2-1.43.59L10.3 9.45l-7.72 7.72c-.78.78-.78 2.05 0 2.83L4 21.41c.39.39.9.59 1.41.59.51 0 1.02-.2 1.41-.59l7.78-7.78 2.81-2.81c.8-.78.8-2.07 0-2.86zM5.41 20L4 18.59l7.72-7.72 1.47 1.35L5.41 20z\"/>\n",
       "  </svg>\n",
       "      </button>\n",
       "      \n",
       "  <style>\n",
       "    .colab-df-container {\n",
       "      display:flex;\n",
       "      flex-wrap:wrap;\n",
       "      gap: 12px;\n",
       "    }\n",
       "\n",
       "    .colab-df-convert {\n",
       "      background-color: #E8F0FE;\n",
       "      border: none;\n",
       "      border-radius: 50%;\n",
       "      cursor: pointer;\n",
       "      display: none;\n",
       "      fill: #1967D2;\n",
       "      height: 32px;\n",
       "      padding: 0 0 0 0;\n",
       "      width: 32px;\n",
       "    }\n",
       "\n",
       "    .colab-df-convert:hover {\n",
       "      background-color: #E2EBFA;\n",
       "      box-shadow: 0px 1px 2px rgba(60, 64, 67, 0.3), 0px 1px 3px 1px rgba(60, 64, 67, 0.15);\n",
       "      fill: #174EA6;\n",
       "    }\n",
       "\n",
       "    [theme=dark] .colab-df-convert {\n",
       "      background-color: #3B4455;\n",
       "      fill: #D2E3FC;\n",
       "    }\n",
       "\n",
       "    [theme=dark] .colab-df-convert:hover {\n",
       "      background-color: #434B5C;\n",
       "      box-shadow: 0px 1px 3px 1px rgba(0, 0, 0, 0.15);\n",
       "      filter: drop-shadow(0px 1px 2px rgba(0, 0, 0, 0.3));\n",
       "      fill: #FFFFFF;\n",
       "    }\n",
       "  </style>\n",
       "\n",
       "      <script>\n",
       "        const buttonEl =\n",
       "          document.querySelector('#df-1d6e2043-31a2-482d-8ee7-8663b8bac06f button.colab-df-convert');\n",
       "        buttonEl.style.display =\n",
       "          google.colab.kernel.accessAllowed ? 'block' : 'none';\n",
       "\n",
       "        async function convertToInteractive(key) {\n",
       "          const element = document.querySelector('#df-1d6e2043-31a2-482d-8ee7-8663b8bac06f');\n",
       "          const dataTable =\n",
       "            await google.colab.kernel.invokeFunction('convertToInteractive',\n",
       "                                                     [key], {});\n",
       "          if (!dataTable) return;\n",
       "\n",
       "          const docLinkHtml = 'Like what you see? Visit the ' +\n",
       "            '<a target=\"_blank\" href=https://colab.research.google.com/notebooks/data_table.ipynb>data table notebook</a>'\n",
       "            + ' to learn more about interactive tables.';\n",
       "          element.innerHTML = '';\n",
       "          dataTable['output_type'] = 'display_data';\n",
       "          await google.colab.output.renderOutput(dataTable, element);\n",
       "          const docLink = document.createElement('div');\n",
       "          docLink.innerHTML = docLinkHtml;\n",
       "          element.appendChild(docLink);\n",
       "        }\n",
       "      </script>\n",
       "    </div>\n",
       "  </div>\n",
       "  "
      ],
      "text/plain": [
       "         App_Name Primary_Genre Content_Rating Required_IOS_Version  \\\n",
       "478488   Vanguard       Finance             4+                 10.0   \n",
       "624553   Vanguard         Games             4+                 10.0   \n",
       "871735   Vanguard     Lifestyle             4+                  9.0   \n",
       "1024185  Vanguard  Productivity            17+                 13.0   \n",
       "1066082  Vanguard     Reference             4+                 12.0   \n",
       "1094792  Vanguard      Shopping             4+                 13.0   \n",
       "\n",
       "                         Released                   Updated  Price Currency  \\\n",
       "478488  2009-10-24 19:14:54+00:00 2021-08-26 19:55:20+00:00    0.0      USD   \n",
       "624553  2021-08-27 07:00:00+00:00 2021-08-27 12:16:53+00:00    0.0      USD   \n",
       "871735  2020-03-25 07:00:00+00:00 2021-10-05 23:12:01+00:00    0.0      USD   \n",
       "1024185 2021-06-11 07:00:00+00:00 2021-09-05 08:02:33+00:00    0.0      USD   \n",
       "1066082 2018-11-13 01:31:37+00:00 2021-03-24 12:38:41+00:00    0.0      USD   \n",
       "1094792 2014-09-28 16:38:41+00:00 2021-07-26 09:36:18+00:00    0.0      USD   \n",
       "\n",
       "         Free                                        Developer  \\\n",
       "478488   True                         The Vanguard Group, Inc.   \n",
       "624553   True                                       omar naser   \n",
       "871735   True  Vanguard Home Empreendimentos Imobiliarios LTDA   \n",
       "1024185  True                      3k CO-LIVING $ ACCOMODATION   \n",
       "1066082  True                                 TONANDEL PTY LTD   \n",
       "1094792  True                                 Just Brands B.V.   \n",
       "\n",
       "         Average_User_Rating  Reviews  Size_MB  \n",
       "478488                  4.74   167472   160.80  \n",
       "624553                  3.00        2   191.24  \n",
       "871735                  0.00        0    87.82  \n",
       "1024185                 0.00        0    35.23  \n",
       "1066082                 0.00        0    24.20  \n",
       "1094792                 5.00        1    68.75  "
      ]
     },
     "execution_count": 29,
     "metadata": {},
     "output_type": "execute_result"
    }
   ],
   "source": [
    "#df[df.App_Name=='Linker']\n",
    "df[df.App_Name=='Vanguard']"
   ]
  },
  {
   "cell_type": "markdown",
   "metadata": {
    "id": "85ie3tVI00bh"
   },
   "source": [
    "### Top Category\n",
    "\n",
    "Calculating by total number of apps in each genre"
   ]
  },
  {
   "cell_type": "code",
   "execution_count": 30,
   "metadata": {
    "colab": {
     "base_uri": "https://localhost:8080/",
     "height": 513
    },
    "executionInfo": {
     "elapsed": 847,
     "status": "ok",
     "timestamp": 1662822190545,
     "user": {
      "displayName": "Pratul Chandra",
      "userId": "06160049637809107783"
     },
     "user_tz": -330
    },
    "id": "MO4XbN8L5mPX",
    "outputId": "065efa01-da62-4bf5-b17f-cf1198ac91ad"
   },
   "outputs": [
    {
     "data": {
      "image/png": "[encoded data removed]",
      "text/plain": [
       "<Figure size 504x576 with 1 Axes>"
      ]
     },
     "metadata": {
      "needs_background": "light"
     },
     "output_type": "display_data"
    }
   ],
   "source": [
    "gpdev=df.groupby(['Primary_Genre'])['App_Name'].count().reset_index().sort_values(['App_Name'], ascending=False)\n",
    "gpdev.columns=['Catagory', 'App count']\n",
    "# Visualizing \n",
    "fig, ax = plt.subplots(figsize=(7,8))\n",
    "plt.title(\"Top Categories\")\n",
    "sns.barplot(y = gpdev['Catagory'],x = gpdev['App count'], data=gpdev);"
   ]
  },
  {
   "cell_type": "markdown",
   "metadata": {
    "id": "hFcny3oHpJCP"
   },
   "source": [
    "> Games topped from list of categories.\n",
    "\n",
    "> Business & Education application are in a race."
   ]
  },
  {
   "cell_type": "markdown",
   "metadata": {
    "id": "LzSDkdSn1GJT"
   },
   "source": [
    "### High Priced Apps\n",
    "Visualizing top 30 high priced apps"
   ]
  },
  {
   "cell_type": "code",
   "execution_count": 31,
   "metadata": {
    "colab": {
     "base_uri": "https://localhost:8080/",
     "height": 567
    },
    "executionInfo": {
     "elapsed": 949,
     "status": "ok",
     "timestamp": 1662822191486,
     "user": {
      "displayName": "Pratul Chandra",
      "userId": "06160049637809107783"
     },
     "user_tz": -330
    },
    "id": "8I5gR8vA5mMo",
    "outputId": "4c22e6ad-2e9b-4986-e888-f78c707150fb"
   },
   "outputs": [
    {
     "data": {
      "image/png": "[encoded data removed]",
      "text/plain": [
       "<Figure size 648x648 with 1 Axes>"
      ]
     },
     "metadata": {
      "needs_background": "light"
     },
     "output_type": "display_data"
    }
   ],
   "source": [
    "high_price=df.sort_values(by='Price',ascending=False)[:30]\n",
    "plt.subplots(figsize=(9,9))\n",
    "plt.title(\"Random 30 high priced Apps \")\n",
    "sns.barplot(y = high_price['App_Name'],x = high_price['Price'], data=high_price);"
   ]
  },
  {
   "cell_type": "markdown",
   "metadata": {
    "id": "INNG0pOAqF7z"
   },
   "source": [
    "Apps that costs fortune ;). The highest price in appstore is 999.99 USD"
   ]
  },
  {
   "cell_type": "markdown",
   "metadata": {
    "id": "x4HF_ZMH1ULg"
   },
   "source": [
    "### Ratio of the paid apps and free apps\n",
    "Total no of free apps : Total no of Paid apps"
   ]
  },
  {
   "cell_type": "code",
   "execution_count": 32,
   "metadata": {
    "colab": {
     "base_uri": "https://localhost:8080/",
     "height": 369
    },
    "executionInfo": {
     "elapsed": 1134,
     "status": "ok",
     "timestamp": 1662822192608,
     "user": {
      "displayName": "Pratul Chandra",
      "userId": "06160049637809107783"
     },
     "user_tz": -330
    },
    "id": "ssSCgssY5mJo",
    "outputId": "7ec1e13c-a9a7-4aa4-fb6b-af76cfb2d5e9"
   },
   "outputs": [
    {
     "data": {
      "image/png": "[encoded data removed]",
      "text/plain": [
       "<Figure size 720x360 with 1 Axes>"
      ]
     },
     "metadata": {
      "needs_background": "light"
     },
     "output_type": "display_data"
    }
   ],
   "source": [
    "free_cat= df[df['Free']==True].groupby(['Primary_Genre'])['App_Name'].count().reset_index()\n",
    "paid_cat= df[df['Free']==False].groupby(['Primary_Genre'])['App_Name'].count().reset_index()\n",
    "free_cat.columns=['Catagory', 'Free']\n",
    "paid_cat.columns=['Catagory', 'Paid']\n",
    "concat_free_paid= pd.merge(free_cat, paid_cat, how='inner', on='Catagory')\n",
    "# Visualizing\n",
    "labels = concat_free_paid.Catagory\n",
    "a = concat_free_paid.Free\n",
    "b = concat_free_paid.Paid\n",
    "\n",
    "x = np.arange(len(labels)) \n",
    "width = 0.3 \n",
    "\n",
    "fig, ax = plt.subplots(figsize=(10, 5))\n",
    "rects1 = ax.bar(x - width/2, a, width, label='Free')\n",
    "rects2 = ax.bar(x + width/2, b, width, label='Paid')\n",
    "\n",
    "ax.set_ylabel('No of Apps')\n",
    "ax.set_title('Ratio b/w Free and Paid Apps')\n",
    "ax.set_xticks(x + width / 5)\n",
    "ax.set_xticklabels(labels, rotation=90)\n",
    "ax.legend()\n",
    "\n",
    "fig.tight_layout()\n",
    "\n",
    "plt.show()"
   ]
  },
  {
   "cell_type": "markdown",
   "metadata": {
    "id": "Pb6WK1c3qSZ8"
   },
   "source": [
    "> Seems like there way mare less paid apps in all categories.\n",
    "\n",
    "> Education and Games have almost same amount of paid apps.\n"
   ]
  },
  {
   "cell_type": "markdown",
   "metadata": {
    "id": "ICLHDlDI6QbL"
   },
   "source": [
    "### Top Developers\n",
    "According to the number of apps they've published."
   ]
  },
  {
   "cell_type": "code",
   "execution_count": 33,
   "metadata": {
    "colab": {
     "base_uri": "https://localhost:8080/",
     "height": 542
    },
    "executionInfo": {
     "elapsed": 2153,
     "status": "ok",
     "timestamp": 1662822194737,
     "user": {
      "displayName": "Pratul Chandra",
      "userId": "06160049637809107783"
     },
     "user_tz": -330
    },
    "id": "0zNIe6gf6HJP",
    "outputId": "04c43e20-6240-4ba5-b8e4-e84b84dfd77d"
   },
   "outputs": [
    {
     "data": {
      "text/html": [
       "<html>\n",
       "<head><meta charset=\"utf-8\" /></head>\n",
       "<body>\n",
       "    <div>            <script src=\"https://cdnjs.cloudflare.com/ajax/libs/mathjax/2.7.5/MathJax.js?config=TeX-AMS-MML_SVG\"></script><script type=\"text/javascript\">if (window.MathJax && window.MathJax.Hub && window.MathJax.Hub.Config) {window.MathJax.Hub.Config({SVG: {font: \"STIX-Web\"}});}</script>                <script type=\"text/javascript\">window.PlotlyConfig = {MathJaxConfig: 'local'};</script>\n",
       "        <script src=\"https://cdn.plot.ly/plotly-2.14.0.min.js\"></script>                <div id=\"a881eade-e530-434a-9c42-6b4ddfa11013\" class=\"plotly-graph-div\" style=\"height:525px; width:840px;\"></div>            <script type=\"text/javascript\">                                    window.PLOTLYENV=window.PLOTLYENV || {};                                    if (document.getElementById(\"a881eade-e530-434a-9c42-6b4ddfa11013\")) {                    Plotly.newPlot(                        \"a881eade-e530-434a-9c42-6b4ddfa11013\",                        [{\"domain\":{\"x\":[0.0,1.0],\"y\":[0.0,1.0]},\"hole\":0.3,\"hovertemplate\":\"Developer=%{label}<br>App Count=%{value}<extra></extra>\",\"labels\":[\"ChowNow\",\"Touch2Success\",\"Alexander Velimirovic\",\"MINDBODY, Incorporated\",\"Phorest\",\"OFFLINE MAP TRIP GUIDE LTD\",\"Magzter Inc.\",\"ASK Video\",\"RAPID ACCELERATION INDIA PRIVATE LIMITED\",\"Nonlinear Educating Inc.\",\"Foodticket BV\",\"OBENTO LIMITED\",\"Narvii Inc.\",\"AppsVision\",\"Makeover Mania Story Games\",\"Tom Marchant\",\"INPEACE APP SOFTWARE DEVELOPMENT, LLC\",\"Tayga Games OOO\",\"GPSmyCity.com, Inc.\",\"Action Prompt Ltd\",\"Subsplash Inc\",\"YouVisit LLC\",\"Abner Roberto Santiago Da Silva\",\"Big Leap Studios\",\"Weetech Co Ltd\",\"Big Fish Games, Inc\",\"Vajro Inc\",\"Wiley\",\"Swapcard\",\"Ylab Inc.\"],\"legendgroup\":\"\",\"name\":\"\",\"showlegend\":true,\"values\":[3966,1649,1506,1247,1131,1022,928,781,733,555,549,537,496,483,462,462,443,439,438,433,429,416,412,407,404,399,382,382,370,343],\"type\":\"pie\"}],                        {\"template\":{\"data\":{\"histogram2dcontour\":[{\"type\":\"histogram2dcontour\",\"colorbar\":{\"outlinewidth\":0,\"ticks\":\"\"},\"colorscale\":[[0.0,\"#0d0887\"],[0.1111111111111111,\"#46039f\"],[0.2222222222222222,\"#7201a8\"],[0.3333333333333333,\"#9c179e\"],[0.4444444444444444,\"#bd3786\"],[0.5555555555555556,\"#d8576b\"],[0.6666666666666666,\"#ed7953\"],[0.7777777777777778,\"#fb9f3a\"],[0.8888888888888888,\"#fdca26\"],[1.0,\"#f0f921\"]]}],\"choropleth\":[{\"type\":\"choropleth\",\"colorbar\":{\"outlinewidth\":0,\"ticks\":\"\"}}],\"histogram2d\":[{\"type\":\"histogram2d\",\"colorbar\":{\"outlinewidth\":0,\"ticks\":\"\"},\"colorscale\":[[0.0,\"#0d0887\"],[0.1111111111111111,\"#46039f\"],[0.2222222222222222,\"#7201a8\"],[0.3333333333333333,\"#9c179e\"],[0.4444444444444444,\"#bd3786\"],[0.5555555555555556,\"#d8576b\"],[0.6666666666666666,\"#ed7953\"],[0.7777777777777778,\"#fb9f3a\"],[0.8888888888888888,\"#fdca26\"],[1.0,\"#f0f921\"]]}],\"heatmap\":[{\"type\":\"heatmap\",\"colorbar\":{\"outlinewidth\":0,\"ticks\":\"\"},\"colorscale\":[[0.0,\"#0d0887\"],[0.1111111111111111,\"#46039f\"],[0.2222222222222222,\"#7201a8\"],[0.3333333333333333,\"#9c179e\"],[0.4444444444444444,\"#bd3786\"],[0.5555555555555556,\"#d8576b\"],[0.6666666666666666,\"#ed7953\"],[0.7777777777777778,\"#fb9f3a\"],[0.8888888888888888,\"#fdca26\"],[1.0,\"#f0f921\"]]}],\"heatmapgl\":[{\"type\":\"heatmapgl\",\"colorbar\":{\"outlinewidth\":0,\"ticks\":\"\"},\"colorscale\":[[0.0,\"#0d0887\"],[0.1111111111111111,\"#46039f\"],[0.2222222222222222,\"#7201a8\"],[0.3333333333333333,\"#9c179e\"],[0.4444444444444444,\"#bd3786\"],[0.5555555555555556,\"#d8576b\"],[0.6666666666666666,\"#ed7953\"],[0.7777777777777778,\"#fb9f3a\"],[0.8888888888888888,\"#fdca26\"],[1.0,\"#f0f921\"]]}],\"contourcarpet\":[{\"type\":\"contourcarpet\",\"colorbar\":{\"outlinewidth\":0,\"ticks\":\"\"}}],\"contour\":[{\"type\":\"contour\",\"colorbar\":{\"outlinewidth\":0,\"ticks\":\"\"},\"colorscale\":[[0.0,\"#0d0887\"],[0.1111111111111111,\"#46039f\"],[0.2222222222222222,\"#7201a8\"],[0.3333333333333333,\"#9c179e\"],[0.4444444444444444,\"#bd3786\"],[0.5555555555555556,\"#d8576b\"],[0.6666666666666666,\"#ed7953\"],[0.7777777777777778,\"#fb9f3a\"],[0.8888888888888888,\"#fdca26\"],[1.0,\"#f0f921\"]]}],\"surface\":[{\"type\":\"surface\",\"colorbar\":{\"outlinewidth\":0,\"ticks\":\"\"},\"colorscale\":[[0.0,\"#0d0887\"],[0.1111111111111111,\"#46039f\"],[0.2222222222222222,\"#7201a8\"],[0.3333333333333333,\"#9c179e\"],[0.4444444444444444,\"#bd3786\"],[0.5555555555555556,\"#d8576b\"],[0.6666666666666666,\"#ed7953\"],[0.7777777777777778,\"#fb9f3a\"],[0.8888888888888888,\"#fdca26\"],[1.0,\"#f0f921\"]]}],\"mesh3d\":[{\"type\":\"mesh3d\",\"colorbar\":{\"outlinewidth\":0,\"ticks\":\"\"}}],\"scatter\":[{\"fillpattern\":{\"fillmode\":\"overlay\",\"size\":10,\"solidity\":0.2},\"type\":\"scatter\"}],\"parcoords\":[{\"type\":\"parcoords\",\"line\":{\"colorbar\":{\"outlinewidth\":0,\"ticks\":\"\"}}}],\"scatterpolargl\":[{\"type\":\"scatterpolargl\",\"marker\":{\"colorbar\":{\"outlinewidth\":0,\"ticks\":\"\"}}}],\"bar\":[{\"error_x\":{\"color\":\"#2a3f5f\"},\"error_y\":{\"color\":\"#2a3f5f\"},\"marker\":{\"line\":{\"color\":\"#E5ECF6\",\"width\":0.5},\"pattern\":{\"fillmode\":\"overlay\",\"size\":10,\"solidity\":0.2}},\"type\":\"bar\"}],\"scattergeo\":[{\"type\":\"scattergeo\",\"marker\":{\"colorbar\":{\"outlinewidth\":0,\"ticks\":\"\"}}}],\"scatterpolar\":[{\"type\":\"scatterpolar\",\"marker\":{\"colorbar\":{\"outlinewidth\":0,\"ticks\":\"\"}}}],\"histogram\":[{\"marker\":{\"pattern\":{\"fillmode\":\"overlay\",\"size\":10,\"solidity\":0.2}},\"type\":\"histogram\"}],\"scattergl\":[{\"type\":\"scattergl\",\"marker\":{\"colorbar\":{\"outlinewidth\":0,\"ticks\":\"\"}}}],\"scatter3d\":[{\"type\":\"scatter3d\",\"line\":{\"colorbar\":{\"outlinewidth\":0,\"ticks\":\"\"}},\"marker\":{\"colorbar\":{\"outlinewidth\":0,\"ticks\":\"\"}}}],\"scattermapbox\":[{\"type\":\"scattermapbox\",\"marker\":{\"colorbar\":{\"outlinewidth\":0,\"ticks\":\"\"}}}],\"scatterternary\":[{\"type\":\"scatterternary\",\"marker\":{\"colorbar\":{\"outlinewidth\":0,\"ticks\":\"\"}}}],\"scattercarpet\":[{\"type\":\"scattercarpet\",\"marker\":{\"colorbar\":{\"outlinewidth\":0,\"ticks\":\"\"}}}],\"carpet\":[{\"aaxis\":{\"endlinecolor\":\"#2a3f5f\",\"gridcolor\":\"white\",\"linecolor\":\"white\",\"minorgridcolor\":\"white\",\"startlinecolor\":\"#2a3f5f\"},\"baxis\":{\"endlinecolor\":\"#2a3f5f\",\"gridcolor\":\"white\",\"linecolor\":\"white\",\"minorgridcolor\":\"white\",\"startlinecolor\":\"#2a3f5f\"},\"type\":\"carpet\"}],\"table\":[{\"cells\":{\"fill\":{\"color\":\"#EBF0F8\"},\"line\":{\"color\":\"white\"}},\"header\":{\"fill\":{\"color\":\"#C8D4E3\"},\"line\":{\"color\":\"white\"}},\"type\":\"table\"}],\"barpolar\":[{\"marker\":{\"line\":{\"color\":\"#E5ECF6\",\"width\":0.5},\"pattern\":{\"fillmode\":\"overlay\",\"size\":10,\"solidity\":0.2}},\"type\":\"barpolar\"}],\"pie\":[{\"automargin\":true,\"type\":\"pie\"}]},\"layout\":{\"autotypenumbers\":\"strict\",\"colorway\":[\"#636efa\",\"#EF553B\",\"#00cc96\",\"#ab63fa\",\"#FFA15A\",\"#19d3f3\",\"#FF6692\",\"#B6E880\",\"#FF97FF\",\"#FECB52\"],\"font\":{\"color\":\"#2a3f5f\"},\"hovermode\":\"closest\",\"hoverlabel\":{\"align\":\"left\"},\"paper_bgcolor\":\"white\",\"plot_bgcolor\":\"#E5ECF6\",\"polar\":{\"bgcolor\":\"#E5ECF6\",\"angularaxis\":{\"gridcolor\":\"white\",\"linecolor\":\"white\",\"ticks\":\"\"},\"radialaxis\":{\"gridcolor\":\"white\",\"linecolor\":\"white\",\"ticks\":\"\"}},\"ternary\":{\"bgcolor\":\"#E5ECF6\",\"aaxis\":{\"gridcolor\":\"white\",\"linecolor\":\"white\",\"ticks\":\"\"},\"baxis\":{\"gridcolor\":\"white\",\"linecolor\":\"white\",\"ticks\":\"\"},\"caxis\":{\"gridcolor\":\"white\",\"linecolor\":\"white\",\"ticks\":\"\"}},\"coloraxis\":{\"colorbar\":{\"outlinewidth\":0,\"ticks\":\"\"}},\"colorscale\":{\"sequential\":[[0.0,\"#0d0887\"],[0.1111111111111111,\"#46039f\"],[0.2222222222222222,\"#7201a8\"],[0.3333333333333333,\"#9c179e\"],[0.4444444444444444,\"#bd3786\"],[0.5555555555555556,\"#d8576b\"],[0.6666666666666666,\"#ed7953\"],[0.7777777777777778,\"#fb9f3a\"],[0.8888888888888888,\"#fdca26\"],[1.0,\"#f0f921\"]],\"sequentialminus\":[[0.0,\"#0d0887\"],[0.1111111111111111,\"#46039f\"],[0.2222222222222222,\"#7201a8\"],[0.3333333333333333,\"#9c179e\"],[0.4444444444444444,\"#bd3786\"],[0.5555555555555556,\"#d8576b\"],[0.6666666666666666,\"#ed7953\"],[0.7777777777777778,\"#fb9f3a\"],[0.8888888888888888,\"#fdca26\"],[1.0,\"#f0f921\"]],\"diverging\":[[0,\"#8e0152\"],[0.1,\"#c51b7d\"],[0.2,\"#de77ae\"],[0.3,\"#f1b6da\"],[0.4,\"#fde0ef\"],[0.5,\"#f7f7f7\"],[0.6,\"#e6f5d0\"],[0.7,\"#b8e186\"],[0.8,\"#7fbc41\"],[0.9,\"#4d9221\"],[1,\"#276419\"]]},\"xaxis\":{\"gridcolor\":\"white\",\"linecolor\":\"white\",\"ticks\":\"\",\"title\":{\"standoff\":15},\"zerolinecolor\":\"white\",\"automargin\":true,\"zerolinewidth\":2},\"yaxis\":{\"gridcolor\":\"white\",\"linecolor\":\"white\",\"ticks\":\"\",\"title\":{\"standoff\":15},\"zerolinecolor\":\"white\",\"automargin\":true,\"zerolinewidth\":2},\"scene\":{\"xaxis\":{\"backgroundcolor\":\"#E5ECF6\",\"gridcolor\":\"white\",\"linecolor\":\"white\",\"showbackground\":true,\"ticks\":\"\",\"zerolinecolor\":\"white\",\"gridwidth\":2},\"yaxis\":{\"backgroundcolor\":\"#E5ECF6\",\"gridcolor\":\"white\",\"linecolor\":\"white\",\"showbackground\":true,\"ticks\":\"\",\"zerolinecolor\":\"white\",\"gridwidth\":2},\"zaxis\":{\"backgroundcolor\":\"#E5ECF6\",\"gridcolor\":\"white\",\"linecolor\":\"white\",\"showbackground\":true,\"ticks\":\"\",\"zerolinecolor\":\"white\",\"gridwidth\":2}},\"shapedefaults\":{\"line\":{\"color\":\"#2a3f5f\"}},\"annotationdefaults\":{\"arrowcolor\":\"#2a3f5f\",\"arrowhead\":0,\"arrowwidth\":1},\"geo\":{\"bgcolor\":\"white\",\"landcolor\":\"#E5ECF6\",\"subunitcolor\":\"white\",\"showland\":true,\"showlakes\":true,\"lakecolor\":\"white\"},\"title\":{\"x\":0.05},\"mapbox\":{\"style\":\"light\"}}},\"legend\":{\"tracegroupgap\":0},\"title\":{\"text\":\"Top Developers\"},\"width\":840},                        {\"responsive\": true}                    ).then(function(){\n",
       "                            \n",
       "var gd = document.getElementById('a881eade-e530-434a-9c42-6b4ddfa11013');\n",
       "var x = new MutationObserver(function (mutations, observer) {{\n",
       "        var display = window.getComputedStyle(gd).display;\n",
       "        if (!display || display === 'none') {{\n",
       "            console.log([gd, 'removed!']);\n",
       "            Plotly.purge(gd);\n",
       "            observer.disconnect();\n",
       "        }}\n",
       "}});\n",
       "\n",
       "// Listen for the removal of the full notebook cells\n",
       "var notebookContainer = gd.closest('#notebook-container');\n",
       "if (notebookContainer) {{\n",
       "    x.observe(notebookContainer, {childList: true});\n",
       "}}\n",
       "\n",
       "// Listen for the clearing of the current output cell\n",
       "var outputEl = gd.closest('.output');\n",
       "if (outputEl) {{\n",
       "    x.observe(outputEl, {childList: true});\n",
       "}}\n",
       "\n",
       "                        })                };                            </script>        </div>\n",
       "</body>\n",
       "</html>"
      ]
     },
     "metadata": {},
     "output_type": "display_data"
    }
   ],
   "source": [
    "top_dev_appc= df.groupby([df.Developer])['App_Name'].count().reset_index().sort_values(by='App_Name', ascending=False)\n",
    "top_dev_appc.columns= ['Developer','App Count']\n",
    "fig = px.pie(top_dev_appc[:30], \n",
    "             values='App Count', \n",
    "             names='Developer', \n",
    "             title='Top Developers', hole=.3)\n",
    "fig.update_layout(width=840)\n",
    "fig.show()"
   ]
  },
  {
   "cell_type": "markdown",
   "metadata": {
    "id": "AbY_z4jpZ6Kd"
   },
   "source": [
    "ChowNow has published almost 4 thousand apps in appstore. Touch2Success, Alexander Velimirovic, Mindbody, Phorest, Offline map trip guide ltd these developers have published more than a thousand applications.\n"
   ]
  },
  {
   "cell_type": "markdown",
   "metadata": {
    "id": "9vTwg-1MIr1W"
   },
   "source": [
    "## -> Questioning & Answering\n",
    "We've already gained some insights about the Appstore app data by exploring individual columns of the dataset. \n",
    "\n",
    "Let's ask some specific questions and try to answer them using data frame operations and visualizations.\n",
    "\n",
    "1. Which developers are most popular?\n",
    "2. Which app has popularity dominance from Top 20 developers?\n",
    "3. What is the impact on users due to size of the app?\n",
    "4. What is the number of app releases and users over the years?\n",
    "5. How many apps will work on various IOS versions?\n",
    "6. What is percent of Free and Paid Games and What are the top 10 games that most users use?\n",
    "7. What is the growth of gamers over the years. (2008 - 2021)\n",
    "8. Which developer has the highest earnings from paid apps?"
   ]
  },
  {
   "cell_type": "markdown",
   "metadata": {
    "id": "J0itemTaJHq9"
   },
   "source": [
    "### Q1. Which developers are most popular? \n",
    "\n",
    "\n",
    "  "
   ]
  },
  {
   "cell_type": "code",
   "execution_count": 34,
   "metadata": {
    "executionInfo": {
     "elapsed": 8832,
     "status": "ok",
     "timestamp": 1662822203529,
     "user": {
      "displayName": "Pratul Chandra",
      "userId": "06160049637809107783"
     },
     "user_tz": -330
    },
    "id": "wvcunmEg5mEi"
   },
   "outputs": [],
   "source": [
    "top_pop_dev_r = df.groupby(['Developer'])['Reviews'].sum().reset_index().sort_values(by=['Reviews'],ascending=False)\n",
    "top_dev_appc= df.groupby(['Developer'])['App_Name'].count().reset_index().sort_values(by='App_Name', ascending=False)\n",
    "top_pop_dev= pd.merge(top_pop_dev_r, top_dev_appc, how='inner', on='Developer')\n",
    "top_pop_dev.columns=['Developer','Popularity', 'App_Count']"
   ]
  },
  {
   "cell_type": "markdown",
   "metadata": {
    "id": "iN-SwkY88SJl"
   },
   "source": [
    "By calculating 1 Review = 1 User"
   ]
  },
  {
   "cell_type": "code",
   "execution_count": 93,
   "metadata": {
    "colab": {
     "base_uri": "https://localhost:8080/",
     "height": 542
    },
    "executionInfo": {
     "elapsed": 501,
     "status": "ok",
     "timestamp": 1662824130866,
     "user": {
      "displayName": "Pratul Chandra",
      "userId": "06160049637809107783"
     },
     "user_tz": -330
    },
    "id": "sKF4Y4Bp9zn6",
    "outputId": "5f58c348-247a-4818-b69a-414cf7b030db"
   },
   "outputs": [
    {
     "data": {
      "text/html": [
       "<html>\n",
       "<head><meta charset=\"utf-8\" /></head>\n",
       "<body>\n",
       "    <div>            <script src=\"https://cdnjs.cloudflare.com/ajax/libs/mathjax/2.7.5/MathJax.js?config=TeX-AMS-MML_SVG\"></script><script type=\"text/javascript\">if (window.MathJax && window.MathJax.Hub && window.MathJax.Hub.Config) {window.MathJax.Hub.Config({SVG: {font: \"STIX-Web\"}});}</script>                <script type=\"text/javascript\">window.PlotlyConfig = {MathJaxConfig: 'local'};</script>\n",
       "        <script src=\"https://cdn.plot.ly/plotly-2.14.0.min.js\"></script>                <div id=\"f86e8509-dbad-4201-a718-f62374a7b713\" class=\"plotly-graph-div\" style=\"height:525px; width:700px;\"></div>            <script type=\"text/javascript\">                                    window.PLOTLYENV=window.PLOTLYENV || {};                                    if (document.getElementById(\"f86e8509-dbad-4201-a718-f62374a7b713\")) {                    Plotly.newPlot(                        \"f86e8509-dbad-4201-a718-f62374a7b713\",                        [{\"hovertemplate\":\"Developer=%{y}<br>Popularity=%{x}<br>App_Count=%{text}<extra></extra>\",\"legendgroup\":\"Google LLC\",\"marker\":{\"color\":\"#F8766D\"},\"name\":\"Google LLC\",\"orientation\":\"h\",\"showlegend\":true,\"text\":[85.0],\"x\":[42903262],\"xaxis\":\"x\",\"y\":[\"Google LLC\"],\"yaxis\":\"y\",\"type\":\"funnel\"},{\"hovertemplate\":\"Developer=%{y}<br>Popularity=%{x}<br>App_Count=%{text}<extra></extra>\",\"legendgroup\":\"Instagram, Inc.\",\"marker\":{\"color\":\"#A3A500\"},\"name\":\"Instagram, Inc.\",\"orientation\":\"h\",\"showlegend\":true,\"text\":[6.0],\"x\":[21999081],\"xaxis\":\"x\",\"y\":[\"Instagram, Inc.\"],\"yaxis\":\"y\",\"type\":\"funnel\"},{\"hovertemplate\":\"Developer=%{y}<br>Popularity=%{x}<br>App_Count=%{text}<extra></extra>\",\"legendgroup\":\"Spotify Ltd.\",\"marker\":{\"color\":\"#00BF7D\"},\"name\":\"Spotify Ltd.\",\"orientation\":\"h\",\"showlegend\":true,\"text\":[7.0],\"x\":[19031954],\"xaxis\":\"x\",\"y\":[\"Spotify Ltd.\"],\"yaxis\":\"y\",\"type\":\"funnel\"},{\"hovertemplate\":\"Developer=%{y}<br>Popularity=%{x}<br>App_Count=%{text}<extra></extra>\",\"legendgroup\":\"Voodoo\",\"marker\":{\"color\":\"#00B0F6\"},\"name\":\"Voodoo\",\"orientation\":\"h\",\"showlegend\":true,\"text\":[189.0],\"x\":[18944191],\"xaxis\":\"x\",\"y\":[\"Voodoo\"],\"yaxis\":\"y\",\"type\":\"funnel\"},{\"hovertemplate\":\"Developer=%{y}<br>Popularity=%{x}<br>App_Count=%{text}<extra></extra>\",\"legendgroup\":\"AMZN Mobile LLC\",\"marker\":{\"color\":\"#E76BF3\"},\"name\":\"AMZN Mobile LLC\",\"orientation\":\"h\",\"showlegend\":true,\"text\":[50.0],\"x\":[15662193],\"xaxis\":\"x\",\"y\":[\"AMZN Mobile LLC\"],\"yaxis\":\"y\",\"type\":\"funnel\"},{\"hovertemplate\":\"Developer=%{y}<br>Popularity=%{x}<br>App_Count=%{text}<extra></extra>\",\"legendgroup\":\"DoorDash, Inc.\",\"marker\":{\"color\":\"#F8766D\"},\"name\":\"DoorDash, Inc.\",\"orientation\":\"h\",\"showlegend\":true,\"text\":[2.0],\"x\":[13812572],\"xaxis\":\"x\",\"y\":[\"DoorDash, Inc.\"],\"yaxis\":\"y\",\"type\":\"funnel\"},{\"hovertemplate\":\"Developer=%{y}<br>Popularity=%{x}<br>App_Count=%{text}<extra></extra>\",\"legendgroup\":\"Venmo\",\"marker\":{\"color\":\"#A3A500\"},\"name\":\"Venmo\",\"orientation\":\"h\",\"showlegend\":true,\"text\":[1.0],\"x\":[12634191],\"xaxis\":\"x\",\"y\":[\"Venmo\"],\"yaxis\":\"y\",\"type\":\"funnel\"},{\"hovertemplate\":\"Developer=%{y}<br>Popularity=%{x}<br>App_Count=%{text}<extra></extra>\",\"legendgroup\":\"TikTok Pte. Ltd.\",\"marker\":{\"color\":\"#00BF7D\"},\"name\":\"TikTok Pte. Ltd.\",\"orientation\":\"h\",\"showlegend\":true,\"text\":[1.0],\"x\":[10598509],\"xaxis\":\"x\",\"y\":[\"TikTok Pte. Ltd.\"],\"yaxis\":\"y\",\"type\":\"funnel\"},{\"hovertemplate\":\"Developer=%{y}<br>Popularity=%{x}<br>App_Count=%{text}<extra></extra>\",\"legendgroup\":\"Lyft, Inc.\",\"marker\":{\"color\":\"#00B0F6\"},\"name\":\"Lyft, Inc.\",\"orientation\":\"h\",\"showlegend\":true,\"text\":[3.0],\"x\":[10331957],\"xaxis\":\"x\",\"y\":[\"Lyft, Inc.\"],\"yaxis\":\"y\",\"type\":\"funnel\"},{\"hovertemplate\":\"Developer=%{y}<br>Popularity=%{x}<br>App_Count=%{text}<extra></extra>\",\"legendgroup\":\"WhatsApp Inc.\",\"marker\":{\"color\":\"#E76BF3\"},\"name\":\"WhatsApp Inc.\",\"orientation\":\"h\",\"showlegend\":true,\"text\":[3.0],\"x\":[9377027],\"xaxis\":\"x\",\"y\":[\"WhatsApp Inc.\"],\"yaxis\":\"y\",\"type\":\"funnel\"},{\"hovertemplate\":\"Developer=%{y}<br>Popularity=%{x}<br>App_Count=%{text}<extra></extra>\",\"legendgroup\":\"Pandora Media, Inc.\",\"marker\":{\"color\":\"#F8766D\"},\"name\":\"Pandora Media, Inc.\",\"orientation\":\"h\",\"showlegend\":true,\"text\":[1.0],\"x\":[8297798],\"xaxis\":\"x\",\"y\":[\"Pandora Media, Inc.\"],\"yaxis\":\"y\",\"type\":\"funnel\"},{\"hovertemplate\":\"Developer=%{y}<br>Popularity=%{x}<br>App_Count=%{text}<extra></extra>\",\"legendgroup\":\"Uber Technologies, Inc.\",\"marker\":{\"color\":\"#A3A500\"},\"name\":\"Uber Technologies, Inc.\",\"orientation\":\"h\",\"showlegend\":true,\"text\":[7.0],\"x\":[7756816],\"xaxis\":\"x\",\"y\":[\"Uber Technologies, Inc.\"],\"yaxis\":\"y\",\"type\":\"funnel\"},{\"hovertemplate\":\"Developer=%{y}<br>Popularity=%{x}<br>App_Count=%{text}<extra></extra>\",\"legendgroup\":\"Life.Church\",\"marker\":{\"color\":\"#00BF7D\"},\"name\":\"Life.Church\",\"orientation\":\"h\",\"showlegend\":true,\"text\":[4.0],\"x\":[7187426],\"xaxis\":\"x\",\"y\":[\"Life.Church\"],\"yaxis\":\"y\",\"type\":\"funnel\"},{\"hovertemplate\":\"Developer=%{y}<br>Popularity=%{x}<br>App_Count=%{text}<extra></extra>\",\"legendgroup\":\"Microsoft Corporation\",\"marker\":{\"color\":\"#00B0F6\"},\"name\":\"Microsoft Corporation\",\"orientation\":\"h\",\"showlegend\":true,\"text\":[101.0],\"x\":[6808149],\"xaxis\":\"x\",\"y\":[\"Microsoft Corporation\"],\"yaxis\":\"y\",\"type\":\"funnel\"},{\"hovertemplate\":\"Developer=%{y}<br>Popularity=%{x}<br>App_Count=%{text}<extra></extra>\",\"legendgroup\":\"Lion Studios\",\"marker\":{\"color\":\"#E76BF3\"},\"name\":\"Lion Studios\",\"orientation\":\"h\",\"showlegend\":true,\"text\":[125.0],\"x\":[6685712],\"xaxis\":\"x\",\"y\":[\"Lion Studios\"],\"yaxis\":\"y\",\"type\":\"funnel\"},{\"hovertemplate\":\"Developer=%{y}<br>Popularity=%{x}<br>App_Count=%{text}<extra></extra>\",\"legendgroup\":\"Wells Fargo\",\"marker\":{\"color\":\"#F8766D\"},\"name\":\"Wells Fargo\",\"orientation\":\"h\",\"showlegend\":true,\"text\":[5.0],\"x\":[6315853],\"xaxis\":\"x\",\"y\":[\"Wells Fargo\"],\"yaxis\":\"y\",\"type\":\"funnel\"},{\"hovertemplate\":\"Developer=%{y}<br>Popularity=%{x}<br>App_Count=%{text}<extra></extra>\",\"legendgroup\":\"Zillow.com\",\"marker\":{\"color\":\"#A3A500\"},\"name\":\"Zillow.com\",\"orientation\":\"h\",\"showlegend\":true,\"text\":[6.0],\"x\":[6160516],\"xaxis\":\"x\",\"y\":[\"Zillow.com\"],\"yaxis\":\"y\",\"type\":\"funnel\"},{\"hovertemplate\":\"Developer=%{y}<br>Popularity=%{x}<br>App_Count=%{text}<extra></extra>\",\"legendgroup\":\"Roblox Corporation\",\"marker\":{\"color\":\"#00BF7D\"},\"name\":\"Roblox Corporation\",\"orientation\":\"h\",\"showlegend\":true,\"text\":[1.0],\"x\":[6127588],\"xaxis\":\"x\",\"y\":[\"Roblox Corporation\"],\"yaxis\":\"y\",\"type\":\"funnel\"},{\"hovertemplate\":\"Developer=%{y}<br>Popularity=%{x}<br>App_Count=%{text}<extra></extra>\",\"legendgroup\":\"PayPal, Inc.\",\"marker\":{\"color\":\"#00B0F6\"},\"name\":\"PayPal, Inc.\",\"orientation\":\"h\",\"showlegend\":true,\"text\":[5.0],\"x\":[5990608],\"xaxis\":\"x\",\"y\":[\"PayPal, Inc.\"],\"yaxis\":\"y\",\"type\":\"funnel\"},{\"hovertemplate\":\"Developer=%{y}<br>Popularity=%{x}<br>App_Count=%{text}<extra></extra>\",\"legendgroup\":\"Disney\",\"marker\":{\"color\":\"#E76BF3\"},\"name\":\"Disney\",\"orientation\":\"h\",\"showlegend\":true,\"text\":[101.0],\"x\":[5983001],\"xaxis\":\"x\",\"y\":[\"Disney\"],\"yaxis\":\"y\",\"type\":\"funnel\"}],                        {\"template\":{\"data\":{\"barpolar\":[{\"marker\":{\"line\":{\"color\":\"rgb(237,237,237)\",\"width\":0.5},\"pattern\":{\"fillmode\":\"overlay\",\"size\":10,\"solidity\":0.2}},\"type\":\"barpolar\"}],\"bar\":[{\"error_x\":{\"color\":\"rgb(51,51,51)\"},\"error_y\":{\"color\":\"rgb(51,51,51)\"},\"marker\":{\"line\":{\"color\":\"rgb(237,237,237)\",\"width\":0.5},\"pattern\":{\"fillmode\":\"overlay\",\"size\":10,\"solidity\":0.2}},\"type\":\"bar\"}],\"carpet\":[{\"aaxis\":{\"endlinecolor\":\"rgb(51,51,51)\",\"gridcolor\":\"white\",\"linecolor\":\"white\",\"minorgridcolor\":\"white\",\"startlinecolor\":\"rgb(51,51,51)\"},\"baxis\":{\"endlinecolor\":\"rgb(51,51,51)\",\"gridcolor\":\"white\",\"linecolor\":\"white\",\"minorgridcolor\":\"white\",\"startlinecolor\":\"rgb(51,51,51)\"},\"type\":\"carpet\"}],\"choropleth\":[{\"colorbar\":{\"outlinewidth\":0,\"tickcolor\":\"rgb(237,237,237)\",\"ticklen\":6,\"ticks\":\"inside\"},\"type\":\"choropleth\"}],\"contourcarpet\":[{\"colorbar\":{\"outlinewidth\":0,\"tickcolor\":\"rgb(237,237,237)\",\"ticklen\":6,\"ticks\":\"inside\"},\"type\":\"contourcarpet\"}],\"contour\":[{\"colorbar\":{\"outlinewidth\":0,\"tickcolor\":\"rgb(237,237,237)\",\"ticklen\":6,\"ticks\":\"inside\"},\"colorscale\":[[0,\"rgb(20,44,66)\"],[1,\"rgb(90,179,244)\"]],\"type\":\"contour\"}],\"heatmapgl\":[{\"colorbar\":{\"outlinewidth\":0,\"tickcolor\":\"rgb(237,237,237)\",\"ticklen\":6,\"ticks\":\"inside\"},\"colorscale\":[[0,\"rgb(20,44,66)\"],[1,\"rgb(90,179,244)\"]],\"type\":\"heatmapgl\"}],\"heatmap\":[{\"colorbar\":{\"outlinewidth\":0,\"tickcolor\":\"rgb(237,237,237)\",\"ticklen\":6,\"ticks\":\"inside\"},\"colorscale\":[[0,\"rgb(20,44,66)\"],[1,\"rgb(90,179,244)\"]],\"type\":\"heatmap\"}],\"histogram2dcontour\":[{\"colorbar\":{\"outlinewidth\":0,\"tickcolor\":\"rgb(237,237,237)\",\"ticklen\":6,\"ticks\":\"inside\"},\"colorscale\":[[0,\"rgb(20,44,66)\"],[1,\"rgb(90,179,244)\"]],\"type\":\"histogram2dcontour\"}],\"histogram2d\":[{\"colorbar\":{\"outlinewidth\":0,\"tickcolor\":\"rgb(237,237,237)\",\"ticklen\":6,\"ticks\":\"inside\"},\"colorscale\":[[0,\"rgb(20,44,66)\"],[1,\"rgb(90,179,244)\"]],\"type\":\"histogram2d\"}],\"histogram\":[{\"marker\":{\"pattern\":{\"fillmode\":\"overlay\",\"size\":10,\"solidity\":0.2}},\"type\":\"histogram\"}],\"mesh3d\":[{\"colorbar\":{\"outlinewidth\":0,\"tickcolor\":\"rgb(237,237,237)\",\"ticklen\":6,\"ticks\":\"inside\"},\"type\":\"mesh3d\"}],\"parcoords\":[{\"line\":{\"colorbar\":{\"outlinewidth\":0,\"tickcolor\":\"rgb(237,237,237)\",\"ticklen\":6,\"ticks\":\"inside\"}},\"type\":\"parcoords\"}],\"pie\":[{\"automargin\":true,\"type\":\"pie\"}],\"scatter3d\":[{\"line\":{\"colorbar\":{\"outlinewidth\":0,\"tickcolor\":\"rgb(237,237,237)\",\"ticklen\":6,\"ticks\":\"inside\"}},\"marker\":{\"colorbar\":{\"outlinewidth\":0,\"tickcolor\":\"rgb(237,237,237)\",\"ticklen\":6,\"ticks\":\"inside\"}},\"type\":\"scatter3d\"}],\"scattercarpet\":[{\"marker\":{\"colorbar\":{\"outlinewidth\":0,\"tickcolor\":\"rgb(237,237,237)\",\"ticklen\":6,\"ticks\":\"inside\"}},\"type\":\"scattercarpet\"}],\"scattergeo\":[{\"marker\":{\"colorbar\":{\"outlinewidth\":0,\"tickcolor\":\"rgb(237,237,237)\",\"ticklen\":6,\"ticks\":\"inside\"}},\"type\":\"scattergeo\"}],\"scattergl\":[{\"marker\":{\"colorbar\":{\"outlinewidth\":0,\"tickcolor\":\"rgb(237,237,237)\",\"ticklen\":6,\"ticks\":\"inside\"}},\"type\":\"scattergl\"}],\"scattermapbox\":[{\"marker\":{\"colorbar\":{\"outlinewidth\":0,\"tickcolor\":\"rgb(237,237,237)\",\"ticklen\":6,\"ticks\":\"inside\"}},\"type\":\"scattermapbox\"}],\"scatterpolargl\":[{\"marker\":{\"colorbar\":{\"outlinewidth\":0,\"tickcolor\":\"rgb(237,237,237)\",\"ticklen\":6,\"ticks\":\"inside\"}},\"type\":\"scatterpolargl\"}],\"scatterpolar\":[{\"marker\":{\"colorbar\":{\"outlinewidth\":0,\"tickcolor\":\"rgb(237,237,237)\",\"ticklen\":6,\"ticks\":\"inside\"}},\"type\":\"scatterpolar\"}],\"scatter\":[{\"fillpattern\":{\"fillmode\":\"overlay\",\"size\":10,\"solidity\":0.2},\"type\":\"scatter\"}],\"scatterternary\":[{\"marker\":{\"colorbar\":{\"outlinewidth\":0,\"tickcolor\":\"rgb(237,237,237)\",\"ticklen\":6,\"ticks\":\"inside\"}},\"type\":\"scatterternary\"}],\"surface\":[{\"colorbar\":{\"outlinewidth\":0,\"tickcolor\":\"rgb(237,237,237)\",\"ticklen\":6,\"ticks\":\"inside\"},\"colorscale\":[[0,\"rgb(20,44,66)\"],[1,\"rgb(90,179,244)\"]],\"type\":\"surface\"}],\"table\":[{\"cells\":{\"fill\":{\"color\":\"rgb(237,237,237)\"},\"line\":{\"color\":\"white\"}},\"header\":{\"fill\":{\"color\":\"rgb(217,217,217)\"},\"line\":{\"color\":\"white\"}},\"type\":\"table\"}]},\"layout\":{\"annotationdefaults\":{\"arrowhead\":0,\"arrowwidth\":1},\"autotypenumbers\":\"strict\",\"coloraxis\":{\"colorbar\":{\"outlinewidth\":0,\"tickcolor\":\"rgb(237,237,237)\",\"ticklen\":6,\"ticks\":\"inside\"}},\"colorscale\":{\"sequential\":[[0,\"rgb(20,44,66)\"],[1,\"rgb(90,179,244)\"]],\"sequentialminus\":[[0,\"rgb(20,44,66)\"],[1,\"rgb(90,179,244)\"]]},\"colorway\":[\"#F8766D\",\"#A3A500\",\"#00BF7D\",\"#00B0F6\",\"#E76BF3\"],\"font\":{\"color\":\"rgb(51,51,51)\"},\"geo\":{\"bgcolor\":\"white\",\"lakecolor\":\"white\",\"landcolor\":\"rgb(237,237,237)\",\"showlakes\":true,\"showland\":true,\"subunitcolor\":\"white\"},\"hoverlabel\":{\"align\":\"left\"},\"hovermode\":\"closest\",\"paper_bgcolor\":\"white\",\"plot_bgcolor\":\"rgb(237,237,237)\",\"polar\":{\"angularaxis\":{\"gridcolor\":\"white\",\"linecolor\":\"white\",\"showgrid\":true,\"tickcolor\":\"rgb(51,51,51)\",\"ticks\":\"outside\"},\"bgcolor\":\"rgb(237,237,237)\",\"radialaxis\":{\"gridcolor\":\"white\",\"linecolor\":\"white\",\"showgrid\":true,\"tickcolor\":\"rgb(51,51,51)\",\"ticks\":\"outside\"}},\"scene\":{\"xaxis\":{\"backgroundcolor\":\"rgb(237,237,237)\",\"gridcolor\":\"white\",\"gridwidth\":2,\"linecolor\":\"white\",\"showbackground\":true,\"showgrid\":true,\"tickcolor\":\"rgb(51,51,51)\",\"ticks\":\"outside\",\"zerolinecolor\":\"white\"},\"yaxis\":{\"backgroundcolor\":\"rgb(237,237,237)\",\"gridcolor\":\"white\",\"gridwidth\":2,\"linecolor\":\"white\",\"showbackground\":true,\"showgrid\":true,\"tickcolor\":\"rgb(51,51,51)\",\"ticks\":\"outside\",\"zerolinecolor\":\"white\"},\"zaxis\":{\"backgroundcolor\":\"rgb(237,237,237)\",\"gridcolor\":\"white\",\"gridwidth\":2,\"linecolor\":\"white\",\"showbackground\":true,\"showgrid\":true,\"tickcolor\":\"rgb(51,51,51)\",\"ticks\":\"outside\",\"zerolinecolor\":\"white\"}},\"shapedefaults\":{\"fillcolor\":\"black\",\"line\":{\"width\":0},\"opacity\":0.3},\"ternary\":{\"aaxis\":{\"gridcolor\":\"white\",\"linecolor\":\"white\",\"showgrid\":true,\"tickcolor\":\"rgb(51,51,51)\",\"ticks\":\"outside\"},\"baxis\":{\"gridcolor\":\"white\",\"linecolor\":\"white\",\"showgrid\":true,\"tickcolor\":\"rgb(51,51,51)\",\"ticks\":\"outside\"},\"bgcolor\":\"rgb(237,237,237)\",\"caxis\":{\"gridcolor\":\"white\",\"linecolor\":\"white\",\"showgrid\":true,\"tickcolor\":\"rgb(51,51,51)\",\"ticks\":\"outside\"}},\"xaxis\":{\"automargin\":true,\"gridcolor\":\"white\",\"linecolor\":\"white\",\"showgrid\":true,\"tickcolor\":\"rgb(51,51,51)\",\"ticks\":\"outside\",\"title\":{\"standoff\":15},\"zerolinecolor\":\"white\"},\"yaxis\":{\"automargin\":true,\"gridcolor\":\"white\",\"linecolor\":\"white\",\"showgrid\":true,\"tickcolor\":\"rgb(51,51,51)\",\"ticks\":\"outside\",\"title\":{\"standoff\":15},\"zerolinecolor\":\"white\"}}},\"xaxis\":{\"anchor\":\"y\",\"domain\":[0.0,1.0],\"title\":{\"text\":\"Popularity\"}},\"yaxis\":{\"anchor\":\"x\",\"domain\":[0.0,1.0],\"title\":{\"text\":\"Developer\"},\"categoryorder\":\"array\",\"categoryarray\":[\"Disney\",\"PayPal, Inc.\",\"Roblox Corporation\",\"Zillow.com\",\"Wells Fargo\",\"Lion Studios\",\"Microsoft Corporation\",\"Life.Church\",\"Uber Technologies, Inc.\",\"Pandora Media, Inc.\",\"WhatsApp Inc.\",\"Lyft, Inc.\",\"TikTok Pte. Ltd.\",\"Venmo\",\"DoorDash, Inc.\",\"AMZN Mobile LLC\",\"Voodoo\",\"Spotify Ltd.\",\"Instagram, Inc.\",\"Google LLC\"]},\"legend\":{\"title\":{\"text\":\"Developer\"},\"tracegroupgap\":0},\"title\":{\"text\":\"Top 20 Popular Developers\",\"x\":0.5},\"showlegend\":false,\"width\":700},                        {\"responsive\": true}                    ).then(function(){\n",
       "                            \n",
       "var gd = document.getElementById('f86e8509-dbad-4201-a718-f62374a7b713');\n",
       "var x = new MutationObserver(function (mutations, observer) {{\n",
       "        var display = window.getComputedStyle(gd).display;\n",
       "        if (!display || display === 'none') {{\n",
       "            console.log([gd, 'removed!']);\n",
       "            Plotly.purge(gd);\n",
       "            observer.disconnect();\n",
       "        }}\n",
       "}});\n",
       "\n",
       "// Listen for the removal of the full notebook cells\n",
       "var notebookContainer = gd.closest('#notebook-container');\n",
       "if (notebookContainer) {{\n",
       "    x.observe(notebookContainer, {childList: true});\n",
       "}}\n",
       "\n",
       "// Listen for the clearing of the current output cell\n",
       "var outputEl = gd.closest('.output');\n",
       "if (outputEl) {{\n",
       "    x.observe(outputEl, {childList: true});\n",
       "}}\n",
       "\n",
       "                        })                };                            </script>        </div>\n",
       "</body>\n",
       "</html>"
      ]
     },
     "metadata": {},
     "output_type": "display_data"
    }
   ],
   "source": [
    "fig1= px.funnel(top_pop_dev[:20],\n",
    "                x='Popularity',\n",
    "                y='Developer',\n",
    "                text='App_Count',\n",
    "                color= 'Developer',\n",
    "                #labels='Developer',\n",
    "                template='ggplot2',\n",
    "                title= 'Top 20 Popular Developers')\n",
    "fig1.update_layout(title_x=0.5, showlegend=False, width= 700)\n",
    "fig1.show()"
   ]
  },
  {
   "cell_type": "markdown",
   "metadata": {
    "id": "tRSuHLlgi-A0"
   },
   "source": [
    "\n",
    "> Google has 42 million users with 85 apps.\n",
    "\n",
    "> Instagram with 6 apps has 21 million, that's half of google's total users.\n",
    "\n",
    "> Spotify and Voodoo has almost no of users. But voodoo has 189 apps where as spotify has only 7."
   ]
  },
  {
   "cell_type": "markdown",
   "metadata": {
    "id": "Rrm6X3AAJ5YL"
   },
   "source": [
    "### Q2.Which app has popularity dominance from any Top 20?"
   ]
  },
  {
   "cell_type": "code",
   "execution_count": 94,
   "metadata": {
    "executionInfo": {
     "elapsed": 1394,
     "status": "ok",
     "timestamp": 1662824136085,
     "user": {
      "displayName": "Pratul Chandra",
      "userId": "06160049637809107783"
     },
     "user_tz": -330
    },
    "id": "8podpW4Z9zl3"
   },
   "outputs": [],
   "source": [
    "google_df= df[df['Developer']=='Google LLC'].sort_values(by='Reviews',ascending=False)\n",
    "disney_df= df[df['Developer']=='Disney'].sort_values(by='Reviews',ascending=False)\n",
    "spotify_df= df[df['Developer']=='Spotify Ltd.'].sort_values(by='Reviews',ascending=False)\n",
    "voodoo_df= df[df['Developer']=='Voodoo'].sort_values(by='Reviews',ascending=False)\n",
    "amazon_df= df[df['Developer']=='AMZN Mobile LLC'].sort_values(by='Reviews',ascending=False)\n",
    "microsoft_df= df[df['Developer']=='Microsoft Corporation'].sort_values(by='Reviews',ascending=False)\n",
    "lion_df= df[df['Developer']=='Lion Studios'].sort_values(by='Reviews',ascending=False)"
   ]
  },
  {
   "cell_type": "code",
   "execution_count": 96,
   "metadata": {
    "executionInfo": {
     "elapsed": 542,
     "status": "ok",
     "timestamp": 1662824233330,
     "user": {
      "displayName": "Pratul Chandra",
      "userId": "06160049637809107783"
     },
     "user_tz": -330
    },
    "id": "C_DZZzFT9zj9"
   },
   "outputs": [],
   "source": [
    "from plotly import tools\n",
    "\n",
    "trace1 = go.Bar(\n",
    "    x=google_df['App_Name'][:10],\n",
    "    y=google_df['Reviews'],\n",
    "    name='Google LLC'\n",
    ")\n",
    "trace2 = go.Bar(\n",
    "    x=disney_df['App_Name'][:10],\n",
    "    y=disney_df['Reviews'],\n",
    "    name='Disney'\n",
    ")\n",
    "trace3 = go.Bar(\n",
    "    x=microsoft_df['App_Name'][:10],\n",
    "    y=microsoft_df['Reviews'],\n",
    "    name='Microsoft'\n",
    ")\n",
    "trace4 = go.Bar(\n",
    "    x=voodoo_df['App_Name'][:10],\n",
    "    y=voodoo_df['Reviews'],\n",
    "    name='Voodoo'\n",
    ")\n",
    "trace5 = go.Bar(\n",
    "    x=amazon_df['App_Name'][:10],\n",
    "    y=amazon_df['Reviews'],\n",
    "    name='Amazon Mobile LLC'\n",
    ")\n",
    "trace6 = go.Bar(\n",
    "    x=lion_df['App_Name'][:10],\n",
    "    y=lion_df['Reviews'],\n",
    "    name='Lion Studios'\n",
    ")\n",
    "\n",
    "fig2 = tools.make_subplots(rows=1, cols=6)\n"
   ]
  },
  {
   "cell_type": "code",
   "execution_count": 97,
   "metadata": {
    "colab": {
     "base_uri": "https://localhost:8080/",
     "height": 537
    },
    "executionInfo": {
     "elapsed": 10,
     "status": "ok",
     "timestamp": 1662824233895,
     "user": {
      "displayName": "Pratul Chandra",
      "userId": "06160049637809107783"
     },
     "user_tz": -330
    },
    "id": "LvZJxd-u4nxC",
    "outputId": "8a95ae28-206d-4788-9b3d-9296a7f47f6f"
   },
   "outputs": [
    {
     "data": {
      "text/html": [
       "<html>\n",
       "<head><meta charset=\"utf-8\" /></head>\n",
       "<body>\n",
       "    <div>            <script src=\"https://cdnjs.cloudflare.com/ajax/libs/mathjax/2.7.5/MathJax.js?config=TeX-AMS-MML_SVG\"></script><script type=\"text/javascript\">if (window.MathJax && window.MathJax.Hub && window.MathJax.Hub.Config) {window.MathJax.Hub.Config({SVG: {font: \"STIX-Web\"}});}</script>                <script type=\"text/javascript\">window.PlotlyConfig = {MathJaxConfig: 'local'};</script>\n",
       "        <script src=\"https://cdn.plot.ly/plotly-2.14.0.min.js\"></script>                <div id=\"0a5ce8b7-3fff-4b47-9577-9b7011092d75\" class=\"plotly-graph-div\" style=\"height:500px; width:1500px;\"></div>            <script type=\"text/javascript\">                                    window.PLOTLYENV=window.PLOTLYENV || {};                                    if (document.getElementById(\"0a5ce8b7-3fff-4b47-9577-9b7011092d75\")) {                    Plotly.newPlot(                        \"0a5ce8b7-3fff-4b47-9577-9b7011092d75\",                        [{\"name\":\"Google LLC\",\"x\":[\"YouTube: Watch, Listen, Stream\",\"Google Drive\",\"Google Maps\",\"Google Classroom\",\"Google Docs: Sync, Edit, Share\",\"YouTube Kids\",\"Google Duo\",\"Google Sheets\",\"YouTube Music\",\"Google Home\"],\"y\":[22685334,4371475,4132208,2113858,1567607,1555165,1377443,917573,664473,458862,388953,355735,327522,325475,229095,137647,137024,133716,130075,122810,103657,75175,66363,56446,53902,50383,41148,34829,34661,33255,30407,26638,26069,24966,16477,13925,13386,9078,7038,6499,5573,5166,4776,3814,3420,3236,2076,2075,1995,1851,1715,1618,1311,1292,1153,1137,1113,1108,1075,221,170,158,131,116,84,69,62,61,43,43,29,27,25,25,24,20,20,19,18,14,14,5,4,4,0],\"type\":\"bar\",\"xaxis\":\"x\",\"yaxis\":\"y\"},{\"name\":\"Disney\",\"x\":[\"My Disney Experience\",\"ESPN Fantasy Sports & More\",\"ESPN: Live Sports & Scores\",\"Disneyland\\u00ae\",\"Disney+\",\"ABC \\u2013 Live TV, Shows & Movies\",\"Shop Disney\",\"FXNOW: Movies, Shows & Live TV\",\"Disney Cruise Line Navigator\",\"Freeform TV\"],\"y\":[1527487,1274874,1167290,877349,265802,254191,82323,70346,61292,50883,48282,44982,42871,40128,30126,28896,16358,16165,12838,11603,9595,9539,8484,7178,4790,4032,2215,2076,1798,1713,1621,1510,1498,512,387,303,181,150,140,101,85,66,48,44,40,36,33,31,30,29,27,25,24,23,23,22,22,21,20,20,19,19,19,18,18,18,18,17,17,16,16,15,14,13,13,12,11,11,11,11,10,10,9,9,9,8,8,8,8,6,5,5,5,5,3,3,3,2,1,0,0],\"type\":\"bar\",\"xaxis\":\"x2\",\"yaxis\":\"y2\"},{\"name\":\"Microsoft\",\"x\":[\"Microsoft Teams\",\"Microsoft Word\",\"Xbox\",\"Microsoft Excel\",\"Intune Company Portal\",\"Microsoft OneDrive\",\"Microsoft PowerPoint\",\"Microsoft Office\",\"Microsoft Solitaire Collection\",\"Microsoft To Do\"],\"y\":[1847338,1317398,824919,684546,333878,328397,250380,169345,142042,123779,123440,119659,89227,77022,75227,51369,47727,38470,33554,32380,24404,15960,9257,8279,7711,4033,3400,2804,2480,2444,2386,2168,1532,1465,1167,1090,968,953,730,628,547,448,387,370,289,281,249,194,189,147,144,135,91,71,70,54,54,53,36,34,31,26,26,25,22,21,20,18,16,14,13,12,11,11,10,9,8,8,7,6,6,6,6,4,3,3,2,2,1,1,1,1,0,0,0,0,0,0,0,0,0],\"type\":\"bar\",\"xaxis\":\"x3\",\"yaxis\":\"y3\"},{\"name\":\"Voodoo\",\"x\":[\"Hole.io\",\"Helix Jump\",\"Paper.io 2\",\"Crowd City\",\"Snake VS Block\",\"Dune!\",\"Baseball Boy!\",\"Color Road!\",\"Ball Blast\",\"Fire Balls 3D\"],\"y\":[1887798,1446845,1257959,972240,567599,468319,444752,418638,396386,361077,327947,312501,292408,288693,287147,280260,260431,235848,231182,230335,224775,221417,219499,210848,209358,207149,204277,198771,198094,178551,173563,172465,169264,167878,154347,146059,142730,138208,128646,124491,114828,112744,110991,106930,102531,101700,98436,97888,90334,89357,88898,86030,81692,81170,76018,73986,73510,71878,68250,65171,63627,59978,59800,58094,57387,56074,55398,54776,54426,53299,53218,53124,52187,51824,51136,51055,50031,46169,45311,45299,44165,43934,43862,42642,42549,41738,40246,37214,35683,35629,35252,34327,33855,32964,30644,30509,30410,30182,29785,29430,29212,26998,26580,26106,25265,25177,24529,23740,22193,21880,21717,21582,21334,21129,21072,20864,19807,19766,19577,18587,15873,15506,14672,14347,14218,12148,12024,11736,11461,11343,10293,9853,9676,9285,9085,7942,7681,7663,7588,7438,6411,6341,6331,5697,5326,5158,5116,5062,4645,4622,4417,4337,4296,3650,3497,3394,3358,3203,3078,3022,2992,2223,2130,1973,1928,1905,1466,1431,1370,1319,1153,1150,954,939,861,718,699,673,620,544,319,153,116,115,71,51,41,31,8],\"type\":\"bar\",\"xaxis\":\"x4\",\"yaxis\":\"y4\"},{\"name\":\"Amazon Mobile LLC\",\"x\":[\"Amazon Shopping\",\"Amazon Kindle\",\"Amazon Alexa\",\"Amazon Prime Video\",\"Amazon Music: Songs & Podcasts\",\"Amazon Fire TV\",\"Amazon A to Z\",\"Souq.com  \\u0633\\u0648\\u0642.\\u0643\\u0648\\u0645\",\"Amazon Photos\",\"Amazon Shopper Panel\"],\"y\":[4349737,3233670,3115853,2498603,1382302,400358,201932,121875,90850,72554,64092,44283,31328,16716,10215,10161,4071,3873,2750,1918,1392,600,512,474,429,304,251,163,145,136,118,79,76,60,58,48,42,39,27,23,19,12,10,10,7,7,7,4,0,0],\"type\":\"bar\",\"xaxis\":\"x5\",\"yaxis\":\"y5\"},{\"name\":\"Lion Studios\",\"x\":[\"Match 3D\",\"Ink Inc. - Tattoo Drawing\",\"Cash, Inc. Fame & Fortune Game\",\"Hooked Inc: Fishing Games\",\"Slap Kings\",\"Save The Girl!\",\"Icing on the Cake\",\"Draw In\\u2122\",\"Stencil Art - Spray Masters\",\"Mr Bullet - Shooting Game\"],\"y\":[804105,638524,510463,398920,342310,288146,203922,200777,153600,151554,149427,145523,107316,95308,94847,91619,88553,84156,76542,73700,67635,66759,64960,64761,62080,60911,57394,55611,52826,51797,51161,48636,46384,43672,42900,38888,38634,37729,35697,35281,31800,29466,28526,28269,27065,26846,26203,25222,24617,23052,22351,21993,20923,20807,20232,19176,18475,18238,18195,18021,17681,16354,16222,15799,15543,15115,15060,14603,14200,13462,13367,13299,12895,12884,12376,12368,12346,12042,11158,9980,9861,8985,8901,8793,8515,8420,8179,7921,7905,7458,7372,7296,7122,7078,6840,6500,6399,6395,6197,6184,6125,5941,4984,4837,4785,4594,4498,4216,3596,3447,3213,2454,2427,2349,1789,1304,1259,1002,613,360,185,103,32,17,2],\"type\":\"bar\",\"xaxis\":\"x6\",\"yaxis\":\"y6\"}],                        {\"template\":{\"data\":{\"histogram2dcontour\":[{\"type\":\"histogram2dcontour\",\"colorbar\":{\"outlinewidth\":0,\"ticks\":\"\"},\"colorscale\":[[0.0,\"#0d0887\"],[0.1111111111111111,\"#46039f\"],[0.2222222222222222,\"#7201a8\"],[0.3333333333333333,\"#9c179e\"],[0.4444444444444444,\"#bd3786\"],[0.5555555555555556,\"#d8576b\"],[0.6666666666666666,\"#ed7953\"],[0.7777777777777778,\"#fb9f3a\"],[0.8888888888888888,\"#fdca26\"],[1.0,\"#f0f921\"]]}],\"choropleth\":[{\"type\":\"choropleth\",\"colorbar\":{\"outlinewidth\":0,\"ticks\":\"\"}}],\"histogram2d\":[{\"type\":\"histogram2d\",\"colorbar\":{\"outlinewidth\":0,\"ticks\":\"\"},\"colorscale\":[[0.0,\"#0d0887\"],[0.1111111111111111,\"#46039f\"],[0.2222222222222222,\"#7201a8\"],[0.3333333333333333,\"#9c179e\"],[0.4444444444444444,\"#bd3786\"],[0.5555555555555556,\"#d8576b\"],[0.6666666666666666,\"#ed7953\"],[0.7777777777777778,\"#fb9f3a\"],[0.8888888888888888,\"#fdca26\"],[1.0,\"#f0f921\"]]}],\"heatmap\":[{\"type\":\"heatmap\",\"colorbar\":{\"outlinewidth\":0,\"ticks\":\"\"},\"colorscale\":[[0.0,\"#0d0887\"],[0.1111111111111111,\"#46039f\"],[0.2222222222222222,\"#7201a8\"],[0.3333333333333333,\"#9c179e\"],[0.4444444444444444,\"#bd3786\"],[0.5555555555555556,\"#d8576b\"],[0.6666666666666666,\"#ed7953\"],[0.7777777777777778,\"#fb9f3a\"],[0.8888888888888888,\"#fdca26\"],[1.0,\"#f0f921\"]]}],\"heatmapgl\":[{\"type\":\"heatmapgl\",\"colorbar\":{\"outlinewidth\":0,\"ticks\":\"\"},\"colorscale\":[[0.0,\"#0d0887\"],[0.1111111111111111,\"#46039f\"],[0.2222222222222222,\"#7201a8\"],[0.3333333333333333,\"#9c179e\"],[0.4444444444444444,\"#bd3786\"],[0.5555555555555556,\"#d8576b\"],[0.6666666666666666,\"#ed7953\"],[0.7777777777777778,\"#fb9f3a\"],[0.8888888888888888,\"#fdca26\"],[1.0,\"#f0f921\"]]}],\"contourcarpet\":[{\"type\":\"contourcarpet\",\"colorbar\":{\"outlinewidth\":0,\"ticks\":\"\"}}],\"contour\":[{\"type\":\"contour\",\"colorbar\":{\"outlinewidth\":0,\"ticks\":\"\"},\"colorscale\":[[0.0,\"#0d0887\"],[0.1111111111111111,\"#46039f\"],[0.2222222222222222,\"#7201a8\"],[0.3333333333333333,\"#9c179e\"],[0.4444444444444444,\"#bd3786\"],[0.5555555555555556,\"#d8576b\"],[0.6666666666666666,\"#ed7953\"],[0.7777777777777778,\"#fb9f3a\"],[0.8888888888888888,\"#fdca26\"],[1.0,\"#f0f921\"]]}],\"surface\":[{\"type\":\"surface\",\"colorbar\":{\"outlinewidth\":0,\"ticks\":\"\"},\"colorscale\":[[0.0,\"#0d0887\"],[0.1111111111111111,\"#46039f\"],[0.2222222222222222,\"#7201a8\"],[0.3333333333333333,\"#9c179e\"],[0.4444444444444444,\"#bd3786\"],[0.5555555555555556,\"#d8576b\"],[0.6666666666666666,\"#ed7953\"],[0.7777777777777778,\"#fb9f3a\"],[0.8888888888888888,\"#fdca26\"],[1.0,\"#f0f921\"]]}],\"mesh3d\":[{\"type\":\"mesh3d\",\"colorbar\":{\"outlinewidth\":0,\"ticks\":\"\"}}],\"scatter\":[{\"fillpattern\":{\"fillmode\":\"overlay\",\"size\":10,\"solidity\":0.2},\"type\":\"scatter\"}],\"parcoords\":[{\"type\":\"parcoords\",\"line\":{\"colorbar\":{\"outlinewidth\":0,\"ticks\":\"\"}}}],\"scatterpolargl\":[{\"type\":\"scatterpolargl\",\"marker\":{\"colorbar\":{\"outlinewidth\":0,\"ticks\":\"\"}}}],\"bar\":[{\"error_x\":{\"color\":\"#2a3f5f\"},\"error_y\":{\"color\":\"#2a3f5f\"},\"marker\":{\"line\":{\"color\":\"#E5ECF6\",\"width\":0.5},\"pattern\":{\"fillmode\":\"overlay\",\"size\":10,\"solidity\":0.2}},\"type\":\"bar\"}],\"scattergeo\":[{\"type\":\"scattergeo\",\"marker\":{\"colorbar\":{\"outlinewidth\":0,\"ticks\":\"\"}}}],\"scatterpolar\":[{\"type\":\"scatterpolar\",\"marker\":{\"colorbar\":{\"outlinewidth\":0,\"ticks\":\"\"}}}],\"histogram\":[{\"marker\":{\"pattern\":{\"fillmode\":\"overlay\",\"size\":10,\"solidity\":0.2}},\"type\":\"histogram\"}],\"scattergl\":[{\"type\":\"scattergl\",\"marker\":{\"colorbar\":{\"outlinewidth\":0,\"ticks\":\"\"}}}],\"scatter3d\":[{\"type\":\"scatter3d\",\"line\":{\"colorbar\":{\"outlinewidth\":0,\"ticks\":\"\"}},\"marker\":{\"colorbar\":{\"outlinewidth\":0,\"ticks\":\"\"}}}],\"scattermapbox\":[{\"type\":\"scattermapbox\",\"marker\":{\"colorbar\":{\"outlinewidth\":0,\"ticks\":\"\"}}}],\"scatterternary\":[{\"type\":\"scatterternary\",\"marker\":{\"colorbar\":{\"outlinewidth\":0,\"ticks\":\"\"}}}],\"scattercarpet\":[{\"type\":\"scattercarpet\",\"marker\":{\"colorbar\":{\"outlinewidth\":0,\"ticks\":\"\"}}}],\"carpet\":[{\"aaxis\":{\"endlinecolor\":\"#2a3f5f\",\"gridcolor\":\"white\",\"linecolor\":\"white\",\"minorgridcolor\":\"white\",\"startlinecolor\":\"#2a3f5f\"},\"baxis\":{\"endlinecolor\":\"#2a3f5f\",\"gridcolor\":\"white\",\"linecolor\":\"white\",\"minorgridcolor\":\"white\",\"startlinecolor\":\"#2a3f5f\"},\"type\":\"carpet\"}],\"table\":[{\"cells\":{\"fill\":{\"color\":\"#EBF0F8\"},\"line\":{\"color\":\"white\"}},\"header\":{\"fill\":{\"color\":\"#C8D4E3\"},\"line\":{\"color\":\"white\"}},\"type\":\"table\"}],\"barpolar\":[{\"marker\":{\"line\":{\"color\":\"#E5ECF6\",\"width\":0.5},\"pattern\":{\"fillmode\":\"overlay\",\"size\":10,\"solidity\":0.2}},\"type\":\"barpolar\"}],\"pie\":[{\"automargin\":true,\"type\":\"pie\"}]},\"layout\":{\"autotypenumbers\":\"strict\",\"colorway\":[\"#636efa\",\"#EF553B\",\"#00cc96\",\"#ab63fa\",\"#FFA15A\",\"#19d3f3\",\"#FF6692\",\"#B6E880\",\"#FF97FF\",\"#FECB52\"],\"font\":{\"color\":\"#2a3f5f\"},\"hovermode\":\"closest\",\"hoverlabel\":{\"align\":\"left\"},\"paper_bgcolor\":\"white\",\"plot_bgcolor\":\"#E5ECF6\",\"polar\":{\"bgcolor\":\"#E5ECF6\",\"angularaxis\":{\"gridcolor\":\"white\",\"linecolor\":\"white\",\"ticks\":\"\"},\"radialaxis\":{\"gridcolor\":\"white\",\"linecolor\":\"white\",\"ticks\":\"\"}},\"ternary\":{\"bgcolor\":\"#E5ECF6\",\"aaxis\":{\"gridcolor\":\"white\",\"linecolor\":\"white\",\"ticks\":\"\"},\"baxis\":{\"gridcolor\":\"white\",\"linecolor\":\"white\",\"ticks\":\"\"},\"caxis\":{\"gridcolor\":\"white\",\"linecolor\":\"white\",\"ticks\":\"\"}},\"coloraxis\":{\"colorbar\":{\"outlinewidth\":0,\"ticks\":\"\"}},\"colorscale\":{\"sequential\":[[0.0,\"#0d0887\"],[0.1111111111111111,\"#46039f\"],[0.2222222222222222,\"#7201a8\"],[0.3333333333333333,\"#9c179e\"],[0.4444444444444444,\"#bd3786\"],[0.5555555555555556,\"#d8576b\"],[0.6666666666666666,\"#ed7953\"],[0.7777777777777778,\"#fb9f3a\"],[0.8888888888888888,\"#fdca26\"],[1.0,\"#f0f921\"]],\"sequentialminus\":[[0.0,\"#0d0887\"],[0.1111111111111111,\"#46039f\"],[0.2222222222222222,\"#7201a8\"],[0.3333333333333333,\"#9c179e\"],[0.4444444444444444,\"#bd3786\"],[0.5555555555555556,\"#d8576b\"],[0.6666666666666666,\"#ed7953\"],[0.7777777777777778,\"#fb9f3a\"],[0.8888888888888888,\"#fdca26\"],[1.0,\"#f0f921\"]],\"diverging\":[[0,\"#8e0152\"],[0.1,\"#c51b7d\"],[0.2,\"#de77ae\"],[0.3,\"#f1b6da\"],[0.4,\"#fde0ef\"],[0.5,\"#f7f7f7\"],[0.6,\"#e6f5d0\"],[0.7,\"#b8e186\"],[0.8,\"#7fbc41\"],[0.9,\"#4d9221\"],[1,\"#276419\"]]},\"xaxis\":{\"gridcolor\":\"white\",\"linecolor\":\"white\",\"ticks\":\"\",\"title\":{\"standoff\":15},\"zerolinecolor\":\"white\",\"automargin\":true,\"zerolinewidth\":2},\"yaxis\":{\"gridcolor\":\"white\",\"linecolor\":\"white\",\"ticks\":\"\",\"title\":{\"standoff\":15},\"zerolinecolor\":\"white\",\"automargin\":true,\"zerolinewidth\":2},\"scene\":{\"xaxis\":{\"backgroundcolor\":\"#E5ECF6\",\"gridcolor\":\"white\",\"linecolor\":\"white\",\"showbackground\":true,\"ticks\":\"\",\"zerolinecolor\":\"white\",\"gridwidth\":2},\"yaxis\":{\"backgroundcolor\":\"#E5ECF6\",\"gridcolor\":\"white\",\"linecolor\":\"white\",\"showbackground\":true,\"ticks\":\"\",\"zerolinecolor\":\"white\",\"gridwidth\":2},\"zaxis\":{\"backgroundcolor\":\"#E5ECF6\",\"gridcolor\":\"white\",\"linecolor\":\"white\",\"showbackground\":true,\"ticks\":\"\",\"zerolinecolor\":\"white\",\"gridwidth\":2}},\"shapedefaults\":{\"line\":{\"color\":\"#2a3f5f\"}},\"annotationdefaults\":{\"arrowcolor\":\"#2a3f5f\",\"arrowhead\":0,\"arrowwidth\":1},\"geo\":{\"bgcolor\":\"white\",\"landcolor\":\"#E5ECF6\",\"subunitcolor\":\"white\",\"showland\":true,\"showlakes\":true,\"lakecolor\":\"white\"},\"title\":{\"x\":0.05},\"mapbox\":{\"style\":\"light\"}}},\"xaxis\":{\"anchor\":\"y\",\"domain\":[0.0,0.1388888888888889],\"tickangle\":47},\"yaxis\":{\"anchor\":\"x\",\"domain\":[0.0,1.0]},\"xaxis2\":{\"anchor\":\"y2\",\"domain\":[0.17222222222222222,0.3111111111111111],\"tickangle\":47},\"yaxis2\":{\"anchor\":\"x2\",\"domain\":[0.0,1.0]},\"xaxis3\":{\"anchor\":\"y3\",\"domain\":[0.34444444444444444,0.48333333333333334],\"tickangle\":47},\"yaxis3\":{\"anchor\":\"x3\",\"domain\":[0.0,1.0]},\"xaxis4\":{\"anchor\":\"y4\",\"domain\":[0.5166666666666667,0.6555555555555557],\"tickangle\":47},\"yaxis4\":{\"anchor\":\"x4\",\"domain\":[0.0,1.0]},\"xaxis5\":{\"anchor\":\"y5\",\"domain\":[0.6888888888888889,0.8277777777777777],\"tickangle\":47},\"yaxis5\":{\"anchor\":\"x5\",\"domain\":[0.0,1.0]},\"xaxis6\":{\"anchor\":\"y6\",\"domain\":[0.861111111111111,1.0],\"tickangle\":47},\"yaxis6\":{\"anchor\":\"x6\",\"domain\":[0.0,1.0]},\"height\":500,\"width\":1500,\"title\":{\"text\":\"Most Popular Apps\"}},                        {\"responsive\": true}                    ).then(function(){\n",
       "                            \n",
       "var gd = document.getElementById('0a5ce8b7-3fff-4b47-9577-9b7011092d75');\n",
       "var x = new MutationObserver(function (mutations, observer) {{\n",
       "        var display = window.getComputedStyle(gd).display;\n",
       "        if (!display || display === 'none') {{\n",
       "            console.log([gd, 'removed!']);\n",
       "            Plotly.purge(gd);\n",
       "            observer.disconnect();\n",
       "        }}\n",
       "}});\n",
       "\n",
       "// Listen for the removal of the full notebook cells\n",
       "var notebookContainer = gd.closest('#notebook-container');\n",
       "if (notebookContainer) {{\n",
       "    x.observe(notebookContainer, {childList: true});\n",
       "}}\n",
       "\n",
       "// Listen for the clearing of the current output cell\n",
       "var outputEl = gd.closest('.output');\n",
       "if (outputEl) {{\n",
       "    x.observe(outputEl, {childList: true});\n",
       "}}\n",
       "\n",
       "                        })                };                            </script>        </div>\n",
       "</body>\n",
       "</html>"
      ]
     },
     "metadata": {},
     "output_type": "display_data"
    }
   ],
   "source": [
    "fig2.append_trace(trace1, 1,1)\n",
    "fig2.append_trace(trace2, 1,2)\n",
    "fig2.append_trace(trace3, 1,3)\n",
    "fig2.append_trace(trace4, 1,4)\n",
    "fig2.append_trace(trace5, 1,5)\n",
    "fig2.append_trace(trace6, 1,6)\n",
    "\n",
    "fig2.layout.update(height=500, width=1500)\n",
    "fig2.update_layout(title='Most Popular Apps')\n",
    "fig2.update_xaxes(tickangle=47)\n",
    "fig2.show()"
   ]
  },
  {
   "cell_type": "markdown",
   "metadata": {
    "id": "jvSMXIT_w9Ch"
   },
   "source": [
    "> Youtube is the dominant app from Google LLC with 20+ million users, that's the total users of below top 9 apps.\n",
    "\n",
    "> My Disney Experience and ESPN have a large amount of users.\n",
    "\n",
    "> Microsoft Teams is the dominant app from Microsoft.\n",
    "\n",
    "> From Voodoo a games developer Hele.io has more popularity(users).\n",
    "\n",
    "> Amazon has AMZN shopping app which is the dominant with almost 4.5 million users\n",
    "\n",
    "> Lion Studio has Match 3D app with 800+ thousand users."
   ]
  },
  {
   "cell_type": "markdown",
   "metadata": {
    "id": "Gqt9iPRNMBQn"
   },
   "source": [
    "### Q3.What is the impact on users due to size of the app?"
   ]
  },
  {
   "cell_type": "code",
   "execution_count": 44,
   "metadata": {
    "executionInfo": {
     "elapsed": 1379,
     "status": "ok",
     "timestamp": 1662822322171,
     "user": {
      "displayName": "Pratul Chandra",
      "userId": "06160049637809107783"
     },
     "user_tz": -330
    },
    "id": "AJZLU5Tb9zgF"
   },
   "outputs": [],
   "source": [
    "#### DIVIDING into Large / Medium / Small dfs\n",
    "\n",
    "large= df[(df.Size_MB>=500)].groupby(['Primary_Genre'])['Reviews'].sum().reset_index()\n",
    "medium= df[(df.Size_MB>=200)&(df.Size_MB<=500)].groupby(['Primary_Genre'])['Reviews'].sum().reset_index()\n",
    "small= df[(df.Size_MB<=200)].groupby(['Primary_Genre'])['Reviews'].sum().reset_index()\n",
    "\n",
    "#### MERGING Large / Medium / Small dfs into one\n",
    "\n",
    "l_and_m= pd.merge(large, medium, how='inner', on='Primary_Genre')\n",
    "users_impact_df= pd.merge(l_and_m, small, how='inner', on='Primary_Genre')\n",
    "users_impact_df.columns=['Genre','Large','Medium','Small']\n",
    "\n",
    "#### ADDING columns Percetage of Large / Medium / Small app users\n",
    "\n",
    "users_impact_df['Total_users'] = users_impact_df['Medium']+users_impact_df['Small']+users_impact_df['Large']\n",
    "users_impact_df['large_percentage']= round((users_impact_df['Large']/users_impact_df['Total_users'])*100,2)\n",
    "users_impact_df['medium_percentage']= round((users_impact_df['Medium']/users_impact_df['Total_users'])*100,2)                                      \n",
    "users_impact_df['small_percentage']= round((users_impact_df['Small']/users_impact_df['Total_users'])*100,2)\n",
    "\n",
    "### App Count categorically \n",
    "\n",
    "la= df[(df.Size_MB>=500)].groupby(['Primary_Genre'])['App_Name'].count().reset_index()\n",
    "ma= df[(df.Size_MB>=200)&(df.Size_MB<=500)].groupby(['Primary_Genre'])['App_Name'].count().reset_index()\n",
    "sa= df[(df.Size_MB<=200)].groupby(['Primary_Genre'])['App_Name'].count().reset_index()\n",
    "\n",
    "la_and_ma= pd.merge(la, ma, how='inner', on='Primary_Genre')\n",
    "app_df= pd.merge(la_and_ma, sa, how='inner', on='Primary_Genre')\n",
    "app_df.columns=['Category','Large','Medium','Small']"
   ]
  },
  {
   "cell_type": "code",
   "execution_count": 100,
   "metadata": {
    "colab": {
     "base_uri": "https://localhost:8080/",
     "height": 317
    },
    "executionInfo": {
     "elapsed": 507,
     "status": "ok",
     "timestamp": 1662824299197,
     "user": {
      "displayName": "Pratul Chandra",
      "userId": "06160049637809107783"
     },
     "user_tz": -330
    },
    "id": "Lq_eqebM9zeF",
    "outputId": "49c4d722-462f-48aa-8195-a7d69edd1191"
   },
   "outputs": [
    {
     "data": {
      "text/html": [
       "<html>\n",
       "<head><meta charset=\"utf-8\" /></head>\n",
       "<body>\n",
       "    <div>            <script src=\"https://cdnjs.cloudflare.com/ajax/libs/mathjax/2.7.5/MathJax.js?config=TeX-AMS-MML_SVG\"></script><script type=\"text/javascript\">if (window.MathJax && window.MathJax.Hub && window.MathJax.Hub.Config) {window.MathJax.Hub.Config({SVG: {font: \"STIX-Web\"}});}</script>                <script type=\"text/javascript\">window.PlotlyConfig = {MathJaxConfig: 'local'};</script>\n",
       "        <script src=\"https://cdn.plot.ly/plotly-2.14.0.min.js\"></script>                <div id=\"4d8d7404-ce86-4a11-a6ac-fff437d0533b\" class=\"plotly-graph-div\" style=\"height:300px; width:700px;\"></div>            <script type=\"text/javascript\">                                    window.PLOTLYENV=window.PLOTLYENV || {};                                    if (document.getElementById(\"4d8d7404-ce86-4a11-a6ac-fff437d0533b\")) {                    Plotly.newPlot(                        \"4d8d7404-ce86-4a11-a6ac-fff437d0533b\",                        [{\"cells\":{\"align\":\"left\",\"values\":[[\"Book\",\"Business\",\"Developer Tools\",\"Education\",\"Entertainment\",\"Finance\",\"Food & Drink\",\"Games\",\"Graphics & Design\",\"Health & Fitness\",\"Lifestyle\",\"Medical\",\"Music\",\"Navigation\",\"News\",\"Photo & Video\",\"Productivity\",\"Reference\",\"Shopping\",\"Social Networking\",\"Sports\",\"Travel\",\"Utilities\",\"Weather\"],[376,501,35,2479,769,70,31,7051,167,258,284,264,850,78,7,223,163,323,85,33,100,217,186,11],[654,3692,39,7272,2905,850,538,28673,234,1849,1661,740,1196,291,86,1028,960,726,543,590,823,2291,1395,73],[10442,124104,1877,109423,49466,44064,72588,157981,2380,58616,82620,26991,27852,12267,20330,24706,58307,17566,48909,24805,30532,41218,92425,3479]]},\"header\":{\"align\":\"left\",\"font\":{\"size\":10},\"values\":[\"Category\",\"Large\",\"Medium\",\"Small\"]},\"type\":\"table\"}],                        {\"template\":{\"data\":{\"histogram2dcontour\":[{\"type\":\"histogram2dcontour\",\"colorbar\":{\"outlinewidth\":0,\"ticks\":\"\"},\"colorscale\":[[0.0,\"#0d0887\"],[0.1111111111111111,\"#46039f\"],[0.2222222222222222,\"#7201a8\"],[0.3333333333333333,\"#9c179e\"],[0.4444444444444444,\"#bd3786\"],[0.5555555555555556,\"#d8576b\"],[0.6666666666666666,\"#ed7953\"],[0.7777777777777778,\"#fb9f3a\"],[0.8888888888888888,\"#fdca26\"],[1.0,\"#f0f921\"]]}],\"choropleth\":[{\"type\":\"choropleth\",\"colorbar\":{\"outlinewidth\":0,\"ticks\":\"\"}}],\"histogram2d\":[{\"type\":\"histogram2d\",\"colorbar\":{\"outlinewidth\":0,\"ticks\":\"\"},\"colorscale\":[[0.0,\"#0d0887\"],[0.1111111111111111,\"#46039f\"],[0.2222222222222222,\"#7201a8\"],[0.3333333333333333,\"#9c179e\"],[0.4444444444444444,\"#bd3786\"],[0.5555555555555556,\"#d8576b\"],[0.6666666666666666,\"#ed7953\"],[0.7777777777777778,\"#fb9f3a\"],[0.8888888888888888,\"#fdca26\"],[1.0,\"#f0f921\"]]}],\"heatmap\":[{\"type\":\"heatmap\",\"colorbar\":{\"outlinewidth\":0,\"ticks\":\"\"},\"colorscale\":[[0.0,\"#0d0887\"],[0.1111111111111111,\"#46039f\"],[0.2222222222222222,\"#7201a8\"],[0.3333333333333333,\"#9c179e\"],[0.4444444444444444,\"#bd3786\"],[0.5555555555555556,\"#d8576b\"],[0.6666666666666666,\"#ed7953\"],[0.7777777777777778,\"#fb9f3a\"],[0.8888888888888888,\"#fdca26\"],[1.0,\"#f0f921\"]]}],\"heatmapgl\":[{\"type\":\"heatmapgl\",\"colorbar\":{\"outlinewidth\":0,\"ticks\":\"\"},\"colorscale\":[[0.0,\"#0d0887\"],[0.1111111111111111,\"#46039f\"],[0.2222222222222222,\"#7201a8\"],[0.3333333333333333,\"#9c179e\"],[0.4444444444444444,\"#bd3786\"],[0.5555555555555556,\"#d8576b\"],[0.6666666666666666,\"#ed7953\"],[0.7777777777777778,\"#fb9f3a\"],[0.8888888888888888,\"#fdca26\"],[1.0,\"#f0f921\"]]}],\"contourcarpet\":[{\"type\":\"contourcarpet\",\"colorbar\":{\"outlinewidth\":0,\"ticks\":\"\"}}],\"contour\":[{\"type\":\"contour\",\"colorbar\":{\"outlinewidth\":0,\"ticks\":\"\"},\"colorscale\":[[0.0,\"#0d0887\"],[0.1111111111111111,\"#46039f\"],[0.2222222222222222,\"#7201a8\"],[0.3333333333333333,\"#9c179e\"],[0.4444444444444444,\"#bd3786\"],[0.5555555555555556,\"#d8576b\"],[0.6666666666666666,\"#ed7953\"],[0.7777777777777778,\"#fb9f3a\"],[0.8888888888888888,\"#fdca26\"],[1.0,\"#f0f921\"]]}],\"surface\":[{\"type\":\"surface\",\"colorbar\":{\"outlinewidth\":0,\"ticks\":\"\"},\"colorscale\":[[0.0,\"#0d0887\"],[0.1111111111111111,\"#46039f\"],[0.2222222222222222,\"#7201a8\"],[0.3333333333333333,\"#9c179e\"],[0.4444444444444444,\"#bd3786\"],[0.5555555555555556,\"#d8576b\"],[0.6666666666666666,\"#ed7953\"],[0.7777777777777778,\"#fb9f3a\"],[0.8888888888888888,\"#fdca26\"],[1.0,\"#f0f921\"]]}],\"mesh3d\":[{\"type\":\"mesh3d\",\"colorbar\":{\"outlinewidth\":0,\"ticks\":\"\"}}],\"scatter\":[{\"fillpattern\":{\"fillmode\":\"overlay\",\"size\":10,\"solidity\":0.2},\"type\":\"scatter\"}],\"parcoords\":[{\"type\":\"parcoords\",\"line\":{\"colorbar\":{\"outlinewidth\":0,\"ticks\":\"\"}}}],\"scatterpolargl\":[{\"type\":\"scatterpolargl\",\"marker\":{\"colorbar\":{\"outlinewidth\":0,\"ticks\":\"\"}}}],\"bar\":[{\"error_x\":{\"color\":\"#2a3f5f\"},\"error_y\":{\"color\":\"#2a3f5f\"},\"marker\":{\"line\":{\"color\":\"#E5ECF6\",\"width\":0.5},\"pattern\":{\"fillmode\":\"overlay\",\"size\":10,\"solidity\":0.2}},\"type\":\"bar\"}],\"scattergeo\":[{\"type\":\"scattergeo\",\"marker\":{\"colorbar\":{\"outlinewidth\":0,\"ticks\":\"\"}}}],\"scatterpolar\":[{\"type\":\"scatterpolar\",\"marker\":{\"colorbar\":{\"outlinewidth\":0,\"ticks\":\"\"}}}],\"histogram\":[{\"marker\":{\"pattern\":{\"fillmode\":\"overlay\",\"size\":10,\"solidity\":0.2}},\"type\":\"histogram\"}],\"scattergl\":[{\"type\":\"scattergl\",\"marker\":{\"colorbar\":{\"outlinewidth\":0,\"ticks\":\"\"}}}],\"scatter3d\":[{\"type\":\"scatter3d\",\"line\":{\"colorbar\":{\"outlinewidth\":0,\"ticks\":\"\"}},\"marker\":{\"colorbar\":{\"outlinewidth\":0,\"ticks\":\"\"}}}],\"scattermapbox\":[{\"type\":\"scattermapbox\",\"marker\":{\"colorbar\":{\"outlinewidth\":0,\"ticks\":\"\"}}}],\"scatterternary\":[{\"type\":\"scatterternary\",\"marker\":{\"colorbar\":{\"outlinewidth\":0,\"ticks\":\"\"}}}],\"scattercarpet\":[{\"type\":\"scattercarpet\",\"marker\":{\"colorbar\":{\"outlinewidth\":0,\"ticks\":\"\"}}}],\"carpet\":[{\"aaxis\":{\"endlinecolor\":\"#2a3f5f\",\"gridcolor\":\"white\",\"linecolor\":\"white\",\"minorgridcolor\":\"white\",\"startlinecolor\":\"#2a3f5f\"},\"baxis\":{\"endlinecolor\":\"#2a3f5f\",\"gridcolor\":\"white\",\"linecolor\":\"white\",\"minorgridcolor\":\"white\",\"startlinecolor\":\"#2a3f5f\"},\"type\":\"carpet\"}],\"table\":[{\"cells\":{\"fill\":{\"color\":\"#EBF0F8\"},\"line\":{\"color\":\"white\"}},\"header\":{\"fill\":{\"color\":\"#C8D4E3\"},\"line\":{\"color\":\"white\"}},\"type\":\"table\"}],\"barpolar\":[{\"marker\":{\"line\":{\"color\":\"#E5ECF6\",\"width\":0.5},\"pattern\":{\"fillmode\":\"overlay\",\"size\":10,\"solidity\":0.2}},\"type\":\"barpolar\"}],\"pie\":[{\"automargin\":true,\"type\":\"pie\"}]},\"layout\":{\"autotypenumbers\":\"strict\",\"colorway\":[\"#636efa\",\"#EF553B\",\"#00cc96\",\"#ab63fa\",\"#FFA15A\",\"#19d3f3\",\"#FF6692\",\"#B6E880\",\"#FF97FF\",\"#FECB52\"],\"font\":{\"color\":\"#2a3f5f\"},\"hovermode\":\"closest\",\"hoverlabel\":{\"align\":\"left\"},\"paper_bgcolor\":\"white\",\"plot_bgcolor\":\"#E5ECF6\",\"polar\":{\"bgcolor\":\"#E5ECF6\",\"angularaxis\":{\"gridcolor\":\"white\",\"linecolor\":\"white\",\"ticks\":\"\"},\"radialaxis\":{\"gridcolor\":\"white\",\"linecolor\":\"white\",\"ticks\":\"\"}},\"ternary\":{\"bgcolor\":\"#E5ECF6\",\"aaxis\":{\"gridcolor\":\"white\",\"linecolor\":\"white\",\"ticks\":\"\"},\"baxis\":{\"gridcolor\":\"white\",\"linecolor\":\"white\",\"ticks\":\"\"},\"caxis\":{\"gridcolor\":\"white\",\"linecolor\":\"white\",\"ticks\":\"\"}},\"coloraxis\":{\"colorbar\":{\"outlinewidth\":0,\"ticks\":\"\"}},\"colorscale\":{\"sequential\":[[0.0,\"#0d0887\"],[0.1111111111111111,\"#46039f\"],[0.2222222222222222,\"#7201a8\"],[0.3333333333333333,\"#9c179e\"],[0.4444444444444444,\"#bd3786\"],[0.5555555555555556,\"#d8576b\"],[0.6666666666666666,\"#ed7953\"],[0.7777777777777778,\"#fb9f3a\"],[0.8888888888888888,\"#fdca26\"],[1.0,\"#f0f921\"]],\"sequentialminus\":[[0.0,\"#0d0887\"],[0.1111111111111111,\"#46039f\"],[0.2222222222222222,\"#7201a8\"],[0.3333333333333333,\"#9c179e\"],[0.4444444444444444,\"#bd3786\"],[0.5555555555555556,\"#d8576b\"],[0.6666666666666666,\"#ed7953\"],[0.7777777777777778,\"#fb9f3a\"],[0.8888888888888888,\"#fdca26\"],[1.0,\"#f0f921\"]],\"diverging\":[[0,\"#8e0152\"],[0.1,\"#c51b7d\"],[0.2,\"#de77ae\"],[0.3,\"#f1b6da\"],[0.4,\"#fde0ef\"],[0.5,\"#f7f7f7\"],[0.6,\"#e6f5d0\"],[0.7,\"#b8e186\"],[0.8,\"#7fbc41\"],[0.9,\"#4d9221\"],[1,\"#276419\"]]},\"xaxis\":{\"gridcolor\":\"white\",\"linecolor\":\"white\",\"ticks\":\"\",\"title\":{\"standoff\":15},\"zerolinecolor\":\"white\",\"automargin\":true,\"zerolinewidth\":2},\"yaxis\":{\"gridcolor\":\"white\",\"linecolor\":\"white\",\"ticks\":\"\",\"title\":{\"standoff\":15},\"zerolinecolor\":\"white\",\"automargin\":true,\"zerolinewidth\":2},\"scene\":{\"xaxis\":{\"backgroundcolor\":\"#E5ECF6\",\"gridcolor\":\"white\",\"linecolor\":\"white\",\"showbackground\":true,\"ticks\":\"\",\"zerolinecolor\":\"white\",\"gridwidth\":2},\"yaxis\":{\"backgroundcolor\":\"#E5ECF6\",\"gridcolor\":\"white\",\"linecolor\":\"white\",\"showbackground\":true,\"ticks\":\"\",\"zerolinecolor\":\"white\",\"gridwidth\":2},\"zaxis\":{\"backgroundcolor\":\"#E5ECF6\",\"gridcolor\":\"white\",\"linecolor\":\"white\",\"showbackground\":true,\"ticks\":\"\",\"zerolinecolor\":\"white\",\"gridwidth\":2}},\"shapedefaults\":{\"line\":{\"color\":\"#2a3f5f\"}},\"annotationdefaults\":{\"arrowcolor\":\"#2a3f5f\",\"arrowhead\":0,\"arrowwidth\":1},\"geo\":{\"bgcolor\":\"white\",\"landcolor\":\"#E5ECF6\",\"subunitcolor\":\"white\",\"showland\":true,\"showlakes\":true,\"lakecolor\":\"white\"},\"title\":{\"x\":0.05},\"mapbox\":{\"style\":\"light\"}}},\"title\":{\"text\":\"Genre App Count \",\"x\":0.45},\"width\":700,\"height\":300},                        {\"responsive\": true}                    ).then(function(){\n",
       "                            \n",
       "var gd = document.getElementById('4d8d7404-ce86-4a11-a6ac-fff437d0533b');\n",
       "var x = new MutationObserver(function (mutations, observer) {{\n",
       "        var display = window.getComputedStyle(gd).display;\n",
       "        if (!display || display === 'none') {{\n",
       "            console.log([gd, 'removed!']);\n",
       "            Plotly.purge(gd);\n",
       "            observer.disconnect();\n",
       "        }}\n",
       "}});\n",
       "\n",
       "// Listen for the removal of the full notebook cells\n",
       "var notebookContainer = gd.closest('#notebook-container');\n",
       "if (notebookContainer) {{\n",
       "    x.observe(notebookContainer, {childList: true});\n",
       "}}\n",
       "\n",
       "// Listen for the clearing of the current output cell\n",
       "var outputEl = gd.closest('.output');\n",
       "if (outputEl) {{\n",
       "    x.observe(outputEl, {childList: true});\n",
       "}}\n",
       "\n",
       "                        })                };                            </script>        </div>\n",
       "</body>\n",
       "</html>"
      ]
     },
     "metadata": {},
     "output_type": "display_data"
    }
   ],
   "source": [
    "trace = go.Table(\n",
    "        header=dict(\n",
    "            values=['Category','Large','Medium','Small'],\n",
    "            #fill_color='mediumspringgreen',\n",
    "            font=dict(size=10),\n",
    "            align=\"left\"\n",
    "        ),\n",
    "        cells=dict(\n",
    "            values=[app_df[k].tolist() for k in app_df.columns],\n",
    "            #fill_color='blanchedalmond',\n",
    "            align = \"left\")\n",
    "    )\n",
    "fig = go.Figure(data = [trace])\n",
    "fig.update_layout(title='Genre App Count ', width=700, height=300, title_x=0.45)\n",
    "fig.show()\n",
    "###################################"
   ]
  },
  {
   "cell_type": "code",
   "execution_count": 103,
   "metadata": {
    "colab": {
     "base_uri": "https://localhost:8080/",
     "height": 542
    },
    "executionInfo": {
     "elapsed": 626,
     "status": "ok",
     "timestamp": 1662824383817,
     "user": {
      "displayName": "Pratul Chandra",
      "userId": "06160049637809107783"
     },
     "user_tz": -330
    },
    "id": "2o1Y5eSUDMfj",
    "outputId": "f601134a-42fd-480a-dcef-4e2c59d268f6"
   },
   "outputs": [
    {
     "data": {
      "text/html": [
       "<html>\n",
       "<head><meta charset=\"utf-8\" /></head>\n",
       "<body>\n",
       "    <div>            <script src=\"https://cdnjs.cloudflare.com/ajax/libs/mathjax/2.7.5/MathJax.js?config=TeX-AMS-MML_SVG\"></script><script type=\"text/javascript\">if (window.MathJax && window.MathJax.Hub && window.MathJax.Hub.Config) {window.MathJax.Hub.Config({SVG: {font: \"STIX-Web\"}});}</script>                <script type=\"text/javascript\">window.PlotlyConfig = {MathJaxConfig: 'local'};</script>\n",
       "        <script src=\"https://cdn.plot.ly/plotly-2.14.0.min.js\"></script>                <div id=\"0ba9c5e9-21d4-4619-8755-f9de2c116066\" class=\"plotly-graph-div\" style=\"height:525px; width:700px;\"></div>            <script type=\"text/javascript\">                                    window.PLOTLYENV=window.PLOTLYENV || {};                                    if (document.getElementById(\"0ba9c5e9-21d4-4619-8755-f9de2c116066\")) {                    Plotly.newPlot(                        \"0ba9c5e9-21d4-4619-8755-f9de2c116066\",                        [{\"marker\":{\"color\":\"rgba(102, 216, 137, 0.8)\"},\"name\":\"Large Apps (500 MB+)\",\"x\":[\"Book\",\"Business\",\"Developer Tools\",\"Education\",\"Entertainment\",\"Finance\",\"Food & Drink\",\"Games\",\"Graphics & Design\",\"Health & Fitness\",\"Lifestyle\",\"Medical\",\"Music\",\"Navigation\",\"News\",\"Photo & Video\",\"Productivity\",\"Reference\",\"Shopping\",\"Social Networking\",\"Sports\",\"Travel\",\"Utilities\",\"Weather\"],\"y\":[0.08,0.49,0.05,5.08,2.02,4.58,0.17,14.21,2.32,0.44,1.03,1.13,0.42,0.08,0.0,0.13,0.08,2.46,0.0,0.1,0.1,0.2,0.06,7.1],\"type\":\"bar\"},{\"marker\":{\"color\":\"rgba(224, 148, 215, 0.8)\"},\"name\":\"Medium Apps (200 - 500 MB)\",\"x\":[\"Book\",\"Business\",\"Developer Tools\",\"Education\",\"Entertainment\",\"Finance\",\"Food & Drink\",\"Games\",\"Graphics & Design\",\"Health & Fitness\",\"Lifestyle\",\"Medical\",\"Music\",\"Navigation\",\"News\",\"Photo & Video\",\"Productivity\",\"Reference\",\"Shopping\",\"Social Networking\",\"Sports\",\"Travel\",\"Utilities\",\"Weather\"],\"y\":[1.1,23.74,0.27,27.59,28.2,49.33,42.25,59.11,37.58,36.81,25.2,8.18,9.53,40.58,30.01,44.84,48.32,11.84,14.57,20.57,14.18,46.12,14.11,36.59],\"type\":\"bar\"},{\"marker\":{\"color\":\"#add8e6\"},\"name\":\"Small Apps (Below 150 MB)\",\"x\":[\"Book\",\"Business\",\"Developer Tools\",\"Education\",\"Entertainment\",\"Finance\",\"Food & Drink\",\"Games\",\"Graphics & Design\",\"Health & Fitness\",\"Lifestyle\",\"Medical\",\"Music\",\"Navigation\",\"News\",\"Photo & Video\",\"Productivity\",\"Reference\",\"Shopping\",\"Social Networking\",\"Sports\",\"Travel\",\"Utilities\",\"Weather\"],\"y\":[98.83,75.77,99.68,67.34,69.78,46.08,57.58,26.68,60.1,62.75,73.76,90.69,90.04,59.35,69.99,55.03,51.59,85.7,85.43,79.32,85.72,53.68,85.83,56.31],\"type\":\"bar\"}],                        {\"template\":{\"data\":{\"histogram2dcontour\":[{\"type\":\"histogram2dcontour\",\"colorbar\":{\"outlinewidth\":0,\"ticks\":\"\"},\"colorscale\":[[0.0,\"#0d0887\"],[0.1111111111111111,\"#46039f\"],[0.2222222222222222,\"#7201a8\"],[0.3333333333333333,\"#9c179e\"],[0.4444444444444444,\"#bd3786\"],[0.5555555555555556,\"#d8576b\"],[0.6666666666666666,\"#ed7953\"],[0.7777777777777778,\"#fb9f3a\"],[0.8888888888888888,\"#fdca26\"],[1.0,\"#f0f921\"]]}],\"choropleth\":[{\"type\":\"choropleth\",\"colorbar\":{\"outlinewidth\":0,\"ticks\":\"\"}}],\"histogram2d\":[{\"type\":\"histogram2d\",\"colorbar\":{\"outlinewidth\":0,\"ticks\":\"\"},\"colorscale\":[[0.0,\"#0d0887\"],[0.1111111111111111,\"#46039f\"],[0.2222222222222222,\"#7201a8\"],[0.3333333333333333,\"#9c179e\"],[0.4444444444444444,\"#bd3786\"],[0.5555555555555556,\"#d8576b\"],[0.6666666666666666,\"#ed7953\"],[0.7777777777777778,\"#fb9f3a\"],[0.8888888888888888,\"#fdca26\"],[1.0,\"#f0f921\"]]}],\"heatmap\":[{\"type\":\"heatmap\",\"colorbar\":{\"outlinewidth\":0,\"ticks\":\"\"},\"colorscale\":[[0.0,\"#0d0887\"],[0.1111111111111111,\"#46039f\"],[0.2222222222222222,\"#7201a8\"],[0.3333333333333333,\"#9c179e\"],[0.4444444444444444,\"#bd3786\"],[0.5555555555555556,\"#d8576b\"],[0.6666666666666666,\"#ed7953\"],[0.7777777777777778,\"#fb9f3a\"],[0.8888888888888888,\"#fdca26\"],[1.0,\"#f0f921\"]]}],\"heatmapgl\":[{\"type\":\"heatmapgl\",\"colorbar\":{\"outlinewidth\":0,\"ticks\":\"\"},\"colorscale\":[[0.0,\"#0d0887\"],[0.1111111111111111,\"#46039f\"],[0.2222222222222222,\"#7201a8\"],[0.3333333333333333,\"#9c179e\"],[0.4444444444444444,\"#bd3786\"],[0.5555555555555556,\"#d8576b\"],[0.6666666666666666,\"#ed7953\"],[0.7777777777777778,\"#fb9f3a\"],[0.8888888888888888,\"#fdca26\"],[1.0,\"#f0f921\"]]}],\"contourcarpet\":[{\"type\":\"contourcarpet\",\"colorbar\":{\"outlinewidth\":0,\"ticks\":\"\"}}],\"contour\":[{\"type\":\"contour\",\"colorbar\":{\"outlinewidth\":0,\"ticks\":\"\"},\"colorscale\":[[0.0,\"#0d0887\"],[0.1111111111111111,\"#46039f\"],[0.2222222222222222,\"#7201a8\"],[0.3333333333333333,\"#9c179e\"],[0.4444444444444444,\"#bd3786\"],[0.5555555555555556,\"#d8576b\"],[0.6666666666666666,\"#ed7953\"],[0.7777777777777778,\"#fb9f3a\"],[0.8888888888888888,\"#fdca26\"],[1.0,\"#f0f921\"]]}],\"surface\":[{\"type\":\"surface\",\"colorbar\":{\"outlinewidth\":0,\"ticks\":\"\"},\"colorscale\":[[0.0,\"#0d0887\"],[0.1111111111111111,\"#46039f\"],[0.2222222222222222,\"#7201a8\"],[0.3333333333333333,\"#9c179e\"],[0.4444444444444444,\"#bd3786\"],[0.5555555555555556,\"#d8576b\"],[0.6666666666666666,\"#ed7953\"],[0.7777777777777778,\"#fb9f3a\"],[0.8888888888888888,\"#fdca26\"],[1.0,\"#f0f921\"]]}],\"mesh3d\":[{\"type\":\"mesh3d\",\"colorbar\":{\"outlinewidth\":0,\"ticks\":\"\"}}],\"scatter\":[{\"fillpattern\":{\"fillmode\":\"overlay\",\"size\":10,\"solidity\":0.2},\"type\":\"scatter\"}],\"parcoords\":[{\"type\":\"parcoords\",\"line\":{\"colorbar\":{\"outlinewidth\":0,\"ticks\":\"\"}}}],\"scatterpolargl\":[{\"type\":\"scatterpolargl\",\"marker\":{\"colorbar\":{\"outlinewidth\":0,\"ticks\":\"\"}}}],\"bar\":[{\"error_x\":{\"color\":\"#2a3f5f\"},\"error_y\":{\"color\":\"#2a3f5f\"},\"marker\":{\"line\":{\"color\":\"#E5ECF6\",\"width\":0.5},\"pattern\":{\"fillmode\":\"overlay\",\"size\":10,\"solidity\":0.2}},\"type\":\"bar\"}],\"scattergeo\":[{\"type\":\"scattergeo\",\"marker\":{\"colorbar\":{\"outlinewidth\":0,\"ticks\":\"\"}}}],\"scatterpolar\":[{\"type\":\"scatterpolar\",\"marker\":{\"colorbar\":{\"outlinewidth\":0,\"ticks\":\"\"}}}],\"histogram\":[{\"marker\":{\"pattern\":{\"fillmode\":\"overlay\",\"size\":10,\"solidity\":0.2}},\"type\":\"histogram\"}],\"scattergl\":[{\"type\":\"scattergl\",\"marker\":{\"colorbar\":{\"outlinewidth\":0,\"ticks\":\"\"}}}],\"scatter3d\":[{\"type\":\"scatter3d\",\"line\":{\"colorbar\":{\"outlinewidth\":0,\"ticks\":\"\"}},\"marker\":{\"colorbar\":{\"outlinewidth\":0,\"ticks\":\"\"}}}],\"scattermapbox\":[{\"type\":\"scattermapbox\",\"marker\":{\"colorbar\":{\"outlinewidth\":0,\"ticks\":\"\"}}}],\"scatterternary\":[{\"type\":\"scatterternary\",\"marker\":{\"colorbar\":{\"outlinewidth\":0,\"ticks\":\"\"}}}],\"scattercarpet\":[{\"type\":\"scattercarpet\",\"marker\":{\"colorbar\":{\"outlinewidth\":0,\"ticks\":\"\"}}}],\"carpet\":[{\"aaxis\":{\"endlinecolor\":\"#2a3f5f\",\"gridcolor\":\"white\",\"linecolor\":\"white\",\"minorgridcolor\":\"white\",\"startlinecolor\":\"#2a3f5f\"},\"baxis\":{\"endlinecolor\":\"#2a3f5f\",\"gridcolor\":\"white\",\"linecolor\":\"white\",\"minorgridcolor\":\"white\",\"startlinecolor\":\"#2a3f5f\"},\"type\":\"carpet\"}],\"table\":[{\"cells\":{\"fill\":{\"color\":\"#EBF0F8\"},\"line\":{\"color\":\"white\"}},\"header\":{\"fill\":{\"color\":\"#C8D4E3\"},\"line\":{\"color\":\"white\"}},\"type\":\"table\"}],\"barpolar\":[{\"marker\":{\"line\":{\"color\":\"#E5ECF6\",\"width\":0.5},\"pattern\":{\"fillmode\":\"overlay\",\"size\":10,\"solidity\":0.2}},\"type\":\"barpolar\"}],\"pie\":[{\"automargin\":true,\"type\":\"pie\"}]},\"layout\":{\"autotypenumbers\":\"strict\",\"colorway\":[\"#636efa\",\"#EF553B\",\"#00cc96\",\"#ab63fa\",\"#FFA15A\",\"#19d3f3\",\"#FF6692\",\"#B6E880\",\"#FF97FF\",\"#FECB52\"],\"font\":{\"color\":\"#2a3f5f\"},\"hovermode\":\"closest\",\"hoverlabel\":{\"align\":\"left\"},\"paper_bgcolor\":\"white\",\"plot_bgcolor\":\"#E5ECF6\",\"polar\":{\"bgcolor\":\"#E5ECF6\",\"angularaxis\":{\"gridcolor\":\"white\",\"linecolor\":\"white\",\"ticks\":\"\"},\"radialaxis\":{\"gridcolor\":\"white\",\"linecolor\":\"white\",\"ticks\":\"\"}},\"ternary\":{\"bgcolor\":\"#E5ECF6\",\"aaxis\":{\"gridcolor\":\"white\",\"linecolor\":\"white\",\"ticks\":\"\"},\"baxis\":{\"gridcolor\":\"white\",\"linecolor\":\"white\",\"ticks\":\"\"},\"caxis\":{\"gridcolor\":\"white\",\"linecolor\":\"white\",\"ticks\":\"\"}},\"coloraxis\":{\"colorbar\":{\"outlinewidth\":0,\"ticks\":\"\"}},\"colorscale\":{\"sequential\":[[0.0,\"#0d0887\"],[0.1111111111111111,\"#46039f\"],[0.2222222222222222,\"#7201a8\"],[0.3333333333333333,\"#9c179e\"],[0.4444444444444444,\"#bd3786\"],[0.5555555555555556,\"#d8576b\"],[0.6666666666666666,\"#ed7953\"],[0.7777777777777778,\"#fb9f3a\"],[0.8888888888888888,\"#fdca26\"],[1.0,\"#f0f921\"]],\"sequentialminus\":[[0.0,\"#0d0887\"],[0.1111111111111111,\"#46039f\"],[0.2222222222222222,\"#7201a8\"],[0.3333333333333333,\"#9c179e\"],[0.4444444444444444,\"#bd3786\"],[0.5555555555555556,\"#d8576b\"],[0.6666666666666666,\"#ed7953\"],[0.7777777777777778,\"#fb9f3a\"],[0.8888888888888888,\"#fdca26\"],[1.0,\"#f0f921\"]],\"diverging\":[[0,\"#8e0152\"],[0.1,\"#c51b7d\"],[0.2,\"#de77ae\"],[0.3,\"#f1b6da\"],[0.4,\"#fde0ef\"],[0.5,\"#f7f7f7\"],[0.6,\"#e6f5d0\"],[0.7,\"#b8e186\"],[0.8,\"#7fbc41\"],[0.9,\"#4d9221\"],[1,\"#276419\"]]},\"xaxis\":{\"gridcolor\":\"white\",\"linecolor\":\"white\",\"ticks\":\"\",\"title\":{\"standoff\":15},\"zerolinecolor\":\"white\",\"automargin\":true,\"zerolinewidth\":2},\"yaxis\":{\"gridcolor\":\"white\",\"linecolor\":\"white\",\"ticks\":\"\",\"title\":{\"standoff\":15},\"zerolinecolor\":\"white\",\"automargin\":true,\"zerolinewidth\":2},\"scene\":{\"xaxis\":{\"backgroundcolor\":\"#E5ECF6\",\"gridcolor\":\"white\",\"linecolor\":\"white\",\"showbackground\":true,\"ticks\":\"\",\"zerolinecolor\":\"white\",\"gridwidth\":2},\"yaxis\":{\"backgroundcolor\":\"#E5ECF6\",\"gridcolor\":\"white\",\"linecolor\":\"white\",\"showbackground\":true,\"ticks\":\"\",\"zerolinecolor\":\"white\",\"gridwidth\":2},\"zaxis\":{\"backgroundcolor\":\"#E5ECF6\",\"gridcolor\":\"white\",\"linecolor\":\"white\",\"showbackground\":true,\"ticks\":\"\",\"zerolinecolor\":\"white\",\"gridwidth\":2}},\"shapedefaults\":{\"line\":{\"color\":\"#2a3f5f\"}},\"annotationdefaults\":{\"arrowcolor\":\"#2a3f5f\",\"arrowhead\":0,\"arrowwidth\":1},\"geo\":{\"bgcolor\":\"white\",\"landcolor\":\"#E5ECF6\",\"subunitcolor\":\"white\",\"showland\":true,\"showlakes\":true,\"lakecolor\":\"white\"},\"title\":{\"x\":0.05},\"mapbox\":{\"style\":\"light\"}}},\"title\":{\"text\":\"Impact on users due to Size of the app\",\"x\":0.4},\"xaxis\":{\"title\":{\"text\":\"Genre\"},\"tickangle\":45},\"yaxis\":{\"title\":{\"text\":\"User Percentage\"}},\"bargap\":0.3,\"bargroupgap\":0.1,\"barmode\":\"stack\",\"width\":700},                        {\"responsive\": true}                    ).then(function(){\n",
       "                            \n",
       "var gd = document.getElementById('0ba9c5e9-21d4-4619-8755-f9de2c116066');\n",
       "var x = new MutationObserver(function (mutations, observer) {{\n",
       "        var display = window.getComputedStyle(gd).display;\n",
       "        if (!display || display === 'none') {{\n",
       "            console.log([gd, 'removed!']);\n",
       "            Plotly.purge(gd);\n",
       "            observer.disconnect();\n",
       "        }}\n",
       "}});\n",
       "\n",
       "// Listen for the removal of the full notebook cells\n",
       "var notebookContainer = gd.closest('#notebook-container');\n",
       "if (notebookContainer) {{\n",
       "    x.observe(notebookContainer, {childList: true});\n",
       "}}\n",
       "\n",
       "// Listen for the clearing of the current output cell\n",
       "var outputEl = gd.closest('.output');\n",
       "if (outputEl) {{\n",
       "    x.observe(outputEl, {childList: true});\n",
       "}}\n",
       "\n",
       "                        })                };                            </script>        </div>\n",
       "</body>\n",
       "</html>"
      ]
     },
     "metadata": {},
     "output_type": "display_data"
    }
   ],
   "source": [
    "trace1 = go.Bar(x=users_impact_df['Genre'],y=users_impact_df['large_percentage'],\n",
    "                name = \"Large Apps (500 MB+)\",\n",
    "                marker = dict(color = 'rgba(102, 216, 137, 0.8)')\n",
    ")\n",
    "trace2 = go.Bar(x=users_impact_df['Genre'],y=users_impact_df['medium_percentage'],\n",
    "                name = \"Medium Apps (200 - 500 MB)\",\n",
    "                marker = dict(color = 'rgba(224, 148, 215, 0.8)')\n",
    ")\n",
    "trace3 = go.Bar(x=users_impact_df['Genre'],y=users_impact_df['small_percentage'],\n",
    "                name = \"Small Apps (Below 150 MB)\",\n",
    "                marker = dict(color = '#add8e6')\n",
    ")\n",
    "data = [trace1, trace2, trace3]\n",
    "\n",
    "fig3 = go.Figure(data = data)\n",
    "fig3.update_layout(\n",
    "    title='Impact on users due to Size of the app', # title of plot\n",
    "    xaxis_title='Genre', # xaxis label\n",
    "    yaxis_title='User Percentage', # yaxis label\n",
    "    bargap=0.3, # gap between bars of adjacent location coordinates\n",
    "    bargroupgap=0.1, # gap between bars of the same location coordinates\n",
    "    barmode='stack',  width=700,title_x=0.4\n",
    ")\n",
    "fig3.update_xaxes(tickangle=45)\n",
    "fig3.show()"
   ]
  },
  {
   "cell_type": "markdown",
   "metadata": {
    "id": "XTleuEfm1LTB"
   },
   "source": [
    "> Number of Small apps are higher than medium and large so the users.\n",
    "\n",
    "> Although Medium sized apps are lesser than small apps, users percentage is good and can be comparable with small app users.\n",
    "\n",
    "> Large app has way too low in number of apps and also the user. But in games 16 percentage of users chose to play large sized games. There are also larege apps in Weather, Education etc. but their user percentage and app count is too low compared to games. "
   ]
  },
  {
   "cell_type": "markdown",
   "metadata": {
    "id": "2UpYZY3fPToZ"
   },
   "source": [
    "### Q4.What is the number of app releases and users over the years? \n"
   ]
  },
  {
   "cell_type": "code",
   "execution_count": 46,
   "metadata": {
    "executionInfo": {
     "elapsed": 524,
     "status": "ok",
     "timestamp": 1662822334386,
     "user": {
      "displayName": "Pratul Chandra",
      "userId": "06160049637809107783"
     },
     "user_tz": -330
    },
    "id": "W8lg8oL79zaC"
   },
   "outputs": [],
   "source": [
    "df['Revenue']=df['Reviews']*df['Price'] "
   ]
  },
  {
   "cell_type": "code",
   "execution_count": 47,
   "metadata": {
    "executionInfo": {
     "elapsed": 690,
     "status": "ok",
     "timestamp": 1662822335845,
     "user": {
      "displayName": "Pratul Chandra",
      "userId": "06160049637809107783"
     },
     "user_tz": -330
    },
    "id": "230OuWsh9zYM"
   },
   "outputs": [],
   "source": [
    "app_count=df.groupby([df['Released'].dt.year,df['Primary_Genre']])['App_Name'].count().reset_index()\n",
    "app_count.rename(columns={'App_Name': 'No_of_Apps'}, inplace=True)\n",
    "year_users= df.groupby([df['Released'].dt.year,df['Primary_Genre']])['Reviews'].sum().reset_index()\n",
    "all_yr_gn_df = pd.merge(app_count, year_users,  \n",
    "                        how='left', \n",
    "                        left_on=['Released','Primary_Genre'], \n",
    "                        right_on = ['Released','Primary_Genre'])\n",
    "all_yr_gn_df.rename(columns={'Released':'Year',\n",
    "                             'Primary_Genre':'Genre',\n",
    "                             'App_Name': 'No_of_Apps',\n",
    "                             'Reviews': 'Users'}, inplace=True)"
   ]
  },
  {
   "cell_type": "code",
   "execution_count": 48,
   "metadata": {
    "executionInfo": {
     "elapsed": 781,
     "status": "ok",
     "timestamp": 1662822336622,
     "user": {
      "displayName": "Pratul Chandra",
      "userId": "06160049637809107783"
     },
     "user_tz": -330
    },
    "id": "ce3yoVq83wOy"
   },
   "outputs": [],
   "source": [
    "user_by_yr= df.groupby([df['Released'].dt.year])['Reviews'].sum().reset_index()\n",
    "user_by_yr.columns= ['Year', 'Users']"
   ]
  },
  {
   "cell_type": "code",
   "execution_count": null,
   "metadata": {
    "id": "bv-kHw1x9zWU"
   },
   "outputs": [],
   "source": [
    "# Remove these (''') to run this code for Altair visualization \n",
    "'''fig = px.line(user_by_yr, x='Year', y='Users', markers=True) #color='country'\n",
    "fig.update_layout(title='Users Over the Years',width = 728,height = 370, title_x=0.5)\n",
    "fig.show()\n",
    "#############\n",
    "select_year = alt.selection_single(name='Select Year', fields=['Year'], init={'Year': 2008},\n",
    "                                  bind=alt.binding_range(min=2008, max=2021, step=1))\n",
    "alt.Chart(all_yr_gn_df).mark_point(filled=True).encode(\n",
    "    alt.X('No_of_Apps'),\n",
    "    alt.Y('Genre'),\n",
    "    alt.Size('No_of_Apps'),\n",
    "    alt.Color('Genre'),\n",
    "    alt.OpacityValue(0.7),\n",
    "    tooltip = [alt.Tooltip('Users:Q'),\n",
    "               alt.Tooltip('No_of_Apps:Q'),\n",
    "               alt.Tooltip('Genre:N'),\n",
    "               alt.Tooltip('Released:Q')]\n",
    ").properties(width = 500, \n",
    "             height = 470, \n",
    "             title = \"App Releases (Yearly)\").add_selection(select_year).transform_filter(select_year)'''"
   ]
  },
  {
   "cell_type": "code",
   "execution_count": 105,
   "metadata": {
    "colab": {
     "base_uri": "https://localhost:8080/",
     "height": 387
    },
    "executionInfo": {
     "elapsed": 503,
     "status": "ok",
     "timestamp": 1662824433706,
     "user": {
      "displayName": "Pratul Chandra",
      "userId": "06160049637809107783"
     },
     "user_tz": -330
    },
    "id": "UOUNivUAgHte",
    "outputId": "6221e37e-a62e-45c0-a0ca-6578f7be8ed1"
   },
   "outputs": [
    {
     "data": {
      "text/html": [
       "<html>\n",
       "<head><meta charset=\"utf-8\" /></head>\n",
       "<body>\n",
       "    <div>            <script src=\"https://cdnjs.cloudflare.com/ajax/libs/mathjax/2.7.5/MathJax.js?config=TeX-AMS-MML_SVG\"></script><script type=\"text/javascript\">if (window.MathJax && window.MathJax.Hub && window.MathJax.Hub.Config) {window.MathJax.Hub.Config({SVG: {font: \"STIX-Web\"}});}</script>                <script type=\"text/javascript\">window.PlotlyConfig = {MathJaxConfig: 'local'};</script>\n",
       "        <script src=\"https://cdn.plot.ly/plotly-2.14.0.min.js\"></script>                <div id=\"5d653c9b-c2f2-4629-bcbe-e2343e40aa8f\" class=\"plotly-graph-div\" style=\"height:370px; width:700px;\"></div>            <script type=\"text/javascript\">                                    window.PLOTLYENV=window.PLOTLYENV || {};                                    if (document.getElementById(\"5d653c9b-c2f2-4629-bcbe-e2343e40aa8f\")) {                    Plotly.newPlot(                        \"5d653c9b-c2f2-4629-bcbe-e2343e40aa8f\",                        [{\"hovertemplate\":\"Year=%{x}<br>Users=%{y}<extra></extra>\",\"legendgroup\":\"\",\"line\":{\"color\":\"#636efa\",\"dash\":\"solid\"},\"marker\":{\"symbol\":\"circle\"},\"mode\":\"lines+markers\",\"name\":\"\",\"orientation\":\"v\",\"showlegend\":false,\"x\":[2008,2009,2010,2011,2012,2013,2014,2015,2016,2017,2018,2019,2020,2021],\"xaxis\":\"x\",\"y\":[22572857,98164378,98825638,99847153,114507432,70178420,81494431,54371944,69444768,72390721,77162268,104844713,42077208,10344410],\"yaxis\":\"y\",\"type\":\"scatter\"}],                        {\"template\":{\"data\":{\"histogram2dcontour\":[{\"type\":\"histogram2dcontour\",\"colorbar\":{\"outlinewidth\":0,\"ticks\":\"\"},\"colorscale\":[[0.0,\"#0d0887\"],[0.1111111111111111,\"#46039f\"],[0.2222222222222222,\"#7201a8\"],[0.3333333333333333,\"#9c179e\"],[0.4444444444444444,\"#bd3786\"],[0.5555555555555556,\"#d8576b\"],[0.6666666666666666,\"#ed7953\"],[0.7777777777777778,\"#fb9f3a\"],[0.8888888888888888,\"#fdca26\"],[1.0,\"#f0f921\"]]}],\"choropleth\":[{\"type\":\"choropleth\",\"colorbar\":{\"outlinewidth\":0,\"ticks\":\"\"}}],\"histogram2d\":[{\"type\":\"histogram2d\",\"colorbar\":{\"outlinewidth\":0,\"ticks\":\"\"},\"colorscale\":[[0.0,\"#0d0887\"],[0.1111111111111111,\"#46039f\"],[0.2222222222222222,\"#7201a8\"],[0.3333333333333333,\"#9c179e\"],[0.4444444444444444,\"#bd3786\"],[0.5555555555555556,\"#d8576b\"],[0.6666666666666666,\"#ed7953\"],[0.7777777777777778,\"#fb9f3a\"],[0.8888888888888888,\"#fdca26\"],[1.0,\"#f0f921\"]]}],\"heatmap\":[{\"type\":\"heatmap\",\"colorbar\":{\"outlinewidth\":0,\"ticks\":\"\"},\"colorscale\":[[0.0,\"#0d0887\"],[0.1111111111111111,\"#46039f\"],[0.2222222222222222,\"#7201a8\"],[0.3333333333333333,\"#9c179e\"],[0.4444444444444444,\"#bd3786\"],[0.5555555555555556,\"#d8576b\"],[0.6666666666666666,\"#ed7953\"],[0.7777777777777778,\"#fb9f3a\"],[0.8888888888888888,\"#fdca26\"],[1.0,\"#f0f921\"]]}],\"heatmapgl\":[{\"type\":\"heatmapgl\",\"colorbar\":{\"outlinewidth\":0,\"ticks\":\"\"},\"colorscale\":[[0.0,\"#0d0887\"],[0.1111111111111111,\"#46039f\"],[0.2222222222222222,\"#7201a8\"],[0.3333333333333333,\"#9c179e\"],[0.4444444444444444,\"#bd3786\"],[0.5555555555555556,\"#d8576b\"],[0.6666666666666666,\"#ed7953\"],[0.7777777777777778,\"#fb9f3a\"],[0.8888888888888888,\"#fdca26\"],[1.0,\"#f0f921\"]]}],\"contourcarpet\":[{\"type\":\"contourcarpet\",\"colorbar\":{\"outlinewidth\":0,\"ticks\":\"\"}}],\"contour\":[{\"type\":\"contour\",\"colorbar\":{\"outlinewidth\":0,\"ticks\":\"\"},\"colorscale\":[[0.0,\"#0d0887\"],[0.1111111111111111,\"#46039f\"],[0.2222222222222222,\"#7201a8\"],[0.3333333333333333,\"#9c179e\"],[0.4444444444444444,\"#bd3786\"],[0.5555555555555556,\"#d8576b\"],[0.6666666666666666,\"#ed7953\"],[0.7777777777777778,\"#fb9f3a\"],[0.8888888888888888,\"#fdca26\"],[1.0,\"#f0f921\"]]}],\"surface\":[{\"type\":\"surface\",\"colorbar\":{\"outlinewidth\":0,\"ticks\":\"\"},\"colorscale\":[[0.0,\"#0d0887\"],[0.1111111111111111,\"#46039f\"],[0.2222222222222222,\"#7201a8\"],[0.3333333333333333,\"#9c179e\"],[0.4444444444444444,\"#bd3786\"],[0.5555555555555556,\"#d8576b\"],[0.6666666666666666,\"#ed7953\"],[0.7777777777777778,\"#fb9f3a\"],[0.8888888888888888,\"#fdca26\"],[1.0,\"#f0f921\"]]}],\"mesh3d\":[{\"type\":\"mesh3d\",\"colorbar\":{\"outlinewidth\":0,\"ticks\":\"\"}}],\"scatter\":[{\"fillpattern\":{\"fillmode\":\"overlay\",\"size\":10,\"solidity\":0.2},\"type\":\"scatter\"}],\"parcoords\":[{\"type\":\"parcoords\",\"line\":{\"colorbar\":{\"outlinewidth\":0,\"ticks\":\"\"}}}],\"scatterpolargl\":[{\"type\":\"scatterpolargl\",\"marker\":{\"colorbar\":{\"outlinewidth\":0,\"ticks\":\"\"}}}],\"bar\":[{\"error_x\":{\"color\":\"#2a3f5f\"},\"error_y\":{\"color\":\"#2a3f5f\"},\"marker\":{\"line\":{\"color\":\"#E5ECF6\",\"width\":0.5},\"pattern\":{\"fillmode\":\"overlay\",\"size\":10,\"solidity\":0.2}},\"type\":\"bar\"}],\"scattergeo\":[{\"type\":\"scattergeo\",\"marker\":{\"colorbar\":{\"outlinewidth\":0,\"ticks\":\"\"}}}],\"scatterpolar\":[{\"type\":\"scatterpolar\",\"marker\":{\"colorbar\":{\"outlinewidth\":0,\"ticks\":\"\"}}}],\"histogram\":[{\"marker\":{\"pattern\":{\"fillmode\":\"overlay\",\"size\":10,\"solidity\":0.2}},\"type\":\"histogram\"}],\"scattergl\":[{\"type\":\"scattergl\",\"marker\":{\"colorbar\":{\"outlinewidth\":0,\"ticks\":\"\"}}}],\"scatter3d\":[{\"type\":\"scatter3d\",\"line\":{\"colorbar\":{\"outlinewidth\":0,\"ticks\":\"\"}},\"marker\":{\"colorbar\":{\"outlinewidth\":0,\"ticks\":\"\"}}}],\"scattermapbox\":[{\"type\":\"scattermapbox\",\"marker\":{\"colorbar\":{\"outlinewidth\":0,\"ticks\":\"\"}}}],\"scatterternary\":[{\"type\":\"scatterternary\",\"marker\":{\"colorbar\":{\"outlinewidth\":0,\"ticks\":\"\"}}}],\"scattercarpet\":[{\"type\":\"scattercarpet\",\"marker\":{\"colorbar\":{\"outlinewidth\":0,\"ticks\":\"\"}}}],\"carpet\":[{\"aaxis\":{\"endlinecolor\":\"#2a3f5f\",\"gridcolor\":\"white\",\"linecolor\":\"white\",\"minorgridcolor\":\"white\",\"startlinecolor\":\"#2a3f5f\"},\"baxis\":{\"endlinecolor\":\"#2a3f5f\",\"gridcolor\":\"white\",\"linecolor\":\"white\",\"minorgridcolor\":\"white\",\"startlinecolor\":\"#2a3f5f\"},\"type\":\"carpet\"}],\"table\":[{\"cells\":{\"fill\":{\"color\":\"#EBF0F8\"},\"line\":{\"color\":\"white\"}},\"header\":{\"fill\":{\"color\":\"#C8D4E3\"},\"line\":{\"color\":\"white\"}},\"type\":\"table\"}],\"barpolar\":[{\"marker\":{\"line\":{\"color\":\"#E5ECF6\",\"width\":0.5},\"pattern\":{\"fillmode\":\"overlay\",\"size\":10,\"solidity\":0.2}},\"type\":\"barpolar\"}],\"pie\":[{\"automargin\":true,\"type\":\"pie\"}]},\"layout\":{\"autotypenumbers\":\"strict\",\"colorway\":[\"#636efa\",\"#EF553B\",\"#00cc96\",\"#ab63fa\",\"#FFA15A\",\"#19d3f3\",\"#FF6692\",\"#B6E880\",\"#FF97FF\",\"#FECB52\"],\"font\":{\"color\":\"#2a3f5f\"},\"hovermode\":\"closest\",\"hoverlabel\":{\"align\":\"left\"},\"paper_bgcolor\":\"white\",\"plot_bgcolor\":\"#E5ECF6\",\"polar\":{\"bgcolor\":\"#E5ECF6\",\"angularaxis\":{\"gridcolor\":\"white\",\"linecolor\":\"white\",\"ticks\":\"\"},\"radialaxis\":{\"gridcolor\":\"white\",\"linecolor\":\"white\",\"ticks\":\"\"}},\"ternary\":{\"bgcolor\":\"#E5ECF6\",\"aaxis\":{\"gridcolor\":\"white\",\"linecolor\":\"white\",\"ticks\":\"\"},\"baxis\":{\"gridcolor\":\"white\",\"linecolor\":\"white\",\"ticks\":\"\"},\"caxis\":{\"gridcolor\":\"white\",\"linecolor\":\"white\",\"ticks\":\"\"}},\"coloraxis\":{\"colorbar\":{\"outlinewidth\":0,\"ticks\":\"\"}},\"colorscale\":{\"sequential\":[[0.0,\"#0d0887\"],[0.1111111111111111,\"#46039f\"],[0.2222222222222222,\"#7201a8\"],[0.3333333333333333,\"#9c179e\"],[0.4444444444444444,\"#bd3786\"],[0.5555555555555556,\"#d8576b\"],[0.6666666666666666,\"#ed7953\"],[0.7777777777777778,\"#fb9f3a\"],[0.8888888888888888,\"#fdca26\"],[1.0,\"#f0f921\"]],\"sequentialminus\":[[0.0,\"#0d0887\"],[0.1111111111111111,\"#46039f\"],[0.2222222222222222,\"#7201a8\"],[0.3333333333333333,\"#9c179e\"],[0.4444444444444444,\"#bd3786\"],[0.5555555555555556,\"#d8576b\"],[0.6666666666666666,\"#ed7953\"],[0.7777777777777778,\"#fb9f3a\"],[0.8888888888888888,\"#fdca26\"],[1.0,\"#f0f921\"]],\"diverging\":[[0,\"#8e0152\"],[0.1,\"#c51b7d\"],[0.2,\"#de77ae\"],[0.3,\"#f1b6da\"],[0.4,\"#fde0ef\"],[0.5,\"#f7f7f7\"],[0.6,\"#e6f5d0\"],[0.7,\"#b8e186\"],[0.8,\"#7fbc41\"],[0.9,\"#4d9221\"],[1,\"#276419\"]]},\"xaxis\":{\"gridcolor\":\"white\",\"linecolor\":\"white\",\"ticks\":\"\",\"title\":{\"standoff\":15},\"zerolinecolor\":\"white\",\"automargin\":true,\"zerolinewidth\":2},\"yaxis\":{\"gridcolor\":\"white\",\"linecolor\":\"white\",\"ticks\":\"\",\"title\":{\"standoff\":15},\"zerolinecolor\":\"white\",\"automargin\":true,\"zerolinewidth\":2},\"scene\":{\"xaxis\":{\"backgroundcolor\":\"#E5ECF6\",\"gridcolor\":\"white\",\"linecolor\":\"white\",\"showbackground\":true,\"ticks\":\"\",\"zerolinecolor\":\"white\",\"gridwidth\":2},\"yaxis\":{\"backgroundcolor\":\"#E5ECF6\",\"gridcolor\":\"white\",\"linecolor\":\"white\",\"showbackground\":true,\"ticks\":\"\",\"zerolinecolor\":\"white\",\"gridwidth\":2},\"zaxis\":{\"backgroundcolor\":\"#E5ECF6\",\"gridcolor\":\"white\",\"linecolor\":\"white\",\"showbackground\":true,\"ticks\":\"\",\"zerolinecolor\":\"white\",\"gridwidth\":2}},\"shapedefaults\":{\"line\":{\"color\":\"#2a3f5f\"}},\"annotationdefaults\":{\"arrowcolor\":\"#2a3f5f\",\"arrowhead\":0,\"arrowwidth\":1},\"geo\":{\"bgcolor\":\"white\",\"landcolor\":\"#E5ECF6\",\"subunitcolor\":\"white\",\"showland\":true,\"showlakes\":true,\"lakecolor\":\"white\"},\"title\":{\"x\":0.05},\"mapbox\":{\"style\":\"light\"}}},\"xaxis\":{\"anchor\":\"y\",\"domain\":[0.0,1.0],\"title\":{\"text\":\"Year\"}},\"yaxis\":{\"anchor\":\"x\",\"domain\":[0.0,1.0],\"title\":{\"text\":\"Users\"}},\"legend\":{\"tracegroupgap\":0},\"margin\":{\"t\":60},\"title\":{\"text\":\"Users Over the Years\",\"x\":0.5},\"width\":700,\"height\":370},                        {\"responsive\": true}                    ).then(function(){\n",
       "                            \n",
       "var gd = document.getElementById('5d653c9b-c2f2-4629-bcbe-e2343e40aa8f');\n",
       "var x = new MutationObserver(function (mutations, observer) {{\n",
       "        var display = window.getComputedStyle(gd).display;\n",
       "        if (!display || display === 'none') {{\n",
       "            console.log([gd, 'removed!']);\n",
       "            Plotly.purge(gd);\n",
       "            observer.disconnect();\n",
       "        }}\n",
       "}});\n",
       "\n",
       "// Listen for the removal of the full notebook cells\n",
       "var notebookContainer = gd.closest('#notebook-container');\n",
       "if (notebookContainer) {{\n",
       "    x.observe(notebookContainer, {childList: true});\n",
       "}}\n",
       "\n",
       "// Listen for the clearing of the current output cell\n",
       "var outputEl = gd.closest('.output');\n",
       "if (outputEl) {{\n",
       "    x.observe(outputEl, {childList: true});\n",
       "}}\n",
       "\n",
       "                        })                };                            </script>        </div>\n",
       "</body>\n",
       "</html>"
      ]
     },
     "metadata": {},
     "output_type": "display_data"
    }
   ],
   "source": [
    "fig = px.line(user_by_yr, x='Year', y='Users', markers=True) #color='country'\n",
    "fig.update_layout(title='Users Over the Years',width = 700, height = 370, title_x=0.5)\n",
    "fig.show()\n",
    "####"
   ]
  },
  {
   "cell_type": "code",
   "execution_count": 106,
   "metadata": {
    "colab": {
     "base_uri": "https://localhost:8080/",
     "height": 542
    },
    "executionInfo": {
     "elapsed": 3209,
     "status": "ok",
     "timestamp": 1662824456211,
     "user": {
      "displayName": "Pratul Chandra",
      "userId": "06160049637809107783"
     },
     "user_tz": -330
    },
    "id": "CjNgcjAvDxMt",
    "outputId": "1facb182-aa30-4b20-9f2d-116a3d31c4be"
   },
   "outputs": [
    {
     "data": {
      "text/html": [
       "<html>\n",
       "<head><meta charset=\"utf-8\" /></head>\n",
       "<body>\n",
       "    <div>            <script src=\"https://cdnjs.cloudflare.com/ajax/libs/mathjax/2.7.5/MathJax.js?config=TeX-AMS-MML_SVG\"></script><script type=\"text/javascript\">if (window.MathJax && window.MathJax.Hub && window.MathJax.Hub.Config) {window.MathJax.Hub.Config({SVG: {font: \"STIX-Web\"}});}</script>                <script type=\"text/javascript\">window.PlotlyConfig = {MathJaxConfig: 'local'};</script>\n",
       "        <script src=\"https://cdn.plot.ly/plotly-2.14.0.min.js\"></script>                <div id=\"07dd7a02-99b3-451b-a8e4-27d464e952d1\" class=\"plotly-graph-div\" style=\"height:525px; width:700px;\"></div>            <script type=\"text/javascript\">                                    window.PLOTLYENV=window.PLOTLYENV || {};                                    if (document.getElementById(\"07dd7a02-99b3-451b-a8e4-27d464e952d1\")) {                    Plotly.newPlot(                        \"07dd7a02-99b3-451b-a8e4-27d464e952d1\",                        [{\"customdata\":[[22]],\"hovertemplate\":\"Genre=%{x}<br>Year=2008<br>No_of_Apps=%{marker.size}<br>Users=%{customdata[0]}<extra></extra>\",\"ids\":[2],\"legendgroup\":\"Book\",\"marker\":{\"color\":\"#636efa\",\"size\":[2],\"sizemode\":\"area\",\"sizeref\":76.0825,\"symbol\":\"circle\"},\"mode\":\"markers\",\"name\":\"Book\",\"orientation\":\"v\",\"showlegend\":true,\"x\":[\"Book\"],\"xaxis\":\"x\",\"y\":[2],\"yaxis\":\"y\",\"type\":\"scatter\"},{\"customdata\":[[73878]],\"hovertemplate\":\"Genre=%{x}<br>Year=2008<br>No_of_Apps=%{marker.size}<br>Users=%{customdata[0]}<extra></extra>\",\"ids\":[17],\"legendgroup\":\"Business\",\"marker\":{\"color\":\"#EF553B\",\"size\":[17],\"sizemode\":\"area\",\"sizeref\":76.0825,\"symbol\":\"circle\"},\"mode\":\"markers\",\"name\":\"Business\",\"orientation\":\"v\",\"showlegend\":true,\"x\":[\"Business\"],\"xaxis\":\"x\",\"y\":[17],\"yaxis\":\"y\",\"type\":\"scatter\"},{\"customdata\":[[27771]],\"hovertemplate\":\"Genre=%{x}<br>Year=2008<br>No_of_Apps=%{marker.size}<br>Users=%{customdata[0]}<extra></extra>\",\"ids\":[138],\"legendgroup\":\"Education\",\"marker\":{\"color\":\"#00cc96\",\"size\":[138],\"sizemode\":\"area\",\"sizeref\":76.0825,\"symbol\":\"circle\"},\"mode\":\"markers\",\"name\":\"Education\",\"orientation\":\"v\",\"showlegend\":true,\"x\":[\"Education\"],\"xaxis\":\"x\",\"y\":[138],\"yaxis\":\"y\",\"type\":\"scatter\"},{\"customdata\":[[72345]],\"hovertemplate\":\"Genre=%{x}<br>Year=2008<br>No_of_Apps=%{marker.size}<br>Users=%{customdata[0]}<extra></extra>\",\"ids\":[35],\"legendgroup\":\"Entertainment\",\"marker\":{\"color\":\"#ab63fa\",\"size\":[35],\"sizemode\":\"area\",\"sizeref\":76.0825,\"symbol\":\"circle\"},\"mode\":\"markers\",\"name\":\"Entertainment\",\"orientation\":\"v\",\"showlegend\":true,\"x\":[\"Entertainment\"],\"xaxis\":\"x\",\"y\":[35],\"yaxis\":\"y\",\"type\":\"scatter\"},{\"customdata\":[[4463588]],\"hovertemplate\":\"Genre=%{x}<br>Year=2008<br>No_of_Apps=%{marker.size}<br>Users=%{customdata[0]}<extra></extra>\",\"ids\":[32],\"legendgroup\":\"Finance\",\"marker\":{\"color\":\"#FFA15A\",\"size\":[32],\"sizemode\":\"area\",\"sizeref\":76.0825,\"symbol\":\"circle\"},\"mode\":\"markers\",\"name\":\"Finance\",\"orientation\":\"v\",\"showlegend\":true,\"x\":[\"Finance\"],\"xaxis\":\"x\",\"y\":[32],\"yaxis\":\"y\",\"type\":\"scatter\"},{\"customdata\":[[2486802]],\"hovertemplate\":\"Genre=%{x}<br>Year=2008<br>No_of_Apps=%{marker.size}<br>Users=%{customdata[0]}<extra></extra>\",\"ids\":[7],\"legendgroup\":\"Food & Drink\",\"marker\":{\"color\":\"#19d3f3\",\"size\":[7],\"sizemode\":\"area\",\"sizeref\":76.0825,\"symbol\":\"circle\"},\"mode\":\"markers\",\"name\":\"Food & Drink\",\"orientation\":\"v\",\"showlegend\":true,\"x\":[\"Food & Drink\"],\"xaxis\":\"x\",\"y\":[7],\"yaxis\":\"y\",\"type\":\"scatter\"},{\"customdata\":[[146437]],\"hovertemplate\":\"Genre=%{x}<br>Year=2008<br>No_of_Apps=%{marker.size}<br>Users=%{customdata[0]}<extra></extra>\",\"ids\":[130],\"legendgroup\":\"Games\",\"marker\":{\"color\":\"#FF6692\",\"size\":[130],\"sizemode\":\"area\",\"sizeref\":76.0825,\"symbol\":\"circle\"},\"mode\":\"markers\",\"name\":\"Games\",\"orientation\":\"v\",\"showlegend\":true,\"x\":[\"Games\"],\"xaxis\":\"x\",\"y\":[130],\"yaxis\":\"y\",\"type\":\"scatter\"},{\"customdata\":[[1477723]],\"hovertemplate\":\"Genre=%{x}<br>Year=2008<br>No_of_Apps=%{marker.size}<br>Users=%{customdata[0]}<extra></extra>\",\"ids\":[15],\"legendgroup\":\"Health & Fitness\",\"marker\":{\"color\":\"#B6E880\",\"size\":[15],\"sizemode\":\"area\",\"sizeref\":76.0825,\"symbol\":\"circle\"},\"mode\":\"markers\",\"name\":\"Health & Fitness\",\"orientation\":\"v\",\"showlegend\":true,\"x\":[\"Health & Fitness\"],\"xaxis\":\"x\",\"y\":[15],\"yaxis\":\"y\",\"type\":\"scatter\"},{\"customdata\":[[18464]],\"hovertemplate\":\"Genre=%{x}<br>Year=2008<br>No_of_Apps=%{marker.size}<br>Users=%{customdata[0]}<extra></extra>\",\"ids\":[19],\"legendgroup\":\"Lifestyle\",\"marker\":{\"color\":\"#FF97FF\",\"size\":[19],\"sizemode\":\"area\",\"sizeref\":76.0825,\"symbol\":\"circle\"},\"mode\":\"markers\",\"name\":\"Lifestyle\",\"orientation\":\"v\",\"showlegend\":true,\"x\":[\"Lifestyle\"],\"xaxis\":\"x\",\"y\":[19],\"yaxis\":\"y\",\"type\":\"scatter\"},{\"customdata\":[[119412]],\"hovertemplate\":\"Genre=%{x}<br>Year=2008<br>No_of_Apps=%{marker.size}<br>Users=%{customdata[0]}<extra></extra>\",\"ids\":[7],\"legendgroup\":\"Medical\",\"marker\":{\"color\":\"#FECB52\",\"size\":[7],\"sizemode\":\"area\",\"sizeref\":76.0825,\"symbol\":\"circle\"},\"mode\":\"markers\",\"name\":\"Medical\",\"orientation\":\"v\",\"showlegend\":true,\"x\":[\"Medical\"],\"xaxis\":\"x\",\"y\":[7],\"yaxis\":\"y\",\"type\":\"scatter\"},{\"customdata\":[[835983]],\"hovertemplate\":\"Genre=%{x}<br>Year=2008<br>No_of_Apps=%{marker.size}<br>Users=%{customdata[0]}<extra></extra>\",\"ids\":[39],\"legendgroup\":\"Music\",\"marker\":{\"color\":\"#636efa\",\"size\":[39],\"sizemode\":\"area\",\"sizeref\":76.0825,\"symbol\":\"circle\"},\"mode\":\"markers\",\"name\":\"Music\",\"orientation\":\"v\",\"showlegend\":true,\"x\":[\"Music\"],\"xaxis\":\"x\",\"y\":[39],\"yaxis\":\"y\",\"type\":\"scatter\"},{\"customdata\":[[49]],\"hovertemplate\":\"Genre=%{x}<br>Year=2008<br>No_of_Apps=%{marker.size}<br>Users=%{customdata[0]}<extra></extra>\",\"ids\":[12],\"legendgroup\":\"Navigation\",\"marker\":{\"color\":\"#EF553B\",\"size\":[12],\"sizemode\":\"area\",\"sizeref\":76.0825,\"symbol\":\"circle\"},\"mode\":\"markers\",\"name\":\"Navigation\",\"orientation\":\"v\",\"showlegend\":true,\"x\":[\"Navigation\"],\"xaxis\":\"x\",\"y\":[12],\"yaxis\":\"y\",\"type\":\"scatter\"},{\"customdata\":[[15509]],\"hovertemplate\":\"Genre=%{x}<br>Year=2008<br>No_of_Apps=%{marker.size}<br>Users=%{customdata[0]}<extra></extra>\",\"ids\":[12],\"legendgroup\":\"News\",\"marker\":{\"color\":\"#00cc96\",\"size\":[12],\"sizemode\":\"area\",\"sizeref\":76.0825,\"symbol\":\"circle\"},\"mode\":\"markers\",\"name\":\"News\",\"orientation\":\"v\",\"showlegend\":true,\"x\":[\"News\"],\"xaxis\":\"x\",\"y\":[12],\"yaxis\":\"y\",\"type\":\"scatter\"},{\"customdata\":[[22810]],\"hovertemplate\":\"Genre=%{x}<br>Year=2008<br>No_of_Apps=%{marker.size}<br>Users=%{customdata[0]}<extra></extra>\",\"ids\":[9],\"legendgroup\":\"Photo & Video\",\"marker\":{\"color\":\"#ab63fa\",\"size\":[9],\"sizemode\":\"area\",\"sizeref\":76.0825,\"symbol\":\"circle\"},\"mode\":\"markers\",\"name\":\"Photo & Video\",\"orientation\":\"v\",\"showlegend\":true,\"x\":[\"Photo & Video\"],\"xaxis\":\"x\",\"y\":[9],\"yaxis\":\"y\",\"type\":\"scatter\"},{\"customdata\":[[6898]],\"hovertemplate\":\"Genre=%{x}<br>Year=2008<br>No_of_Apps=%{marker.size}<br>Users=%{customdata[0]}<extra></extra>\",\"ids\":[32],\"legendgroup\":\"Productivity\",\"marker\":{\"color\":\"#FFA15A\",\"size\":[32],\"sizemode\":\"area\",\"sizeref\":76.0825,\"symbol\":\"circle\"},\"mode\":\"markers\",\"name\":\"Productivity\",\"orientation\":\"v\",\"showlegend\":true,\"x\":[\"Productivity\"],\"xaxis\":\"x\",\"y\":[32],\"yaxis\":\"y\",\"type\":\"scatter\"},{\"customdata\":[[14735]],\"hovertemplate\":\"Genre=%{x}<br>Year=2008<br>No_of_Apps=%{marker.size}<br>Users=%{customdata[0]}<extra></extra>\",\"ids\":[38],\"legendgroup\":\"Reference\",\"marker\":{\"color\":\"#19d3f3\",\"size\":[38],\"sizemode\":\"area\",\"sizeref\":76.0825,\"symbol\":\"circle\"},\"mode\":\"markers\",\"name\":\"Reference\",\"orientation\":\"v\",\"showlegend\":true,\"x\":[\"Reference\"],\"xaxis\":\"x\",\"y\":[38],\"yaxis\":\"y\",\"type\":\"scatter\"},{\"customdata\":[[8098817]],\"hovertemplate\":\"Genre=%{x}<br>Year=2008<br>No_of_Apps=%{marker.size}<br>Users=%{customdata[0]}<extra></extra>\",\"ids\":[4],\"legendgroup\":\"Shopping\",\"marker\":{\"color\":\"#FF6692\",\"size\":[4],\"sizemode\":\"area\",\"sizeref\":76.0825,\"symbol\":\"circle\"},\"mode\":\"markers\",\"name\":\"Shopping\",\"orientation\":\"v\",\"showlegend\":true,\"x\":[\"Shopping\"],\"xaxis\":\"x\",\"y\":[4],\"yaxis\":\"y\",\"type\":\"scatter\"},{\"customdata\":[[12]],\"hovertemplate\":\"Genre=%{x}<br>Year=2008<br>No_of_Apps=%{marker.size}<br>Users=%{customdata[0]}<extra></extra>\",\"ids\":[2],\"legendgroup\":\"Social Networking\",\"marker\":{\"color\":\"#B6E880\",\"size\":[2],\"sizemode\":\"area\",\"sizeref\":76.0825,\"symbol\":\"circle\"},\"mode\":\"markers\",\"name\":\"Social Networking\",\"orientation\":\"v\",\"showlegend\":true,\"x\":[\"Social Networking\"],\"xaxis\":\"x\",\"y\":[2],\"yaxis\":\"y\",\"type\":\"scatter\"},{\"customdata\":[[27820]],\"hovertemplate\":\"Genre=%{x}<br>Year=2008<br>No_of_Apps=%{marker.size}<br>Users=%{customdata[0]}<extra></extra>\",\"ids\":[10],\"legendgroup\":\"Sports\",\"marker\":{\"color\":\"#FF97FF\",\"size\":[10],\"sizemode\":\"area\",\"sizeref\":76.0825,\"symbol\":\"circle\"},\"mode\":\"markers\",\"name\":\"Sports\",\"orientation\":\"v\",\"showlegend\":true,\"x\":[\"Sports\"],\"xaxis\":\"x\",\"y\":[10],\"yaxis\":\"y\",\"type\":\"scatter\"},{\"customdata\":[[138741]],\"hovertemplate\":\"Genre=%{x}<br>Year=2008<br>No_of_Apps=%{marker.size}<br>Users=%{customdata[0]}<extra></extra>\",\"ids\":[39],\"legendgroup\":\"Travel\",\"marker\":{\"color\":\"#FECB52\",\"size\":[39],\"sizemode\":\"area\",\"sizeref\":76.0825,\"symbol\":\"circle\"},\"mode\":\"markers\",\"name\":\"Travel\",\"orientation\":\"v\",\"showlegend\":true,\"x\":[\"Travel\"],\"xaxis\":\"x\",\"y\":[39],\"yaxis\":\"y\",\"type\":\"scatter\"},{\"customdata\":[[7031]],\"hovertemplate\":\"Genre=%{x}<br>Year=2008<br>No_of_Apps=%{marker.size}<br>Users=%{customdata[0]}<extra></extra>\",\"ids\":[46],\"legendgroup\":\"Utilities\",\"marker\":{\"color\":\"#636efa\",\"size\":[46],\"sizemode\":\"area\",\"sizeref\":76.0825,\"symbol\":\"circle\"},\"mode\":\"markers\",\"name\":\"Utilities\",\"orientation\":\"v\",\"showlegend\":true,\"x\":[\"Utilities\"],\"xaxis\":\"x\",\"y\":[46],\"yaxis\":\"y\",\"type\":\"scatter\"},{\"customdata\":[[4518010]],\"hovertemplate\":\"Genre=%{x}<br>Year=2008<br>No_of_Apps=%{marker.size}<br>Users=%{customdata[0]}<extra></extra>\",\"ids\":[7],\"legendgroup\":\"Weather\",\"marker\":{\"color\":\"#EF553B\",\"size\":[7],\"sizemode\":\"area\",\"sizeref\":76.0825,\"symbol\":\"circle\"},\"mode\":\"markers\",\"name\":\"Weather\",\"orientation\":\"v\",\"showlegend\":true,\"x\":[\"Weather\"],\"xaxis\":\"x\",\"y\":[7],\"yaxis\":\"y\",\"type\":\"scatter\"}],                        {\"template\":{\"data\":{\"histogram2dcontour\":[{\"type\":\"histogram2dcontour\",\"colorbar\":{\"outlinewidth\":0,\"ticks\":\"\"},\"colorscale\":[[0.0,\"#0d0887\"],[0.1111111111111111,\"#46039f\"],[0.2222222222222222,\"#7201a8\"],[0.3333333333333333,\"#9c179e\"],[0.4444444444444444,\"#bd3786\"],[0.5555555555555556,\"#d8576b\"],[0.6666666666666666,\"#ed7953\"],[0.7777777777777778,\"#fb9f3a\"],[0.8888888888888888,\"#fdca26\"],[1.0,\"#f0f921\"]]}],\"choropleth\":[{\"type\":\"choropleth\",\"colorbar\":{\"outlinewidth\":0,\"ticks\":\"\"}}],\"histogram2d\":[{\"type\":\"histogram2d\",\"colorbar\":{\"outlinewidth\":0,\"ticks\":\"\"},\"colorscale\":[[0.0,\"#0d0887\"],[0.1111111111111111,\"#46039f\"],[0.2222222222222222,\"#7201a8\"],[0.3333333333333333,\"#9c179e\"],[0.4444444444444444,\"#bd3786\"],[0.5555555555555556,\"#d8576b\"],[0.6666666666666666,\"#ed7953\"],[0.7777777777777778,\"#fb9f3a\"],[0.8888888888888888,\"#fdca26\"],[1.0,\"#f0f921\"]]}],\"heatmap\":[{\"type\":\"heatmap\",\"colorbar\":{\"outlinewidth\":0,\"ticks\":\"\"},\"colorscale\":[[0.0,\"#0d0887\"],[0.1111111111111111,\"#46039f\"],[0.2222222222222222,\"#7201a8\"],[0.3333333333333333,\"#9c179e\"],[0.4444444444444444,\"#bd3786\"],[0.5555555555555556,\"#d8576b\"],[0.6666666666666666,\"#ed7953\"],[0.7777777777777778,\"#fb9f3a\"],[0.8888888888888888,\"#fdca26\"],[1.0,\"#f0f921\"]]}],\"heatmapgl\":[{\"type\":\"heatmapgl\",\"colorbar\":{\"outlinewidth\":0,\"ticks\":\"\"},\"colorscale\":[[0.0,\"#0d0887\"],[0.1111111111111111,\"#46039f\"],[0.2222222222222222,\"#7201a8\"],[0.3333333333333333,\"#9c179e\"],[0.4444444444444444,\"#bd3786\"],[0.5555555555555556,\"#d8576b\"],[0.6666666666666666,\"#ed7953\"],[0.7777777777777778,\"#fb9f3a\"],[0.8888888888888888,\"#fdca26\"],[1.0,\"#f0f921\"]]}],\"contourcarpet\":[{\"type\":\"contourcarpet\",\"colorbar\":{\"outlinewidth\":0,\"ticks\":\"\"}}],\"contour\":[{\"type\":\"contour\",\"colorbar\":{\"outlinewidth\":0,\"ticks\":\"\"},\"colorscale\":[[0.0,\"#0d0887\"],[0.1111111111111111,\"#46039f\"],[0.2222222222222222,\"#7201a8\"],[0.3333333333333333,\"#9c179e\"],[0.4444444444444444,\"#bd3786\"],[0.5555555555555556,\"#d8576b\"],[0.6666666666666666,\"#ed7953\"],[0.7777777777777778,\"#fb9f3a\"],[0.8888888888888888,\"#fdca26\"],[1.0,\"#f0f921\"]]}],\"surface\":[{\"type\":\"surface\",\"colorbar\":{\"outlinewidth\":0,\"ticks\":\"\"},\"colorscale\":[[0.0,\"#0d0887\"],[0.1111111111111111,\"#46039f\"],[0.2222222222222222,\"#7201a8\"],[0.3333333333333333,\"#9c179e\"],[0.4444444444444444,\"#bd3786\"],[0.5555555555555556,\"#d8576b\"],[0.6666666666666666,\"#ed7953\"],[0.7777777777777778,\"#fb9f3a\"],[0.8888888888888888,\"#fdca26\"],[1.0,\"#f0f921\"]]}],\"mesh3d\":[{\"type\":\"mesh3d\",\"colorbar\":{\"outlinewidth\":0,\"ticks\":\"\"}}],\"scatter\":[{\"fillpattern\":{\"fillmode\":\"overlay\",\"size\":10,\"solidity\":0.2},\"type\":\"scatter\"}],\"parcoords\":[{\"type\":\"parcoords\",\"line\":{\"colorbar\":{\"outlinewidth\":0,\"ticks\":\"\"}}}],\"scatterpolargl\":[{\"type\":\"scatterpolargl\",\"marker\":{\"colorbar\":{\"outlinewidth\":0,\"ticks\":\"\"}}}],\"bar\":[{\"error_x\":{\"color\":\"#2a3f5f\"},\"error_y\":{\"color\":\"#2a3f5f\"},\"marker\":{\"line\":{\"color\":\"#E5ECF6\",\"width\":0.5},\"pattern\":{\"fillmode\":\"overlay\",\"size\":10,\"solidity\":0.2}},\"type\":\"bar\"}],\"scattergeo\":[{\"type\":\"scattergeo\",\"marker\":{\"colorbar\":{\"outlinewidth\":0,\"ticks\":\"\"}}}],\"scatterpolar\":[{\"type\":\"scatterpolar\",\"marker\":{\"colorbar\":{\"outlinewidth\":0,\"ticks\":\"\"}}}],\"histogram\":[{\"marker\":{\"pattern\":{\"fillmode\":\"overlay\",\"size\":10,\"solidity\":0.2}},\"type\":\"histogram\"}],\"scattergl\":[{\"type\":\"scattergl\",\"marker\":{\"colorbar\":{\"outlinewidth\":0,\"ticks\":\"\"}}}],\"scatter3d\":[{\"type\":\"scatter3d\",\"line\":{\"colorbar\":{\"outlinewidth\":0,\"ticks\":\"\"}},\"marker\":{\"colorbar\":{\"outlinewidth\":0,\"ticks\":\"\"}}}],\"scattermapbox\":[{\"type\":\"scattermapbox\",\"marker\":{\"colorbar\":{\"outlinewidth\":0,\"ticks\":\"\"}}}],\"scatterternary\":[{\"type\":\"scatterternary\",\"marker\":{\"colorbar\":{\"outlinewidth\":0,\"ticks\":\"\"}}}],\"scattercarpet\":[{\"type\":\"scattercarpet\",\"marker\":{\"colorbar\":{\"outlinewidth\":0,\"ticks\":\"\"}}}],\"carpet\":[{\"aaxis\":{\"endlinecolor\":\"#2a3f5f\",\"gridcolor\":\"white\",\"linecolor\":\"white\",\"minorgridcolor\":\"white\",\"startlinecolor\":\"#2a3f5f\"},\"baxis\":{\"endlinecolor\":\"#2a3f5f\",\"gridcolor\":\"white\",\"linecolor\":\"white\",\"minorgridcolor\":\"white\",\"startlinecolor\":\"#2a3f5f\"},\"type\":\"carpet\"}],\"table\":[{\"cells\":{\"fill\":{\"color\":\"#EBF0F8\"},\"line\":{\"color\":\"white\"}},\"header\":{\"fill\":{\"color\":\"#C8D4E3\"},\"line\":{\"color\":\"white\"}},\"type\":\"table\"}],\"barpolar\":[{\"marker\":{\"line\":{\"color\":\"#E5ECF6\",\"width\":0.5},\"pattern\":{\"fillmode\":\"overlay\",\"size\":10,\"solidity\":0.2}},\"type\":\"barpolar\"}],\"pie\":[{\"automargin\":true,\"type\":\"pie\"}]},\"layout\":{\"autotypenumbers\":\"strict\",\"colorway\":[\"#636efa\",\"#EF553B\",\"#00cc96\",\"#ab63fa\",\"#FFA15A\",\"#19d3f3\",\"#FF6692\",\"#B6E880\",\"#FF97FF\",\"#FECB52\"],\"font\":{\"color\":\"#2a3f5f\"},\"hovermode\":\"closest\",\"hoverlabel\":{\"align\":\"left\"},\"paper_bgcolor\":\"white\",\"plot_bgcolor\":\"#E5ECF6\",\"polar\":{\"bgcolor\":\"#E5ECF6\",\"angularaxis\":{\"gridcolor\":\"white\",\"linecolor\":\"white\",\"ticks\":\"\"},\"radialaxis\":{\"gridcolor\":\"white\",\"linecolor\":\"white\",\"ticks\":\"\"}},\"ternary\":{\"bgcolor\":\"#E5ECF6\",\"aaxis\":{\"gridcolor\":\"white\",\"linecolor\":\"white\",\"ticks\":\"\"},\"baxis\":{\"gridcolor\":\"white\",\"linecolor\":\"white\",\"ticks\":\"\"},\"caxis\":{\"gridcolor\":\"white\",\"linecolor\":\"white\",\"ticks\":\"\"}},\"coloraxis\":{\"colorbar\":{\"outlinewidth\":0,\"ticks\":\"\"}},\"colorscale\":{\"sequential\":[[0.0,\"#0d0887\"],[0.1111111111111111,\"#46039f\"],[0.2222222222222222,\"#7201a8\"],[0.3333333333333333,\"#9c179e\"],[0.4444444444444444,\"#bd3786\"],[0.5555555555555556,\"#d8576b\"],[0.6666666666666666,\"#ed7953\"],[0.7777777777777778,\"#fb9f3a\"],[0.8888888888888888,\"#fdca26\"],[1.0,\"#f0f921\"]],\"sequentialminus\":[[0.0,\"#0d0887\"],[0.1111111111111111,\"#46039f\"],[0.2222222222222222,\"#7201a8\"],[0.3333333333333333,\"#9c179e\"],[0.4444444444444444,\"#bd3786\"],[0.5555555555555556,\"#d8576b\"],[0.6666666666666666,\"#ed7953\"],[0.7777777777777778,\"#fb9f3a\"],[0.8888888888888888,\"#fdca26\"],[1.0,\"#f0f921\"]],\"diverging\":[[0,\"#8e0152\"],[0.1,\"#c51b7d\"],[0.2,\"#de77ae\"],[0.3,\"#f1b6da\"],[0.4,\"#fde0ef\"],[0.5,\"#f7f7f7\"],[0.6,\"#e6f5d0\"],[0.7,\"#b8e186\"],[0.8,\"#7fbc41\"],[0.9,\"#4d9221\"],[1,\"#276419\"]]},\"xaxis\":{\"gridcolor\":\"white\",\"linecolor\":\"white\",\"ticks\":\"\",\"title\":{\"standoff\":15},\"zerolinecolor\":\"white\",\"automargin\":true,\"zerolinewidth\":2},\"yaxis\":{\"gridcolor\":\"white\",\"linecolor\":\"white\",\"ticks\":\"\",\"title\":{\"standoff\":15},\"zerolinecolor\":\"white\",\"automargin\":true,\"zerolinewidth\":2},\"scene\":{\"xaxis\":{\"backgroundcolor\":\"#E5ECF6\",\"gridcolor\":\"white\",\"linecolor\":\"white\",\"showbackground\":true,\"ticks\":\"\",\"zerolinecolor\":\"white\",\"gridwidth\":2},\"yaxis\":{\"backgroundcolor\":\"#E5ECF6\",\"gridcolor\":\"white\",\"linecolor\":\"white\",\"showbackground\":true,\"ticks\":\"\",\"zerolinecolor\":\"white\",\"gridwidth\":2},\"zaxis\":{\"backgroundcolor\":\"#E5ECF6\",\"gridcolor\":\"white\",\"linecolor\":\"white\",\"showbackground\":true,\"ticks\":\"\",\"zerolinecolor\":\"white\",\"gridwidth\":2}},\"shapedefaults\":{\"line\":{\"color\":\"#2a3f5f\"}},\"annotationdefaults\":{\"arrowcolor\":\"#2a3f5f\",\"arrowhead\":0,\"arrowwidth\":1},\"geo\":{\"bgcolor\":\"white\",\"landcolor\":\"#E5ECF6\",\"subunitcolor\":\"white\",\"showland\":true,\"showlakes\":true,\"lakecolor\":\"white\"},\"title\":{\"x\":0.05},\"mapbox\":{\"style\":\"light\"}}},\"xaxis\":{\"anchor\":\"y\",\"domain\":[0.0,1.0],\"title\":{\"text\":\"Genre\"},\"categoryorder\":\"array\",\"categoryarray\":[\"Book\",\"Business\",\"Education\",\"Entertainment\",\"Finance\",\"Food & Drink\",\"Games\",\"Health & Fitness\",\"Lifestyle\",\"Medical\",\"Music\",\"Navigation\",\"News\",\"Photo & Video\",\"Productivity\",\"Reference\",\"Shopping\",\"Social Networking\",\"Sports\",\"Travel\",\"Utilities\",\"Weather\",\"Graphics & Design\",\"Magazines & Newspapers\",\"Developer Tools\",\"Stickers\"],\"tickangle\":45},\"yaxis\":{\"anchor\":\"x\",\"domain\":[0.0,1.0],\"title\":{\"text\":\"No_of_Apps\"},\"range\":[-100,31000]},\"legend\":{\"title\":{\"text\":\"Genre\"},\"tracegroupgap\":0,\"itemsizing\":\"constant\"},\"title\":{\"text\":\"App Releases (Yearly)\",\"x\":0.45},\"updatemenus\":[{\"buttons\":[{\"args\":[null,{\"frame\":{\"duration\":500,\"redraw\":false},\"mode\":\"immediate\",\"fromcurrent\":true,\"transition\":{\"duration\":500,\"easing\":\"linear\"}}],\"label\":\"&#9654;\",\"method\":\"animate\"},{\"args\":[[null],{\"frame\":{\"duration\":0,\"redraw\":false},\"mode\":\"immediate\",\"fromcurrent\":true,\"transition\":{\"duration\":0,\"easing\":\"linear\"}}],\"label\":\"&#9724;\",\"method\":\"animate\"}],\"direction\":\"left\",\"pad\":{\"r\":10,\"t\":70},\"showactive\":false,\"type\":\"buttons\",\"x\":0.1,\"xanchor\":\"right\",\"y\":0,\"yanchor\":\"top\"}],\"sliders\":[{\"active\":0,\"currentvalue\":{\"prefix\":\"Year=\"},\"len\":0.9,\"pad\":{\"r\":10,\"t\":150},\"steps\":[{\"args\":[[\"2008\"],{\"frame\":{\"duration\":0,\"redraw\":false},\"mode\":\"immediate\",\"fromcurrent\":true,\"transition\":{\"duration\":0,\"easing\":\"linear\"}}],\"label\":\"2008\",\"method\":\"animate\"},{\"args\":[[\"2009\"],{\"frame\":{\"duration\":0,\"redraw\":false},\"mode\":\"immediate\",\"fromcurrent\":true,\"transition\":{\"duration\":0,\"easing\":\"linear\"}}],\"label\":\"2009\",\"method\":\"animate\"},{\"args\":[[\"2010\"],{\"frame\":{\"duration\":0,\"redraw\":false},\"mode\":\"immediate\",\"fromcurrent\":true,\"transition\":{\"duration\":0,\"easing\":\"linear\"}}],\"label\":\"2010\",\"method\":\"animate\"},{\"args\":[[\"2011\"],{\"frame\":{\"duration\":0,\"redraw\":false},\"mode\":\"immediate\",\"fromcurrent\":true,\"transition\":{\"duration\":0,\"easing\":\"linear\"}}],\"label\":\"2011\",\"method\":\"animate\"},{\"args\":[[\"2012\"],{\"frame\":{\"duration\":0,\"redraw\":false},\"mode\":\"immediate\",\"fromcurrent\":true,\"transition\":{\"duration\":0,\"easing\":\"linear\"}}],\"label\":\"2012\",\"method\":\"animate\"},{\"args\":[[\"2013\"],{\"frame\":{\"duration\":0,\"redraw\":false},\"mode\":\"immediate\",\"fromcurrent\":true,\"transition\":{\"duration\":0,\"easing\":\"linear\"}}],\"label\":\"2013\",\"method\":\"animate\"},{\"args\":[[\"2014\"],{\"frame\":{\"duration\":0,\"redraw\":false},\"mode\":\"immediate\",\"fromcurrent\":true,\"transition\":{\"duration\":0,\"easing\":\"linear\"}}],\"label\":\"2014\",\"method\":\"animate\"},{\"args\":[[\"2015\"],{\"frame\":{\"duration\":0,\"redraw\":false},\"mode\":\"immediate\",\"fromcurrent\":true,\"transition\":{\"duration\":0,\"easing\":\"linear\"}}],\"label\":\"2015\",\"method\":\"animate\"},{\"args\":[[\"2016\"],{\"frame\":{\"duration\":0,\"redraw\":false},\"mode\":\"immediate\",\"fromcurrent\":true,\"transition\":{\"duration\":0,\"easing\":\"linear\"}}],\"label\":\"2016\",\"method\":\"animate\"},{\"args\":[[\"2017\"],{\"frame\":{\"duration\":0,\"redraw\":false},\"mode\":\"immediate\",\"fromcurrent\":true,\"transition\":{\"duration\":0,\"easing\":\"linear\"}}],\"label\":\"2017\",\"method\":\"animate\"},{\"args\":[[\"2018\"],{\"frame\":{\"duration\":0,\"redraw\":false},\"mode\":\"immediate\",\"fromcurrent\":true,\"transition\":{\"duration\":0,\"easing\":\"linear\"}}],\"label\":\"2018\",\"method\":\"animate\"},{\"args\":[[\"2019\"],{\"frame\":{\"duration\":0,\"redraw\":false},\"mode\":\"immediate\",\"fromcurrent\":true,\"transition\":{\"duration\":0,\"easing\":\"linear\"}}],\"label\":\"2019\",\"method\":\"animate\"},{\"args\":[[\"2020\"],{\"frame\":{\"duration\":0,\"redraw\":false},\"mode\":\"immediate\",\"fromcurrent\":true,\"transition\":{\"duration\":0,\"easing\":\"linear\"}}],\"label\":\"2020\",\"method\":\"animate\"},{\"args\":[[\"2021\"],{\"frame\":{\"duration\":0,\"redraw\":false},\"mode\":\"immediate\",\"fromcurrent\":true,\"transition\":{\"duration\":0,\"easing\":\"linear\"}}],\"label\":\"2021\",\"method\":\"animate\"}],\"x\":0.1,\"xanchor\":\"left\",\"y\":0,\"yanchor\":\"top\"}],\"margin\":{\"l\":20,\"r\":20,\"t\":60,\"b\":200},\"width\":700,\"showlegend\":false},                        {\"responsive\": true}                    ).then(function(){\n",
       "                            Plotly.addFrames('07dd7a02-99b3-451b-a8e4-27d464e952d1', [{\"data\":[{\"customdata\":[[22]],\"hovertemplate\":\"Genre=%{x}<br>Year=2008<br>No_of_Apps=%{marker.size}<br>Users=%{customdata[0]}<extra></extra>\",\"ids\":[2],\"legendgroup\":\"Book\",\"marker\":{\"color\":\"#636efa\",\"size\":[2],\"sizemode\":\"area\",\"sizeref\":76.0825,\"symbol\":\"circle\"},\"mode\":\"markers\",\"name\":\"Book\",\"orientation\":\"v\",\"showlegend\":true,\"x\":[\"Book\"],\"xaxis\":\"x\",\"y\":[2],\"yaxis\":\"y\",\"type\":\"scatter\"},{\"customdata\":[[73878]],\"hovertemplate\":\"Genre=%{x}<br>Year=2008<br>No_of_Apps=%{marker.size}<br>Users=%{customdata[0]}<extra></extra>\",\"ids\":[17],\"legendgroup\":\"Business\",\"marker\":{\"color\":\"#EF553B\",\"size\":[17],\"sizemode\":\"area\",\"sizeref\":76.0825,\"symbol\":\"circle\"},\"mode\":\"markers\",\"name\":\"Business\",\"orientation\":\"v\",\"showlegend\":true,\"x\":[\"Business\"],\"xaxis\":\"x\",\"y\":[17],\"yaxis\":\"y\",\"type\":\"scatter\"},{\"customdata\":[[27771]],\"hovertemplate\":\"Genre=%{x}<br>Year=2008<br>No_of_Apps=%{marker.size}<br>Users=%{customdata[0]}<extra></extra>\",\"ids\":[138],\"legendgroup\":\"Education\",\"marker\":{\"color\":\"#00cc96\",\"size\":[138],\"sizemode\":\"area\",\"sizeref\":76.0825,\"symbol\":\"circle\"},\"mode\":\"markers\",\"name\":\"Education\",\"orientation\":\"v\",\"showlegend\":true,\"x\":[\"Education\"],\"xaxis\":\"x\",\"y\":[138],\"yaxis\":\"y\",\"type\":\"scatter\"},{\"customdata\":[[72345]],\"hovertemplate\":\"Genre=%{x}<br>Year=2008<br>No_of_Apps=%{marker.size}<br>Users=%{customdata[0]}<extra></extra>\",\"ids\":[35],\"legendgroup\":\"Entertainment\",\"marker\":{\"color\":\"#ab63fa\",\"size\":[35],\"sizemode\":\"area\",\"sizeref\":76.0825,\"symbol\":\"circle\"},\"mode\":\"markers\",\"name\":\"Entertainment\",\"orientation\":\"v\",\"showlegend\":true,\"x\":[\"Entertainment\"],\"xaxis\":\"x\",\"y\":[35],\"yaxis\":\"y\",\"type\":\"scatter\"},{\"customdata\":[[4463588]],\"hovertemplate\":\"Genre=%{x}<br>Year=2008<br>No_of_Apps=%{marker.size}<br>Users=%{customdata[0]}<extra></extra>\",\"ids\":[32],\"legendgroup\":\"Finance\",\"marker\":{\"color\":\"#FFA15A\",\"size\":[32],\"sizemode\":\"area\",\"sizeref\":76.0825,\"symbol\":\"circle\"},\"mode\":\"markers\",\"name\":\"Finance\",\"orientation\":\"v\",\"showlegend\":true,\"x\":[\"Finance\"],\"xaxis\":\"x\",\"y\":[32],\"yaxis\":\"y\",\"type\":\"scatter\"},{\"customdata\":[[2486802]],\"hovertemplate\":\"Genre=%{x}<br>Year=2008<br>No_of_Apps=%{marker.size}<br>Users=%{customdata[0]}<extra></extra>\",\"ids\":[7],\"legendgroup\":\"Food & Drink\",\"marker\":{\"color\":\"#19d3f3\",\"size\":[7],\"sizemode\":\"area\",\"sizeref\":76.0825,\"symbol\":\"circle\"},\"mode\":\"markers\",\"name\":\"Food & Drink\",\"orientation\":\"v\",\"showlegend\":true,\"x\":[\"Food & Drink\"],\"xaxis\":\"x\",\"y\":[7],\"yaxis\":\"y\",\"type\":\"scatter\"},{\"customdata\":[[146437]],\"hovertemplate\":\"Genre=%{x}<br>Year=2008<br>No_of_Apps=%{marker.size}<br>Users=%{customdata[0]}<extra></extra>\",\"ids\":[130],\"legendgroup\":\"Games\",\"marker\":{\"color\":\"#FF6692\",\"size\":[130],\"sizemode\":\"area\",\"sizeref\":76.0825,\"symbol\":\"circle\"},\"mode\":\"markers\",\"name\":\"Games\",\"orientation\":\"v\",\"showlegend\":true,\"x\":[\"Games\"],\"xaxis\":\"x\",\"y\":[130],\"yaxis\":\"y\",\"type\":\"scatter\"},{\"customdata\":[[1477723]],\"hovertemplate\":\"Genre=%{x}<br>Year=2008<br>No_of_Apps=%{marker.size}<br>Users=%{customdata[0]}<extra></extra>\",\"ids\":[15],\"legendgroup\":\"Health & Fitness\",\"marker\":{\"color\":\"#B6E880\",\"size\":[15],\"sizemode\":\"area\",\"sizeref\":76.0825,\"symbol\":\"circle\"},\"mode\":\"markers\",\"name\":\"Health & Fitness\",\"orientation\":\"v\",\"showlegend\":true,\"x\":[\"Health & Fitness\"],\"xaxis\":\"x\",\"y\":[15],\"yaxis\":\"y\",\"type\":\"scatter\"},{\"customdata\":[[18464]],\"hovertemplate\":\"Genre=%{x}<br>Year=2008<br>No_of_Apps=%{marker.size}<br>Users=%{customdata[0]}<extra></extra>\",\"ids\":[19],\"legendgroup\":\"Lifestyle\",\"marker\":{\"color\":\"#FF97FF\",\"size\":[19],\"sizemode\":\"area\",\"sizeref\":76.0825,\"symbol\":\"circle\"},\"mode\":\"markers\",\"name\":\"Lifestyle\",\"orientation\":\"v\",\"showlegend\":true,\"x\":[\"Lifestyle\"],\"xaxis\":\"x\",\"y\":[19],\"yaxis\":\"y\",\"type\":\"scatter\"},{\"customdata\":[[119412]],\"hovertemplate\":\"Genre=%{x}<br>Year=2008<br>No_of_Apps=%{marker.size}<br>Users=%{customdata[0]}<extra></extra>\",\"ids\":[7],\"legendgroup\":\"Medical\",\"marker\":{\"color\":\"#FECB52\",\"size\":[7],\"sizemode\":\"area\",\"sizeref\":76.0825,\"symbol\":\"circle\"},\"mode\":\"markers\",\"name\":\"Medical\",\"orientation\":\"v\",\"showlegend\":true,\"x\":[\"Medical\"],\"xaxis\":\"x\",\"y\":[7],\"yaxis\":\"y\",\"type\":\"scatter\"},{\"customdata\":[[835983]],\"hovertemplate\":\"Genre=%{x}<br>Year=2008<br>No_of_Apps=%{marker.size}<br>Users=%{customdata[0]}<extra></extra>\",\"ids\":[39],\"legendgroup\":\"Music\",\"marker\":{\"color\":\"#636efa\",\"size\":[39],\"sizemode\":\"area\",\"sizeref\":76.0825,\"symbol\":\"circle\"},\"mode\":\"markers\",\"name\":\"Music\",\"orientation\":\"v\",\"showlegend\":true,\"x\":[\"Music\"],\"xaxis\":\"x\",\"y\":[39],\"yaxis\":\"y\",\"type\":\"scatter\"},{\"customdata\":[[49]],\"hovertemplate\":\"Genre=%{x}<br>Year=2008<br>No_of_Apps=%{marker.size}<br>Users=%{customdata[0]}<extra></extra>\",\"ids\":[12],\"legendgroup\":\"Navigation\",\"marker\":{\"color\":\"#EF553B\",\"size\":[12],\"sizemode\":\"area\",\"sizeref\":76.0825,\"symbol\":\"circle\"},\"mode\":\"markers\",\"name\":\"Navigation\",\"orientation\":\"v\",\"showlegend\":true,\"x\":[\"Navigation\"],\"xaxis\":\"x\",\"y\":[12],\"yaxis\":\"y\",\"type\":\"scatter\"},{\"customdata\":[[15509]],\"hovertemplate\":\"Genre=%{x}<br>Year=2008<br>No_of_Apps=%{marker.size}<br>Users=%{customdata[0]}<extra></extra>\",\"ids\":[12],\"legendgroup\":\"News\",\"marker\":{\"color\":\"#00cc96\",\"size\":[12],\"sizemode\":\"area\",\"sizeref\":76.0825,\"symbol\":\"circle\"},\"mode\":\"markers\",\"name\":\"News\",\"orientation\":\"v\",\"showlegend\":true,\"x\":[\"News\"],\"xaxis\":\"x\",\"y\":[12],\"yaxis\":\"y\",\"type\":\"scatter\"},{\"customdata\":[[22810]],\"hovertemplate\":\"Genre=%{x}<br>Year=2008<br>No_of_Apps=%{marker.size}<br>Users=%{customdata[0]}<extra></extra>\",\"ids\":[9],\"legendgroup\":\"Photo & Video\",\"marker\":{\"color\":\"#ab63fa\",\"size\":[9],\"sizemode\":\"area\",\"sizeref\":76.0825,\"symbol\":\"circle\"},\"mode\":\"markers\",\"name\":\"Photo & Video\",\"orientation\":\"v\",\"showlegend\":true,\"x\":[\"Photo & Video\"],\"xaxis\":\"x\",\"y\":[9],\"yaxis\":\"y\",\"type\":\"scatter\"},{\"customdata\":[[6898]],\"hovertemplate\":\"Genre=%{x}<br>Year=2008<br>No_of_Apps=%{marker.size}<br>Users=%{customdata[0]}<extra></extra>\",\"ids\":[32],\"legendgroup\":\"Productivity\",\"marker\":{\"color\":\"#FFA15A\",\"size\":[32],\"sizemode\":\"area\",\"sizeref\":76.0825,\"symbol\":\"circle\"},\"mode\":\"markers\",\"name\":\"Productivity\",\"orientation\":\"v\",\"showlegend\":true,\"x\":[\"Productivity\"],\"xaxis\":\"x\",\"y\":[32],\"yaxis\":\"y\",\"type\":\"scatter\"},{\"customdata\":[[14735]],\"hovertemplate\":\"Genre=%{x}<br>Year=2008<br>No_of_Apps=%{marker.size}<br>Users=%{customdata[0]}<extra></extra>\",\"ids\":[38],\"legendgroup\":\"Reference\",\"marker\":{\"color\":\"#19d3f3\",\"size\":[38],\"sizemode\":\"area\",\"sizeref\":76.0825,\"symbol\":\"circle\"},\"mode\":\"markers\",\"name\":\"Reference\",\"orientation\":\"v\",\"showlegend\":true,\"x\":[\"Reference\"],\"xaxis\":\"x\",\"y\":[38],\"yaxis\":\"y\",\"type\":\"scatter\"},{\"customdata\":[[8098817]],\"hovertemplate\":\"Genre=%{x}<br>Year=2008<br>No_of_Apps=%{marker.size}<br>Users=%{customdata[0]}<extra></extra>\",\"ids\":[4],\"legendgroup\":\"Shopping\",\"marker\":{\"color\":\"#FF6692\",\"size\":[4],\"sizemode\":\"area\",\"sizeref\":76.0825,\"symbol\":\"circle\"},\"mode\":\"markers\",\"name\":\"Shopping\",\"orientation\":\"v\",\"showlegend\":true,\"x\":[\"Shopping\"],\"xaxis\":\"x\",\"y\":[4],\"yaxis\":\"y\",\"type\":\"scatter\"},{\"customdata\":[[12]],\"hovertemplate\":\"Genre=%{x}<br>Year=2008<br>No_of_Apps=%{marker.size}<br>Users=%{customdata[0]}<extra></extra>\",\"ids\":[2],\"legendgroup\":\"Social Networking\",\"marker\":{\"color\":\"#B6E880\",\"size\":[2],\"sizemode\":\"area\",\"sizeref\":76.0825,\"symbol\":\"circle\"},\"mode\":\"markers\",\"name\":\"Social Networking\",\"orientation\":\"v\",\"showlegend\":true,\"x\":[\"Social Networking\"],\"xaxis\":\"x\",\"y\":[2],\"yaxis\":\"y\",\"type\":\"scatter\"},{\"customdata\":[[27820]],\"hovertemplate\":\"Genre=%{x}<br>Year=2008<br>No_of_Apps=%{marker.size}<br>Users=%{customdata[0]}<extra></extra>\",\"ids\":[10],\"legendgroup\":\"Sports\",\"marker\":{\"color\":\"#FF97FF\",\"size\":[10],\"sizemode\":\"area\",\"sizeref\":76.0825,\"symbol\":\"circle\"},\"mode\":\"markers\",\"name\":\"Sports\",\"orientation\":\"v\",\"showlegend\":true,\"x\":[\"Sports\"],\"xaxis\":\"x\",\"y\":[10],\"yaxis\":\"y\",\"type\":\"scatter\"},{\"customdata\":[[138741]],\"hovertemplate\":\"Genre=%{x}<br>Year=2008<br>No_of_Apps=%{marker.size}<br>Users=%{customdata[0]}<extra></extra>\",\"ids\":[39],\"legendgroup\":\"Travel\",\"marker\":{\"color\":\"#FECB52\",\"size\":[39],\"sizemode\":\"area\",\"sizeref\":76.0825,\"symbol\":\"circle\"},\"mode\":\"markers\",\"name\":\"Travel\",\"orientation\":\"v\",\"showlegend\":true,\"x\":[\"Travel\"],\"xaxis\":\"x\",\"y\":[39],\"yaxis\":\"y\",\"type\":\"scatter\"},{\"customdata\":[[7031]],\"hovertemplate\":\"Genre=%{x}<br>Year=2008<br>No_of_Apps=%{marker.size}<br>Users=%{customdata[0]}<extra></extra>\",\"ids\":[46],\"legendgroup\":\"Utilities\",\"marker\":{\"color\":\"#636efa\",\"size\":[46],\"sizemode\":\"area\",\"sizeref\":76.0825,\"symbol\":\"circle\"},\"mode\":\"markers\",\"name\":\"Utilities\",\"orientation\":\"v\",\"showlegend\":true,\"x\":[\"Utilities\"],\"xaxis\":\"x\",\"y\":[46],\"yaxis\":\"y\",\"type\":\"scatter\"},{\"customdata\":[[4518010]],\"hovertemplate\":\"Genre=%{x}<br>Year=2008<br>No_of_Apps=%{marker.size}<br>Users=%{customdata[0]}<extra></extra>\",\"ids\":[7],\"legendgroup\":\"Weather\",\"marker\":{\"color\":\"#EF553B\",\"size\":[7],\"sizemode\":\"area\",\"sizeref\":76.0825,\"symbol\":\"circle\"},\"mode\":\"markers\",\"name\":\"Weather\",\"orientation\":\"v\",\"showlegend\":true,\"x\":[\"Weather\"],\"xaxis\":\"x\",\"y\":[7],\"yaxis\":\"y\",\"type\":\"scatter\"}],\"name\":\"2008\"},{\"data\":[{\"customdata\":[[3900380]],\"hovertemplate\":\"Genre=%{x}<br>Year=2009<br>No_of_Apps=%{marker.size}<br>Users=%{customdata[0]}<extra></extra>\",\"ids\":[112],\"legendgroup\":\"Book\",\"marker\":{\"color\":\"#636efa\",\"size\":[112],\"sizemode\":\"area\",\"sizeref\":76.0825,\"symbol\":\"circle\"},\"mode\":\"markers\",\"name\":\"Book\",\"orientation\":\"v\",\"showlegend\":true,\"x\":[\"Book\"],\"xaxis\":\"x\",\"y\":[112],\"yaxis\":\"y\",\"type\":\"scatter\"},{\"customdata\":[[5086911]],\"hovertemplate\":\"Genre=%{x}<br>Year=2009<br>No_of_Apps=%{marker.size}<br>Users=%{customdata[0]}<extra></extra>\",\"ids\":[211],\"legendgroup\":\"Business\",\"marker\":{\"color\":\"#EF553B\",\"size\":[211],\"sizemode\":\"area\",\"sizeref\":76.0825,\"symbol\":\"circle\"},\"mode\":\"markers\",\"name\":\"Business\",\"orientation\":\"v\",\"showlegend\":true,\"x\":[\"Business\"],\"xaxis\":\"x\",\"y\":[211],\"yaxis\":\"y\",\"type\":\"scatter\"},{\"customdata\":[[314855]],\"hovertemplate\":\"Genre=%{x}<br>Year=2009<br>No_of_Apps=%{marker.size}<br>Users=%{customdata[0]}<extra></extra>\",\"ids\":[504],\"legendgroup\":\"Education\",\"marker\":{\"color\":\"#00cc96\",\"size\":[504],\"sizemode\":\"area\",\"sizeref\":76.0825,\"symbol\":\"circle\"},\"mode\":\"markers\",\"name\":\"Education\",\"orientation\":\"v\",\"showlegend\":true,\"x\":[\"Education\"],\"xaxis\":\"x\",\"y\":[504],\"yaxis\":\"y\",\"type\":\"scatter\"},{\"customdata\":[[5132452]],\"hovertemplate\":\"Genre=%{x}<br>Year=2009<br>No_of_Apps=%{marker.size}<br>Users=%{customdata[0]}<extra></extra>\",\"ids\":[302],\"legendgroup\":\"Entertainment\",\"marker\":{\"color\":\"#ab63fa\",\"size\":[302],\"sizemode\":\"area\",\"sizeref\":76.0825,\"symbol\":\"circle\"},\"mode\":\"markers\",\"name\":\"Entertainment\",\"orientation\":\"v\",\"showlegend\":true,\"x\":[\"Entertainment\"],\"xaxis\":\"x\",\"y\":[302],\"yaxis\":\"y\",\"type\":\"scatter\"},{\"customdata\":[[19025271]],\"hovertemplate\":\"Genre=%{x}<br>Year=2009<br>No_of_Apps=%{marker.size}<br>Users=%{customdata[0]}<extra></extra>\",\"ids\":[146],\"legendgroup\":\"Finance\",\"marker\":{\"color\":\"#FFA15A\",\"size\":[146],\"sizemode\":\"area\",\"sizeref\":76.0825,\"symbol\":\"circle\"},\"mode\":\"markers\",\"name\":\"Finance\",\"orientation\":\"v\",\"showlegend\":true,\"x\":[\"Finance\"],\"xaxis\":\"x\",\"y\":[146],\"yaxis\":\"y\",\"type\":\"scatter\"},{\"customdata\":[[10235103]],\"hovertemplate\":\"Genre=%{x}<br>Year=2009<br>No_of_Apps=%{marker.size}<br>Users=%{customdata[0]}<extra></extra>\",\"ids\":[61],\"legendgroup\":\"Food & Drink\",\"marker\":{\"color\":\"#19d3f3\",\"size\":[61],\"sizemode\":\"area\",\"sizeref\":76.0825,\"symbol\":\"circle\"},\"mode\":\"markers\",\"name\":\"Food & Drink\",\"orientation\":\"v\",\"showlegend\":true,\"x\":[\"Food & Drink\"],\"xaxis\":\"x\",\"y\":[61],\"yaxis\":\"y\",\"type\":\"scatter\"},{\"customdata\":[[1840220]],\"hovertemplate\":\"Genre=%{x}<br>Year=2009<br>No_of_Apps=%{marker.size}<br>Users=%{customdata[0]}<extra></extra>\",\"ids\":[671],\"legendgroup\":\"Games\",\"marker\":{\"color\":\"#FF6692\",\"size\":[671],\"sizemode\":\"area\",\"sizeref\":76.0825,\"symbol\":\"circle\"},\"mode\":\"markers\",\"name\":\"Games\",\"orientation\":\"v\",\"showlegend\":true,\"x\":[\"Games\"],\"xaxis\":\"x\",\"y\":[671],\"yaxis\":\"y\",\"type\":\"scatter\"},{\"customdata\":[[4532737]],\"hovertemplate\":\"Genre=%{x}<br>Year=2009<br>No_of_Apps=%{marker.size}<br>Users=%{customdata[0]}<extra></extra>\",\"ids\":[132],\"legendgroup\":\"Health & Fitness\",\"marker\":{\"color\":\"#B6E880\",\"size\":[132],\"sizemode\":\"area\",\"sizeref\":76.0825,\"symbol\":\"circle\"},\"mode\":\"markers\",\"name\":\"Health & Fitness\",\"orientation\":\"v\",\"showlegend\":true,\"x\":[\"Health & Fitness\"],\"xaxis\":\"x\",\"y\":[132],\"yaxis\":\"y\",\"type\":\"scatter\"},{\"customdata\":[[7401155]],\"hovertemplate\":\"Genre=%{x}<br>Year=2009<br>No_of_Apps=%{marker.size}<br>Users=%{customdata[0]}<extra></extra>\",\"ids\":[201],\"legendgroup\":\"Lifestyle\",\"marker\":{\"color\":\"#FF97FF\",\"size\":[201],\"sizemode\":\"area\",\"sizeref\":76.0825,\"symbol\":\"circle\"},\"mode\":\"markers\",\"name\":\"Lifestyle\",\"orientation\":\"v\",\"showlegend\":true,\"x\":[\"Lifestyle\"],\"xaxis\":\"x\",\"y\":[201],\"yaxis\":\"y\",\"type\":\"scatter\"},{\"customdata\":[[31573]],\"hovertemplate\":\"Genre=%{x}<br>Year=2009<br>No_of_Apps=%{marker.size}<br>Users=%{customdata[0]}<extra></extra>\",\"ids\":[178],\"legendgroup\":\"Medical\",\"marker\":{\"color\":\"#FECB52\",\"size\":[178],\"sizemode\":\"area\",\"sizeref\":76.0825,\"symbol\":\"circle\"},\"mode\":\"markers\",\"name\":\"Medical\",\"orientation\":\"v\",\"showlegend\":true,\"x\":[\"Medical\"],\"xaxis\":\"x\",\"y\":[178],\"yaxis\":\"y\",\"type\":\"scatter\"},{\"customdata\":[[1737204]],\"hovertemplate\":\"Genre=%{x}<br>Year=2009<br>No_of_Apps=%{marker.size}<br>Users=%{customdata[0]}<extra></extra>\",\"ids\":[316],\"legendgroup\":\"Music\",\"marker\":{\"color\":\"#636efa\",\"size\":[316],\"sizemode\":\"area\",\"sizeref\":76.0825,\"symbol\":\"circle\"},\"mode\":\"markers\",\"name\":\"Music\",\"orientation\":\"v\",\"showlegend\":true,\"x\":[\"Music\"],\"xaxis\":\"x\",\"y\":[316],\"yaxis\":\"y\",\"type\":\"scatter\"},{\"customdata\":[[3145102]],\"hovertemplate\":\"Genre=%{x}<br>Year=2009<br>No_of_Apps=%{marker.size}<br>Users=%{customdata[0]}<extra></extra>\",\"ids\":[104],\"legendgroup\":\"Navigation\",\"marker\":{\"color\":\"#EF553B\",\"size\":[104],\"sizemode\":\"area\",\"sizeref\":76.0825,\"symbol\":\"circle\"},\"mode\":\"markers\",\"name\":\"Navigation\",\"orientation\":\"v\",\"showlegend\":true,\"x\":[\"Navigation\"],\"xaxis\":\"x\",\"y\":[104],\"yaxis\":\"y\",\"type\":\"scatter\"},{\"customdata\":[[1904686]],\"hovertemplate\":\"Genre=%{x}<br>Year=2009<br>No_of_Apps=%{marker.size}<br>Users=%{customdata[0]}<extra></extra>\",\"ids\":[144],\"legendgroup\":\"News\",\"marker\":{\"color\":\"#00cc96\",\"size\":[144],\"sizemode\":\"area\",\"sizeref\":76.0825,\"symbol\":\"circle\"},\"mode\":\"markers\",\"name\":\"News\",\"orientation\":\"v\",\"showlegend\":true,\"x\":[\"News\"],\"xaxis\":\"x\",\"y\":[144],\"yaxis\":\"y\",\"type\":\"scatter\"},{\"customdata\":[[1244674]],\"hovertemplate\":\"Genre=%{x}<br>Year=2009<br>No_of_Apps=%{marker.size}<br>Users=%{customdata[0]}<extra></extra>\",\"ids\":[101],\"legendgroup\":\"Photo & Video\",\"marker\":{\"color\":\"#ab63fa\",\"size\":[101],\"sizemode\":\"area\",\"sizeref\":76.0825,\"symbol\":\"circle\"},\"mode\":\"markers\",\"name\":\"Photo & Video\",\"orientation\":\"v\",\"showlegend\":true,\"x\":[\"Photo & Video\"],\"xaxis\":\"x\",\"y\":[101],\"yaxis\":\"y\",\"type\":\"scatter\"},{\"customdata\":[[404591]],\"hovertemplate\":\"Genre=%{x}<br>Year=2009<br>No_of_Apps=%{marker.size}<br>Users=%{customdata[0]}<extra></extra>\",\"ids\":[163],\"legendgroup\":\"Productivity\",\"marker\":{\"color\":\"#FFA15A\",\"size\":[163],\"sizemode\":\"area\",\"sizeref\":76.0825,\"symbol\":\"circle\"},\"mode\":\"markers\",\"name\":\"Productivity\",\"orientation\":\"v\",\"showlegend\":true,\"x\":[\"Productivity\"],\"xaxis\":\"x\",\"y\":[163],\"yaxis\":\"y\",\"type\":\"scatter\"},{\"customdata\":[[433111]],\"hovertemplate\":\"Genre=%{x}<br>Year=2009<br>No_of_Apps=%{marker.size}<br>Users=%{customdata[0]}<extra></extra>\",\"ids\":[244],\"legendgroup\":\"Reference\",\"marker\":{\"color\":\"#19d3f3\",\"size\":[244],\"sizemode\":\"area\",\"sizeref\":76.0825,\"symbol\":\"circle\"},\"mode\":\"markers\",\"name\":\"Reference\",\"orientation\":\"v\",\"showlegend\":true,\"x\":[\"Reference\"],\"xaxis\":\"x\",\"y\":[244],\"yaxis\":\"y\",\"type\":\"scatter\"},{\"customdata\":[[10853009]],\"hovertemplate\":\"Genre=%{x}<br>Year=2009<br>No_of_Apps=%{marker.size}<br>Users=%{customdata[0]}<extra></extra>\",\"ids\":[48],\"legendgroup\":\"Shopping\",\"marker\":{\"color\":\"#FF6692\",\"size\":[48],\"sizemode\":\"area\",\"sizeref\":76.0825,\"symbol\":\"circle\"},\"mode\":\"markers\",\"name\":\"Shopping\",\"orientation\":\"v\",\"showlegend\":true,\"x\":[\"Shopping\"],\"xaxis\":\"x\",\"y\":[48],\"yaxis\":\"y\",\"type\":\"scatter\"},{\"customdata\":[[10459078]],\"hovertemplate\":\"Genre=%{x}<br>Year=2009<br>No_of_Apps=%{marker.size}<br>Users=%{customdata[0]}<extra></extra>\",\"ids\":[36],\"legendgroup\":\"Social Networking\",\"marker\":{\"color\":\"#B6E880\",\"size\":[36],\"sizemode\":\"area\",\"sizeref\":76.0825,\"symbol\":\"circle\"},\"mode\":\"markers\",\"name\":\"Social Networking\",\"orientation\":\"v\",\"showlegend\":true,\"x\":[\"Social Networking\"],\"xaxis\":\"x\",\"y\":[36],\"yaxis\":\"y\",\"type\":\"scatter\"},{\"customdata\":[[2961941]],\"hovertemplate\":\"Genre=%{x}<br>Year=2009<br>No_of_Apps=%{marker.size}<br>Users=%{customdata[0]}<extra></extra>\",\"ids\":[127],\"legendgroup\":\"Sports\",\"marker\":{\"color\":\"#FF97FF\",\"size\":[127],\"sizemode\":\"area\",\"sizeref\":76.0825,\"symbol\":\"circle\"},\"mode\":\"markers\",\"name\":\"Sports\",\"orientation\":\"v\",\"showlegend\":true,\"x\":[\"Sports\"],\"xaxis\":\"x\",\"y\":[127],\"yaxis\":\"y\",\"type\":\"scatter\"},{\"customdata\":[[6136571]],\"hovertemplate\":\"Genre=%{x}<br>Year=2009<br>No_of_Apps=%{marker.size}<br>Users=%{customdata[0]}<extra></extra>\",\"ids\":[161],\"legendgroup\":\"Travel\",\"marker\":{\"color\":\"#FECB52\",\"size\":[161],\"sizemode\":\"area\",\"sizeref\":76.0825,\"symbol\":\"circle\"},\"mode\":\"markers\",\"name\":\"Travel\",\"orientation\":\"v\",\"showlegend\":true,\"x\":[\"Travel\"],\"xaxis\":\"x\",\"y\":[161],\"yaxis\":\"y\",\"type\":\"scatter\"},{\"customdata\":[[410613]],\"hovertemplate\":\"Genre=%{x}<br>Year=2009<br>No_of_Apps=%{marker.size}<br>Users=%{customdata[0]}<extra></extra>\",\"ids\":[372],\"legendgroup\":\"Utilities\",\"marker\":{\"color\":\"#636efa\",\"size\":[372],\"sizemode\":\"area\",\"sizeref\":76.0825,\"symbol\":\"circle\"},\"mode\":\"markers\",\"name\":\"Utilities\",\"orientation\":\"v\",\"showlegend\":true,\"x\":[\"Utilities\"],\"xaxis\":\"x\",\"y\":[372],\"yaxis\":\"y\",\"type\":\"scatter\"},{\"customdata\":[[962697]],\"hovertemplate\":\"Genre=%{x}<br>Year=2009<br>No_of_Apps=%{marker.size}<br>Users=%{customdata[0]}<extra></extra>\",\"ids\":[43],\"legendgroup\":\"Weather\",\"marker\":{\"color\":\"#EF553B\",\"size\":[43],\"sizemode\":\"area\",\"sizeref\":76.0825,\"symbol\":\"circle\"},\"mode\":\"markers\",\"name\":\"Weather\",\"orientation\":\"v\",\"showlegend\":true,\"x\":[\"Weather\"],\"xaxis\":\"x\",\"y\":[43],\"yaxis\":\"y\",\"type\":\"scatter\"},{\"customdata\":[[10436]],\"hovertemplate\":\"Genre=%{x}<br>Year=2009<br>No_of_Apps=%{marker.size}<br>Users=%{customdata[0]}<extra></extra>\",\"ids\":[2],\"legendgroup\":\"Graphics & Design\",\"marker\":{\"color\":\"#00cc96\",\"size\":[2],\"sizemode\":\"area\",\"sizeref\":76.0825,\"symbol\":\"circle\"},\"mode\":\"markers\",\"name\":\"Graphics & Design\",\"orientation\":\"v\",\"showlegend\":true,\"x\":[\"Graphics & Design\"],\"xaxis\":\"x\",\"y\":[2],\"yaxis\":\"y\",\"type\":\"scatter\"},{\"customdata\":[[8]],\"hovertemplate\":\"Genre=%{x}<br>Year=2009<br>No_of_Apps=%{marker.size}<br>Users=%{customdata[0]}<extra></extra>\",\"ids\":[2],\"legendgroup\":\"Magazines & Newspapers\",\"marker\":{\"color\":\"#ab63fa\",\"size\":[2],\"sizemode\":\"area\",\"sizeref\":76.0825,\"symbol\":\"circle\"},\"mode\":\"markers\",\"name\":\"Magazines & Newspapers\",\"orientation\":\"v\",\"showlegend\":true,\"x\":[\"Magazines & Newspapers\"],\"xaxis\":\"x\",\"y\":[2],\"yaxis\":\"y\",\"type\":\"scatter\"}],\"name\":\"2009\"},{\"data\":[{\"customdata\":[[4386485]],\"hovertemplate\":\"Genre=%{x}<br>Year=2010<br>No_of_Apps=%{marker.size}<br>Users=%{customdata[0]}<extra></extra>\",\"ids\":[299],\"legendgroup\":\"Book\",\"marker\":{\"color\":\"#636efa\",\"size\":[299],\"sizemode\":\"area\",\"sizeref\":76.0825,\"symbol\":\"circle\"},\"mode\":\"markers\",\"name\":\"Book\",\"orientation\":\"v\",\"showlegend\":true,\"x\":[\"Book\"],\"xaxis\":\"x\",\"y\":[299],\"yaxis\":\"y\",\"type\":\"scatter\"},{\"customdata\":[[1566726]],\"hovertemplate\":\"Genre=%{x}<br>Year=2010<br>No_of_Apps=%{marker.size}<br>Users=%{customdata[0]}<extra></extra>\",\"ids\":[549],\"legendgroup\":\"Business\",\"marker\":{\"color\":\"#EF553B\",\"size\":[549],\"sizemode\":\"area\",\"sizeref\":76.0825,\"symbol\":\"circle\"},\"mode\":\"markers\",\"name\":\"Business\",\"orientation\":\"v\",\"showlegend\":true,\"x\":[\"Business\"],\"xaxis\":\"x\",\"y\":[549],\"yaxis\":\"y\",\"type\":\"scatter\"},{\"customdata\":[[795532]],\"hovertemplate\":\"Genre=%{x}<br>Year=2010<br>No_of_Apps=%{marker.size}<br>Users=%{customdata[0]}<extra></extra>\",\"ids\":[1030],\"legendgroup\":\"Education\",\"marker\":{\"color\":\"#00cc96\",\"size\":[1030],\"sizemode\":\"area\",\"sizeref\":76.0825,\"symbol\":\"circle\"},\"mode\":\"markers\",\"name\":\"Education\",\"orientation\":\"v\",\"showlegend\":true,\"x\":[\"Education\"],\"xaxis\":\"x\",\"y\":[1030],\"yaxis\":\"y\",\"type\":\"scatter\"},{\"customdata\":[[4081130]],\"hovertemplate\":\"Genre=%{x}<br>Year=2010<br>No_of_Apps=%{marker.size}<br>Users=%{customdata[0]}<extra></extra>\",\"ids\":[736],\"legendgroup\":\"Entertainment\",\"marker\":{\"color\":\"#ab63fa\",\"size\":[736],\"sizemode\":\"area\",\"sizeref\":76.0825,\"symbol\":\"circle\"},\"mode\":\"markers\",\"name\":\"Entertainment\",\"orientation\":\"v\",\"showlegend\":true,\"x\":[\"Entertainment\"],\"xaxis\":\"x\",\"y\":[736],\"yaxis\":\"y\",\"type\":\"scatter\"},{\"customdata\":[[23870046]],\"hovertemplate\":\"Genre=%{x}<br>Year=2010<br>No_of_Apps=%{marker.size}<br>Users=%{customdata[0]}<extra></extra>\",\"ids\":[371],\"legendgroup\":\"Finance\",\"marker\":{\"color\":\"#FFA15A\",\"size\":[371],\"sizemode\":\"area\",\"sizeref\":76.0825,\"symbol\":\"circle\"},\"mode\":\"markers\",\"name\":\"Finance\",\"orientation\":\"v\",\"showlegend\":true,\"x\":[\"Finance\"],\"xaxis\":\"x\",\"y\":[371],\"yaxis\":\"y\",\"type\":\"scatter\"},{\"customdata\":[[2239993]],\"hovertemplate\":\"Genre=%{x}<br>Year=2010<br>No_of_Apps=%{marker.size}<br>Users=%{customdata[0]}<extra></extra>\",\"ids\":[99],\"legendgroup\":\"Food & Drink\",\"marker\":{\"color\":\"#19d3f3\",\"size\":[99],\"sizemode\":\"area\",\"sizeref\":76.0825,\"symbol\":\"circle\"},\"mode\":\"markers\",\"name\":\"Food & Drink\",\"orientation\":\"v\",\"showlegend\":true,\"x\":[\"Food & Drink\"],\"xaxis\":\"x\",\"y\":[99],\"yaxis\":\"y\",\"type\":\"scatter\"},{\"customdata\":[[2023965]],\"hovertemplate\":\"Genre=%{x}<br>Year=2010<br>No_of_Apps=%{marker.size}<br>Users=%{customdata[0]}<extra></extra>\",\"ids\":[1334],\"legendgroup\":\"Games\",\"marker\":{\"color\":\"#FF6692\",\"size\":[1334],\"sizemode\":\"area\",\"sizeref\":76.0825,\"symbol\":\"circle\"},\"mode\":\"markers\",\"name\":\"Games\",\"orientation\":\"v\",\"showlegend\":true,\"x\":[\"Games\"],\"xaxis\":\"x\",\"y\":[1334],\"yaxis\":\"y\",\"type\":\"scatter\"},{\"customdata\":[[2217767]],\"hovertemplate\":\"Genre=%{x}<br>Year=2010<br>No_of_Apps=%{marker.size}<br>Users=%{customdata[0]}<extra></extra>\",\"ids\":[310],\"legendgroup\":\"Health & Fitness\",\"marker\":{\"color\":\"#B6E880\",\"size\":[310],\"sizemode\":\"area\",\"sizeref\":76.0825,\"symbol\":\"circle\"},\"mode\":\"markers\",\"name\":\"Health & Fitness\",\"orientation\":\"v\",\"showlegend\":true,\"x\":[\"Health & Fitness\"],\"xaxis\":\"x\",\"y\":[310],\"yaxis\":\"y\",\"type\":\"scatter\"},{\"customdata\":[[2041205]],\"hovertemplate\":\"Genre=%{x}<br>Year=2010<br>No_of_Apps=%{marker.size}<br>Users=%{customdata[0]}<extra></extra>\",\"ids\":[527],\"legendgroup\":\"Lifestyle\",\"marker\":{\"color\":\"#FF97FF\",\"size\":[527],\"sizemode\":\"area\",\"sizeref\":76.0825,\"symbol\":\"circle\"},\"mode\":\"markers\",\"name\":\"Lifestyle\",\"orientation\":\"v\",\"showlegend\":true,\"x\":[\"Lifestyle\"],\"xaxis\":\"x\",\"y\":[527],\"yaxis\":\"y\",\"type\":\"scatter\"},{\"customdata\":[[458348]],\"hovertemplate\":\"Genre=%{x}<br>Year=2010<br>No_of_Apps=%{marker.size}<br>Users=%{customdata[0]}<extra></extra>\",\"ids\":[345],\"legendgroup\":\"Medical\",\"marker\":{\"color\":\"#FECB52\",\"size\":[345],\"sizemode\":\"area\",\"sizeref\":76.0825,\"symbol\":\"circle\"},\"mode\":\"markers\",\"name\":\"Medical\",\"orientation\":\"v\",\"showlegend\":true,\"x\":[\"Medical\"],\"xaxis\":\"x\",\"y\":[345],\"yaxis\":\"y\",\"type\":\"scatter\"},{\"customdata\":[[1476987]],\"hovertemplate\":\"Genre=%{x}<br>Year=2010<br>No_of_Apps=%{marker.size}<br>Users=%{customdata[0]}<extra></extra>\",\"ids\":[750],\"legendgroup\":\"Music\",\"marker\":{\"color\":\"#636efa\",\"size\":[750],\"sizemode\":\"area\",\"sizeref\":76.0825,\"symbol\":\"circle\"},\"mode\":\"markers\",\"name\":\"Music\",\"orientation\":\"v\",\"showlegend\":true,\"x\":[\"Music\"],\"xaxis\":\"x\",\"y\":[750],\"yaxis\":\"y\",\"type\":\"scatter\"},{\"customdata\":[[1436830]],\"hovertemplate\":\"Genre=%{x}<br>Year=2010<br>No_of_Apps=%{marker.size}<br>Users=%{customdata[0]}<extra></extra>\",\"ids\":[375],\"legendgroup\":\"Navigation\",\"marker\":{\"color\":\"#EF553B\",\"size\":[375],\"sizemode\":\"area\",\"sizeref\":76.0825,\"symbol\":\"circle\"},\"mode\":\"markers\",\"name\":\"Navigation\",\"orientation\":\"v\",\"showlegend\":true,\"x\":[\"Navigation\"],\"xaxis\":\"x\",\"y\":[375],\"yaxis\":\"y\",\"type\":\"scatter\"},{\"customdata\":[[2607371]],\"hovertemplate\":\"Genre=%{x}<br>Year=2010<br>No_of_Apps=%{marker.size}<br>Users=%{customdata[0]}<extra></extra>\",\"ids\":[539],\"legendgroup\":\"News\",\"marker\":{\"color\":\"#00cc96\",\"size\":[539],\"sizemode\":\"area\",\"sizeref\":76.0825,\"symbol\":\"circle\"},\"mode\":\"markers\",\"name\":\"News\",\"orientation\":\"v\",\"showlegend\":true,\"x\":[\"News\"],\"xaxis\":\"x\",\"y\":[539],\"yaxis\":\"y\",\"type\":\"scatter\"},{\"customdata\":[[22272113]],\"hovertemplate\":\"Genre=%{x}<br>Year=2010<br>No_of_Apps=%{marker.size}<br>Users=%{customdata[0]}<extra></extra>\",\"ids\":[216],\"legendgroup\":\"Photo & Video\",\"marker\":{\"color\":\"#ab63fa\",\"size\":[216],\"sizemode\":\"area\",\"sizeref\":76.0825,\"symbol\":\"circle\"},\"mode\":\"markers\",\"name\":\"Photo & Video\",\"orientation\":\"v\",\"showlegend\":true,\"x\":[\"Photo & Video\"],\"xaxis\":\"x\",\"y\":[216],\"yaxis\":\"y\",\"type\":\"scatter\"},{\"customdata\":[[1931806]],\"hovertemplate\":\"Genre=%{x}<br>Year=2010<br>No_of_Apps=%{marker.size}<br>Users=%{customdata[0]}<extra></extra>\",\"ids\":[487],\"legendgroup\":\"Productivity\",\"marker\":{\"color\":\"#FFA15A\",\"size\":[487],\"sizemode\":\"area\",\"sizeref\":76.0825,\"symbol\":\"circle\"},\"mode\":\"markers\",\"name\":\"Productivity\",\"orientation\":\"v\",\"showlegend\":true,\"x\":[\"Productivity\"],\"xaxis\":\"x\",\"y\":[487],\"yaxis\":\"y\",\"type\":\"scatter\"},{\"customdata\":[[1369506]],\"hovertemplate\":\"Genre=%{x}<br>Year=2010<br>No_of_Apps=%{marker.size}<br>Users=%{customdata[0]}<extra></extra>\",\"ids\":[505],\"legendgroup\":\"Reference\",\"marker\":{\"color\":\"#19d3f3\",\"size\":[505],\"sizemode\":\"area\",\"sizeref\":76.0825,\"symbol\":\"circle\"},\"mode\":\"markers\",\"name\":\"Reference\",\"orientation\":\"v\",\"showlegend\":true,\"x\":[\"Reference\"],\"xaxis\":\"x\",\"y\":[505],\"yaxis\":\"y\",\"type\":\"scatter\"},{\"customdata\":[[7087557]],\"hovertemplate\":\"Genre=%{x}<br>Year=2010<br>No_of_Apps=%{marker.size}<br>Users=%{customdata[0]}<extra></extra>\",\"ids\":[89],\"legendgroup\":\"Shopping\",\"marker\":{\"color\":\"#FF6692\",\"size\":[89],\"sizemode\":\"area\",\"sizeref\":76.0825,\"symbol\":\"circle\"},\"mode\":\"markers\",\"name\":\"Shopping\",\"orientation\":\"v\",\"showlegend\":true,\"x\":[\"Shopping\"],\"xaxis\":\"x\",\"y\":[89],\"yaxis\":\"y\",\"type\":\"scatter\"},{\"customdata\":[[5166546]],\"hovertemplate\":\"Genre=%{x}<br>Year=2010<br>No_of_Apps=%{marker.size}<br>Users=%{customdata[0]}<extra></extra>\",\"ids\":[132],\"legendgroup\":\"Social Networking\",\"marker\":{\"color\":\"#B6E880\",\"size\":[132],\"sizemode\":\"area\",\"sizeref\":76.0825,\"symbol\":\"circle\"},\"mode\":\"markers\",\"name\":\"Social Networking\",\"orientation\":\"v\",\"showlegend\":true,\"x\":[\"Social Networking\"],\"xaxis\":\"x\",\"y\":[132],\"yaxis\":\"y\",\"type\":\"scatter\"},{\"customdata\":[[854080]],\"hovertemplate\":\"Genre=%{x}<br>Year=2010<br>No_of_Apps=%{marker.size}<br>Users=%{customdata[0]}<extra></extra>\",\"ids\":[354],\"legendgroup\":\"Sports\",\"marker\":{\"color\":\"#FF97FF\",\"size\":[354],\"sizemode\":\"area\",\"sizeref\":76.0825,\"symbol\":\"circle\"},\"mode\":\"markers\",\"name\":\"Sports\",\"orientation\":\"v\",\"showlegend\":true,\"x\":[\"Sports\"],\"xaxis\":\"x\",\"y\":[354],\"yaxis\":\"y\",\"type\":\"scatter\"},{\"customdata\":[[9219437]],\"hovertemplate\":\"Genre=%{x}<br>Year=2010<br>No_of_Apps=%{marker.size}<br>Users=%{customdata[0]}<extra></extra>\",\"ids\":[862],\"legendgroup\":\"Travel\",\"marker\":{\"color\":\"#FECB52\",\"size\":[862],\"sizemode\":\"area\",\"sizeref\":76.0825,\"symbol\":\"circle\"},\"mode\":\"markers\",\"name\":\"Travel\",\"orientation\":\"v\",\"showlegend\":true,\"x\":[\"Travel\"],\"xaxis\":\"x\",\"y\":[862],\"yaxis\":\"y\",\"type\":\"scatter\"},{\"customdata\":[[1425741]],\"hovertemplate\":\"Genre=%{x}<br>Year=2010<br>No_of_Apps=%{marker.size}<br>Users=%{customdata[0]}<extra></extra>\",\"ids\":[879],\"legendgroup\":\"Utilities\",\"marker\":{\"color\":\"#636efa\",\"size\":[879],\"sizemode\":\"area\",\"sizeref\":76.0825,\"symbol\":\"circle\"},\"mode\":\"markers\",\"name\":\"Utilities\",\"orientation\":\"v\",\"showlegend\":true,\"x\":[\"Utilities\"],\"xaxis\":\"x\",\"y\":[879],\"yaxis\":\"y\",\"type\":\"scatter\"},{\"customdata\":[[269256]],\"hovertemplate\":\"Genre=%{x}<br>Year=2010<br>No_of_Apps=%{marker.size}<br>Users=%{customdata[0]}<extra></extra>\",\"ids\":[129],\"legendgroup\":\"Weather\",\"marker\":{\"color\":\"#EF553B\",\"size\":[129],\"sizemode\":\"area\",\"sizeref\":76.0825,\"symbol\":\"circle\"},\"mode\":\"markers\",\"name\":\"Weather\",\"orientation\":\"v\",\"showlegend\":true,\"x\":[\"Weather\"],\"xaxis\":\"x\",\"y\":[129],\"yaxis\":\"y\",\"type\":\"scatter\"},{\"customdata\":[[13650]],\"hovertemplate\":\"Genre=%{x}<br>Year=2010<br>No_of_Apps=%{marker.size}<br>Users=%{customdata[0]}<extra></extra>\",\"ids\":[11],\"legendgroup\":\"Graphics & Design\",\"marker\":{\"color\":\"#00cc96\",\"size\":[11],\"sizemode\":\"area\",\"sizeref\":76.0825,\"symbol\":\"circle\"},\"mode\":\"markers\",\"name\":\"Graphics & Design\",\"orientation\":\"v\",\"showlegend\":true,\"x\":[\"Graphics & Design\"],\"xaxis\":\"x\",\"y\":[11],\"yaxis\":\"y\",\"type\":\"scatter\"},{\"customdata\":[[13331]],\"hovertemplate\":\"Genre=%{x}<br>Year=2010<br>No_of_Apps=%{marker.size}<br>Users=%{customdata[0]}<extra></extra>\",\"ids\":[17],\"legendgroup\":\"Magazines & Newspapers\",\"marker\":{\"color\":\"#ab63fa\",\"size\":[17],\"sizemode\":\"area\",\"sizeref\":76.0825,\"symbol\":\"circle\"},\"mode\":\"markers\",\"name\":\"Magazines & Newspapers\",\"orientation\":\"v\",\"showlegend\":true,\"x\":[\"Magazines & Newspapers\"],\"xaxis\":\"x\",\"y\":[17],\"yaxis\":\"y\",\"type\":\"scatter\"},{\"customdata\":[[230]],\"hovertemplate\":\"Genre=%{x}<br>Year=2010<br>No_of_Apps=%{marker.size}<br>Users=%{customdata[0]}<extra></extra>\",\"ids\":[4],\"legendgroup\":\"Developer Tools\",\"marker\":{\"color\":\"#FFA15A\",\"size\":[4],\"sizemode\":\"area\",\"sizeref\":76.0825,\"symbol\":\"circle\"},\"mode\":\"markers\",\"name\":\"Developer Tools\",\"orientation\":\"v\",\"showlegend\":true,\"x\":[\"Developer Tools\"],\"xaxis\":\"x\",\"y\":[4],\"yaxis\":\"y\",\"type\":\"scatter\"}],\"name\":\"2010\"},{\"data\":[{\"customdata\":[[83237]],\"hovertemplate\":\"Genre=%{x}<br>Year=2011<br>No_of_Apps=%{marker.size}<br>Users=%{customdata[0]}<extra></extra>\",\"ids\":[382],\"legendgroup\":\"Book\",\"marker\":{\"color\":\"#636efa\",\"size\":[382],\"sizemode\":\"area\",\"sizeref\":76.0825,\"symbol\":\"circle\"},\"mode\":\"markers\",\"name\":\"Book\",\"orientation\":\"v\",\"showlegend\":true,\"x\":[\"Book\"],\"xaxis\":\"x\",\"y\":[382],\"yaxis\":\"y\",\"type\":\"scatter\"},{\"customdata\":[[2893601]],\"hovertemplate\":\"Genre=%{x}<br>Year=2011<br>No_of_Apps=%{marker.size}<br>Users=%{customdata[0]}<extra></extra>\",\"ids\":[1221],\"legendgroup\":\"Business\",\"marker\":{\"color\":\"#EF553B\",\"size\":[1221],\"sizemode\":\"area\",\"sizeref\":76.0825,\"symbol\":\"circle\"},\"mode\":\"markers\",\"name\":\"Business\",\"orientation\":\"v\",\"showlegend\":true,\"x\":[\"Business\"],\"xaxis\":\"x\",\"y\":[1221],\"yaxis\":\"y\",\"type\":\"scatter\"},{\"customdata\":[[2674491]],\"hovertemplate\":\"Genre=%{x}<br>Year=2011<br>No_of_Apps=%{marker.size}<br>Users=%{customdata[0]}<extra></extra>\",\"ids\":[2352],\"legendgroup\":\"Education\",\"marker\":{\"color\":\"#00cc96\",\"size\":[2352],\"sizemode\":\"area\",\"sizeref\":76.0825,\"symbol\":\"circle\"},\"mode\":\"markers\",\"name\":\"Education\",\"orientation\":\"v\",\"showlegend\":true,\"x\":[\"Education\"],\"xaxis\":\"x\",\"y\":[2352],\"yaxis\":\"y\",\"type\":\"scatter\"},{\"customdata\":[[3699590]],\"hovertemplate\":\"Genre=%{x}<br>Year=2011<br>No_of_Apps=%{marker.size}<br>Users=%{customdata[0]}<extra></extra>\",\"ids\":[1091],\"legendgroup\":\"Entertainment\",\"marker\":{\"color\":\"#ab63fa\",\"size\":[1091],\"sizemode\":\"area\",\"sizeref\":76.0825,\"symbol\":\"circle\"},\"mode\":\"markers\",\"name\":\"Entertainment\",\"orientation\":\"v\",\"showlegend\":true,\"x\":[\"Entertainment\"],\"xaxis\":\"x\",\"y\":[1091],\"yaxis\":\"y\",\"type\":\"scatter\"},{\"customdata\":[[4401506]],\"hovertemplate\":\"Genre=%{x}<br>Year=2011<br>No_of_Apps=%{marker.size}<br>Users=%{customdata[0]}<extra></extra>\",\"ids\":[893],\"legendgroup\":\"Finance\",\"marker\":{\"color\":\"#FFA15A\",\"size\":[893],\"sizemode\":\"area\",\"sizeref\":76.0825,\"symbol\":\"circle\"},\"mode\":\"markers\",\"name\":\"Finance\",\"orientation\":\"v\",\"showlegend\":true,\"x\":[\"Finance\"],\"xaxis\":\"x\",\"y\":[893],\"yaxis\":\"y\",\"type\":\"scatter\"},{\"customdata\":[[8378280]],\"hovertemplate\":\"Genre=%{x}<br>Year=2011<br>No_of_Apps=%{marker.size}<br>Users=%{customdata[0]}<extra></extra>\",\"ids\":[176],\"legendgroup\":\"Food & Drink\",\"marker\":{\"color\":\"#19d3f3\",\"size\":[176],\"sizemode\":\"area\",\"sizeref\":76.0825,\"symbol\":\"circle\"},\"mode\":\"markers\",\"name\":\"Food & Drink\",\"orientation\":\"v\",\"showlegend\":true,\"x\":[\"Food & Drink\"],\"xaxis\":\"x\",\"y\":[176],\"yaxis\":\"y\",\"type\":\"scatter\"},{\"customdata\":[[9753242]],\"hovertemplate\":\"Genre=%{x}<br>Year=2011<br>No_of_Apps=%{marker.size}<br>Users=%{customdata[0]}<extra></extra>\",\"ids\":[2919],\"legendgroup\":\"Games\",\"marker\":{\"color\":\"#FF6692\",\"size\":[2919],\"sizemode\":\"area\",\"sizeref\":76.0825,\"symbol\":\"circle\"},\"mode\":\"markers\",\"name\":\"Games\",\"orientation\":\"v\",\"showlegend\":true,\"x\":[\"Games\"],\"xaxis\":\"x\",\"y\":[2919],\"yaxis\":\"y\",\"type\":\"scatter\"},{\"customdata\":[[1149895]],\"hovertemplate\":\"Genre=%{x}<br>Year=2011<br>No_of_Apps=%{marker.size}<br>Users=%{customdata[0]}<extra></extra>\",\"ids\":[487],\"legendgroup\":\"Health & Fitness\",\"marker\":{\"color\":\"#B6E880\",\"size\":[487],\"sizemode\":\"area\",\"sizeref\":76.0825,\"symbol\":\"circle\"},\"mode\":\"markers\",\"name\":\"Health & Fitness\",\"orientation\":\"v\",\"showlegend\":true,\"x\":[\"Health & Fitness\"],\"xaxis\":\"x\",\"y\":[487],\"yaxis\":\"y\",\"type\":\"scatter\"},{\"customdata\":[[7133006]],\"hovertemplate\":\"Genre=%{x}<br>Year=2011<br>No_of_Apps=%{marker.size}<br>Users=%{customdata[0]}<extra></extra>\",\"ids\":[1040],\"legendgroup\":\"Lifestyle\",\"marker\":{\"color\":\"#FF97FF\",\"size\":[1040],\"sizemode\":\"area\",\"sizeref\":76.0825,\"symbol\":\"circle\"},\"mode\":\"markers\",\"name\":\"Lifestyle\",\"orientation\":\"v\",\"showlegend\":true,\"x\":[\"Lifestyle\"],\"xaxis\":\"x\",\"y\":[1040],\"yaxis\":\"y\",\"type\":\"scatter\"},{\"customdata\":[[883665]],\"hovertemplate\":\"Genre=%{x}<br>Year=2011<br>No_of_Apps=%{marker.size}<br>Users=%{customdata[0]}<extra></extra>\",\"ids\":[522],\"legendgroup\":\"Medical\",\"marker\":{\"color\":\"#FECB52\",\"size\":[522],\"sizemode\":\"area\",\"sizeref\":76.0825,\"symbol\":\"circle\"},\"mode\":\"markers\",\"name\":\"Medical\",\"orientation\":\"v\",\"showlegend\":true,\"x\":[\"Medical\"],\"xaxis\":\"x\",\"y\":[522],\"yaxis\":\"y\",\"type\":\"scatter\"},{\"customdata\":[[20058582]],\"hovertemplate\":\"Genre=%{x}<br>Year=2011<br>No_of_Apps=%{marker.size}<br>Users=%{customdata[0]}<extra></extra>\",\"ids\":[1180],\"legendgroup\":\"Music\",\"marker\":{\"color\":\"#636efa\",\"size\":[1180],\"sizemode\":\"area\",\"sizeref\":76.0825,\"symbol\":\"circle\"},\"mode\":\"markers\",\"name\":\"Music\",\"orientation\":\"v\",\"showlegend\":true,\"x\":[\"Music\"],\"xaxis\":\"x\",\"y\":[1180],\"yaxis\":\"y\",\"type\":\"scatter\"},{\"customdata\":[[212669]],\"hovertemplate\":\"Genre=%{x}<br>Year=2011<br>No_of_Apps=%{marker.size}<br>Users=%{customdata[0]}<extra></extra>\",\"ids\":[339],\"legendgroup\":\"Navigation\",\"marker\":{\"color\":\"#EF553B\",\"size\":[339],\"sizemode\":\"area\",\"sizeref\":76.0825,\"symbol\":\"circle\"},\"mode\":\"markers\",\"name\":\"Navigation\",\"orientation\":\"v\",\"showlegend\":true,\"x\":[\"Navigation\"],\"xaxis\":\"x\",\"y\":[339],\"yaxis\":\"y\",\"type\":\"scatter\"},{\"customdata\":[[915997]],\"hovertemplate\":\"Genre=%{x}<br>Year=2011<br>No_of_Apps=%{marker.size}<br>Users=%{customdata[0]}<extra></extra>\",\"ids\":[911],\"legendgroup\":\"News\",\"marker\":{\"color\":\"#00cc96\",\"size\":[911],\"sizemode\":\"area\",\"sizeref\":76.0825,\"symbol\":\"circle\"},\"mode\":\"markers\",\"name\":\"News\",\"orientation\":\"v\",\"showlegend\":true,\"x\":[\"News\"],\"xaxis\":\"x\",\"y\":[911],\"yaxis\":\"y\",\"type\":\"scatter\"},{\"customdata\":[[5215414]],\"hovertemplate\":\"Genre=%{x}<br>Year=2011<br>No_of_Apps=%{marker.size}<br>Users=%{customdata[0]}<extra></extra>\",\"ids\":[598],\"legendgroup\":\"Photo & Video\",\"marker\":{\"color\":\"#ab63fa\",\"size\":[598],\"sizemode\":\"area\",\"sizeref\":76.0825,\"symbol\":\"circle\"},\"mode\":\"markers\",\"name\":\"Photo & Video\",\"orientation\":\"v\",\"showlegend\":true,\"x\":[\"Photo & Video\"],\"xaxis\":\"x\",\"y\":[598],\"yaxis\":\"y\",\"type\":\"scatter\"},{\"customdata\":[[3819162]],\"hovertemplate\":\"Genre=%{x}<br>Year=2011<br>No_of_Apps=%{marker.size}<br>Users=%{customdata[0]}<extra></extra>\",\"ids\":[907],\"legendgroup\":\"Productivity\",\"marker\":{\"color\":\"#FFA15A\",\"size\":[907],\"sizemode\":\"area\",\"sizeref\":76.0825,\"symbol\":\"circle\"},\"mode\":\"markers\",\"name\":\"Productivity\",\"orientation\":\"v\",\"showlegend\":true,\"x\":[\"Productivity\"],\"xaxis\":\"x\",\"y\":[907],\"yaxis\":\"y\",\"type\":\"scatter\"},{\"customdata\":[[604917]],\"hovertemplate\":\"Genre=%{x}<br>Year=2011<br>No_of_Apps=%{marker.size}<br>Users=%{customdata[0]}<extra></extra>\",\"ids\":[742],\"legendgroup\":\"Reference\",\"marker\":{\"color\":\"#19d3f3\",\"size\":[742],\"sizemode\":\"area\",\"sizeref\":76.0825,\"symbol\":\"circle\"},\"mode\":\"markers\",\"name\":\"Reference\",\"orientation\":\"v\",\"showlegend\":true,\"x\":[\"Reference\"],\"xaxis\":\"x\",\"y\":[742],\"yaxis\":\"y\",\"type\":\"scatter\"},{\"customdata\":[[11623672]],\"hovertemplate\":\"Genre=%{x}<br>Year=2011<br>No_of_Apps=%{marker.size}<br>Users=%{customdata[0]}<extra></extra>\",\"ids\":[176],\"legendgroup\":\"Shopping\",\"marker\":{\"color\":\"#FF6692\",\"size\":[176],\"sizemode\":\"area\",\"sizeref\":76.0825,\"symbol\":\"circle\"},\"mode\":\"markers\",\"name\":\"Shopping\",\"orientation\":\"v\",\"showlegend\":true,\"x\":[\"Shopping\"],\"xaxis\":\"x\",\"y\":[176],\"yaxis\":\"y\",\"type\":\"scatter\"},{\"customdata\":[[333553]],\"hovertemplate\":\"Genre=%{x}<br>Year=2011<br>No_of_Apps=%{marker.size}<br>Users=%{customdata[0]}<extra></extra>\",\"ids\":[185],\"legendgroup\":\"Social Networking\",\"marker\":{\"color\":\"#B6E880\",\"size\":[185],\"sizemode\":\"area\",\"sizeref\":76.0825,\"symbol\":\"circle\"},\"mode\":\"markers\",\"name\":\"Social Networking\",\"orientation\":\"v\",\"showlegend\":true,\"x\":[\"Social Networking\"],\"xaxis\":\"x\",\"y\":[185],\"yaxis\":\"y\",\"type\":\"scatter\"},{\"customdata\":[[1271042]],\"hovertemplate\":\"Genre=%{x}<br>Year=2011<br>No_of_Apps=%{marker.size}<br>Users=%{customdata[0]}<extra></extra>\",\"ids\":[654],\"legendgroup\":\"Sports\",\"marker\":{\"color\":\"#FF97FF\",\"size\":[654],\"sizemode\":\"area\",\"sizeref\":76.0825,\"symbol\":\"circle\"},\"mode\":\"markers\",\"name\":\"Sports\",\"orientation\":\"v\",\"showlegend\":true,\"x\":[\"Sports\"],\"xaxis\":\"x\",\"y\":[654],\"yaxis\":\"y\",\"type\":\"scatter\"},{\"customdata\":[[8112882]],\"hovertemplate\":\"Genre=%{x}<br>Year=2011<br>No_of_Apps=%{marker.size}<br>Users=%{customdata[0]}<extra></extra>\",\"ids\":[763],\"legendgroup\":\"Travel\",\"marker\":{\"color\":\"#FECB52\",\"size\":[763],\"sizemode\":\"area\",\"sizeref\":76.0825,\"symbol\":\"circle\"},\"mode\":\"markers\",\"name\":\"Travel\",\"orientation\":\"v\",\"showlegend\":true,\"x\":[\"Travel\"],\"xaxis\":\"x\",\"y\":[763],\"yaxis\":\"y\",\"type\":\"scatter\"},{\"customdata\":[[6211067]],\"hovertemplate\":\"Genre=%{x}<br>Year=2011<br>No_of_Apps=%{marker.size}<br>Users=%{customdata[0]}<extra></extra>\",\"ids\":[1536],\"legendgroup\":\"Utilities\",\"marker\":{\"color\":\"#636efa\",\"size\":[1536],\"sizemode\":\"area\",\"sizeref\":76.0825,\"symbol\":\"circle\"},\"mode\":\"markers\",\"name\":\"Utilities\",\"orientation\":\"v\",\"showlegend\":true,\"x\":[\"Utilities\"],\"xaxis\":\"x\",\"y\":[1536],\"yaxis\":\"y\",\"type\":\"scatter\"},{\"customdata\":[[376418]],\"hovertemplate\":\"Genre=%{x}<br>Year=2011<br>No_of_Apps=%{marker.size}<br>Users=%{customdata[0]}<extra></extra>\",\"ids\":[203],\"legendgroup\":\"Weather\",\"marker\":{\"color\":\"#EF553B\",\"size\":[203],\"sizemode\":\"area\",\"sizeref\":76.0825,\"symbol\":\"circle\"},\"mode\":\"markers\",\"name\":\"Weather\",\"orientation\":\"v\",\"showlegend\":true,\"x\":[\"Weather\"],\"xaxis\":\"x\",\"y\":[203],\"yaxis\":\"y\",\"type\":\"scatter\"},{\"customdata\":[[29960]],\"hovertemplate\":\"Genre=%{x}<br>Year=2011<br>No_of_Apps=%{marker.size}<br>Users=%{customdata[0]}<extra></extra>\",\"ids\":[81],\"legendgroup\":\"Graphics & Design\",\"marker\":{\"color\":\"#00cc96\",\"size\":[81],\"sizemode\":\"area\",\"sizeref\":76.0825,\"symbol\":\"circle\"},\"mode\":\"markers\",\"name\":\"Graphics & Design\",\"orientation\":\"v\",\"showlegend\":true,\"x\":[\"Graphics & Design\"],\"xaxis\":\"x\",\"y\":[81],\"yaxis\":\"y\",\"type\":\"scatter\"},{\"customdata\":[[11305]],\"hovertemplate\":\"Genre=%{x}<br>Year=2011<br>No_of_Apps=%{marker.size}<br>Users=%{customdata[0]}<extra></extra>\",\"ids\":[56],\"legendgroup\":\"Magazines & Newspapers\",\"marker\":{\"color\":\"#ab63fa\",\"size\":[56],\"sizemode\":\"area\",\"sizeref\":76.0825,\"symbol\":\"circle\"},\"mode\":\"markers\",\"name\":\"Magazines & Newspapers\",\"orientation\":\"v\",\"showlegend\":true,\"x\":[\"Magazines & Newspapers\"],\"xaxis\":\"x\",\"y\":[56],\"yaxis\":\"y\",\"type\":\"scatter\"},{\"customdata\":[[0]],\"hovertemplate\":\"Genre=%{x}<br>Year=2011<br>No_of_Apps=%{marker.size}<br>Users=%{customdata[0]}<extra></extra>\",\"ids\":[63],\"legendgroup\":\"Developer Tools\",\"marker\":{\"color\":\"#FFA15A\",\"size\":[63],\"sizemode\":\"area\",\"sizeref\":76.0825,\"symbol\":\"circle\"},\"mode\":\"markers\",\"name\":\"Developer Tools\",\"orientation\":\"v\",\"showlegend\":true,\"x\":[\"Developer Tools\"],\"xaxis\":\"x\",\"y\":[63],\"yaxis\":\"y\",\"type\":\"scatter\"}],\"name\":\"2011\"},{\"data\":[{\"customdata\":[[184108]],\"hovertemplate\":\"Genre=%{x}<br>Year=2012<br>No_of_Apps=%{marker.size}<br>Users=%{customdata[0]}<extra></extra>\",\"ids\":[473],\"legendgroup\":\"Book\",\"marker\":{\"color\":\"#636efa\",\"size\":[473],\"sizemode\":\"area\",\"sizeref\":76.0825,\"symbol\":\"circle\"},\"mode\":\"markers\",\"name\":\"Book\",\"orientation\":\"v\",\"showlegend\":true,\"x\":[\"Book\"],\"xaxis\":\"x\",\"y\":[473],\"yaxis\":\"y\",\"type\":\"scatter\"},{\"customdata\":[[2899803]],\"hovertemplate\":\"Genre=%{x}<br>Year=2012<br>No_of_Apps=%{marker.size}<br>Users=%{customdata[0]}<extra></extra>\",\"ids\":[2133],\"legendgroup\":\"Business\",\"marker\":{\"color\":\"#EF553B\",\"size\":[2133],\"sizemode\":\"area\",\"sizeref\":76.0825,\"symbol\":\"circle\"},\"mode\":\"markers\",\"name\":\"Business\",\"orientation\":\"v\",\"showlegend\":true,\"x\":[\"Business\"],\"xaxis\":\"x\",\"y\":[2133],\"yaxis\":\"y\",\"type\":\"scatter\"},{\"customdata\":[[6479784]],\"hovertemplate\":\"Genre=%{x}<br>Year=2012<br>No_of_Apps=%{marker.size}<br>Users=%{customdata[0]}<extra></extra>\",\"ids\":[3705],\"legendgroup\":\"Education\",\"marker\":{\"color\":\"#00cc96\",\"size\":[3705],\"sizemode\":\"area\",\"sizeref\":76.0825,\"symbol\":\"circle\"},\"mode\":\"markers\",\"name\":\"Education\",\"orientation\":\"v\",\"showlegend\":true,\"x\":[\"Education\"],\"xaxis\":\"x\",\"y\":[3705],\"yaxis\":\"y\",\"type\":\"scatter\"},{\"customdata\":[[6211747]],\"hovertemplate\":\"Genre=%{x}<br>Year=2012<br>No_of_Apps=%{marker.size}<br>Users=%{customdata[0]}<extra></extra>\",\"ids\":[1487],\"legendgroup\":\"Entertainment\",\"marker\":{\"color\":\"#ab63fa\",\"size\":[1487],\"sizemode\":\"area\",\"sizeref\":76.0825,\"symbol\":\"circle\"},\"mode\":\"markers\",\"name\":\"Entertainment\",\"orientation\":\"v\",\"showlegend\":true,\"x\":[\"Entertainment\"],\"xaxis\":\"x\",\"y\":[1487],\"yaxis\":\"y\",\"type\":\"scatter\"},{\"customdata\":[[3293353]],\"hovertemplate\":\"Genre=%{x}<br>Year=2012<br>No_of_Apps=%{marker.size}<br>Users=%{customdata[0]}<extra></extra>\",\"ids\":[1417],\"legendgroup\":\"Finance\",\"marker\":{\"color\":\"#FFA15A\",\"size\":[1417],\"sizemode\":\"area\",\"sizeref\":76.0825,\"symbol\":\"circle\"},\"mode\":\"markers\",\"name\":\"Finance\",\"orientation\":\"v\",\"showlegend\":true,\"x\":[\"Finance\"],\"xaxis\":\"x\",\"y\":[1417],\"yaxis\":\"y\",\"type\":\"scatter\"},{\"customdata\":[[5592199]],\"hovertemplate\":\"Genre=%{x}<br>Year=2012<br>No_of_Apps=%{marker.size}<br>Users=%{customdata[0]}<extra></extra>\",\"ids\":[376],\"legendgroup\":\"Food & Drink\",\"marker\":{\"color\":\"#19d3f3\",\"size\":[376],\"sizemode\":\"area\",\"sizeref\":76.0825,\"symbol\":\"circle\"},\"mode\":\"markers\",\"name\":\"Food & Drink\",\"orientation\":\"v\",\"showlegend\":true,\"x\":[\"Food & Drink\"],\"xaxis\":\"x\",\"y\":[376],\"yaxis\":\"y\",\"type\":\"scatter\"},{\"customdata\":[[11158396]],\"hovertemplate\":\"Genre=%{x}<br>Year=2012<br>No_of_Apps=%{marker.size}<br>Users=%{customdata[0]}<extra></extra>\",\"ids\":[4520],\"legendgroup\":\"Games\",\"marker\":{\"color\":\"#FF6692\",\"size\":[4520],\"sizemode\":\"area\",\"sizeref\":76.0825,\"symbol\":\"circle\"},\"mode\":\"markers\",\"name\":\"Games\",\"orientation\":\"v\",\"showlegend\":true,\"x\":[\"Games\"],\"xaxis\":\"x\",\"y\":[4520],\"yaxis\":\"y\",\"type\":\"scatter\"},{\"customdata\":[[1834547]],\"hovertemplate\":\"Genre=%{x}<br>Year=2012<br>No_of_Apps=%{marker.size}<br>Users=%{customdata[0]}<extra></extra>\",\"ids\":[753],\"legendgroup\":\"Health & Fitness\",\"marker\":{\"color\":\"#B6E880\",\"size\":[753],\"sizemode\":\"area\",\"sizeref\":76.0825,\"symbol\":\"circle\"},\"mode\":\"markers\",\"name\":\"Health & Fitness\",\"orientation\":\"v\",\"showlegend\":true,\"x\":[\"Health & Fitness\"],\"xaxis\":\"x\",\"y\":[753],\"yaxis\":\"y\",\"type\":\"scatter\"},{\"customdata\":[[2075682]],\"hovertemplate\":\"Genre=%{x}<br>Year=2012<br>No_of_Apps=%{marker.size}<br>Users=%{customdata[0]}<extra></extra>\",\"ids\":[1749],\"legendgroup\":\"Lifestyle\",\"marker\":{\"color\":\"#FF97FF\",\"size\":[1749],\"sizemode\":\"area\",\"sizeref\":76.0825,\"symbol\":\"circle\"},\"mode\":\"markers\",\"name\":\"Lifestyle\",\"orientation\":\"v\",\"showlegend\":true,\"x\":[\"Lifestyle\"],\"xaxis\":\"x\",\"y\":[1749],\"yaxis\":\"y\",\"type\":\"scatter\"},{\"customdata\":[[605915]],\"hovertemplate\":\"Genre=%{x}<br>Year=2012<br>No_of_Apps=%{marker.size}<br>Users=%{customdata[0]}<extra></extra>\",\"ids\":[670],\"legendgroup\":\"Medical\",\"marker\":{\"color\":\"#FECB52\",\"size\":[670],\"sizemode\":\"area\",\"sizeref\":76.0825,\"symbol\":\"circle\"},\"mode\":\"markers\",\"name\":\"Medical\",\"orientation\":\"v\",\"showlegend\":true,\"x\":[\"Medical\"],\"xaxis\":\"x\",\"y\":[670],\"yaxis\":\"y\",\"type\":\"scatter\"},{\"customdata\":[[2180536]],\"hovertemplate\":\"Genre=%{x}<br>Year=2012<br>No_of_Apps=%{marker.size}<br>Users=%{customdata[0]}<extra></extra>\",\"ids\":[1209],\"legendgroup\":\"Music\",\"marker\":{\"color\":\"#636efa\",\"size\":[1209],\"sizemode\":\"area\",\"sizeref\":76.0825,\"symbol\":\"circle\"},\"mode\":\"markers\",\"name\":\"Music\",\"orientation\":\"v\",\"showlegend\":true,\"x\":[\"Music\"],\"xaxis\":\"x\",\"y\":[1209],\"yaxis\":\"y\",\"type\":\"scatter\"},{\"customdata\":[[4543575]],\"hovertemplate\":\"Genre=%{x}<br>Year=2012<br>No_of_Apps=%{marker.size}<br>Users=%{customdata[0]}<extra></extra>\",\"ids\":[396],\"legendgroup\":\"Navigation\",\"marker\":{\"color\":\"#EF553B\",\"size\":[396],\"sizemode\":\"area\",\"sizeref\":76.0825,\"symbol\":\"circle\"},\"mode\":\"markers\",\"name\":\"Navigation\",\"orientation\":\"v\",\"showlegend\":true,\"x\":[\"Navigation\"],\"xaxis\":\"x\",\"y\":[396],\"yaxis\":\"y\",\"type\":\"scatter\"},{\"customdata\":[[996159]],\"hovertemplate\":\"Genre=%{x}<br>Year=2012<br>No_of_Apps=%{marker.size}<br>Users=%{customdata[0]}<extra></extra>\",\"ids\":[1155],\"legendgroup\":\"News\",\"marker\":{\"color\":\"#00cc96\",\"size\":[1155],\"sizemode\":\"area\",\"sizeref\":76.0825,\"symbol\":\"circle\"},\"mode\":\"markers\",\"name\":\"News\",\"orientation\":\"v\",\"showlegend\":true,\"x\":[\"News\"],\"xaxis\":\"x\",\"y\":[1155],\"yaxis\":\"y\",\"type\":\"scatter\"},{\"customdata\":[[25718345]],\"hovertemplate\":\"Genre=%{x}<br>Year=2012<br>No_of_Apps=%{marker.size}<br>Users=%{customdata[0]}<extra></extra>\",\"ids\":[841],\"legendgroup\":\"Photo & Video\",\"marker\":{\"color\":\"#ab63fa\",\"size\":[841],\"sizemode\":\"area\",\"sizeref\":76.0825,\"symbol\":\"circle\"},\"mode\":\"markers\",\"name\":\"Photo & Video\",\"orientation\":\"v\",\"showlegend\":true,\"x\":[\"Photo & Video\"],\"xaxis\":\"x\",\"y\":[841],\"yaxis\":\"y\",\"type\":\"scatter\"},{\"customdata\":[[7721149]],\"hovertemplate\":\"Genre=%{x}<br>Year=2012<br>No_of_Apps=%{marker.size}<br>Users=%{customdata[0]}<extra></extra>\",\"ids\":[1193],\"legendgroup\":\"Productivity\",\"marker\":{\"color\":\"#FFA15A\",\"size\":[1193],\"sizemode\":\"area\",\"sizeref\":76.0825,\"symbol\":\"circle\"},\"mode\":\"markers\",\"name\":\"Productivity\",\"orientation\":\"v\",\"showlegend\":true,\"x\":[\"Productivity\"],\"xaxis\":\"x\",\"y\":[1193],\"yaxis\":\"y\",\"type\":\"scatter\"},{\"customdata\":[[374286]],\"hovertemplate\":\"Genre=%{x}<br>Year=2012<br>No_of_Apps=%{marker.size}<br>Users=%{customdata[0]}<extra></extra>\",\"ids\":[880],\"legendgroup\":\"Reference\",\"marker\":{\"color\":\"#19d3f3\",\"size\":[880],\"sizemode\":\"area\",\"sizeref\":76.0825,\"symbol\":\"circle\"},\"mode\":\"markers\",\"name\":\"Reference\",\"orientation\":\"v\",\"showlegend\":true,\"x\":[\"Reference\"],\"xaxis\":\"x\",\"y\":[880],\"yaxis\":\"y\",\"type\":\"scatter\"},{\"customdata\":[[9083543]],\"hovertemplate\":\"Genre=%{x}<br>Year=2012<br>No_of_Apps=%{marker.size}<br>Users=%{customdata[0]}<extra></extra>\",\"ids\":[328],\"legendgroup\":\"Shopping\",\"marker\":{\"color\":\"#FF6692\",\"size\":[328],\"sizemode\":\"area\",\"sizeref\":76.0825,\"symbol\":\"circle\"},\"mode\":\"markers\",\"name\":\"Shopping\",\"orientation\":\"v\",\"showlegend\":true,\"x\":[\"Shopping\"],\"xaxis\":\"x\",\"y\":[328],\"yaxis\":\"y\",\"type\":\"scatter\"},{\"customdata\":[[696225]],\"hovertemplate\":\"Genre=%{x}<br>Year=2012<br>No_of_Apps=%{marker.size}<br>Users=%{customdata[0]}<extra></extra>\",\"ids\":[258],\"legendgroup\":\"Social Networking\",\"marker\":{\"color\":\"#B6E880\",\"size\":[258],\"sizemode\":\"area\",\"sizeref\":76.0825,\"symbol\":\"circle\"},\"mode\":\"markers\",\"name\":\"Social Networking\",\"orientation\":\"v\",\"showlegend\":true,\"x\":[\"Social Networking\"],\"xaxis\":\"x\",\"y\":[258],\"yaxis\":\"y\",\"type\":\"scatter\"},{\"customdata\":[[2305440]],\"hovertemplate\":\"Genre=%{x}<br>Year=2012<br>No_of_Apps=%{marker.size}<br>Users=%{customdata[0]}<extra></extra>\",\"ids\":[926],\"legendgroup\":\"Sports\",\"marker\":{\"color\":\"#FF97FF\",\"size\":[926],\"sizemode\":\"area\",\"sizeref\":76.0825,\"symbol\":\"circle\"},\"mode\":\"markers\",\"name\":\"Sports\",\"orientation\":\"v\",\"showlegend\":true,\"x\":[\"Sports\"],\"xaxis\":\"x\",\"y\":[926],\"yaxis\":\"y\",\"type\":\"scatter\"},{\"customdata\":[[14213532]],\"hovertemplate\":\"Genre=%{x}<br>Year=2012<br>No_of_Apps=%{marker.size}<br>Users=%{customdata[0]}<extra></extra>\",\"ids\":[1022],\"legendgroup\":\"Travel\",\"marker\":{\"color\":\"#FECB52\",\"size\":[1022],\"sizemode\":\"area\",\"sizeref\":76.0825,\"symbol\":\"circle\"},\"mode\":\"markers\",\"name\":\"Travel\",\"orientation\":\"v\",\"showlegend\":true,\"x\":[\"Travel\"],\"xaxis\":\"x\",\"y\":[1022],\"yaxis\":\"y\",\"type\":\"scatter\"},{\"customdata\":[[5401365]],\"hovertemplate\":\"Genre=%{x}<br>Year=2012<br>No_of_Apps=%{marker.size}<br>Users=%{customdata[0]}<extra></extra>\",\"ids\":[1999],\"legendgroup\":\"Utilities\",\"marker\":{\"color\":\"#636efa\",\"size\":[1999],\"sizemode\":\"area\",\"sizeref\":76.0825,\"symbol\":\"circle\"},\"mode\":\"markers\",\"name\":\"Utilities\",\"orientation\":\"v\",\"showlegend\":true,\"x\":[\"Utilities\"],\"xaxis\":\"x\",\"y\":[1999],\"yaxis\":\"y\",\"type\":\"scatter\"},{\"customdata\":[[747584]],\"hovertemplate\":\"Genre=%{x}<br>Year=2012<br>No_of_Apps=%{marker.size}<br>Users=%{customdata[0]}<extra></extra>\",\"ids\":[240],\"legendgroup\":\"Weather\",\"marker\":{\"color\":\"#EF553B\",\"size\":[240],\"sizemode\":\"area\",\"sizeref\":76.0825,\"symbol\":\"circle\"},\"mode\":\"markers\",\"name\":\"Weather\",\"orientation\":\"v\",\"showlegend\":true,\"x\":[\"Weather\"],\"xaxis\":\"x\",\"y\":[240],\"yaxis\":\"y\",\"type\":\"scatter\"},{\"customdata\":[[173733]],\"hovertemplate\":\"Genre=%{x}<br>Year=2012<br>No_of_Apps=%{marker.size}<br>Users=%{customdata[0]}<extra></extra>\",\"ids\":[73],\"legendgroup\":\"Graphics & Design\",\"marker\":{\"color\":\"#00cc96\",\"size\":[73],\"sizemode\":\"area\",\"sizeref\":76.0825,\"symbol\":\"circle\"},\"mode\":\"markers\",\"name\":\"Graphics & Design\",\"orientation\":\"v\",\"showlegend\":true,\"x\":[\"Graphics & Design\"],\"xaxis\":\"x\",\"y\":[73],\"yaxis\":\"y\",\"type\":\"scatter\"},{\"customdata\":[[14542]],\"hovertemplate\":\"Genre=%{x}<br>Year=2012<br>No_of_Apps=%{marker.size}<br>Users=%{customdata[0]}<extra></extra>\",\"ids\":[93],\"legendgroup\":\"Magazines & Newspapers\",\"marker\":{\"color\":\"#ab63fa\",\"size\":[93],\"sizemode\":\"area\",\"sizeref\":76.0825,\"symbol\":\"circle\"},\"mode\":\"markers\",\"name\":\"Magazines & Newspapers\",\"orientation\":\"v\",\"showlegend\":true,\"x\":[\"Magazines & Newspapers\"],\"xaxis\":\"x\",\"y\":[93],\"yaxis\":\"y\",\"type\":\"scatter\"},{\"customdata\":[[976]],\"hovertemplate\":\"Genre=%{x}<br>Year=2012<br>No_of_Apps=%{marker.size}<br>Users=%{customdata[0]}<extra></extra>\",\"ids\":[48],\"legendgroup\":\"Developer Tools\",\"marker\":{\"color\":\"#FFA15A\",\"size\":[48],\"sizemode\":\"area\",\"sizeref\":76.0825,\"symbol\":\"circle\"},\"mode\":\"markers\",\"name\":\"Developer Tools\",\"orientation\":\"v\",\"showlegend\":true,\"x\":[\"Developer Tools\"],\"xaxis\":\"x\",\"y\":[48],\"yaxis\":\"y\",\"type\":\"scatter\"},{\"customdata\":[[908]],\"hovertemplate\":\"Genre=%{x}<br>Year=2012<br>No_of_Apps=%{marker.size}<br>Users=%{customdata[0]}<extra></extra>\",\"ids\":[1],\"legendgroup\":\"Stickers\",\"marker\":{\"color\":\"#19d3f3\",\"size\":[1],\"sizemode\":\"area\",\"sizeref\":76.0825,\"symbol\":\"circle\"},\"mode\":\"markers\",\"name\":\"Stickers\",\"orientation\":\"v\",\"showlegend\":true,\"x\":[\"Stickers\"],\"xaxis\":\"x\",\"y\":[1],\"yaxis\":\"y\",\"type\":\"scatter\"}],\"name\":\"2012\"},{\"data\":[{\"customdata\":[[212720]],\"hovertemplate\":\"Genre=%{x}<br>Year=2013<br>No_of_Apps=%{marker.size}<br>Users=%{customdata[0]}<extra></extra>\",\"ids\":[617],\"legendgroup\":\"Book\",\"marker\":{\"color\":\"#636efa\",\"size\":[617],\"sizemode\":\"area\",\"sizeref\":76.0825,\"symbol\":\"circle\"},\"mode\":\"markers\",\"name\":\"Book\",\"orientation\":\"v\",\"showlegend\":true,\"x\":[\"Book\"],\"xaxis\":\"x\",\"y\":[617],\"yaxis\":\"y\",\"type\":\"scatter\"},{\"customdata\":[[2164739]],\"hovertemplate\":\"Genre=%{x}<br>Year=2013<br>No_of_Apps=%{marker.size}<br>Users=%{customdata[0]}<extra></extra>\",\"ids\":[3400],\"legendgroup\":\"Business\",\"marker\":{\"color\":\"#EF553B\",\"size\":[3400],\"sizemode\":\"area\",\"sizeref\":76.0825,\"symbol\":\"circle\"},\"mode\":\"markers\",\"name\":\"Business\",\"orientation\":\"v\",\"showlegend\":true,\"x\":[\"Business\"],\"xaxis\":\"x\",\"y\":[3400],\"yaxis\":\"y\",\"type\":\"scatter\"},{\"customdata\":[[1598027]],\"hovertemplate\":\"Genre=%{x}<br>Year=2013<br>No_of_Apps=%{marker.size}<br>Users=%{customdata[0]}<extra></extra>\",\"ids\":[5064],\"legendgroup\":\"Education\",\"marker\":{\"color\":\"#00cc96\",\"size\":[5064],\"sizemode\":\"area\",\"sizeref\":76.0825,\"symbol\":\"circle\"},\"mode\":\"markers\",\"name\":\"Education\",\"orientation\":\"v\",\"showlegend\":true,\"x\":[\"Education\"],\"xaxis\":\"x\",\"y\":[5064],\"yaxis\":\"y\",\"type\":\"scatter\"},{\"customdata\":[[2128825]],\"hovertemplate\":\"Genre=%{x}<br>Year=2013<br>No_of_Apps=%{marker.size}<br>Users=%{customdata[0]}<extra></extra>\",\"ids\":[1723],\"legendgroup\":\"Entertainment\",\"marker\":{\"color\":\"#ab63fa\",\"size\":[1723],\"sizemode\":\"area\",\"sizeref\":76.0825,\"symbol\":\"circle\"},\"mode\":\"markers\",\"name\":\"Entertainment\",\"orientation\":\"v\",\"showlegend\":true,\"x\":[\"Entertainment\"],\"xaxis\":\"x\",\"y\":[1723],\"yaxis\":\"y\",\"type\":\"scatter\"},{\"customdata\":[[4393899]],\"hovertemplate\":\"Genre=%{x}<br>Year=2013<br>No_of_Apps=%{marker.size}<br>Users=%{customdata[0]}<extra></extra>\",\"ids\":[1819],\"legendgroup\":\"Finance\",\"marker\":{\"color\":\"#FFA15A\",\"size\":[1819],\"sizemode\":\"area\",\"sizeref\":76.0825,\"symbol\":\"circle\"},\"mode\":\"markers\",\"name\":\"Finance\",\"orientation\":\"v\",\"showlegend\":true,\"x\":[\"Finance\"],\"xaxis\":\"x\",\"y\":[1819],\"yaxis\":\"y\",\"type\":\"scatter\"},{\"customdata\":[[14966911]],\"hovertemplate\":\"Genre=%{x}<br>Year=2013<br>No_of_Apps=%{marker.size}<br>Users=%{customdata[0]}<extra></extra>\",\"ids\":[731],\"legendgroup\":\"Food & Drink\",\"marker\":{\"color\":\"#19d3f3\",\"size\":[731],\"sizemode\":\"area\",\"sizeref\":76.0825,\"symbol\":\"circle\"},\"mode\":\"markers\",\"name\":\"Food & Drink\",\"orientation\":\"v\",\"showlegend\":true,\"x\":[\"Food & Drink\"],\"xaxis\":\"x\",\"y\":[731],\"yaxis\":\"y\",\"type\":\"scatter\"},{\"customdata\":[[15860659]],\"hovertemplate\":\"Genre=%{x}<br>Year=2013<br>No_of_Apps=%{marker.size}<br>Users=%{customdata[0]}<extra></extra>\",\"ids\":[7263],\"legendgroup\":\"Games\",\"marker\":{\"color\":\"#FF6692\",\"size\":[7263],\"sizemode\":\"area\",\"sizeref\":76.0825,\"symbol\":\"circle\"},\"mode\":\"markers\",\"name\":\"Games\",\"orientation\":\"v\",\"showlegend\":true,\"x\":[\"Games\"],\"xaxis\":\"x\",\"y\":[7263],\"yaxis\":\"y\",\"type\":\"scatter\"},{\"customdata\":[[3694590]],\"hovertemplate\":\"Genre=%{x}<br>Year=2013<br>No_of_Apps=%{marker.size}<br>Users=%{customdata[0]}<extra></extra>\",\"ids\":[1222],\"legendgroup\":\"Health & Fitness\",\"marker\":{\"color\":\"#B6E880\",\"size\":[1222],\"sizemode\":\"area\",\"sizeref\":76.0825,\"symbol\":\"circle\"},\"mode\":\"markers\",\"name\":\"Health & Fitness\",\"orientation\":\"v\",\"showlegend\":true,\"x\":[\"Health & Fitness\"],\"xaxis\":\"x\",\"y\":[1222],\"yaxis\":\"y\",\"type\":\"scatter\"},{\"customdata\":[[2778644]],\"hovertemplate\":\"Genre=%{x}<br>Year=2013<br>No_of_Apps=%{marker.size}<br>Users=%{customdata[0]}<extra></extra>\",\"ids\":[2351],\"legendgroup\":\"Lifestyle\",\"marker\":{\"color\":\"#FF97FF\",\"size\":[2351],\"sizemode\":\"area\",\"sizeref\":76.0825,\"symbol\":\"circle\"},\"mode\":\"markers\",\"name\":\"Lifestyle\",\"orientation\":\"v\",\"showlegend\":true,\"x\":[\"Lifestyle\"],\"xaxis\":\"x\",\"y\":[2351],\"yaxis\":\"y\",\"type\":\"scatter\"},{\"customdata\":[[836028]],\"hovertemplate\":\"Genre=%{x}<br>Year=2013<br>No_of_Apps=%{marker.size}<br>Users=%{customdata[0]}<extra></extra>\",\"ids\":[1110],\"legendgroup\":\"Medical\",\"marker\":{\"color\":\"#FECB52\",\"size\":[1110],\"sizemode\":\"area\",\"sizeref\":76.0825,\"symbol\":\"circle\"},\"mode\":\"markers\",\"name\":\"Medical\",\"orientation\":\"v\",\"showlegend\":true,\"x\":[\"Medical\"],\"xaxis\":\"x\",\"y\":[1110],\"yaxis\":\"y\",\"type\":\"scatter\"},{\"customdata\":[[2989189]],\"hovertemplate\":\"Genre=%{x}<br>Year=2013<br>No_of_Apps=%{marker.size}<br>Users=%{customdata[0]}<extra></extra>\",\"ids\":[1672],\"legendgroup\":\"Music\",\"marker\":{\"color\":\"#636efa\",\"size\":[1672],\"sizemode\":\"area\",\"sizeref\":76.0825,\"symbol\":\"circle\"},\"mode\":\"markers\",\"name\":\"Music\",\"orientation\":\"v\",\"showlegend\":true,\"x\":[\"Music\"],\"xaxis\":\"x\",\"y\":[1672],\"yaxis\":\"y\",\"type\":\"scatter\"},{\"customdata\":[[368504]],\"hovertemplate\":\"Genre=%{x}<br>Year=2013<br>No_of_Apps=%{marker.size}<br>Users=%{customdata[0]}<extra></extra>\",\"ids\":[533],\"legendgroup\":\"Navigation\",\"marker\":{\"color\":\"#EF553B\",\"size\":[533],\"sizemode\":\"area\",\"sizeref\":76.0825,\"symbol\":\"circle\"},\"mode\":\"markers\",\"name\":\"Navigation\",\"orientation\":\"v\",\"showlegend\":true,\"x\":[\"Navigation\"],\"xaxis\":\"x\",\"y\":[533],\"yaxis\":\"y\",\"type\":\"scatter\"},{\"customdata\":[[1821137]],\"hovertemplate\":\"Genre=%{x}<br>Year=2013<br>No_of_Apps=%{marker.size}<br>Users=%{customdata[0]}<extra></extra>\",\"ids\":[1090],\"legendgroup\":\"News\",\"marker\":{\"color\":\"#00cc96\",\"size\":[1090],\"sizemode\":\"area\",\"sizeref\":76.0825,\"symbol\":\"circle\"},\"mode\":\"markers\",\"name\":\"News\",\"orientation\":\"v\",\"showlegend\":true,\"x\":[\"News\"],\"xaxis\":\"x\",\"y\":[1090],\"yaxis\":\"y\",\"type\":\"scatter\"},{\"customdata\":[[2942039]],\"hovertemplate\":\"Genre=%{x}<br>Year=2013<br>No_of_Apps=%{marker.size}<br>Users=%{customdata[0]}<extra></extra>\",\"ids\":[1318],\"legendgroup\":\"Photo & Video\",\"marker\":{\"color\":\"#ab63fa\",\"size\":[1318],\"sizemode\":\"area\",\"sizeref\":76.0825,\"symbol\":\"circle\"},\"mode\":\"markers\",\"name\":\"Photo & Video\",\"orientation\":\"v\",\"showlegend\":true,\"x\":[\"Photo & Video\"],\"xaxis\":\"x\",\"y\":[1318],\"yaxis\":\"y\",\"type\":\"scatter\"},{\"customdata\":[[1199963]],\"hovertemplate\":\"Genre=%{x}<br>Year=2013<br>No_of_Apps=%{marker.size}<br>Users=%{customdata[0]}<extra></extra>\",\"ids\":[1732],\"legendgroup\":\"Productivity\",\"marker\":{\"color\":\"#FFA15A\",\"size\":[1732],\"sizemode\":\"area\",\"sizeref\":76.0825,\"symbol\":\"circle\"},\"mode\":\"markers\",\"name\":\"Productivity\",\"orientation\":\"v\",\"showlegend\":true,\"x\":[\"Productivity\"],\"xaxis\":\"x\",\"y\":[1732],\"yaxis\":\"y\",\"type\":\"scatter\"},{\"customdata\":[[561796]],\"hovertemplate\":\"Genre=%{x}<br>Year=2013<br>No_of_Apps=%{marker.size}<br>Users=%{customdata[0]}<extra></extra>\",\"ids\":[952],\"legendgroup\":\"Reference\",\"marker\":{\"color\":\"#19d3f3\",\"size\":[952],\"sizemode\":\"area\",\"sizeref\":76.0825,\"symbol\":\"circle\"},\"mode\":\"markers\",\"name\":\"Reference\",\"orientation\":\"v\",\"showlegend\":true,\"x\":[\"Reference\"],\"xaxis\":\"x\",\"y\":[952],\"yaxis\":\"y\",\"type\":\"scatter\"},{\"customdata\":[[2754476]],\"hovertemplate\":\"Genre=%{x}<br>Year=2013<br>No_of_Apps=%{marker.size}<br>Users=%{customdata[0]}<extra></extra>\",\"ids\":[425],\"legendgroup\":\"Shopping\",\"marker\":{\"color\":\"#FF6692\",\"size\":[425],\"sizemode\":\"area\",\"sizeref\":76.0825,\"symbol\":\"circle\"},\"mode\":\"markers\",\"name\":\"Shopping\",\"orientation\":\"v\",\"showlegend\":true,\"x\":[\"Shopping\"],\"xaxis\":\"x\",\"y\":[425],\"yaxis\":\"y\",\"type\":\"scatter\"},{\"customdata\":[[575555]],\"hovertemplate\":\"Genre=%{x}<br>Year=2013<br>No_of_Apps=%{marker.size}<br>Users=%{customdata[0]}<extra></extra>\",\"ids\":[406],\"legendgroup\":\"Social Networking\",\"marker\":{\"color\":\"#B6E880\",\"size\":[406],\"sizemode\":\"area\",\"sizeref\":76.0825,\"symbol\":\"circle\"},\"mode\":\"markers\",\"name\":\"Social Networking\",\"orientation\":\"v\",\"showlegend\":true,\"x\":[\"Social Networking\"],\"xaxis\":\"x\",\"y\":[406],\"yaxis\":\"y\",\"type\":\"scatter\"},{\"customdata\":[[1595085]],\"hovertemplate\":\"Genre=%{x}<br>Year=2013<br>No_of_Apps=%{marker.size}<br>Users=%{customdata[0]}<extra></extra>\",\"ids\":[1211],\"legendgroup\":\"Sports\",\"marker\":{\"color\":\"#FF97FF\",\"size\":[1211],\"sizemode\":\"area\",\"sizeref\":76.0825,\"symbol\":\"circle\"},\"mode\":\"markers\",\"name\":\"Sports\",\"orientation\":\"v\",\"showlegend\":true,\"x\":[\"Sports\"],\"xaxis\":\"x\",\"y\":[1211],\"yaxis\":\"y\",\"type\":\"scatter\"},{\"customdata\":[[2530140]],\"hovertemplate\":\"Genre=%{x}<br>Year=2013<br>No_of_Apps=%{marker.size}<br>Users=%{customdata[0]}<extra></extra>\",\"ids\":[1554],\"legendgroup\":\"Travel\",\"marker\":{\"color\":\"#FECB52\",\"size\":[1554],\"sizemode\":\"area\",\"sizeref\":76.0825,\"symbol\":\"circle\"},\"mode\":\"markers\",\"name\":\"Travel\",\"orientation\":\"v\",\"showlegend\":true,\"x\":[\"Travel\"],\"xaxis\":\"x\",\"y\":[1554],\"yaxis\":\"y\",\"type\":\"scatter\"},{\"customdata\":[[2282533]],\"hovertemplate\":\"Genre=%{x}<br>Year=2013<br>No_of_Apps=%{marker.size}<br>Users=%{customdata[0]}<extra></extra>\",\"ids\":[2683],\"legendgroup\":\"Utilities\",\"marker\":{\"color\":\"#636efa\",\"size\":[2683],\"sizemode\":\"area\",\"sizeref\":76.0825,\"symbol\":\"circle\"},\"mode\":\"markers\",\"name\":\"Utilities\",\"orientation\":\"v\",\"showlegend\":true,\"x\":[\"Utilities\"],\"xaxis\":\"x\",\"y\":[2683],\"yaxis\":\"y\",\"type\":\"scatter\"},{\"customdata\":[[1773927]],\"hovertemplate\":\"Genre=%{x}<br>Year=2013<br>No_of_Apps=%{marker.size}<br>Users=%{customdata[0]}<extra></extra>\",\"ids\":[235],\"legendgroup\":\"Weather\",\"marker\":{\"color\":\"#EF553B\",\"size\":[235],\"sizemode\":\"area\",\"sizeref\":76.0825,\"symbol\":\"circle\"},\"mode\":\"markers\",\"name\":\"Weather\",\"orientation\":\"v\",\"showlegend\":true,\"x\":[\"Weather\"],\"xaxis\":\"x\",\"y\":[235],\"yaxis\":\"y\",\"type\":\"scatter\"},{\"customdata\":[[141908]],\"hovertemplate\":\"Genre=%{x}<br>Year=2013<br>No_of_Apps=%{marker.size}<br>Users=%{customdata[0]}<extra></extra>\",\"ids\":[136],\"legendgroup\":\"Graphics & Design\",\"marker\":{\"color\":\"#00cc96\",\"size\":[136],\"sizemode\":\"area\",\"sizeref\":76.0825,\"symbol\":\"circle\"},\"mode\":\"markers\",\"name\":\"Graphics & Design\",\"orientation\":\"v\",\"showlegend\":true,\"x\":[\"Graphics & Design\"],\"xaxis\":\"x\",\"y\":[136],\"yaxis\":\"y\",\"type\":\"scatter\"},{\"customdata\":[[5965]],\"hovertemplate\":\"Genre=%{x}<br>Year=2013<br>No_of_Apps=%{marker.size}<br>Users=%{customdata[0]}<extra></extra>\",\"ids\":[98],\"legendgroup\":\"Magazines & Newspapers\",\"marker\":{\"color\":\"#ab63fa\",\"size\":[98],\"sizemode\":\"area\",\"sizeref\":76.0825,\"symbol\":\"circle\"},\"mode\":\"markers\",\"name\":\"Magazines & Newspapers\",\"orientation\":\"v\",\"showlegend\":true,\"x\":[\"Magazines & Newspapers\"],\"xaxis\":\"x\",\"y\":[98],\"yaxis\":\"y\",\"type\":\"scatter\"},{\"customdata\":[[1161]],\"hovertemplate\":\"Genre=%{x}<br>Year=2013<br>No_of_Apps=%{marker.size}<br>Users=%{customdata[0]}<extra></extra>\",\"ids\":[82],\"legendgroup\":\"Developer Tools\",\"marker\":{\"color\":\"#FFA15A\",\"size\":[82],\"sizemode\":\"area\",\"sizeref\":76.0825,\"symbol\":\"circle\"},\"mode\":\"markers\",\"name\":\"Developer Tools\",\"orientation\":\"v\",\"showlegend\":true,\"x\":[\"Developer Tools\"],\"xaxis\":\"x\",\"y\":[82],\"yaxis\":\"y\",\"type\":\"scatter\"}],\"name\":\"2013\"},{\"data\":[{\"customdata\":[[150266]],\"hovertemplate\":\"Genre=%{x}<br>Year=2014<br>No_of_Apps=%{marker.size}<br>Users=%{customdata[0]}<extra></extra>\",\"ids\":[900],\"legendgroup\":\"Book\",\"marker\":{\"color\":\"#636efa\",\"size\":[900],\"sizemode\":\"area\",\"sizeref\":76.0825,\"symbol\":\"circle\"},\"mode\":\"markers\",\"name\":\"Book\",\"orientation\":\"v\",\"showlegend\":true,\"x\":[\"Book\"],\"xaxis\":\"x\",\"y\":[900],\"yaxis\":\"y\",\"type\":\"scatter\"},{\"customdata\":[[871280]],\"hovertemplate\":\"Genre=%{x}<br>Year=2014<br>No_of_Apps=%{marker.size}<br>Users=%{customdata[0]}<extra></extra>\",\"ids\":[4891],\"legendgroup\":\"Business\",\"marker\":{\"color\":\"#EF553B\",\"size\":[4891],\"sizemode\":\"area\",\"sizeref\":76.0825,\"symbol\":\"circle\"},\"mode\":\"markers\",\"name\":\"Business\",\"orientation\":\"v\",\"showlegend\":true,\"x\":[\"Business\"],\"xaxis\":\"x\",\"y\":[4891],\"yaxis\":\"y\",\"type\":\"scatter\"},{\"customdata\":[[2059046]],\"hovertemplate\":\"Genre=%{x}<br>Year=2014<br>No_of_Apps=%{marker.size}<br>Users=%{customdata[0]}<extra></extra>\",\"ids\":[6445],\"legendgroup\":\"Education\",\"marker\":{\"color\":\"#00cc96\",\"size\":[6445],\"sizemode\":\"area\",\"sizeref\":76.0825,\"symbol\":\"circle\"},\"mode\":\"markers\",\"name\":\"Education\",\"orientation\":\"v\",\"showlegend\":true,\"x\":[\"Education\"],\"xaxis\":\"x\",\"y\":[6445],\"yaxis\":\"y\",\"type\":\"scatter\"},{\"customdata\":[[12869629]],\"hovertemplate\":\"Genre=%{x}<br>Year=2014<br>No_of_Apps=%{marker.size}<br>Users=%{customdata[0]}<extra></extra>\",\"ids\":[2697],\"legendgroup\":\"Entertainment\",\"marker\":{\"color\":\"#ab63fa\",\"size\":[2697],\"sizemode\":\"area\",\"sizeref\":76.0825,\"symbol\":\"circle\"},\"mode\":\"markers\",\"name\":\"Entertainment\",\"orientation\":\"v\",\"showlegend\":true,\"x\":[\"Entertainment\"],\"xaxis\":\"x\",\"y\":[2697],\"yaxis\":\"y\",\"type\":\"scatter\"},{\"customdata\":[[8337068]],\"hovertemplate\":\"Genre=%{x}<br>Year=2014<br>No_of_Apps=%{marker.size}<br>Users=%{customdata[0]}<extra></extra>\",\"ids\":[2378],\"legendgroup\":\"Finance\",\"marker\":{\"color\":\"#FFA15A\",\"size\":[2378],\"sizemode\":\"area\",\"sizeref\":76.0825,\"symbol\":\"circle\"},\"mode\":\"markers\",\"name\":\"Finance\",\"orientation\":\"v\",\"showlegend\":true,\"x\":[\"Finance\"],\"xaxis\":\"x\",\"y\":[2378],\"yaxis\":\"y\",\"type\":\"scatter\"},{\"customdata\":[[3576544]],\"hovertemplate\":\"Genre=%{x}<br>Year=2014<br>No_of_Apps=%{marker.size}<br>Users=%{customdata[0]}<extra></extra>\",\"ids\":[1338],\"legendgroup\":\"Food & Drink\",\"marker\":{\"color\":\"#19d3f3\",\"size\":[1338],\"sizemode\":\"area\",\"sizeref\":76.0825,\"symbol\":\"circle\"},\"mode\":\"markers\",\"name\":\"Food & Drink\",\"orientation\":\"v\",\"showlegend\":true,\"x\":[\"Food & Drink\"],\"xaxis\":\"x\",\"y\":[1338],\"yaxis\":\"y\",\"type\":\"scatter\"},{\"customdata\":[[12701468]],\"hovertemplate\":\"Genre=%{x}<br>Year=2014<br>No_of_Apps=%{marker.size}<br>Users=%{customdata[0]}<extra></extra>\",\"ids\":[11415],\"legendgroup\":\"Games\",\"marker\":{\"color\":\"#FF6692\",\"size\":[11415],\"sizemode\":\"area\",\"sizeref\":76.0825,\"symbol\":\"circle\"},\"mode\":\"markers\",\"name\":\"Games\",\"orientation\":\"v\",\"showlegend\":true,\"x\":[\"Games\"],\"xaxis\":\"x\",\"y\":[11415],\"yaxis\":\"y\",\"type\":\"scatter\"},{\"customdata\":[[3699129]],\"hovertemplate\":\"Genre=%{x}<br>Year=2014<br>No_of_Apps=%{marker.size}<br>Users=%{customdata[0]}<extra></extra>\",\"ids\":[1825],\"legendgroup\":\"Health & Fitness\",\"marker\":{\"color\":\"#B6E880\",\"size\":[1825],\"sizemode\":\"area\",\"sizeref\":76.0825,\"symbol\":\"circle\"},\"mode\":\"markers\",\"name\":\"Health & Fitness\",\"orientation\":\"v\",\"showlegend\":true,\"x\":[\"Health & Fitness\"],\"xaxis\":\"x\",\"y\":[1825],\"yaxis\":\"y\",\"type\":\"scatter\"},{\"customdata\":[[6021046]],\"hovertemplate\":\"Genre=%{x}<br>Year=2014<br>No_of_Apps=%{marker.size}<br>Users=%{customdata[0]}<extra></extra>\",\"ids\":[3375],\"legendgroup\":\"Lifestyle\",\"marker\":{\"color\":\"#FF97FF\",\"size\":[3375],\"sizemode\":\"area\",\"sizeref\":76.0825,\"symbol\":\"circle\"},\"mode\":\"markers\",\"name\":\"Lifestyle\",\"orientation\":\"v\",\"showlegend\":true,\"x\":[\"Lifestyle\"],\"xaxis\":\"x\",\"y\":[3375],\"yaxis\":\"y\",\"type\":\"scatter\"},{\"customdata\":[[630471]],\"hovertemplate\":\"Genre=%{x}<br>Year=2014<br>No_of_Apps=%{marker.size}<br>Users=%{customdata[0]}<extra></extra>\",\"ids\":[1435],\"legendgroup\":\"Medical\",\"marker\":{\"color\":\"#FECB52\",\"size\":[1435],\"sizemode\":\"area\",\"sizeref\":76.0825,\"symbol\":\"circle\"},\"mode\":\"markers\",\"name\":\"Medical\",\"orientation\":\"v\",\"showlegend\":true,\"x\":[\"Medical\"],\"xaxis\":\"x\",\"y\":[1435],\"yaxis\":\"y\",\"type\":\"scatter\"},{\"customdata\":[[2212213]],\"hovertemplate\":\"Genre=%{x}<br>Year=2014<br>No_of_Apps=%{marker.size}<br>Users=%{customdata[0]}<extra></extra>\",\"ids\":[1941],\"legendgroup\":\"Music\",\"marker\":{\"color\":\"#636efa\",\"size\":[1941],\"sizemode\":\"area\",\"sizeref\":76.0825,\"symbol\":\"circle\"},\"mode\":\"markers\",\"name\":\"Music\",\"orientation\":\"v\",\"showlegend\":true,\"x\":[\"Music\"],\"xaxis\":\"x\",\"y\":[1941],\"yaxis\":\"y\",\"type\":\"scatter\"},{\"customdata\":[[159060]],\"hovertemplate\":\"Genre=%{x}<br>Year=2014<br>No_of_Apps=%{marker.size}<br>Users=%{customdata[0]}<extra></extra>\",\"ids\":[689],\"legendgroup\":\"Navigation\",\"marker\":{\"color\":\"#EF553B\",\"size\":[689],\"sizemode\":\"area\",\"sizeref\":76.0825,\"symbol\":\"circle\"},\"mode\":\"markers\",\"name\":\"Navigation\",\"orientation\":\"v\",\"showlegend\":true,\"x\":[\"Navigation\"],\"xaxis\":\"x\",\"y\":[689],\"yaxis\":\"y\",\"type\":\"scatter\"},{\"customdata\":[[830892]],\"hovertemplate\":\"Genre=%{x}<br>Year=2014<br>No_of_Apps=%{marker.size}<br>Users=%{customdata[0]}<extra></extra>\",\"ids\":[1295],\"legendgroup\":\"News\",\"marker\":{\"color\":\"#00cc96\",\"size\":[1295],\"sizemode\":\"area\",\"sizeref\":76.0825,\"symbol\":\"circle\"},\"mode\":\"markers\",\"name\":\"News\",\"orientation\":\"v\",\"showlegend\":true,\"x\":[\"News\"],\"xaxis\":\"x\",\"y\":[1295],\"yaxis\":\"y\",\"type\":\"scatter\"},{\"customdata\":[[3550987]],\"hovertemplate\":\"Genre=%{x}<br>Year=2014<br>No_of_Apps=%{marker.size}<br>Users=%{customdata[0]}<extra></extra>\",\"ids\":[1750],\"legendgroup\":\"Photo & Video\",\"marker\":{\"color\":\"#ab63fa\",\"size\":[1750],\"sizemode\":\"area\",\"sizeref\":76.0825,\"symbol\":\"circle\"},\"mode\":\"markers\",\"name\":\"Photo & Video\",\"orientation\":\"v\",\"showlegend\":true,\"x\":[\"Photo & Video\"],\"xaxis\":\"x\",\"y\":[1750],\"yaxis\":\"y\",\"type\":\"scatter\"},{\"customdata\":[[6313422]],\"hovertemplate\":\"Genre=%{x}<br>Year=2014<br>No_of_Apps=%{marker.size}<br>Users=%{customdata[0]}<extra></extra>\",\"ids\":[2304],\"legendgroup\":\"Productivity\",\"marker\":{\"color\":\"#FFA15A\",\"size\":[2304],\"sizemode\":\"area\",\"sizeref\":76.0825,\"symbol\":\"circle\"},\"mode\":\"markers\",\"name\":\"Productivity\",\"orientation\":\"v\",\"showlegend\":true,\"x\":[\"Productivity\"],\"xaxis\":\"x\",\"y\":[2304],\"yaxis\":\"y\",\"type\":\"scatter\"},{\"customdata\":[[499673]],\"hovertemplate\":\"Genre=%{x}<br>Year=2014<br>No_of_Apps=%{marker.size}<br>Users=%{customdata[0]}<extra></extra>\",\"ids\":[1273],\"legendgroup\":\"Reference\",\"marker\":{\"color\":\"#19d3f3\",\"size\":[1273],\"sizemode\":\"area\",\"sizeref\":76.0825,\"symbol\":\"circle\"},\"mode\":\"markers\",\"name\":\"Reference\",\"orientation\":\"v\",\"showlegend\":true,\"x\":[\"Reference\"],\"xaxis\":\"x\",\"y\":[1273],\"yaxis\":\"y\",\"type\":\"scatter\"},{\"customdata\":[[6609550]],\"hovertemplate\":\"Genre=%{x}<br>Year=2014<br>No_of_Apps=%{marker.size}<br>Users=%{customdata[0]}<extra></extra>\",\"ids\":[709],\"legendgroup\":\"Shopping\",\"marker\":{\"color\":\"#FF6692\",\"size\":[709],\"sizemode\":\"area\",\"sizeref\":76.0825,\"symbol\":\"circle\"},\"mode\":\"markers\",\"name\":\"Shopping\",\"orientation\":\"v\",\"showlegend\":true,\"x\":[\"Shopping\"],\"xaxis\":\"x\",\"y\":[709],\"yaxis\":\"y\",\"type\":\"scatter\"},{\"customdata\":[[3391918]],\"hovertemplate\":\"Genre=%{x}<br>Year=2014<br>No_of_Apps=%{marker.size}<br>Users=%{customdata[0]}<extra></extra>\",\"ids\":[683],\"legendgroup\":\"Social Networking\",\"marker\":{\"color\":\"#B6E880\",\"size\":[683],\"sizemode\":\"area\",\"sizeref\":76.0825,\"symbol\":\"circle\"},\"mode\":\"markers\",\"name\":\"Social Networking\",\"orientation\":\"v\",\"showlegend\":true,\"x\":[\"Social Networking\"],\"xaxis\":\"x\",\"y\":[683],\"yaxis\":\"y\",\"type\":\"scatter\"},{\"customdata\":[[575026]],\"hovertemplate\":\"Genre=%{x}<br>Year=2014<br>No_of_Apps=%{marker.size}<br>Users=%{customdata[0]}<extra></extra>\",\"ids\":[1551],\"legendgroup\":\"Sports\",\"marker\":{\"color\":\"#FF97FF\",\"size\":[1551],\"sizemode\":\"area\",\"sizeref\":76.0825,\"symbol\":\"circle\"},\"mode\":\"markers\",\"name\":\"Sports\",\"orientation\":\"v\",\"showlegend\":true,\"x\":[\"Sports\"],\"xaxis\":\"x\",\"y\":[1551],\"yaxis\":\"y\",\"type\":\"scatter\"},{\"customdata\":[[1261707]],\"hovertemplate\":\"Genre=%{x}<br>Year=2014<br>No_of_Apps=%{marker.size}<br>Users=%{customdata[0]}<extra></extra>\",\"ids\":[2031],\"legendgroup\":\"Travel\",\"marker\":{\"color\":\"#FECB52\",\"size\":[2031],\"sizemode\":\"area\",\"sizeref\":76.0825,\"symbol\":\"circle\"},\"mode\":\"markers\",\"name\":\"Travel\",\"orientation\":\"v\",\"showlegend\":true,\"x\":[\"Travel\"],\"xaxis\":\"x\",\"y\":[2031],\"yaxis\":\"y\",\"type\":\"scatter\"},{\"customdata\":[[3856907]],\"hovertemplate\":\"Genre=%{x}<br>Year=2014<br>No_of_Apps=%{marker.size}<br>Users=%{customdata[0]}<extra></extra>\",\"ids\":[3846],\"legendgroup\":\"Utilities\",\"marker\":{\"color\":\"#636efa\",\"size\":[3846],\"sizemode\":\"area\",\"sizeref\":76.0825,\"symbol\":\"circle\"},\"mode\":\"markers\",\"name\":\"Utilities\",\"orientation\":\"v\",\"showlegend\":true,\"x\":[\"Utilities\"],\"xaxis\":\"x\",\"y\":[3846],\"yaxis\":\"y\",\"type\":\"scatter\"},{\"customdata\":[[121061]],\"hovertemplate\":\"Genre=%{x}<br>Year=2014<br>No_of_Apps=%{marker.size}<br>Users=%{customdata[0]}<extra></extra>\",\"ids\":[310],\"legendgroup\":\"Weather\",\"marker\":{\"color\":\"#EF553B\",\"size\":[310],\"sizemode\":\"area\",\"sizeref\":76.0825,\"symbol\":\"circle\"},\"mode\":\"markers\",\"name\":\"Weather\",\"orientation\":\"v\",\"showlegend\":true,\"x\":[\"Weather\"],\"xaxis\":\"x\",\"y\":[310],\"yaxis\":\"y\",\"type\":\"scatter\"},{\"customdata\":[[580208]],\"hovertemplate\":\"Genre=%{x}<br>Year=2014<br>No_of_Apps=%{marker.size}<br>Users=%{customdata[0]}<extra></extra>\",\"ids\":[107],\"legendgroup\":\"Graphics & Design\",\"marker\":{\"color\":\"#00cc96\",\"size\":[107],\"sizemode\":\"area\",\"sizeref\":76.0825,\"symbol\":\"circle\"},\"mode\":\"markers\",\"name\":\"Graphics & Design\",\"orientation\":\"v\",\"showlegend\":true,\"x\":[\"Graphics & Design\"],\"xaxis\":\"x\",\"y\":[107],\"yaxis\":\"y\",\"type\":\"scatter\"},{\"customdata\":[[205]],\"hovertemplate\":\"Genre=%{x}<br>Year=2014<br>No_of_Apps=%{marker.size}<br>Users=%{customdata[0]}<extra></extra>\",\"ids\":[47],\"legendgroup\":\"Magazines & Newspapers\",\"marker\":{\"color\":\"#ab63fa\",\"size\":[47],\"sizemode\":\"area\",\"sizeref\":76.0825,\"symbol\":\"circle\"},\"mode\":\"markers\",\"name\":\"Magazines & Newspapers\",\"orientation\":\"v\",\"showlegend\":true,\"x\":[\"Magazines & Newspapers\"],\"xaxis\":\"x\",\"y\":[47],\"yaxis\":\"y\",\"type\":\"scatter\"},{\"customdata\":[[615655]],\"hovertemplate\":\"Genre=%{x}<br>Year=2014<br>No_of_Apps=%{marker.size}<br>Users=%{customdata[0]}<extra></extra>\",\"ids\":[86],\"legendgroup\":\"Developer Tools\",\"marker\":{\"color\":\"#FFA15A\",\"size\":[86],\"sizemode\":\"area\",\"sizeref\":76.0825,\"symbol\":\"circle\"},\"mode\":\"markers\",\"name\":\"Developer Tools\",\"orientation\":\"v\",\"showlegend\":true,\"x\":[\"Developer Tools\"],\"xaxis\":\"x\",\"y\":[86],\"yaxis\":\"y\",\"type\":\"scatter\"}],\"name\":\"2014\"},{\"data\":[{\"customdata\":[[246002]],\"hovertemplate\":\"Genre=%{x}<br>Year=2015<br>No_of_Apps=%{marker.size}<br>Users=%{customdata[0]}<extra></extra>\",\"ids\":[1238],\"legendgroup\":\"Book\",\"marker\":{\"color\":\"#636efa\",\"size\":[1238],\"sizemode\":\"area\",\"sizeref\":76.0825,\"symbol\":\"circle\"},\"mode\":\"markers\",\"name\":\"Book\",\"orientation\":\"v\",\"showlegend\":true,\"x\":[\"Book\"],\"xaxis\":\"x\",\"y\":[1238],\"yaxis\":\"y\",\"type\":\"scatter\"},{\"customdata\":[[2569795]],\"hovertemplate\":\"Genre=%{x}<br>Year=2015<br>No_of_Apps=%{marker.size}<br>Users=%{customdata[0]}<extra></extra>\",\"ids\":[7077],\"legendgroup\":\"Business\",\"marker\":{\"color\":\"#EF553B\",\"size\":[7077],\"sizemode\":\"area\",\"sizeref\":76.0825,\"symbol\":\"circle\"},\"mode\":\"markers\",\"name\":\"Business\",\"orientation\":\"v\",\"showlegend\":true,\"x\":[\"Business\"],\"xaxis\":\"x\",\"y\":[7077],\"yaxis\":\"y\",\"type\":\"scatter\"},{\"customdata\":[[5622220]],\"hovertemplate\":\"Genre=%{x}<br>Year=2015<br>No_of_Apps=%{marker.size}<br>Users=%{customdata[0]}<extra></extra>\",\"ids\":[8600],\"legendgroup\":\"Education\",\"marker\":{\"color\":\"#00cc96\",\"size\":[8600],\"sizemode\":\"area\",\"sizeref\":76.0825,\"symbol\":\"circle\"},\"mode\":\"markers\",\"name\":\"Education\",\"orientation\":\"v\",\"showlegend\":true,\"x\":[\"Education\"],\"xaxis\":\"x\",\"y\":[8600],\"yaxis\":\"y\",\"type\":\"scatter\"},{\"customdata\":[[4112205]],\"hovertemplate\":\"Genre=%{x}<br>Year=2015<br>No_of_Apps=%{marker.size}<br>Users=%{customdata[0]}<extra></extra>\",\"ids\":[3862],\"legendgroup\":\"Entertainment\",\"marker\":{\"color\":\"#ab63fa\",\"size\":[3862],\"sizemode\":\"area\",\"sizeref\":76.0825,\"symbol\":\"circle\"},\"mode\":\"markers\",\"name\":\"Entertainment\",\"orientation\":\"v\",\"showlegend\":true,\"x\":[\"Entertainment\"],\"xaxis\":\"x\",\"y\":[3862],\"yaxis\":\"y\",\"type\":\"scatter\"},{\"customdata\":[[2069881]],\"hovertemplate\":\"Genre=%{x}<br>Year=2015<br>No_of_Apps=%{marker.size}<br>Users=%{customdata[0]}<extra></extra>\",\"ids\":[2690],\"legendgroup\":\"Finance\",\"marker\":{\"color\":\"#FFA15A\",\"size\":[2690],\"sizemode\":\"area\",\"sizeref\":76.0825,\"symbol\":\"circle\"},\"mode\":\"markers\",\"name\":\"Finance\",\"orientation\":\"v\",\"showlegend\":true,\"x\":[\"Finance\"],\"xaxis\":\"x\",\"y\":[2690],\"yaxis\":\"y\",\"type\":\"scatter\"},{\"customdata\":[[1528060]],\"hovertemplate\":\"Genre=%{x}<br>Year=2015<br>No_of_Apps=%{marker.size}<br>Users=%{customdata[0]}<extra></extra>\",\"ids\":[3119],\"legendgroup\":\"Food & Drink\",\"marker\":{\"color\":\"#19d3f3\",\"size\":[3119],\"sizemode\":\"area\",\"sizeref\":76.0825,\"symbol\":\"circle\"},\"mode\":\"markers\",\"name\":\"Food & Drink\",\"orientation\":\"v\",\"showlegend\":true,\"x\":[\"Food & Drink\"],\"xaxis\":\"x\",\"y\":[3119],\"yaxis\":\"y\",\"type\":\"scatter\"},{\"customdata\":[[11877853]],\"hovertemplate\":\"Genre=%{x}<br>Year=2015<br>No_of_Apps=%{marker.size}<br>Users=%{customdata[0]}<extra></extra>\",\"ids\":[16009],\"legendgroup\":\"Games\",\"marker\":{\"color\":\"#FF6692\",\"size\":[16009],\"sizemode\":\"area\",\"sizeref\":76.0825,\"symbol\":\"circle\"},\"mode\":\"markers\",\"name\":\"Games\",\"orientation\":\"v\",\"showlegend\":true,\"x\":[\"Games\"],\"xaxis\":\"x\",\"y\":[16009],\"yaxis\":\"y\",\"type\":\"scatter\"},{\"customdata\":[[2934755]],\"hovertemplate\":\"Genre=%{x}<br>Year=2015<br>No_of_Apps=%{marker.size}<br>Users=%{customdata[0]}<extra></extra>\",\"ids\":[3205],\"legendgroup\":\"Health & Fitness\",\"marker\":{\"color\":\"#B6E880\",\"size\":[3205],\"sizemode\":\"area\",\"sizeref\":76.0825,\"symbol\":\"circle\"},\"mode\":\"markers\",\"name\":\"Health & Fitness\",\"orientation\":\"v\",\"showlegend\":true,\"x\":[\"Health & Fitness\"],\"xaxis\":\"x\",\"y\":[3205],\"yaxis\":\"y\",\"type\":\"scatter\"},{\"customdata\":[[1849588]],\"hovertemplate\":\"Genre=%{x}<br>Year=2015<br>No_of_Apps=%{marker.size}<br>Users=%{customdata[0]}<extra></extra>\",\"ids\":[5158],\"legendgroup\":\"Lifestyle\",\"marker\":{\"color\":\"#FF97FF\",\"size\":[5158],\"sizemode\":\"area\",\"sizeref\":76.0825,\"symbol\":\"circle\"},\"mode\":\"markers\",\"name\":\"Lifestyle\",\"orientation\":\"v\",\"showlegend\":true,\"x\":[\"Lifestyle\"],\"xaxis\":\"x\",\"y\":[5158],\"yaxis\":\"y\",\"type\":\"scatter\"},{\"customdata\":[[465986]],\"hovertemplate\":\"Genre=%{x}<br>Year=2015<br>No_of_Apps=%{marker.size}<br>Users=%{customdata[0]}<extra></extra>\",\"ids\":[1884],\"legendgroup\":\"Medical\",\"marker\":{\"color\":\"#FECB52\",\"size\":[1884],\"sizemode\":\"area\",\"sizeref\":76.0825,\"symbol\":\"circle\"},\"mode\":\"markers\",\"name\":\"Medical\",\"orientation\":\"v\",\"showlegend\":true,\"x\":[\"Medical\"],\"xaxis\":\"x\",\"y\":[1884],\"yaxis\":\"y\",\"type\":\"scatter\"},{\"customdata\":[[1562563]],\"hovertemplate\":\"Genre=%{x}<br>Year=2015<br>No_of_Apps=%{marker.size}<br>Users=%{customdata[0]}<extra></extra>\",\"ids\":[2672],\"legendgroup\":\"Music\",\"marker\":{\"color\":\"#636efa\",\"size\":[2672],\"sizemode\":\"area\",\"sizeref\":76.0825,\"symbol\":\"circle\"},\"mode\":\"markers\",\"name\":\"Music\",\"orientation\":\"v\",\"showlegend\":true,\"x\":[\"Music\"],\"xaxis\":\"x\",\"y\":[2672],\"yaxis\":\"y\",\"type\":\"scatter\"},{\"customdata\":[[104906]],\"hovertemplate\":\"Genre=%{x}<br>Year=2015<br>No_of_Apps=%{marker.size}<br>Users=%{customdata[0]}<extra></extra>\",\"ids\":[916],\"legendgroup\":\"Navigation\",\"marker\":{\"color\":\"#EF553B\",\"size\":[916],\"sizemode\":\"area\",\"sizeref\":76.0825,\"symbol\":\"circle\"},\"mode\":\"markers\",\"name\":\"Navigation\",\"orientation\":\"v\",\"showlegend\":true,\"x\":[\"Navigation\"],\"xaxis\":\"x\",\"y\":[916],\"yaxis\":\"y\",\"type\":\"scatter\"},{\"customdata\":[[408116]],\"hovertemplate\":\"Genre=%{x}<br>Year=2015<br>No_of_Apps=%{marker.size}<br>Users=%{customdata[0]}<extra></extra>\",\"ids\":[1522],\"legendgroup\":\"News\",\"marker\":{\"color\":\"#00cc96\",\"size\":[1522],\"sizemode\":\"area\",\"sizeref\":76.0825,\"symbol\":\"circle\"},\"mode\":\"markers\",\"name\":\"News\",\"orientation\":\"v\",\"showlegend\":true,\"x\":[\"News\"],\"xaxis\":\"x\",\"y\":[1522],\"yaxis\":\"y\",\"type\":\"scatter\"},{\"customdata\":[[4293016]],\"hovertemplate\":\"Genre=%{x}<br>Year=2015<br>No_of_Apps=%{marker.size}<br>Users=%{customdata[0]}<extra></extra>\",\"ids\":[2624],\"legendgroup\":\"Photo & Video\",\"marker\":{\"color\":\"#ab63fa\",\"size\":[2624],\"sizemode\":\"area\",\"sizeref\":76.0825,\"symbol\":\"circle\"},\"mode\":\"markers\",\"name\":\"Photo & Video\",\"orientation\":\"v\",\"showlegend\":true,\"x\":[\"Photo & Video\"],\"xaxis\":\"x\",\"y\":[2624],\"yaxis\":\"y\",\"type\":\"scatter\"},{\"customdata\":[[1641666]],\"hovertemplate\":\"Genre=%{x}<br>Year=2015<br>No_of_Apps=%{marker.size}<br>Users=%{customdata[0]}<extra></extra>\",\"ids\":[3145],\"legendgroup\":\"Productivity\",\"marker\":{\"color\":\"#FFA15A\",\"size\":[3145],\"sizemode\":\"area\",\"sizeref\":76.0825,\"symbol\":\"circle\"},\"mode\":\"markers\",\"name\":\"Productivity\",\"orientation\":\"v\",\"showlegend\":true,\"x\":[\"Productivity\"],\"xaxis\":\"x\",\"y\":[3145],\"yaxis\":\"y\",\"type\":\"scatter\"},{\"customdata\":[[348170]],\"hovertemplate\":\"Genre=%{x}<br>Year=2015<br>No_of_Apps=%{marker.size}<br>Users=%{customdata[0]}<extra></extra>\",\"ids\":[1676],\"legendgroup\":\"Reference\",\"marker\":{\"color\":\"#19d3f3\",\"size\":[1676],\"sizemode\":\"area\",\"sizeref\":76.0825,\"symbol\":\"circle\"},\"mode\":\"markers\",\"name\":\"Reference\",\"orientation\":\"v\",\"showlegend\":true,\"x\":[\"Reference\"],\"xaxis\":\"x\",\"y\":[1676],\"yaxis\":\"y\",\"type\":\"scatter\"},{\"customdata\":[[3899940]],\"hovertemplate\":\"Genre=%{x}<br>Year=2015<br>No_of_Apps=%{marker.size}<br>Users=%{customdata[0]}<extra></extra>\",\"ids\":[1017],\"legendgroup\":\"Shopping\",\"marker\":{\"color\":\"#FF6692\",\"size\":[1017],\"sizemode\":\"area\",\"sizeref\":76.0825,\"symbol\":\"circle\"},\"mode\":\"markers\",\"name\":\"Shopping\",\"orientation\":\"v\",\"showlegend\":true,\"x\":[\"Shopping\"],\"xaxis\":\"x\",\"y\":[1017],\"yaxis\":\"y\",\"type\":\"scatter\"},{\"customdata\":[[2472334]],\"hovertemplate\":\"Genre=%{x}<br>Year=2015<br>No_of_Apps=%{marker.size}<br>Users=%{customdata[0]}<extra></extra>\",\"ids\":[1075],\"legendgroup\":\"Social Networking\",\"marker\":{\"color\":\"#B6E880\",\"size\":[1075],\"sizemode\":\"area\",\"sizeref\":76.0825,\"symbol\":\"circle\"},\"mode\":\"markers\",\"name\":\"Social Networking\",\"orientation\":\"v\",\"showlegend\":true,\"x\":[\"Social Networking\"],\"xaxis\":\"x\",\"y\":[1075],\"yaxis\":\"y\",\"type\":\"scatter\"},{\"customdata\":[[429138]],\"hovertemplate\":\"Genre=%{x}<br>Year=2015<br>No_of_Apps=%{marker.size}<br>Users=%{customdata[0]}<extra></extra>\",\"ids\":[2149],\"legendgroup\":\"Sports\",\"marker\":{\"color\":\"#FF97FF\",\"size\":[2149],\"sizemode\":\"area\",\"sizeref\":76.0825,\"symbol\":\"circle\"},\"mode\":\"markers\",\"name\":\"Sports\",\"orientation\":\"v\",\"showlegend\":true,\"x\":[\"Sports\"],\"xaxis\":\"x\",\"y\":[2149],\"yaxis\":\"y\",\"type\":\"scatter\"},{\"customdata\":[[2870087]],\"hovertemplate\":\"Genre=%{x}<br>Year=2015<br>No_of_Apps=%{marker.size}<br>Users=%{customdata[0]}<extra></extra>\",\"ids\":[2840],\"legendgroup\":\"Travel\",\"marker\":{\"color\":\"#FECB52\",\"size\":[2840],\"sizemode\":\"area\",\"sizeref\":76.0825,\"symbol\":\"circle\"},\"mode\":\"markers\",\"name\":\"Travel\",\"orientation\":\"v\",\"showlegend\":true,\"x\":[\"Travel\"],\"xaxis\":\"x\",\"y\":[2840],\"yaxis\":\"y\",\"type\":\"scatter\"},{\"customdata\":[[2430472]],\"hovertemplate\":\"Genre=%{x}<br>Year=2015<br>No_of_Apps=%{marker.size}<br>Users=%{customdata[0]}<extra></extra>\",\"ids\":[5482],\"legendgroup\":\"Utilities\",\"marker\":{\"color\":\"#636efa\",\"size\":[5482],\"sizemode\":\"area\",\"sizeref\":76.0825,\"symbol\":\"circle\"},\"mode\":\"markers\",\"name\":\"Utilities\",\"orientation\":\"v\",\"showlegend\":true,\"x\":[\"Utilities\"],\"xaxis\":\"x\",\"y\":[5482],\"yaxis\":\"y\",\"type\":\"scatter\"},{\"customdata\":[[376323]],\"hovertemplate\":\"Genre=%{x}<br>Year=2015<br>No_of_Apps=%{marker.size}<br>Users=%{customdata[0]}<extra></extra>\",\"ids\":[347],\"legendgroup\":\"Weather\",\"marker\":{\"color\":\"#EF553B\",\"size\":[347],\"sizemode\":\"area\",\"sizeref\":76.0825,\"symbol\":\"circle\"},\"mode\":\"markers\",\"name\":\"Weather\",\"orientation\":\"v\",\"showlegend\":true,\"x\":[\"Weather\"],\"xaxis\":\"x\",\"y\":[347],\"yaxis\":\"y\",\"type\":\"scatter\"},{\"customdata\":[[254603]],\"hovertemplate\":\"Genre=%{x}<br>Year=2015<br>No_of_Apps=%{marker.size}<br>Users=%{customdata[0]}<extra></extra>\",\"ids\":[134],\"legendgroup\":\"Graphics & Design\",\"marker\":{\"color\":\"#00cc96\",\"size\":[134],\"sizemode\":\"area\",\"sizeref\":76.0825,\"symbol\":\"circle\"},\"mode\":\"markers\",\"name\":\"Graphics & Design\",\"orientation\":\"v\",\"showlegend\":true,\"x\":[\"Graphics & Design\"],\"xaxis\":\"x\",\"y\":[134],\"yaxis\":\"y\",\"type\":\"scatter\"},{\"customdata\":[[3943]],\"hovertemplate\":\"Genre=%{x}<br>Year=2015<br>No_of_Apps=%{marker.size}<br>Users=%{customdata[0]}<extra></extra>\",\"ids\":[118],\"legendgroup\":\"Magazines & Newspapers\",\"marker\":{\"color\":\"#ab63fa\",\"size\":[118],\"sizemode\":\"area\",\"sizeref\":76.0825,\"symbol\":\"circle\"},\"mode\":\"markers\",\"name\":\"Magazines & Newspapers\",\"orientation\":\"v\",\"showlegend\":true,\"x\":[\"Magazines & Newspapers\"],\"xaxis\":\"x\",\"y\":[118],\"yaxis\":\"y\",\"type\":\"scatter\"},{\"customdata\":[[322]],\"hovertemplate\":\"Genre=%{x}<br>Year=2015<br>No_of_Apps=%{marker.size}<br>Users=%{customdata[0]}<extra></extra>\",\"ids\":[102],\"legendgroup\":\"Developer Tools\",\"marker\":{\"color\":\"#FFA15A\",\"size\":[102],\"sizemode\":\"area\",\"sizeref\":76.0825,\"symbol\":\"circle\"},\"mode\":\"markers\",\"name\":\"Developer Tools\",\"orientation\":\"v\",\"showlegend\":true,\"x\":[\"Developer Tools\"],\"xaxis\":\"x\",\"y\":[102],\"yaxis\":\"y\",\"type\":\"scatter\"}],\"name\":\"2015\"},{\"data\":[{\"customdata\":[[1754935]],\"hovertemplate\":\"Genre=%{x}<br>Year=2016<br>No_of_Apps=%{marker.size}<br>Users=%{customdata[0]}<extra></extra>\",\"ids\":[1569],\"legendgroup\":\"Book\",\"marker\":{\"color\":\"#636efa\",\"size\":[1569],\"sizemode\":\"area\",\"sizeref\":76.0825,\"symbol\":\"circle\"},\"mode\":\"markers\",\"name\":\"Book\",\"orientation\":\"v\",\"showlegend\":true,\"x\":[\"Book\"],\"xaxis\":\"x\",\"y\":[1569],\"yaxis\":\"y\",\"type\":\"scatter\"},{\"customdata\":[[3229814]],\"hovertemplate\":\"Genre=%{x}<br>Year=2016<br>No_of_Apps=%{marker.size}<br>Users=%{customdata[0]}<extra></extra>\",\"ids\":[9757],\"legendgroup\":\"Business\",\"marker\":{\"color\":\"#EF553B\",\"size\":[9757],\"sizemode\":\"area\",\"sizeref\":76.0825,\"symbol\":\"circle\"},\"mode\":\"markers\",\"name\":\"Business\",\"orientation\":\"v\",\"showlegend\":true,\"x\":[\"Business\"],\"xaxis\":\"x\",\"y\":[9757],\"yaxis\":\"y\",\"type\":\"scatter\"},{\"customdata\":[[1909983]],\"hovertemplate\":\"Genre=%{x}<br>Year=2016<br>No_of_Apps=%{marker.size}<br>Users=%{customdata[0]}<extra></extra>\",\"ids\":[11795],\"legendgroup\":\"Education\",\"marker\":{\"color\":\"#00cc96\",\"size\":[11795],\"sizemode\":\"area\",\"sizeref\":76.0825,\"symbol\":\"circle\"},\"mode\":\"markers\",\"name\":\"Education\",\"orientation\":\"v\",\"showlegend\":true,\"x\":[\"Education\"],\"xaxis\":\"x\",\"y\":[11795],\"yaxis\":\"y\",\"type\":\"scatter\"},{\"customdata\":[[1924026]],\"hovertemplate\":\"Genre=%{x}<br>Year=2016<br>No_of_Apps=%{marker.size}<br>Users=%{customdata[0]}<extra></extra>\",\"ids\":[6194],\"legendgroup\":\"Entertainment\",\"marker\":{\"color\":\"#ab63fa\",\"size\":[6194],\"sizemode\":\"area\",\"sizeref\":76.0825,\"symbol\":\"circle\"},\"mode\":\"markers\",\"name\":\"Entertainment\",\"orientation\":\"v\",\"showlegend\":true,\"x\":[\"Entertainment\"],\"xaxis\":\"x\",\"y\":[6194],\"yaxis\":\"y\",\"type\":\"scatter\"},{\"customdata\":[[4400660]],\"hovertemplate\":\"Genre=%{x}<br>Year=2016<br>No_of_Apps=%{marker.size}<br>Users=%{customdata[0]}<extra></extra>\",\"ids\":[3575],\"legendgroup\":\"Finance\",\"marker\":{\"color\":\"#FFA15A\",\"size\":[3575],\"sizemode\":\"area\",\"sizeref\":76.0825,\"symbol\":\"circle\"},\"mode\":\"markers\",\"name\":\"Finance\",\"orientation\":\"v\",\"showlegend\":true,\"x\":[\"Finance\"],\"xaxis\":\"x\",\"y\":[3575],\"yaxis\":\"y\",\"type\":\"scatter\"},{\"customdata\":[[5101171]],\"hovertemplate\":\"Genre=%{x}<br>Year=2016<br>No_of_Apps=%{marker.size}<br>Users=%{customdata[0]}<extra></extra>\",\"ids\":[5384],\"legendgroup\":\"Food & Drink\",\"marker\":{\"color\":\"#19d3f3\",\"size\":[5384],\"sizemode\":\"area\",\"sizeref\":76.0825,\"symbol\":\"circle\"},\"mode\":\"markers\",\"name\":\"Food & Drink\",\"orientation\":\"v\",\"showlegend\":true,\"x\":[\"Food & Drink\"],\"xaxis\":\"x\",\"y\":[5384],\"yaxis\":\"y\",\"type\":\"scatter\"},{\"customdata\":[[23470491]],\"hovertemplate\":\"Genre=%{x}<br>Year=2016<br>No_of_Apps=%{marker.size}<br>Users=%{customdata[0]}<extra></extra>\",\"ids\":[26175],\"legendgroup\":\"Games\",\"marker\":{\"color\":\"#FF6692\",\"size\":[26175],\"sizemode\":\"area\",\"sizeref\":76.0825,\"symbol\":\"circle\"},\"mode\":\"markers\",\"name\":\"Games\",\"orientation\":\"v\",\"showlegend\":true,\"x\":[\"Games\"],\"xaxis\":\"x\",\"y\":[26175],\"yaxis\":\"y\",\"type\":\"scatter\"},{\"customdata\":[[1932268]],\"hovertemplate\":\"Genre=%{x}<br>Year=2016<br>No_of_Apps=%{marker.size}<br>Users=%{customdata[0]}<extra></extra>\",\"ids\":[4689],\"legendgroup\":\"Health & Fitness\",\"marker\":{\"color\":\"#B6E880\",\"size\":[4689],\"sizemode\":\"area\",\"sizeref\":76.0825,\"symbol\":\"circle\"},\"mode\":\"markers\",\"name\":\"Health & Fitness\",\"orientation\":\"v\",\"showlegend\":true,\"x\":[\"Health & Fitness\"],\"xaxis\":\"x\",\"y\":[4689],\"yaxis\":\"y\",\"type\":\"scatter\"},{\"customdata\":[[2662119]],\"hovertemplate\":\"Genre=%{x}<br>Year=2016<br>No_of_Apps=%{marker.size}<br>Users=%{customdata[0]}<extra></extra>\",\"ids\":[7809],\"legendgroup\":\"Lifestyle\",\"marker\":{\"color\":\"#FF97FF\",\"size\":[7809],\"sizemode\":\"area\",\"sizeref\":76.0825,\"symbol\":\"circle\"},\"mode\":\"markers\",\"name\":\"Lifestyle\",\"orientation\":\"v\",\"showlegend\":true,\"x\":[\"Lifestyle\"],\"xaxis\":\"x\",\"y\":[7809],\"yaxis\":\"y\",\"type\":\"scatter\"},{\"customdata\":[[411653]],\"hovertemplate\":\"Genre=%{x}<br>Year=2016<br>No_of_Apps=%{marker.size}<br>Users=%{customdata[0]}<extra></extra>\",\"ids\":[2662],\"legendgroup\":\"Medical\",\"marker\":{\"color\":\"#FECB52\",\"size\":[2662],\"sizemode\":\"area\",\"sizeref\":76.0825,\"symbol\":\"circle\"},\"mode\":\"markers\",\"name\":\"Medical\",\"orientation\":\"v\",\"showlegend\":true,\"x\":[\"Medical\"],\"xaxis\":\"x\",\"y\":[2662],\"yaxis\":\"y\",\"type\":\"scatter\"},{\"customdata\":[[1550787]],\"hovertemplate\":\"Genre=%{x}<br>Year=2016<br>No_of_Apps=%{marker.size}<br>Users=%{customdata[0]}<extra></extra>\",\"ids\":[3307],\"legendgroup\":\"Music\",\"marker\":{\"color\":\"#636efa\",\"size\":[3307],\"sizemode\":\"area\",\"sizeref\":76.0825,\"symbol\":\"circle\"},\"mode\":\"markers\",\"name\":\"Music\",\"orientation\":\"v\",\"showlegend\":true,\"x\":[\"Music\"],\"xaxis\":\"x\",\"y\":[3307],\"yaxis\":\"y\",\"type\":\"scatter\"},{\"customdata\":[[209138]],\"hovertemplate\":\"Genre=%{x}<br>Year=2016<br>No_of_Apps=%{marker.size}<br>Users=%{customdata[0]}<extra></extra>\",\"ids\":[1313],\"legendgroup\":\"Navigation\",\"marker\":{\"color\":\"#EF553B\",\"size\":[1313],\"sizemode\":\"area\",\"sizeref\":76.0825,\"symbol\":\"circle\"},\"mode\":\"markers\",\"name\":\"Navigation\",\"orientation\":\"v\",\"showlegend\":true,\"x\":[\"Navigation\"],\"xaxis\":\"x\",\"y\":[1313],\"yaxis\":\"y\",\"type\":\"scatter\"},{\"customdata\":[[3113404]],\"hovertemplate\":\"Genre=%{x}<br>Year=2016<br>No_of_Apps=%{marker.size}<br>Users=%{customdata[0]}<extra></extra>\",\"ids\":[1979],\"legendgroup\":\"News\",\"marker\":{\"color\":\"#00cc96\",\"size\":[1979],\"sizemode\":\"area\",\"sizeref\":76.0825,\"symbol\":\"circle\"},\"mode\":\"markers\",\"name\":\"News\",\"orientation\":\"v\",\"showlegend\":true,\"x\":[\"News\"],\"xaxis\":\"x\",\"y\":[1979],\"yaxis\":\"y\",\"type\":\"scatter\"},{\"customdata\":[[2786214]],\"hovertemplate\":\"Genre=%{x}<br>Year=2016<br>No_of_Apps=%{marker.size}<br>Users=%{customdata[0]}<extra></extra>\",\"ids\":[4325],\"legendgroup\":\"Photo & Video\",\"marker\":{\"color\":\"#ab63fa\",\"size\":[4325],\"sizemode\":\"area\",\"sizeref\":76.0825,\"symbol\":\"circle\"},\"mode\":\"markers\",\"name\":\"Photo & Video\",\"orientation\":\"v\",\"showlegend\":true,\"x\":[\"Photo & Video\"],\"xaxis\":\"x\",\"y\":[4325],\"yaxis\":\"y\",\"type\":\"scatter\"},{\"customdata\":[[1176434]],\"hovertemplate\":\"Genre=%{x}<br>Year=2016<br>No_of_Apps=%{marker.size}<br>Users=%{customdata[0]}<extra></extra>\",\"ids\":[4445],\"legendgroup\":\"Productivity\",\"marker\":{\"color\":\"#FFA15A\",\"size\":[4445],\"sizemode\":\"area\",\"sizeref\":76.0825,\"symbol\":\"circle\"},\"mode\":\"markers\",\"name\":\"Productivity\",\"orientation\":\"v\",\"showlegend\":true,\"x\":[\"Productivity\"],\"xaxis\":\"x\",\"y\":[4445],\"yaxis\":\"y\",\"type\":\"scatter\"},{\"customdata\":[[651090]],\"hovertemplate\":\"Genre=%{x}<br>Year=2016<br>No_of_Apps=%{marker.size}<br>Users=%{customdata[0]}<extra></extra>\",\"ids\":[2177],\"legendgroup\":\"Reference\",\"marker\":{\"color\":\"#19d3f3\",\"size\":[2177],\"sizemode\":\"area\",\"sizeref\":76.0825,\"symbol\":\"circle\"},\"mode\":\"markers\",\"name\":\"Reference\",\"orientation\":\"v\",\"showlegend\":true,\"x\":[\"Reference\"],\"xaxis\":\"x\",\"y\":[2177],\"yaxis\":\"y\",\"type\":\"scatter\"},{\"customdata\":[[5138146]],\"hovertemplate\":\"Genre=%{x}<br>Year=2016<br>No_of_Apps=%{marker.size}<br>Users=%{customdata[0]}<extra></extra>\",\"ids\":[2377],\"legendgroup\":\"Shopping\",\"marker\":{\"color\":\"#FF6692\",\"size\":[2377],\"sizemode\":\"area\",\"sizeref\":76.0825,\"symbol\":\"circle\"},\"mode\":\"markers\",\"name\":\"Shopping\",\"orientation\":\"v\",\"showlegend\":true,\"x\":[\"Shopping\"],\"xaxis\":\"x\",\"y\":[2377],\"yaxis\":\"y\",\"type\":\"scatter\"},{\"customdata\":[[2209311]],\"hovertemplate\":\"Genre=%{x}<br>Year=2016<br>No_of_Apps=%{marker.size}<br>Users=%{customdata[0]}<extra></extra>\",\"ids\":[1888],\"legendgroup\":\"Social Networking\",\"marker\":{\"color\":\"#B6E880\",\"size\":[1888],\"sizemode\":\"area\",\"sizeref\":76.0825,\"symbol\":\"circle\"},\"mode\":\"markers\",\"name\":\"Social Networking\",\"orientation\":\"v\",\"showlegend\":true,\"x\":[\"Social Networking\"],\"xaxis\":\"x\",\"y\":[1888],\"yaxis\":\"y\",\"type\":\"scatter\"},{\"customdata\":[[975845]],\"hovertemplate\":\"Genre=%{x}<br>Year=2016<br>No_of_Apps=%{marker.size}<br>Users=%{customdata[0]}<extra></extra>\",\"ids\":[2778],\"legendgroup\":\"Sports\",\"marker\":{\"color\":\"#FF97FF\",\"size\":[2778],\"sizemode\":\"area\",\"sizeref\":76.0825,\"symbol\":\"circle\"},\"mode\":\"markers\",\"name\":\"Sports\",\"orientation\":\"v\",\"showlegend\":true,\"x\":[\"Sports\"],\"xaxis\":\"x\",\"y\":[2778],\"yaxis\":\"y\",\"type\":\"scatter\"},{\"customdata\":[[646201]],\"hovertemplate\":\"Genre=%{x}<br>Year=2016<br>No_of_Apps=%{marker.size}<br>Users=%{customdata[0]}<extra></extra>\",\"ids\":[5185],\"legendgroup\":\"Travel\",\"marker\":{\"color\":\"#FECB52\",\"size\":[5185],\"sizemode\":\"area\",\"sizeref\":76.0825,\"symbol\":\"circle\"},\"mode\":\"markers\",\"name\":\"Travel\",\"orientation\":\"v\",\"showlegend\":true,\"x\":[\"Travel\"],\"xaxis\":\"x\",\"y\":[5185],\"yaxis\":\"y\",\"type\":\"scatter\"},{\"customdata\":[[3849459]],\"hovertemplate\":\"Genre=%{x}<br>Year=2016<br>No_of_Apps=%{marker.size}<br>Users=%{customdata[0]}<extra></extra>\",\"ids\":[7578],\"legendgroup\":\"Utilities\",\"marker\":{\"color\":\"#636efa\",\"size\":[7578],\"sizemode\":\"area\",\"sizeref\":76.0825,\"symbol\":\"circle\"},\"mode\":\"markers\",\"name\":\"Utilities\",\"orientation\":\"v\",\"showlegend\":true,\"x\":[\"Utilities\"],\"xaxis\":\"x\",\"y\":[7578],\"yaxis\":\"y\",\"type\":\"scatter\"},{\"customdata\":[[201808]],\"hovertemplate\":\"Genre=%{x}<br>Year=2016<br>No_of_Apps=%{marker.size}<br>Users=%{customdata[0]}<extra></extra>\",\"ids\":[356],\"legendgroup\":\"Weather\",\"marker\":{\"color\":\"#EF553B\",\"size\":[356],\"sizemode\":\"area\",\"sizeref\":76.0825,\"symbol\":\"circle\"},\"mode\":\"markers\",\"name\":\"Weather\",\"orientation\":\"v\",\"showlegend\":true,\"x\":[\"Weather\"],\"xaxis\":\"x\",\"y\":[356],\"yaxis\":\"y\",\"type\":\"scatter\"},{\"customdata\":[[115714]],\"hovertemplate\":\"Genre=%{x}<br>Year=2016<br>No_of_Apps=%{marker.size}<br>Users=%{customdata[0]}<extra></extra>\",\"ids\":[258],\"legendgroup\":\"Graphics & Design\",\"marker\":{\"color\":\"#00cc96\",\"size\":[258],\"sizemode\":\"area\",\"sizeref\":76.0825,\"symbol\":\"circle\"},\"mode\":\"markers\",\"name\":\"Graphics & Design\",\"orientation\":\"v\",\"showlegend\":true,\"x\":[\"Graphics & Design\"],\"xaxis\":\"x\",\"y\":[258],\"yaxis\":\"y\",\"type\":\"scatter\"},{\"customdata\":[[1526]],\"hovertemplate\":\"Genre=%{x}<br>Year=2016<br>No_of_Apps=%{marker.size}<br>Users=%{customdata[0]}<extra></extra>\",\"ids\":[218],\"legendgroup\":\"Magazines & Newspapers\",\"marker\":{\"color\":\"#ab63fa\",\"size\":[218],\"sizemode\":\"area\",\"sizeref\":76.0825,\"symbol\":\"circle\"},\"mode\":\"markers\",\"name\":\"Magazines & Newspapers\",\"orientation\":\"v\",\"showlegend\":true,\"x\":[\"Magazines & Newspapers\"],\"xaxis\":\"x\",\"y\":[218],\"yaxis\":\"y\",\"type\":\"scatter\"},{\"customdata\":[[1777]],\"hovertemplate\":\"Genre=%{x}<br>Year=2016<br>No_of_Apps=%{marker.size}<br>Users=%{customdata[0]}<extra></extra>\",\"ids\":[131],\"legendgroup\":\"Developer Tools\",\"marker\":{\"color\":\"#FFA15A\",\"size\":[131],\"sizemode\":\"area\",\"sizeref\":76.0825,\"symbol\":\"circle\"},\"mode\":\"markers\",\"name\":\"Developer Tools\",\"orientation\":\"v\",\"showlegend\":true,\"x\":[\"Developer Tools\"],\"xaxis\":\"x\",\"y\":[131],\"yaxis\":\"y\",\"type\":\"scatter\"},{\"customdata\":[[20794]],\"hovertemplate\":\"Genre=%{x}<br>Year=2016<br>No_of_Apps=%{marker.size}<br>Users=%{customdata[0]}<extra></extra>\",\"ids\":[2428],\"legendgroup\":\"Stickers\",\"marker\":{\"color\":\"#19d3f3\",\"size\":[2428],\"sizemode\":\"area\",\"sizeref\":76.0825,\"symbol\":\"circle\"},\"mode\":\"markers\",\"name\":\"Stickers\",\"orientation\":\"v\",\"showlegend\":true,\"x\":[\"Stickers\"],\"xaxis\":\"x\",\"y\":[2428],\"yaxis\":\"y\",\"type\":\"scatter\"}],\"name\":\"2016\"},{\"data\":[{\"customdata\":[[194833]],\"hovertemplate\":\"Genre=%{x}<br>Year=2017<br>No_of_Apps=%{marker.size}<br>Users=%{customdata[0]}<extra></extra>\",\"ids\":[1025],\"legendgroup\":\"Book\",\"marker\":{\"color\":\"#636efa\",\"size\":[1025],\"sizemode\":\"area\",\"sizeref\":76.0825,\"symbol\":\"circle\"},\"mode\":\"markers\",\"name\":\"Book\",\"orientation\":\"v\",\"showlegend\":true,\"x\":[\"Book\"],\"xaxis\":\"x\",\"y\":[1025],\"yaxis\":\"y\",\"type\":\"scatter\"},{\"customdata\":[[2519091]],\"hovertemplate\":\"Genre=%{x}<br>Year=2017<br>No_of_Apps=%{marker.size}<br>Users=%{customdata[0]}<extra></extra>\",\"ids\":[12025],\"legendgroup\":\"Business\",\"marker\":{\"color\":\"#EF553B\",\"size\":[12025],\"sizemode\":\"area\",\"sizeref\":76.0825,\"symbol\":\"circle\"},\"mode\":\"markers\",\"name\":\"Business\",\"orientation\":\"v\",\"showlegend\":true,\"x\":[\"Business\"],\"xaxis\":\"x\",\"y\":[12025],\"yaxis\":\"y\",\"type\":\"scatter\"},{\"customdata\":[[1737509]],\"hovertemplate\":\"Genre=%{x}<br>Year=2017<br>No_of_Apps=%{marker.size}<br>Users=%{customdata[0]}<extra></extra>\",\"ids\":[12844],\"legendgroup\":\"Education\",\"marker\":{\"color\":\"#00cc96\",\"size\":[12844],\"sizemode\":\"area\",\"sizeref\":76.0825,\"symbol\":\"circle\"},\"mode\":\"markers\",\"name\":\"Education\",\"orientation\":\"v\",\"showlegend\":true,\"x\":[\"Education\"],\"xaxis\":\"x\",\"y\":[12844],\"yaxis\":\"y\",\"type\":\"scatter\"},{\"customdata\":[[3641646]],\"hovertemplate\":\"Genre=%{x}<br>Year=2017<br>No_of_Apps=%{marker.size}<br>Users=%{customdata[0]}<extra></extra>\",\"ids\":[5863],\"legendgroup\":\"Entertainment\",\"marker\":{\"color\":\"#ab63fa\",\"size\":[5863],\"sizemode\":\"area\",\"sizeref\":76.0825,\"symbol\":\"circle\"},\"mode\":\"markers\",\"name\":\"Entertainment\",\"orientation\":\"v\",\"showlegend\":true,\"x\":[\"Entertainment\"],\"xaxis\":\"x\",\"y\":[5863],\"yaxis\":\"y\",\"type\":\"scatter\"},{\"customdata\":[[3089953]],\"hovertemplate\":\"Genre=%{x}<br>Year=2017<br>No_of_Apps=%{marker.size}<br>Users=%{customdata[0]}<extra></extra>\",\"ids\":[4237],\"legendgroup\":\"Finance\",\"marker\":{\"color\":\"#FFA15A\",\"size\":[4237],\"sizemode\":\"area\",\"sizeref\":76.0825,\"symbol\":\"circle\"},\"mode\":\"markers\",\"name\":\"Finance\",\"orientation\":\"v\",\"showlegend\":true,\"x\":[\"Finance\"],\"xaxis\":\"x\",\"y\":[4237],\"yaxis\":\"y\",\"type\":\"scatter\"},{\"customdata\":[[1035785]],\"hovertemplate\":\"Genre=%{x}<br>Year=2017<br>No_of_Apps=%{marker.size}<br>Users=%{customdata[0]}<extra></extra>\",\"ids\":[6966],\"legendgroup\":\"Food & Drink\",\"marker\":{\"color\":\"#19d3f3\",\"size\":[6966],\"sizemode\":\"area\",\"sizeref\":76.0825,\"symbol\":\"circle\"},\"mode\":\"markers\",\"name\":\"Food & Drink\",\"orientation\":\"v\",\"showlegend\":true,\"x\":[\"Food & Drink\"],\"xaxis\":\"x\",\"y\":[6966],\"yaxis\":\"y\",\"type\":\"scatter\"},{\"customdata\":[[34577161]],\"hovertemplate\":\"Genre=%{x}<br>Year=2017<br>No_of_Apps=%{marker.size}<br>Users=%{customdata[0]}<extra></extra>\",\"ids\":[23815],\"legendgroup\":\"Games\",\"marker\":{\"color\":\"#FF6692\",\"size\":[23815],\"sizemode\":\"area\",\"sizeref\":76.0825,\"symbol\":\"circle\"},\"mode\":\"markers\",\"name\":\"Games\",\"orientation\":\"v\",\"showlegend\":true,\"x\":[\"Games\"],\"xaxis\":\"x\",\"y\":[23815],\"yaxis\":\"y\",\"type\":\"scatter\"},{\"customdata\":[[1871387]],\"hovertemplate\":\"Genre=%{x}<br>Year=2017<br>No_of_Apps=%{marker.size}<br>Users=%{customdata[0]}<extra></extra>\",\"ids\":[5607],\"legendgroup\":\"Health & Fitness\",\"marker\":{\"color\":\"#B6E880\",\"size\":[5607],\"sizemode\":\"area\",\"sizeref\":76.0825,\"symbol\":\"circle\"},\"mode\":\"markers\",\"name\":\"Health & Fitness\",\"orientation\":\"v\",\"showlegend\":true,\"x\":[\"Health & Fitness\"],\"xaxis\":\"x\",\"y\":[5607],\"yaxis\":\"y\",\"type\":\"scatter\"},{\"customdata\":[[1933196]],\"hovertemplate\":\"Genre=%{x}<br>Year=2017<br>No_of_Apps=%{marker.size}<br>Users=%{customdata[0]}<extra></extra>\",\"ids\":[8589],\"legendgroup\":\"Lifestyle\",\"marker\":{\"color\":\"#FF97FF\",\"size\":[8589],\"sizemode\":\"area\",\"sizeref\":76.0825,\"symbol\":\"circle\"},\"mode\":\"markers\",\"name\":\"Lifestyle\",\"orientation\":\"v\",\"showlegend\":true,\"x\":[\"Lifestyle\"],\"xaxis\":\"x\",\"y\":[8589],\"yaxis\":\"y\",\"type\":\"scatter\"},{\"customdata\":[[270835]],\"hovertemplate\":\"Genre=%{x}<br>Year=2017<br>No_of_Apps=%{marker.size}<br>Users=%{customdata[0]}<extra></extra>\",\"ids\":[2848],\"legendgroup\":\"Medical\",\"marker\":{\"color\":\"#FECB52\",\"size\":[2848],\"sizemode\":\"area\",\"sizeref\":76.0825,\"symbol\":\"circle\"},\"mode\":\"markers\",\"name\":\"Medical\",\"orientation\":\"v\",\"showlegend\":true,\"x\":[\"Medical\"],\"xaxis\":\"x\",\"y\":[2848],\"yaxis\":\"y\",\"type\":\"scatter\"},{\"customdata\":[[322174]],\"hovertemplate\":\"Genre=%{x}<br>Year=2017<br>No_of_Apps=%{marker.size}<br>Users=%{customdata[0]}<extra></extra>\",\"ids\":[3252],\"legendgroup\":\"Music\",\"marker\":{\"color\":\"#636efa\",\"size\":[3252],\"sizemode\":\"area\",\"sizeref\":76.0825,\"symbol\":\"circle\"},\"mode\":\"markers\",\"name\":\"Music\",\"orientation\":\"v\",\"showlegend\":true,\"x\":[\"Music\"],\"xaxis\":\"x\",\"y\":[3252],\"yaxis\":\"y\",\"type\":\"scatter\"},{\"customdata\":[[168738]],\"hovertemplate\":\"Genre=%{x}<br>Year=2017<br>No_of_Apps=%{marker.size}<br>Users=%{customdata[0]}<extra></extra>\",\"ids\":[1371],\"legendgroup\":\"Navigation\",\"marker\":{\"color\":\"#EF553B\",\"size\":[1371],\"sizemode\":\"area\",\"sizeref\":76.0825,\"symbol\":\"circle\"},\"mode\":\"markers\",\"name\":\"Navigation\",\"orientation\":\"v\",\"showlegend\":true,\"x\":[\"Navigation\"],\"xaxis\":\"x\",\"y\":[1371],\"yaxis\":\"y\",\"type\":\"scatter\"},{\"customdata\":[[338860]],\"hovertemplate\":\"Genre=%{x}<br>Year=2017<br>No_of_Apps=%{marker.size}<br>Users=%{customdata[0]}<extra></extra>\",\"ids\":[1959],\"legendgroup\":\"News\",\"marker\":{\"color\":\"#00cc96\",\"size\":[1959],\"sizemode\":\"area\",\"sizeref\":76.0825,\"symbol\":\"circle\"},\"mode\":\"markers\",\"name\":\"News\",\"orientation\":\"v\",\"showlegend\":true,\"x\":[\"News\"],\"xaxis\":\"x\",\"y\":[1959],\"yaxis\":\"y\",\"type\":\"scatter\"},{\"customdata\":[[3667205]],\"hovertemplate\":\"Genre=%{x}<br>Year=2017<br>No_of_Apps=%{marker.size}<br>Users=%{customdata[0]}<extra></extra>\",\"ids\":[3411],\"legendgroup\":\"Photo & Video\",\"marker\":{\"color\":\"#ab63fa\",\"size\":[3411],\"sizemode\":\"area\",\"sizeref\":76.0825,\"symbol\":\"circle\"},\"mode\":\"markers\",\"name\":\"Photo & Video\",\"orientation\":\"v\",\"showlegend\":true,\"x\":[\"Photo & Video\"],\"xaxis\":\"x\",\"y\":[3411],\"yaxis\":\"y\",\"type\":\"scatter\"},{\"customdata\":[[1861663]],\"hovertemplate\":\"Genre=%{x}<br>Year=2017<br>No_of_Apps=%{marker.size}<br>Users=%{customdata[0]}<extra></extra>\",\"ids\":[5544],\"legendgroup\":\"Productivity\",\"marker\":{\"color\":\"#FFA15A\",\"size\":[5544],\"sizemode\":\"area\",\"sizeref\":76.0825,\"symbol\":\"circle\"},\"mode\":\"markers\",\"name\":\"Productivity\",\"orientation\":\"v\",\"showlegend\":true,\"x\":[\"Productivity\"],\"xaxis\":\"x\",\"y\":[5544],\"yaxis\":\"y\",\"type\":\"scatter\"},{\"customdata\":[[218409]],\"hovertemplate\":\"Genre=%{x}<br>Year=2017<br>No_of_Apps=%{marker.size}<br>Users=%{customdata[0]}<extra></extra>\",\"ids\":[1907],\"legendgroup\":\"Reference\",\"marker\":{\"color\":\"#19d3f3\",\"size\":[1907],\"sizemode\":\"area\",\"sizeref\":76.0825,\"symbol\":\"circle\"},\"mode\":\"markers\",\"name\":\"Reference\",\"orientation\":\"v\",\"showlegend\":true,\"x\":[\"Reference\"],\"xaxis\":\"x\",\"y\":[1907],\"yaxis\":\"y\",\"type\":\"scatter\"},{\"customdata\":[[5236151]],\"hovertemplate\":\"Genre=%{x}<br>Year=2017<br>No_of_Apps=%{marker.size}<br>Users=%{customdata[0]}<extra></extra>\",\"ids\":[2924],\"legendgroup\":\"Shopping\",\"marker\":{\"color\":\"#FF6692\",\"size\":[2924],\"sizemode\":\"area\",\"sizeref\":76.0825,\"symbol\":\"circle\"},\"mode\":\"markers\",\"name\":\"Shopping\",\"orientation\":\"v\",\"showlegend\":true,\"x\":[\"Shopping\"],\"xaxis\":\"x\",\"y\":[2924],\"yaxis\":\"y\",\"type\":\"scatter\"},{\"customdata\":[[1147299]],\"hovertemplate\":\"Genre=%{x}<br>Year=2017<br>No_of_Apps=%{marker.size}<br>Users=%{customdata[0]}<extra></extra>\",\"ids\":[2381],\"legendgroup\":\"Social Networking\",\"marker\":{\"color\":\"#B6E880\",\"size\":[2381],\"sizemode\":\"area\",\"sizeref\":76.0825,\"symbol\":\"circle\"},\"mode\":\"markers\",\"name\":\"Social Networking\",\"orientation\":\"v\",\"showlegend\":true,\"x\":[\"Social Networking\"],\"xaxis\":\"x\",\"y\":[2381],\"yaxis\":\"y\",\"type\":\"scatter\"},{\"customdata\":[[276856]],\"hovertemplate\":\"Genre=%{x}<br>Year=2017<br>No_of_Apps=%{marker.size}<br>Users=%{customdata[0]}<extra></extra>\",\"ids\":[3142],\"legendgroup\":\"Sports\",\"marker\":{\"color\":\"#FF97FF\",\"size\":[3142],\"sizemode\":\"area\",\"sizeref\":76.0825,\"symbol\":\"circle\"},\"mode\":\"markers\",\"name\":\"Sports\",\"orientation\":\"v\",\"showlegend\":true,\"x\":[\"Sports\"],\"xaxis\":\"x\",\"y\":[3142],\"yaxis\":\"y\",\"type\":\"scatter\"},{\"customdata\":[[4387168]],\"hovertemplate\":\"Genre=%{x}<br>Year=2017<br>No_of_Apps=%{marker.size}<br>Users=%{customdata[0]}<extra></extra>\",\"ids\":[4063],\"legendgroup\":\"Travel\",\"marker\":{\"color\":\"#FECB52\",\"size\":[4063],\"sizemode\":\"area\",\"sizeref\":76.0825,\"symbol\":\"circle\"},\"mode\":\"markers\",\"name\":\"Travel\",\"orientation\":\"v\",\"showlegend\":true,\"x\":[\"Travel\"],\"xaxis\":\"x\",\"y\":[4063],\"yaxis\":\"y\",\"type\":\"scatter\"},{\"customdata\":[[3073090]],\"hovertemplate\":\"Genre=%{x}<br>Year=2017<br>No_of_Apps=%{marker.size}<br>Users=%{customdata[0]}<extra></extra>\",\"ids\":[8990],\"legendgroup\":\"Utilities\",\"marker\":{\"color\":\"#636efa\",\"size\":[8990],\"sizemode\":\"area\",\"sizeref\":76.0825,\"symbol\":\"circle\"},\"mode\":\"markers\",\"name\":\"Utilities\",\"orientation\":\"v\",\"showlegend\":true,\"x\":[\"Utilities\"],\"xaxis\":\"x\",\"y\":[8990],\"yaxis\":\"y\",\"type\":\"scatter\"},{\"customdata\":[[449526]],\"hovertemplate\":\"Genre=%{x}<br>Year=2017<br>No_of_Apps=%{marker.size}<br>Users=%{customdata[0]}<extra></extra>\",\"ids\":[352],\"legendgroup\":\"Weather\",\"marker\":{\"color\":\"#EF553B\",\"size\":[352],\"sizemode\":\"area\",\"sizeref\":76.0825,\"symbol\":\"circle\"},\"mode\":\"markers\",\"name\":\"Weather\",\"orientation\":\"v\",\"showlegend\":true,\"x\":[\"Weather\"],\"xaxis\":\"x\",\"y\":[352],\"yaxis\":\"y\",\"type\":\"scatter\"},{\"customdata\":[[349822]],\"hovertemplate\":\"Genre=%{x}<br>Year=2017<br>No_of_Apps=%{marker.size}<br>Users=%{customdata[0]}<extra></extra>\",\"ids\":[174],\"legendgroup\":\"Graphics & Design\",\"marker\":{\"color\":\"#00cc96\",\"size\":[174],\"sizemode\":\"area\",\"sizeref\":76.0825,\"symbol\":\"circle\"},\"mode\":\"markers\",\"name\":\"Graphics & Design\",\"orientation\":\"v\",\"showlegend\":true,\"x\":[\"Graphics & Design\"],\"xaxis\":\"x\",\"y\":[174],\"yaxis\":\"y\",\"type\":\"scatter\"},{\"customdata\":[[3799]],\"hovertemplate\":\"Genre=%{x}<br>Year=2017<br>No_of_Apps=%{marker.size}<br>Users=%{customdata[0]}<extra></extra>\",\"ids\":[153],\"legendgroup\":\"Magazines & Newspapers\",\"marker\":{\"color\":\"#ab63fa\",\"size\":[153],\"sizemode\":\"area\",\"sizeref\":76.0825,\"symbol\":\"circle\"},\"mode\":\"markers\",\"name\":\"Magazines & Newspapers\",\"orientation\":\"v\",\"showlegend\":true,\"x\":[\"Magazines & Newspapers\"],\"xaxis\":\"x\",\"y\":[153],\"yaxis\":\"y\",\"type\":\"scatter\"},{\"customdata\":[[2354]],\"hovertemplate\":\"Genre=%{x}<br>Year=2017<br>No_of_Apps=%{marker.size}<br>Users=%{customdata[0]}<extra></extra>\",\"ids\":[104],\"legendgroup\":\"Developer Tools\",\"marker\":{\"color\":\"#FFA15A\",\"size\":[104],\"sizemode\":\"area\",\"sizeref\":76.0825,\"symbol\":\"circle\"},\"mode\":\"markers\",\"name\":\"Developer Tools\",\"orientation\":\"v\",\"showlegend\":true,\"x\":[\"Developer Tools\"],\"xaxis\":\"x\",\"y\":[104],\"yaxis\":\"y\",\"type\":\"scatter\"},{\"customdata\":[[16211]],\"hovertemplate\":\"Genre=%{x}<br>Year=2017<br>No_of_Apps=%{marker.size}<br>Users=%{customdata[0]}<extra></extra>\",\"ids\":[2810],\"legendgroup\":\"Stickers\",\"marker\":{\"color\":\"#19d3f3\",\"size\":[2810],\"sizemode\":\"area\",\"sizeref\":76.0825,\"symbol\":\"circle\"},\"mode\":\"markers\",\"name\":\"Stickers\",\"orientation\":\"v\",\"showlegend\":true,\"x\":[\"Stickers\"],\"xaxis\":\"x\",\"y\":[2810],\"yaxis\":\"y\",\"type\":\"scatter\"}],\"name\":\"2017\"},{\"data\":[{\"customdata\":[[416801]],\"hovertemplate\":\"Genre=%{x}<br>Year=2018<br>No_of_Apps=%{marker.size}<br>Users=%{customdata[0]}<extra></extra>\",\"ids\":[1010],\"legendgroup\":\"Book\",\"marker\":{\"color\":\"#636efa\",\"size\":[1010],\"sizemode\":\"area\",\"sizeref\":76.0825,\"symbol\":\"circle\"},\"mode\":\"markers\",\"name\":\"Book\",\"orientation\":\"v\",\"showlegend\":true,\"x\":[\"Book\"],\"xaxis\":\"x\",\"y\":[1010],\"yaxis\":\"y\",\"type\":\"scatter\"},{\"customdata\":[[688212]],\"hovertemplate\":\"Genre=%{x}<br>Year=2018<br>No_of_Apps=%{marker.size}<br>Users=%{customdata[0]}<extra></extra>\",\"ids\":[16106],\"legendgroup\":\"Business\",\"marker\":{\"color\":\"#EF553B\",\"size\":[16106],\"sizemode\":\"area\",\"sizeref\":76.0825,\"symbol\":\"circle\"},\"mode\":\"markers\",\"name\":\"Business\",\"orientation\":\"v\",\"showlegend\":true,\"x\":[\"Business\"],\"xaxis\":\"x\",\"y\":[16106],\"yaxis\":\"y\",\"type\":\"scatter\"},{\"customdata\":[[1579747]],\"hovertemplate\":\"Genre=%{x}<br>Year=2018<br>No_of_Apps=%{marker.size}<br>Users=%{customdata[0]}<extra></extra>\",\"ids\":[13171],\"legendgroup\":\"Education\",\"marker\":{\"color\":\"#00cc96\",\"size\":[13171],\"sizemode\":\"area\",\"sizeref\":76.0825,\"symbol\":\"circle\"},\"mode\":\"markers\",\"name\":\"Education\",\"orientation\":\"v\",\"showlegend\":true,\"x\":[\"Education\"],\"xaxis\":\"x\",\"y\":[13171],\"yaxis\":\"y\",\"type\":\"scatter\"},{\"customdata\":[[2854039]],\"hovertemplate\":\"Genre=%{x}<br>Year=2018<br>No_of_Apps=%{marker.size}<br>Users=%{customdata[0]}<extra></extra>\",\"ids\":[5829],\"legendgroup\":\"Entertainment\",\"marker\":{\"color\":\"#ab63fa\",\"size\":[5829],\"sizemode\":\"area\",\"sizeref\":76.0825,\"symbol\":\"circle\"},\"mode\":\"markers\",\"name\":\"Entertainment\",\"orientation\":\"v\",\"showlegend\":true,\"x\":[\"Entertainment\"],\"xaxis\":\"x\",\"y\":[5829],\"yaxis\":\"y\",\"type\":\"scatter\"},{\"customdata\":[[1681831]],\"hovertemplate\":\"Genre=%{x}<br>Year=2018<br>No_of_Apps=%{marker.size}<br>Users=%{customdata[0]}<extra></extra>\",\"ids\":[5311],\"legendgroup\":\"Finance\",\"marker\":{\"color\":\"#FFA15A\",\"size\":[5311],\"sizemode\":\"area\",\"sizeref\":76.0825,\"symbol\":\"circle\"},\"mode\":\"markers\",\"name\":\"Finance\",\"orientation\":\"v\",\"showlegend\":true,\"x\":[\"Finance\"],\"xaxis\":\"x\",\"y\":[5311],\"yaxis\":\"y\",\"type\":\"scatter\"},{\"customdata\":[[1290402]],\"hovertemplate\":\"Genre=%{x}<br>Year=2018<br>No_of_Apps=%{marker.size}<br>Users=%{customdata[0]}<extra></extra>\",\"ids\":[7126],\"legendgroup\":\"Food & Drink\",\"marker\":{\"color\":\"#19d3f3\",\"size\":[7126],\"sizemode\":\"area\",\"sizeref\":76.0825,\"symbol\":\"circle\"},\"mode\":\"markers\",\"name\":\"Food & Drink\",\"orientation\":\"v\",\"showlegend\":true,\"x\":[\"Food & Drink\"],\"xaxis\":\"x\",\"y\":[7126],\"yaxis\":\"y\",\"type\":\"scatter\"},{\"customdata\":[[51088732]],\"hovertemplate\":\"Genre=%{x}<br>Year=2018<br>No_of_Apps=%{marker.size}<br>Users=%{customdata[0]}<extra></extra>\",\"ids\":[19621],\"legendgroup\":\"Games\",\"marker\":{\"color\":\"#FF6692\",\"size\":[19621],\"sizemode\":\"area\",\"sizeref\":76.0825,\"symbol\":\"circle\"},\"mode\":\"markers\",\"name\":\"Games\",\"orientation\":\"v\",\"showlegend\":true,\"x\":[\"Games\"],\"xaxis\":\"x\",\"y\":[19621],\"yaxis\":\"y\",\"type\":\"scatter\"},{\"customdata\":[[1598222]],\"hovertemplate\":\"Genre=%{x}<br>Year=2018<br>No_of_Apps=%{marker.size}<br>Users=%{customdata[0]}<extra></extra>\",\"ids\":[6668],\"legendgroup\":\"Health & Fitness\",\"marker\":{\"color\":\"#B6E880\",\"size\":[6668],\"sizemode\":\"area\",\"sizeref\":76.0825,\"symbol\":\"circle\"},\"mode\":\"markers\",\"name\":\"Health & Fitness\",\"orientation\":\"v\",\"showlegend\":true,\"x\":[\"Health & Fitness\"],\"xaxis\":\"x\",\"y\":[6668],\"yaxis\":\"y\",\"type\":\"scatter\"},{\"customdata\":[[1454652]],\"hovertemplate\":\"Genre=%{x}<br>Year=2018<br>No_of_Apps=%{marker.size}<br>Users=%{customdata[0]}<extra></extra>\",\"ids\":[9770],\"legendgroup\":\"Lifestyle\",\"marker\":{\"color\":\"#FF97FF\",\"size\":[9770],\"sizemode\":\"area\",\"sizeref\":76.0825,\"symbol\":\"circle\"},\"mode\":\"markers\",\"name\":\"Lifestyle\",\"orientation\":\"v\",\"showlegend\":true,\"x\":[\"Lifestyle\"],\"xaxis\":\"x\",\"y\":[9770],\"yaxis\":\"y\",\"type\":\"scatter\"},{\"customdata\":[[314580]],\"hovertemplate\":\"Genre=%{x}<br>Year=2018<br>No_of_Apps=%{marker.size}<br>Users=%{customdata[0]}<extra></extra>\",\"ids\":[3293],\"legendgroup\":\"Medical\",\"marker\":{\"color\":\"#FECB52\",\"size\":[3293],\"sizemode\":\"area\",\"sizeref\":76.0825,\"symbol\":\"circle\"},\"mode\":\"markers\",\"name\":\"Medical\",\"orientation\":\"v\",\"showlegend\":true,\"x\":[\"Medical\"],\"xaxis\":\"x\",\"y\":[3293],\"yaxis\":\"y\",\"type\":\"scatter\"},{\"customdata\":[[687097]],\"hovertemplate\":\"Genre=%{x}<br>Year=2018<br>No_of_Apps=%{marker.size}<br>Users=%{customdata[0]}<extra></extra>\",\"ids\":[2783],\"legendgroup\":\"Music\",\"marker\":{\"color\":\"#636efa\",\"size\":[2783],\"sizemode\":\"area\",\"sizeref\":76.0825,\"symbol\":\"circle\"},\"mode\":\"markers\",\"name\":\"Music\",\"orientation\":\"v\",\"showlegend\":true,\"x\":[\"Music\"],\"xaxis\":\"x\",\"y\":[2783],\"yaxis\":\"y\",\"type\":\"scatter\"},{\"customdata\":[[156513]],\"hovertemplate\":\"Genre=%{x}<br>Year=2018<br>No_of_Apps=%{marker.size}<br>Users=%{customdata[0]}<extra></extra>\",\"ids\":[1362],\"legendgroup\":\"Navigation\",\"marker\":{\"color\":\"#EF553B\",\"size\":[1362],\"sizemode\":\"area\",\"sizeref\":76.0825,\"symbol\":\"circle\"},\"mode\":\"markers\",\"name\":\"Navigation\",\"orientation\":\"v\",\"showlegend\":true,\"x\":[\"Navigation\"],\"xaxis\":\"x\",\"y\":[1362],\"yaxis\":\"y\",\"type\":\"scatter\"},{\"customdata\":[[169098]],\"hovertemplate\":\"Genre=%{x}<br>Year=2018<br>No_of_Apps=%{marker.size}<br>Users=%{customdata[0]}<extra></extra>\",\"ids\":[1953],\"legendgroup\":\"News\",\"marker\":{\"color\":\"#00cc96\",\"size\":[1953],\"sizemode\":\"area\",\"sizeref\":76.0825,\"symbol\":\"circle\"},\"mode\":\"markers\",\"name\":\"News\",\"orientation\":\"v\",\"showlegend\":true,\"x\":[\"News\"],\"xaxis\":\"x\",\"y\":[1953],\"yaxis\":\"y\",\"type\":\"scatter\"},{\"customdata\":[[2559876]],\"hovertemplate\":\"Genre=%{x}<br>Year=2018<br>No_of_Apps=%{marker.size}<br>Users=%{customdata[0]}<extra></extra>\",\"ids\":[2663],\"legendgroup\":\"Photo & Video\",\"marker\":{\"color\":\"#ab63fa\",\"size\":[2663],\"sizemode\":\"area\",\"sizeref\":76.0825,\"symbol\":\"circle\"},\"mode\":\"markers\",\"name\":\"Photo & Video\",\"orientation\":\"v\",\"showlegend\":true,\"x\":[\"Photo & Video\"],\"xaxis\":\"x\",\"y\":[2663],\"yaxis\":\"y\",\"type\":\"scatter\"},{\"customdata\":[[2364084]],\"hovertemplate\":\"Genre=%{x}<br>Year=2018<br>No_of_Apps=%{marker.size}<br>Users=%{customdata[0]}<extra></extra>\",\"ids\":[6890],\"legendgroup\":\"Productivity\",\"marker\":{\"color\":\"#FFA15A\",\"size\":[6890],\"sizemode\":\"area\",\"sizeref\":76.0825,\"symbol\":\"circle\"},\"mode\":\"markers\",\"name\":\"Productivity\",\"orientation\":\"v\",\"showlegend\":true,\"x\":[\"Productivity\"],\"xaxis\":\"x\",\"y\":[6890],\"yaxis\":\"y\",\"type\":\"scatter\"},{\"customdata\":[[792323]],\"hovertemplate\":\"Genre=%{x}<br>Year=2018<br>No_of_Apps=%{marker.size}<br>Users=%{customdata[0]}<extra></extra>\",\"ids\":[1943],\"legendgroup\":\"Reference\",\"marker\":{\"color\":\"#19d3f3\",\"size\":[1943],\"sizemode\":\"area\",\"sizeref\":76.0825,\"symbol\":\"circle\"},\"mode\":\"markers\",\"name\":\"Reference\",\"orientation\":\"v\",\"showlegend\":true,\"x\":[\"Reference\"],\"xaxis\":\"x\",\"y\":[1943],\"yaxis\":\"y\",\"type\":\"scatter\"},{\"customdata\":[[2310557]],\"hovertemplate\":\"Genre=%{x}<br>Year=2018<br>No_of_Apps=%{marker.size}<br>Users=%{customdata[0]}<extra></extra>\",\"ids\":[3799],\"legendgroup\":\"Shopping\",\"marker\":{\"color\":\"#FF6692\",\"size\":[3799],\"sizemode\":\"area\",\"sizeref\":76.0825,\"symbol\":\"circle\"},\"mode\":\"markers\",\"name\":\"Shopping\",\"orientation\":\"v\",\"showlegend\":true,\"x\":[\"Shopping\"],\"xaxis\":\"x\",\"y\":[3799],\"yaxis\":\"y\",\"type\":\"scatter\"},{\"customdata\":[[1148988]],\"hovertemplate\":\"Genre=%{x}<br>Year=2018<br>No_of_Apps=%{marker.size}<br>Users=%{customdata[0]}<extra></extra>\",\"ids\":[2791],\"legendgroup\":\"Social Networking\",\"marker\":{\"color\":\"#B6E880\",\"size\":[2791],\"sizemode\":\"area\",\"sizeref\":76.0825,\"symbol\":\"circle\"},\"mode\":\"markers\",\"name\":\"Social Networking\",\"orientation\":\"v\",\"showlegend\":true,\"x\":[\"Social Networking\"],\"xaxis\":\"x\",\"y\":[2791],\"yaxis\":\"y\",\"type\":\"scatter\"},{\"customdata\":[[1036771]],\"hovertemplate\":\"Genre=%{x}<br>Year=2018<br>No_of_Apps=%{marker.size}<br>Users=%{customdata[0]}<extra></extra>\",\"ids\":[3447],\"legendgroup\":\"Sports\",\"marker\":{\"color\":\"#FF97FF\",\"size\":[3447],\"sizemode\":\"area\",\"sizeref\":76.0825,\"symbol\":\"circle\"},\"mode\":\"markers\",\"name\":\"Sports\",\"orientation\":\"v\",\"showlegend\":true,\"x\":[\"Sports\"],\"xaxis\":\"x\",\"y\":[3447],\"yaxis\":\"y\",\"type\":\"scatter\"},{\"customdata\":[[787223]],\"hovertemplate\":\"Genre=%{x}<br>Year=2018<br>No_of_Apps=%{marker.size}<br>Users=%{customdata[0]}<extra></extra>\",\"ids\":[4883],\"legendgroup\":\"Travel\",\"marker\":{\"color\":\"#FECB52\",\"size\":[4883],\"sizemode\":\"area\",\"sizeref\":76.0825,\"symbol\":\"circle\"},\"mode\":\"markers\",\"name\":\"Travel\",\"orientation\":\"v\",\"showlegend\":true,\"x\":[\"Travel\"],\"xaxis\":\"x\",\"y\":[4883],\"yaxis\":\"y\",\"type\":\"scatter\"},{\"customdata\":[[1720005]],\"hovertemplate\":\"Genre=%{x}<br>Year=2018<br>No_of_Apps=%{marker.size}<br>Users=%{customdata[0]}<extra></extra>\",\"ids\":[11278],\"legendgroup\":\"Utilities\",\"marker\":{\"color\":\"#636efa\",\"size\":[11278],\"sizemode\":\"area\",\"sizeref\":76.0825,\"symbol\":\"circle\"},\"mode\":\"markers\",\"name\":\"Utilities\",\"orientation\":\"v\",\"showlegend\":true,\"x\":[\"Utilities\"],\"xaxis\":\"x\",\"y\":[11278],\"yaxis\":\"y\",\"type\":\"scatter\"},{\"customdata\":[[336423]],\"hovertemplate\":\"Genre=%{x}<br>Year=2018<br>No_of_Apps=%{marker.size}<br>Users=%{customdata[0]}<extra></extra>\",\"ids\":[304],\"legendgroup\":\"Weather\",\"marker\":{\"color\":\"#EF553B\",\"size\":[304],\"sizemode\":\"area\",\"sizeref\":76.0825,\"symbol\":\"circle\"},\"mode\":\"markers\",\"name\":\"Weather\",\"orientation\":\"v\",\"showlegend\":true,\"x\":[\"Weather\"],\"xaxis\":\"x\",\"y\":[304],\"yaxis\":\"y\",\"type\":\"scatter\"},{\"customdata\":[[96403]],\"hovertemplate\":\"Genre=%{x}<br>Year=2018<br>No_of_Apps=%{marker.size}<br>Users=%{customdata[0]}<extra></extra>\",\"ids\":[158],\"legendgroup\":\"Graphics & Design\",\"marker\":{\"color\":\"#00cc96\",\"size\":[158],\"sizemode\":\"area\",\"sizeref\":76.0825,\"symbol\":\"circle\"},\"mode\":\"markers\",\"name\":\"Graphics & Design\",\"orientation\":\"v\",\"showlegend\":true,\"x\":[\"Graphics & Design\"],\"xaxis\":\"x\",\"y\":[158],\"yaxis\":\"y\",\"type\":\"scatter\"},{\"customdata\":[[4143]],\"hovertemplate\":\"Genre=%{x}<br>Year=2018<br>No_of_Apps=%{marker.size}<br>Users=%{customdata[0]}<extra></extra>\",\"ids\":[127],\"legendgroup\":\"Magazines & Newspapers\",\"marker\":{\"color\":\"#ab63fa\",\"size\":[127],\"sizemode\":\"area\",\"sizeref\":76.0825,\"symbol\":\"circle\"},\"mode\":\"markers\",\"name\":\"Magazines & Newspapers\",\"orientation\":\"v\",\"showlegend\":true,\"x\":[\"Magazines & Newspapers\"],\"xaxis\":\"x\",\"y\":[127],\"yaxis\":\"y\",\"type\":\"scatter\"},{\"customdata\":[[17611]],\"hovertemplate\":\"Genre=%{x}<br>Year=2018<br>No_of_Apps=%{marker.size}<br>Users=%{customdata[0]}<extra></extra>\",\"ids\":[144],\"legendgroup\":\"Developer Tools\",\"marker\":{\"color\":\"#FFA15A\",\"size\":[144],\"sizemode\":\"area\",\"sizeref\":76.0825,\"symbol\":\"circle\"},\"mode\":\"markers\",\"name\":\"Developer Tools\",\"orientation\":\"v\",\"showlegend\":true,\"x\":[\"Developer Tools\"],\"xaxis\":\"x\",\"y\":[144],\"yaxis\":\"y\",\"type\":\"scatter\"},{\"customdata\":[[7935]],\"hovertemplate\":\"Genre=%{x}<br>Year=2018<br>No_of_Apps=%{marker.size}<br>Users=%{customdata[0]}<extra></extra>\",\"ids\":[2629],\"legendgroup\":\"Stickers\",\"marker\":{\"color\":\"#19d3f3\",\"size\":[2629],\"sizemode\":\"area\",\"sizeref\":76.0825,\"symbol\":\"circle\"},\"mode\":\"markers\",\"name\":\"Stickers\",\"orientation\":\"v\",\"showlegend\":true,\"x\":[\"Stickers\"],\"xaxis\":\"x\",\"y\":[2629],\"yaxis\":\"y\",\"type\":\"scatter\"}],\"name\":\"2018\"},{\"data\":[{\"customdata\":[[128886]],\"hovertemplate\":\"Genre=%{x}<br>Year=2019<br>No_of_Apps=%{marker.size}<br>Users=%{customdata[0]}<extra></extra>\",\"ids\":[1025],\"legendgroup\":\"Book\",\"marker\":{\"color\":\"#636efa\",\"size\":[1025],\"sizemode\":\"area\",\"sizeref\":76.0825,\"symbol\":\"circle\"},\"mode\":\"markers\",\"name\":\"Book\",\"orientation\":\"v\",\"showlegend\":true,\"x\":[\"Book\"],\"xaxis\":\"x\",\"y\":[1025],\"yaxis\":\"y\",\"type\":\"scatter\"},{\"customdata\":[[2711935]],\"hovertemplate\":\"Genre=%{x}<br>Year=2019<br>No_of_Apps=%{marker.size}<br>Users=%{customdata[0]}<extra></extra>\",\"ids\":[22125],\"legendgroup\":\"Business\",\"marker\":{\"color\":\"#EF553B\",\"size\":[22125],\"sizemode\":\"area\",\"sizeref\":76.0825,\"symbol\":\"circle\"},\"mode\":\"markers\",\"name\":\"Business\",\"orientation\":\"v\",\"showlegend\":true,\"x\":[\"Business\"],\"xaxis\":\"x\",\"y\":[22125],\"yaxis\":\"y\",\"type\":\"scatter\"},{\"customdata\":[[1044475]],\"hovertemplate\":\"Genre=%{x}<br>Year=2019<br>No_of_Apps=%{marker.size}<br>Users=%{customdata[0]}<extra></extra>\",\"ids\":[16244],\"legendgroup\":\"Education\",\"marker\":{\"color\":\"#00cc96\",\"size\":[16244],\"sizemode\":\"area\",\"sizeref\":76.0825,\"symbol\":\"circle\"},\"mode\":\"markers\",\"name\":\"Education\",\"orientation\":\"v\",\"showlegend\":true,\"x\":[\"Education\"],\"xaxis\":\"x\",\"y\":[16244],\"yaxis\":\"y\",\"type\":\"scatter\"},{\"customdata\":[[2141172]],\"hovertemplate\":\"Genre=%{x}<br>Year=2019<br>No_of_Apps=%{marker.size}<br>Users=%{customdata[0]}<extra></extra>\",\"ids\":[6918],\"legendgroup\":\"Entertainment\",\"marker\":{\"color\":\"#ab63fa\",\"size\":[6918],\"sizemode\":\"area\",\"sizeref\":76.0825,\"symbol\":\"circle\"},\"mode\":\"markers\",\"name\":\"Entertainment\",\"orientation\":\"v\",\"showlegend\":true,\"x\":[\"Entertainment\"],\"xaxis\":\"x\",\"y\":[6918],\"yaxis\":\"y\",\"type\":\"scatter\"},{\"customdata\":[[10628926]],\"hovertemplate\":\"Genre=%{x}<br>Year=2019<br>No_of_Apps=%{marker.size}<br>Users=%{customdata[0]}<extra></extra>\",\"ids\":[6226],\"legendgroup\":\"Finance\",\"marker\":{\"color\":\"#FFA15A\",\"size\":[6226],\"sizemode\":\"area\",\"sizeref\":76.0825,\"symbol\":\"circle\"},\"mode\":\"markers\",\"name\":\"Finance\",\"orientation\":\"v\",\"showlegend\":true,\"x\":[\"Finance\"],\"xaxis\":\"x\",\"y\":[6226],\"yaxis\":\"y\",\"type\":\"scatter\"},{\"customdata\":[[791750]],\"hovertemplate\":\"Genre=%{x}<br>Year=2019<br>No_of_Apps=%{marker.size}<br>Users=%{customdata[0]}<extra></extra>\",\"ids\":[7424],\"legendgroup\":\"Food & Drink\",\"marker\":{\"color\":\"#19d3f3\",\"size\":[7424],\"sizemode\":\"area\",\"sizeref\":76.0825,\"symbol\":\"circle\"},\"mode\":\"markers\",\"name\":\"Food & Drink\",\"orientation\":\"v\",\"showlegend\":true,\"x\":[\"Food & Drink\"],\"xaxis\":\"x\",\"y\":[7424],\"yaxis\":\"y\",\"type\":\"scatter\"},{\"customdata\":[[44600805]],\"hovertemplate\":\"Genre=%{x}<br>Year=2019<br>No_of_Apps=%{marker.size}<br>Users=%{customdata[0]}<extra></extra>\",\"ids\":[20897],\"legendgroup\":\"Games\",\"marker\":{\"color\":\"#FF6692\",\"size\":[20897],\"sizemode\":\"area\",\"sizeref\":76.0825,\"symbol\":\"circle\"},\"mode\":\"markers\",\"name\":\"Games\",\"orientation\":\"v\",\"showlegend\":true,\"x\":[\"Games\"],\"xaxis\":\"x\",\"y\":[20897],\"yaxis\":\"y\",\"type\":\"scatter\"},{\"customdata\":[[2350369]],\"hovertemplate\":\"Genre=%{x}<br>Year=2019<br>No_of_Apps=%{marker.size}<br>Users=%{customdata[0]}<extra></extra>\",\"ids\":[8780],\"legendgroup\":\"Health & Fitness\",\"marker\":{\"color\":\"#B6E880\",\"size\":[8780],\"sizemode\":\"area\",\"sizeref\":76.0825,\"symbol\":\"circle\"},\"mode\":\"markers\",\"name\":\"Health & Fitness\",\"orientation\":\"v\",\"showlegend\":true,\"x\":[\"Health & Fitness\"],\"xaxis\":\"x\",\"y\":[8780],\"yaxis\":\"y\",\"type\":\"scatter\"},{\"customdata\":[[2742861]],\"hovertemplate\":\"Genre=%{x}<br>Year=2019<br>No_of_Apps=%{marker.size}<br>Users=%{customdata[0]}<extra></extra>\",\"ids\":[12603],\"legendgroup\":\"Lifestyle\",\"marker\":{\"color\":\"#FF97FF\",\"size\":[12603],\"sizemode\":\"area\",\"sizeref\":76.0825,\"symbol\":\"circle\"},\"mode\":\"markers\",\"name\":\"Lifestyle\",\"orientation\":\"v\",\"showlegend\":true,\"x\":[\"Lifestyle\"],\"xaxis\":\"x\",\"y\":[12603],\"yaxis\":\"y\",\"type\":\"scatter\"},{\"customdata\":[[256710]],\"hovertemplate\":\"Genre=%{x}<br>Year=2019<br>No_of_Apps=%{marker.size}<br>Users=%{customdata[0]}<extra></extra>\",\"ids\":[3887],\"legendgroup\":\"Medical\",\"marker\":{\"color\":\"#FECB52\",\"size\":[3887],\"sizemode\":\"area\",\"sizeref\":76.0825,\"symbol\":\"circle\"},\"mode\":\"markers\",\"name\":\"Medical\",\"orientation\":\"v\",\"showlegend\":true,\"x\":[\"Medical\"],\"xaxis\":\"x\",\"y\":[3887],\"yaxis\":\"y\",\"type\":\"scatter\"},{\"customdata\":[[15626682]],\"hovertemplate\":\"Genre=%{x}<br>Year=2019<br>No_of_Apps=%{marker.size}<br>Users=%{customdata[0]}<extra></extra>\",\"ids\":[3370],\"legendgroup\":\"Music\",\"marker\":{\"color\":\"#636efa\",\"size\":[3370],\"sizemode\":\"area\",\"sizeref\":76.0825,\"symbol\":\"circle\"},\"mode\":\"markers\",\"name\":\"Music\",\"orientation\":\"v\",\"showlegend\":true,\"x\":[\"Music\"],\"xaxis\":\"x\",\"y\":[3370],\"yaxis\":\"y\",\"type\":\"scatter\"},{\"customdata\":[[80647]],\"hovertemplate\":\"Genre=%{x}<br>Year=2019<br>No_of_Apps=%{marker.size}<br>Users=%{customdata[0]}<extra></extra>\",\"ids\":[1671],\"legendgroup\":\"Navigation\",\"marker\":{\"color\":\"#EF553B\",\"size\":[1671],\"sizemode\":\"area\",\"sizeref\":76.0825,\"symbol\":\"circle\"},\"mode\":\"markers\",\"name\":\"Navigation\",\"orientation\":\"v\",\"showlegend\":true,\"x\":[\"Navigation\"],\"xaxis\":\"x\",\"y\":[1671],\"yaxis\":\"y\",\"type\":\"scatter\"},{\"customdata\":[[421265]],\"hovertemplate\":\"Genre=%{x}<br>Year=2019<br>No_of_Apps=%{marker.size}<br>Users=%{customdata[0]}<extra></extra>\",\"ids\":[2432],\"legendgroup\":\"News\",\"marker\":{\"color\":\"#00cc96\",\"size\":[2432],\"sizemode\":\"area\",\"sizeref\":76.0825,\"symbol\":\"circle\"},\"mode\":\"markers\",\"name\":\"News\",\"orientation\":\"v\",\"showlegend\":true,\"x\":[\"News\"],\"xaxis\":\"x\",\"y\":[2432],\"yaxis\":\"y\",\"type\":\"scatter\"},{\"customdata\":[[1407722]],\"hovertemplate\":\"Genre=%{x}<br>Year=2019<br>No_of_Apps=%{marker.size}<br>Users=%{customdata[0]}<extra></extra>\",\"ids\":[2635],\"legendgroup\":\"Photo & Video\",\"marker\":{\"color\":\"#ab63fa\",\"size\":[2635],\"sizemode\":\"area\",\"sizeref\":76.0825,\"symbol\":\"circle\"},\"mode\":\"markers\",\"name\":\"Photo & Video\",\"orientation\":\"v\",\"showlegend\":true,\"x\":[\"Photo & Video\"],\"xaxis\":\"x\",\"y\":[2635],\"yaxis\":\"y\",\"type\":\"scatter\"},{\"customdata\":[[1520952]],\"hovertemplate\":\"Genre=%{x}<br>Year=2019<br>No_of_Apps=%{marker.size}<br>Users=%{customdata[0]}<extra></extra>\",\"ids\":[9264],\"legendgroup\":\"Productivity\",\"marker\":{\"color\":\"#FFA15A\",\"size\":[9264],\"sizemode\":\"area\",\"sizeref\":76.0825,\"symbol\":\"circle\"},\"mode\":\"markers\",\"name\":\"Productivity\",\"orientation\":\"v\",\"showlegend\":true,\"x\":[\"Productivity\"],\"xaxis\":\"x\",\"y\":[9264],\"yaxis\":\"y\",\"type\":\"scatter\"},{\"customdata\":[[7609113]],\"hovertemplate\":\"Genre=%{x}<br>Year=2019<br>No_of_Apps=%{marker.size}<br>Users=%{customdata[0]}<extra></extra>\",\"ids\":[2227],\"legendgroup\":\"Reference\",\"marker\":{\"color\":\"#19d3f3\",\"size\":[2227],\"sizemode\":\"area\",\"sizeref\":76.0825,\"symbol\":\"circle\"},\"mode\":\"markers\",\"name\":\"Reference\",\"orientation\":\"v\",\"showlegend\":true,\"x\":[\"Reference\"],\"xaxis\":\"x\",\"y\":[2227],\"yaxis\":\"y\",\"type\":\"scatter\"},{\"customdata\":[[1050224]],\"hovertemplate\":\"Genre=%{x}<br>Year=2019<br>No_of_Apps=%{marker.size}<br>Users=%{customdata[0]}<extra></extra>\",\"ids\":[6113],\"legendgroup\":\"Shopping\",\"marker\":{\"color\":\"#FF6692\",\"size\":[6113],\"sizemode\":\"area\",\"sizeref\":76.0825,\"symbol\":\"circle\"},\"mode\":\"markers\",\"name\":\"Shopping\",\"orientation\":\"v\",\"showlegend\":true,\"x\":[\"Shopping\"],\"xaxis\":\"x\",\"y\":[6113],\"yaxis\":\"y\",\"type\":\"scatter\"},{\"customdata\":[[3000198]],\"hovertemplate\":\"Genre=%{x}<br>Year=2019<br>No_of_Apps=%{marker.size}<br>Users=%{customdata[0]}<extra></extra>\",\"ids\":[3778],\"legendgroup\":\"Social Networking\",\"marker\":{\"color\":\"#B6E880\",\"size\":[3778],\"sizemode\":\"area\",\"sizeref\":76.0825,\"symbol\":\"circle\"},\"mode\":\"markers\",\"name\":\"Social Networking\",\"orientation\":\"v\",\"showlegend\":true,\"x\":[\"Social Networking\"],\"xaxis\":\"x\",\"y\":[3778],\"yaxis\":\"y\",\"type\":\"scatter\"},{\"customdata\":[[753213]],\"hovertemplate\":\"Genre=%{x}<br>Year=2019<br>No_of_Apps=%{marker.size}<br>Users=%{customdata[0]}<extra></extra>\",\"ids\":[4262],\"legendgroup\":\"Sports\",\"marker\":{\"color\":\"#FF97FF\",\"size\":[4262],\"sizemode\":\"area\",\"sizeref\":76.0825,\"symbol\":\"circle\"},\"mode\":\"markers\",\"name\":\"Sports\",\"orientation\":\"v\",\"showlegend\":true,\"x\":[\"Sports\"],\"xaxis\":\"x\",\"y\":[4262],\"yaxis\":\"y\",\"type\":\"scatter\"},{\"customdata\":[[2452407]],\"hovertemplate\":\"Genre=%{x}<br>Year=2019<br>No_of_Apps=%{marker.size}<br>Users=%{customdata[0]}<extra></extra>\",\"ids\":[6527],\"legendgroup\":\"Travel\",\"marker\":{\"color\":\"#FECB52\",\"size\":[6527],\"sizemode\":\"area\",\"sizeref\":76.0825,\"symbol\":\"circle\"},\"mode\":\"markers\",\"name\":\"Travel\",\"orientation\":\"v\",\"showlegend\":true,\"x\":[\"Travel\"],\"xaxis\":\"x\",\"y\":[6527],\"yaxis\":\"y\",\"type\":\"scatter\"},{\"customdata\":[[2312482]],\"hovertemplate\":\"Genre=%{x}<br>Year=2019<br>No_of_Apps=%{marker.size}<br>Users=%{customdata[0]}<extra></extra>\",\"ids\":[14457],\"legendgroup\":\"Utilities\",\"marker\":{\"color\":\"#636efa\",\"size\":[14457],\"sizemode\":\"area\",\"sizeref\":76.0825,\"symbol\":\"circle\"},\"mode\":\"markers\",\"name\":\"Utilities\",\"orientation\":\"v\",\"showlegend\":true,\"x\":[\"Utilities\"],\"xaxis\":\"x\",\"y\":[14457],\"yaxis\":\"y\",\"type\":\"scatter\"},{\"customdata\":[[1029080]],\"hovertemplate\":\"Genre=%{x}<br>Year=2019<br>No_of_Apps=%{marker.size}<br>Users=%{customdata[0]}<extra></extra>\",\"ids\":[323],\"legendgroup\":\"Weather\",\"marker\":{\"color\":\"#EF553B\",\"size\":[323],\"sizemode\":\"area\",\"sizeref\":76.0825,\"symbol\":\"circle\"},\"mode\":\"markers\",\"name\":\"Weather\",\"orientation\":\"v\",\"showlegend\":true,\"x\":[\"Weather\"],\"xaxis\":\"x\",\"y\":[323],\"yaxis\":\"y\",\"type\":\"scatter\"},{\"customdata\":[[170207]],\"hovertemplate\":\"Genre=%{x}<br>Year=2019<br>No_of_Apps=%{marker.size}<br>Users=%{customdata[0]}<extra></extra>\",\"ids\":[148],\"legendgroup\":\"Graphics & Design\",\"marker\":{\"color\":\"#00cc96\",\"size\":[148],\"sizemode\":\"area\",\"sizeref\":76.0825,\"symbol\":\"circle\"},\"mode\":\"markers\",\"name\":\"Graphics & Design\",\"orientation\":\"v\",\"showlegend\":true,\"x\":[\"Graphics & Design\"],\"xaxis\":\"x\",\"y\":[148],\"yaxis\":\"y\",\"type\":\"scatter\"},{\"customdata\":[[653]],\"hovertemplate\":\"Genre=%{x}<br>Year=2019<br>No_of_Apps=%{marker.size}<br>Users=%{customdata[0]}<extra></extra>\",\"ids\":[126],\"legendgroup\":\"Magazines & Newspapers\",\"marker\":{\"color\":\"#ab63fa\",\"size\":[126],\"sizemode\":\"area\",\"sizeref\":76.0825,\"symbol\":\"circle\"},\"mode\":\"markers\",\"name\":\"Magazines & Newspapers\",\"orientation\":\"v\",\"showlegend\":true,\"x\":[\"Magazines & Newspapers\"],\"xaxis\":\"x\",\"y\":[126],\"yaxis\":\"y\",\"type\":\"scatter\"},{\"customdata\":[[3355]],\"hovertemplate\":\"Genre=%{x}<br>Year=2019<br>No_of_Apps=%{marker.size}<br>Users=%{customdata[0]}<extra></extra>\",\"ids\":[185],\"legendgroup\":\"Developer Tools\",\"marker\":{\"color\":\"#FFA15A\",\"size\":[185],\"sizemode\":\"area\",\"sizeref\":76.0825,\"symbol\":\"circle\"},\"mode\":\"markers\",\"name\":\"Developer Tools\",\"orientation\":\"v\",\"showlegend\":true,\"x\":[\"Developer Tools\"],\"xaxis\":\"x\",\"y\":[185],\"yaxis\":\"y\",\"type\":\"scatter\"},{\"customdata\":[[8624]],\"hovertemplate\":\"Genre=%{x}<br>Year=2019<br>No_of_Apps=%{marker.size}<br>Users=%{customdata[0]}<extra></extra>\",\"ids\":[2151],\"legendgroup\":\"Stickers\",\"marker\":{\"color\":\"#19d3f3\",\"size\":[2151],\"sizemode\":\"area\",\"sizeref\":76.0825,\"symbol\":\"circle\"},\"mode\":\"markers\",\"name\":\"Stickers\",\"orientation\":\"v\",\"showlegend\":true,\"x\":[\"Stickers\"],\"xaxis\":\"x\",\"y\":[2151],\"yaxis\":\"y\",\"type\":\"scatter\"}],\"name\":\"2019\"},{\"data\":[{\"customdata\":[[145603]],\"hovertemplate\":\"Genre=%{x}<br>Year=2020<br>No_of_Apps=%{marker.size}<br>Users=%{customdata[0]}<extra></extra>\",\"ids\":[1394],\"legendgroup\":\"Book\",\"marker\":{\"color\":\"#636efa\",\"size\":[1394],\"sizemode\":\"area\",\"sizeref\":76.0825,\"symbol\":\"circle\"},\"mode\":\"markers\",\"name\":\"Book\",\"orientation\":\"v\",\"showlegend\":true,\"x\":[\"Book\"],\"xaxis\":\"x\",\"y\":[1394],\"yaxis\":\"y\",\"type\":\"scatter\"},{\"customdata\":[[431036]],\"hovertemplate\":\"Genre=%{x}<br>Year=2020<br>No_of_Apps=%{marker.size}<br>Users=%{customdata[0]}<extra></extra>\",\"ids\":[25833],\"legendgroup\":\"Business\",\"marker\":{\"color\":\"#EF553B\",\"size\":[25833],\"sizemode\":\"area\",\"sizeref\":76.0825,\"symbol\":\"circle\"},\"mode\":\"markers\",\"name\":\"Business\",\"orientation\":\"v\",\"showlegend\":true,\"x\":[\"Business\"],\"xaxis\":\"x\",\"y\":[25833],\"yaxis\":\"y\",\"type\":\"scatter\"},{\"customdata\":[[488580]],\"hovertemplate\":\"Genre=%{x}<br>Year=2020<br>No_of_Apps=%{marker.size}<br>Users=%{customdata[0]}<extra></extra>\",\"ids\":[19686],\"legendgroup\":\"Education\",\"marker\":{\"color\":\"#00cc96\",\"size\":[19686],\"sizemode\":\"area\",\"sizeref\":76.0825,\"symbol\":\"circle\"},\"mode\":\"markers\",\"name\":\"Education\",\"orientation\":\"v\",\"showlegend\":true,\"x\":[\"Education\"],\"xaxis\":\"x\",\"y\":[19686],\"yaxis\":\"y\",\"type\":\"scatter\"},{\"customdata\":[[1357196]],\"hovertemplate\":\"Genre=%{x}<br>Year=2020<br>No_of_Apps=%{marker.size}<br>Users=%{customdata[0]}<extra></extra>\",\"ids\":[8367],\"legendgroup\":\"Entertainment\",\"marker\":{\"color\":\"#ab63fa\",\"size\":[8367],\"sizemode\":\"area\",\"sizeref\":76.0825,\"symbol\":\"circle\"},\"mode\":\"markers\",\"name\":\"Entertainment\",\"orientation\":\"v\",\"showlegend\":true,\"x\":[\"Entertainment\"],\"xaxis\":\"x\",\"y\":[8367],\"yaxis\":\"y\",\"type\":\"scatter\"},{\"customdata\":[[689955]],\"hovertemplate\":\"Genre=%{x}<br>Year=2020<br>No_of_Apps=%{marker.size}<br>Users=%{customdata[0]}<extra></extra>\",\"ids\":[7899],\"legendgroup\":\"Finance\",\"marker\":{\"color\":\"#FFA15A\",\"size\":[7899],\"sizemode\":\"area\",\"sizeref\":76.0825,\"symbol\":\"circle\"},\"mode\":\"markers\",\"name\":\"Finance\",\"orientation\":\"v\",\"showlegend\":true,\"x\":[\"Finance\"],\"xaxis\":\"x\",\"y\":[7899],\"yaxis\":\"y\",\"type\":\"scatter\"},{\"customdata\":[[307199]],\"hovertemplate\":\"Genre=%{x}<br>Year=2020<br>No_of_Apps=%{marker.size}<br>Users=%{customdata[0]}<extra></extra>\",\"ids\":[17944],\"legendgroup\":\"Food & Drink\",\"marker\":{\"color\":\"#19d3f3\",\"size\":[17944],\"sizemode\":\"area\",\"sizeref\":76.0825,\"symbol\":\"circle\"},\"mode\":\"markers\",\"name\":\"Food & Drink\",\"orientation\":\"v\",\"showlegend\":true,\"x\":[\"Food & Drink\"],\"xaxis\":\"x\",\"y\":[17944],\"yaxis\":\"y\",\"type\":\"scatter\"},{\"customdata\":[[31382595]],\"hovertemplate\":\"Genre=%{x}<br>Year=2020<br>No_of_Apps=%{marker.size}<br>Users=%{customdata[0]}<extra></extra>\",\"ids\":[30433],\"legendgroup\":\"Games\",\"marker\":{\"color\":\"#FF6692\",\"size\":[30433],\"sizemode\":\"area\",\"sizeref\":76.0825,\"symbol\":\"circle\"},\"mode\":\"markers\",\"name\":\"Games\",\"orientation\":\"v\",\"showlegend\":true,\"x\":[\"Games\"],\"xaxis\":\"x\",\"y\":[30433],\"yaxis\":\"y\",\"type\":\"scatter\"},{\"customdata\":[[697936]],\"hovertemplate\":\"Genre=%{x}<br>Year=2020<br>No_of_Apps=%{marker.size}<br>Users=%{customdata[0]}<extra></extra>\",\"ids\":[13952],\"legendgroup\":\"Health & Fitness\",\"marker\":{\"color\":\"#B6E880\",\"size\":[13952],\"sizemode\":\"area\",\"sizeref\":76.0825,\"symbol\":\"circle\"},\"mode\":\"markers\",\"name\":\"Health & Fitness\",\"orientation\":\"v\",\"showlegend\":true,\"x\":[\"Health & Fitness\"],\"xaxis\":\"x\",\"y\":[13952],\"yaxis\":\"y\",\"type\":\"scatter\"},{\"customdata\":[[615503]],\"hovertemplate\":\"Genre=%{x}<br>Year=2020<br>No_of_Apps=%{marker.size}<br>Users=%{customdata[0]}<extra></extra>\",\"ids\":[16768],\"legendgroup\":\"Lifestyle\",\"marker\":{\"color\":\"#FF97FF\",\"size\":[16768],\"sizemode\":\"area\",\"sizeref\":76.0825,\"symbol\":\"circle\"},\"mode\":\"markers\",\"name\":\"Lifestyle\",\"orientation\":\"v\",\"showlegend\":true,\"x\":[\"Lifestyle\"],\"xaxis\":\"x\",\"y\":[16768],\"yaxis\":\"y\",\"type\":\"scatter\"},{\"customdata\":[[184293]],\"hovertemplate\":\"Genre=%{x}<br>Year=2020<br>No_of_Apps=%{marker.size}<br>Users=%{customdata[0]}<extra></extra>\",\"ids\":[5084],\"legendgroup\":\"Medical\",\"marker\":{\"color\":\"#FECB52\",\"size\":[5084],\"sizemode\":\"area\",\"sizeref\":76.0825,\"symbol\":\"circle\"},\"mode\":\"markers\",\"name\":\"Medical\",\"orientation\":\"v\",\"showlegend\":true,\"x\":[\"Medical\"],\"xaxis\":\"x\",\"y\":[5084],\"yaxis\":\"y\",\"type\":\"scatter\"},{\"customdata\":[[443162]],\"hovertemplate\":\"Genre=%{x}<br>Year=2020<br>No_of_Apps=%{marker.size}<br>Users=%{customdata[0]}<extra></extra>\",\"ids\":[4084],\"legendgroup\":\"Music\",\"marker\":{\"color\":\"#636efa\",\"size\":[4084],\"sizemode\":\"area\",\"sizeref\":76.0825,\"symbol\":\"circle\"},\"mode\":\"markers\",\"name\":\"Music\",\"orientation\":\"v\",\"showlegend\":true,\"x\":[\"Music\"],\"xaxis\":\"x\",\"y\":[4084],\"yaxis\":\"y\",\"type\":\"scatter\"},{\"customdata\":[[18925]],\"hovertemplate\":\"Genre=%{x}<br>Year=2020<br>No_of_Apps=%{marker.size}<br>Users=%{customdata[0]}<extra></extra>\",\"ids\":[1873],\"legendgroup\":\"Navigation\",\"marker\":{\"color\":\"#EF553B\",\"size\":[1873],\"sizemode\":\"area\",\"sizeref\":76.0825,\"symbol\":\"circle\"},\"mode\":\"markers\",\"name\":\"Navigation\",\"orientation\":\"v\",\"showlegend\":true,\"x\":[\"Navigation\"],\"xaxis\":\"x\",\"y\":[1873],\"yaxis\":\"y\",\"type\":\"scatter\"},{\"customdata\":[[77482]],\"hovertemplate\":\"Genre=%{x}<br>Year=2020<br>No_of_Apps=%{marker.size}<br>Users=%{customdata[0]}<extra></extra>\",\"ids\":[3038],\"legendgroup\":\"News\",\"marker\":{\"color\":\"#00cc96\",\"size\":[3038],\"sizemode\":\"area\",\"sizeref\":76.0825,\"symbol\":\"circle\"},\"mode\":\"markers\",\"name\":\"News\",\"orientation\":\"v\",\"showlegend\":true,\"x\":[\"News\"],\"xaxis\":\"x\",\"y\":[3038],\"yaxis\":\"y\",\"type\":\"scatter\"},{\"customdata\":[[759453]],\"hovertemplate\":\"Genre=%{x}<br>Year=2020<br>No_of_Apps=%{marker.size}<br>Users=%{customdata[0]}<extra></extra>\",\"ids\":[3054],\"legendgroup\":\"Photo & Video\",\"marker\":{\"color\":\"#ab63fa\",\"size\":[3054],\"sizemode\":\"area\",\"sizeref\":76.0825,\"symbol\":\"circle\"},\"mode\":\"markers\",\"name\":\"Photo & Video\",\"orientation\":\"v\",\"showlegend\":true,\"x\":[\"Photo & Video\"],\"xaxis\":\"x\",\"y\":[3054],\"yaxis\":\"y\",\"type\":\"scatter\"},{\"customdata\":[[804364]],\"hovertemplate\":\"Genre=%{x}<br>Year=2020<br>No_of_Apps=%{marker.size}<br>Users=%{customdata[0]}<extra></extra>\",\"ids\":[12064],\"legendgroup\":\"Productivity\",\"marker\":{\"color\":\"#FFA15A\",\"size\":[12064],\"sizemode\":\"area\",\"sizeref\":76.0825,\"symbol\":\"circle\"},\"mode\":\"markers\",\"name\":\"Productivity\",\"orientation\":\"v\",\"showlegend\":true,\"x\":[\"Productivity\"],\"xaxis\":\"x\",\"y\":[12064],\"yaxis\":\"y\",\"type\":\"scatter\"},{\"customdata\":[[201455]],\"hovertemplate\":\"Genre=%{x}<br>Year=2020<br>No_of_Apps=%{marker.size}<br>Users=%{customdata[0]}<extra></extra>\",\"ids\":[2219],\"legendgroup\":\"Reference\",\"marker\":{\"color\":\"#19d3f3\",\"size\":[2219],\"sizemode\":\"area\",\"sizeref\":76.0825,\"symbol\":\"circle\"},\"mode\":\"markers\",\"name\":\"Reference\",\"orientation\":\"v\",\"showlegend\":true,\"x\":[\"Reference\"],\"xaxis\":\"x\",\"y\":[2219],\"yaxis\":\"y\",\"type\":\"scatter\"},{\"customdata\":[[304420]],\"hovertemplate\":\"Genre=%{x}<br>Year=2020<br>No_of_Apps=%{marker.size}<br>Users=%{customdata[0]}<extra></extra>\",\"ids\":[14709],\"legendgroup\":\"Shopping\",\"marker\":{\"color\":\"#FF6692\",\"size\":[14709],\"sizemode\":\"area\",\"sizeref\":76.0825,\"symbol\":\"circle\"},\"mode\":\"markers\",\"name\":\"Shopping\",\"orientation\":\"v\",\"showlegend\":true,\"x\":[\"Shopping\"],\"xaxis\":\"x\",\"y\":[14709],\"yaxis\":\"y\",\"type\":\"scatter\"},{\"customdata\":[[1262616]],\"hovertemplate\":\"Genre=%{x}<br>Year=2020<br>No_of_Apps=%{marker.size}<br>Users=%{customdata[0]}<extra></extra>\",\"ids\":[5644],\"legendgroup\":\"Social Networking\",\"marker\":{\"color\":\"#B6E880\",\"size\":[5644],\"sizemode\":\"area\",\"sizeref\":76.0825,\"symbol\":\"circle\"},\"mode\":\"markers\",\"name\":\"Social Networking\",\"orientation\":\"v\",\"showlegend\":true,\"x\":[\"Social Networking\"],\"xaxis\":\"x\",\"y\":[5644],\"yaxis\":\"y\",\"type\":\"scatter\"},{\"customdata\":[[93568]],\"hovertemplate\":\"Genre=%{x}<br>Year=2020<br>No_of_Apps=%{marker.size}<br>Users=%{customdata[0]}<extra></extra>\",\"ids\":[5450],\"legendgroup\":\"Sports\",\"marker\":{\"color\":\"#FF97FF\",\"size\":[5450],\"sizemode\":\"area\",\"sizeref\":76.0825,\"symbol\":\"circle\"},\"mode\":\"markers\",\"name\":\"Sports\",\"orientation\":\"v\",\"showlegend\":true,\"x\":[\"Sports\"],\"xaxis\":\"x\",\"y\":[5450],\"yaxis\":\"y\",\"type\":\"scatter\"},{\"customdata\":[[195416]],\"hovertemplate\":\"Genre=%{x}<br>Year=2020<br>No_of_Apps=%{marker.size}<br>Users=%{customdata[0]}<extra></extra>\",\"ids\":[7042],\"legendgroup\":\"Travel\",\"marker\":{\"color\":\"#FECB52\",\"size\":[7042],\"sizemode\":\"area\",\"sizeref\":76.0825,\"symbol\":\"circle\"},\"mode\":\"markers\",\"name\":\"Travel\",\"orientation\":\"v\",\"showlegend\":true,\"x\":[\"Travel\"],\"xaxis\":\"x\",\"y\":[7042],\"yaxis\":\"y\",\"type\":\"scatter\"},{\"customdata\":[[1172388]],\"hovertemplate\":\"Genre=%{x}<br>Year=2020<br>No_of_Apps=%{marker.size}<br>Users=%{customdata[0]}<extra></extra>\",\"ids\":[17863],\"legendgroup\":\"Utilities\",\"marker\":{\"color\":\"#636efa\",\"size\":[17863],\"sizemode\":\"area\",\"sizeref\":76.0825,\"symbol\":\"circle\"},\"mode\":\"markers\",\"name\":\"Utilities\",\"orientation\":\"v\",\"showlegend\":true,\"x\":[\"Utilities\"],\"xaxis\":\"x\",\"y\":[17863],\"yaxis\":\"y\",\"type\":\"scatter\"},{\"customdata\":[[49280]],\"hovertemplate\":\"Genre=%{x}<br>Year=2020<br>No_of_Apps=%{marker.size}<br>Users=%{customdata[0]}<extra></extra>\",\"ids\":[401],\"legendgroup\":\"Weather\",\"marker\":{\"color\":\"#EF553B\",\"size\":[401],\"sizemode\":\"area\",\"sizeref\":76.0825,\"symbol\":\"circle\"},\"mode\":\"markers\",\"name\":\"Weather\",\"orientation\":\"v\",\"showlegend\":true,\"x\":[\"Weather\"],\"xaxis\":\"x\",\"y\":[401],\"yaxis\":\"y\",\"type\":\"scatter\"},{\"customdata\":[[371307]],\"hovertemplate\":\"Genre=%{x}<br>Year=2020<br>No_of_Apps=%{marker.size}<br>Users=%{customdata[0]}<extra></extra>\",\"ids\":[741],\"legendgroup\":\"Graphics & Design\",\"marker\":{\"color\":\"#00cc96\",\"size\":[741],\"sizemode\":\"area\",\"sizeref\":76.0825,\"symbol\":\"circle\"},\"mode\":\"markers\",\"name\":\"Graphics & Design\",\"orientation\":\"v\",\"showlegend\":true,\"x\":[\"Graphics & Design\"],\"xaxis\":\"x\",\"y\":[741],\"yaxis\":\"y\",\"type\":\"scatter\"},{\"customdata\":[[1627]],\"hovertemplate\":\"Genre=%{x}<br>Year=2020<br>No_of_Apps=%{marker.size}<br>Users=%{customdata[0]}<extra></extra>\",\"ids\":[107],\"legendgroup\":\"Magazines & Newspapers\",\"marker\":{\"color\":\"#ab63fa\",\"size\":[107],\"sizemode\":\"area\",\"sizeref\":76.0825,\"symbol\":\"circle\"},\"mode\":\"markers\",\"name\":\"Magazines & Newspapers\",\"orientation\":\"v\",\"showlegend\":true,\"x\":[\"Magazines & Newspapers\"],\"xaxis\":\"x\",\"y\":[107],\"yaxis\":\"y\",\"type\":\"scatter\"},{\"customdata\":[[11527]],\"hovertemplate\":\"Genre=%{x}<br>Year=2020<br>No_of_Apps=%{marker.size}<br>Users=%{customdata[0]}<extra></extra>\",\"ids\":[465],\"legendgroup\":\"Developer Tools\",\"marker\":{\"color\":\"#FFA15A\",\"size\":[465],\"sizemode\":\"area\",\"sizeref\":76.0825,\"symbol\":\"circle\"},\"mode\":\"markers\",\"name\":\"Developer Tools\",\"orientation\":\"v\",\"showlegend\":true,\"x\":[\"Developer Tools\"],\"xaxis\":\"x\",\"y\":[465],\"yaxis\":\"y\",\"type\":\"scatter\"},{\"customdata\":[[10322]],\"hovertemplate\":\"Genre=%{x}<br>Year=2020<br>No_of_Apps=%{marker.size}<br>Users=%{customdata[0]}<extra></extra>\",\"ids\":[1623],\"legendgroup\":\"Stickers\",\"marker\":{\"color\":\"#19d3f3\",\"size\":[1623],\"sizemode\":\"area\",\"sizeref\":76.0825,\"symbol\":\"circle\"},\"mode\":\"markers\",\"name\":\"Stickers\",\"orientation\":\"v\",\"showlegend\":true,\"x\":[\"Stickers\"],\"xaxis\":\"x\",\"y\":[1623],\"yaxis\":\"y\",\"type\":\"scatter\"}],\"name\":\"2020\"},{\"data\":[{\"customdata\":[[34772]],\"hovertemplate\":\"Genre=%{x}<br>Year=2021<br>No_of_Apps=%{marker.size}<br>Users=%{customdata[0]}<extra></extra>\",\"ids\":[1426],\"legendgroup\":\"Book\",\"marker\":{\"color\":\"#636efa\",\"size\":[1426],\"sizemode\":\"area\",\"sizeref\":76.0825,\"symbol\":\"circle\"},\"mode\":\"markers\",\"name\":\"Book\",\"orientation\":\"v\",\"showlegend\":true,\"x\":[\"Book\"],\"xaxis\":\"x\",\"y\":[1426],\"yaxis\":\"y\",\"type\":\"scatter\"},{\"customdata\":[[51419]],\"hovertemplate\":\"Genre=%{x}<br>Year=2021<br>No_of_Apps=%{marker.size}<br>Users=%{customdata[0]}<extra></extra>\",\"ids\":[22952],\"legendgroup\":\"Business\",\"marker\":{\"color\":\"#EF553B\",\"size\":[22952],\"sizemode\":\"area\",\"sizeref\":76.0825,\"symbol\":\"circle\"},\"mode\":\"markers\",\"name\":\"Business\",\"orientation\":\"v\",\"showlegend\":true,\"x\":[\"Business\"],\"xaxis\":\"x\",\"y\":[22952],\"yaxis\":\"y\",\"type\":\"scatter\"},{\"customdata\":[[129716]],\"hovertemplate\":\"Genre=%{x}<br>Year=2021<br>No_of_Apps=%{marker.size}<br>Users=%{customdata[0]}<extra></extra>\",\"ids\":[17596],\"legendgroup\":\"Education\",\"marker\":{\"color\":\"#00cc96\",\"size\":[17596],\"sizemode\":\"area\",\"sizeref\":76.0825,\"symbol\":\"circle\"},\"mode\":\"markers\",\"name\":\"Education\",\"orientation\":\"v\",\"showlegend\":true,\"x\":[\"Education\"],\"xaxis\":\"x\",\"y\":[17596],\"yaxis\":\"y\",\"type\":\"scatter\"},{\"customdata\":[[314085]],\"hovertemplate\":\"Genre=%{x}<br>Year=2021<br>No_of_Apps=%{marker.size}<br>Users=%{customdata[0]}<extra></extra>\",\"ids\":[8035],\"legendgroup\":\"Entertainment\",\"marker\":{\"color\":\"#ab63fa\",\"size\":[8035],\"sizemode\":\"area\",\"sizeref\":76.0825,\"symbol\":\"circle\"},\"mode\":\"markers\",\"name\":\"Entertainment\",\"orientation\":\"v\",\"showlegend\":true,\"x\":[\"Entertainment\"],\"xaxis\":\"x\",\"y\":[8035],\"yaxis\":\"y\",\"type\":\"scatter\"},{\"customdata\":[[156897]],\"hovertemplate\":\"Genre=%{x}<br>Year=2021<br>No_of_Apps=%{marker.size}<br>Users=%{customdata[0]}<extra></extra>\",\"ids\":[7990],\"legendgroup\":\"Finance\",\"marker\":{\"color\":\"#FFA15A\",\"size\":[7990],\"sizemode\":\"area\",\"sizeref\":76.0825,\"symbol\":\"circle\"},\"mode\":\"markers\",\"name\":\"Finance\",\"orientation\":\"v\",\"showlegend\":true,\"x\":[\"Finance\"],\"xaxis\":\"x\",\"y\":[7990],\"yaxis\":\"y\",\"type\":\"scatter\"},{\"customdata\":[[329386]],\"hovertemplate\":\"Genre=%{x}<br>Year=2021<br>No_of_Apps=%{marker.size}<br>Users=%{customdata[0]}<extra></extra>\",\"ids\":[22406],\"legendgroup\":\"Food & Drink\",\"marker\":{\"color\":\"#19d3f3\",\"size\":[22406],\"sizemode\":\"area\",\"sizeref\":76.0825,\"symbol\":\"circle\"},\"mode\":\"markers\",\"name\":\"Food & Drink\",\"orientation\":\"v\",\"showlegend\":true,\"x\":[\"Food & Drink\"],\"xaxis\":\"x\",\"y\":[22406],\"yaxis\":\"y\",\"type\":\"scatter\"},{\"customdata\":[[7964091]],\"hovertemplate\":\"Genre=%{x}<br>Year=2021<br>No_of_Apps=%{marker.size}<br>Users=%{customdata[0]}<extra></extra>\",\"ids\":[28498],\"legendgroup\":\"Games\",\"marker\":{\"color\":\"#FF6692\",\"size\":[28498],\"sizemode\":\"area\",\"sizeref\":76.0825,\"symbol\":\"circle\"},\"mode\":\"markers\",\"name\":\"Games\",\"orientation\":\"v\",\"showlegend\":true,\"x\":[\"Games\"],\"xaxis\":\"x\",\"y\":[28498],\"yaxis\":\"y\",\"type\":\"scatter\"},{\"customdata\":[[120147]],\"hovertemplate\":\"Genre=%{x}<br>Year=2021<br>No_of_Apps=%{marker.size}<br>Users=%{customdata[0]}<extra></extra>\",\"ids\":[13078],\"legendgroup\":\"Health & Fitness\",\"marker\":{\"color\":\"#B6E880\",\"size\":[13078],\"sizemode\":\"area\",\"sizeref\":76.0825,\"symbol\":\"circle\"},\"mode\":\"markers\",\"name\":\"Health & Fitness\",\"orientation\":\"v\",\"showlegend\":true,\"x\":[\"Health & Fitness\"],\"xaxis\":\"x\",\"y\":[13078],\"yaxis\":\"y\",\"type\":\"scatter\"},{\"customdata\":[[123839]],\"hovertemplate\":\"Genre=%{x}<br>Year=2021<br>No_of_Apps=%{marker.size}<br>Users=%{customdata[0]}<extra></extra>\",\"ids\":[14606],\"legendgroup\":\"Lifestyle\",\"marker\":{\"color\":\"#FF97FF\",\"size\":[14606],\"sizemode\":\"area\",\"sizeref\":76.0825,\"symbol\":\"circle\"},\"mode\":\"markers\",\"name\":\"Lifestyle\",\"orientation\":\"v\",\"showlegend\":true,\"x\":[\"Lifestyle\"],\"xaxis\":\"x\",\"y\":[14606],\"yaxis\":\"y\",\"type\":\"scatter\"},{\"customdata\":[[11066]],\"hovertemplate\":\"Genre=%{x}<br>Year=2021<br>No_of_Apps=%{marker.size}<br>Users=%{customdata[0]}<extra></extra>\",\"ids\":[4070],\"legendgroup\":\"Medical\",\"marker\":{\"color\":\"#FECB52\",\"size\":[4070],\"sizemode\":\"area\",\"sizeref\":76.0825,\"symbol\":\"circle\"},\"mode\":\"markers\",\"name\":\"Medical\",\"orientation\":\"v\",\"showlegend\":true,\"x\":[\"Medical\"],\"xaxis\":\"x\",\"y\":[4070],\"yaxis\":\"y\",\"type\":\"scatter\"},{\"customdata\":[[31089]],\"hovertemplate\":\"Genre=%{x}<br>Year=2021<br>No_of_Apps=%{marker.size}<br>Users=%{customdata[0]}<extra></extra>\",\"ids\":[3323],\"legendgroup\":\"Music\",\"marker\":{\"color\":\"#636efa\",\"size\":[3323],\"sizemode\":\"area\",\"sizeref\":76.0825,\"symbol\":\"circle\"},\"mode\":\"markers\",\"name\":\"Music\",\"orientation\":\"v\",\"showlegend\":true,\"x\":[\"Music\"],\"xaxis\":\"x\",\"y\":[3323],\"yaxis\":\"y\",\"type\":\"scatter\"},{\"customdata\":[[8016]],\"hovertemplate\":\"Genre=%{x}<br>Year=2021<br>No_of_Apps=%{marker.size}<br>Users=%{customdata[0]}<extra></extra>\",\"ids\":[1682],\"legendgroup\":\"Navigation\",\"marker\":{\"color\":\"#EF553B\",\"size\":[1682],\"sizemode\":\"area\",\"sizeref\":76.0825,\"symbol\":\"circle\"},\"mode\":\"markers\",\"name\":\"Navigation\",\"orientation\":\"v\",\"showlegend\":true,\"x\":[\"Navigation\"],\"xaxis\":\"x\",\"y\":[1682],\"yaxis\":\"y\",\"type\":\"scatter\"},{\"customdata\":[[16636]],\"hovertemplate\":\"Genre=%{x}<br>Year=2021<br>No_of_Apps=%{marker.size}<br>Users=%{customdata[0]}<extra></extra>\",\"ids\":[2394],\"legendgroup\":\"News\",\"marker\":{\"color\":\"#00cc96\",\"size\":[2394],\"sizemode\":\"area\",\"sizeref\":76.0825,\"symbol\":\"circle\"},\"mode\":\"markers\",\"name\":\"News\",\"orientation\":\"v\",\"showlegend\":true,\"x\":[\"News\"],\"xaxis\":\"x\",\"y\":[2394],\"yaxis\":\"y\",\"type\":\"scatter\"},{\"customdata\":[[324765]],\"hovertemplate\":\"Genre=%{x}<br>Year=2021<br>No_of_Apps=%{marker.size}<br>Users=%{customdata[0]}<extra></extra>\",\"ids\":[2412],\"legendgroup\":\"Photo & Video\",\"marker\":{\"color\":\"#ab63fa\",\"size\":[2412],\"sizemode\":\"area\",\"sizeref\":76.0825,\"symbol\":\"circle\"},\"mode\":\"markers\",\"name\":\"Photo & Video\",\"orientation\":\"v\",\"showlegend\":true,\"x\":[\"Photo & Video\"],\"xaxis\":\"x\",\"y\":[2412],\"yaxis\":\"y\",\"type\":\"scatter\"},{\"customdata\":[[90539]],\"hovertemplate\":\"Genre=%{x}<br>Year=2021<br>No_of_Apps=%{marker.size}<br>Users=%{customdata[0]}<extra></extra>\",\"ids\":[11259],\"legendgroup\":\"Productivity\",\"marker\":{\"color\":\"#FFA15A\",\"size\":[11259],\"sizemode\":\"area\",\"sizeref\":76.0825,\"symbol\":\"circle\"},\"mode\":\"markers\",\"name\":\"Productivity\",\"orientation\":\"v\",\"showlegend\":true,\"x\":[\"Productivity\"],\"xaxis\":\"x\",\"y\":[11259],\"yaxis\":\"y\",\"type\":\"scatter\"},{\"customdata\":[[38328]],\"hovertemplate\":\"Genre=%{x}<br>Year=2021<br>No_of_Apps=%{marker.size}<br>Users=%{customdata[0]}<extra></extra>\",\"ids\":[1832],\"legendgroup\":\"Reference\",\"marker\":{\"color\":\"#19d3f3\",\"size\":[1832],\"sizemode\":\"area\",\"sizeref\":76.0825,\"symbol\":\"circle\"},\"mode\":\"markers\",\"name\":\"Reference\",\"orientation\":\"v\",\"showlegend\":true,\"x\":[\"Reference\"],\"xaxis\":\"x\",\"y\":[1832],\"yaxis\":\"y\",\"type\":\"scatter\"},{\"customdata\":[[90215]],\"hovertemplate\":\"Genre=%{x}<br>Year=2021<br>No_of_Apps=%{marker.size}<br>Users=%{customdata[0]}<extra></extra>\",\"ids\":[16819],\"legendgroup\":\"Shopping\",\"marker\":{\"color\":\"#FF6692\",\"size\":[16819],\"sizemode\":\"area\",\"sizeref\":76.0825,\"symbol\":\"circle\"},\"mode\":\"markers\",\"name\":\"Shopping\",\"orientation\":\"v\",\"showlegend\":true,\"x\":[\"Shopping\"],\"xaxis\":\"x\",\"y\":[16819],\"yaxis\":\"y\",\"type\":\"scatter\"},{\"customdata\":[[163377]],\"hovertemplate\":\"Genre=%{x}<br>Year=2021<br>No_of_Apps=%{marker.size}<br>Users=%{customdata[0]}<extra></extra>\",\"ids\":[6169],\"legendgroup\":\"Social Networking\",\"marker\":{\"color\":\"#B6E880\",\"size\":[6169],\"sizemode\":\"area\",\"sizeref\":76.0825,\"symbol\":\"circle\"},\"mode\":\"markers\",\"name\":\"Social Networking\",\"orientation\":\"v\",\"showlegend\":true,\"x\":[\"Social Networking\"],\"xaxis\":\"x\",\"y\":[6169],\"yaxis\":\"y\",\"type\":\"scatter\"},{\"customdata\":[[30910]],\"hovertemplate\":\"Genre=%{x}<br>Year=2021<br>No_of_Apps=%{marker.size}<br>Users=%{customdata[0]}<extra></extra>\",\"ids\":[5394],\"legendgroup\":\"Sports\",\"marker\":{\"color\":\"#FF97FF\",\"size\":[5394],\"sizemode\":\"area\",\"sizeref\":76.0825,\"symbol\":\"circle\"},\"mode\":\"markers\",\"name\":\"Sports\",\"orientation\":\"v\",\"showlegend\":true,\"x\":[\"Sports\"],\"xaxis\":\"x\",\"y\":[5394],\"yaxis\":\"y\",\"type\":\"scatter\"},{\"customdata\":[[22799]],\"hovertemplate\":\"Genre=%{x}<br>Year=2021<br>No_of_Apps=%{marker.size}<br>Users=%{customdata[0]}<extra></extra>\",\"ids\":[6754],\"legendgroup\":\"Travel\",\"marker\":{\"color\":\"#FECB52\",\"size\":[6754],\"sizemode\":\"area\",\"sizeref\":76.0825,\"symbol\":\"circle\"},\"mode\":\"markers\",\"name\":\"Travel\",\"orientation\":\"v\",\"showlegend\":true,\"x\":[\"Travel\"],\"xaxis\":\"x\",\"y\":[6754],\"yaxis\":\"y\",\"type\":\"scatter\"},{\"customdata\":[[264391]],\"hovertemplate\":\"Genre=%{x}<br>Year=2021<br>No_of_Apps=%{marker.size}<br>Users=%{customdata[0]}<extra></extra>\",\"ids\":[16997],\"legendgroup\":\"Utilities\",\"marker\":{\"color\":\"#636efa\",\"size\":[16997],\"sizemode\":\"area\",\"sizeref\":76.0825,\"symbol\":\"circle\"},\"mode\":\"markers\",\"name\":\"Utilities\",\"orientation\":\"v\",\"showlegend\":true,\"x\":[\"Utilities\"],\"xaxis\":\"x\",\"y\":[16997],\"yaxis\":\"y\",\"type\":\"scatter\"},{\"customdata\":[[2489]],\"hovertemplate\":\"Genre=%{x}<br>Year=2021<br>No_of_Apps=%{marker.size}<br>Users=%{customdata[0]}<extra></extra>\",\"ids\":[313],\"legendgroup\":\"Weather\",\"marker\":{\"color\":\"#EF553B\",\"size\":[313],\"sizemode\":\"area\",\"sizeref\":76.0825,\"symbol\":\"circle\"},\"mode\":\"markers\",\"name\":\"Weather\",\"orientation\":\"v\",\"showlegend\":true,\"x\":[\"Weather\"],\"xaxis\":\"x\",\"y\":[313],\"yaxis\":\"y\",\"type\":\"scatter\"},{\"customdata\":[[23450]],\"hovertemplate\":\"Genre=%{x}<br>Year=2021<br>No_of_Apps=%{marker.size}<br>Users=%{customdata[0]}<extra></extra>\",\"ids\":[758],\"legendgroup\":\"Graphics & Design\",\"marker\":{\"color\":\"#00cc96\",\"size\":[758],\"sizemode\":\"area\",\"sizeref\":76.0825,\"symbol\":\"circle\"},\"mode\":\"markers\",\"name\":\"Graphics & Design\",\"orientation\":\"v\",\"showlegend\":true,\"x\":[\"Graphics & Design\"],\"xaxis\":\"x\",\"y\":[758],\"yaxis\":\"y\",\"type\":\"scatter\"},{\"customdata\":[[153]],\"hovertemplate\":\"Genre=%{x}<br>Year=2021<br>No_of_Apps=%{marker.size}<br>Users=%{customdata[0]}<extra></extra>\",\"ids\":[135],\"legendgroup\":\"Magazines & Newspapers\",\"marker\":{\"color\":\"#ab63fa\",\"size\":[135],\"sizemode\":\"area\",\"sizeref\":76.0825,\"symbol\":\"circle\"},\"mode\":\"markers\",\"name\":\"Magazines & Newspapers\",\"orientation\":\"v\",\"showlegend\":true,\"x\":[\"Magazines & Newspapers\"],\"xaxis\":\"x\",\"y\":[135],\"yaxis\":\"y\",\"type\":\"scatter\"},{\"customdata\":[[894]],\"hovertemplate\":\"Genre=%{x}<br>Year=2021<br>No_of_Apps=%{marker.size}<br>Users=%{customdata[0]}<extra></extra>\",\"ids\":[537],\"legendgroup\":\"Developer Tools\",\"marker\":{\"color\":\"#FFA15A\",\"size\":[537],\"sizemode\":\"area\",\"sizeref\":76.0825,\"symbol\":\"circle\"},\"mode\":\"markers\",\"name\":\"Developer Tools\",\"orientation\":\"v\",\"showlegend\":true,\"x\":[\"Developer Tools\"],\"xaxis\":\"x\",\"y\":[537],\"yaxis\":\"y\",\"type\":\"scatter\"},{\"customdata\":[[941]],\"hovertemplate\":\"Genre=%{x}<br>Year=2021<br>No_of_Apps=%{marker.size}<br>Users=%{customdata[0]}<extra></extra>\",\"ids\":[765],\"legendgroup\":\"Stickers\",\"marker\":{\"color\":\"#19d3f3\",\"size\":[765],\"sizemode\":\"area\",\"sizeref\":76.0825,\"symbol\":\"circle\"},\"mode\":\"markers\",\"name\":\"Stickers\",\"orientation\":\"v\",\"showlegend\":true,\"x\":[\"Stickers\"],\"xaxis\":\"x\",\"y\":[765],\"yaxis\":\"y\",\"type\":\"scatter\"}],\"name\":\"2021\"}]);\n",
       "                        }).then(function(){\n",
       "                            \n",
       "var gd = document.getElementById('07dd7a02-99b3-451b-a8e4-27d464e952d1');\n",
       "var x = new MutationObserver(function (mutations, observer) {{\n",
       "        var display = window.getComputedStyle(gd).display;\n",
       "        if (!display || display === 'none') {{\n",
       "            console.log([gd, 'removed!']);\n",
       "            Plotly.purge(gd);\n",
       "            observer.disconnect();\n",
       "        }}\n",
       "}});\n",
       "\n",
       "// Listen for the removal of the full notebook cells\n",
       "var notebookContainer = gd.closest('#notebook-container');\n",
       "if (notebookContainer) {{\n",
       "    x.observe(notebookContainer, {childList: true});\n",
       "}}\n",
       "\n",
       "// Listen for the clearing of the current output cell\n",
       "var outputEl = gd.closest('.output');\n",
       "if (outputEl) {{\n",
       "    x.observe(outputEl, {childList: true});\n",
       "}}\n",
       "\n",
       "                        })                };                            </script>        </div>\n",
       "</body>\n",
       "</html>"
      ]
     },
     "metadata": {},
     "output_type": "display_data"
    }
   ],
   "source": [
    "figx = px.scatter(all_yr_gn_df, \n",
    "                 y=\"No_of_Apps\",\n",
    "                 x=\"Genre\",\n",
    "                 color=\"Genre\",\n",
    "                 #hover_name=\"No_of_Apps\", \n",
    "                 hover_data=[\"Users\", \"Genre\"],\n",
    "                 size='No_of_Apps',\n",
    "                 animation_frame='Year', \n",
    "                 animation_group=\"No_of_Apps\",\n",
    "                 range_y=[-100,31000], \n",
    "                 title='App Releases (Yearly)')\n",
    "#fig.update_annotations(textangle=45, yshift=-40)\n",
    "figx.update_xaxes(tickangle=45)\n",
    "figx.update_layout(width=700, \n",
    "                   title_x=0.45,\n",
    "                   showlegend=False, \n",
    "                   margin=dict(l=20, r=20, t=60, b=200))\n",
    "#figx.layout.pop(\"updatemenus\")\n",
    "figx['layout']['sliders'][0]['pad']=dict(r= 10, t= 150,)\n",
    "figx.show()"
   ]
  },
  {
   "cell_type": "markdown",
   "metadata": {
    "id": "6oiwBU7950GX"
   },
   "source": [
    "By looking at plots\n",
    "\n",
    "> 2009 to 2012 there is steady growth in users and dropped heavily in 2013.\n",
    "\n",
    "> Publishing Apps are increasing significantly from 2008-2020 across all categories.\n",
    "\n",
    "> Social Networking started with 2 apps in 2008 each year this genre is growing fast enough and by the end of 2021 it published 6 thousand apps.\n",
    "\n",
    "> Food & Drink with 7 apps has 2.4 million users in 2008. By the years passing no of apps are increasing with significant rate but the users aren't. Where as in Health & Fitness apps have huge growth over the years in users as well as apps, it started with 1.4 million users by the end of 2019 2.5 million users were added.\n",
    "\n",
    "> In the year 2020 and 2021 there has been a massive drop in users across all the categories it is possible it might be the effect of COVID-19.\n",
    "\n",
    "> We can draw so many insghts from this graph."
   ]
  },
  {
   "cell_type": "markdown",
   "metadata": {
    "id": "gqxpovJSRUly"
   },
   "source": [
    "### Q5.How many apps will work on various IOS versions? "
   ]
  },
  {
   "cell_type": "code",
   "execution_count": 51,
   "metadata": {
    "executionInfo": {
     "elapsed": 3459,
     "status": "ok",
     "timestamp": 1662822342469,
     "user": {
      "displayName": "Pratul Chandra",
      "userId": "06160049637809107783"
     },
     "user_tz": -330
    },
    "id": "PSdvo-k19zSj"
   },
   "outputs": [],
   "source": [
    "!pip install openpyxl --quiet"
   ]
  },
  {
   "cell_type": "code",
   "execution_count": 54,
   "metadata": {
    "executionInfo": {
     "elapsed": 1284,
     "status": "ok",
     "timestamp": 1662822364182,
     "user": {
      "displayName": "Pratul Chandra",
      "userId": "06160049637809107783"
     },
     "user_tz": -330
    },
    "id": "q7EkeaMm9zQq"
   },
   "outputs": [],
   "source": [
    "excel_filename= './iphone_list.xlsx'\n",
    "excel_df= pd.read_excel('iphone_list.xlsx')\n",
    "excel_df.to_csv('iphone_models_list.csv',index=None)\n",
    "#excel_filename= './iphone_models_list.csv'\n",
    "#excel_df= pd.read_csv('iphone_models_list.csv')\n",
    "#jovian.commit(files=['iphone_models_list.csv'])"
   ]
  },
  {
   "cell_type": "code",
   "execution_count": 55,
   "metadata": {
    "executionInfo": {
     "elapsed": 766,
     "status": "ok",
     "timestamp": 1662822364941,
     "user": {
      "displayName": "Pratul Chandra",
      "userId": "06160049637809107783"
     },
     "user_tz": -330
    },
    "id": "zpDnDki59zOw"
   },
   "outputs": [],
   "source": [
    "working_apps= df.groupby([df['Primary_Genre'],\n",
    "                          df['Required_IOS_Version']])['App_Name'].count().reset_index().sort_values(by='App_Name',ascending=False)\n",
    "working_apps.columns= ['Genre','Required_IOS_Version','No_of_Apps']"
   ]
  },
  {
   "cell_type": "code",
   "execution_count": 56,
   "metadata": {
    "colab": {
     "base_uri": "https://localhost:8080/"
    },
    "executionInfo": {
     "elapsed": 10,
     "status": "ok",
     "timestamp": 1662822365508,
     "user": {
      "displayName": "Pratul Chandra",
      "userId": "06160049637809107783"
     },
     "user_tz": -330
    },
    "id": "RACUenmjASwP",
    "outputId": "113229a3-6d0c-421b-e594-b802bdddb69a"
   },
   "outputs": [
    {
     "data": {
      "text/plain": [
       "2486"
      ]
     },
     "execution_count": 56,
     "metadata": {},
     "output_type": "execute_result"
    }
   ],
   "source": [
    "len(working_apps.Required_IOS_Version)"
   ]
  },
  {
   "cell_type": "code",
   "execution_count": 57,
   "metadata": {
    "colab": {
     "base_uri": "https://localhost:8080/"
    },
    "executionInfo": {
     "elapsed": 8,
     "status": "ok",
     "timestamp": 1662822366812,
     "user": {
      "displayName": "Pratul Chandra",
      "userId": "06160049637809107783"
     },
     "user_tz": -330
    },
    "id": "wZ1x17QuAAct",
    "outputId": "cee0f1e7-0f16-4340-92c9-85d26547c6a3"
   },
   "outputs": [
    {
     "name": "stdout",
     "output_type": "stream",
     "text": [
      "2486\n"
     ]
    }
   ],
   "source": [
    "Required_IOS_Version=[]\n",
    "for i in working_apps.Required_IOS_Version:\n",
    "  if len(i)>0:\n",
    "    i=i[:2]\n",
    "    Required_IOS_Version.append(i)\n",
    "print(len(Required_IOS_Version))\n",
    "\n",
    "working_apps.Required_IOS_Version = Required_IOS_Version\n",
    "working_apps.Required_IOS_Version = working_apps.Required_IOS_Version.astype(float)\n",
    "working_apps.Required_IOS_Version = working_apps.Required_IOS_Version.astype(int)\n",
    "working_apps= working_apps.groupby([working_apps['Genre'],\n",
    "                                    working_apps['Required_IOS_Version']])['No_of_Apps'].sum().reset_index()"
   ]
  },
  {
   "cell_type": "code",
   "execution_count": 109,
   "metadata": {
    "colab": {
     "base_uri": "https://localhost:8080/",
     "height": 317
    },
    "executionInfo": {
     "elapsed": 606,
     "status": "ok",
     "timestamp": 1662824519830,
     "user": {
      "displayName": "Pratul Chandra",
      "userId": "06160049637809107783"
     },
     "user_tz": -330
    },
    "id": "Cdpy4PgT9zLG",
    "outputId": "36b8f6d6-9720-4918-bdb7-9cf662a7098e"
   },
   "outputs": [
    {
     "data": {
      "text/html": [
       "<html>\n",
       "<head><meta charset=\"utf-8\" /></head>\n",
       "<body>\n",
       "    <div>            <script src=\"https://cdnjs.cloudflare.com/ajax/libs/mathjax/2.7.5/MathJax.js?config=TeX-AMS-MML_SVG\"></script><script type=\"text/javascript\">if (window.MathJax && window.MathJax.Hub && window.MathJax.Hub.Config) {window.MathJax.Hub.Config({SVG: {font: \"STIX-Web\"}});}</script>                <script type=\"text/javascript\">window.PlotlyConfig = {MathJaxConfig: 'local'};</script>\n",
       "        <script src=\"https://cdn.plot.ly/plotly-2.14.0.min.js\"></script>                <div id=\"07d3f519-4d97-4689-b018-adc9a74d0ea4\" class=\"plotly-graph-div\" style=\"height:300px; width:700px;\"></div>            <script type=\"text/javascript\">                                    window.PLOTLYENV=window.PLOTLYENV || {};                                    if (document.getElementById(\"07d3f519-4d97-4689-b018-adc9a74d0ea4\")) {                    Plotly.newPlot(                        \"07d3f519-4d97-4689-b018-adc9a74d0ea4\",                        [{\"cells\":{\"align\":\"left\",\"fill\":{\"color\":\"blanchedalmond\"},\"values\":[[\"iPhone (1st gen)\\u00a0\",\"iPhone 3G\\u00a0\",\"iPhone 3GS\\u00a0\",\"iPhone 4\\u00a0(GSM)\\u00a0\",\"iPhone 4S\\u00a0\",\"iPhone 5\\u00a0\",\"iPhone 5C\\u00a0\",\"iPhone 5S\\u00a0\",\"iPhone 6\\u00a0\",\"iPhone 6 Plus\\u00a0\",\"iPhone 6S\\u00a0\",\"iPhone 6S Plus\\u00a0\",\"iPhone SE (1st gen)\\u00a0\",\"iPhone 7\\u00a0\",\"iPhone 7 Plus\\u00a0\",\"iPhone 8\\u00a0\",\"iPhone 8 Plus\\u00a0\",\"iPhone X\\u00a0\",\"iPhone XR\\u00a0\",\"iPhone XS\\u00a0\",\"iPhone XS Max\\u00a0\",\"iPhone 11\\u00a0\",\"iPhone 11 Pro\\u00a0\",\"iPhone 11 Pro Max\\u00a0\",\"iPhone SE (2nd gen)\\u00a0\",\"iPhone 12\\u00a0\",\"iPhone 12 mini\\u00a0\",\"iPhone 12 Pro\\u00a0\",\"iPhone 12 Pro Max\\u00a0\",\"iPhone 13\\u00a0\",\"iPhone 13 mini\\u00a0\",\"iPhone 13 Pro\\u00a0\",\"iPhone 13 Pro Max\\u00a0\",\"iPhone SE (3rd gen)\\u00a0\"],[\"iPhone OS 1\\u00a0to\\u00a03.1.3\\u00a0\",\"iPhone OS 2\\u00a0to\\u00a0iOS 4.2.1\\u00a0\",\"iPhone OS 3\\u00a0to\\u00a0iOS 6.1.6\\u00a0iOS 4\\u00a0to\\u00a06.1.6\\u00a0'\",\"iOS 4\\u00a0to\\u00a07.1.2\\u00a0\",\"iOS 5\\u00a0to\\u00a09.3.6\\u00a0\",\"iOS 6\\u00a0to\\u00a010.3.4\\u00a0\",\"iOS 7\\u00a0to\\u00a010.3.3\\u00a0\",\"iOS 7\\u00a0to\\u00a012.5.5\\u00a0\",\"iOS 8\\u00a0to12.5.5\\u00a0\",\"iOS 8\\u00a0to\\u00a012.5.5\\u00a0\",\"iOS 9.0.1 to\\u00a015.6.1\\u00a0\",\"iOS 9.0.1 to\\u00a015.6.1\\u00a0\",\"iOS 9.3 to\\u00a015.6.1\\u00a0\",\"iOS 10.0.1 to\\u00a015.6.1\\u00a0\",\"iOS 10.0.1 to\\u00a015.6.1\\u00a0\",\"iOS 11\\u00a0to\\u00a016.x\\u00a0(latest)\\u00a0\",\"iOS 11\\u00a0to\\u00a016.x\\u00a0(latest)\\u00a0\",\"iOS 11.0.1 to\\u00a016.x\\u00a0(latest)\\u00a0\",\"iOS 12\\u00a0to\\u00a016.x\\u00a0(latest)\\u00a0\",\"iOS 12\\u00a0to\\u00a016.x\\u00a0(latest)\\u00a0\",\"iOS 12\\u00a0to\\u00a016.x\\u00a0(latest)\\u00a0\",\"iOS 13\\u00a0to\\u00a016.x\\u00a0(latest)\\u00a0\",\"iOS 13\\u00a0to\\u00a016.x\\u00a0(latest)\\u00a0\",\"iOS 13\\u00a0to\\u00a016.x\\u00a0(latest)\\u00a0\",\"iOS 13.4 to\\u00a016.x\\u00a0(latest)\\u00a0\",\"iOS 14.1 to\\u00a016.x\\u00a0(latest)\\u00a0\",\"iOS 14.2 to\\u00a016.x\\u00a0(latest)\\u00a0\",\"iOS 14.1 to\\u00a016.x\\u00a0(latest)\\u00a0\",\"iOS 14.2 to\\u00a016.x\\u00a0(latest)\\u00a0\",\"iOS 15\\u00a0to\\u00a016.x\\u00a0(latest)\\u00a0\",\"iOS 15\\u00a0to\\u00a016.x\\u00a0(latest)\\u00a0\",\"iOS 15\\u00a0to\\u00a016.x\\u00a0(latest)\\u00a0\",\"iOS 15\\u00a0to\\u00a016.x\\u00a0(latest)\\u00a0\",\"iOS 15.4 to\\u00a016.x\\u00a0(latest)\\u00a0\"]]},\"header\":{\"align\":\"left\",\"fill\":{\"color\":\"mediumspringgreen\"},\"font\":{\"size\":10},\"values\":[\"Model\",\"Operating<br>System\"]},\"type\":\"table\"}],                        {\"template\":{\"data\":{\"histogram2dcontour\":[{\"type\":\"histogram2dcontour\",\"colorbar\":{\"outlinewidth\":0,\"ticks\":\"\"},\"colorscale\":[[0.0,\"#0d0887\"],[0.1111111111111111,\"#46039f\"],[0.2222222222222222,\"#7201a8\"],[0.3333333333333333,\"#9c179e\"],[0.4444444444444444,\"#bd3786\"],[0.5555555555555556,\"#d8576b\"],[0.6666666666666666,\"#ed7953\"],[0.7777777777777778,\"#fb9f3a\"],[0.8888888888888888,\"#fdca26\"],[1.0,\"#f0f921\"]]}],\"choropleth\":[{\"type\":\"choropleth\",\"colorbar\":{\"outlinewidth\":0,\"ticks\":\"\"}}],\"histogram2d\":[{\"type\":\"histogram2d\",\"colorbar\":{\"outlinewidth\":0,\"ticks\":\"\"},\"colorscale\":[[0.0,\"#0d0887\"],[0.1111111111111111,\"#46039f\"],[0.2222222222222222,\"#7201a8\"],[0.3333333333333333,\"#9c179e\"],[0.4444444444444444,\"#bd3786\"],[0.5555555555555556,\"#d8576b\"],[0.6666666666666666,\"#ed7953\"],[0.7777777777777778,\"#fb9f3a\"],[0.8888888888888888,\"#fdca26\"],[1.0,\"#f0f921\"]]}],\"heatmap\":[{\"type\":\"heatmap\",\"colorbar\":{\"outlinewidth\":0,\"ticks\":\"\"},\"colorscale\":[[0.0,\"#0d0887\"],[0.1111111111111111,\"#46039f\"],[0.2222222222222222,\"#7201a8\"],[0.3333333333333333,\"#9c179e\"],[0.4444444444444444,\"#bd3786\"],[0.5555555555555556,\"#d8576b\"],[0.6666666666666666,\"#ed7953\"],[0.7777777777777778,\"#fb9f3a\"],[0.8888888888888888,\"#fdca26\"],[1.0,\"#f0f921\"]]}],\"heatmapgl\":[{\"type\":\"heatmapgl\",\"colorbar\":{\"outlinewidth\":0,\"ticks\":\"\"},\"colorscale\":[[0.0,\"#0d0887\"],[0.1111111111111111,\"#46039f\"],[0.2222222222222222,\"#7201a8\"],[0.3333333333333333,\"#9c179e\"],[0.4444444444444444,\"#bd3786\"],[0.5555555555555556,\"#d8576b\"],[0.6666666666666666,\"#ed7953\"],[0.7777777777777778,\"#fb9f3a\"],[0.8888888888888888,\"#fdca26\"],[1.0,\"#f0f921\"]]}],\"contourcarpet\":[{\"type\":\"contourcarpet\",\"colorbar\":{\"outlinewidth\":0,\"ticks\":\"\"}}],\"contour\":[{\"type\":\"contour\",\"colorbar\":{\"outlinewidth\":0,\"ticks\":\"\"},\"colorscale\":[[0.0,\"#0d0887\"],[0.1111111111111111,\"#46039f\"],[0.2222222222222222,\"#7201a8\"],[0.3333333333333333,\"#9c179e\"],[0.4444444444444444,\"#bd3786\"],[0.5555555555555556,\"#d8576b\"],[0.6666666666666666,\"#ed7953\"],[0.7777777777777778,\"#fb9f3a\"],[0.8888888888888888,\"#fdca26\"],[1.0,\"#f0f921\"]]}],\"surface\":[{\"type\":\"surface\",\"colorbar\":{\"outlinewidth\":0,\"ticks\":\"\"},\"colorscale\":[[0.0,\"#0d0887\"],[0.1111111111111111,\"#46039f\"],[0.2222222222222222,\"#7201a8\"],[0.3333333333333333,\"#9c179e\"],[0.4444444444444444,\"#bd3786\"],[0.5555555555555556,\"#d8576b\"],[0.6666666666666666,\"#ed7953\"],[0.7777777777777778,\"#fb9f3a\"],[0.8888888888888888,\"#fdca26\"],[1.0,\"#f0f921\"]]}],\"mesh3d\":[{\"type\":\"mesh3d\",\"colorbar\":{\"outlinewidth\":0,\"ticks\":\"\"}}],\"scatter\":[{\"fillpattern\":{\"fillmode\":\"overlay\",\"size\":10,\"solidity\":0.2},\"type\":\"scatter\"}],\"parcoords\":[{\"type\":\"parcoords\",\"line\":{\"colorbar\":{\"outlinewidth\":0,\"ticks\":\"\"}}}],\"scatterpolargl\":[{\"type\":\"scatterpolargl\",\"marker\":{\"colorbar\":{\"outlinewidth\":0,\"ticks\":\"\"}}}],\"bar\":[{\"error_x\":{\"color\":\"#2a3f5f\"},\"error_y\":{\"color\":\"#2a3f5f\"},\"marker\":{\"line\":{\"color\":\"#E5ECF6\",\"width\":0.5},\"pattern\":{\"fillmode\":\"overlay\",\"size\":10,\"solidity\":0.2}},\"type\":\"bar\"}],\"scattergeo\":[{\"type\":\"scattergeo\",\"marker\":{\"colorbar\":{\"outlinewidth\":0,\"ticks\":\"\"}}}],\"scatterpolar\":[{\"type\":\"scatterpolar\",\"marker\":{\"colorbar\":{\"outlinewidth\":0,\"ticks\":\"\"}}}],\"histogram\":[{\"marker\":{\"pattern\":{\"fillmode\":\"overlay\",\"size\":10,\"solidity\":0.2}},\"type\":\"histogram\"}],\"scattergl\":[{\"type\":\"scattergl\",\"marker\":{\"colorbar\":{\"outlinewidth\":0,\"ticks\":\"\"}}}],\"scatter3d\":[{\"type\":\"scatter3d\",\"line\":{\"colorbar\":{\"outlinewidth\":0,\"ticks\":\"\"}},\"marker\":{\"colorbar\":{\"outlinewidth\":0,\"ticks\":\"\"}}}],\"scattermapbox\":[{\"type\":\"scattermapbox\",\"marker\":{\"colorbar\":{\"outlinewidth\":0,\"ticks\":\"\"}}}],\"scatterternary\":[{\"type\":\"scatterternary\",\"marker\":{\"colorbar\":{\"outlinewidth\":0,\"ticks\":\"\"}}}],\"scattercarpet\":[{\"type\":\"scattercarpet\",\"marker\":{\"colorbar\":{\"outlinewidth\":0,\"ticks\":\"\"}}}],\"carpet\":[{\"aaxis\":{\"endlinecolor\":\"#2a3f5f\",\"gridcolor\":\"white\",\"linecolor\":\"white\",\"minorgridcolor\":\"white\",\"startlinecolor\":\"#2a3f5f\"},\"baxis\":{\"endlinecolor\":\"#2a3f5f\",\"gridcolor\":\"white\",\"linecolor\":\"white\",\"minorgridcolor\":\"white\",\"startlinecolor\":\"#2a3f5f\"},\"type\":\"carpet\"}],\"table\":[{\"cells\":{\"fill\":{\"color\":\"#EBF0F8\"},\"line\":{\"color\":\"white\"}},\"header\":{\"fill\":{\"color\":\"#C8D4E3\"},\"line\":{\"color\":\"white\"}},\"type\":\"table\"}],\"barpolar\":[{\"marker\":{\"line\":{\"color\":\"#E5ECF6\",\"width\":0.5},\"pattern\":{\"fillmode\":\"overlay\",\"size\":10,\"solidity\":0.2}},\"type\":\"barpolar\"}],\"pie\":[{\"automargin\":true,\"type\":\"pie\"}]},\"layout\":{\"autotypenumbers\":\"strict\",\"colorway\":[\"#636efa\",\"#EF553B\",\"#00cc96\",\"#ab63fa\",\"#FFA15A\",\"#19d3f3\",\"#FF6692\",\"#B6E880\",\"#FF97FF\",\"#FECB52\"],\"font\":{\"color\":\"#2a3f5f\"},\"hovermode\":\"closest\",\"hoverlabel\":{\"align\":\"left\"},\"paper_bgcolor\":\"white\",\"plot_bgcolor\":\"#E5ECF6\",\"polar\":{\"bgcolor\":\"#E5ECF6\",\"angularaxis\":{\"gridcolor\":\"white\",\"linecolor\":\"white\",\"ticks\":\"\"},\"radialaxis\":{\"gridcolor\":\"white\",\"linecolor\":\"white\",\"ticks\":\"\"}},\"ternary\":{\"bgcolor\":\"#E5ECF6\",\"aaxis\":{\"gridcolor\":\"white\",\"linecolor\":\"white\",\"ticks\":\"\"},\"baxis\":{\"gridcolor\":\"white\",\"linecolor\":\"white\",\"ticks\":\"\"},\"caxis\":{\"gridcolor\":\"white\",\"linecolor\":\"white\",\"ticks\":\"\"}},\"coloraxis\":{\"colorbar\":{\"outlinewidth\":0,\"ticks\":\"\"}},\"colorscale\":{\"sequential\":[[0.0,\"#0d0887\"],[0.1111111111111111,\"#46039f\"],[0.2222222222222222,\"#7201a8\"],[0.3333333333333333,\"#9c179e\"],[0.4444444444444444,\"#bd3786\"],[0.5555555555555556,\"#d8576b\"],[0.6666666666666666,\"#ed7953\"],[0.7777777777777778,\"#fb9f3a\"],[0.8888888888888888,\"#fdca26\"],[1.0,\"#f0f921\"]],\"sequentialminus\":[[0.0,\"#0d0887\"],[0.1111111111111111,\"#46039f\"],[0.2222222222222222,\"#7201a8\"],[0.3333333333333333,\"#9c179e\"],[0.4444444444444444,\"#bd3786\"],[0.5555555555555556,\"#d8576b\"],[0.6666666666666666,\"#ed7953\"],[0.7777777777777778,\"#fb9f3a\"],[0.8888888888888888,\"#fdca26\"],[1.0,\"#f0f921\"]],\"diverging\":[[0,\"#8e0152\"],[0.1,\"#c51b7d\"],[0.2,\"#de77ae\"],[0.3,\"#f1b6da\"],[0.4,\"#fde0ef\"],[0.5,\"#f7f7f7\"],[0.6,\"#e6f5d0\"],[0.7,\"#b8e186\"],[0.8,\"#7fbc41\"],[0.9,\"#4d9221\"],[1,\"#276419\"]]},\"xaxis\":{\"gridcolor\":\"white\",\"linecolor\":\"white\",\"ticks\":\"\",\"title\":{\"standoff\":15},\"zerolinecolor\":\"white\",\"automargin\":true,\"zerolinewidth\":2},\"yaxis\":{\"gridcolor\":\"white\",\"linecolor\":\"white\",\"ticks\":\"\",\"title\":{\"standoff\":15},\"zerolinecolor\":\"white\",\"automargin\":true,\"zerolinewidth\":2},\"scene\":{\"xaxis\":{\"backgroundcolor\":\"#E5ECF6\",\"gridcolor\":\"white\",\"linecolor\":\"white\",\"showbackground\":true,\"ticks\":\"\",\"zerolinecolor\":\"white\",\"gridwidth\":2},\"yaxis\":{\"backgroundcolor\":\"#E5ECF6\",\"gridcolor\":\"white\",\"linecolor\":\"white\",\"showbackground\":true,\"ticks\":\"\",\"zerolinecolor\":\"white\",\"gridwidth\":2},\"zaxis\":{\"backgroundcolor\":\"#E5ECF6\",\"gridcolor\":\"white\",\"linecolor\":\"white\",\"showbackground\":true,\"ticks\":\"\",\"zerolinecolor\":\"white\",\"gridwidth\":2}},\"shapedefaults\":{\"line\":{\"color\":\"#2a3f5f\"}},\"annotationdefaults\":{\"arrowcolor\":\"#2a3f5f\",\"arrowhead\":0,\"arrowwidth\":1},\"geo\":{\"bgcolor\":\"white\",\"landcolor\":\"#E5ECF6\",\"subunitcolor\":\"white\",\"showland\":true,\"showlakes\":true,\"lakecolor\":\"white\"},\"title\":{\"x\":0.05},\"mapbox\":{\"style\":\"light\"}}},\"title\":{\"text\":\"Verify Iphone Models Here: \",\"x\":0.45},\"width\":700,\"height\":300},                        {\"responsive\": true}                    ).then(function(){\n",
       "                            \n",
       "var gd = document.getElementById('07d3f519-4d97-4689-b018-adc9a74d0ea4');\n",
       "var x = new MutationObserver(function (mutations, observer) {{\n",
       "        var display = window.getComputedStyle(gd).display;\n",
       "        if (!display || display === 'none') {{\n",
       "            console.log([gd, 'removed!']);\n",
       "            Plotly.purge(gd);\n",
       "            observer.disconnect();\n",
       "        }}\n",
       "}});\n",
       "\n",
       "// Listen for the removal of the full notebook cells\n",
       "var notebookContainer = gd.closest('#notebook-container');\n",
       "if (notebookContainer) {{\n",
       "    x.observe(notebookContainer, {childList: true});\n",
       "}}\n",
       "\n",
       "// Listen for the clearing of the current output cell\n",
       "var outputEl = gd.closest('.output');\n",
       "if (outputEl) {{\n",
       "    x.observe(outputEl, {childList: true});\n",
       "}}\n",
       "\n",
       "                        })                };                            </script>        </div>\n",
       "</body>\n",
       "</html>"
      ]
     },
     "metadata": {},
     "output_type": "display_data"
    }
   ],
   "source": [
    "trace11 = go.Table(\n",
    "        header=dict(\n",
    "            values=[\"Model\", \"Operating<br>System\"],\n",
    "            fill_color='mediumspringgreen',\n",
    "            font=dict(size=10),\n",
    "            align=\"left\"\n",
    "        ),\n",
    "        cells=dict(\n",
    "            values=[excel_df[k].tolist() for k in excel_df.columns],\n",
    "            fill_color='blanchedalmond',\n",
    "            align = \"left\")\n",
    "    )\n",
    "fig10 = go.Figure(data = [trace11])#, layout = layout)rgba(224, 148, 215, 0.8)\n",
    "fig10.update_layout(title='Verify Iphone Models Here: ', width=700, height=300, title_x=0.45)\n",
    "fig10.show()\n",
    "###############################################################"
   ]
  },
  {
   "cell_type": "code",
   "execution_count": 110,
   "metadata": {
    "colab": {
     "base_uri": "https://localhost:8080/",
     "height": 542
    },
    "executionInfo": {
     "elapsed": 2438,
     "status": "ok",
     "timestamp": 1662824522974,
     "user": {
      "displayName": "Pratul Chandra",
      "userId": "06160049637809107783"
     },
     "user_tz": -330
    },
    "id": "vlbtLyw9ECXf",
    "outputId": "c4a125e3-8be4-4e19-c869-2dc9710816cb"
   },
   "outputs": [
    {
     "data": {
      "text/html": [
       "<html>\n",
       "<head><meta charset=\"utf-8\" /></head>\n",
       "<body>\n",
       "    <div>            <script src=\"https://cdnjs.cloudflare.com/ajax/libs/mathjax/2.7.5/MathJax.js?config=TeX-AMS-MML_SVG\"></script><script type=\"text/javascript\">if (window.MathJax && window.MathJax.Hub && window.MathJax.Hub.Config) {window.MathJax.Hub.Config({SVG: {font: \"STIX-Web\"}});}</script>                <script type=\"text/javascript\">window.PlotlyConfig = {MathJaxConfig: 'local'};</script>\n",
       "        <script src=\"https://cdn.plot.ly/plotly-2.14.0.min.js\"></script>                <div id=\"1b695b9d-3a30-408a-88b6-6651cd0c43ae\" class=\"plotly-graph-div\" style=\"height:525px; width:700px;\"></div>            <script type=\"text/javascript\">                                    window.PLOTLYENV=window.PLOTLYENV || {};                                    if (document.getElementById(\"1b695b9d-3a30-408a-88b6-6651cd0c43ae\")) {                    Plotly.newPlot(                        \"1b695b9d-3a30-408a-88b6-6651cd0c43ae\",                        [{\"hovertemplate\":\"Genre=%{x}<br>Required_IOS_Version=2<br>No_of_Apps=%{y}<extra></extra>\",\"ids\":[6],\"legendgroup\":\"Book\",\"marker\":{\"color\":\"#636efa\",\"symbol\":\"circle\"},\"mode\":\"markers\",\"name\":\"Book\",\"orientation\":\"v\",\"showlegend\":true,\"x\":[\"Book\"],\"xaxis\":\"x\",\"y\":[6],\"yaxis\":\"y\",\"type\":\"scatter\"},{\"hovertemplate\":\"Genre=%{x}<br>Required_IOS_Version=2<br>No_of_Apps=%{y}<extra></extra>\",\"ids\":[5],\"legendgroup\":\"Education\",\"marker\":{\"color\":\"#EF553B\",\"symbol\":\"circle\"},\"mode\":\"markers\",\"name\":\"Education\",\"orientation\":\"v\",\"showlegend\":true,\"x\":[\"Education\"],\"xaxis\":\"x\",\"y\":[5],\"yaxis\":\"y\",\"type\":\"scatter\"},{\"hovertemplate\":\"Genre=%{x}<br>Required_IOS_Version=2<br>No_of_Apps=%{y}<extra></extra>\",\"ids\":[1],\"legendgroup\":\"Social Networking\",\"marker\":{\"color\":\"#00cc96\",\"symbol\":\"circle\"},\"mode\":\"markers\",\"name\":\"Social Networking\",\"orientation\":\"v\",\"showlegend\":true,\"x\":[\"Social Networking\"],\"xaxis\":\"x\",\"y\":[1],\"yaxis\":\"y\",\"type\":\"scatter\"},{\"hovertemplate\":\"Genre=%{x}<br>Required_IOS_Version=2<br>No_of_Apps=%{y}<extra></extra>\",\"ids\":[1],\"legendgroup\":\"Productivity\",\"marker\":{\"color\":\"#ab63fa\",\"symbol\":\"circle\"},\"mode\":\"markers\",\"name\":\"Productivity\",\"orientation\":\"v\",\"showlegend\":true,\"x\":[\"Productivity\"],\"xaxis\":\"x\",\"y\":[1],\"yaxis\":\"y\",\"type\":\"scatter\"},{\"hovertemplate\":\"Genre=%{x}<br>Required_IOS_Version=2<br>No_of_Apps=%{y}<extra></extra>\",\"ids\":[1],\"legendgroup\":\"Photo & Video\",\"marker\":{\"color\":\"#FFA15A\",\"symbol\":\"circle\"},\"mode\":\"markers\",\"name\":\"Photo & Video\",\"orientation\":\"v\",\"showlegend\":true,\"x\":[\"Photo & Video\"],\"xaxis\":\"x\",\"y\":[1],\"yaxis\":\"y\",\"type\":\"scatter\"},{\"hovertemplate\":\"Genre=%{x}<br>Required_IOS_Version=2<br>No_of_Apps=%{y}<extra></extra>\",\"ids\":[1],\"legendgroup\":\"Sports\",\"marker\":{\"color\":\"#19d3f3\",\"symbol\":\"circle\"},\"mode\":\"markers\",\"name\":\"Sports\",\"orientation\":\"v\",\"showlegend\":true,\"x\":[\"Sports\"],\"xaxis\":\"x\",\"y\":[1],\"yaxis\":\"y\",\"type\":\"scatter\"},{\"hovertemplate\":\"Genre=%{x}<br>Required_IOS_Version=2<br>No_of_Apps=%{y}<extra></extra>\",\"ids\":[30],\"legendgroup\":\"Entertainment\",\"marker\":{\"color\":\"#FF6692\",\"symbol\":\"circle\"},\"mode\":\"markers\",\"name\":\"Entertainment\",\"orientation\":\"v\",\"showlegend\":true,\"x\":[\"Entertainment\"],\"xaxis\":\"x\",\"y\":[30],\"yaxis\":\"y\",\"type\":\"scatter\"},{\"hovertemplate\":\"Genre=%{x}<br>Required_IOS_Version=2<br>No_of_Apps=%{y}<extra></extra>\",\"ids\":[3],\"legendgroup\":\"Travel\",\"marker\":{\"color\":\"#B6E880\",\"symbol\":\"circle\"},\"mode\":\"markers\",\"name\":\"Travel\",\"orientation\":\"v\",\"showlegend\":true,\"x\":[\"Travel\"],\"xaxis\":\"x\",\"y\":[3],\"yaxis\":\"y\",\"type\":\"scatter\"},{\"hovertemplate\":\"Genre=%{x}<br>Required_IOS_Version=2<br>No_of_Apps=%{y}<extra></extra>\",\"ids\":[1],\"legendgroup\":\"Reference\",\"marker\":{\"color\":\"#FF97FF\",\"symbol\":\"circle\"},\"mode\":\"markers\",\"name\":\"Reference\",\"orientation\":\"v\",\"showlegend\":true,\"x\":[\"Reference\"],\"xaxis\":\"x\",\"y\":[1],\"yaxis\":\"y\",\"type\":\"scatter\"},{\"hovertemplate\":\"Genre=%{x}<br>Required_IOS_Version=2<br>No_of_Apps=%{y}<extra></extra>\",\"ids\":[1],\"legendgroup\":\"Business\",\"marker\":{\"color\":\"#FECB52\",\"symbol\":\"circle\"},\"mode\":\"markers\",\"name\":\"Business\",\"orientation\":\"v\",\"showlegend\":true,\"x\":[\"Business\"],\"xaxis\":\"x\",\"y\":[1],\"yaxis\":\"y\",\"type\":\"scatter\"},{\"hovertemplate\":\"Genre=%{x}<br>Required_IOS_Version=2<br>No_of_Apps=%{y}<extra></extra>\",\"ids\":[2],\"legendgroup\":\"Music\",\"marker\":{\"color\":\"#636efa\",\"symbol\":\"circle\"},\"mode\":\"markers\",\"name\":\"Music\",\"orientation\":\"v\",\"showlegend\":true,\"x\":[\"Music\"],\"xaxis\":\"x\",\"y\":[2],\"yaxis\":\"y\",\"type\":\"scatter\"},{\"hovertemplate\":\"Genre=%{x}<br>Required_IOS_Version=2<br>No_of_Apps=%{y}<extra></extra>\",\"ids\":[2],\"legendgroup\":\"Navigation\",\"marker\":{\"color\":\"#EF553B\",\"symbol\":\"circle\"},\"mode\":\"markers\",\"name\":\"Navigation\",\"orientation\":\"v\",\"showlegend\":true,\"x\":[\"Navigation\"],\"xaxis\":\"x\",\"y\":[2],\"yaxis\":\"y\",\"type\":\"scatter\"},{\"hovertemplate\":\"Genre=%{x}<br>Required_IOS_Version=2<br>No_of_Apps=%{y}<extra></extra>\",\"ids\":[13],\"legendgroup\":\"Utilities\",\"marker\":{\"color\":\"#00cc96\",\"symbol\":\"circle\"},\"mode\":\"markers\",\"name\":\"Utilities\",\"orientation\":\"v\",\"showlegend\":true,\"x\":[\"Utilities\"],\"xaxis\":\"x\",\"y\":[13],\"yaxis\":\"y\",\"type\":\"scatter\"},{\"hovertemplate\":\"Genre=%{x}<br>Required_IOS_Version=2<br>No_of_Apps=%{y}<extra></extra>\",\"ids\":[1],\"legendgroup\":\"Medical\",\"marker\":{\"color\":\"#ab63fa\",\"symbol\":\"circle\"},\"mode\":\"markers\",\"name\":\"Medical\",\"orientation\":\"v\",\"showlegend\":true,\"x\":[\"Medical\"],\"xaxis\":\"x\",\"y\":[1],\"yaxis\":\"y\",\"type\":\"scatter\"},{\"hovertemplate\":\"Genre=%{x}<br>Required_IOS_Version=2<br>No_of_Apps=%{y}<extra></extra>\",\"ids\":[58],\"legendgroup\":\"Games\",\"marker\":{\"color\":\"#FFA15A\",\"symbol\":\"circle\"},\"mode\":\"markers\",\"name\":\"Games\",\"orientation\":\"v\",\"showlegend\":true,\"x\":[\"Games\"],\"xaxis\":\"x\",\"y\":[58],\"yaxis\":\"y\",\"type\":\"scatter\"},{\"hovertemplate\":\"Genre=%{x}<br>Required_IOS_Version=2<br>No_of_Apps=%{y}<extra></extra>\",\"ids\":[2],\"legendgroup\":\"Finance\",\"marker\":{\"color\":\"#19d3f3\",\"symbol\":\"circle\"},\"mode\":\"markers\",\"name\":\"Finance\",\"orientation\":\"v\",\"showlegend\":true,\"x\":[\"Finance\"],\"xaxis\":\"x\",\"y\":[2],\"yaxis\":\"y\",\"type\":\"scatter\"},{\"hovertemplate\":\"Genre=%{x}<br>Required_IOS_Version=2<br>No_of_Apps=%{y}<extra></extra>\",\"ids\":[2],\"legendgroup\":\"Weather\",\"marker\":{\"color\":\"#FF6692\",\"symbol\":\"circle\"},\"mode\":\"markers\",\"name\":\"Weather\",\"orientation\":\"v\",\"showlegend\":true,\"x\":[\"Weather\"],\"xaxis\":\"x\",\"y\":[2],\"yaxis\":\"y\",\"type\":\"scatter\"},{\"hovertemplate\":\"Genre=%{x}<br>Required_IOS_Version=2<br>No_of_Apps=%{y}<extra></extra>\",\"ids\":[4],\"legendgroup\":\"Lifestyle\",\"marker\":{\"color\":\"#B6E880\",\"symbol\":\"circle\"},\"mode\":\"markers\",\"name\":\"Lifestyle\",\"orientation\":\"v\",\"showlegend\":true,\"x\":[\"Lifestyle\"],\"xaxis\":\"x\",\"y\":[4],\"yaxis\":\"y\",\"type\":\"scatter\"}],                        {\"template\":{\"data\":{\"histogram2dcontour\":[{\"type\":\"histogram2dcontour\",\"colorbar\":{\"outlinewidth\":0,\"ticks\":\"\"},\"colorscale\":[[0.0,\"#0d0887\"],[0.1111111111111111,\"#46039f\"],[0.2222222222222222,\"#7201a8\"],[0.3333333333333333,\"#9c179e\"],[0.4444444444444444,\"#bd3786\"],[0.5555555555555556,\"#d8576b\"],[0.6666666666666666,\"#ed7953\"],[0.7777777777777778,\"#fb9f3a\"],[0.8888888888888888,\"#fdca26\"],[1.0,\"#f0f921\"]]}],\"choropleth\":[{\"type\":\"choropleth\",\"colorbar\":{\"outlinewidth\":0,\"ticks\":\"\"}}],\"histogram2d\":[{\"type\":\"histogram2d\",\"colorbar\":{\"outlinewidth\":0,\"ticks\":\"\"},\"colorscale\":[[0.0,\"#0d0887\"],[0.1111111111111111,\"#46039f\"],[0.2222222222222222,\"#7201a8\"],[0.3333333333333333,\"#9c179e\"],[0.4444444444444444,\"#bd3786\"],[0.5555555555555556,\"#d8576b\"],[0.6666666666666666,\"#ed7953\"],[0.7777777777777778,\"#fb9f3a\"],[0.8888888888888888,\"#fdca26\"],[1.0,\"#f0f921\"]]}],\"heatmap\":[{\"type\":\"heatmap\",\"colorbar\":{\"outlinewidth\":0,\"ticks\":\"\"},\"colorscale\":[[0.0,\"#0d0887\"],[0.1111111111111111,\"#46039f\"],[0.2222222222222222,\"#7201a8\"],[0.3333333333333333,\"#9c179e\"],[0.4444444444444444,\"#bd3786\"],[0.5555555555555556,\"#d8576b\"],[0.6666666666666666,\"#ed7953\"],[0.7777777777777778,\"#fb9f3a\"],[0.8888888888888888,\"#fdca26\"],[1.0,\"#f0f921\"]]}],\"heatmapgl\":[{\"type\":\"heatmapgl\",\"colorbar\":{\"outlinewidth\":0,\"ticks\":\"\"},\"colorscale\":[[0.0,\"#0d0887\"],[0.1111111111111111,\"#46039f\"],[0.2222222222222222,\"#7201a8\"],[0.3333333333333333,\"#9c179e\"],[0.4444444444444444,\"#bd3786\"],[0.5555555555555556,\"#d8576b\"],[0.6666666666666666,\"#ed7953\"],[0.7777777777777778,\"#fb9f3a\"],[0.8888888888888888,\"#fdca26\"],[1.0,\"#f0f921\"]]}],\"contourcarpet\":[{\"type\":\"contourcarpet\",\"colorbar\":{\"outlinewidth\":0,\"ticks\":\"\"}}],\"contour\":[{\"type\":\"contour\",\"colorbar\":{\"outlinewidth\":0,\"ticks\":\"\"},\"colorscale\":[[0.0,\"#0d0887\"],[0.1111111111111111,\"#46039f\"],[0.2222222222222222,\"#7201a8\"],[0.3333333333333333,\"#9c179e\"],[0.4444444444444444,\"#bd3786\"],[0.5555555555555556,\"#d8576b\"],[0.6666666666666666,\"#ed7953\"],[0.7777777777777778,\"#fb9f3a\"],[0.8888888888888888,\"#fdca26\"],[1.0,\"#f0f921\"]]}],\"surface\":[{\"type\":\"surface\",\"colorbar\":{\"outlinewidth\":0,\"ticks\":\"\"},\"colorscale\":[[0.0,\"#0d0887\"],[0.1111111111111111,\"#46039f\"],[0.2222222222222222,\"#7201a8\"],[0.3333333333333333,\"#9c179e\"],[0.4444444444444444,\"#bd3786\"],[0.5555555555555556,\"#d8576b\"],[0.6666666666666666,\"#ed7953\"],[0.7777777777777778,\"#fb9f3a\"],[0.8888888888888888,\"#fdca26\"],[1.0,\"#f0f921\"]]}],\"mesh3d\":[{\"type\":\"mesh3d\",\"colorbar\":{\"outlinewidth\":0,\"ticks\":\"\"}}],\"scatter\":[{\"fillpattern\":{\"fillmode\":\"overlay\",\"size\":10,\"solidity\":0.2},\"type\":\"scatter\"}],\"parcoords\":[{\"type\":\"parcoords\",\"line\":{\"colorbar\":{\"outlinewidth\":0,\"ticks\":\"\"}}}],\"scatterpolargl\":[{\"type\":\"scatterpolargl\",\"marker\":{\"colorbar\":{\"outlinewidth\":0,\"ticks\":\"\"}}}],\"bar\":[{\"error_x\":{\"color\":\"#2a3f5f\"},\"error_y\":{\"color\":\"#2a3f5f\"},\"marker\":{\"line\":{\"color\":\"#E5ECF6\",\"width\":0.5},\"pattern\":{\"fillmode\":\"overlay\",\"size\":10,\"solidity\":0.2}},\"type\":\"bar\"}],\"scattergeo\":[{\"type\":\"scattergeo\",\"marker\":{\"colorbar\":{\"outlinewidth\":0,\"ticks\":\"\"}}}],\"scatterpolar\":[{\"type\":\"scatterpolar\",\"marker\":{\"colorbar\":{\"outlinewidth\":0,\"ticks\":\"\"}}}],\"histogram\":[{\"marker\":{\"pattern\":{\"fillmode\":\"overlay\",\"size\":10,\"solidity\":0.2}},\"type\":\"histogram\"}],\"scattergl\":[{\"type\":\"scattergl\",\"marker\":{\"colorbar\":{\"outlinewidth\":0,\"ticks\":\"\"}}}],\"scatter3d\":[{\"type\":\"scatter3d\",\"line\":{\"colorbar\":{\"outlinewidth\":0,\"ticks\":\"\"}},\"marker\":{\"colorbar\":{\"outlinewidth\":0,\"ticks\":\"\"}}}],\"scattermapbox\":[{\"type\":\"scattermapbox\",\"marker\":{\"colorbar\":{\"outlinewidth\":0,\"ticks\":\"\"}}}],\"scatterternary\":[{\"type\":\"scatterternary\",\"marker\":{\"colorbar\":{\"outlinewidth\":0,\"ticks\":\"\"}}}],\"scattercarpet\":[{\"type\":\"scattercarpet\",\"marker\":{\"colorbar\":{\"outlinewidth\":0,\"ticks\":\"\"}}}],\"carpet\":[{\"aaxis\":{\"endlinecolor\":\"#2a3f5f\",\"gridcolor\":\"white\",\"linecolor\":\"white\",\"minorgridcolor\":\"white\",\"startlinecolor\":\"#2a3f5f\"},\"baxis\":{\"endlinecolor\":\"#2a3f5f\",\"gridcolor\":\"white\",\"linecolor\":\"white\",\"minorgridcolor\":\"white\",\"startlinecolor\":\"#2a3f5f\"},\"type\":\"carpet\"}],\"table\":[{\"cells\":{\"fill\":{\"color\":\"#EBF0F8\"},\"line\":{\"color\":\"white\"}},\"header\":{\"fill\":{\"color\":\"#C8D4E3\"},\"line\":{\"color\":\"white\"}},\"type\":\"table\"}],\"barpolar\":[{\"marker\":{\"line\":{\"color\":\"#E5ECF6\",\"width\":0.5},\"pattern\":{\"fillmode\":\"overlay\",\"size\":10,\"solidity\":0.2}},\"type\":\"barpolar\"}],\"pie\":[{\"automargin\":true,\"type\":\"pie\"}]},\"layout\":{\"autotypenumbers\":\"strict\",\"colorway\":[\"#636efa\",\"#EF553B\",\"#00cc96\",\"#ab63fa\",\"#FFA15A\",\"#19d3f3\",\"#FF6692\",\"#B6E880\",\"#FF97FF\",\"#FECB52\"],\"font\":{\"color\":\"#2a3f5f\"},\"hovermode\":\"closest\",\"hoverlabel\":{\"align\":\"left\"},\"paper_bgcolor\":\"white\",\"plot_bgcolor\":\"#E5ECF6\",\"polar\":{\"bgcolor\":\"#E5ECF6\",\"angularaxis\":{\"gridcolor\":\"white\",\"linecolor\":\"white\",\"ticks\":\"\"},\"radialaxis\":{\"gridcolor\":\"white\",\"linecolor\":\"white\",\"ticks\":\"\"}},\"ternary\":{\"bgcolor\":\"#E5ECF6\",\"aaxis\":{\"gridcolor\":\"white\",\"linecolor\":\"white\",\"ticks\":\"\"},\"baxis\":{\"gridcolor\":\"white\",\"linecolor\":\"white\",\"ticks\":\"\"},\"caxis\":{\"gridcolor\":\"white\",\"linecolor\":\"white\",\"ticks\":\"\"}},\"coloraxis\":{\"colorbar\":{\"outlinewidth\":0,\"ticks\":\"\"}},\"colorscale\":{\"sequential\":[[0.0,\"#0d0887\"],[0.1111111111111111,\"#46039f\"],[0.2222222222222222,\"#7201a8\"],[0.3333333333333333,\"#9c179e\"],[0.4444444444444444,\"#bd3786\"],[0.5555555555555556,\"#d8576b\"],[0.6666666666666666,\"#ed7953\"],[0.7777777777777778,\"#fb9f3a\"],[0.8888888888888888,\"#fdca26\"],[1.0,\"#f0f921\"]],\"sequentialminus\":[[0.0,\"#0d0887\"],[0.1111111111111111,\"#46039f\"],[0.2222222222222222,\"#7201a8\"],[0.3333333333333333,\"#9c179e\"],[0.4444444444444444,\"#bd3786\"],[0.5555555555555556,\"#d8576b\"],[0.6666666666666666,\"#ed7953\"],[0.7777777777777778,\"#fb9f3a\"],[0.8888888888888888,\"#fdca26\"],[1.0,\"#f0f921\"]],\"diverging\":[[0,\"#8e0152\"],[0.1,\"#c51b7d\"],[0.2,\"#de77ae\"],[0.3,\"#f1b6da\"],[0.4,\"#fde0ef\"],[0.5,\"#f7f7f7\"],[0.6,\"#e6f5d0\"],[0.7,\"#b8e186\"],[0.8,\"#7fbc41\"],[0.9,\"#4d9221\"],[1,\"#276419\"]]},\"xaxis\":{\"gridcolor\":\"white\",\"linecolor\":\"white\",\"ticks\":\"\",\"title\":{\"standoff\":15},\"zerolinecolor\":\"white\",\"automargin\":true,\"zerolinewidth\":2},\"yaxis\":{\"gridcolor\":\"white\",\"linecolor\":\"white\",\"ticks\":\"\",\"title\":{\"standoff\":15},\"zerolinecolor\":\"white\",\"automargin\":true,\"zerolinewidth\":2},\"scene\":{\"xaxis\":{\"backgroundcolor\":\"#E5ECF6\",\"gridcolor\":\"white\",\"linecolor\":\"white\",\"showbackground\":true,\"ticks\":\"\",\"zerolinecolor\":\"white\",\"gridwidth\":2},\"yaxis\":{\"backgroundcolor\":\"#E5ECF6\",\"gridcolor\":\"white\",\"linecolor\":\"white\",\"showbackground\":true,\"ticks\":\"\",\"zerolinecolor\":\"white\",\"gridwidth\":2},\"zaxis\":{\"backgroundcolor\":\"#E5ECF6\",\"gridcolor\":\"white\",\"linecolor\":\"white\",\"showbackground\":true,\"ticks\":\"\",\"zerolinecolor\":\"white\",\"gridwidth\":2}},\"shapedefaults\":{\"line\":{\"color\":\"#2a3f5f\"}},\"annotationdefaults\":{\"arrowcolor\":\"#2a3f5f\",\"arrowhead\":0,\"arrowwidth\":1},\"geo\":{\"bgcolor\":\"white\",\"landcolor\":\"#E5ECF6\",\"subunitcolor\":\"white\",\"showland\":true,\"showlakes\":true,\"lakecolor\":\"white\"},\"title\":{\"x\":0.05},\"mapbox\":{\"style\":\"light\"}}},\"xaxis\":{\"anchor\":\"y\",\"domain\":[0.0,1.0],\"title\":{\"text\":\"Genre\"},\"categoryorder\":\"array\",\"categoryarray\":[\"Book\",\"Education\",\"Social Networking\",\"Productivity\",\"Photo & Video\",\"Sports\",\"Entertainment\",\"Travel\",\"Reference\",\"Business\",\"Music\",\"Navigation\",\"Utilities\",\"Medical\",\"Games\",\"Finance\",\"Weather\",\"Lifestyle\",\"Health & Fitness\",\"News\",\"Food & Drink\",\"Shopping\",\"Magazines & Newspapers\",\"Graphics & Design\",\"Developer Tools\",\"Stickers\"],\"tickangle\":45},\"yaxis\":{\"anchor\":\"x\",\"domain\":[0.0,1.0],\"title\":{\"text\":\"No_of_Apps\"},\"range\":[-1000,37000]},\"legend\":{\"title\":{\"text\":\"Genre\"},\"tracegroupgap\":0},\"title\":{\"text\":\"Total number of apps on differnt IOS versions\",\"x\":0.45},\"updatemenus\":[{\"buttons\":[{\"args\":[null,{\"frame\":{\"duration\":500,\"redraw\":false},\"mode\":\"immediate\",\"fromcurrent\":true,\"transition\":{\"duration\":500,\"easing\":\"linear\"}}],\"label\":\"&#9654;\",\"method\":\"animate\"},{\"args\":[[null],{\"frame\":{\"duration\":0,\"redraw\":false},\"mode\":\"immediate\",\"fromcurrent\":true,\"transition\":{\"duration\":0,\"easing\":\"linear\"}}],\"label\":\"&#9724;\",\"method\":\"animate\"}],\"direction\":\"left\",\"pad\":{\"r\":10,\"t\":70},\"showactive\":false,\"type\":\"buttons\",\"x\":0.1,\"xanchor\":\"right\",\"y\":0,\"yanchor\":\"top\"}],\"sliders\":[{\"active\":0,\"currentvalue\":{\"prefix\":\"Required_IOS_Version=\"},\"len\":0.9,\"pad\":{\"r\":10,\"t\":150},\"steps\":[{\"args\":[[\"2\"],{\"frame\":{\"duration\":0,\"redraw\":false},\"mode\":\"immediate\",\"fromcurrent\":true,\"transition\":{\"duration\":0,\"easing\":\"linear\"}}],\"label\":\"2\",\"method\":\"animate\"},{\"args\":[[\"3\"],{\"frame\":{\"duration\":0,\"redraw\":false},\"mode\":\"immediate\",\"fromcurrent\":true,\"transition\":{\"duration\":0,\"easing\":\"linear\"}}],\"label\":\"3\",\"method\":\"animate\"},{\"args\":[[\"4\"],{\"frame\":{\"duration\":0,\"redraw\":false},\"mode\":\"immediate\",\"fromcurrent\":true,\"transition\":{\"duration\":0,\"easing\":\"linear\"}}],\"label\":\"4\",\"method\":\"animate\"},{\"args\":[[\"5\"],{\"frame\":{\"duration\":0,\"redraw\":false},\"mode\":\"immediate\",\"fromcurrent\":true,\"transition\":{\"duration\":0,\"easing\":\"linear\"}}],\"label\":\"5\",\"method\":\"animate\"},{\"args\":[[\"6\"],{\"frame\":{\"duration\":0,\"redraw\":false},\"mode\":\"immediate\",\"fromcurrent\":true,\"transition\":{\"duration\":0,\"easing\":\"linear\"}}],\"label\":\"6\",\"method\":\"animate\"},{\"args\":[[\"7\"],{\"frame\":{\"duration\":0,\"redraw\":false},\"mode\":\"immediate\",\"fromcurrent\":true,\"transition\":{\"duration\":0,\"easing\":\"linear\"}}],\"label\":\"7\",\"method\":\"animate\"},{\"args\":[[\"8\"],{\"frame\":{\"duration\":0,\"redraw\":false},\"mode\":\"immediate\",\"fromcurrent\":true,\"transition\":{\"duration\":0,\"easing\":\"linear\"}}],\"label\":\"8\",\"method\":\"animate\"},{\"args\":[[\"9\"],{\"frame\":{\"duration\":0,\"redraw\":false},\"mode\":\"immediate\",\"fromcurrent\":true,\"transition\":{\"duration\":0,\"easing\":\"linear\"}}],\"label\":\"9\",\"method\":\"animate\"},{\"args\":[[\"10\"],{\"frame\":{\"duration\":0,\"redraw\":false},\"mode\":\"immediate\",\"fromcurrent\":true,\"transition\":{\"duration\":0,\"easing\":\"linear\"}}],\"label\":\"10\",\"method\":\"animate\"},{\"args\":[[\"11\"],{\"frame\":{\"duration\":0,\"redraw\":false},\"mode\":\"immediate\",\"fromcurrent\":true,\"transition\":{\"duration\":0,\"easing\":\"linear\"}}],\"label\":\"11\",\"method\":\"animate\"},{\"args\":[[\"12\"],{\"frame\":{\"duration\":0,\"redraw\":false},\"mode\":\"immediate\",\"fromcurrent\":true,\"transition\":{\"duration\":0,\"easing\":\"linear\"}}],\"label\":\"12\",\"method\":\"animate\"},{\"args\":[[\"13\"],{\"frame\":{\"duration\":0,\"redraw\":false},\"mode\":\"immediate\",\"fromcurrent\":true,\"transition\":{\"duration\":0,\"easing\":\"linear\"}}],\"label\":\"13\",\"method\":\"animate\"},{\"args\":[[\"14\"],{\"frame\":{\"duration\":0,\"redraw\":false},\"mode\":\"immediate\",\"fromcurrent\":true,\"transition\":{\"duration\":0,\"easing\":\"linear\"}}],\"label\":\"14\",\"method\":\"animate\"},{\"args\":[[\"15\"],{\"frame\":{\"duration\":0,\"redraw\":false},\"mode\":\"immediate\",\"fromcurrent\":true,\"transition\":{\"duration\":0,\"easing\":\"linear\"}}],\"label\":\"15\",\"method\":\"animate\"}],\"x\":0.1,\"xanchor\":\"left\",\"y\":0,\"yanchor\":\"top\"}],\"margin\":{\"l\":20,\"r\":20,\"t\":60,\"b\":200},\"width\":700},                        {\"responsive\": true}                    ).then(function(){\n",
       "                            Plotly.addFrames('1b695b9d-3a30-408a-88b6-6651cd0c43ae', [{\"data\":[{\"hovertemplate\":\"Genre=%{x}<br>Required_IOS_Version=2<br>No_of_Apps=%{y}<extra></extra>\",\"ids\":[6],\"legendgroup\":\"Book\",\"marker\":{\"color\":\"#636efa\",\"symbol\":\"circle\"},\"mode\":\"markers\",\"name\":\"Book\",\"orientation\":\"v\",\"showlegend\":true,\"x\":[\"Book\"],\"xaxis\":\"x\",\"y\":[6],\"yaxis\":\"y\",\"type\":\"scatter\"},{\"hovertemplate\":\"Genre=%{x}<br>Required_IOS_Version=2<br>No_of_Apps=%{y}<extra></extra>\",\"ids\":[5],\"legendgroup\":\"Education\",\"marker\":{\"color\":\"#EF553B\",\"symbol\":\"circle\"},\"mode\":\"markers\",\"name\":\"Education\",\"orientation\":\"v\",\"showlegend\":true,\"x\":[\"Education\"],\"xaxis\":\"x\",\"y\":[5],\"yaxis\":\"y\",\"type\":\"scatter\"},{\"hovertemplate\":\"Genre=%{x}<br>Required_IOS_Version=2<br>No_of_Apps=%{y}<extra></extra>\",\"ids\":[1],\"legendgroup\":\"Social Networking\",\"marker\":{\"color\":\"#00cc96\",\"symbol\":\"circle\"},\"mode\":\"markers\",\"name\":\"Social Networking\",\"orientation\":\"v\",\"showlegend\":true,\"x\":[\"Social Networking\"],\"xaxis\":\"x\",\"y\":[1],\"yaxis\":\"y\",\"type\":\"scatter\"},{\"hovertemplate\":\"Genre=%{x}<br>Required_IOS_Version=2<br>No_of_Apps=%{y}<extra></extra>\",\"ids\":[1],\"legendgroup\":\"Productivity\",\"marker\":{\"color\":\"#ab63fa\",\"symbol\":\"circle\"},\"mode\":\"markers\",\"name\":\"Productivity\",\"orientation\":\"v\",\"showlegend\":true,\"x\":[\"Productivity\"],\"xaxis\":\"x\",\"y\":[1],\"yaxis\":\"y\",\"type\":\"scatter\"},{\"hovertemplate\":\"Genre=%{x}<br>Required_IOS_Version=2<br>No_of_Apps=%{y}<extra></extra>\",\"ids\":[1],\"legendgroup\":\"Photo & Video\",\"marker\":{\"color\":\"#FFA15A\",\"symbol\":\"circle\"},\"mode\":\"markers\",\"name\":\"Photo & Video\",\"orientation\":\"v\",\"showlegend\":true,\"x\":[\"Photo & Video\"],\"xaxis\":\"x\",\"y\":[1],\"yaxis\":\"y\",\"type\":\"scatter\"},{\"hovertemplate\":\"Genre=%{x}<br>Required_IOS_Version=2<br>No_of_Apps=%{y}<extra></extra>\",\"ids\":[1],\"legendgroup\":\"Sports\",\"marker\":{\"color\":\"#19d3f3\",\"symbol\":\"circle\"},\"mode\":\"markers\",\"name\":\"Sports\",\"orientation\":\"v\",\"showlegend\":true,\"x\":[\"Sports\"],\"xaxis\":\"x\",\"y\":[1],\"yaxis\":\"y\",\"type\":\"scatter\"},{\"hovertemplate\":\"Genre=%{x}<br>Required_IOS_Version=2<br>No_of_Apps=%{y}<extra></extra>\",\"ids\":[30],\"legendgroup\":\"Entertainment\",\"marker\":{\"color\":\"#FF6692\",\"symbol\":\"circle\"},\"mode\":\"markers\",\"name\":\"Entertainment\",\"orientation\":\"v\",\"showlegend\":true,\"x\":[\"Entertainment\"],\"xaxis\":\"x\",\"y\":[30],\"yaxis\":\"y\",\"type\":\"scatter\"},{\"hovertemplate\":\"Genre=%{x}<br>Required_IOS_Version=2<br>No_of_Apps=%{y}<extra></extra>\",\"ids\":[3],\"legendgroup\":\"Travel\",\"marker\":{\"color\":\"#B6E880\",\"symbol\":\"circle\"},\"mode\":\"markers\",\"name\":\"Travel\",\"orientation\":\"v\",\"showlegend\":true,\"x\":[\"Travel\"],\"xaxis\":\"x\",\"y\":[3],\"yaxis\":\"y\",\"type\":\"scatter\"},{\"hovertemplate\":\"Genre=%{x}<br>Required_IOS_Version=2<br>No_of_Apps=%{y}<extra></extra>\",\"ids\":[1],\"legendgroup\":\"Reference\",\"marker\":{\"color\":\"#FF97FF\",\"symbol\":\"circle\"},\"mode\":\"markers\",\"name\":\"Reference\",\"orientation\":\"v\",\"showlegend\":true,\"x\":[\"Reference\"],\"xaxis\":\"x\",\"y\":[1],\"yaxis\":\"y\",\"type\":\"scatter\"},{\"hovertemplate\":\"Genre=%{x}<br>Required_IOS_Version=2<br>No_of_Apps=%{y}<extra></extra>\",\"ids\":[1],\"legendgroup\":\"Business\",\"marker\":{\"color\":\"#FECB52\",\"symbol\":\"circle\"},\"mode\":\"markers\",\"name\":\"Business\",\"orientation\":\"v\",\"showlegend\":true,\"x\":[\"Business\"],\"xaxis\":\"x\",\"y\":[1],\"yaxis\":\"y\",\"type\":\"scatter\"},{\"hovertemplate\":\"Genre=%{x}<br>Required_IOS_Version=2<br>No_of_Apps=%{y}<extra></extra>\",\"ids\":[2],\"legendgroup\":\"Music\",\"marker\":{\"color\":\"#636efa\",\"symbol\":\"circle\"},\"mode\":\"markers\",\"name\":\"Music\",\"orientation\":\"v\",\"showlegend\":true,\"x\":[\"Music\"],\"xaxis\":\"x\",\"y\":[2],\"yaxis\":\"y\",\"type\":\"scatter\"},{\"hovertemplate\":\"Genre=%{x}<br>Required_IOS_Version=2<br>No_of_Apps=%{y}<extra></extra>\",\"ids\":[2],\"legendgroup\":\"Navigation\",\"marker\":{\"color\":\"#EF553B\",\"symbol\":\"circle\"},\"mode\":\"markers\",\"name\":\"Navigation\",\"orientation\":\"v\",\"showlegend\":true,\"x\":[\"Navigation\"],\"xaxis\":\"x\",\"y\":[2],\"yaxis\":\"y\",\"type\":\"scatter\"},{\"hovertemplate\":\"Genre=%{x}<br>Required_IOS_Version=2<br>No_of_Apps=%{y}<extra></extra>\",\"ids\":[13],\"legendgroup\":\"Utilities\",\"marker\":{\"color\":\"#00cc96\",\"symbol\":\"circle\"},\"mode\":\"markers\",\"name\":\"Utilities\",\"orientation\":\"v\",\"showlegend\":true,\"x\":[\"Utilities\"],\"xaxis\":\"x\",\"y\":[13],\"yaxis\":\"y\",\"type\":\"scatter\"},{\"hovertemplate\":\"Genre=%{x}<br>Required_IOS_Version=2<br>No_of_Apps=%{y}<extra></extra>\",\"ids\":[1],\"legendgroup\":\"Medical\",\"marker\":{\"color\":\"#ab63fa\",\"symbol\":\"circle\"},\"mode\":\"markers\",\"name\":\"Medical\",\"orientation\":\"v\",\"showlegend\":true,\"x\":[\"Medical\"],\"xaxis\":\"x\",\"y\":[1],\"yaxis\":\"y\",\"type\":\"scatter\"},{\"hovertemplate\":\"Genre=%{x}<br>Required_IOS_Version=2<br>No_of_Apps=%{y}<extra></extra>\",\"ids\":[58],\"legendgroup\":\"Games\",\"marker\":{\"color\":\"#FFA15A\",\"symbol\":\"circle\"},\"mode\":\"markers\",\"name\":\"Games\",\"orientation\":\"v\",\"showlegend\":true,\"x\":[\"Games\"],\"xaxis\":\"x\",\"y\":[58],\"yaxis\":\"y\",\"type\":\"scatter\"},{\"hovertemplate\":\"Genre=%{x}<br>Required_IOS_Version=2<br>No_of_Apps=%{y}<extra></extra>\",\"ids\":[2],\"legendgroup\":\"Finance\",\"marker\":{\"color\":\"#19d3f3\",\"symbol\":\"circle\"},\"mode\":\"markers\",\"name\":\"Finance\",\"orientation\":\"v\",\"showlegend\":true,\"x\":[\"Finance\"],\"xaxis\":\"x\",\"y\":[2],\"yaxis\":\"y\",\"type\":\"scatter\"},{\"hovertemplate\":\"Genre=%{x}<br>Required_IOS_Version=2<br>No_of_Apps=%{y}<extra></extra>\",\"ids\":[2],\"legendgroup\":\"Weather\",\"marker\":{\"color\":\"#FF6692\",\"symbol\":\"circle\"},\"mode\":\"markers\",\"name\":\"Weather\",\"orientation\":\"v\",\"showlegend\":true,\"x\":[\"Weather\"],\"xaxis\":\"x\",\"y\":[2],\"yaxis\":\"y\",\"type\":\"scatter\"},{\"hovertemplate\":\"Genre=%{x}<br>Required_IOS_Version=2<br>No_of_Apps=%{y}<extra></extra>\",\"ids\":[4],\"legendgroup\":\"Lifestyle\",\"marker\":{\"color\":\"#B6E880\",\"symbol\":\"circle\"},\"mode\":\"markers\",\"name\":\"Lifestyle\",\"orientation\":\"v\",\"showlegend\":true,\"x\":[\"Lifestyle\"],\"xaxis\":\"x\",\"y\":[4],\"yaxis\":\"y\",\"type\":\"scatter\"}],\"name\":\"2\"},{\"data\":[{\"hovertemplate\":\"Genre=%{x}<br>Required_IOS_Version=3<br>No_of_Apps=%{y}<extra></extra>\",\"ids\":[43],\"legendgroup\":\"Book\",\"marker\":{\"color\":\"#636efa\",\"symbol\":\"circle\"},\"mode\":\"markers\",\"name\":\"Book\",\"orientation\":\"v\",\"showlegend\":true,\"x\":[\"Book\"],\"xaxis\":\"x\",\"y\":[43],\"yaxis\":\"y\",\"type\":\"scatter\"},{\"hovertemplate\":\"Genre=%{x}<br>Required_IOS_Version=3<br>No_of_Apps=%{y}<extra></extra>\",\"ids\":[141],\"legendgroup\":\"Education\",\"marker\":{\"color\":\"#EF553B\",\"symbol\":\"circle\"},\"mode\":\"markers\",\"name\":\"Education\",\"orientation\":\"v\",\"showlegend\":true,\"x\":[\"Education\"],\"xaxis\":\"x\",\"y\":[141],\"yaxis\":\"y\",\"type\":\"scatter\"},{\"hovertemplate\":\"Genre=%{x}<br>Required_IOS_Version=3<br>No_of_Apps=%{y}<extra></extra>\",\"ids\":[11],\"legendgroup\":\"Social Networking\",\"marker\":{\"color\":\"#00cc96\",\"symbol\":\"circle\"},\"mode\":\"markers\",\"name\":\"Social Networking\",\"orientation\":\"v\",\"showlegend\":true,\"x\":[\"Social Networking\"],\"xaxis\":\"x\",\"y\":[11],\"yaxis\":\"y\",\"type\":\"scatter\"},{\"hovertemplate\":\"Genre=%{x}<br>Required_IOS_Version=3<br>No_of_Apps=%{y}<extra></extra>\",\"ids\":[29],\"legendgroup\":\"Productivity\",\"marker\":{\"color\":\"#ab63fa\",\"symbol\":\"circle\"},\"mode\":\"markers\",\"name\":\"Productivity\",\"orientation\":\"v\",\"showlegend\":true,\"x\":[\"Productivity\"],\"xaxis\":\"x\",\"y\":[29],\"yaxis\":\"y\",\"type\":\"scatter\"},{\"hovertemplate\":\"Genre=%{x}<br>Required_IOS_Version=3<br>No_of_Apps=%{y}<extra></extra>\",\"ids\":[20],\"legendgroup\":\"Photo & Video\",\"marker\":{\"color\":\"#FFA15A\",\"symbol\":\"circle\"},\"mode\":\"markers\",\"name\":\"Photo & Video\",\"orientation\":\"v\",\"showlegend\":true,\"x\":[\"Photo & Video\"],\"xaxis\":\"x\",\"y\":[20],\"yaxis\":\"y\",\"type\":\"scatter\"},{\"hovertemplate\":\"Genre=%{x}<br>Required_IOS_Version=3<br>No_of_Apps=%{y}<extra></extra>\",\"ids\":[15],\"legendgroup\":\"Sports\",\"marker\":{\"color\":\"#19d3f3\",\"symbol\":\"circle\"},\"mode\":\"markers\",\"name\":\"Sports\",\"orientation\":\"v\",\"showlegend\":true,\"x\":[\"Sports\"],\"xaxis\":\"x\",\"y\":[15],\"yaxis\":\"y\",\"type\":\"scatter\"},{\"hovertemplate\":\"Genre=%{x}<br>Required_IOS_Version=3<br>No_of_Apps=%{y}<extra></extra>\",\"ids\":[144],\"legendgroup\":\"Entertainment\",\"marker\":{\"color\":\"#FF6692\",\"symbol\":\"circle\"},\"mode\":\"markers\",\"name\":\"Entertainment\",\"orientation\":\"v\",\"showlegend\":true,\"x\":[\"Entertainment\"],\"xaxis\":\"x\",\"y\":[144],\"yaxis\":\"y\",\"type\":\"scatter\"},{\"hovertemplate\":\"Genre=%{x}<br>Required_IOS_Version=3<br>No_of_Apps=%{y}<extra></extra>\",\"ids\":[7],\"legendgroup\":\"Travel\",\"marker\":{\"color\":\"#B6E880\",\"symbol\":\"circle\"},\"mode\":\"markers\",\"name\":\"Travel\",\"orientation\":\"v\",\"showlegend\":true,\"x\":[\"Travel\"],\"xaxis\":\"x\",\"y\":[7],\"yaxis\":\"y\",\"type\":\"scatter\"},{\"hovertemplate\":\"Genre=%{x}<br>Required_IOS_Version=3<br>No_of_Apps=%{y}<extra></extra>\",\"ids\":[41],\"legendgroup\":\"Reference\",\"marker\":{\"color\":\"#FF97FF\",\"symbol\":\"circle\"},\"mode\":\"markers\",\"name\":\"Reference\",\"orientation\":\"v\",\"showlegend\":true,\"x\":[\"Reference\"],\"xaxis\":\"x\",\"y\":[41],\"yaxis\":\"y\",\"type\":\"scatter\"},{\"hovertemplate\":\"Genre=%{x}<br>Required_IOS_Version=3<br>No_of_Apps=%{y}<extra></extra>\",\"ids\":[16],\"legendgroup\":\"Business\",\"marker\":{\"color\":\"#FECB52\",\"symbol\":\"circle\"},\"mode\":\"markers\",\"name\":\"Business\",\"orientation\":\"v\",\"showlegend\":true,\"x\":[\"Business\"],\"xaxis\":\"x\",\"y\":[16],\"yaxis\":\"y\",\"type\":\"scatter\"},{\"hovertemplate\":\"Genre=%{x}<br>Required_IOS_Version=3<br>No_of_Apps=%{y}<extra></extra>\",\"ids\":[64],\"legendgroup\":\"Music\",\"marker\":{\"color\":\"#636efa\",\"symbol\":\"circle\"},\"mode\":\"markers\",\"name\":\"Music\",\"orientation\":\"v\",\"showlegend\":true,\"x\":[\"Music\"],\"xaxis\":\"x\",\"y\":[64],\"yaxis\":\"y\",\"type\":\"scatter\"},{\"hovertemplate\":\"Genre=%{x}<br>Required_IOS_Version=3<br>No_of_Apps=%{y}<extra></extra>\",\"ids\":[8],\"legendgroup\":\"Navigation\",\"marker\":{\"color\":\"#EF553B\",\"symbol\":\"circle\"},\"mode\":\"markers\",\"name\":\"Navigation\",\"orientation\":\"v\",\"showlegend\":true,\"x\":[\"Navigation\"],\"xaxis\":\"x\",\"y\":[8],\"yaxis\":\"y\",\"type\":\"scatter\"},{\"hovertemplate\":\"Genre=%{x}<br>Required_IOS_Version=3<br>No_of_Apps=%{y}<extra></extra>\",\"ids\":[62],\"legendgroup\":\"Utilities\",\"marker\":{\"color\":\"#00cc96\",\"symbol\":\"circle\"},\"mode\":\"markers\",\"name\":\"Utilities\",\"orientation\":\"v\",\"showlegend\":true,\"x\":[\"Utilities\"],\"xaxis\":\"x\",\"y\":[62],\"yaxis\":\"y\",\"type\":\"scatter\"},{\"hovertemplate\":\"Genre=%{x}<br>Required_IOS_Version=3<br>No_of_Apps=%{y}<extra></extra>\",\"ids\":[8],\"legendgroup\":\"Medical\",\"marker\":{\"color\":\"#ab63fa\",\"symbol\":\"circle\"},\"mode\":\"markers\",\"name\":\"Medical\",\"orientation\":\"v\",\"showlegend\":true,\"x\":[\"Medical\"],\"xaxis\":\"x\",\"y\":[8],\"yaxis\":\"y\",\"type\":\"scatter\"},{\"hovertemplate\":\"Genre=%{x}<br>Required_IOS_Version=3<br>No_of_Apps=%{y}<extra></extra>\",\"ids\":[695],\"legendgroup\":\"Games\",\"marker\":{\"color\":\"#FFA15A\",\"symbol\":\"circle\"},\"mode\":\"markers\",\"name\":\"Games\",\"orientation\":\"v\",\"showlegend\":true,\"x\":[\"Games\"],\"xaxis\":\"x\",\"y\":[695],\"yaxis\":\"y\",\"type\":\"scatter\"},{\"hovertemplate\":\"Genre=%{x}<br>Required_IOS_Version=3<br>No_of_Apps=%{y}<extra></extra>\",\"ids\":[5],\"legendgroup\":\"Finance\",\"marker\":{\"color\":\"#19d3f3\",\"symbol\":\"circle\"},\"mode\":\"markers\",\"name\":\"Finance\",\"orientation\":\"v\",\"showlegend\":true,\"x\":[\"Finance\"],\"xaxis\":\"x\",\"y\":[5],\"yaxis\":\"y\",\"type\":\"scatter\"},{\"hovertemplate\":\"Genre=%{x}<br>Required_IOS_Version=3<br>No_of_Apps=%{y}<extra></extra>\",\"ids\":[8],\"legendgroup\":\"Weather\",\"marker\":{\"color\":\"#FF6692\",\"symbol\":\"circle\"},\"mode\":\"markers\",\"name\":\"Weather\",\"orientation\":\"v\",\"showlegend\":true,\"x\":[\"Weather\"],\"xaxis\":\"x\",\"y\":[8],\"yaxis\":\"y\",\"type\":\"scatter\"},{\"hovertemplate\":\"Genre=%{x}<br>Required_IOS_Version=3<br>No_of_Apps=%{y}<extra></extra>\",\"ids\":[43],\"legendgroup\":\"Lifestyle\",\"marker\":{\"color\":\"#B6E880\",\"symbol\":\"circle\"},\"mode\":\"markers\",\"name\":\"Lifestyle\",\"orientation\":\"v\",\"showlegend\":true,\"x\":[\"Lifestyle\"],\"xaxis\":\"x\",\"y\":[43],\"yaxis\":\"y\",\"type\":\"scatter\"},{\"hovertemplate\":\"Genre=%{x}<br>Required_IOS_Version=3<br>No_of_Apps=%{y}<extra></extra>\",\"ids\":[28],\"legendgroup\":\"Health & Fitness\",\"marker\":{\"color\":\"#FF97FF\",\"symbol\":\"circle\"},\"mode\":\"markers\",\"name\":\"Health & Fitness\",\"orientation\":\"v\",\"showlegend\":true,\"x\":[\"Health & Fitness\"],\"xaxis\":\"x\",\"y\":[28],\"yaxis\":\"y\",\"type\":\"scatter\"},{\"hovertemplate\":\"Genre=%{x}<br>Required_IOS_Version=3<br>No_of_Apps=%{y}<extra></extra>\",\"ids\":[13],\"legendgroup\":\"News\",\"marker\":{\"color\":\"#FECB52\",\"symbol\":\"circle\"},\"mode\":\"markers\",\"name\":\"News\",\"orientation\":\"v\",\"showlegend\":true,\"x\":[\"News\"],\"xaxis\":\"x\",\"y\":[13],\"yaxis\":\"y\",\"type\":\"scatter\"},{\"hovertemplate\":\"Genre=%{x}<br>Required_IOS_Version=3<br>No_of_Apps=%{y}<extra></extra>\",\"ids\":[1],\"legendgroup\":\"Food & Drink\",\"marker\":{\"color\":\"#636efa\",\"symbol\":\"circle\"},\"mode\":\"markers\",\"name\":\"Food & Drink\",\"orientation\":\"v\",\"showlegend\":true,\"x\":[\"Food & Drink\"],\"xaxis\":\"x\",\"y\":[1],\"yaxis\":\"y\",\"type\":\"scatter\"},{\"hovertemplate\":\"Genre=%{x}<br>Required_IOS_Version=3<br>No_of_Apps=%{y}<extra></extra>\",\"ids\":[3],\"legendgroup\":\"Shopping\",\"marker\":{\"color\":\"#EF553B\",\"symbol\":\"circle\"},\"mode\":\"markers\",\"name\":\"Shopping\",\"orientation\":\"v\",\"showlegend\":true,\"x\":[\"Shopping\"],\"xaxis\":\"x\",\"y\":[3],\"yaxis\":\"y\",\"type\":\"scatter\"}],\"name\":\"3\"},{\"data\":[{\"hovertemplate\":\"Genre=%{x}<br>Required_IOS_Version=4<br>No_of_Apps=%{y}<extra></extra>\",\"ids\":[105],\"legendgroup\":\"Book\",\"marker\":{\"color\":\"#636efa\",\"symbol\":\"circle\"},\"mode\":\"markers\",\"name\":\"Book\",\"orientation\":\"v\",\"showlegend\":true,\"x\":[\"Book\"],\"xaxis\":\"x\",\"y\":[105],\"yaxis\":\"y\",\"type\":\"scatter\"},{\"hovertemplate\":\"Genre=%{x}<br>Required_IOS_Version=4<br>No_of_Apps=%{y}<extra></extra>\",\"ids\":[565],\"legendgroup\":\"Education\",\"marker\":{\"color\":\"#EF553B\",\"symbol\":\"circle\"},\"mode\":\"markers\",\"name\":\"Education\",\"orientation\":\"v\",\"showlegend\":true,\"x\":[\"Education\"],\"xaxis\":\"x\",\"y\":[565],\"yaxis\":\"y\",\"type\":\"scatter\"},{\"hovertemplate\":\"Genre=%{x}<br>Required_IOS_Version=4<br>No_of_Apps=%{y}<extra></extra>\",\"ids\":[35],\"legendgroup\":\"Social Networking\",\"marker\":{\"color\":\"#00cc96\",\"symbol\":\"circle\"},\"mode\":\"markers\",\"name\":\"Social Networking\",\"orientation\":\"v\",\"showlegend\":true,\"x\":[\"Social Networking\"],\"xaxis\":\"x\",\"y\":[35],\"yaxis\":\"y\",\"type\":\"scatter\"},{\"hovertemplate\":\"Genre=%{x}<br>Required_IOS_Version=4<br>No_of_Apps=%{y}<extra></extra>\",\"ids\":[78],\"legendgroup\":\"Productivity\",\"marker\":{\"color\":\"#ab63fa\",\"symbol\":\"circle\"},\"mode\":\"markers\",\"name\":\"Productivity\",\"orientation\":\"v\",\"showlegend\":true,\"x\":[\"Productivity\"],\"xaxis\":\"x\",\"y\":[78],\"yaxis\":\"y\",\"type\":\"scatter\"},{\"hovertemplate\":\"Genre=%{x}<br>Required_IOS_Version=4<br>No_of_Apps=%{y}<extra></extra>\",\"ids\":[92],\"legendgroup\":\"Photo & Video\",\"marker\":{\"color\":\"#FFA15A\",\"symbol\":\"circle\"},\"mode\":\"markers\",\"name\":\"Photo & Video\",\"orientation\":\"v\",\"showlegend\":true,\"x\":[\"Photo & Video\"],\"xaxis\":\"x\",\"y\":[92],\"yaxis\":\"y\",\"type\":\"scatter\"},{\"hovertemplate\":\"Genre=%{x}<br>Required_IOS_Version=4<br>No_of_Apps=%{y}<extra></extra>\",\"ids\":[38],\"legendgroup\":\"Sports\",\"marker\":{\"color\":\"#19d3f3\",\"symbol\":\"circle\"},\"mode\":\"markers\",\"name\":\"Sports\",\"orientation\":\"v\",\"showlegend\":true,\"x\":[\"Sports\"],\"xaxis\":\"x\",\"y\":[38],\"yaxis\":\"y\",\"type\":\"scatter\"},{\"hovertemplate\":\"Genre=%{x}<br>Required_IOS_Version=4<br>No_of_Apps=%{y}<extra></extra>\",\"ids\":[346],\"legendgroup\":\"Entertainment\",\"marker\":{\"color\":\"#FF6692\",\"symbol\":\"circle\"},\"mode\":\"markers\",\"name\":\"Entertainment\",\"orientation\":\"v\",\"showlegend\":true,\"x\":[\"Entertainment\"],\"xaxis\":\"x\",\"y\":[346],\"yaxis\":\"y\",\"type\":\"scatter\"},{\"hovertemplate\":\"Genre=%{x}<br>Required_IOS_Version=4<br>No_of_Apps=%{y}<extra></extra>\",\"ids\":[18],\"legendgroup\":\"Travel\",\"marker\":{\"color\":\"#B6E880\",\"symbol\":\"circle\"},\"mode\":\"markers\",\"name\":\"Travel\",\"orientation\":\"v\",\"showlegend\":true,\"x\":[\"Travel\"],\"xaxis\":\"x\",\"y\":[18],\"yaxis\":\"y\",\"type\":\"scatter\"},{\"hovertemplate\":\"Genre=%{x}<br>Required_IOS_Version=4<br>No_of_Apps=%{y}<extra></extra>\",\"ids\":[50],\"legendgroup\":\"Reference\",\"marker\":{\"color\":\"#FF97FF\",\"symbol\":\"circle\"},\"mode\":\"markers\",\"name\":\"Reference\",\"orientation\":\"v\",\"showlegend\":true,\"x\":[\"Reference\"],\"xaxis\":\"x\",\"y\":[50],\"yaxis\":\"y\",\"type\":\"scatter\"},{\"hovertemplate\":\"Genre=%{x}<br>Required_IOS_Version=4<br>No_of_Apps=%{y}<extra></extra>\",\"ids\":[64],\"legendgroup\":\"Business\",\"marker\":{\"color\":\"#FECB52\",\"symbol\":\"circle\"},\"mode\":\"markers\",\"name\":\"Business\",\"orientation\":\"v\",\"showlegend\":true,\"x\":[\"Business\"],\"xaxis\":\"x\",\"y\":[64],\"yaxis\":\"y\",\"type\":\"scatter\"},{\"hovertemplate\":\"Genre=%{x}<br>Required_IOS_Version=4<br>No_of_Apps=%{y}<extra></extra>\",\"ids\":[159],\"legendgroup\":\"Music\",\"marker\":{\"color\":\"#636efa\",\"symbol\":\"circle\"},\"mode\":\"markers\",\"name\":\"Music\",\"orientation\":\"v\",\"showlegend\":true,\"x\":[\"Music\"],\"xaxis\":\"x\",\"y\":[159],\"yaxis\":\"y\",\"type\":\"scatter\"},{\"hovertemplate\":\"Genre=%{x}<br>Required_IOS_Version=4<br>No_of_Apps=%{y}<extra></extra>\",\"ids\":[24],\"legendgroup\":\"Navigation\",\"marker\":{\"color\":\"#EF553B\",\"symbol\":\"circle\"},\"mode\":\"markers\",\"name\":\"Navigation\",\"orientation\":\"v\",\"showlegend\":true,\"x\":[\"Navigation\"],\"xaxis\":\"x\",\"y\":[24],\"yaxis\":\"y\",\"type\":\"scatter\"},{\"hovertemplate\":\"Genre=%{x}<br>Required_IOS_Version=4<br>No_of_Apps=%{y}<extra></extra>\",\"ids\":[195],\"legendgroup\":\"Utilities\",\"marker\":{\"color\":\"#00cc96\",\"symbol\":\"circle\"},\"mode\":\"markers\",\"name\":\"Utilities\",\"orientation\":\"v\",\"showlegend\":true,\"x\":[\"Utilities\"],\"xaxis\":\"x\",\"y\":[195],\"yaxis\":\"y\",\"type\":\"scatter\"},{\"hovertemplate\":\"Genre=%{x}<br>Required_IOS_Version=4<br>No_of_Apps=%{y}<extra></extra>\",\"ids\":[22],\"legendgroup\":\"Medical\",\"marker\":{\"color\":\"#ab63fa\",\"symbol\":\"circle\"},\"mode\":\"markers\",\"name\":\"Medical\",\"orientation\":\"v\",\"showlegend\":true,\"x\":[\"Medical\"],\"xaxis\":\"x\",\"y\":[22],\"yaxis\":\"y\",\"type\":\"scatter\"},{\"hovertemplate\":\"Genre=%{x}<br>Required_IOS_Version=4<br>No_of_Apps=%{y}<extra></extra>\",\"ids\":[3392],\"legendgroup\":\"Games\",\"marker\":{\"color\":\"#FFA15A\",\"symbol\":\"circle\"},\"mode\":\"markers\",\"name\":\"Games\",\"orientation\":\"v\",\"showlegend\":true,\"x\":[\"Games\"],\"xaxis\":\"x\",\"y\":[3392],\"yaxis\":\"y\",\"type\":\"scatter\"},{\"hovertemplate\":\"Genre=%{x}<br>Required_IOS_Version=4<br>No_of_Apps=%{y}<extra></extra>\",\"ids\":[16],\"legendgroup\":\"Finance\",\"marker\":{\"color\":\"#19d3f3\",\"symbol\":\"circle\"},\"mode\":\"markers\",\"name\":\"Finance\",\"orientation\":\"v\",\"showlegend\":true,\"x\":[\"Finance\"],\"xaxis\":\"x\",\"y\":[16],\"yaxis\":\"y\",\"type\":\"scatter\"},{\"hovertemplate\":\"Genre=%{x}<br>Required_IOS_Version=4<br>No_of_Apps=%{y}<extra></extra>\",\"ids\":[10],\"legendgroup\":\"Weather\",\"marker\":{\"color\":\"#FF6692\",\"symbol\":\"circle\"},\"mode\":\"markers\",\"name\":\"Weather\",\"orientation\":\"v\",\"showlegend\":true,\"x\":[\"Weather\"],\"xaxis\":\"x\",\"y\":[10],\"yaxis\":\"y\",\"type\":\"scatter\"},{\"hovertemplate\":\"Genre=%{x}<br>Required_IOS_Version=4<br>No_of_Apps=%{y}<extra></extra>\",\"ids\":[128],\"legendgroup\":\"Lifestyle\",\"marker\":{\"color\":\"#B6E880\",\"symbol\":\"circle\"},\"mode\":\"markers\",\"name\":\"Lifestyle\",\"orientation\":\"v\",\"showlegend\":true,\"x\":[\"Lifestyle\"],\"xaxis\":\"x\",\"y\":[128],\"yaxis\":\"y\",\"type\":\"scatter\"},{\"hovertemplate\":\"Genre=%{x}<br>Required_IOS_Version=4<br>No_of_Apps=%{y}<extra></extra>\",\"ids\":[34],\"legendgroup\":\"Health & Fitness\",\"marker\":{\"color\":\"#FF97FF\",\"symbol\":\"circle\"},\"mode\":\"markers\",\"name\":\"Health & Fitness\",\"orientation\":\"v\",\"showlegend\":true,\"x\":[\"Health & Fitness\"],\"xaxis\":\"x\",\"y\":[34],\"yaxis\":\"y\",\"type\":\"scatter\"},{\"hovertemplate\":\"Genre=%{x}<br>Required_IOS_Version=4<br>No_of_Apps=%{y}<extra></extra>\",\"ids\":[27],\"legendgroup\":\"News\",\"marker\":{\"color\":\"#FECB52\",\"symbol\":\"circle\"},\"mode\":\"markers\",\"name\":\"News\",\"orientation\":\"v\",\"showlegend\":true,\"x\":[\"News\"],\"xaxis\":\"x\",\"y\":[27],\"yaxis\":\"y\",\"type\":\"scatter\"},{\"hovertemplate\":\"Genre=%{x}<br>Required_IOS_Version=4<br>No_of_Apps=%{y}<extra></extra>\",\"ids\":[12],\"legendgroup\":\"Food & Drink\",\"marker\":{\"color\":\"#636efa\",\"symbol\":\"circle\"},\"mode\":\"markers\",\"name\":\"Food & Drink\",\"orientation\":\"v\",\"showlegend\":true,\"x\":[\"Food & Drink\"],\"xaxis\":\"x\",\"y\":[12],\"yaxis\":\"y\",\"type\":\"scatter\"},{\"hovertemplate\":\"Genre=%{x}<br>Required_IOS_Version=4<br>No_of_Apps=%{y}<extra></extra>\",\"ids\":[14],\"legendgroup\":\"Shopping\",\"marker\":{\"color\":\"#EF553B\",\"symbol\":\"circle\"},\"mode\":\"markers\",\"name\":\"Shopping\",\"orientation\":\"v\",\"showlegend\":true,\"x\":[\"Shopping\"],\"xaxis\":\"x\",\"y\":[14],\"yaxis\":\"y\",\"type\":\"scatter\"}],\"name\":\"4\"},{\"data\":[{\"hovertemplate\":\"Genre=%{x}<br>Required_IOS_Version=5<br>No_of_Apps=%{y}<extra></extra>\",\"ids\":[203],\"legendgroup\":\"Book\",\"marker\":{\"color\":\"#636efa\",\"symbol\":\"circle\"},\"mode\":\"markers\",\"name\":\"Book\",\"orientation\":\"v\",\"showlegend\":true,\"x\":[\"Book\"],\"xaxis\":\"x\",\"y\":[203],\"yaxis\":\"y\",\"type\":\"scatter\"},{\"hovertemplate\":\"Genre=%{x}<br>Required_IOS_Version=5<br>No_of_Apps=%{y}<extra></extra>\",\"ids\":[1088],\"legendgroup\":\"Education\",\"marker\":{\"color\":\"#EF553B\",\"symbol\":\"circle\"},\"mode\":\"markers\",\"name\":\"Education\",\"orientation\":\"v\",\"showlegend\":true,\"x\":[\"Education\"],\"xaxis\":\"x\",\"y\":[1088],\"yaxis\":\"y\",\"type\":\"scatter\"},{\"hovertemplate\":\"Genre=%{x}<br>Required_IOS_Version=5<br>No_of_Apps=%{y}<extra></extra>\",\"ids\":[46],\"legendgroup\":\"Social Networking\",\"marker\":{\"color\":\"#00cc96\",\"symbol\":\"circle\"},\"mode\":\"markers\",\"name\":\"Social Networking\",\"orientation\":\"v\",\"showlegend\":true,\"x\":[\"Social Networking\"],\"xaxis\":\"x\",\"y\":[46],\"yaxis\":\"y\",\"type\":\"scatter\"},{\"hovertemplate\":\"Genre=%{x}<br>Required_IOS_Version=5<br>No_of_Apps=%{y}<extra></extra>\",\"ids\":[164],\"legendgroup\":\"Productivity\",\"marker\":{\"color\":\"#ab63fa\",\"symbol\":\"circle\"},\"mode\":\"markers\",\"name\":\"Productivity\",\"orientation\":\"v\",\"showlegend\":true,\"x\":[\"Productivity\"],\"xaxis\":\"x\",\"y\":[164],\"yaxis\":\"y\",\"type\":\"scatter\"},{\"hovertemplate\":\"Genre=%{x}<br>Required_IOS_Version=5<br>No_of_Apps=%{y}<extra></extra>\",\"ids\":[199],\"legendgroup\":\"Photo & Video\",\"marker\":{\"color\":\"#FFA15A\",\"symbol\":\"circle\"},\"mode\":\"markers\",\"name\":\"Photo & Video\",\"orientation\":\"v\",\"showlegend\":true,\"x\":[\"Photo & Video\"],\"xaxis\":\"x\",\"y\":[199],\"yaxis\":\"y\",\"type\":\"scatter\"},{\"hovertemplate\":\"Genre=%{x}<br>Required_IOS_Version=5<br>No_of_Apps=%{y}<extra></extra>\",\"ids\":[73],\"legendgroup\":\"Sports\",\"marker\":{\"color\":\"#19d3f3\",\"symbol\":\"circle\"},\"mode\":\"markers\",\"name\":\"Sports\",\"orientation\":\"v\",\"showlegend\":true,\"x\":[\"Sports\"],\"xaxis\":\"x\",\"y\":[73],\"yaxis\":\"y\",\"type\":\"scatter\"},{\"hovertemplate\":\"Genre=%{x}<br>Required_IOS_Version=5<br>No_of_Apps=%{y}<extra></extra>\",\"ids\":[563],\"legendgroup\":\"Entertainment\",\"marker\":{\"color\":\"#FF6692\",\"symbol\":\"circle\"},\"mode\":\"markers\",\"name\":\"Entertainment\",\"orientation\":\"v\",\"showlegend\":true,\"x\":[\"Entertainment\"],\"xaxis\":\"x\",\"y\":[563],\"yaxis\":\"y\",\"type\":\"scatter\"},{\"hovertemplate\":\"Genre=%{x}<br>Required_IOS_Version=5<br>No_of_Apps=%{y}<extra></extra>\",\"ids\":[132],\"legendgroup\":\"Travel\",\"marker\":{\"color\":\"#B6E880\",\"symbol\":\"circle\"},\"mode\":\"markers\",\"name\":\"Travel\",\"orientation\":\"v\",\"showlegend\":true,\"x\":[\"Travel\"],\"xaxis\":\"x\",\"y\":[132],\"yaxis\":\"y\",\"type\":\"scatter\"},{\"hovertemplate\":\"Genre=%{x}<br>Required_IOS_Version=5<br>No_of_Apps=%{y}<extra></extra>\",\"ids\":[186],\"legendgroup\":\"Reference\",\"marker\":{\"color\":\"#FF97FF\",\"symbol\":\"circle\"},\"mode\":\"markers\",\"name\":\"Reference\",\"orientation\":\"v\",\"showlegend\":true,\"x\":[\"Reference\"],\"xaxis\":\"x\",\"y\":[186],\"yaxis\":\"y\",\"type\":\"scatter\"},{\"hovertemplate\":\"Genre=%{x}<br>Required_IOS_Version=5<br>No_of_Apps=%{y}<extra></extra>\",\"ids\":[220],\"legendgroup\":\"Business\",\"marker\":{\"color\":\"#FECB52\",\"symbol\":\"circle\"},\"mode\":\"markers\",\"name\":\"Business\",\"orientation\":\"v\",\"showlegend\":true,\"x\":[\"Business\"],\"xaxis\":\"x\",\"y\":[220],\"yaxis\":\"y\",\"type\":\"scatter\"},{\"hovertemplate\":\"Genre=%{x}<br>Required_IOS_Version=5<br>No_of_Apps=%{y}<extra></extra>\",\"ids\":[190],\"legendgroup\":\"Music\",\"marker\":{\"color\":\"#636efa\",\"symbol\":\"circle\"},\"mode\":\"markers\",\"name\":\"Music\",\"orientation\":\"v\",\"showlegend\":true,\"x\":[\"Music\"],\"xaxis\":\"x\",\"y\":[190],\"yaxis\":\"y\",\"type\":\"scatter\"},{\"hovertemplate\":\"Genre=%{x}<br>Required_IOS_Version=5<br>No_of_Apps=%{y}<extra></extra>\",\"ids\":[38],\"legendgroup\":\"Navigation\",\"marker\":{\"color\":\"#EF553B\",\"symbol\":\"circle\"},\"mode\":\"markers\",\"name\":\"Navigation\",\"orientation\":\"v\",\"showlegend\":true,\"x\":[\"Navigation\"],\"xaxis\":\"x\",\"y\":[38],\"yaxis\":\"y\",\"type\":\"scatter\"},{\"hovertemplate\":\"Genre=%{x}<br>Required_IOS_Version=5<br>No_of_Apps=%{y}<extra></extra>\",\"ids\":[296],\"legendgroup\":\"Utilities\",\"marker\":{\"color\":\"#00cc96\",\"symbol\":\"circle\"},\"mode\":\"markers\",\"name\":\"Utilities\",\"orientation\":\"v\",\"showlegend\":true,\"x\":[\"Utilities\"],\"xaxis\":\"x\",\"y\":[296],\"yaxis\":\"y\",\"type\":\"scatter\"},{\"hovertemplate\":\"Genre=%{x}<br>Required_IOS_Version=5<br>No_of_Apps=%{y}<extra></extra>\",\"ids\":[81],\"legendgroup\":\"Medical\",\"marker\":{\"color\":\"#ab63fa\",\"symbol\":\"circle\"},\"mode\":\"markers\",\"name\":\"Medical\",\"orientation\":\"v\",\"showlegend\":true,\"x\":[\"Medical\"],\"xaxis\":\"x\",\"y\":[81],\"yaxis\":\"y\",\"type\":\"scatter\"},{\"hovertemplate\":\"Genre=%{x}<br>Required_IOS_Version=5<br>No_of_Apps=%{y}<extra></extra>\",\"ids\":[5455],\"legendgroup\":\"Games\",\"marker\":{\"color\":\"#FFA15A\",\"symbol\":\"circle\"},\"mode\":\"markers\",\"name\":\"Games\",\"orientation\":\"v\",\"showlegend\":true,\"x\":[\"Games\"],\"xaxis\":\"x\",\"y\":[5455],\"yaxis\":\"y\",\"type\":\"scatter\"},{\"hovertemplate\":\"Genre=%{x}<br>Required_IOS_Version=5<br>No_of_Apps=%{y}<extra></extra>\",\"ids\":[79],\"legendgroup\":\"Finance\",\"marker\":{\"color\":\"#19d3f3\",\"symbol\":\"circle\"},\"mode\":\"markers\",\"name\":\"Finance\",\"orientation\":\"v\",\"showlegend\":true,\"x\":[\"Finance\"],\"xaxis\":\"x\",\"y\":[79],\"yaxis\":\"y\",\"type\":\"scatter\"},{\"hovertemplate\":\"Genre=%{x}<br>Required_IOS_Version=5<br>No_of_Apps=%{y}<extra></extra>\",\"ids\":[18],\"legendgroup\":\"Weather\",\"marker\":{\"color\":\"#FF6692\",\"symbol\":\"circle\"},\"mode\":\"markers\",\"name\":\"Weather\",\"orientation\":\"v\",\"showlegend\":true,\"x\":[\"Weather\"],\"xaxis\":\"x\",\"y\":[18],\"yaxis\":\"y\",\"type\":\"scatter\"},{\"hovertemplate\":\"Genre=%{x}<br>Required_IOS_Version=5<br>No_of_Apps=%{y}<extra></extra>\",\"ids\":[208],\"legendgroup\":\"Lifestyle\",\"marker\":{\"color\":\"#B6E880\",\"symbol\":\"circle\"},\"mode\":\"markers\",\"name\":\"Lifestyle\",\"orientation\":\"v\",\"showlegend\":true,\"x\":[\"Lifestyle\"],\"xaxis\":\"x\",\"y\":[208],\"yaxis\":\"y\",\"type\":\"scatter\"},{\"hovertemplate\":\"Genre=%{x}<br>Required_IOS_Version=5<br>No_of_Apps=%{y}<extra></extra>\",\"ids\":[107],\"legendgroup\":\"Health & Fitness\",\"marker\":{\"color\":\"#FF97FF\",\"symbol\":\"circle\"},\"mode\":\"markers\",\"name\":\"Health & Fitness\",\"orientation\":\"v\",\"showlegend\":true,\"x\":[\"Health & Fitness\"],\"xaxis\":\"x\",\"y\":[107],\"yaxis\":\"y\",\"type\":\"scatter\"},{\"hovertemplate\":\"Genre=%{x}<br>Required_IOS_Version=5<br>No_of_Apps=%{y}<extra></extra>\",\"ids\":[58],\"legendgroup\":\"News\",\"marker\":{\"color\":\"#FECB52\",\"symbol\":\"circle\"},\"mode\":\"markers\",\"name\":\"News\",\"orientation\":\"v\",\"showlegend\":true,\"x\":[\"News\"],\"xaxis\":\"x\",\"y\":[58],\"yaxis\":\"y\",\"type\":\"scatter\"},{\"hovertemplate\":\"Genre=%{x}<br>Required_IOS_Version=5<br>No_of_Apps=%{y}<extra></extra>\",\"ids\":[57],\"legendgroup\":\"Food & Drink\",\"marker\":{\"color\":\"#636efa\",\"symbol\":\"circle\"},\"mode\":\"markers\",\"name\":\"Food & Drink\",\"orientation\":\"v\",\"showlegend\":true,\"x\":[\"Food & Drink\"],\"xaxis\":\"x\",\"y\":[57],\"yaxis\":\"y\",\"type\":\"scatter\"},{\"hovertemplate\":\"Genre=%{x}<br>Required_IOS_Version=5<br>No_of_Apps=%{y}<extra></extra>\",\"ids\":[37],\"legendgroup\":\"Shopping\",\"marker\":{\"color\":\"#EF553B\",\"symbol\":\"circle\"},\"mode\":\"markers\",\"name\":\"Shopping\",\"orientation\":\"v\",\"showlegend\":true,\"x\":[\"Shopping\"],\"xaxis\":\"x\",\"y\":[37],\"yaxis\":\"y\",\"type\":\"scatter\"}],\"name\":\"5\"},{\"data\":[{\"hovertemplate\":\"Genre=%{x}<br>Required_IOS_Version=6<br>No_of_Apps=%{y}<extra></extra>\",\"ids\":[647],\"legendgroup\":\"Book\",\"marker\":{\"color\":\"#636efa\",\"symbol\":\"circle\"},\"mode\":\"markers\",\"name\":\"Book\",\"orientation\":\"v\",\"showlegend\":true,\"x\":[\"Book\"],\"xaxis\":\"x\",\"y\":[647],\"yaxis\":\"y\",\"type\":\"scatter\"},{\"hovertemplate\":\"Genre=%{x}<br>Required_IOS_Version=6<br>No_of_Apps=%{y}<extra></extra>\",\"ids\":[4927],\"legendgroup\":\"Education\",\"marker\":{\"color\":\"#EF553B\",\"symbol\":\"circle\"},\"mode\":\"markers\",\"name\":\"Education\",\"orientation\":\"v\",\"showlegend\":true,\"x\":[\"Education\"],\"xaxis\":\"x\",\"y\":[4927],\"yaxis\":\"y\",\"type\":\"scatter\"},{\"hovertemplate\":\"Genre=%{x}<br>Required_IOS_Version=6<br>No_of_Apps=%{y}<extra></extra>\",\"ids\":[273],\"legendgroup\":\"Social Networking\",\"marker\":{\"color\":\"#00cc96\",\"symbol\":\"circle\"},\"mode\":\"markers\",\"name\":\"Social Networking\",\"orientation\":\"v\",\"showlegend\":true,\"x\":[\"Social Networking\"],\"xaxis\":\"x\",\"y\":[273],\"yaxis\":\"y\",\"type\":\"scatter\"},{\"hovertemplate\":\"Genre=%{x}<br>Required_IOS_Version=6<br>No_of_Apps=%{y}<extra></extra>\",\"ids\":[815],\"legendgroup\":\"Productivity\",\"marker\":{\"color\":\"#ab63fa\",\"symbol\":\"circle\"},\"mode\":\"markers\",\"name\":\"Productivity\",\"orientation\":\"v\",\"showlegend\":true,\"x\":[\"Productivity\"],\"xaxis\":\"x\",\"y\":[815],\"yaxis\":\"y\",\"type\":\"scatter\"},{\"hovertemplate\":\"Genre=%{x}<br>Required_IOS_Version=6<br>No_of_Apps=%{y}<extra></extra>\",\"ids\":[958],\"legendgroup\":\"Photo & Video\",\"marker\":{\"color\":\"#FFA15A\",\"symbol\":\"circle\"},\"mode\":\"markers\",\"name\":\"Photo & Video\",\"orientation\":\"v\",\"showlegend\":true,\"x\":[\"Photo & Video\"],\"xaxis\":\"x\",\"y\":[958],\"yaxis\":\"y\",\"type\":\"scatter\"},{\"hovertemplate\":\"Genre=%{x}<br>Required_IOS_Version=6<br>No_of_Apps=%{y}<extra></extra>\",\"ids\":[736],\"legendgroup\":\"Sports\",\"marker\":{\"color\":\"#19d3f3\",\"symbol\":\"circle\"},\"mode\":\"markers\",\"name\":\"Sports\",\"orientation\":\"v\",\"showlegend\":true,\"x\":[\"Sports\"],\"xaxis\":\"x\",\"y\":[736],\"yaxis\":\"y\",\"type\":\"scatter\"},{\"hovertemplate\":\"Genre=%{x}<br>Required_IOS_Version=6<br>No_of_Apps=%{y}<extra></extra>\",\"ids\":[2306],\"legendgroup\":\"Entertainment\",\"marker\":{\"color\":\"#FF6692\",\"symbol\":\"circle\"},\"mode\":\"markers\",\"name\":\"Entertainment\",\"orientation\":\"v\",\"showlegend\":true,\"x\":[\"Entertainment\"],\"xaxis\":\"x\",\"y\":[2306],\"yaxis\":\"y\",\"type\":\"scatter\"},{\"hovertemplate\":\"Genre=%{x}<br>Required_IOS_Version=6<br>No_of_Apps=%{y}<extra></extra>\",\"ids\":[738],\"legendgroup\":\"Travel\",\"marker\":{\"color\":\"#B6E880\",\"symbol\":\"circle\"},\"mode\":\"markers\",\"name\":\"Travel\",\"orientation\":\"v\",\"showlegend\":true,\"x\":[\"Travel\"],\"xaxis\":\"x\",\"y\":[738],\"yaxis\":\"y\",\"type\":\"scatter\"},{\"hovertemplate\":\"Genre=%{x}<br>Required_IOS_Version=6<br>No_of_Apps=%{y}<extra></extra>\",\"ids\":[709],\"legendgroup\":\"Reference\",\"marker\":{\"color\":\"#FF97FF\",\"symbol\":\"circle\"},\"mode\":\"markers\",\"name\":\"Reference\",\"orientation\":\"v\",\"showlegend\":true,\"x\":[\"Reference\"],\"xaxis\":\"x\",\"y\":[709],\"yaxis\":\"y\",\"type\":\"scatter\"},{\"hovertemplate\":\"Genre=%{x}<br>Required_IOS_Version=6<br>No_of_Apps=%{y}<extra></extra>\",\"ids\":[2102],\"legendgroup\":\"Business\",\"marker\":{\"color\":\"#FECB52\",\"symbol\":\"circle\"},\"mode\":\"markers\",\"name\":\"Business\",\"orientation\":\"v\",\"showlegend\":true,\"x\":[\"Business\"],\"xaxis\":\"x\",\"y\":[2102],\"yaxis\":\"y\",\"type\":\"scatter\"},{\"hovertemplate\":\"Genre=%{x}<br>Required_IOS_Version=6<br>No_of_Apps=%{y}<extra></extra>\",\"ids\":[1141],\"legendgroup\":\"Music\",\"marker\":{\"color\":\"#636efa\",\"symbol\":\"circle\"},\"mode\":\"markers\",\"name\":\"Music\",\"orientation\":\"v\",\"showlegend\":true,\"x\":[\"Music\"],\"xaxis\":\"x\",\"y\":[1141],\"yaxis\":\"y\",\"type\":\"scatter\"},{\"hovertemplate\":\"Genre=%{x}<br>Required_IOS_Version=6<br>No_of_Apps=%{y}<extra></extra>\",\"ids\":[515],\"legendgroup\":\"Navigation\",\"marker\":{\"color\":\"#EF553B\",\"symbol\":\"circle\"},\"mode\":\"markers\",\"name\":\"Navigation\",\"orientation\":\"v\",\"showlegend\":true,\"x\":[\"Navigation\"],\"xaxis\":\"x\",\"y\":[515],\"yaxis\":\"y\",\"type\":\"scatter\"},{\"hovertemplate\":\"Genre=%{x}<br>Required_IOS_Version=6<br>No_of_Apps=%{y}<extra></extra>\",\"ids\":[1988],\"legendgroup\":\"Utilities\",\"marker\":{\"color\":\"#00cc96\",\"symbol\":\"circle\"},\"mode\":\"markers\",\"name\":\"Utilities\",\"orientation\":\"v\",\"showlegend\":true,\"x\":[\"Utilities\"],\"xaxis\":\"x\",\"y\":[1988],\"yaxis\":\"y\",\"type\":\"scatter\"},{\"hovertemplate\":\"Genre=%{x}<br>Required_IOS_Version=6<br>No_of_Apps=%{y}<extra></extra>\",\"ids\":[672],\"legendgroup\":\"Medical\",\"marker\":{\"color\":\"#ab63fa\",\"symbol\":\"circle\"},\"mode\":\"markers\",\"name\":\"Medical\",\"orientation\":\"v\",\"showlegend\":true,\"x\":[\"Medical\"],\"xaxis\":\"x\",\"y\":[672],\"yaxis\":\"y\",\"type\":\"scatter\"},{\"hovertemplate\":\"Genre=%{x}<br>Required_IOS_Version=6<br>No_of_Apps=%{y}<extra></extra>\",\"ids\":[23422],\"legendgroup\":\"Games\",\"marker\":{\"color\":\"#FFA15A\",\"symbol\":\"circle\"},\"mode\":\"markers\",\"name\":\"Games\",\"orientation\":\"v\",\"showlegend\":true,\"x\":[\"Games\"],\"xaxis\":\"x\",\"y\":[23422],\"yaxis\":\"y\",\"type\":\"scatter\"},{\"hovertemplate\":\"Genre=%{x}<br>Required_IOS_Version=6<br>No_of_Apps=%{y}<extra></extra>\",\"ids\":[445],\"legendgroup\":\"Finance\",\"marker\":{\"color\":\"#19d3f3\",\"symbol\":\"circle\"},\"mode\":\"markers\",\"name\":\"Finance\",\"orientation\":\"v\",\"showlegend\":true,\"x\":[\"Finance\"],\"xaxis\":\"x\",\"y\":[445],\"yaxis\":\"y\",\"type\":\"scatter\"},{\"hovertemplate\":\"Genre=%{x}<br>Required_IOS_Version=6<br>No_of_Apps=%{y}<extra></extra>\",\"ids\":[98],\"legendgroup\":\"Weather\",\"marker\":{\"color\":\"#FF6692\",\"symbol\":\"circle\"},\"mode\":\"markers\",\"name\":\"Weather\",\"orientation\":\"v\",\"showlegend\":true,\"x\":[\"Weather\"],\"xaxis\":\"x\",\"y\":[98],\"yaxis\":\"y\",\"type\":\"scatter\"},{\"hovertemplate\":\"Genre=%{x}<br>Required_IOS_Version=6<br>No_of_Apps=%{y}<extra></extra>\",\"ids\":[1913],\"legendgroup\":\"Lifestyle\",\"marker\":{\"color\":\"#B6E880\",\"symbol\":\"circle\"},\"mode\":\"markers\",\"name\":\"Lifestyle\",\"orientation\":\"v\",\"showlegend\":true,\"x\":[\"Lifestyle\"],\"xaxis\":\"x\",\"y\":[1913],\"yaxis\":\"y\",\"type\":\"scatter\"},{\"hovertemplate\":\"Genre=%{x}<br>Required_IOS_Version=6<br>No_of_Apps=%{y}<extra></extra>\",\"ids\":[1004],\"legendgroup\":\"Health & Fitness\",\"marker\":{\"color\":\"#FF97FF\",\"symbol\":\"circle\"},\"mode\":\"markers\",\"name\":\"Health & Fitness\",\"orientation\":\"v\",\"showlegend\":true,\"x\":[\"Health & Fitness\"],\"xaxis\":\"x\",\"y\":[1004],\"yaxis\":\"y\",\"type\":\"scatter\"},{\"hovertemplate\":\"Genre=%{x}<br>Required_IOS_Version=6<br>No_of_Apps=%{y}<extra></extra>\",\"ids\":[409],\"legendgroup\":\"News\",\"marker\":{\"color\":\"#FECB52\",\"symbol\":\"circle\"},\"mode\":\"markers\",\"name\":\"News\",\"orientation\":\"v\",\"showlegend\":true,\"x\":[\"News\"],\"xaxis\":\"x\",\"y\":[409],\"yaxis\":\"y\",\"type\":\"scatter\"},{\"hovertemplate\":\"Genre=%{x}<br>Required_IOS_Version=6<br>No_of_Apps=%{y}<extra></extra>\",\"ids\":[1083],\"legendgroup\":\"Food & Drink\",\"marker\":{\"color\":\"#636efa\",\"symbol\":\"circle\"},\"mode\":\"markers\",\"name\":\"Food & Drink\",\"orientation\":\"v\",\"showlegend\":true,\"x\":[\"Food & Drink\"],\"xaxis\":\"x\",\"y\":[1083],\"yaxis\":\"y\",\"type\":\"scatter\"},{\"hovertemplate\":\"Genre=%{x}<br>Required_IOS_Version=6<br>No_of_Apps=%{y}<extra></extra>\",\"ids\":[385],\"legendgroup\":\"Shopping\",\"marker\":{\"color\":\"#EF553B\",\"symbol\":\"circle\"},\"mode\":\"markers\",\"name\":\"Shopping\",\"orientation\":\"v\",\"showlegend\":true,\"x\":[\"Shopping\"],\"xaxis\":\"x\",\"y\":[385],\"yaxis\":\"y\",\"type\":\"scatter\"},{\"hovertemplate\":\"Genre=%{x}<br>Required_IOS_Version=6<br>No_of_Apps=%{y}<extra></extra>\",\"ids\":[6],\"legendgroup\":\"Magazines & Newspapers\",\"marker\":{\"color\":\"#00cc96\",\"symbol\":\"circle\"},\"mode\":\"markers\",\"name\":\"Magazines & Newspapers\",\"orientation\":\"v\",\"showlegend\":true,\"x\":[\"Magazines & Newspapers\"],\"xaxis\":\"x\",\"y\":[6],\"yaxis\":\"y\",\"type\":\"scatter\"}],\"name\":\"6\"},{\"data\":[{\"hovertemplate\":\"Genre=%{x}<br>Required_IOS_Version=7<br>No_of_Apps=%{y}<extra></extra>\",\"ids\":[880],\"legendgroup\":\"Book\",\"marker\":{\"color\":\"#636efa\",\"symbol\":\"circle\"},\"mode\":\"markers\",\"name\":\"Book\",\"orientation\":\"v\",\"showlegend\":true,\"x\":[\"Book\"],\"xaxis\":\"x\",\"y\":[880],\"yaxis\":\"y\",\"type\":\"scatter\"},{\"hovertemplate\":\"Genre=%{x}<br>Required_IOS_Version=7<br>No_of_Apps=%{y}<extra></extra>\",\"ids\":[5664],\"legendgroup\":\"Education\",\"marker\":{\"color\":\"#EF553B\",\"symbol\":\"circle\"},\"mode\":\"markers\",\"name\":\"Education\",\"orientation\":\"v\",\"showlegend\":true,\"x\":[\"Education\"],\"xaxis\":\"x\",\"y\":[5664],\"yaxis\":\"y\",\"type\":\"scatter\"},{\"hovertemplate\":\"Genre=%{x}<br>Required_IOS_Version=7<br>No_of_Apps=%{y}<extra></extra>\",\"ids\":[650],\"legendgroup\":\"Social Networking\",\"marker\":{\"color\":\"#00cc96\",\"symbol\":\"circle\"},\"mode\":\"markers\",\"name\":\"Social Networking\",\"orientation\":\"v\",\"showlegend\":true,\"x\":[\"Social Networking\"],\"xaxis\":\"x\",\"y\":[650],\"yaxis\":\"y\",\"type\":\"scatter\"},{\"hovertemplate\":\"Genre=%{x}<br>Required_IOS_Version=7<br>No_of_Apps=%{y}<extra></extra>\",\"ids\":[1449],\"legendgroup\":\"Productivity\",\"marker\":{\"color\":\"#ab63fa\",\"symbol\":\"circle\"},\"mode\":\"markers\",\"name\":\"Productivity\",\"orientation\":\"v\",\"showlegend\":true,\"x\":[\"Productivity\"],\"xaxis\":\"x\",\"y\":[1449],\"yaxis\":\"y\",\"type\":\"scatter\"},{\"hovertemplate\":\"Genre=%{x}<br>Required_IOS_Version=7<br>No_of_Apps=%{y}<extra></extra>\",\"ids\":[2389],\"legendgroup\":\"Photo & Video\",\"marker\":{\"color\":\"#FFA15A\",\"symbol\":\"circle\"},\"mode\":\"markers\",\"name\":\"Photo & Video\",\"orientation\":\"v\",\"showlegend\":true,\"x\":[\"Photo & Video\"],\"xaxis\":\"x\",\"y\":[2389],\"yaxis\":\"y\",\"type\":\"scatter\"},{\"hovertemplate\":\"Genre=%{x}<br>Required_IOS_Version=7<br>No_of_Apps=%{y}<extra></extra>\",\"ids\":[1186],\"legendgroup\":\"Sports\",\"marker\":{\"color\":\"#19d3f3\",\"symbol\":\"circle\"},\"mode\":\"markers\",\"name\":\"Sports\",\"orientation\":\"v\",\"showlegend\":true,\"x\":[\"Sports\"],\"xaxis\":\"x\",\"y\":[1186],\"yaxis\":\"y\",\"type\":\"scatter\"},{\"hovertemplate\":\"Genre=%{x}<br>Required_IOS_Version=7<br>No_of_Apps=%{y}<extra></extra>\",\"ids\":[3213],\"legendgroup\":\"Entertainment\",\"marker\":{\"color\":\"#FF6692\",\"symbol\":\"circle\"},\"mode\":\"markers\",\"name\":\"Entertainment\",\"orientation\":\"v\",\"showlegend\":true,\"x\":[\"Entertainment\"],\"xaxis\":\"x\",\"y\":[3213],\"yaxis\":\"y\",\"type\":\"scatter\"},{\"hovertemplate\":\"Genre=%{x}<br>Required_IOS_Version=7<br>No_of_Apps=%{y}<extra></extra>\",\"ids\":[2020],\"legendgroup\":\"Travel\",\"marker\":{\"color\":\"#B6E880\",\"symbol\":\"circle\"},\"mode\":\"markers\",\"name\":\"Travel\",\"orientation\":\"v\",\"showlegend\":true,\"x\":[\"Travel\"],\"xaxis\":\"x\",\"y\":[2020],\"yaxis\":\"y\",\"type\":\"scatter\"},{\"hovertemplate\":\"Genre=%{x}<br>Required_IOS_Version=7<br>No_of_Apps=%{y}<extra></extra>\",\"ids\":[1248],\"legendgroup\":\"Reference\",\"marker\":{\"color\":\"#FF97FF\",\"symbol\":\"circle\"},\"mode\":\"markers\",\"name\":\"Reference\",\"orientation\":\"v\",\"showlegend\":true,\"x\":[\"Reference\"],\"xaxis\":\"x\",\"y\":[1248],\"yaxis\":\"y\",\"type\":\"scatter\"},{\"hovertemplate\":\"Genre=%{x}<br>Required_IOS_Version=7<br>No_of_Apps=%{y}<extra></extra>\",\"ids\":[3615],\"legendgroup\":\"Business\",\"marker\":{\"color\":\"#FECB52\",\"symbol\":\"circle\"},\"mode\":\"markers\",\"name\":\"Business\",\"orientation\":\"v\",\"showlegend\":true,\"x\":[\"Business\"],\"xaxis\":\"x\",\"y\":[3615],\"yaxis\":\"y\",\"type\":\"scatter\"},{\"hovertemplate\":\"Genre=%{x}<br>Required_IOS_Version=7<br>No_of_Apps=%{y}<extra></extra>\",\"ids\":[1823],\"legendgroup\":\"Music\",\"marker\":{\"color\":\"#636efa\",\"symbol\":\"circle\"},\"mode\":\"markers\",\"name\":\"Music\",\"orientation\":\"v\",\"showlegend\":true,\"x\":[\"Music\"],\"xaxis\":\"x\",\"y\":[1823],\"yaxis\":\"y\",\"type\":\"scatter\"},{\"hovertemplate\":\"Genre=%{x}<br>Required_IOS_Version=7<br>No_of_Apps=%{y}<extra></extra>\",\"ids\":[475],\"legendgroup\":\"Navigation\",\"marker\":{\"color\":\"#EF553B\",\"symbol\":\"circle\"},\"mode\":\"markers\",\"name\":\"Navigation\",\"orientation\":\"v\",\"showlegend\":true,\"x\":[\"Navigation\"],\"xaxis\":\"x\",\"y\":[475],\"yaxis\":\"y\",\"type\":\"scatter\"},{\"hovertemplate\":\"Genre=%{x}<br>Required_IOS_Version=7<br>No_of_Apps=%{y}<extra></extra>\",\"ids\":[3547],\"legendgroup\":\"Utilities\",\"marker\":{\"color\":\"#00cc96\",\"symbol\":\"circle\"},\"mode\":\"markers\",\"name\":\"Utilities\",\"orientation\":\"v\",\"showlegend\":true,\"x\":[\"Utilities\"],\"xaxis\":\"x\",\"y\":[3547],\"yaxis\":\"y\",\"type\":\"scatter\"},{\"hovertemplate\":\"Genre=%{x}<br>Required_IOS_Version=7<br>No_of_Apps=%{y}<extra></extra>\",\"ids\":[989],\"legendgroup\":\"Medical\",\"marker\":{\"color\":\"#ab63fa\",\"symbol\":\"circle\"},\"mode\":\"markers\",\"name\":\"Medical\",\"orientation\":\"v\",\"showlegend\":true,\"x\":[\"Medical\"],\"xaxis\":\"x\",\"y\":[989],\"yaxis\":\"y\",\"type\":\"scatter\"},{\"hovertemplate\":\"Genre=%{x}<br>Required_IOS_Version=7<br>No_of_Apps=%{y}<extra></extra>\",\"ids\":[18442],\"legendgroup\":\"Games\",\"marker\":{\"color\":\"#FFA15A\",\"symbol\":\"circle\"},\"mode\":\"markers\",\"name\":\"Games\",\"orientation\":\"v\",\"showlegend\":true,\"x\":[\"Games\"],\"xaxis\":\"x\",\"y\":[18442],\"yaxis\":\"y\",\"type\":\"scatter\"},{\"hovertemplate\":\"Genre=%{x}<br>Required_IOS_Version=7<br>No_of_Apps=%{y}<extra></extra>\",\"ids\":[985],\"legendgroup\":\"Finance\",\"marker\":{\"color\":\"#19d3f3\",\"symbol\":\"circle\"},\"mode\":\"markers\",\"name\":\"Finance\",\"orientation\":\"v\",\"showlegend\":true,\"x\":[\"Finance\"],\"xaxis\":\"x\",\"y\":[985],\"yaxis\":\"y\",\"type\":\"scatter\"},{\"hovertemplate\":\"Genre=%{x}<br>Required_IOS_Version=7<br>No_of_Apps=%{y}<extra></extra>\",\"ids\":[140],\"legendgroup\":\"Weather\",\"marker\":{\"color\":\"#FF6692\",\"symbol\":\"circle\"},\"mode\":\"markers\",\"name\":\"Weather\",\"orientation\":\"v\",\"showlegend\":true,\"x\":[\"Weather\"],\"xaxis\":\"x\",\"y\":[140],\"yaxis\":\"y\",\"type\":\"scatter\"},{\"hovertemplate\":\"Genre=%{x}<br>Required_IOS_Version=7<br>No_of_Apps=%{y}<extra></extra>\",\"ids\":[3554],\"legendgroup\":\"Lifestyle\",\"marker\":{\"color\":\"#B6E880\",\"symbol\":\"circle\"},\"mode\":\"markers\",\"name\":\"Lifestyle\",\"orientation\":\"v\",\"showlegend\":true,\"x\":[\"Lifestyle\"],\"xaxis\":\"x\",\"y\":[3554],\"yaxis\":\"y\",\"type\":\"scatter\"},{\"hovertemplate\":\"Genre=%{x}<br>Required_IOS_Version=7<br>No_of_Apps=%{y}<extra></extra>\",\"ids\":[1469],\"legendgroup\":\"Health & Fitness\",\"marker\":{\"color\":\"#FF97FF\",\"symbol\":\"circle\"},\"mode\":\"markers\",\"name\":\"Health & Fitness\",\"orientation\":\"v\",\"showlegend\":true,\"x\":[\"Health & Fitness\"],\"xaxis\":\"x\",\"y\":[1469],\"yaxis\":\"y\",\"type\":\"scatter\"},{\"hovertemplate\":\"Genre=%{x}<br>Required_IOS_Version=7<br>No_of_Apps=%{y}<extra></extra>\",\"ids\":[815],\"legendgroup\":\"News\",\"marker\":{\"color\":\"#FECB52\",\"symbol\":\"circle\"},\"mode\":\"markers\",\"name\":\"News\",\"orientation\":\"v\",\"showlegend\":true,\"x\":[\"News\"],\"xaxis\":\"x\",\"y\":[815],\"yaxis\":\"y\",\"type\":\"scatter\"},{\"hovertemplate\":\"Genre=%{x}<br>Required_IOS_Version=7<br>No_of_Apps=%{y}<extra></extra>\",\"ids\":[1885],\"legendgroup\":\"Food & Drink\",\"marker\":{\"color\":\"#636efa\",\"symbol\":\"circle\"},\"mode\":\"markers\",\"name\":\"Food & Drink\",\"orientation\":\"v\",\"showlegend\":true,\"x\":[\"Food & Drink\"],\"xaxis\":\"x\",\"y\":[1885],\"yaxis\":\"y\",\"type\":\"scatter\"},{\"hovertemplate\":\"Genre=%{x}<br>Required_IOS_Version=7<br>No_of_Apps=%{y}<extra></extra>\",\"ids\":[876],\"legendgroup\":\"Shopping\",\"marker\":{\"color\":\"#EF553B\",\"symbol\":\"circle\"},\"mode\":\"markers\",\"name\":\"Shopping\",\"orientation\":\"v\",\"showlegend\":true,\"x\":[\"Shopping\"],\"xaxis\":\"x\",\"y\":[876],\"yaxis\":\"y\",\"type\":\"scatter\"},{\"hovertemplate\":\"Genre=%{x}<br>Required_IOS_Version=7<br>No_of_Apps=%{y}<extra></extra>\",\"ids\":[31],\"legendgroup\":\"Magazines & Newspapers\",\"marker\":{\"color\":\"#00cc96\",\"symbol\":\"circle\"},\"mode\":\"markers\",\"name\":\"Magazines & Newspapers\",\"orientation\":\"v\",\"showlegend\":true,\"x\":[\"Magazines & Newspapers\"],\"xaxis\":\"x\",\"y\":[31],\"yaxis\":\"y\",\"type\":\"scatter\"}],\"name\":\"7\"},{\"data\":[{\"hovertemplate\":\"Genre=%{x}<br>Required_IOS_Version=8<br>No_of_Apps=%{y}<extra></extra>\",\"ids\":[2229],\"legendgroup\":\"Book\",\"marker\":{\"color\":\"#636efa\",\"symbol\":\"circle\"},\"mode\":\"markers\",\"name\":\"Book\",\"orientation\":\"v\",\"showlegend\":true,\"x\":[\"Book\"],\"xaxis\":\"x\",\"y\":[2229],\"yaxis\":\"y\",\"type\":\"scatter\"},{\"hovertemplate\":\"Genre=%{x}<br>Required_IOS_Version=8<br>No_of_Apps=%{y}<extra></extra>\",\"ids\":[19049],\"legendgroup\":\"Education\",\"marker\":{\"color\":\"#EF553B\",\"symbol\":\"circle\"},\"mode\":\"markers\",\"name\":\"Education\",\"orientation\":\"v\",\"showlegend\":true,\"x\":[\"Education\"],\"xaxis\":\"x\",\"y\":[19049],\"yaxis\":\"y\",\"type\":\"scatter\"},{\"hovertemplate\":\"Genre=%{x}<br>Required_IOS_Version=8<br>No_of_Apps=%{y}<extra></extra>\",\"ids\":[2066],\"legendgroup\":\"Social Networking\",\"marker\":{\"color\":\"#00cc96\",\"symbol\":\"circle\"},\"mode\":\"markers\",\"name\":\"Social Networking\",\"orientation\":\"v\",\"showlegend\":true,\"x\":[\"Social Networking\"],\"xaxis\":\"x\",\"y\":[2066],\"yaxis\":\"y\",\"type\":\"scatter\"},{\"hovertemplate\":\"Genre=%{x}<br>Required_IOS_Version=8<br>No_of_Apps=%{y}<extra></extra>\",\"ids\":[6436],\"legendgroup\":\"Productivity\",\"marker\":{\"color\":\"#ab63fa\",\"symbol\":\"circle\"},\"mode\":\"markers\",\"name\":\"Productivity\",\"orientation\":\"v\",\"showlegend\":true,\"x\":[\"Productivity\"],\"xaxis\":\"x\",\"y\":[6436],\"yaxis\":\"y\",\"type\":\"scatter\"},{\"hovertemplate\":\"Genre=%{x}<br>Required_IOS_Version=8<br>No_of_Apps=%{y}<extra></extra>\",\"ids\":[4752],\"legendgroup\":\"Photo & Video\",\"marker\":{\"color\":\"#FFA15A\",\"symbol\":\"circle\"},\"mode\":\"markers\",\"name\":\"Photo & Video\",\"orientation\":\"v\",\"showlegend\":true,\"x\":[\"Photo & Video\"],\"xaxis\":\"x\",\"y\":[4752],\"yaxis\":\"y\",\"type\":\"scatter\"},{\"hovertemplate\":\"Genre=%{x}<br>Required_IOS_Version=8<br>No_of_Apps=%{y}<extra></extra>\",\"ids\":[4006],\"legendgroup\":\"Sports\",\"marker\":{\"color\":\"#19d3f3\",\"symbol\":\"circle\"},\"mode\":\"markers\",\"name\":\"Sports\",\"orientation\":\"v\",\"showlegend\":true,\"x\":[\"Sports\"],\"xaxis\":\"x\",\"y\":[4006],\"yaxis\":\"y\",\"type\":\"scatter\"},{\"hovertemplate\":\"Genre=%{x}<br>Required_IOS_Version=8<br>No_of_Apps=%{y}<extra></extra>\",\"ids\":[7877],\"legendgroup\":\"Entertainment\",\"marker\":{\"color\":\"#FF6692\",\"symbol\":\"circle\"},\"mode\":\"markers\",\"name\":\"Entertainment\",\"orientation\":\"v\",\"showlegend\":true,\"x\":[\"Entertainment\"],\"xaxis\":\"x\",\"y\":[7877],\"yaxis\":\"y\",\"type\":\"scatter\"},{\"hovertemplate\":\"Genre=%{x}<br>Required_IOS_Version=8<br>No_of_Apps=%{y}<extra></extra>\",\"ids\":[6416],\"legendgroup\":\"Travel\",\"marker\":{\"color\":\"#B6E880\",\"symbol\":\"circle\"},\"mode\":\"markers\",\"name\":\"Travel\",\"orientation\":\"v\",\"showlegend\":true,\"x\":[\"Travel\"],\"xaxis\":\"x\",\"y\":[6416],\"yaxis\":\"y\",\"type\":\"scatter\"},{\"hovertemplate\":\"Genre=%{x}<br>Required_IOS_Version=8<br>No_of_Apps=%{y}<extra></extra>\",\"ids\":[3076],\"legendgroup\":\"Reference\",\"marker\":{\"color\":\"#FF97FF\",\"symbol\":\"circle\"},\"mode\":\"markers\",\"name\":\"Reference\",\"orientation\":\"v\",\"showlegend\":true,\"x\":[\"Reference\"],\"xaxis\":\"x\",\"y\":[3076],\"yaxis\":\"y\",\"type\":\"scatter\"},{\"hovertemplate\":\"Genre=%{x}<br>Required_IOS_Version=8<br>No_of_Apps=%{y}<extra></extra>\",\"ids\":[14883],\"legendgroup\":\"Business\",\"marker\":{\"color\":\"#FECB52\",\"symbol\":\"circle\"},\"mode\":\"markers\",\"name\":\"Business\",\"orientation\":\"v\",\"showlegend\":true,\"x\":[\"Business\"],\"xaxis\":\"x\",\"y\":[14883],\"yaxis\":\"y\",\"type\":\"scatter\"},{\"hovertemplate\":\"Genre=%{x}<br>Required_IOS_Version=8<br>No_of_Apps=%{y}<extra></extra>\",\"ids\":[4897],\"legendgroup\":\"Music\",\"marker\":{\"color\":\"#636efa\",\"symbol\":\"circle\"},\"mode\":\"markers\",\"name\":\"Music\",\"orientation\":\"v\",\"showlegend\":true,\"x\":[\"Music\"],\"xaxis\":\"x\",\"y\":[4897],\"yaxis\":\"y\",\"type\":\"scatter\"},{\"hovertemplate\":\"Genre=%{x}<br>Required_IOS_Version=8<br>No_of_Apps=%{y}<extra></extra>\",\"ids\":[1850],\"legendgroup\":\"Navigation\",\"marker\":{\"color\":\"#EF553B\",\"symbol\":\"circle\"},\"mode\":\"markers\",\"name\":\"Navigation\",\"orientation\":\"v\",\"showlegend\":true,\"x\":[\"Navigation\"],\"xaxis\":\"x\",\"y\":[1850],\"yaxis\":\"y\",\"type\":\"scatter\"},{\"hovertemplate\":\"Genre=%{x}<br>Required_IOS_Version=8<br>No_of_Apps=%{y}<extra></extra>\",\"ids\":[13578],\"legendgroup\":\"Utilities\",\"marker\":{\"color\":\"#00cc96\",\"symbol\":\"circle\"},\"mode\":\"markers\",\"name\":\"Utilities\",\"orientation\":\"v\",\"showlegend\":true,\"x\":[\"Utilities\"],\"xaxis\":\"x\",\"y\":[13578],\"yaxis\":\"y\",\"type\":\"scatter\"},{\"hovertemplate\":\"Genre=%{x}<br>Required_IOS_Version=8<br>No_of_Apps=%{y}<extra></extra>\",\"ids\":[3556],\"legendgroup\":\"Medical\",\"marker\":{\"color\":\"#ab63fa\",\"symbol\":\"circle\"},\"mode\":\"markers\",\"name\":\"Medical\",\"orientation\":\"v\",\"showlegend\":true,\"x\":[\"Medical\"],\"xaxis\":\"x\",\"y\":[3556],\"yaxis\":\"y\",\"type\":\"scatter\"},{\"hovertemplate\":\"Genre=%{x}<br>Required_IOS_Version=8<br>No_of_Apps=%{y}<extra></extra>\",\"ids\":[35518],\"legendgroup\":\"Games\",\"marker\":{\"color\":\"#FFA15A\",\"symbol\":\"circle\"},\"mode\":\"markers\",\"name\":\"Games\",\"orientation\":\"v\",\"showlegend\":true,\"x\":[\"Games\"],\"xaxis\":\"x\",\"y\":[35518],\"yaxis\":\"y\",\"type\":\"scatter\"},{\"hovertemplate\":\"Genre=%{x}<br>Required_IOS_Version=8<br>No_of_Apps=%{y}<extra></extra>\",\"ids\":[3786],\"legendgroup\":\"Finance\",\"marker\":{\"color\":\"#19d3f3\",\"symbol\":\"circle\"},\"mode\":\"markers\",\"name\":\"Finance\",\"orientation\":\"v\",\"showlegend\":true,\"x\":[\"Finance\"],\"xaxis\":\"x\",\"y\":[3786],\"yaxis\":\"y\",\"type\":\"scatter\"},{\"hovertemplate\":\"Genre=%{x}<br>Required_IOS_Version=8<br>No_of_Apps=%{y}<extra></extra>\",\"ids\":[409],\"legendgroup\":\"Weather\",\"marker\":{\"color\":\"#FF6692\",\"symbol\":\"circle\"},\"mode\":\"markers\",\"name\":\"Weather\",\"orientation\":\"v\",\"showlegend\":true,\"x\":[\"Weather\"],\"xaxis\":\"x\",\"y\":[409],\"yaxis\":\"y\",\"type\":\"scatter\"},{\"hovertemplate\":\"Genre=%{x}<br>Required_IOS_Version=8<br>No_of_Apps=%{y}<extra></extra>\",\"ids\":[11382],\"legendgroup\":\"Lifestyle\",\"marker\":{\"color\":\"#B6E880\",\"symbol\":\"circle\"},\"mode\":\"markers\",\"name\":\"Lifestyle\",\"orientation\":\"v\",\"showlegend\":true,\"x\":[\"Lifestyle\"],\"xaxis\":\"x\",\"y\":[11382],\"yaxis\":\"y\",\"type\":\"scatter\"},{\"hovertemplate\":\"Genre=%{x}<br>Required_IOS_Version=8<br>No_of_Apps=%{y}<extra></extra>\",\"ids\":[5996],\"legendgroup\":\"Health & Fitness\",\"marker\":{\"color\":\"#FF97FF\",\"symbol\":\"circle\"},\"mode\":\"markers\",\"name\":\"Health & Fitness\",\"orientation\":\"v\",\"showlegend\":true,\"x\":[\"Health & Fitness\"],\"xaxis\":\"x\",\"y\":[5996],\"yaxis\":\"y\",\"type\":\"scatter\"},{\"hovertemplate\":\"Genre=%{x}<br>Required_IOS_Version=8<br>No_of_Apps=%{y}<extra></extra>\",\"ids\":[2198],\"legendgroup\":\"News\",\"marker\":{\"color\":\"#FECB52\",\"symbol\":\"circle\"},\"mode\":\"markers\",\"name\":\"News\",\"orientation\":\"v\",\"showlegend\":true,\"x\":[\"News\"],\"xaxis\":\"x\",\"y\":[2198],\"yaxis\":\"y\",\"type\":\"scatter\"},{\"hovertemplate\":\"Genre=%{x}<br>Required_IOS_Version=8<br>No_of_Apps=%{y}<extra></extra>\",\"ids\":[7947],\"legendgroup\":\"Food & Drink\",\"marker\":{\"color\":\"#636efa\",\"symbol\":\"circle\"},\"mode\":\"markers\",\"name\":\"Food & Drink\",\"orientation\":\"v\",\"showlegend\":true,\"x\":[\"Food & Drink\"],\"xaxis\":\"x\",\"y\":[7947],\"yaxis\":\"y\",\"type\":\"scatter\"},{\"hovertemplate\":\"Genre=%{x}<br>Required_IOS_Version=8<br>No_of_Apps=%{y}<extra></extra>\",\"ids\":[3619],\"legendgroup\":\"Shopping\",\"marker\":{\"color\":\"#EF553B\",\"symbol\":\"circle\"},\"mode\":\"markers\",\"name\":\"Shopping\",\"orientation\":\"v\",\"showlegend\":true,\"x\":[\"Shopping\"],\"xaxis\":\"x\",\"y\":[3619],\"yaxis\":\"y\",\"type\":\"scatter\"},{\"hovertemplate\":\"Genre=%{x}<br>Required_IOS_Version=8<br>No_of_Apps=%{y}<extra></extra>\",\"ids\":[104],\"legendgroup\":\"Magazines & Newspapers\",\"marker\":{\"color\":\"#00cc96\",\"symbol\":\"circle\"},\"mode\":\"markers\",\"name\":\"Magazines & Newspapers\",\"orientation\":\"v\",\"showlegend\":true,\"x\":[\"Magazines & Newspapers\"],\"xaxis\":\"x\",\"y\":[104],\"yaxis\":\"y\",\"type\":\"scatter\"},{\"hovertemplate\":\"Genre=%{x}<br>Required_IOS_Version=8<br>No_of_Apps=%{y}<extra></extra>\",\"ids\":[16],\"legendgroup\":\"Graphics & Design\",\"marker\":{\"color\":\"#ab63fa\",\"symbol\":\"circle\"},\"mode\":\"markers\",\"name\":\"Graphics & Design\",\"orientation\":\"v\",\"showlegend\":true,\"x\":[\"Graphics & Design\"],\"xaxis\":\"x\",\"y\":[16],\"yaxis\":\"y\",\"type\":\"scatter\"},{\"hovertemplate\":\"Genre=%{x}<br>Required_IOS_Version=8<br>No_of_Apps=%{y}<extra></extra>\",\"ids\":[28],\"legendgroup\":\"Developer Tools\",\"marker\":{\"color\":\"#FFA15A\",\"symbol\":\"circle\"},\"mode\":\"markers\",\"name\":\"Developer Tools\",\"orientation\":\"v\",\"showlegend\":true,\"x\":[\"Developer Tools\"],\"xaxis\":\"x\",\"y\":[28],\"yaxis\":\"y\",\"type\":\"scatter\"}],\"name\":\"8\"},{\"data\":[{\"hovertemplate\":\"Genre=%{x}<br>Required_IOS_Version=9<br>No_of_Apps=%{y}<extra></extra>\",\"ids\":[2188],\"legendgroup\":\"Book\",\"marker\":{\"color\":\"#636efa\",\"symbol\":\"circle\"},\"mode\":\"markers\",\"name\":\"Book\",\"orientation\":\"v\",\"showlegend\":true,\"x\":[\"Book\"],\"xaxis\":\"x\",\"y\":[2188],\"yaxis\":\"y\",\"type\":\"scatter\"},{\"hovertemplate\":\"Genre=%{x}<br>Required_IOS_Version=9<br>No_of_Apps=%{y}<extra></extra>\",\"ids\":[24200],\"legendgroup\":\"Education\",\"marker\":{\"color\":\"#EF553B\",\"symbol\":\"circle\"},\"mode\":\"markers\",\"name\":\"Education\",\"orientation\":\"v\",\"showlegend\":true,\"x\":[\"Education\"],\"xaxis\":\"x\",\"y\":[24200],\"yaxis\":\"y\",\"type\":\"scatter\"},{\"hovertemplate\":\"Genre=%{x}<br>Required_IOS_Version=9<br>No_of_Apps=%{y}<extra></extra>\",\"ids\":[4714],\"legendgroup\":\"Social Networking\",\"marker\":{\"color\":\"#00cc96\",\"symbol\":\"circle\"},\"mode\":\"markers\",\"name\":\"Social Networking\",\"orientation\":\"v\",\"showlegend\":true,\"x\":[\"Social Networking\"],\"xaxis\":\"x\",\"y\":[4714],\"yaxis\":\"y\",\"type\":\"scatter\"},{\"hovertemplate\":\"Genre=%{x}<br>Required_IOS_Version=9<br>No_of_Apps=%{y}<extra></extra>\",\"ids\":[10619],\"legendgroup\":\"Productivity\",\"marker\":{\"color\":\"#ab63fa\",\"symbol\":\"circle\"},\"mode\":\"markers\",\"name\":\"Productivity\",\"orientation\":\"v\",\"showlegend\":true,\"x\":[\"Productivity\"],\"xaxis\":\"x\",\"y\":[10619],\"yaxis\":\"y\",\"type\":\"scatter\"},{\"hovertemplate\":\"Genre=%{x}<br>Required_IOS_Version=9<br>No_of_Apps=%{y}<extra></extra>\",\"ids\":[4129],\"legendgroup\":\"Photo & Video\",\"marker\":{\"color\":\"#FFA15A\",\"symbol\":\"circle\"},\"mode\":\"markers\",\"name\":\"Photo & Video\",\"orientation\":\"v\",\"showlegend\":true,\"x\":[\"Photo & Video\"],\"xaxis\":\"x\",\"y\":[4129],\"yaxis\":\"y\",\"type\":\"scatter\"},{\"hovertemplate\":\"Genre=%{x}<br>Required_IOS_Version=9<br>No_of_Apps=%{y}<extra></extra>\",\"ids\":[5529],\"legendgroup\":\"Sports\",\"marker\":{\"color\":\"#19d3f3\",\"symbol\":\"circle\"},\"mode\":\"markers\",\"name\":\"Sports\",\"orientation\":\"v\",\"showlegend\":true,\"x\":[\"Sports\"],\"xaxis\":\"x\",\"y\":[5529],\"yaxis\":\"y\",\"type\":\"scatter\"},{\"hovertemplate\":\"Genre=%{x}<br>Required_IOS_Version=9<br>No_of_Apps=%{y}<extra></extra>\",\"ids\":[9610],\"legendgroup\":\"Entertainment\",\"marker\":{\"color\":\"#FF6692\",\"symbol\":\"circle\"},\"mode\":\"markers\",\"name\":\"Entertainment\",\"orientation\":\"v\",\"showlegend\":true,\"x\":[\"Entertainment\"],\"xaxis\":\"x\",\"y\":[9610],\"yaxis\":\"y\",\"type\":\"scatter\"},{\"hovertemplate\":\"Genre=%{x}<br>Required_IOS_Version=9<br>No_of_Apps=%{y}<extra></extra>\",\"ids\":[8778],\"legendgroup\":\"Travel\",\"marker\":{\"color\":\"#B6E880\",\"symbol\":\"circle\"},\"mode\":\"markers\",\"name\":\"Travel\",\"orientation\":\"v\",\"showlegend\":true,\"x\":[\"Travel\"],\"xaxis\":\"x\",\"y\":[8778],\"yaxis\":\"y\",\"type\":\"scatter\"},{\"hovertemplate\":\"Genre=%{x}<br>Required_IOS_Version=9<br>No_of_Apps=%{y}<extra></extra>\",\"ids\":[3924],\"legendgroup\":\"Reference\",\"marker\":{\"color\":\"#FF97FF\",\"symbol\":\"circle\"},\"mode\":\"markers\",\"name\":\"Reference\",\"orientation\":\"v\",\"showlegend\":true,\"x\":[\"Reference\"],\"xaxis\":\"x\",\"y\":[3924],\"yaxis\":\"y\",\"type\":\"scatter\"},{\"hovertemplate\":\"Genre=%{x}<br>Required_IOS_Version=9<br>No_of_Apps=%{y}<extra></extra>\",\"ids\":[28066],\"legendgroup\":\"Business\",\"marker\":{\"color\":\"#FECB52\",\"symbol\":\"circle\"},\"mode\":\"markers\",\"name\":\"Business\",\"orientation\":\"v\",\"showlegend\":true,\"x\":[\"Business\"],\"xaxis\":\"x\",\"y\":[28066],\"yaxis\":\"y\",\"type\":\"scatter\"},{\"hovertemplate\":\"Genre=%{x}<br>Required_IOS_Version=9<br>No_of_Apps=%{y}<extra></extra>\",\"ids\":[5177],\"legendgroup\":\"Music\",\"marker\":{\"color\":\"#636efa\",\"symbol\":\"circle\"},\"mode\":\"markers\",\"name\":\"Music\",\"orientation\":\"v\",\"showlegend\":true,\"x\":[\"Music\"],\"xaxis\":\"x\",\"y\":[5177],\"yaxis\":\"y\",\"type\":\"scatter\"},{\"hovertemplate\":\"Genre=%{x}<br>Required_IOS_Version=9<br>No_of_Apps=%{y}<extra></extra>\",\"ids\":[2354],\"legendgroup\":\"Navigation\",\"marker\":{\"color\":\"#EF553B\",\"symbol\":\"circle\"},\"mode\":\"markers\",\"name\":\"Navigation\",\"orientation\":\"v\",\"showlegend\":true,\"x\":[\"Navigation\"],\"xaxis\":\"x\",\"y\":[2354],\"yaxis\":\"y\",\"type\":\"scatter\"},{\"hovertemplate\":\"Genre=%{x}<br>Required_IOS_Version=9<br>No_of_Apps=%{y}<extra></extra>\",\"ids\":[18352],\"legendgroup\":\"Utilities\",\"marker\":{\"color\":\"#00cc96\",\"symbol\":\"circle\"},\"mode\":\"markers\",\"name\":\"Utilities\",\"orientation\":\"v\",\"showlegend\":true,\"x\":[\"Utilities\"],\"xaxis\":\"x\",\"y\":[18352],\"yaxis\":\"y\",\"type\":\"scatter\"},{\"hovertemplate\":\"Genre=%{x}<br>Required_IOS_Version=9<br>No_of_Apps=%{y}<extra></extra>\",\"ids\":[5511],\"legendgroup\":\"Medical\",\"marker\":{\"color\":\"#ab63fa\",\"symbol\":\"circle\"},\"mode\":\"markers\",\"name\":\"Medical\",\"orientation\":\"v\",\"showlegend\":true,\"x\":[\"Medical\"],\"xaxis\":\"x\",\"y\":[5511],\"yaxis\":\"y\",\"type\":\"scatter\"},{\"hovertemplate\":\"Genre=%{x}<br>Required_IOS_Version=9<br>No_of_Apps=%{y}<extra></extra>\",\"ids\":[33903],\"legendgroup\":\"Games\",\"marker\":{\"color\":\"#FFA15A\",\"symbol\":\"circle\"},\"mode\":\"markers\",\"name\":\"Games\",\"orientation\":\"v\",\"showlegend\":true,\"x\":[\"Games\"],\"xaxis\":\"x\",\"y\":[33903],\"yaxis\":\"y\",\"type\":\"scatter\"},{\"hovertemplate\":\"Genre=%{x}<br>Required_IOS_Version=9<br>No_of_Apps=%{y}<extra></extra>\",\"ids\":[7495],\"legendgroup\":\"Finance\",\"marker\":{\"color\":\"#19d3f3\",\"symbol\":\"circle\"},\"mode\":\"markers\",\"name\":\"Finance\",\"orientation\":\"v\",\"showlegend\":true,\"x\":[\"Finance\"],\"xaxis\":\"x\",\"y\":[7495],\"yaxis\":\"y\",\"type\":\"scatter\"},{\"hovertemplate\":\"Genre=%{x}<br>Required_IOS_Version=9<br>No_of_Apps=%{y}<extra></extra>\",\"ids\":[572],\"legendgroup\":\"Weather\",\"marker\":{\"color\":\"#FF6692\",\"symbol\":\"circle\"},\"mode\":\"markers\",\"name\":\"Weather\",\"orientation\":\"v\",\"showlegend\":true,\"x\":[\"Weather\"],\"xaxis\":\"x\",\"y\":[572],\"yaxis\":\"y\",\"type\":\"scatter\"},{\"hovertemplate\":\"Genre=%{x}<br>Required_IOS_Version=9<br>No_of_Apps=%{y}<extra></extra>\",\"ids\":[16288],\"legendgroup\":\"Lifestyle\",\"marker\":{\"color\":\"#B6E880\",\"symbol\":\"circle\"},\"mode\":\"markers\",\"name\":\"Lifestyle\",\"orientation\":\"v\",\"showlegend\":true,\"x\":[\"Lifestyle\"],\"xaxis\":\"x\",\"y\":[16288],\"yaxis\":\"y\",\"type\":\"scatter\"},{\"hovertemplate\":\"Genre=%{x}<br>Required_IOS_Version=9<br>No_of_Apps=%{y}<extra></extra>\",\"ids\":[11828],\"legendgroup\":\"Health & Fitness\",\"marker\":{\"color\":\"#FF97FF\",\"symbol\":\"circle\"},\"mode\":\"markers\",\"name\":\"Health & Fitness\",\"orientation\":\"v\",\"showlegend\":true,\"x\":[\"Health & Fitness\"],\"xaxis\":\"x\",\"y\":[11828],\"yaxis\":\"y\",\"type\":\"scatter\"},{\"hovertemplate\":\"Genre=%{x}<br>Required_IOS_Version=9<br>No_of_Apps=%{y}<extra></extra>\",\"ids\":[4513],\"legendgroup\":\"News\",\"marker\":{\"color\":\"#FECB52\",\"symbol\":\"circle\"},\"mode\":\"markers\",\"name\":\"News\",\"orientation\":\"v\",\"showlegend\":true,\"x\":[\"News\"],\"xaxis\":\"x\",\"y\":[4513],\"yaxis\":\"y\",\"type\":\"scatter\"},{\"hovertemplate\":\"Genre=%{x}<br>Required_IOS_Version=9<br>No_of_Apps=%{y}<extra></extra>\",\"ids\":[16795],\"legendgroup\":\"Food & Drink\",\"marker\":{\"color\":\"#636efa\",\"symbol\":\"circle\"},\"mode\":\"markers\",\"name\":\"Food & Drink\",\"orientation\":\"v\",\"showlegend\":true,\"x\":[\"Food & Drink\"],\"xaxis\":\"x\",\"y\":[16795],\"yaxis\":\"y\",\"type\":\"scatter\"},{\"hovertemplate\":\"Genre=%{x}<br>Required_IOS_Version=9<br>No_of_Apps=%{y}<extra></extra>\",\"ids\":[8296],\"legendgroup\":\"Shopping\",\"marker\":{\"color\":\"#EF553B\",\"symbol\":\"circle\"},\"mode\":\"markers\",\"name\":\"Shopping\",\"orientation\":\"v\",\"showlegend\":true,\"x\":[\"Shopping\"],\"xaxis\":\"x\",\"y\":[8296],\"yaxis\":\"y\",\"type\":\"scatter\"},{\"hovertemplate\":\"Genre=%{x}<br>Required_IOS_Version=9<br>No_of_Apps=%{y}<extra></extra>\",\"ids\":[325],\"legendgroup\":\"Magazines & Newspapers\",\"marker\":{\"color\":\"#00cc96\",\"symbol\":\"circle\"},\"mode\":\"markers\",\"name\":\"Magazines & Newspapers\",\"orientation\":\"v\",\"showlegend\":true,\"x\":[\"Magazines & Newspapers\"],\"xaxis\":\"x\",\"y\":[325],\"yaxis\":\"y\",\"type\":\"scatter\"},{\"hovertemplate\":\"Genre=%{x}<br>Required_IOS_Version=9<br>No_of_Apps=%{y}<extra></extra>\",\"ids\":[138],\"legendgroup\":\"Graphics & Design\",\"marker\":{\"color\":\"#ab63fa\",\"symbol\":\"circle\"},\"mode\":\"markers\",\"name\":\"Graphics & Design\",\"orientation\":\"v\",\"showlegend\":true,\"x\":[\"Graphics & Design\"],\"xaxis\":\"x\",\"y\":[138],\"yaxis\":\"y\",\"type\":\"scatter\"},{\"hovertemplate\":\"Genre=%{x}<br>Required_IOS_Version=9<br>No_of_Apps=%{y}<extra></extra>\",\"ids\":[68],\"legendgroup\":\"Developer Tools\",\"marker\":{\"color\":\"#FFA15A\",\"symbol\":\"circle\"},\"mode\":\"markers\",\"name\":\"Developer Tools\",\"orientation\":\"v\",\"showlegend\":true,\"x\":[\"Developer Tools\"],\"xaxis\":\"x\",\"y\":[68],\"yaxis\":\"y\",\"type\":\"scatter\"},{\"hovertemplate\":\"Genre=%{x}<br>Required_IOS_Version=9<br>No_of_Apps=%{y}<extra></extra>\",\"ids\":[4],\"legendgroup\":\"Stickers\",\"marker\":{\"color\":\"#19d3f3\",\"symbol\":\"circle\"},\"mode\":\"markers\",\"name\":\"Stickers\",\"orientation\":\"v\",\"showlegend\":true,\"x\":[\"Stickers\"],\"xaxis\":\"x\",\"y\":[4],\"yaxis\":\"y\",\"type\":\"scatter\"}],\"name\":\"9\"},{\"data\":[{\"hovertemplate\":\"Genre=%{x}<br>Required_IOS_Version=10<br>No_of_Apps=%{y}<extra></extra>\",\"ids\":[1460],\"legendgroup\":\"Book\",\"marker\":{\"color\":\"#636efa\",\"symbol\":\"circle\"},\"mode\":\"markers\",\"name\":\"Book\",\"orientation\":\"v\",\"showlegend\":true,\"x\":[\"Book\"],\"xaxis\":\"x\",\"y\":[1460],\"yaxis\":\"y\",\"type\":\"scatter\"},{\"hovertemplate\":\"Genre=%{x}<br>Required_IOS_Version=10<br>No_of_Apps=%{y}<extra></extra>\",\"ids\":[19346],\"legendgroup\":\"Education\",\"marker\":{\"color\":\"#EF553B\",\"symbol\":\"circle\"},\"mode\":\"markers\",\"name\":\"Education\",\"orientation\":\"v\",\"showlegend\":true,\"x\":[\"Education\"],\"xaxis\":\"x\",\"y\":[19346],\"yaxis\":\"y\",\"type\":\"scatter\"},{\"hovertemplate\":\"Genre=%{x}<br>Required_IOS_Version=10<br>No_of_Apps=%{y}<extra></extra>\",\"ids\":[5311],\"legendgroup\":\"Social Networking\",\"marker\":{\"color\":\"#00cc96\",\"symbol\":\"circle\"},\"mode\":\"markers\",\"name\":\"Social Networking\",\"orientation\":\"v\",\"showlegend\":true,\"x\":[\"Social Networking\"],\"xaxis\":\"x\",\"y\":[5311],\"yaxis\":\"y\",\"type\":\"scatter\"},{\"hovertemplate\":\"Genre=%{x}<br>Required_IOS_Version=10<br>No_of_Apps=%{y}<extra></extra>\",\"ids\":[12611],\"legendgroup\":\"Productivity\",\"marker\":{\"color\":\"#ab63fa\",\"symbol\":\"circle\"},\"mode\":\"markers\",\"name\":\"Productivity\",\"orientation\":\"v\",\"showlegend\":true,\"x\":[\"Productivity\"],\"xaxis\":\"x\",\"y\":[12611],\"yaxis\":\"y\",\"type\":\"scatter\"},{\"hovertemplate\":\"Genre=%{x}<br>Required_IOS_Version=10<br>No_of_Apps=%{y}<extra></extra>\",\"ids\":[4697],\"legendgroup\":\"Photo & Video\",\"marker\":{\"color\":\"#FFA15A\",\"symbol\":\"circle\"},\"mode\":\"markers\",\"name\":\"Photo & Video\",\"orientation\":\"v\",\"showlegend\":true,\"x\":[\"Photo & Video\"],\"xaxis\":\"x\",\"y\":[4697],\"yaxis\":\"y\",\"type\":\"scatter\"},{\"hovertemplate\":\"Genre=%{x}<br>Required_IOS_Version=10<br>No_of_Apps=%{y}<extra></extra>\",\"ids\":[5369],\"legendgroup\":\"Sports\",\"marker\":{\"color\":\"#19d3f3\",\"symbol\":\"circle\"},\"mode\":\"markers\",\"name\":\"Sports\",\"orientation\":\"v\",\"showlegend\":true,\"x\":[\"Sports\"],\"xaxis\":\"x\",\"y\":[5369],\"yaxis\":\"y\",\"type\":\"scatter\"},{\"hovertemplate\":\"Genre=%{x}<br>Required_IOS_Version=10<br>No_of_Apps=%{y}<extra></extra>\",\"ids\":[8935],\"legendgroup\":\"Entertainment\",\"marker\":{\"color\":\"#FF6692\",\"symbol\":\"circle\"},\"mode\":\"markers\",\"name\":\"Entertainment\",\"orientation\":\"v\",\"showlegend\":true,\"x\":[\"Entertainment\"],\"xaxis\":\"x\",\"y\":[8935],\"yaxis\":\"y\",\"type\":\"scatter\"},{\"hovertemplate\":\"Genre=%{x}<br>Required_IOS_Version=10<br>No_of_Apps=%{y}<extra></extra>\",\"ids\":[7586],\"legendgroup\":\"Travel\",\"marker\":{\"color\":\"#B6E880\",\"symbol\":\"circle\"},\"mode\":\"markers\",\"name\":\"Travel\",\"orientation\":\"v\",\"showlegend\":true,\"x\":[\"Travel\"],\"xaxis\":\"x\",\"y\":[7586],\"yaxis\":\"y\",\"type\":\"scatter\"},{\"hovertemplate\":\"Genre=%{x}<br>Required_IOS_Version=10<br>No_of_Apps=%{y}<extra></extra>\",\"ids\":[3124],\"legendgroup\":\"Reference\",\"marker\":{\"color\":\"#FF97FF\",\"symbol\":\"circle\"},\"mode\":\"markers\",\"name\":\"Reference\",\"orientation\":\"v\",\"showlegend\":true,\"x\":[\"Reference\"],\"xaxis\":\"x\",\"y\":[3124],\"yaxis\":\"y\",\"type\":\"scatter\"},{\"hovertemplate\":\"Genre=%{x}<br>Required_IOS_Version=10<br>No_of_Apps=%{y}<extra></extra>\",\"ids\":[24279],\"legendgroup\":\"Business\",\"marker\":{\"color\":\"#FECB52\",\"symbol\":\"circle\"},\"mode\":\"markers\",\"name\":\"Business\",\"orientation\":\"v\",\"showlegend\":true,\"x\":[\"Business\"],\"xaxis\":\"x\",\"y\":[24279],\"yaxis\":\"y\",\"type\":\"scatter\"},{\"hovertemplate\":\"Genre=%{x}<br>Required_IOS_Version=10<br>No_of_Apps=%{y}<extra></extra>\",\"ids\":[6770],\"legendgroup\":\"Music\",\"marker\":{\"color\":\"#636efa\",\"symbol\":\"circle\"},\"mode\":\"markers\",\"name\":\"Music\",\"orientation\":\"v\",\"showlegend\":true,\"x\":[\"Music\"],\"xaxis\":\"x\",\"y\":[6770],\"yaxis\":\"y\",\"type\":\"scatter\"},{\"hovertemplate\":\"Genre=%{x}<br>Required_IOS_Version=10<br>No_of_Apps=%{y}<extra></extra>\",\"ids\":[2230],\"legendgroup\":\"Navigation\",\"marker\":{\"color\":\"#EF553B\",\"symbol\":\"circle\"},\"mode\":\"markers\",\"name\":\"Navigation\",\"orientation\":\"v\",\"showlegend\":true,\"x\":[\"Navigation\"],\"xaxis\":\"x\",\"y\":[2230],\"yaxis\":\"y\",\"type\":\"scatter\"},{\"hovertemplate\":\"Genre=%{x}<br>Required_IOS_Version=10<br>No_of_Apps=%{y}<extra></extra>\",\"ids\":[19523],\"legendgroup\":\"Utilities\",\"marker\":{\"color\":\"#00cc96\",\"symbol\":\"circle\"},\"mode\":\"markers\",\"name\":\"Utilities\",\"orientation\":\"v\",\"showlegend\":true,\"x\":[\"Utilities\"],\"xaxis\":\"x\",\"y\":[19523],\"yaxis\":\"y\",\"type\":\"scatter\"},{\"hovertemplate\":\"Genre=%{x}<br>Required_IOS_Version=10<br>No_of_Apps=%{y}<extra></extra>\",\"ids\":[4849],\"legendgroup\":\"Medical\",\"marker\":{\"color\":\"#ab63fa\",\"symbol\":\"circle\"},\"mode\":\"markers\",\"name\":\"Medical\",\"orientation\":\"v\",\"showlegend\":true,\"x\":[\"Medical\"],\"xaxis\":\"x\",\"y\":[4849],\"yaxis\":\"y\",\"type\":\"scatter\"},{\"hovertemplate\":\"Genre=%{x}<br>Required_IOS_Version=10<br>No_of_Apps=%{y}<extra></extra>\",\"ids\":[36686],\"legendgroup\":\"Games\",\"marker\":{\"color\":\"#FFA15A\",\"symbol\":\"circle\"},\"mode\":\"markers\",\"name\":\"Games\",\"orientation\":\"v\",\"showlegend\":true,\"x\":[\"Games\"],\"xaxis\":\"x\",\"y\":[36686],\"yaxis\":\"y\",\"type\":\"scatter\"},{\"hovertemplate\":\"Genre=%{x}<br>Required_IOS_Version=10<br>No_of_Apps=%{y}<extra></extra>\",\"ids\":[8254],\"legendgroup\":\"Finance\",\"marker\":{\"color\":\"#19d3f3\",\"symbol\":\"circle\"},\"mode\":\"markers\",\"name\":\"Finance\",\"orientation\":\"v\",\"showlegend\":true,\"x\":[\"Finance\"],\"xaxis\":\"x\",\"y\":[8254],\"yaxis\":\"y\",\"type\":\"scatter\"},{\"hovertemplate\":\"Genre=%{x}<br>Required_IOS_Version=10<br>No_of_Apps=%{y}<extra></extra>\",\"ids\":[553],\"legendgroup\":\"Weather\",\"marker\":{\"color\":\"#FF6692\",\"symbol\":\"circle\"},\"mode\":\"markers\",\"name\":\"Weather\",\"orientation\":\"v\",\"showlegend\":true,\"x\":[\"Weather\"],\"xaxis\":\"x\",\"y\":[553],\"yaxis\":\"y\",\"type\":\"scatter\"},{\"hovertemplate\":\"Genre=%{x}<br>Required_IOS_Version=10<br>No_of_Apps=%{y}<extra></extra>\",\"ids\":[15787],\"legendgroup\":\"Lifestyle\",\"marker\":{\"color\":\"#B6E880\",\"symbol\":\"circle\"},\"mode\":\"markers\",\"name\":\"Lifestyle\",\"orientation\":\"v\",\"showlegend\":true,\"x\":[\"Lifestyle\"],\"xaxis\":\"x\",\"y\":[15787],\"yaxis\":\"y\",\"type\":\"scatter\"},{\"hovertemplate\":\"Genre=%{x}<br>Required_IOS_Version=10<br>No_of_Apps=%{y}<extra></extra>\",\"ids\":[11312],\"legendgroup\":\"Health & Fitness\",\"marker\":{\"color\":\"#FF97FF\",\"symbol\":\"circle\"},\"mode\":\"markers\",\"name\":\"Health & Fitness\",\"orientation\":\"v\",\"showlegend\":true,\"x\":[\"Health & Fitness\"],\"xaxis\":\"x\",\"y\":[11312],\"yaxis\":\"y\",\"type\":\"scatter\"},{\"hovertemplate\":\"Genre=%{x}<br>Required_IOS_Version=10<br>No_of_Apps=%{y}<extra></extra>\",\"ids\":[4046],\"legendgroup\":\"News\",\"marker\":{\"color\":\"#FECB52\",\"symbol\":\"circle\"},\"mode\":\"markers\",\"name\":\"News\",\"orientation\":\"v\",\"showlegend\":true,\"x\":[\"News\"],\"xaxis\":\"x\",\"y\":[4046],\"yaxis\":\"y\",\"type\":\"scatter\"},{\"hovertemplate\":\"Genre=%{x}<br>Required_IOS_Version=10<br>No_of_Apps=%{y}<extra></extra>\",\"ids\":[17118],\"legendgroup\":\"Food & Drink\",\"marker\":{\"color\":\"#636efa\",\"symbol\":\"circle\"},\"mode\":\"markers\",\"name\":\"Food & Drink\",\"orientation\":\"v\",\"showlegend\":true,\"x\":[\"Food & Drink\"],\"xaxis\":\"x\",\"y\":[17118],\"yaxis\":\"y\",\"type\":\"scatter\"},{\"hovertemplate\":\"Genre=%{x}<br>Required_IOS_Version=10<br>No_of_Apps=%{y}<extra></extra>\",\"ids\":[9570],\"legendgroup\":\"Shopping\",\"marker\":{\"color\":\"#EF553B\",\"symbol\":\"circle\"},\"mode\":\"markers\",\"name\":\"Shopping\",\"orientation\":\"v\",\"showlegend\":true,\"x\":[\"Shopping\"],\"xaxis\":\"x\",\"y\":[9570],\"yaxis\":\"y\",\"type\":\"scatter\"},{\"hovertemplate\":\"Genre=%{x}<br>Required_IOS_Version=10<br>No_of_Apps=%{y}<extra></extra>\",\"ids\":[165],\"legendgroup\":\"Magazines & Newspapers\",\"marker\":{\"color\":\"#00cc96\",\"symbol\":\"circle\"},\"mode\":\"markers\",\"name\":\"Magazines & Newspapers\",\"orientation\":\"v\",\"showlegend\":true,\"x\":[\"Magazines & Newspapers\"],\"xaxis\":\"x\",\"y\":[165],\"yaxis\":\"y\",\"type\":\"scatter\"},{\"hovertemplate\":\"Genre=%{x}<br>Required_IOS_Version=10<br>No_of_Apps=%{y}<extra></extra>\",\"ids\":[1316],\"legendgroup\":\"Graphics & Design\",\"marker\":{\"color\":\"#ab63fa\",\"symbol\":\"circle\"},\"mode\":\"markers\",\"name\":\"Graphics & Design\",\"orientation\":\"v\",\"showlegend\":true,\"x\":[\"Graphics & Design\"],\"xaxis\":\"x\",\"y\":[1316],\"yaxis\":\"y\",\"type\":\"scatter\"},{\"hovertemplate\":\"Genre=%{x}<br>Required_IOS_Version=10<br>No_of_Apps=%{y}<extra></extra>\",\"ids\":[1112],\"legendgroup\":\"Developer Tools\",\"marker\":{\"color\":\"#FFA15A\",\"symbol\":\"circle\"},\"mode\":\"markers\",\"name\":\"Developer Tools\",\"orientation\":\"v\",\"showlegend\":true,\"x\":[\"Developer Tools\"],\"xaxis\":\"x\",\"y\":[1112],\"yaxis\":\"y\",\"type\":\"scatter\"},{\"hovertemplate\":\"Genre=%{x}<br>Required_IOS_Version=10<br>No_of_Apps=%{y}<extra></extra>\",\"ids\":[10976],\"legendgroup\":\"Stickers\",\"marker\":{\"color\":\"#19d3f3\",\"symbol\":\"circle\"},\"mode\":\"markers\",\"name\":\"Stickers\",\"orientation\":\"v\",\"showlegend\":true,\"x\":[\"Stickers\"],\"xaxis\":\"x\",\"y\":[10976],\"yaxis\":\"y\",\"type\":\"scatter\"}],\"name\":\"10\"},{\"data\":[{\"hovertemplate\":\"Genre=%{x}<br>Required_IOS_Version=11<br>No_of_Apps=%{y}<extra></extra>\",\"ids\":[1934],\"legendgroup\":\"Book\",\"marker\":{\"color\":\"#636efa\",\"symbol\":\"circle\"},\"mode\":\"markers\",\"name\":\"Book\",\"orientation\":\"v\",\"showlegend\":true,\"x\":[\"Book\"],\"xaxis\":\"x\",\"y\":[1934],\"yaxis\":\"y\",\"type\":\"scatter\"},{\"hovertemplate\":\"Genre=%{x}<br>Required_IOS_Version=11<br>No_of_Apps=%{y}<extra></extra>\",\"ids\":[21332],\"legendgroup\":\"Education\",\"marker\":{\"color\":\"#EF553B\",\"symbol\":\"circle\"},\"mode\":\"markers\",\"name\":\"Education\",\"orientation\":\"v\",\"showlegend\":true,\"x\":[\"Education\"],\"xaxis\":\"x\",\"y\":[21332],\"yaxis\":\"y\",\"type\":\"scatter\"},{\"hovertemplate\":\"Genre=%{x}<br>Required_IOS_Version=11<br>No_of_Apps=%{y}<extra></extra>\",\"ids\":[6051],\"legendgroup\":\"Social Networking\",\"marker\":{\"color\":\"#00cc96\",\"symbol\":\"circle\"},\"mode\":\"markers\",\"name\":\"Social Networking\",\"orientation\":\"v\",\"showlegend\":true,\"x\":[\"Social Networking\"],\"xaxis\":\"x\",\"y\":[6051],\"yaxis\":\"y\",\"type\":\"scatter\"},{\"hovertemplate\":\"Genre=%{x}<br>Required_IOS_Version=11<br>No_of_Apps=%{y}<extra></extra>\",\"ids\":[12104],\"legendgroup\":\"Productivity\",\"marker\":{\"color\":\"#ab63fa\",\"symbol\":\"circle\"},\"mode\":\"markers\",\"name\":\"Productivity\",\"orientation\":\"v\",\"showlegend\":true,\"x\":[\"Productivity\"],\"xaxis\":\"x\",\"y\":[12104],\"yaxis\":\"y\",\"type\":\"scatter\"},{\"hovertemplate\":\"Genre=%{x}<br>Required_IOS_Version=11<br>No_of_Apps=%{y}<extra></extra>\",\"ids\":[3523],\"legendgroup\":\"Photo & Video\",\"marker\":{\"color\":\"#FFA15A\",\"symbol\":\"circle\"},\"mode\":\"markers\",\"name\":\"Photo & Video\",\"orientation\":\"v\",\"showlegend\":true,\"x\":[\"Photo & Video\"],\"xaxis\":\"x\",\"y\":[3523],\"yaxis\":\"y\",\"type\":\"scatter\"},{\"hovertemplate\":\"Genre=%{x}<br>Required_IOS_Version=11<br>No_of_Apps=%{y}<extra></extra>\",\"ids\":[7542],\"legendgroup\":\"Sports\",\"marker\":{\"color\":\"#19d3f3\",\"symbol\":\"circle\"},\"mode\":\"markers\",\"name\":\"Sports\",\"orientation\":\"v\",\"showlegend\":true,\"x\":[\"Sports\"],\"xaxis\":\"x\",\"y\":[7542],\"yaxis\":\"y\",\"type\":\"scatter\"},{\"hovertemplate\":\"Genre=%{x}<br>Required_IOS_Version=11<br>No_of_Apps=%{y}<extra></extra>\",\"ids\":[9865],\"legendgroup\":\"Entertainment\",\"marker\":{\"color\":\"#FF6692\",\"symbol\":\"circle\"},\"mode\":\"markers\",\"name\":\"Entertainment\",\"orientation\":\"v\",\"showlegend\":true,\"x\":[\"Entertainment\"],\"xaxis\":\"x\",\"y\":[9865],\"yaxis\":\"y\",\"type\":\"scatter\"},{\"hovertemplate\":\"Genre=%{x}<br>Required_IOS_Version=11<br>No_of_Apps=%{y}<extra></extra>\",\"ids\":[9411],\"legendgroup\":\"Travel\",\"marker\":{\"color\":\"#B6E880\",\"symbol\":\"circle\"},\"mode\":\"markers\",\"name\":\"Travel\",\"orientation\":\"v\",\"showlegend\":true,\"x\":[\"Travel\"],\"xaxis\":\"x\",\"y\":[9411],\"yaxis\":\"y\",\"type\":\"scatter\"},{\"hovertemplate\":\"Genre=%{x}<br>Required_IOS_Version=11<br>No_of_Apps=%{y}<extra></extra>\",\"ids\":[2630],\"legendgroup\":\"Reference\",\"marker\":{\"color\":\"#FF97FF\",\"symbol\":\"circle\"},\"mode\":\"markers\",\"name\":\"Reference\",\"orientation\":\"v\",\"showlegend\":true,\"x\":[\"Reference\"],\"xaxis\":\"x\",\"y\":[2630],\"yaxis\":\"y\",\"type\":\"scatter\"},{\"hovertemplate\":\"Genre=%{x}<br>Required_IOS_Version=11<br>No_of_Apps=%{y}<extra></extra>\",\"ids\":[28897],\"legendgroup\":\"Business\",\"marker\":{\"color\":\"#FECB52\",\"symbol\":\"circle\"},\"mode\":\"markers\",\"name\":\"Business\",\"orientation\":\"v\",\"showlegend\":true,\"x\":[\"Business\"],\"xaxis\":\"x\",\"y\":[28897],\"yaxis\":\"y\",\"type\":\"scatter\"},{\"hovertemplate\":\"Genre=%{x}<br>Required_IOS_Version=11<br>No_of_Apps=%{y}<extra></extra>\",\"ids\":[4543],\"legendgroup\":\"Music\",\"marker\":{\"color\":\"#636efa\",\"symbol\":\"circle\"},\"mode\":\"markers\",\"name\":\"Music\",\"orientation\":\"v\",\"showlegend\":true,\"x\":[\"Music\"],\"xaxis\":\"x\",\"y\":[4543],\"yaxis\":\"y\",\"type\":\"scatter\"},{\"hovertemplate\":\"Genre=%{x}<br>Required_IOS_Version=11<br>No_of_Apps=%{y}<extra></extra>\",\"ids\":[2298],\"legendgroup\":\"Navigation\",\"marker\":{\"color\":\"#EF553B\",\"symbol\":\"circle\"},\"mode\":\"markers\",\"name\":\"Navigation\",\"orientation\":\"v\",\"showlegend\":true,\"x\":[\"Navigation\"],\"xaxis\":\"x\",\"y\":[2298],\"yaxis\":\"y\",\"type\":\"scatter\"},{\"hovertemplate\":\"Genre=%{x}<br>Required_IOS_Version=11<br>No_of_Apps=%{y}<extra></extra>\",\"ids\":[16512],\"legendgroup\":\"Utilities\",\"marker\":{\"color\":\"#00cc96\",\"symbol\":\"circle\"},\"mode\":\"markers\",\"name\":\"Utilities\",\"orientation\":\"v\",\"showlegend\":true,\"x\":[\"Utilities\"],\"xaxis\":\"x\",\"y\":[16512],\"yaxis\":\"y\",\"type\":\"scatter\"},{\"hovertemplate\":\"Genre=%{x}<br>Required_IOS_Version=11<br>No_of_Apps=%{y}<extra></extra>\",\"ids\":[6316],\"legendgroup\":\"Medical\",\"marker\":{\"color\":\"#ab63fa\",\"symbol\":\"circle\"},\"mode\":\"markers\",\"name\":\"Medical\",\"orientation\":\"v\",\"showlegend\":true,\"x\":[\"Medical\"],\"xaxis\":\"x\",\"y\":[6316],\"yaxis\":\"y\",\"type\":\"scatter\"},{\"hovertemplate\":\"Genre=%{x}<br>Required_IOS_Version=11<br>No_of_Apps=%{y}<extra></extra>\",\"ids\":[22164],\"legendgroup\":\"Games\",\"marker\":{\"color\":\"#FFA15A\",\"symbol\":\"circle\"},\"mode\":\"markers\",\"name\":\"Games\",\"orientation\":\"v\",\"showlegend\":true,\"x\":[\"Games\"],\"xaxis\":\"x\",\"y\":[22164],\"yaxis\":\"y\",\"type\":\"scatter\"},{\"hovertemplate\":\"Genre=%{x}<br>Required_IOS_Version=11<br>No_of_Apps=%{y}<extra></extra>\",\"ids\":[11291],\"legendgroup\":\"Finance\",\"marker\":{\"color\":\"#19d3f3\",\"symbol\":\"circle\"},\"mode\":\"markers\",\"name\":\"Finance\",\"orientation\":\"v\",\"showlegend\":true,\"x\":[\"Finance\"],\"xaxis\":\"x\",\"y\":[11291],\"yaxis\":\"y\",\"type\":\"scatter\"},{\"hovertemplate\":\"Genre=%{x}<br>Required_IOS_Version=11<br>No_of_Apps=%{y}<extra></extra>\",\"ids\":[460],\"legendgroup\":\"Weather\",\"marker\":{\"color\":\"#FF6692\",\"symbol\":\"circle\"},\"mode\":\"markers\",\"name\":\"Weather\",\"orientation\":\"v\",\"showlegend\":true,\"x\":[\"Weather\"],\"xaxis\":\"x\",\"y\":[460],\"yaxis\":\"y\",\"type\":\"scatter\"},{\"hovertemplate\":\"Genre=%{x}<br>Required_IOS_Version=11<br>No_of_Apps=%{y}<extra></extra>\",\"ids\":[17573],\"legendgroup\":\"Lifestyle\",\"marker\":{\"color\":\"#B6E880\",\"symbol\":\"circle\"},\"mode\":\"markers\",\"name\":\"Lifestyle\",\"orientation\":\"v\",\"showlegend\":true,\"x\":[\"Lifestyle\"],\"xaxis\":\"x\",\"y\":[17573],\"yaxis\":\"y\",\"type\":\"scatter\"},{\"hovertemplate\":\"Genre=%{x}<br>Required_IOS_Version=11<br>No_of_Apps=%{y}<extra></extra>\",\"ids\":[15480],\"legendgroup\":\"Health & Fitness\",\"marker\":{\"color\":\"#FF97FF\",\"symbol\":\"circle\"},\"mode\":\"markers\",\"name\":\"Health & Fitness\",\"orientation\":\"v\",\"showlegend\":true,\"x\":[\"Health & Fitness\"],\"xaxis\":\"x\",\"y\":[15480],\"yaxis\":\"y\",\"type\":\"scatter\"},{\"hovertemplate\":\"Genre=%{x}<br>Required_IOS_Version=11<br>No_of_Apps=%{y}<extra></extra>\",\"ids\":[4525],\"legendgroup\":\"News\",\"marker\":{\"color\":\"#FECB52\",\"symbol\":\"circle\"},\"mode\":\"markers\",\"name\":\"News\",\"orientation\":\"v\",\"showlegend\":true,\"x\":[\"News\"],\"xaxis\":\"x\",\"y\":[4525],\"yaxis\":\"y\",\"type\":\"scatter\"},{\"hovertemplate\":\"Genre=%{x}<br>Required_IOS_Version=11<br>No_of_Apps=%{y}<extra></extra>\",\"ids\":[17488],\"legendgroup\":\"Food & Drink\",\"marker\":{\"color\":\"#636efa\",\"symbol\":\"circle\"},\"mode\":\"markers\",\"name\":\"Food & Drink\",\"orientation\":\"v\",\"showlegend\":true,\"x\":[\"Food & Drink\"],\"xaxis\":\"x\",\"y\":[17488],\"yaxis\":\"y\",\"type\":\"scatter\"},{\"hovertemplate\":\"Genre=%{x}<br>Required_IOS_Version=11<br>No_of_Apps=%{y}<extra></extra>\",\"ids\":[11554],\"legendgroup\":\"Shopping\",\"marker\":{\"color\":\"#EF553B\",\"symbol\":\"circle\"},\"mode\":\"markers\",\"name\":\"Shopping\",\"orientation\":\"v\",\"showlegend\":true,\"x\":[\"Shopping\"],\"xaxis\":\"x\",\"y\":[11554],\"yaxis\":\"y\",\"type\":\"scatter\"},{\"hovertemplate\":\"Genre=%{x}<br>Required_IOS_Version=11<br>No_of_Apps=%{y}<extra></extra>\",\"ids\":[440],\"legendgroup\":\"Magazines & Newspapers\",\"marker\":{\"color\":\"#00cc96\",\"symbol\":\"circle\"},\"mode\":\"markers\",\"name\":\"Magazines & Newspapers\",\"orientation\":\"v\",\"showlegend\":true,\"x\":[\"Magazines & Newspapers\"],\"xaxis\":\"x\",\"y\":[440],\"yaxis\":\"y\",\"type\":\"scatter\"},{\"hovertemplate\":\"Genre=%{x}<br>Required_IOS_Version=11<br>No_of_Apps=%{y}<extra></extra>\",\"ids\":[352],\"legendgroup\":\"Graphics & Design\",\"marker\":{\"color\":\"#ab63fa\",\"symbol\":\"circle\"},\"mode\":\"markers\",\"name\":\"Graphics & Design\",\"orientation\":\"v\",\"showlegend\":true,\"x\":[\"Graphics & Design\"],\"xaxis\":\"x\",\"y\":[352],\"yaxis\":\"y\",\"type\":\"scatter\"},{\"hovertemplate\":\"Genre=%{x}<br>Required_IOS_Version=11<br>No_of_Apps=%{y}<extra></extra>\",\"ids\":[232],\"legendgroup\":\"Developer Tools\",\"marker\":{\"color\":\"#FFA15A\",\"symbol\":\"circle\"},\"mode\":\"markers\",\"name\":\"Developer Tools\",\"orientation\":\"v\",\"showlegend\":true,\"x\":[\"Developer Tools\"],\"xaxis\":\"x\",\"y\":[232],\"yaxis\":\"y\",\"type\":\"scatter\"},{\"hovertemplate\":\"Genre=%{x}<br>Required_IOS_Version=11<br>No_of_Apps=%{y}<extra></extra>\",\"ids\":[637],\"legendgroup\":\"Stickers\",\"marker\":{\"color\":\"#19d3f3\",\"symbol\":\"circle\"},\"mode\":\"markers\",\"name\":\"Stickers\",\"orientation\":\"v\",\"showlegend\":true,\"x\":[\"Stickers\"],\"xaxis\":\"x\",\"y\":[637],\"yaxis\":\"y\",\"type\":\"scatter\"}],\"name\":\"11\"},{\"data\":[{\"hovertemplate\":\"Genre=%{x}<br>Required_IOS_Version=12<br>No_of_Apps=%{y}<extra></extra>\",\"ids\":[1004],\"legendgroup\":\"Book\",\"marker\":{\"color\":\"#636efa\",\"symbol\":\"circle\"},\"mode\":\"markers\",\"name\":\"Book\",\"orientation\":\"v\",\"showlegend\":true,\"x\":[\"Book\"],\"xaxis\":\"x\",\"y\":[1004],\"yaxis\":\"y\",\"type\":\"scatter\"},{\"hovertemplate\":\"Genre=%{x}<br>Required_IOS_Version=12<br>No_of_Apps=%{y}<extra></extra>\",\"ids\":[15114],\"legendgroup\":\"Education\",\"marker\":{\"color\":\"#EF553B\",\"symbol\":\"circle\"},\"mode\":\"markers\",\"name\":\"Education\",\"orientation\":\"v\",\"showlegend\":true,\"x\":[\"Education\"],\"xaxis\":\"x\",\"y\":[15114],\"yaxis\":\"y\",\"type\":\"scatter\"},{\"hovertemplate\":\"Genre=%{x}<br>Required_IOS_Version=12<br>No_of_Apps=%{y}<extra></extra>\",\"ids\":[3446],\"legendgroup\":\"Social Networking\",\"marker\":{\"color\":\"#00cc96\",\"symbol\":\"circle\"},\"mode\":\"markers\",\"name\":\"Social Networking\",\"orientation\":\"v\",\"showlegend\":true,\"x\":[\"Social Networking\"],\"xaxis\":\"x\",\"y\":[3446],\"yaxis\":\"y\",\"type\":\"scatter\"},{\"hovertemplate\":\"Genre=%{x}<br>Required_IOS_Version=12<br>No_of_Apps=%{y}<extra></extra>\",\"ids\":[7842],\"legendgroup\":\"Productivity\",\"marker\":{\"color\":\"#ab63fa\",\"symbol\":\"circle\"},\"mode\":\"markers\",\"name\":\"Productivity\",\"orientation\":\"v\",\"showlegend\":true,\"x\":[\"Productivity\"],\"xaxis\":\"x\",\"y\":[7842],\"yaxis\":\"y\",\"type\":\"scatter\"},{\"hovertemplate\":\"Genre=%{x}<br>Required_IOS_Version=12<br>No_of_Apps=%{y}<extra></extra>\",\"ids\":[2289],\"legendgroup\":\"Photo & Video\",\"marker\":{\"color\":\"#FFA15A\",\"symbol\":\"circle\"},\"mode\":\"markers\",\"name\":\"Photo & Video\",\"orientation\":\"v\",\"showlegend\":true,\"x\":[\"Photo & Video\"],\"xaxis\":\"x\",\"y\":[2289],\"yaxis\":\"y\",\"type\":\"scatter\"},{\"hovertemplate\":\"Genre=%{x}<br>Required_IOS_Version=12<br>No_of_Apps=%{y}<extra></extra>\",\"ids\":[4030],\"legendgroup\":\"Sports\",\"marker\":{\"color\":\"#19d3f3\",\"symbol\":\"circle\"},\"mode\":\"markers\",\"name\":\"Sports\",\"orientation\":\"v\",\"showlegend\":true,\"x\":[\"Sports\"],\"xaxis\":\"x\",\"y\":[4030],\"yaxis\":\"y\",\"type\":\"scatter\"},{\"hovertemplate\":\"Genre=%{x}<br>Required_IOS_Version=12<br>No_of_Apps=%{y}<extra></extra>\",\"ids\":[5239],\"legendgroup\":\"Entertainment\",\"marker\":{\"color\":\"#FF6692\",\"symbol\":\"circle\"},\"mode\":\"markers\",\"name\":\"Entertainment\",\"orientation\":\"v\",\"showlegend\":true,\"x\":[\"Entertainment\"],\"xaxis\":\"x\",\"y\":[5239],\"yaxis\":\"y\",\"type\":\"scatter\"},{\"hovertemplate\":\"Genre=%{x}<br>Required_IOS_Version=12<br>No_of_Apps=%{y}<extra></extra>\",\"ids\":[5021],\"legendgroup\":\"Travel\",\"marker\":{\"color\":\"#B6E880\",\"symbol\":\"circle\"},\"mode\":\"markers\",\"name\":\"Travel\",\"orientation\":\"v\",\"showlegend\":true,\"x\":[\"Travel\"],\"xaxis\":\"x\",\"y\":[5021],\"yaxis\":\"y\",\"type\":\"scatter\"},{\"hovertemplate\":\"Genre=%{x}<br>Required_IOS_Version=12<br>No_of_Apps=%{y}<extra></extra>\",\"ids\":[1870],\"legendgroup\":\"Reference\",\"marker\":{\"color\":\"#FF97FF\",\"symbol\":\"circle\"},\"mode\":\"markers\",\"name\":\"Reference\",\"orientation\":\"v\",\"showlegend\":true,\"x\":[\"Reference\"],\"xaxis\":\"x\",\"y\":[1870],\"yaxis\":\"y\",\"type\":\"scatter\"},{\"hovertemplate\":\"Genre=%{x}<br>Required_IOS_Version=12<br>No_of_Apps=%{y}<extra></extra>\",\"ids\":[16409],\"legendgroup\":\"Business\",\"marker\":{\"color\":\"#FECB52\",\"symbol\":\"circle\"},\"mode\":\"markers\",\"name\":\"Business\",\"orientation\":\"v\",\"showlegend\":true,\"x\":[\"Business\"],\"xaxis\":\"x\",\"y\":[16409],\"yaxis\":\"y\",\"type\":\"scatter\"},{\"hovertemplate\":\"Genre=%{x}<br>Required_IOS_Version=12<br>No_of_Apps=%{y}<extra></extra>\",\"ids\":[2951],\"legendgroup\":\"Music\",\"marker\":{\"color\":\"#636efa\",\"symbol\":\"circle\"},\"mode\":\"markers\",\"name\":\"Music\",\"orientation\":\"v\",\"showlegend\":true,\"x\":[\"Music\"],\"xaxis\":\"x\",\"y\":[2951],\"yaxis\":\"y\",\"type\":\"scatter\"},{\"hovertemplate\":\"Genre=%{x}<br>Required_IOS_Version=12<br>No_of_Apps=%{y}<extra></extra>\",\"ids\":[1589],\"legendgroup\":\"Navigation\",\"marker\":{\"color\":\"#EF553B\",\"symbol\":\"circle\"},\"mode\":\"markers\",\"name\":\"Navigation\",\"orientation\":\"v\",\"showlegend\":true,\"x\":[\"Navigation\"],\"xaxis\":\"x\",\"y\":[1589],\"yaxis\":\"y\",\"type\":\"scatter\"},{\"hovertemplate\":\"Genre=%{x}<br>Required_IOS_Version=12<br>No_of_Apps=%{y}<extra></extra>\",\"ids\":[10240],\"legendgroup\":\"Utilities\",\"marker\":{\"color\":\"#00cc96\",\"symbol\":\"circle\"},\"mode\":\"markers\",\"name\":\"Utilities\",\"orientation\":\"v\",\"showlegend\":true,\"x\":[\"Utilities\"],\"xaxis\":\"x\",\"y\":[10240],\"yaxis\":\"y\",\"type\":\"scatter\"},{\"hovertemplate\":\"Genre=%{x}<br>Required_IOS_Version=12<br>No_of_Apps=%{y}<extra></extra>\",\"ids\":[3577],\"legendgroup\":\"Medical\",\"marker\":{\"color\":\"#ab63fa\",\"symbol\":\"circle\"},\"mode\":\"markers\",\"name\":\"Medical\",\"orientation\":\"v\",\"showlegend\":true,\"x\":[\"Medical\"],\"xaxis\":\"x\",\"y\":[3577],\"yaxis\":\"y\",\"type\":\"scatter\"},{\"hovertemplate\":\"Genre=%{x}<br>Required_IOS_Version=12<br>No_of_Apps=%{y}<extra></extra>\",\"ids\":[8572],\"legendgroup\":\"Games\",\"marker\":{\"color\":\"#FFA15A\",\"symbol\":\"circle\"},\"mode\":\"markers\",\"name\":\"Games\",\"orientation\":\"v\",\"showlegend\":true,\"x\":[\"Games\"],\"xaxis\":\"x\",\"y\":[8572],\"yaxis\":\"y\",\"type\":\"scatter\"},{\"hovertemplate\":\"Genre=%{x}<br>Required_IOS_Version=12<br>No_of_Apps=%{y}<extra></extra>\",\"ids\":[7843],\"legendgroup\":\"Finance\",\"marker\":{\"color\":\"#19d3f3\",\"symbol\":\"circle\"},\"mode\":\"markers\",\"name\":\"Finance\",\"orientation\":\"v\",\"showlegend\":true,\"x\":[\"Finance\"],\"xaxis\":\"x\",\"y\":[7843],\"yaxis\":\"y\",\"type\":\"scatter\"},{\"hovertemplate\":\"Genre=%{x}<br>Required_IOS_Version=12<br>No_of_Apps=%{y}<extra></extra>\",\"ids\":[677],\"legendgroup\":\"Weather\",\"marker\":{\"color\":\"#FF6692\",\"symbol\":\"circle\"},\"mode\":\"markers\",\"name\":\"Weather\",\"orientation\":\"v\",\"showlegend\":true,\"x\":[\"Weather\"],\"xaxis\":\"x\",\"y\":[677],\"yaxis\":\"y\",\"type\":\"scatter\"},{\"hovertemplate\":\"Genre=%{x}<br>Required_IOS_Version=12<br>No_of_Apps=%{y}<extra></extra>\",\"ids\":[11856],\"legendgroup\":\"Lifestyle\",\"marker\":{\"color\":\"#B6E880\",\"symbol\":\"circle\"},\"mode\":\"markers\",\"name\":\"Lifestyle\",\"orientation\":\"v\",\"showlegend\":true,\"x\":[\"Lifestyle\"],\"xaxis\":\"x\",\"y\":[11856],\"yaxis\":\"y\",\"type\":\"scatter\"},{\"hovertemplate\":\"Genre=%{x}<br>Required_IOS_Version=12<br>No_of_Apps=%{y}<extra></extra>\",\"ids\":[7669],\"legendgroup\":\"Health & Fitness\",\"marker\":{\"color\":\"#FF97FF\",\"symbol\":\"circle\"},\"mode\":\"markers\",\"name\":\"Health & Fitness\",\"orientation\":\"v\",\"showlegend\":true,\"x\":[\"Health & Fitness\"],\"xaxis\":\"x\",\"y\":[7669],\"yaxis\":\"y\",\"type\":\"scatter\"},{\"hovertemplate\":\"Genre=%{x}<br>Required_IOS_Version=12<br>No_of_Apps=%{y}<extra></extra>\",\"ids\":[2610],\"legendgroup\":\"News\",\"marker\":{\"color\":\"#FECB52\",\"symbol\":\"circle\"},\"mode\":\"markers\",\"name\":\"News\",\"orientation\":\"v\",\"showlegend\":true,\"x\":[\"News\"],\"xaxis\":\"x\",\"y\":[2610],\"yaxis\":\"y\",\"type\":\"scatter\"},{\"hovertemplate\":\"Genre=%{x}<br>Required_IOS_Version=12<br>No_of_Apps=%{y}<extra></extra>\",\"ids\":[6729],\"legendgroup\":\"Food & Drink\",\"marker\":{\"color\":\"#636efa\",\"symbol\":\"circle\"},\"mode\":\"markers\",\"name\":\"Food & Drink\",\"orientation\":\"v\",\"showlegend\":true,\"x\":[\"Food & Drink\"],\"xaxis\":\"x\",\"y\":[6729],\"yaxis\":\"y\",\"type\":\"scatter\"},{\"hovertemplate\":\"Genre=%{x}<br>Required_IOS_Version=12<br>No_of_Apps=%{y}<extra></extra>\",\"ids\":[9184],\"legendgroup\":\"Shopping\",\"marker\":{\"color\":\"#EF553B\",\"symbol\":\"circle\"},\"mode\":\"markers\",\"name\":\"Shopping\",\"orientation\":\"v\",\"showlegend\":true,\"x\":[\"Shopping\"],\"xaxis\":\"x\",\"y\":[9184],\"yaxis\":\"y\",\"type\":\"scatter\"},{\"hovertemplate\":\"Genre=%{x}<br>Required_IOS_Version=12<br>No_of_Apps=%{y}<extra></extra>\",\"ids\":[190],\"legendgroup\":\"Magazines & Newspapers\",\"marker\":{\"color\":\"#00cc96\",\"symbol\":\"circle\"},\"mode\":\"markers\",\"name\":\"Magazines & Newspapers\",\"orientation\":\"v\",\"showlegend\":true,\"x\":[\"Magazines & Newspapers\"],\"xaxis\":\"x\",\"y\":[190],\"yaxis\":\"y\",\"type\":\"scatter\"},{\"hovertemplate\":\"Genre=%{x}<br>Required_IOS_Version=12<br>No_of_Apps=%{y}<extra></extra>\",\"ids\":[285],\"legendgroup\":\"Graphics & Design\",\"marker\":{\"color\":\"#ab63fa\",\"symbol\":\"circle\"},\"mode\":\"markers\",\"name\":\"Graphics & Design\",\"orientation\":\"v\",\"showlegend\":true,\"x\":[\"Graphics & Design\"],\"xaxis\":\"x\",\"y\":[285],\"yaxis\":\"y\",\"type\":\"scatter\"},{\"hovertemplate\":\"Genre=%{x}<br>Required_IOS_Version=12<br>No_of_Apps=%{y}<extra></extra>\",\"ids\":[118],\"legendgroup\":\"Developer Tools\",\"marker\":{\"color\":\"#FFA15A\",\"symbol\":\"circle\"},\"mode\":\"markers\",\"name\":\"Developer Tools\",\"orientation\":\"v\",\"showlegend\":true,\"x\":[\"Developer Tools\"],\"xaxis\":\"x\",\"y\":[118],\"yaxis\":\"y\",\"type\":\"scatter\"},{\"hovertemplate\":\"Genre=%{x}<br>Required_IOS_Version=12<br>No_of_Apps=%{y}<extra></extra>\",\"ids\":[554],\"legendgroup\":\"Stickers\",\"marker\":{\"color\":\"#19d3f3\",\"symbol\":\"circle\"},\"mode\":\"markers\",\"name\":\"Stickers\",\"orientation\":\"v\",\"showlegend\":true,\"x\":[\"Stickers\"],\"xaxis\":\"x\",\"y\":[554],\"yaxis\":\"y\",\"type\":\"scatter\"}],\"name\":\"12\"},{\"data\":[{\"hovertemplate\":\"Genre=%{x}<br>Required_IOS_Version=13<br>No_of_Apps=%{y}<extra></extra>\",\"ids\":[587],\"legendgroup\":\"Book\",\"marker\":{\"color\":\"#636efa\",\"symbol\":\"circle\"},\"mode\":\"markers\",\"name\":\"Book\",\"orientation\":\"v\",\"showlegend\":true,\"x\":[\"Book\"],\"xaxis\":\"x\",\"y\":[587],\"yaxis\":\"y\",\"type\":\"scatter\"},{\"hovertemplate\":\"Genre=%{x}<br>Required_IOS_Version=13<br>No_of_Apps=%{y}<extra></extra>\",\"ids\":[5290],\"legendgroup\":\"Education\",\"marker\":{\"color\":\"#EF553B\",\"symbol\":\"circle\"},\"mode\":\"markers\",\"name\":\"Education\",\"orientation\":\"v\",\"showlegend\":true,\"x\":[\"Education\"],\"xaxis\":\"x\",\"y\":[5290],\"yaxis\":\"y\",\"type\":\"scatter\"},{\"hovertemplate\":\"Genre=%{x}<br>Required_IOS_Version=13<br>No_of_Apps=%{y}<extra></extra>\",\"ids\":[2088],\"legendgroup\":\"Social Networking\",\"marker\":{\"color\":\"#00cc96\",\"symbol\":\"circle\"},\"mode\":\"markers\",\"name\":\"Social Networking\",\"orientation\":\"v\",\"showlegend\":true,\"x\":[\"Social Networking\"],\"xaxis\":\"x\",\"y\":[2088],\"yaxis\":\"y\",\"type\":\"scatter\"},{\"hovertemplate\":\"Genre=%{x}<br>Required_IOS_Version=13<br>No_of_Apps=%{y}<extra></extra>\",\"ids\":[4689],\"legendgroup\":\"Productivity\",\"marker\":{\"color\":\"#ab63fa\",\"symbol\":\"circle\"},\"mode\":\"markers\",\"name\":\"Productivity\",\"orientation\":\"v\",\"showlegend\":true,\"x\":[\"Productivity\"],\"xaxis\":\"x\",\"y\":[4689],\"yaxis\":\"y\",\"type\":\"scatter\"},{\"hovertemplate\":\"Genre=%{x}<br>Required_IOS_Version=13<br>No_of_Apps=%{y}<extra></extra>\",\"ids\":[1957],\"legendgroup\":\"Photo & Video\",\"marker\":{\"color\":\"#FFA15A\",\"symbol\":\"circle\"},\"mode\":\"markers\",\"name\":\"Photo & Video\",\"orientation\":\"v\",\"showlegend\":true,\"x\":[\"Photo & Video\"],\"xaxis\":\"x\",\"y\":[1957],\"yaxis\":\"y\",\"type\":\"scatter\"},{\"hovertemplate\":\"Genre=%{x}<br>Required_IOS_Version=13<br>No_of_Apps=%{y}<extra></extra>\",\"ids\":[2125],\"legendgroup\":\"Sports\",\"marker\":{\"color\":\"#19d3f3\",\"symbol\":\"circle\"},\"mode\":\"markers\",\"name\":\"Sports\",\"orientation\":\"v\",\"showlegend\":true,\"x\":[\"Sports\"],\"xaxis\":\"x\",\"y\":[2125],\"yaxis\":\"y\",\"type\":\"scatter\"},{\"hovertemplate\":\"Genre=%{x}<br>Required_IOS_Version=13<br>No_of_Apps=%{y}<extra></extra>\",\"ids\":[3276],\"legendgroup\":\"Entertainment\",\"marker\":{\"color\":\"#FF6692\",\"symbol\":\"circle\"},\"mode\":\"markers\",\"name\":\"Entertainment\",\"orientation\":\"v\",\"showlegend\":true,\"x\":[\"Entertainment\"],\"xaxis\":\"x\",\"y\":[3276],\"yaxis\":\"y\",\"type\":\"scatter\"},{\"hovertemplate\":\"Genre=%{x}<br>Required_IOS_Version=13<br>No_of_Apps=%{y}<extra></extra>\",\"ids\":[2853],\"legendgroup\":\"Travel\",\"marker\":{\"color\":\"#B6E880\",\"symbol\":\"circle\"},\"mode\":\"markers\",\"name\":\"Travel\",\"orientation\":\"v\",\"showlegend\":true,\"x\":[\"Travel\"],\"xaxis\":\"x\",\"y\":[2853],\"yaxis\":\"y\",\"type\":\"scatter\"},{\"hovertemplate\":\"Genre=%{x}<br>Required_IOS_Version=13<br>No_of_Apps=%{y}<extra></extra>\",\"ids\":[1236],\"legendgroup\":\"Reference\",\"marker\":{\"color\":\"#FF97FF\",\"symbol\":\"circle\"},\"mode\":\"markers\",\"name\":\"Reference\",\"orientation\":\"v\",\"showlegend\":true,\"x\":[\"Reference\"],\"xaxis\":\"x\",\"y\":[1236],\"yaxis\":\"y\",\"type\":\"scatter\"},{\"hovertemplate\":\"Genre=%{x}<br>Required_IOS_Version=13<br>No_of_Apps=%{y}<extra></extra>\",\"ids\":[7859],\"legendgroup\":\"Business\",\"marker\":{\"color\":\"#FECB52\",\"symbol\":\"circle\"},\"mode\":\"markers\",\"name\":\"Business\",\"orientation\":\"v\",\"showlegend\":true,\"x\":[\"Business\"],\"xaxis\":\"x\",\"y\":[7859],\"yaxis\":\"y\",\"type\":\"scatter\"},{\"hovertemplate\":\"Genre=%{x}<br>Required_IOS_Version=13<br>No_of_Apps=%{y}<extra></extra>\",\"ids\":[1559],\"legendgroup\":\"Music\",\"marker\":{\"color\":\"#636efa\",\"symbol\":\"circle\"},\"mode\":\"markers\",\"name\":\"Music\",\"orientation\":\"v\",\"showlegend\":true,\"x\":[\"Music\"],\"xaxis\":\"x\",\"y\":[1559],\"yaxis\":\"y\",\"type\":\"scatter\"},{\"hovertemplate\":\"Genre=%{x}<br>Required_IOS_Version=13<br>No_of_Apps=%{y}<extra></extra>\",\"ids\":[913],\"legendgroup\":\"Navigation\",\"marker\":{\"color\":\"#EF553B\",\"symbol\":\"circle\"},\"mode\":\"markers\",\"name\":\"Navigation\",\"orientation\":\"v\",\"showlegend\":true,\"x\":[\"Navigation\"],\"xaxis\":\"x\",\"y\":[913],\"yaxis\":\"y\",\"type\":\"scatter\"},{\"hovertemplate\":\"Genre=%{x}<br>Required_IOS_Version=13<br>No_of_Apps=%{y}<extra></extra>\",\"ids\":[6133],\"legendgroup\":\"Utilities\",\"marker\":{\"color\":\"#00cc96\",\"symbol\":\"circle\"},\"mode\":\"markers\",\"name\":\"Utilities\",\"orientation\":\"v\",\"showlegend\":true,\"x\":[\"Utilities\"],\"xaxis\":\"x\",\"y\":[6133],\"yaxis\":\"y\",\"type\":\"scatter\"},{\"hovertemplate\":\"Genre=%{x}<br>Required_IOS_Version=13<br>No_of_Apps=%{y}<extra></extra>\",\"ids\":[1803],\"legendgroup\":\"Medical\",\"marker\":{\"color\":\"#ab63fa\",\"symbol\":\"circle\"},\"mode\":\"markers\",\"name\":\"Medical\",\"orientation\":\"v\",\"showlegend\":true,\"x\":[\"Medical\"],\"xaxis\":\"x\",\"y\":[1803],\"yaxis\":\"y\",\"type\":\"scatter\"},{\"hovertemplate\":\"Genre=%{x}<br>Required_IOS_Version=13<br>No_of_Apps=%{y}<extra></extra>\",\"ids\":[3779],\"legendgroup\":\"Games\",\"marker\":{\"color\":\"#FFA15A\",\"symbol\":\"circle\"},\"mode\":\"markers\",\"name\":\"Games\",\"orientation\":\"v\",\"showlegend\":true,\"x\":[\"Games\"],\"xaxis\":\"x\",\"y\":[3779],\"yaxis\":\"y\",\"type\":\"scatter\"},{\"hovertemplate\":\"Genre=%{x}<br>Required_IOS_Version=13<br>No_of_Apps=%{y}<extra></extra>\",\"ids\":[3783],\"legendgroup\":\"Finance\",\"marker\":{\"color\":\"#19d3f3\",\"symbol\":\"circle\"},\"mode\":\"markers\",\"name\":\"Finance\",\"orientation\":\"v\",\"showlegend\":true,\"x\":[\"Finance\"],\"xaxis\":\"x\",\"y\":[3783],\"yaxis\":\"y\",\"type\":\"scatter\"},{\"hovertemplate\":\"Genre=%{x}<br>Required_IOS_Version=13<br>No_of_Apps=%{y}<extra></extra>\",\"ids\":[415],\"legendgroup\":\"Weather\",\"marker\":{\"color\":\"#FF6692\",\"symbol\":\"circle\"},\"mode\":\"markers\",\"name\":\"Weather\",\"orientation\":\"v\",\"showlegend\":true,\"x\":[\"Weather\"],\"xaxis\":\"x\",\"y\":[415],\"yaxis\":\"y\",\"type\":\"scatter\"},{\"hovertemplate\":\"Genre=%{x}<br>Required_IOS_Version=13<br>No_of_Apps=%{y}<extra></extra>\",\"ids\":[4092],\"legendgroup\":\"Lifestyle\",\"marker\":{\"color\":\"#B6E880\",\"symbol\":\"circle\"},\"mode\":\"markers\",\"name\":\"Lifestyle\",\"orientation\":\"v\",\"showlegend\":true,\"x\":[\"Lifestyle\"],\"xaxis\":\"x\",\"y\":[4092],\"yaxis\":\"y\",\"type\":\"scatter\"},{\"hovertemplate\":\"Genre=%{x}<br>Required_IOS_Version=13<br>No_of_Apps=%{y}<extra></extra>\",\"ids\":[4037],\"legendgroup\":\"Health & Fitness\",\"marker\":{\"color\":\"#FF97FF\",\"symbol\":\"circle\"},\"mode\":\"markers\",\"name\":\"Health & Fitness\",\"orientation\":\"v\",\"showlegend\":true,\"x\":[\"Health & Fitness\"],\"xaxis\":\"x\",\"y\":[4037],\"yaxis\":\"y\",\"type\":\"scatter\"},{\"hovertemplate\":\"Genre=%{x}<br>Required_IOS_Version=13<br>No_of_Apps=%{y}<extra></extra>\",\"ids\":[907],\"legendgroup\":\"News\",\"marker\":{\"color\":\"#FECB52\",\"symbol\":\"circle\"},\"mode\":\"markers\",\"name\":\"News\",\"orientation\":\"v\",\"showlegend\":true,\"x\":[\"News\"],\"xaxis\":\"x\",\"y\":[907],\"yaxis\":\"y\",\"type\":\"scatter\"},{\"hovertemplate\":\"Genre=%{x}<br>Required_IOS_Version=13<br>No_of_Apps=%{y}<extra></extra>\",\"ids\":[2715],\"legendgroup\":\"Food & Drink\",\"marker\":{\"color\":\"#636efa\",\"symbol\":\"circle\"},\"mode\":\"markers\",\"name\":\"Food & Drink\",\"orientation\":\"v\",\"showlegend\":true,\"x\":[\"Food & Drink\"],\"xaxis\":\"x\",\"y\":[2715],\"yaxis\":\"y\",\"type\":\"scatter\"},{\"hovertemplate\":\"Genre=%{x}<br>Required_IOS_Version=13<br>No_of_Apps=%{y}<extra></extra>\",\"ids\":[5088],\"legendgroup\":\"Shopping\",\"marker\":{\"color\":\"#EF553B\",\"symbol\":\"circle\"},\"mode\":\"markers\",\"name\":\"Shopping\",\"orientation\":\"v\",\"showlegend\":true,\"x\":[\"Shopping\"],\"xaxis\":\"x\",\"y\":[5088],\"yaxis\":\"y\",\"type\":\"scatter\"},{\"hovertemplate\":\"Genre=%{x}<br>Required_IOS_Version=13<br>No_of_Apps=%{y}<extra></extra>\",\"ids\":[29],\"legendgroup\":\"Magazines & Newspapers\",\"marker\":{\"color\":\"#00cc96\",\"symbol\":\"circle\"},\"mode\":\"markers\",\"name\":\"Magazines & Newspapers\",\"orientation\":\"v\",\"showlegend\":true,\"x\":[\"Magazines & Newspapers\"],\"xaxis\":\"x\",\"y\":[29],\"yaxis\":\"y\",\"type\":\"scatter\"},{\"hovertemplate\":\"Genre=%{x}<br>Required_IOS_Version=13<br>No_of_Apps=%{y}<extra></extra>\",\"ids\":[320],\"legendgroup\":\"Graphics & Design\",\"marker\":{\"color\":\"#ab63fa\",\"symbol\":\"circle\"},\"mode\":\"markers\",\"name\":\"Graphics & Design\",\"orientation\":\"v\",\"showlegend\":true,\"x\":[\"Graphics & Design\"],\"xaxis\":\"x\",\"y\":[320],\"yaxis\":\"y\",\"type\":\"scatter\"},{\"hovertemplate\":\"Genre=%{x}<br>Required_IOS_Version=13<br>No_of_Apps=%{y}<extra></extra>\",\"ids\":[162],\"legendgroup\":\"Developer Tools\",\"marker\":{\"color\":\"#FFA15A\",\"symbol\":\"circle\"},\"mode\":\"markers\",\"name\":\"Developer Tools\",\"orientation\":\"v\",\"showlegend\":true,\"x\":[\"Developer Tools\"],\"xaxis\":\"x\",\"y\":[162],\"yaxis\":\"y\",\"type\":\"scatter\"},{\"hovertemplate\":\"Genre=%{x}<br>Required_IOS_Version=13<br>No_of_Apps=%{y}<extra></extra>\",\"ids\":[178],\"legendgroup\":\"Stickers\",\"marker\":{\"color\":\"#19d3f3\",\"symbol\":\"circle\"},\"mode\":\"markers\",\"name\":\"Stickers\",\"orientation\":\"v\",\"showlegend\":true,\"x\":[\"Stickers\"],\"xaxis\":\"x\",\"y\":[178],\"yaxis\":\"y\",\"type\":\"scatter\"}],\"name\":\"13\"},{\"data\":[{\"hovertemplate\":\"Genre=%{x}<br>Required_IOS_Version=14<br>No_of_Apps=%{y}<extra></extra>\",\"ids\":[183],\"legendgroup\":\"Book\",\"marker\":{\"color\":\"#636efa\",\"symbol\":\"circle\"},\"mode\":\"markers\",\"name\":\"Book\",\"orientation\":\"v\",\"showlegend\":true,\"x\":[\"Book\"],\"xaxis\":\"x\",\"y\":[183],\"yaxis\":\"y\",\"type\":\"scatter\"},{\"hovertemplate\":\"Genre=%{x}<br>Required_IOS_Version=14<br>No_of_Apps=%{y}<extra></extra>\",\"ids\":[2346],\"legendgroup\":\"Education\",\"marker\":{\"color\":\"#EF553B\",\"symbol\":\"circle\"},\"mode\":\"markers\",\"name\":\"Education\",\"orientation\":\"v\",\"showlegend\":true,\"x\":[\"Education\"],\"xaxis\":\"x\",\"y\":[2346],\"yaxis\":\"y\",\"type\":\"scatter\"},{\"hovertemplate\":\"Genre=%{x}<br>Required_IOS_Version=14<br>No_of_Apps=%{y}<extra></extra>\",\"ids\":[719],\"legendgroup\":\"Social Networking\",\"marker\":{\"color\":\"#00cc96\",\"symbol\":\"circle\"},\"mode\":\"markers\",\"name\":\"Social Networking\",\"orientation\":\"v\",\"showlegend\":true,\"x\":[\"Social Networking\"],\"xaxis\":\"x\",\"y\":[719],\"yaxis\":\"y\",\"type\":\"scatter\"},{\"hovertemplate\":\"Genre=%{x}<br>Required_IOS_Version=14<br>No_of_Apps=%{y}<extra></extra>\",\"ids\":[2478],\"legendgroup\":\"Productivity\",\"marker\":{\"color\":\"#ab63fa\",\"symbol\":\"circle\"},\"mode\":\"markers\",\"name\":\"Productivity\",\"orientation\":\"v\",\"showlegend\":true,\"x\":[\"Productivity\"],\"xaxis\":\"x\",\"y\":[2478],\"yaxis\":\"y\",\"type\":\"scatter\"},{\"hovertemplate\":\"Genre=%{x}<br>Required_IOS_Version=14<br>No_of_Apps=%{y}<extra></extra>\",\"ids\":[928],\"legendgroup\":\"Photo & Video\",\"marker\":{\"color\":\"#FFA15A\",\"symbol\":\"circle\"},\"mode\":\"markers\",\"name\":\"Photo & Video\",\"orientation\":\"v\",\"showlegend\":true,\"x\":[\"Photo & Video\"],\"xaxis\":\"x\",\"y\":[928],\"yaxis\":\"y\",\"type\":\"scatter\"},{\"hovertemplate\":\"Genre=%{x}<br>Required_IOS_Version=14<br>No_of_Apps=%{y}<extra></extra>\",\"ids\":[781],\"legendgroup\":\"Sports\",\"marker\":{\"color\":\"#19d3f3\",\"symbol\":\"circle\"},\"mode\":\"markers\",\"name\":\"Sports\",\"orientation\":\"v\",\"showlegend\":true,\"x\":[\"Sports\"],\"xaxis\":\"x\",\"y\":[781],\"yaxis\":\"y\",\"type\":\"scatter\"},{\"hovertemplate\":\"Genre=%{x}<br>Required_IOS_Version=14<br>No_of_Apps=%{y}<extra></extra>\",\"ids\":[1701],\"legendgroup\":\"Entertainment\",\"marker\":{\"color\":\"#FF6692\",\"symbol\":\"circle\"},\"mode\":\"markers\",\"name\":\"Entertainment\",\"orientation\":\"v\",\"showlegend\":true,\"x\":[\"Entertainment\"],\"xaxis\":\"x\",\"y\":[1701],\"yaxis\":\"y\",\"type\":\"scatter\"},{\"hovertemplate\":\"Genre=%{x}<br>Required_IOS_Version=14<br>No_of_Apps=%{y}<extra></extra>\",\"ids\":[715],\"legendgroup\":\"Travel\",\"marker\":{\"color\":\"#B6E880\",\"symbol\":\"circle\"},\"mode\":\"markers\",\"name\":\"Travel\",\"orientation\":\"v\",\"showlegend\":true,\"x\":[\"Travel\"],\"xaxis\":\"x\",\"y\":[715],\"yaxis\":\"y\",\"type\":\"scatter\"},{\"hovertemplate\":\"Genre=%{x}<br>Required_IOS_Version=14<br>No_of_Apps=%{y}<extra></extra>\",\"ids\":[505],\"legendgroup\":\"Reference\",\"marker\":{\"color\":\"#FF97FF\",\"symbol\":\"circle\"},\"mode\":\"markers\",\"name\":\"Reference\",\"orientation\":\"v\",\"showlegend\":true,\"x\":[\"Reference\"],\"xaxis\":\"x\",\"y\":[505],\"yaxis\":\"y\",\"type\":\"scatter\"},{\"hovertemplate\":\"Genre=%{x}<br>Required_IOS_Version=14<br>No_of_Apps=%{y}<extra></extra>\",\"ids\":[1854],\"legendgroup\":\"Business\",\"marker\":{\"color\":\"#FECB52\",\"symbol\":\"circle\"},\"mode\":\"markers\",\"name\":\"Business\",\"orientation\":\"v\",\"showlegend\":true,\"x\":[\"Business\"],\"xaxis\":\"x\",\"y\":[1854],\"yaxis\":\"y\",\"type\":\"scatter\"},{\"hovertemplate\":\"Genre=%{x}<br>Required_IOS_Version=14<br>No_of_Apps=%{y}<extra></extra>\",\"ids\":[600],\"legendgroup\":\"Music\",\"marker\":{\"color\":\"#636efa\",\"symbol\":\"circle\"},\"mode\":\"markers\",\"name\":\"Music\",\"orientation\":\"v\",\"showlegend\":true,\"x\":[\"Music\"],\"xaxis\":\"x\",\"y\":[600],\"yaxis\":\"y\",\"type\":\"scatter\"},{\"hovertemplate\":\"Genre=%{x}<br>Required_IOS_Version=14<br>No_of_Apps=%{y}<extra></extra>\",\"ids\":[325],\"legendgroup\":\"Navigation\",\"marker\":{\"color\":\"#EF553B\",\"symbol\":\"circle\"},\"mode\":\"markers\",\"name\":\"Navigation\",\"orientation\":\"v\",\"showlegend\":true,\"x\":[\"Navigation\"],\"xaxis\":\"x\",\"y\":[325],\"yaxis\":\"y\",\"type\":\"scatter\"},{\"hovertemplate\":\"Genre=%{x}<br>Required_IOS_Version=14<br>No_of_Apps=%{y}<extra></extra>\",\"ids\":[3407],\"legendgroup\":\"Utilities\",\"marker\":{\"color\":\"#00cc96\",\"symbol\":\"circle\"},\"mode\":\"markers\",\"name\":\"Utilities\",\"orientation\":\"v\",\"showlegend\":true,\"x\":[\"Utilities\"],\"xaxis\":\"x\",\"y\":[3407],\"yaxis\":\"y\",\"type\":\"scatter\"},{\"hovertemplate\":\"Genre=%{x}<br>Required_IOS_Version=14<br>No_of_Apps=%{y}<extra></extra>\",\"ids\":[599],\"legendgroup\":\"Medical\",\"marker\":{\"color\":\"#ab63fa\",\"symbol\":\"circle\"},\"mode\":\"markers\",\"name\":\"Medical\",\"orientation\":\"v\",\"showlegend\":true,\"x\":[\"Medical\"],\"xaxis\":\"x\",\"y\":[599],\"yaxis\":\"y\",\"type\":\"scatter\"},{\"hovertemplate\":\"Genre=%{x}<br>Required_IOS_Version=14<br>No_of_Apps=%{y}<extra></extra>\",\"ids\":[1581],\"legendgroup\":\"Games\",\"marker\":{\"color\":\"#FFA15A\",\"symbol\":\"circle\"},\"mode\":\"markers\",\"name\":\"Games\",\"orientation\":\"v\",\"showlegend\":true,\"x\":[\"Games\"],\"xaxis\":\"x\",\"y\":[1581],\"yaxis\":\"y\",\"type\":\"scatter\"},{\"hovertemplate\":\"Genre=%{x}<br>Required_IOS_Version=14<br>No_of_Apps=%{y}<extra></extra>\",\"ids\":[958],\"legendgroup\":\"Finance\",\"marker\":{\"color\":\"#19d3f3\",\"symbol\":\"circle\"},\"mode\":\"markers\",\"name\":\"Finance\",\"orientation\":\"v\",\"showlegend\":true,\"x\":[\"Finance\"],\"xaxis\":\"x\",\"y\":[958],\"yaxis\":\"y\",\"type\":\"scatter\"},{\"hovertemplate\":\"Genre=%{x}<br>Required_IOS_Version=14<br>No_of_Apps=%{y}<extra></extra>\",\"ids\":[195],\"legendgroup\":\"Weather\",\"marker\":{\"color\":\"#FF6692\",\"symbol\":\"circle\"},\"mode\":\"markers\",\"name\":\"Weather\",\"orientation\":\"v\",\"showlegend\":true,\"x\":[\"Weather\"],\"xaxis\":\"x\",\"y\":[195],\"yaxis\":\"y\",\"type\":\"scatter\"},{\"hovertemplate\":\"Genre=%{x}<br>Required_IOS_Version=14<br>No_of_Apps=%{y}<extra></extra>\",\"ids\":[1685],\"legendgroup\":\"Lifestyle\",\"marker\":{\"color\":\"#B6E880\",\"symbol\":\"circle\"},\"mode\":\"markers\",\"name\":\"Lifestyle\",\"orientation\":\"v\",\"showlegend\":true,\"x\":[\"Lifestyle\"],\"xaxis\":\"x\",\"y\":[1685],\"yaxis\":\"y\",\"type\":\"scatter\"},{\"hovertemplate\":\"Genre=%{x}<br>Required_IOS_Version=14<br>No_of_Apps=%{y}<extra></extra>\",\"ids\":[1702],\"legendgroup\":\"Health & Fitness\",\"marker\":{\"color\":\"#FF97FF\",\"symbol\":\"circle\"},\"mode\":\"markers\",\"name\":\"Health & Fitness\",\"orientation\":\"v\",\"showlegend\":true,\"x\":[\"Health & Fitness\"],\"xaxis\":\"x\",\"y\":[1702],\"yaxis\":\"y\",\"type\":\"scatter\"},{\"hovertemplate\":\"Genre=%{x}<br>Required_IOS_Version=14<br>No_of_Apps=%{y}<extra></extra>\",\"ids\":[291],\"legendgroup\":\"News\",\"marker\":{\"color\":\"#FECB52\",\"symbol\":\"circle\"},\"mode\":\"markers\",\"name\":\"News\",\"orientation\":\"v\",\"showlegend\":true,\"x\":[\"News\"],\"xaxis\":\"x\",\"y\":[291],\"yaxis\":\"y\",\"type\":\"scatter\"},{\"hovertemplate\":\"Genre=%{x}<br>Required_IOS_Version=14<br>No_of_Apps=%{y}<extra></extra>\",\"ids\":[1315],\"legendgroup\":\"Food & Drink\",\"marker\":{\"color\":\"#636efa\",\"symbol\":\"circle\"},\"mode\":\"markers\",\"name\":\"Food & Drink\",\"orientation\":\"v\",\"showlegend\":true,\"x\":[\"Food & Drink\"],\"xaxis\":\"x\",\"y\":[1315],\"yaxis\":\"y\",\"type\":\"scatter\"},{\"hovertemplate\":\"Genre=%{x}<br>Required_IOS_Version=14<br>No_of_Apps=%{y}<extra></extra>\",\"ids\":[902],\"legendgroup\":\"Shopping\",\"marker\":{\"color\":\"#EF553B\",\"symbol\":\"circle\"},\"mode\":\"markers\",\"name\":\"Shopping\",\"orientation\":\"v\",\"showlegend\":true,\"x\":[\"Shopping\"],\"xaxis\":\"x\",\"y\":[902],\"yaxis\":\"y\",\"type\":\"scatter\"},{\"hovertemplate\":\"Genre=%{x}<br>Required_IOS_Version=14<br>No_of_Apps=%{y}<extra></extra>\",\"ids\":[6],\"legendgroup\":\"Magazines & Newspapers\",\"marker\":{\"color\":\"#00cc96\",\"symbol\":\"circle\"},\"mode\":\"markers\",\"name\":\"Magazines & Newspapers\",\"orientation\":\"v\",\"showlegend\":true,\"x\":[\"Magazines & Newspapers\"],\"xaxis\":\"x\",\"y\":[6],\"yaxis\":\"y\",\"type\":\"scatter\"},{\"hovertemplate\":\"Genre=%{x}<br>Required_IOS_Version=14<br>No_of_Apps=%{y}<extra></extra>\",\"ids\":[347],\"legendgroup\":\"Graphics & Design\",\"marker\":{\"color\":\"#ab63fa\",\"symbol\":\"circle\"},\"mode\":\"markers\",\"name\":\"Graphics & Design\",\"orientation\":\"v\",\"showlegend\":true,\"x\":[\"Graphics & Design\"],\"xaxis\":\"x\",\"y\":[347],\"yaxis\":\"y\",\"type\":\"scatter\"},{\"hovertemplate\":\"Genre=%{x}<br>Required_IOS_Version=14<br>No_of_Apps=%{y}<extra></extra>\",\"ids\":[217],\"legendgroup\":\"Developer Tools\",\"marker\":{\"color\":\"#FFA15A\",\"symbol\":\"circle\"},\"mode\":\"markers\",\"name\":\"Developer Tools\",\"orientation\":\"v\",\"showlegend\":true,\"x\":[\"Developer Tools\"],\"xaxis\":\"x\",\"y\":[217],\"yaxis\":\"y\",\"type\":\"scatter\"},{\"hovertemplate\":\"Genre=%{x}<br>Required_IOS_Version=14<br>No_of_Apps=%{y}<extra></extra>\",\"ids\":[58],\"legendgroup\":\"Stickers\",\"marker\":{\"color\":\"#19d3f3\",\"symbol\":\"circle\"},\"mode\":\"markers\",\"name\":\"Stickers\",\"orientation\":\"v\",\"showlegend\":true,\"x\":[\"Stickers\"],\"xaxis\":\"x\",\"y\":[58],\"yaxis\":\"y\",\"type\":\"scatter\"}],\"name\":\"14\"},{\"data\":[{\"hovertemplate\":\"Genre=%{x}<br>Required_IOS_Version=15<br>No_of_Apps=%{y}<extra></extra>\",\"ids\":[3],\"legendgroup\":\"Book\",\"marker\":{\"color\":\"#636efa\",\"symbol\":\"circle\"},\"mode\":\"markers\",\"name\":\"Book\",\"orientation\":\"v\",\"showlegend\":true,\"x\":[\"Book\"],\"xaxis\":\"x\",\"y\":[3],\"yaxis\":\"y\",\"type\":\"scatter\"},{\"hovertemplate\":\"Genre=%{x}<br>Required_IOS_Version=15<br>No_of_Apps=%{y}<extra></extra>\",\"ids\":[107],\"legendgroup\":\"Education\",\"marker\":{\"color\":\"#EF553B\",\"symbol\":\"circle\"},\"mode\":\"markers\",\"name\":\"Education\",\"orientation\":\"v\",\"showlegend\":true,\"x\":[\"Education\"],\"xaxis\":\"x\",\"y\":[107],\"yaxis\":\"y\",\"type\":\"scatter\"},{\"hovertemplate\":\"Genre=%{x}<br>Required_IOS_Version=15<br>No_of_Apps=%{y}<extra></extra>\",\"ids\":[17],\"legendgroup\":\"Social Networking\",\"marker\":{\"color\":\"#00cc96\",\"symbol\":\"circle\"},\"mode\":\"markers\",\"name\":\"Social Networking\",\"orientation\":\"v\",\"showlegend\":true,\"x\":[\"Social Networking\"],\"xaxis\":\"x\",\"y\":[17],\"yaxis\":\"y\",\"type\":\"scatter\"},{\"hovertemplate\":\"Genre=%{x}<br>Required_IOS_Version=15<br>No_of_Apps=%{y}<extra></extra>\",\"ids\":[114],\"legendgroup\":\"Productivity\",\"marker\":{\"color\":\"#ab63fa\",\"symbol\":\"circle\"},\"mode\":\"markers\",\"name\":\"Productivity\",\"orientation\":\"v\",\"showlegend\":true,\"x\":[\"Productivity\"],\"xaxis\":\"x\",\"y\":[114],\"yaxis\":\"y\",\"type\":\"scatter\"},{\"hovertemplate\":\"Genre=%{x}<br>Required_IOS_Version=15<br>No_of_Apps=%{y}<extra></extra>\",\"ids\":[23],\"legendgroup\":\"Photo & Video\",\"marker\":{\"color\":\"#FFA15A\",\"symbol\":\"circle\"},\"mode\":\"markers\",\"name\":\"Photo & Video\",\"orientation\":\"v\",\"showlegend\":true,\"x\":[\"Photo & Video\"],\"xaxis\":\"x\",\"y\":[23],\"yaxis\":\"y\",\"type\":\"scatter\"},{\"hovertemplate\":\"Genre=%{x}<br>Required_IOS_Version=15<br>No_of_Apps=%{y}<extra></extra>\",\"ids\":[24],\"legendgroup\":\"Sports\",\"marker\":{\"color\":\"#19d3f3\",\"symbol\":\"circle\"},\"mode\":\"markers\",\"name\":\"Sports\",\"orientation\":\"v\",\"showlegend\":true,\"x\":[\"Sports\"],\"xaxis\":\"x\",\"y\":[24],\"yaxis\":\"y\",\"type\":\"scatter\"},{\"hovertemplate\":\"Genre=%{x}<br>Required_IOS_Version=15<br>No_of_Apps=%{y}<extra></extra>\",\"ids\":[34],\"legendgroup\":\"Entertainment\",\"marker\":{\"color\":\"#FF6692\",\"symbol\":\"circle\"},\"mode\":\"markers\",\"name\":\"Entertainment\",\"orientation\":\"v\",\"showlegend\":true,\"x\":[\"Entertainment\"],\"xaxis\":\"x\",\"y\":[34],\"yaxis\":\"y\",\"type\":\"scatter\"},{\"hovertemplate\":\"Genre=%{x}<br>Required_IOS_Version=15<br>No_of_Apps=%{y}<extra></extra>\",\"ids\":[28],\"legendgroup\":\"Travel\",\"marker\":{\"color\":\"#B6E880\",\"symbol\":\"circle\"},\"mode\":\"markers\",\"name\":\"Travel\",\"orientation\":\"v\",\"showlegend\":true,\"x\":[\"Travel\"],\"xaxis\":\"x\",\"y\":[28],\"yaxis\":\"y\",\"type\":\"scatter\"},{\"hovertemplate\":\"Genre=%{x}<br>Required_IOS_Version=15<br>No_of_Apps=%{y}<extra></extra>\",\"ids\":[15],\"legendgroup\":\"Reference\",\"marker\":{\"color\":\"#FF97FF\",\"symbol\":\"circle\"},\"mode\":\"markers\",\"name\":\"Reference\",\"orientation\":\"v\",\"showlegend\":true,\"x\":[\"Reference\"],\"xaxis\":\"x\",\"y\":[15],\"yaxis\":\"y\",\"type\":\"scatter\"},{\"hovertemplate\":\"Genre=%{x}<br>Required_IOS_Version=15<br>No_of_Apps=%{y}<extra></extra>\",\"ids\":[32],\"legendgroup\":\"Business\",\"marker\":{\"color\":\"#FECB52\",\"symbol\":\"circle\"},\"mode\":\"markers\",\"name\":\"Business\",\"orientation\":\"v\",\"showlegend\":true,\"x\":[\"Business\"],\"xaxis\":\"x\",\"y\":[32],\"yaxis\":\"y\",\"type\":\"scatter\"},{\"hovertemplate\":\"Genre=%{x}<br>Required_IOS_Version=15<br>No_of_Apps=%{y}<extra></extra>\",\"ids\":[22],\"legendgroup\":\"Music\",\"marker\":{\"color\":\"#636efa\",\"symbol\":\"circle\"},\"mode\":\"markers\",\"name\":\"Music\",\"orientation\":\"v\",\"showlegend\":true,\"x\":[\"Music\"],\"xaxis\":\"x\",\"y\":[22],\"yaxis\":\"y\",\"type\":\"scatter\"},{\"hovertemplate\":\"Genre=%{x}<br>Required_IOS_Version=15<br>No_of_Apps=%{y}<extra></extra>\",\"ids\":[15],\"legendgroup\":\"Navigation\",\"marker\":{\"color\":\"#EF553B\",\"symbol\":\"circle\"},\"mode\":\"markers\",\"name\":\"Navigation\",\"orientation\":\"v\",\"showlegend\":true,\"x\":[\"Navigation\"],\"xaxis\":\"x\",\"y\":[15],\"yaxis\":\"y\",\"type\":\"scatter\"},{\"hovertemplate\":\"Genre=%{x}<br>Required_IOS_Version=15<br>No_of_Apps=%{y}<extra></extra>\",\"ids\":[160],\"legendgroup\":\"Utilities\",\"marker\":{\"color\":\"#00cc96\",\"symbol\":\"circle\"},\"mode\":\"markers\",\"name\":\"Utilities\",\"orientation\":\"v\",\"showlegend\":true,\"x\":[\"Utilities\"],\"xaxis\":\"x\",\"y\":[160],\"yaxis\":\"y\",\"type\":\"scatter\"},{\"hovertemplate\":\"Genre=%{x}<br>Required_IOS_Version=15<br>No_of_Apps=%{y}<extra></extra>\",\"ids\":[11],\"legendgroup\":\"Medical\",\"marker\":{\"color\":\"#ab63fa\",\"symbol\":\"circle\"},\"mode\":\"markers\",\"name\":\"Medical\",\"orientation\":\"v\",\"showlegend\":true,\"x\":[\"Medical\"],\"xaxis\":\"x\",\"y\":[11],\"yaxis\":\"y\",\"type\":\"scatter\"},{\"hovertemplate\":\"Genre=%{x}<br>Required_IOS_Version=15<br>No_of_Apps=%{y}<extra></extra>\",\"ids\":[33],\"legendgroup\":\"Games\",\"marker\":{\"color\":\"#FFA15A\",\"symbol\":\"circle\"},\"mode\":\"markers\",\"name\":\"Games\",\"orientation\":\"v\",\"showlegend\":true,\"x\":[\"Games\"],\"xaxis\":\"x\",\"y\":[33],\"yaxis\":\"y\",\"type\":\"scatter\"},{\"hovertemplate\":\"Genre=%{x}<br>Required_IOS_Version=15<br>No_of_Apps=%{y}<extra></extra>\",\"ids\":[42],\"legendgroup\":\"Finance\",\"marker\":{\"color\":\"#19d3f3\",\"symbol\":\"circle\"},\"mode\":\"markers\",\"name\":\"Finance\",\"orientation\":\"v\",\"showlegend\":true,\"x\":[\"Finance\"],\"xaxis\":\"x\",\"y\":[42],\"yaxis\":\"y\",\"type\":\"scatter\"},{\"hovertemplate\":\"Genre=%{x}<br>Required_IOS_Version=15<br>No_of_Apps=%{y}<extra></extra>\",\"ids\":[6],\"legendgroup\":\"Weather\",\"marker\":{\"color\":\"#FF6692\",\"symbol\":\"circle\"},\"mode\":\"markers\",\"name\":\"Weather\",\"orientation\":\"v\",\"showlegend\":true,\"x\":[\"Weather\"],\"xaxis\":\"x\",\"y\":[6],\"yaxis\":\"y\",\"type\":\"scatter\"},{\"hovertemplate\":\"Genre=%{x}<br>Required_IOS_Version=15<br>No_of_Apps=%{y}<extra></extra>\",\"ids\":[52],\"legendgroup\":\"Lifestyle\",\"marker\":{\"color\":\"#B6E880\",\"symbol\":\"circle\"},\"mode\":\"markers\",\"name\":\"Lifestyle\",\"orientation\":\"v\",\"showlegend\":true,\"x\":[\"Lifestyle\"],\"xaxis\":\"x\",\"y\":[52],\"yaxis\":\"y\",\"type\":\"scatter\"},{\"hovertemplate\":\"Genre=%{x}<br>Required_IOS_Version=15<br>No_of_Apps=%{y}<extra></extra>\",\"ids\":[57],\"legendgroup\":\"Health & Fitness\",\"marker\":{\"color\":\"#FF97FF\",\"symbol\":\"circle\"},\"mode\":\"markers\",\"name\":\"Health & Fitness\",\"orientation\":\"v\",\"showlegend\":true,\"x\":[\"Health & Fitness\"],\"xaxis\":\"x\",\"y\":[57],\"yaxis\":\"y\",\"type\":\"scatter\"},{\"hovertemplate\":\"Genre=%{x}<br>Required_IOS_Version=15<br>No_of_Apps=%{y}<extra></extra>\",\"ids\":[11],\"legendgroup\":\"News\",\"marker\":{\"color\":\"#FECB52\",\"symbol\":\"circle\"},\"mode\":\"markers\",\"name\":\"News\",\"orientation\":\"v\",\"showlegend\":true,\"x\":[\"News\"],\"xaxis\":\"x\",\"y\":[11],\"yaxis\":\"y\",\"type\":\"scatter\"},{\"hovertemplate\":\"Genre=%{x}<br>Required_IOS_Version=15<br>No_of_Apps=%{y}<extra></extra>\",\"ids\":[12],\"legendgroup\":\"Food & Drink\",\"marker\":{\"color\":\"#636efa\",\"symbol\":\"circle\"},\"mode\":\"markers\",\"name\":\"Food & Drink\",\"orientation\":\"v\",\"showlegend\":true,\"x\":[\"Food & Drink\"],\"xaxis\":\"x\",\"y\":[12],\"yaxis\":\"y\",\"type\":\"scatter\"},{\"hovertemplate\":\"Genre=%{x}<br>Required_IOS_Version=15<br>No_of_Apps=%{y}<extra></extra>\",\"ids\":[9],\"legendgroup\":\"Shopping\",\"marker\":{\"color\":\"#EF553B\",\"symbol\":\"circle\"},\"mode\":\"markers\",\"name\":\"Shopping\",\"orientation\":\"v\",\"showlegend\":true,\"x\":[\"Shopping\"],\"xaxis\":\"x\",\"y\":[9],\"yaxis\":\"y\",\"type\":\"scatter\"},{\"hovertemplate\":\"Genre=%{x}<br>Required_IOS_Version=15<br>No_of_Apps=%{y}<extra></extra>\",\"ids\":[1],\"legendgroup\":\"Magazines & Newspapers\",\"marker\":{\"color\":\"#00cc96\",\"symbol\":\"circle\"},\"mode\":\"markers\",\"name\":\"Magazines & Newspapers\",\"orientation\":\"v\",\"showlegend\":true,\"x\":[\"Magazines & Newspapers\"],\"xaxis\":\"x\",\"y\":[1],\"yaxis\":\"y\",\"type\":\"scatter\"},{\"hovertemplate\":\"Genre=%{x}<br>Required_IOS_Version=15<br>No_of_Apps=%{y}<extra></extra>\",\"ids\":[7],\"legendgroup\":\"Graphics & Design\",\"marker\":{\"color\":\"#ab63fa\",\"symbol\":\"circle\"},\"mode\":\"markers\",\"name\":\"Graphics & Design\",\"orientation\":\"v\",\"showlegend\":true,\"x\":[\"Graphics & Design\"],\"xaxis\":\"x\",\"y\":[7],\"yaxis\":\"y\",\"type\":\"scatter\"},{\"hovertemplate\":\"Genre=%{x}<br>Required_IOS_Version=15<br>No_of_Apps=%{y}<extra></extra>\",\"ids\":[14],\"legendgroup\":\"Developer Tools\",\"marker\":{\"color\":\"#FFA15A\",\"symbol\":\"circle\"},\"mode\":\"markers\",\"name\":\"Developer Tools\",\"orientation\":\"v\",\"showlegend\":true,\"x\":[\"Developer Tools\"],\"xaxis\":\"x\",\"y\":[14],\"yaxis\":\"y\",\"type\":\"scatter\"}],\"name\":\"15\"}]);\n",
       "                        }).then(function(){\n",
       "                            \n",
       "var gd = document.getElementById('1b695b9d-3a30-408a-88b6-6651cd0c43ae');\n",
       "var x = new MutationObserver(function (mutations, observer) {{\n",
       "        var display = window.getComputedStyle(gd).display;\n",
       "        if (!display || display === 'none') {{\n",
       "            console.log([gd, 'removed!']);\n",
       "            Plotly.purge(gd);\n",
       "            observer.disconnect();\n",
       "        }}\n",
       "}});\n",
       "\n",
       "// Listen for the removal of the full notebook cells\n",
       "var notebookContainer = gd.closest('#notebook-container');\n",
       "if (notebookContainer) {{\n",
       "    x.observe(notebookContainer, {childList: true});\n",
       "}}\n",
       "\n",
       "// Listen for the clearing of the current output cell\n",
       "var outputEl = gd.closest('.output');\n",
       "if (outputEl) {{\n",
       "    x.observe(outputEl, {childList: true});\n",
       "}}\n",
       "\n",
       "                        })                };                            </script>        </div>\n",
       "</body>\n",
       "</html>"
      ]
     },
     "metadata": {},
     "output_type": "display_data"
    }
   ],
   "source": [
    "fig9 = px.scatter(working_apps.sort_values(by='Required_IOS_Version'), \n",
    "                 y=\"No_of_Apps\",\n",
    "                 x=\"Genre\", \n",
    "                 color=\"Genre\",\n",
    "                 animation_frame='Required_IOS_Version', \n",
    "                 animation_group=\"No_of_Apps\",\n",
    "                 range_y=[-1000,37000], \n",
    "                 title='Total number of apps on differnt IOS versions')\n",
    "#fig.update_annotations(textangle=45, yshift=-40)\n",
    "fig9.update_xaxes(tickangle=45)\n",
    "fig9.update_layout(width=700, \n",
    "                   title_x=0.45, \n",
    "                   margin=dict(l=20, r=20, t=60, b=200))\n",
    "#fig9.layout.pop(\"updatemenus\")\n",
    "fig9['layout']['sliders'][0]['pad']=dict(r= 10, t= 150,)\n",
    "fig9.show()"
   ]
  },
  {
   "cell_type": "markdown",
   "metadata": {
    "id": "JzMKwQ4YDlGV"
   },
   "source": [
    "> Games started rising from IOS 6 with 23+ thousand apps.\n",
    "\n",
    "> Majority of the apps has been added in between IOS 8-12.\n",
    "\n",
    "> People holding old phones have very few working apps. \n",
    "\n",
    "> We can also verify with the above table that contains iphone models and their compatible versions. \n",
    "\n",
    "> So far Ios 15 is the latest version and there are some categories that they've already started deploying apps in this version."
   ]
  },
  {
   "cell_type": "markdown",
   "metadata": {
    "id": "ZnJ1ZK32gx2v"
   },
   "source": [
    "### Q6.What is percent of Free and Paid Games and What are the top 10 games that most users use?"
   ]
  },
  {
   "cell_type": "code",
   "execution_count": 59,
   "metadata": {
    "colab": {
     "base_uri": "https://localhost:8080/",
     "height": 498
    },
    "executionInfo": {
     "elapsed": 802,
     "status": "ok",
     "timestamp": 1662822370546,
     "user": {
      "displayName": "Pratul Chandra",
      "userId": "06160049637809107783"
     },
     "user_tz": -330
    },
    "id": "HU7Y8ux79zHc",
    "outputId": "49861e9f-7825-4f02-bbe1-d6fb7d2ab5f1"
   },
   "outputs": [
    {
     "name": "stdout",
     "output_type": "stream",
     "text": [
      "No of Free games: \n",
      " 177827\n",
      "No of Paid games: \n",
      " 15919\n"
     ]
    },
    {
     "data": {
      "image/png": "[encoded data removed]",
      "text/plain": [
       "<Figure size 504x504 with 1 Axes>"
      ]
     },
     "metadata": {},
     "output_type": "display_data"
    }
   ],
   "source": [
    "#Top Free games\n",
    "Top_Free_games= df[df['Primary_Genre']=='Games'].sort_values(by='Reviews', ascending=False).head(15)\n",
    "#Top Paid Games\n",
    "Top_Paid_games= df[(df['Primary_Genre']=='Games')&(df['Free']==False)].sort_values(by='Reviews', ascending=False).head(15)\n",
    "print(\"No of Free games: \\n\",\"177827\" ) #df[(df['Free']==True)&(df['Primary_Genre']=='Games')]['Free'].value_counts()\n",
    "print(\"No of Paid games: \\n\", \"15919\") #df[(df['Free']==False)&(df['Primary_Genre']=='Games')]['Free'].value_counts()\n",
    "##########\n",
    "plt.figure(figsize=(7,7))\n",
    "labels = 'Free', 'Paid'\n",
    "sizes = [177827, 15919] \n",
    "colors = [\"lightgreen\",\"pink\"]\n",
    "explode = (0.2,0)\n",
    "plt.pie(sizes, \n",
    "        explode=explode, \n",
    "        labels=labels, \n",
    "        colors=colors, \n",
    "        autopct='%1.1f%%', \n",
    "        shadow=True, startangle=45)\n",
    "plt.title('Free Vs Paid Games',size = 15)\n",
    "plt.show()"
   ]
  },
  {
   "cell_type": "code",
   "execution_count": 112,
   "metadata": {
    "executionInfo": {
     "elapsed": 7,
     "status": "ok",
     "timestamp": 1662824618795,
     "user": {
      "displayName": "Pratul Chandra",
      "userId": "06160049637809107783"
     },
     "user_tz": -330
    },
    "id": "egEfVuWu9zDS"
   },
   "outputs": [],
   "source": [
    "#Top Free Apps \n",
    "#Top Paid Apps\n",
    "\n",
    "from plotly import tools\n",
    "trace12 = go.Bar(\n",
    "    x=Top_Free_games[\"App_Name\"],\n",
    "    y=Top_Free_games[\"Reviews\"],\n",
    "    name='Top Free Games'\n",
    ")\n",
    "trace13= go.Bar(\n",
    "    x=Top_Paid_games[\"App_Name\"],\n",
    "    y=Top_Paid_games[\"Reviews\"],\n",
    "    name='Top Paid games'\n",
    ")\n",
    "fig11 = tools.make_subplots(rows=1, cols=2)"
   ]
  },
  {
   "cell_type": "code",
   "execution_count": 114,
   "metadata": {
    "colab": {
     "base_uri": "https://localhost:8080/",
     "height": 577
    },
    "executionInfo": {
     "elapsed": 61,
     "status": "ok",
     "timestamp": 1662824644306,
     "user": {
      "displayName": "Pratul Chandra",
      "userId": "06160049637809107783"
     },
     "user_tz": -330
    },
    "id": "JSwVibxsERs6",
    "outputId": "9d19ffcc-7f3d-4760-f20e-364e866e5e3c"
   },
   "outputs": [
    {
     "data": {
      "text/html": [
       "<html>\n",
       "<head><meta charset=\"utf-8\" /></head>\n",
       "<body>\n",
       "    <div>            <script src=\"https://cdnjs.cloudflare.com/ajax/libs/mathjax/2.7.5/MathJax.js?config=TeX-AMS-MML_SVG\"></script><script type=\"text/javascript\">if (window.MathJax && window.MathJax.Hub && window.MathJax.Hub.Config) {window.MathJax.Hub.Config({SVG: {font: \"STIX-Web\"}});}</script>                <script type=\"text/javascript\">window.PlotlyConfig = {MathJaxConfig: 'local'};</script>\n",
       "        <script src=\"https://cdn.plot.ly/plotly-2.14.0.min.js\"></script>                <div id=\"39e0e005-e4b0-41d8-b177-9fe49f97d813\" class=\"plotly-graph-div\" style=\"height:560px; width:700px;\"></div>            <script type=\"text/javascript\">                                    window.PLOTLYENV=window.PLOTLYENV || {};                                    if (document.getElementById(\"39e0e005-e4b0-41d8-b177-9fe49f97d813\")) {                    Plotly.newPlot(                        \"39e0e005-e4b0-41d8-b177-9fe49f97d813\",                        [{\"name\":\"Top Free Games\",\"x\":[\"Roblox\",\"Sniper 3D: Gun Shooting Games\",\"Episode - Choose Your Story\",\"Candy Crush Saga\",\"Toon Blast\",\"Happy Color\\u00ae \\u2013 Paint by Number\",\"Golf Clash\",\"Hole.io\",\"Clash Royale\",\"Bowmasters - Multiplayer Game\",\"Clash of Clans\",\"Call of Duty\\u00ae: Mobile\",\"Helix Jump\",\"Homescapes\",\"Subway Surfers\"],\"y\":[6127588,2538582,2334130,2177394,2119062,2020726,1887985,1887798,1842876,1830342,1827601,1455647,1446845,1353514,1341151],\"type\":\"bar\",\"xaxis\":\"x\",\"yaxis\":\"y\"},{\"name\":\"Top Paid games\",\"x\":[\"Minecraft\",\"Bloons TD 6\",\"Plague Inc.\",\"Monopoly\",\"Solitaire by MobilityWare\",\"Heads Up!\",\"Trivia Crack (No Ads)\",\"Geometry Dash\",\"Bloons TD 5\",\"Clear Vision (17+)\",\"Terraria\",\"Stardew Valley\",\"Rebel Inc.\",\"Spider Solitaire MobilityWare\",\"Kingdom Rush Vengeance TD\"],\"y\":[493942,172222,123937,114771,105012,89916,88636,86737,79740,69873,43576,43496,32558,31752,31134],\"type\":\"bar\",\"xaxis\":\"x2\",\"yaxis\":\"y2\"}],                        {\"template\":{\"data\":{\"histogram2dcontour\":[{\"type\":\"histogram2dcontour\",\"colorbar\":{\"outlinewidth\":0,\"ticks\":\"\"},\"colorscale\":[[0.0,\"#0d0887\"],[0.1111111111111111,\"#46039f\"],[0.2222222222222222,\"#7201a8\"],[0.3333333333333333,\"#9c179e\"],[0.4444444444444444,\"#bd3786\"],[0.5555555555555556,\"#d8576b\"],[0.6666666666666666,\"#ed7953\"],[0.7777777777777778,\"#fb9f3a\"],[0.8888888888888888,\"#fdca26\"],[1.0,\"#f0f921\"]]}],\"choropleth\":[{\"type\":\"choropleth\",\"colorbar\":{\"outlinewidth\":0,\"ticks\":\"\"}}],\"histogram2d\":[{\"type\":\"histogram2d\",\"colorbar\":{\"outlinewidth\":0,\"ticks\":\"\"},\"colorscale\":[[0.0,\"#0d0887\"],[0.1111111111111111,\"#46039f\"],[0.2222222222222222,\"#7201a8\"],[0.3333333333333333,\"#9c179e\"],[0.4444444444444444,\"#bd3786\"],[0.5555555555555556,\"#d8576b\"],[0.6666666666666666,\"#ed7953\"],[0.7777777777777778,\"#fb9f3a\"],[0.8888888888888888,\"#fdca26\"],[1.0,\"#f0f921\"]]}],\"heatmap\":[{\"type\":\"heatmap\",\"colorbar\":{\"outlinewidth\":0,\"ticks\":\"\"},\"colorscale\":[[0.0,\"#0d0887\"],[0.1111111111111111,\"#46039f\"],[0.2222222222222222,\"#7201a8\"],[0.3333333333333333,\"#9c179e\"],[0.4444444444444444,\"#bd3786\"],[0.5555555555555556,\"#d8576b\"],[0.6666666666666666,\"#ed7953\"],[0.7777777777777778,\"#fb9f3a\"],[0.8888888888888888,\"#fdca26\"],[1.0,\"#f0f921\"]]}],\"heatmapgl\":[{\"type\":\"heatmapgl\",\"colorbar\":{\"outlinewidth\":0,\"ticks\":\"\"},\"colorscale\":[[0.0,\"#0d0887\"],[0.1111111111111111,\"#46039f\"],[0.2222222222222222,\"#7201a8\"],[0.3333333333333333,\"#9c179e\"],[0.4444444444444444,\"#bd3786\"],[0.5555555555555556,\"#d8576b\"],[0.6666666666666666,\"#ed7953\"],[0.7777777777777778,\"#fb9f3a\"],[0.8888888888888888,\"#fdca26\"],[1.0,\"#f0f921\"]]}],\"contourcarpet\":[{\"type\":\"contourcarpet\",\"colorbar\":{\"outlinewidth\":0,\"ticks\":\"\"}}],\"contour\":[{\"type\":\"contour\",\"colorbar\":{\"outlinewidth\":0,\"ticks\":\"\"},\"colorscale\":[[0.0,\"#0d0887\"],[0.1111111111111111,\"#46039f\"],[0.2222222222222222,\"#7201a8\"],[0.3333333333333333,\"#9c179e\"],[0.4444444444444444,\"#bd3786\"],[0.5555555555555556,\"#d8576b\"],[0.6666666666666666,\"#ed7953\"],[0.7777777777777778,\"#fb9f3a\"],[0.8888888888888888,\"#fdca26\"],[1.0,\"#f0f921\"]]}],\"surface\":[{\"type\":\"surface\",\"colorbar\":{\"outlinewidth\":0,\"ticks\":\"\"},\"colorscale\":[[0.0,\"#0d0887\"],[0.1111111111111111,\"#46039f\"],[0.2222222222222222,\"#7201a8\"],[0.3333333333333333,\"#9c179e\"],[0.4444444444444444,\"#bd3786\"],[0.5555555555555556,\"#d8576b\"],[0.6666666666666666,\"#ed7953\"],[0.7777777777777778,\"#fb9f3a\"],[0.8888888888888888,\"#fdca26\"],[1.0,\"#f0f921\"]]}],\"mesh3d\":[{\"type\":\"mesh3d\",\"colorbar\":{\"outlinewidth\":0,\"ticks\":\"\"}}],\"scatter\":[{\"fillpattern\":{\"fillmode\":\"overlay\",\"size\":10,\"solidity\":0.2},\"type\":\"scatter\"}],\"parcoords\":[{\"type\":\"parcoords\",\"line\":{\"colorbar\":{\"outlinewidth\":0,\"ticks\":\"\"}}}],\"scatterpolargl\":[{\"type\":\"scatterpolargl\",\"marker\":{\"colorbar\":{\"outlinewidth\":0,\"ticks\":\"\"}}}],\"bar\":[{\"error_x\":{\"color\":\"#2a3f5f\"},\"error_y\":{\"color\":\"#2a3f5f\"},\"marker\":{\"line\":{\"color\":\"#E5ECF6\",\"width\":0.5},\"pattern\":{\"fillmode\":\"overlay\",\"size\":10,\"solidity\":0.2}},\"type\":\"bar\"}],\"scattergeo\":[{\"type\":\"scattergeo\",\"marker\":{\"colorbar\":{\"outlinewidth\":0,\"ticks\":\"\"}}}],\"scatterpolar\":[{\"type\":\"scatterpolar\",\"marker\":{\"colorbar\":{\"outlinewidth\":0,\"ticks\":\"\"}}}],\"histogram\":[{\"marker\":{\"pattern\":{\"fillmode\":\"overlay\",\"size\":10,\"solidity\":0.2}},\"type\":\"histogram\"}],\"scattergl\":[{\"type\":\"scattergl\",\"marker\":{\"colorbar\":{\"outlinewidth\":0,\"ticks\":\"\"}}}],\"scatter3d\":[{\"type\":\"scatter3d\",\"line\":{\"colorbar\":{\"outlinewidth\":0,\"ticks\":\"\"}},\"marker\":{\"colorbar\":{\"outlinewidth\":0,\"ticks\":\"\"}}}],\"scattermapbox\":[{\"type\":\"scattermapbox\",\"marker\":{\"colorbar\":{\"outlinewidth\":0,\"ticks\":\"\"}}}],\"scatterternary\":[{\"type\":\"scatterternary\",\"marker\":{\"colorbar\":{\"outlinewidth\":0,\"ticks\":\"\"}}}],\"scattercarpet\":[{\"type\":\"scattercarpet\",\"marker\":{\"colorbar\":{\"outlinewidth\":0,\"ticks\":\"\"}}}],\"carpet\":[{\"aaxis\":{\"endlinecolor\":\"#2a3f5f\",\"gridcolor\":\"white\",\"linecolor\":\"white\",\"minorgridcolor\":\"white\",\"startlinecolor\":\"#2a3f5f\"},\"baxis\":{\"endlinecolor\":\"#2a3f5f\",\"gridcolor\":\"white\",\"linecolor\":\"white\",\"minorgridcolor\":\"white\",\"startlinecolor\":\"#2a3f5f\"},\"type\":\"carpet\"}],\"table\":[{\"cells\":{\"fill\":{\"color\":\"#EBF0F8\"},\"line\":{\"color\":\"white\"}},\"header\":{\"fill\":{\"color\":\"#C8D4E3\"},\"line\":{\"color\":\"white\"}},\"type\":\"table\"}],\"barpolar\":[{\"marker\":{\"line\":{\"color\":\"#E5ECF6\",\"width\":0.5},\"pattern\":{\"fillmode\":\"overlay\",\"size\":10,\"solidity\":0.2}},\"type\":\"barpolar\"}],\"pie\":[{\"automargin\":true,\"type\":\"pie\"}]},\"layout\":{\"autotypenumbers\":\"strict\",\"colorway\":[\"#636efa\",\"#EF553B\",\"#00cc96\",\"#ab63fa\",\"#FFA15A\",\"#19d3f3\",\"#FF6692\",\"#B6E880\",\"#FF97FF\",\"#FECB52\"],\"font\":{\"color\":\"#2a3f5f\"},\"hovermode\":\"closest\",\"hoverlabel\":{\"align\":\"left\"},\"paper_bgcolor\":\"white\",\"plot_bgcolor\":\"#E5ECF6\",\"polar\":{\"bgcolor\":\"#E5ECF6\",\"angularaxis\":{\"gridcolor\":\"white\",\"linecolor\":\"white\",\"ticks\":\"\"},\"radialaxis\":{\"gridcolor\":\"white\",\"linecolor\":\"white\",\"ticks\":\"\"}},\"ternary\":{\"bgcolor\":\"#E5ECF6\",\"aaxis\":{\"gridcolor\":\"white\",\"linecolor\":\"white\",\"ticks\":\"\"},\"baxis\":{\"gridcolor\":\"white\",\"linecolor\":\"white\",\"ticks\":\"\"},\"caxis\":{\"gridcolor\":\"white\",\"linecolor\":\"white\",\"ticks\":\"\"}},\"coloraxis\":{\"colorbar\":{\"outlinewidth\":0,\"ticks\":\"\"}},\"colorscale\":{\"sequential\":[[0.0,\"#0d0887\"],[0.1111111111111111,\"#46039f\"],[0.2222222222222222,\"#7201a8\"],[0.3333333333333333,\"#9c179e\"],[0.4444444444444444,\"#bd3786\"],[0.5555555555555556,\"#d8576b\"],[0.6666666666666666,\"#ed7953\"],[0.7777777777777778,\"#fb9f3a\"],[0.8888888888888888,\"#fdca26\"],[1.0,\"#f0f921\"]],\"sequentialminus\":[[0.0,\"#0d0887\"],[0.1111111111111111,\"#46039f\"],[0.2222222222222222,\"#7201a8\"],[0.3333333333333333,\"#9c179e\"],[0.4444444444444444,\"#bd3786\"],[0.5555555555555556,\"#d8576b\"],[0.6666666666666666,\"#ed7953\"],[0.7777777777777778,\"#fb9f3a\"],[0.8888888888888888,\"#fdca26\"],[1.0,\"#f0f921\"]],\"diverging\":[[0,\"#8e0152\"],[0.1,\"#c51b7d\"],[0.2,\"#de77ae\"],[0.3,\"#f1b6da\"],[0.4,\"#fde0ef\"],[0.5,\"#f7f7f7\"],[0.6,\"#e6f5d0\"],[0.7,\"#b8e186\"],[0.8,\"#7fbc41\"],[0.9,\"#4d9221\"],[1,\"#276419\"]]},\"xaxis\":{\"gridcolor\":\"white\",\"linecolor\":\"white\",\"ticks\":\"\",\"title\":{\"standoff\":15},\"zerolinecolor\":\"white\",\"automargin\":true,\"zerolinewidth\":2},\"yaxis\":{\"gridcolor\":\"white\",\"linecolor\":\"white\",\"ticks\":\"\",\"title\":{\"standoff\":15},\"zerolinecolor\":\"white\",\"automargin\":true,\"zerolinewidth\":2},\"scene\":{\"xaxis\":{\"backgroundcolor\":\"#E5ECF6\",\"gridcolor\":\"white\",\"linecolor\":\"white\",\"showbackground\":true,\"ticks\":\"\",\"zerolinecolor\":\"white\",\"gridwidth\":2},\"yaxis\":{\"backgroundcolor\":\"#E5ECF6\",\"gridcolor\":\"white\",\"linecolor\":\"white\",\"showbackground\":true,\"ticks\":\"\",\"zerolinecolor\":\"white\",\"gridwidth\":2},\"zaxis\":{\"backgroundcolor\":\"#E5ECF6\",\"gridcolor\":\"white\",\"linecolor\":\"white\",\"showbackground\":true,\"ticks\":\"\",\"zerolinecolor\":\"white\",\"gridwidth\":2}},\"shapedefaults\":{\"line\":{\"color\":\"#2a3f5f\"}},\"annotationdefaults\":{\"arrowcolor\":\"#2a3f5f\",\"arrowhead\":0,\"arrowwidth\":1},\"geo\":{\"bgcolor\":\"white\",\"landcolor\":\"#E5ECF6\",\"subunitcolor\":\"white\",\"showland\":true,\"showlakes\":true,\"lakecolor\":\"white\"},\"title\":{\"x\":0.05},\"mapbox\":{\"style\":\"light\"}}},\"xaxis\":{\"anchor\":\"y\",\"domain\":[0.0,0.45]},\"yaxis\":{\"anchor\":\"x\",\"domain\":[0.0,1.0]},\"xaxis2\":{\"anchor\":\"y2\",\"domain\":[0.55,1.0]},\"yaxis2\":{\"anchor\":\"x2\",\"domain\":[0.0,1.0]},\"height\":560,\"width\":700,\"title\":{\"text\":\"Top 10 Games\",\"x\":0.45}},                        {\"responsive\": true}                    ).then(function(){\n",
       "                            \n",
       "var gd = document.getElementById('39e0e005-e4b0-41d8-b177-9fe49f97d813');\n",
       "var x = new MutationObserver(function (mutations, observer) {{\n",
       "        var display = window.getComputedStyle(gd).display;\n",
       "        if (!display || display === 'none') {{\n",
       "            console.log([gd, 'removed!']);\n",
       "            Plotly.purge(gd);\n",
       "            observer.disconnect();\n",
       "        }}\n",
       "}});\n",
       "\n",
       "// Listen for the removal of the full notebook cells\n",
       "var notebookContainer = gd.closest('#notebook-container');\n",
       "if (notebookContainer) {{\n",
       "    x.observe(notebookContainer, {childList: true});\n",
       "}}\n",
       "\n",
       "// Listen for the clearing of the current output cell\n",
       "var outputEl = gd.closest('.output');\n",
       "if (outputEl) {{\n",
       "    x.observe(outputEl, {childList: true});\n",
       "}}\n",
       "\n",
       "                        })                };                            </script>        </div>\n",
       "</body>\n",
       "</html>"
      ]
     },
     "metadata": {},
     "output_type": "display_data"
    }
   ],
   "source": [
    "fig11.append_trace(trace12, 1,1)\n",
    "fig11.append_trace(trace13, 1,2)\n",
    "fig11.layout.update(height=560, width=700)\n",
    "fig11.update_layout(title='Top 10 Games', title_x=0.45)\n",
    "fig11.show()"
   ]
  },
  {
   "cell_type": "markdown",
   "metadata": {
    "id": "DItwHYcvOC1D"
   },
   "source": [
    "> Seems like there are only 8.2% of paid apps present in 19.3 lakh applications.\n",
    "\n",
    "> Roblox has 6 million users in free apps\n",
    "\n",
    "> Minecraft is the most selling app and have around 500 thousand users. "
   ]
  },
  {
   "cell_type": "markdown",
   "metadata": {
    "id": "rVllRmRkifMp"
   },
   "source": [
    "### Q7. What is the growth of gamers over the years. (2008 - 2021)"
   ]
  },
  {
   "cell_type": "code",
   "execution_count": 61,
   "metadata": {
    "colab": {
     "base_uri": "https://localhost:8080/"
    },
    "executionInfo": {
     "elapsed": 809,
     "status": "ok",
     "timestamp": 1662822372137,
     "user": {
      "displayName": "Pratul Chandra",
      "userId": "06160049637809107783"
     },
     "user_tz": -330
    },
    "id": "XvBC9YEz9y_o",
    "outputId": "ad9d31ea-72d2-4cf7-fbf3-936847ff5a7c"
   },
   "outputs": [
    {
     "name": "stdout",
     "output_type": "stream",
     "text": [
      "Large sized Games:\n",
      " 7051\n",
      "Moderate sized Games:\n",
      " 48107\n",
      "Small sized Games:\n",
      " 138547\n"
     ]
    }
   ],
   "source": [
    "print('Large sized Games:\\n',df.App_Name[(df.Size_MB>=500)&(df.Primary_Genre=='Games')].count())\n",
    "print('Moderate sized Games:\\n',df.App_Name[((df.Size_MB>=150)&(df.Size_MB<=500))&(df.Primary_Genre=='Games')].count())\n",
    "print('Small sized Games:\\n',df.App_Name[(df.Size_MB<=150)&(df.Primary_Genre=='Games')].count())"
   ]
  },
  {
   "cell_type": "code",
   "execution_count": 62,
   "metadata": {
    "executionInfo": {
     "elapsed": 471,
     "status": "ok",
     "timestamp": 1662822389873,
     "user": {
      "displayName": "Pratul Chandra",
      "userId": "06160049637809107783"
     },
     "user_tz": -330
    },
    "id": "4Qz7hiG29y9o"
   },
   "outputs": [],
   "source": [
    "lg_sz=df[(df.Size_MB>=500)&(df.Primary_Genre=='Games')]\n",
    "md_sz=df[((df.Size_MB>=150)&(df.Size_MB<=500))&(df.Primary_Genre=='Games')]\n",
    "sl_sz=df[(df.Size_MB<=150)&(df.Primary_Genre=='Games')]\n",
    "#Large games df\n",
    "lg_sz_pl_yr= lg_sz.groupby(lg_sz.Released.dt.year)[\"Reviews\"].sum().reset_index()\n",
    "lg_sz_pl_yr.columns=['Year', 'Players']\n",
    "#Medium games df\n",
    "md_sz_pl_yr=md_sz.groupby(md_sz.Released.dt.year)[\"Reviews\"].sum().reset_index()\n",
    "md_sz_pl_yr.columns=['Year', 'Players']\n",
    "#Small games df\n",
    "sl_sz_pl_yr=sl_sz.groupby(sl_sz.Released.dt.year)[\"Reviews\"].sum().reset_index()\n",
    "sl_sz_pl_yr.columns=['Year', 'Players']"
   ]
  },
  {
   "cell_type": "code",
   "execution_count": 91,
   "metadata": {
    "colab": {
     "base_uri": "https://localhost:8080/",
     "height": 542
    },
    "executionInfo": {
     "elapsed": 532,
     "status": "ok",
     "timestamp": 1662823946594,
     "user": {
      "displayName": "Pratul Chandra",
      "userId": "06160049637809107783"
     },
     "user_tz": -330
    },
    "id": "yCZSBF_89y7F",
    "outputId": "fbc3ea2a-8569-4a26-b2c6-01bca23445f8"
   },
   "outputs": [
    {
     "data": {
      "text/html": [
       "<html>\n",
       "<head><meta charset=\"utf-8\" /></head>\n",
       "<body>\n",
       "    <div>            <script src=\"https://cdnjs.cloudflare.com/ajax/libs/mathjax/2.7.5/MathJax.js?config=TeX-AMS-MML_SVG\"></script><script type=\"text/javascript\">if (window.MathJax && window.MathJax.Hub && window.MathJax.Hub.Config) {window.MathJax.Hub.Config({SVG: {font: \"STIX-Web\"}});}</script>                <script type=\"text/javascript\">window.PlotlyConfig = {MathJaxConfig: 'local'};</script>\n",
       "        <script src=\"https://cdn.plot.ly/plotly-2.14.0.min.js\"></script>                <div id=\"04483b45-db71-473e-8c05-174e27a4c4f0\" class=\"plotly-graph-div\" style=\"height:525px; width:700px;\"></div>            <script type=\"text/javascript\">                                    window.PLOTLYENV=window.PLOTLYENV || {};                                    if (document.getElementById(\"04483b45-db71-473e-8c05-174e27a4c4f0\")) {                    Plotly.newPlot(                        \"04483b45-db71-473e-8c05-174e27a4c4f0\",                        [{\"line\":{\"color\":\"blue\",\"width\":2},\"name\":\"Large Game Players (500 MB+)\",\"opacity\":0.5,\"x\":[2009,2010,2011,2012,2013,2014,2015,2016,2017,2018,2019,2020,2021],\"y\":[7649,70208,447970,318881,2169341,2250586,2518344,5375155,2914035,8814321,6553010,4056652,1238891],\"type\":\"scatter\"},{\"line\":{\"color\":\"green\",\"width\":1},\"name\":\"Medium Game Players(150 - 500 MB)\",\"opacity\":0.5,\"x\":[2008,2009,2010,2011,2012,2013,2014,2015,2016,2017,2018,2019,2020,2021],\"y\":[21896,941239,1374423,7734119,8600869,11145171,7912109,6324096,13835799,25403657,37464351,32341193,23705130,5609668],\"type\":\"scatter\"},{\"line\":{\"color\":\"red\",\"width\":2},\"name\":\"Small Game Players (Below 150 MB)\",\"opacity\":0.75,\"x\":[2008,2009,2010,2011,2012,2013,2014,2015,2016,2017,2018,2019,2020,2021],\"y\":[124541,891332,579334,1571153,2238646,2546147,2538773,3035413,4259540,6259469,4818609,5706602,3620814,1115576],\"type\":\"scatter\"}],                        {\"template\":{\"data\":{\"histogram2dcontour\":[{\"type\":\"histogram2dcontour\",\"colorbar\":{\"outlinewidth\":0,\"ticks\":\"\"},\"colorscale\":[[0.0,\"#0d0887\"],[0.1111111111111111,\"#46039f\"],[0.2222222222222222,\"#7201a8\"],[0.3333333333333333,\"#9c179e\"],[0.4444444444444444,\"#bd3786\"],[0.5555555555555556,\"#d8576b\"],[0.6666666666666666,\"#ed7953\"],[0.7777777777777778,\"#fb9f3a\"],[0.8888888888888888,\"#fdca26\"],[1.0,\"#f0f921\"]]}],\"choropleth\":[{\"type\":\"choropleth\",\"colorbar\":{\"outlinewidth\":0,\"ticks\":\"\"}}],\"histogram2d\":[{\"type\":\"histogram2d\",\"colorbar\":{\"outlinewidth\":0,\"ticks\":\"\"},\"colorscale\":[[0.0,\"#0d0887\"],[0.1111111111111111,\"#46039f\"],[0.2222222222222222,\"#7201a8\"],[0.3333333333333333,\"#9c179e\"],[0.4444444444444444,\"#bd3786\"],[0.5555555555555556,\"#d8576b\"],[0.6666666666666666,\"#ed7953\"],[0.7777777777777778,\"#fb9f3a\"],[0.8888888888888888,\"#fdca26\"],[1.0,\"#f0f921\"]]}],\"heatmap\":[{\"type\":\"heatmap\",\"colorbar\":{\"outlinewidth\":0,\"ticks\":\"\"},\"colorscale\":[[0.0,\"#0d0887\"],[0.1111111111111111,\"#46039f\"],[0.2222222222222222,\"#7201a8\"],[0.3333333333333333,\"#9c179e\"],[0.4444444444444444,\"#bd3786\"],[0.5555555555555556,\"#d8576b\"],[0.6666666666666666,\"#ed7953\"],[0.7777777777777778,\"#fb9f3a\"],[0.8888888888888888,\"#fdca26\"],[1.0,\"#f0f921\"]]}],\"heatmapgl\":[{\"type\":\"heatmapgl\",\"colorbar\":{\"outlinewidth\":0,\"ticks\":\"\"},\"colorscale\":[[0.0,\"#0d0887\"],[0.1111111111111111,\"#46039f\"],[0.2222222222222222,\"#7201a8\"],[0.3333333333333333,\"#9c179e\"],[0.4444444444444444,\"#bd3786\"],[0.5555555555555556,\"#d8576b\"],[0.6666666666666666,\"#ed7953\"],[0.7777777777777778,\"#fb9f3a\"],[0.8888888888888888,\"#fdca26\"],[1.0,\"#f0f921\"]]}],\"contourcarpet\":[{\"type\":\"contourcarpet\",\"colorbar\":{\"outlinewidth\":0,\"ticks\":\"\"}}],\"contour\":[{\"type\":\"contour\",\"colorbar\":{\"outlinewidth\":0,\"ticks\":\"\"},\"colorscale\":[[0.0,\"#0d0887\"],[0.1111111111111111,\"#46039f\"],[0.2222222222222222,\"#7201a8\"],[0.3333333333333333,\"#9c179e\"],[0.4444444444444444,\"#bd3786\"],[0.5555555555555556,\"#d8576b\"],[0.6666666666666666,\"#ed7953\"],[0.7777777777777778,\"#fb9f3a\"],[0.8888888888888888,\"#fdca26\"],[1.0,\"#f0f921\"]]}],\"surface\":[{\"type\":\"surface\",\"colorbar\":{\"outlinewidth\":0,\"ticks\":\"\"},\"colorscale\":[[0.0,\"#0d0887\"],[0.1111111111111111,\"#46039f\"],[0.2222222222222222,\"#7201a8\"],[0.3333333333333333,\"#9c179e\"],[0.4444444444444444,\"#bd3786\"],[0.5555555555555556,\"#d8576b\"],[0.6666666666666666,\"#ed7953\"],[0.7777777777777778,\"#fb9f3a\"],[0.8888888888888888,\"#fdca26\"],[1.0,\"#f0f921\"]]}],\"mesh3d\":[{\"type\":\"mesh3d\",\"colorbar\":{\"outlinewidth\":0,\"ticks\":\"\"}}],\"scatter\":[{\"fillpattern\":{\"fillmode\":\"overlay\",\"size\":10,\"solidity\":0.2},\"type\":\"scatter\"}],\"parcoords\":[{\"type\":\"parcoords\",\"line\":{\"colorbar\":{\"outlinewidth\":0,\"ticks\":\"\"}}}],\"scatterpolargl\":[{\"type\":\"scatterpolargl\",\"marker\":{\"colorbar\":{\"outlinewidth\":0,\"ticks\":\"\"}}}],\"bar\":[{\"error_x\":{\"color\":\"#2a3f5f\"},\"error_y\":{\"color\":\"#2a3f5f\"},\"marker\":{\"line\":{\"color\":\"#E5ECF6\",\"width\":0.5},\"pattern\":{\"fillmode\":\"overlay\",\"size\":10,\"solidity\":0.2}},\"type\":\"bar\"}],\"scattergeo\":[{\"type\":\"scattergeo\",\"marker\":{\"colorbar\":{\"outlinewidth\":0,\"ticks\":\"\"}}}],\"scatterpolar\":[{\"type\":\"scatterpolar\",\"marker\":{\"colorbar\":{\"outlinewidth\":0,\"ticks\":\"\"}}}],\"histogram\":[{\"marker\":{\"pattern\":{\"fillmode\":\"overlay\",\"size\":10,\"solidity\":0.2}},\"type\":\"histogram\"}],\"scattergl\":[{\"type\":\"scattergl\",\"marker\":{\"colorbar\":{\"outlinewidth\":0,\"ticks\":\"\"}}}],\"scatter3d\":[{\"type\":\"scatter3d\",\"line\":{\"colorbar\":{\"outlinewidth\":0,\"ticks\":\"\"}},\"marker\":{\"colorbar\":{\"outlinewidth\":0,\"ticks\":\"\"}}}],\"scattermapbox\":[{\"type\":\"scattermapbox\",\"marker\":{\"colorbar\":{\"outlinewidth\":0,\"ticks\":\"\"}}}],\"scatterternary\":[{\"type\":\"scatterternary\",\"marker\":{\"colorbar\":{\"outlinewidth\":0,\"ticks\":\"\"}}}],\"scattercarpet\":[{\"type\":\"scattercarpet\",\"marker\":{\"colorbar\":{\"outlinewidth\":0,\"ticks\":\"\"}}}],\"carpet\":[{\"aaxis\":{\"endlinecolor\":\"#2a3f5f\",\"gridcolor\":\"white\",\"linecolor\":\"white\",\"minorgridcolor\":\"white\",\"startlinecolor\":\"#2a3f5f\"},\"baxis\":{\"endlinecolor\":\"#2a3f5f\",\"gridcolor\":\"white\",\"linecolor\":\"white\",\"minorgridcolor\":\"white\",\"startlinecolor\":\"#2a3f5f\"},\"type\":\"carpet\"}],\"table\":[{\"cells\":{\"fill\":{\"color\":\"#EBF0F8\"},\"line\":{\"color\":\"white\"}},\"header\":{\"fill\":{\"color\":\"#C8D4E3\"},\"line\":{\"color\":\"white\"}},\"type\":\"table\"}],\"barpolar\":[{\"marker\":{\"line\":{\"color\":\"#E5ECF6\",\"width\":0.5},\"pattern\":{\"fillmode\":\"overlay\",\"size\":10,\"solidity\":0.2}},\"type\":\"barpolar\"}],\"pie\":[{\"automargin\":true,\"type\":\"pie\"}]},\"layout\":{\"autotypenumbers\":\"strict\",\"colorway\":[\"#636efa\",\"#EF553B\",\"#00cc96\",\"#ab63fa\",\"#FFA15A\",\"#19d3f3\",\"#FF6692\",\"#B6E880\",\"#FF97FF\",\"#FECB52\"],\"font\":{\"color\":\"#2a3f5f\"},\"hovermode\":\"closest\",\"hoverlabel\":{\"align\":\"left\"},\"paper_bgcolor\":\"white\",\"plot_bgcolor\":\"#E5ECF6\",\"polar\":{\"bgcolor\":\"#E5ECF6\",\"angularaxis\":{\"gridcolor\":\"white\",\"linecolor\":\"white\",\"ticks\":\"\"},\"radialaxis\":{\"gridcolor\":\"white\",\"linecolor\":\"white\",\"ticks\":\"\"}},\"ternary\":{\"bgcolor\":\"#E5ECF6\",\"aaxis\":{\"gridcolor\":\"white\",\"linecolor\":\"white\",\"ticks\":\"\"},\"baxis\":{\"gridcolor\":\"white\",\"linecolor\":\"white\",\"ticks\":\"\"},\"caxis\":{\"gridcolor\":\"white\",\"linecolor\":\"white\",\"ticks\":\"\"}},\"coloraxis\":{\"colorbar\":{\"outlinewidth\":0,\"ticks\":\"\"}},\"colorscale\":{\"sequential\":[[0.0,\"#0d0887\"],[0.1111111111111111,\"#46039f\"],[0.2222222222222222,\"#7201a8\"],[0.3333333333333333,\"#9c179e\"],[0.4444444444444444,\"#bd3786\"],[0.5555555555555556,\"#d8576b\"],[0.6666666666666666,\"#ed7953\"],[0.7777777777777778,\"#fb9f3a\"],[0.8888888888888888,\"#fdca26\"],[1.0,\"#f0f921\"]],\"sequentialminus\":[[0.0,\"#0d0887\"],[0.1111111111111111,\"#46039f\"],[0.2222222222222222,\"#7201a8\"],[0.3333333333333333,\"#9c179e\"],[0.4444444444444444,\"#bd3786\"],[0.5555555555555556,\"#d8576b\"],[0.6666666666666666,\"#ed7953\"],[0.7777777777777778,\"#fb9f3a\"],[0.8888888888888888,\"#fdca26\"],[1.0,\"#f0f921\"]],\"diverging\":[[0,\"#8e0152\"],[0.1,\"#c51b7d\"],[0.2,\"#de77ae\"],[0.3,\"#f1b6da\"],[0.4,\"#fde0ef\"],[0.5,\"#f7f7f7\"],[0.6,\"#e6f5d0\"],[0.7,\"#b8e186\"],[0.8,\"#7fbc41\"],[0.9,\"#4d9221\"],[1,\"#276419\"]]},\"xaxis\":{\"gridcolor\":\"white\",\"linecolor\":\"white\",\"ticks\":\"\",\"title\":{\"standoff\":15},\"zerolinecolor\":\"white\",\"automargin\":true,\"zerolinewidth\":2},\"yaxis\":{\"gridcolor\":\"white\",\"linecolor\":\"white\",\"ticks\":\"\",\"title\":{\"standoff\":15},\"zerolinecolor\":\"white\",\"automargin\":true,\"zerolinewidth\":2},\"scene\":{\"xaxis\":{\"backgroundcolor\":\"#E5ECF6\",\"gridcolor\":\"white\",\"linecolor\":\"white\",\"showbackground\":true,\"ticks\":\"\",\"zerolinecolor\":\"white\",\"gridwidth\":2},\"yaxis\":{\"backgroundcolor\":\"#E5ECF6\",\"gridcolor\":\"white\",\"linecolor\":\"white\",\"showbackground\":true,\"ticks\":\"\",\"zerolinecolor\":\"white\",\"gridwidth\":2},\"zaxis\":{\"backgroundcolor\":\"#E5ECF6\",\"gridcolor\":\"white\",\"linecolor\":\"white\",\"showbackground\":true,\"ticks\":\"\",\"zerolinecolor\":\"white\",\"gridwidth\":2}},\"shapedefaults\":{\"line\":{\"color\":\"#2a3f5f\"}},\"annotationdefaults\":{\"arrowcolor\":\"#2a3f5f\",\"arrowhead\":0,\"arrowwidth\":1},\"geo\":{\"bgcolor\":\"white\",\"landcolor\":\"#E5ECF6\",\"subunitcolor\":\"white\",\"showland\":true,\"showlakes\":true,\"lakecolor\":\"white\"},\"title\":{\"x\":0.05},\"mapbox\":{\"style\":\"light\"}}},\"title\":{\"text\":\"Gamers over the years (2008 to 2021)\",\"x\":0.4},\"xaxis\":{\"title\":{\"text\":\"Year\"}},\"yaxis\":{\"title\":{\"text\":\"Players\"}},\"width\":700},                        {\"responsive\": true}                    ).then(function(){\n",
       "                            \n",
       "var gd = document.getElementById('04483b45-db71-473e-8c05-174e27a4c4f0');\n",
       "var x = new MutationObserver(function (mutations, observer) {{\n",
       "        var display = window.getComputedStyle(gd).display;\n",
       "        if (!display || display === 'none') {{\n",
       "            console.log([gd, 'removed!']);\n",
       "            Plotly.purge(gd);\n",
       "            observer.disconnect();\n",
       "        }}\n",
       "}});\n",
       "\n",
       "// Listen for the removal of the full notebook cells\n",
       "var notebookContainer = gd.closest('#notebook-container');\n",
       "if (notebookContainer) {{\n",
       "    x.observe(notebookContainer, {childList: true});\n",
       "}}\n",
       "\n",
       "// Listen for the clearing of the current output cell\n",
       "var outputEl = gd.closest('.output');\n",
       "if (outputEl) {{\n",
       "    x.observe(outputEl, {childList: true});\n",
       "}}\n",
       "\n",
       "                        })                };                            </script>        </div>\n",
       "</body>\n",
       "</html>"
      ]
     },
     "metadata": {},
     "output_type": "display_data"
    }
   ],
   "source": [
    "fig2 = go.Figure()\n",
    "fig2.add_trace(go.Scatter(x=lg_sz_pl_yr['Year'], \n",
    "                          y=lg_sz_pl_yr['Players'], \n",
    "                          name='Large Game Players (500 MB+)', \n",
    "                          opacity=0.5,\n",
    "                         line = dict(color='blue', width=2)))\n",
    "\n",
    "fig2.add_trace(go.Scatter(x=md_sz_pl_yr['Year'], \n",
    "                          y=md_sz_pl_yr['Players'], \n",
    "                          name='Medium Game Players(150 - 500 MB)', \n",
    "                          opacity=0.5,\n",
    "                         line = dict(color='green', width=1)))\n",
    "\n",
    "fig2.add_trace(go.Scatter(x=sl_sz_pl_yr['Year'], \n",
    "                          y=sl_sz_pl_yr['Players'], \n",
    "                          name='Small Game Players (Below 150 MB)', \n",
    "                          opacity=0.75,\n",
    "                         line=dict(color='red', width=2)))\n",
    "\n",
    "fig2.update_layout(title='Gamers over the years (2008 to 2021)',\n",
    "                   xaxis_title='Year',\n",
    "                   yaxis_title='Players', title_x=0.4, width= 700)\n",
    "fig2.show()"
   ]
  },
  {
   "cell_type": "markdown",
   "metadata": {
    "id": "5wdnZzvZRJEP"
   },
   "source": [
    "> Overall there is an excess number of participants in medium sized games with 32 million gamers. \n",
    "\n",
    "> Since the start of small sized games the number of players has gradually increased.\n",
    "\n",
    "> Gamer rate in 2018 took steep growth despite fewer large games.\n",
    "\n",
    ">In the year 2020 and 2021 there has been a massive drop in users across all the categories it is possible it might be the effect of COVID-19."
   ]
  },
  {
   "cell_type": "markdown",
   "metadata": {
    "id": "eGJ_qqETiyVS"
   },
   "source": [
    "### Q8.Which developer has the highest earnings from paid apps?"
   ]
  },
  {
   "cell_type": "code",
   "execution_count": null,
   "metadata": {
    "id": "LaeWhTwv9y1b"
   },
   "outputs": [],
   "source": [
    "#Paid apps df\n",
    "paid_apps_df= df[df['Free']==False]\n",
    "paid_apps_df['Revenue']=round(paid_apps_df['Revenue'],2)\n",
    "# Rounding up Average_User_Rating for color\n",
    "paid_apps_df['Average_User_Rating']=round(paid_apps_df['Average_User_Rating'],1)\n",
    "paid_apps_df.rename(columns = {'Average_User_Rating':'User Rating'}, inplace = True)\n",
    "#Grouping by Developer\n",
    "#paid_apps_df.groupby(['Developer'])['Revenue'].sum().reset_index().sort_values(by='Revenue',ascending=False).head(100)"
   ]
  },
  {
   "cell_type": "code",
   "execution_count": null,
   "metadata": {
    "id": "12w-abfr9yzq"
   },
   "outputs": [],
   "source": [
    "fig7 = px.parallel_categories(paid_apps_df.sort_values(by='Revenue',ascending=False).head(30), \n",
    "                              dimensions=['Content_Rating','Developer','Revenue','Primary_Genre'],\n",
    "                              color='User Rating',\n",
    "                              color_continuous_scale=px.colors.diverging.BrBG,\n",
    "                              labels={'Content_Rating':'Age+',\n",
    "                                      'Primary_Genre':'Category',\n",
    "                                      'Revenue':'Earnings ($)'},\n",
    "                              title= \"Highest Earning Developer\")\n",
    "fig7.update_layout(coloraxis_colorbar_x=-0.1, \n",
    "                   title_x=0.5, \n",
    "                   margin=dict(r=100))\n",
    "fig7.show()"
   ]
  },
  {
   "cell_type": "code",
   "execution_count": 90,
   "metadata": {
    "colab": {
     "base_uri": "https://localhost:8080/",
     "height": 1000
    },
    "executionInfo": {
     "elapsed": 1335,
     "status": "ok",
     "timestamp": 1662823905521,
     "user": {
      "displayName": "Pratul Chandra",
      "userId": "06160049637809107783"
     },
     "user_tz": -330
    },
    "id": "5xSWLw9R8Jt0",
    "outputId": "3863fe73-9410-4297-8228-072e4906761a"
   },
   "outputs": [
    {
     "data": {
      "text/html": [
       "<html>\n",
       "<head><meta charset=\"utf-8\" /></head>\n",
       "<body>\n",
       "    <div>            <script src=\"https://cdnjs.cloudflare.com/ajax/libs/mathjax/2.7.5/MathJax.js?config=TeX-AMS-MML_SVG\"></script><script type=\"text/javascript\">if (window.MathJax && window.MathJax.Hub && window.MathJax.Hub.Config) {window.MathJax.Hub.Config({SVG: {font: \"STIX-Web\"}});}</script>                <script type=\"text/javascript\">window.PlotlyConfig = {MathJaxConfig: 'local'};</script>\n",
       "        <script src=\"https://cdn.plot.ly/plotly-2.14.0.min.js\"></script>                <div id=\"7584ea7b-da14-4a22-a307-a7151696fb49\" class=\"plotly-graph-div\" style=\"height:525px; width:700px;\"></div>            <script type=\"text/javascript\">                                    window.PLOTLYENV=window.PLOTLYENV || {};                                    if (document.getElementById(\"7584ea7b-da14-4a22-a307-a7151696fb49\")) {                    Plotly.newPlot(                        \"7584ea7b-da14-4a22-a307-a7151696fb49\",                        [{\"dimensions\":[{\"label\":\"Developer\",\"values\":[\"Mojang\",\"Time Base Technology Limited\",\"Piksoft Inc.\",\"Ginger Labs\",\"Shotzoom Software\",\"Apple\",\"Readdle Technologies Limited\",\"Burak Acemoglu\",\"PlantSnap, Inc.\",\"Ninja Kiwi\",\"Ipnos Software Inc.\",\"Lightricks Ltd.\",\"North Pole Command Centre Limited\",\"Luma Touch LLC\",\"WeatherBug\",\"MobilityWare\",\"Marmalade Game Studio\",\"TuneIn\",\"Skript, LLC\",\"Duet, Inc.\",\"Maple Media, LLC\",\"Savage Interactive Pty Ltd\",\"Ninja Kiwi\",\"Tinkerworks Apps\",\"SkyPaw Co. Ltd\",\"505 Games (US), Inc.\",\"Chucklefish Limited\",\"Simulation Curriculum Corp.\",\"The Grizzly Labs\",\"Tasmanic Editions\"]},{\"label\":\"Earnings ($)\",\"values\":[3452654.58,1549996.08,1483579.24,1391472.2,1255174.47,1102321.29,1053608.68,896712.96,876501.53,859387.78,629637.03,599174.31,589972.47,550946.29,544007.86,524009.88,457936.29,445404.15,345580.87,312696.99,296370.36,260828.91,238422.6,229808.38,220784.79,217444.24,217045.04,214666.32,212992.91,209673.45]}],\"domain\":{\"x\":[0.0,1.0],\"y\":[0.0,1.0]},\"name\":\"\",\"type\":\"parcats\"}],                        {\"template\":{\"data\":{\"histogram2dcontour\":[{\"type\":\"histogram2dcontour\",\"colorbar\":{\"outlinewidth\":0,\"ticks\":\"\"},\"colorscale\":[[0.0,\"#0d0887\"],[0.1111111111111111,\"#46039f\"],[0.2222222222222222,\"#7201a8\"],[0.3333333333333333,\"#9c179e\"],[0.4444444444444444,\"#bd3786\"],[0.5555555555555556,\"#d8576b\"],[0.6666666666666666,\"#ed7953\"],[0.7777777777777778,\"#fb9f3a\"],[0.8888888888888888,\"#fdca26\"],[1.0,\"#f0f921\"]]}],\"choropleth\":[{\"type\":\"choropleth\",\"colorbar\":{\"outlinewidth\":0,\"ticks\":\"\"}}],\"histogram2d\":[{\"type\":\"histogram2d\",\"colorbar\":{\"outlinewidth\":0,\"ticks\":\"\"},\"colorscale\":[[0.0,\"#0d0887\"],[0.1111111111111111,\"#46039f\"],[0.2222222222222222,\"#7201a8\"],[0.3333333333333333,\"#9c179e\"],[0.4444444444444444,\"#bd3786\"],[0.5555555555555556,\"#d8576b\"],[0.6666666666666666,\"#ed7953\"],[0.7777777777777778,\"#fb9f3a\"],[0.8888888888888888,\"#fdca26\"],[1.0,\"#f0f921\"]]}],\"heatmap\":[{\"type\":\"heatmap\",\"colorbar\":{\"outlinewidth\":0,\"ticks\":\"\"},\"colorscale\":[[0.0,\"#0d0887\"],[0.1111111111111111,\"#46039f\"],[0.2222222222222222,\"#7201a8\"],[0.3333333333333333,\"#9c179e\"],[0.4444444444444444,\"#bd3786\"],[0.5555555555555556,\"#d8576b\"],[0.6666666666666666,\"#ed7953\"],[0.7777777777777778,\"#fb9f3a\"],[0.8888888888888888,\"#fdca26\"],[1.0,\"#f0f921\"]]}],\"heatmapgl\":[{\"type\":\"heatmapgl\",\"colorbar\":{\"outlinewidth\":0,\"ticks\":\"\"},\"colorscale\":[[0.0,\"#0d0887\"],[0.1111111111111111,\"#46039f\"],[0.2222222222222222,\"#7201a8\"],[0.3333333333333333,\"#9c179e\"],[0.4444444444444444,\"#bd3786\"],[0.5555555555555556,\"#d8576b\"],[0.6666666666666666,\"#ed7953\"],[0.7777777777777778,\"#fb9f3a\"],[0.8888888888888888,\"#fdca26\"],[1.0,\"#f0f921\"]]}],\"contourcarpet\":[{\"type\":\"contourcarpet\",\"colorbar\":{\"outlinewidth\":0,\"ticks\":\"\"}}],\"contour\":[{\"type\":\"contour\",\"colorbar\":{\"outlinewidth\":0,\"ticks\":\"\"},\"colorscale\":[[0.0,\"#0d0887\"],[0.1111111111111111,\"#46039f\"],[0.2222222222222222,\"#7201a8\"],[0.3333333333333333,\"#9c179e\"],[0.4444444444444444,\"#bd3786\"],[0.5555555555555556,\"#d8576b\"],[0.6666666666666666,\"#ed7953\"],[0.7777777777777778,\"#fb9f3a\"],[0.8888888888888888,\"#fdca26\"],[1.0,\"#f0f921\"]]}],\"surface\":[{\"type\":\"surface\",\"colorbar\":{\"outlinewidth\":0,\"ticks\":\"\"},\"colorscale\":[[0.0,\"#0d0887\"],[0.1111111111111111,\"#46039f\"],[0.2222222222222222,\"#7201a8\"],[0.3333333333333333,\"#9c179e\"],[0.4444444444444444,\"#bd3786\"],[0.5555555555555556,\"#d8576b\"],[0.6666666666666666,\"#ed7953\"],[0.7777777777777778,\"#fb9f3a\"],[0.8888888888888888,\"#fdca26\"],[1.0,\"#f0f921\"]]}],\"mesh3d\":[{\"type\":\"mesh3d\",\"colorbar\":{\"outlinewidth\":0,\"ticks\":\"\"}}],\"scatter\":[{\"fillpattern\":{\"fillmode\":\"overlay\",\"size\":10,\"solidity\":0.2},\"type\":\"scatter\"}],\"parcoords\":[{\"type\":\"parcoords\",\"line\":{\"colorbar\":{\"outlinewidth\":0,\"ticks\":\"\"}}}],\"scatterpolargl\":[{\"type\":\"scatterpolargl\",\"marker\":{\"colorbar\":{\"outlinewidth\":0,\"ticks\":\"\"}}}],\"bar\":[{\"error_x\":{\"color\":\"#2a3f5f\"},\"error_y\":{\"color\":\"#2a3f5f\"},\"marker\":{\"line\":{\"color\":\"#E5ECF6\",\"width\":0.5},\"pattern\":{\"fillmode\":\"overlay\",\"size\":10,\"solidity\":0.2}},\"type\":\"bar\"}],\"scattergeo\":[{\"type\":\"scattergeo\",\"marker\":{\"colorbar\":{\"outlinewidth\":0,\"ticks\":\"\"}}}],\"scatterpolar\":[{\"type\":\"scatterpolar\",\"marker\":{\"colorbar\":{\"outlinewidth\":0,\"ticks\":\"\"}}}],\"histogram\":[{\"marker\":{\"pattern\":{\"fillmode\":\"overlay\",\"size\":10,\"solidity\":0.2}},\"type\":\"histogram\"}],\"scattergl\":[{\"type\":\"scattergl\",\"marker\":{\"colorbar\":{\"outlinewidth\":0,\"ticks\":\"\"}}}],\"scatter3d\":[{\"type\":\"scatter3d\",\"line\":{\"colorbar\":{\"outlinewidth\":0,\"ticks\":\"\"}},\"marker\":{\"colorbar\":{\"outlinewidth\":0,\"ticks\":\"\"}}}],\"scattermapbox\":[{\"type\":\"scattermapbox\",\"marker\":{\"colorbar\":{\"outlinewidth\":0,\"ticks\":\"\"}}}],\"scatterternary\":[{\"type\":\"scatterternary\",\"marker\":{\"colorbar\":{\"outlinewidth\":0,\"ticks\":\"\"}}}],\"scattercarpet\":[{\"type\":\"scattercarpet\",\"marker\":{\"colorbar\":{\"outlinewidth\":0,\"ticks\":\"\"}}}],\"carpet\":[{\"aaxis\":{\"endlinecolor\":\"#2a3f5f\",\"gridcolor\":\"white\",\"linecolor\":\"white\",\"minorgridcolor\":\"white\",\"startlinecolor\":\"#2a3f5f\"},\"baxis\":{\"endlinecolor\":\"#2a3f5f\",\"gridcolor\":\"white\",\"linecolor\":\"white\",\"minorgridcolor\":\"white\",\"startlinecolor\":\"#2a3f5f\"},\"type\":\"carpet\"}],\"table\":[{\"cells\":{\"fill\":{\"color\":\"#EBF0F8\"},\"line\":{\"color\":\"white\"}},\"header\":{\"fill\":{\"color\":\"#C8D4E3\"},\"line\":{\"color\":\"white\"}},\"type\":\"table\"}],\"barpolar\":[{\"marker\":{\"line\":{\"color\":\"#E5ECF6\",\"width\":0.5},\"pattern\":{\"fillmode\":\"overlay\",\"size\":10,\"solidity\":0.2}},\"type\":\"barpolar\"}],\"pie\":[{\"automargin\":true,\"type\":\"pie\"}]},\"layout\":{\"autotypenumbers\":\"strict\",\"colorway\":[\"#636efa\",\"#EF553B\",\"#00cc96\",\"#ab63fa\",\"#FFA15A\",\"#19d3f3\",\"#FF6692\",\"#B6E880\",\"#FF97FF\",\"#FECB52\"],\"font\":{\"color\":\"#2a3f5f\"},\"hovermode\":\"closest\",\"hoverlabel\":{\"align\":\"left\"},\"paper_bgcolor\":\"white\",\"plot_bgcolor\":\"#E5ECF6\",\"polar\":{\"bgcolor\":\"#E5ECF6\",\"angularaxis\":{\"gridcolor\":\"white\",\"linecolor\":\"white\",\"ticks\":\"\"},\"radialaxis\":{\"gridcolor\":\"white\",\"linecolor\":\"white\",\"ticks\":\"\"}},\"ternary\":{\"bgcolor\":\"#E5ECF6\",\"aaxis\":{\"gridcolor\":\"white\",\"linecolor\":\"white\",\"ticks\":\"\"},\"baxis\":{\"gridcolor\":\"white\",\"linecolor\":\"white\",\"ticks\":\"\"},\"caxis\":{\"gridcolor\":\"white\",\"linecolor\":\"white\",\"ticks\":\"\"}},\"coloraxis\":{\"colorbar\":{\"outlinewidth\":0,\"ticks\":\"\"}},\"colorscale\":{\"sequential\":[[0.0,\"#0d0887\"],[0.1111111111111111,\"#46039f\"],[0.2222222222222222,\"#7201a8\"],[0.3333333333333333,\"#9c179e\"],[0.4444444444444444,\"#bd3786\"],[0.5555555555555556,\"#d8576b\"],[0.6666666666666666,\"#ed7953\"],[0.7777777777777778,\"#fb9f3a\"],[0.8888888888888888,\"#fdca26\"],[1.0,\"#f0f921\"]],\"sequentialminus\":[[0.0,\"#0d0887\"],[0.1111111111111111,\"#46039f\"],[0.2222222222222222,\"#7201a8\"],[0.3333333333333333,\"#9c179e\"],[0.4444444444444444,\"#bd3786\"],[0.5555555555555556,\"#d8576b\"],[0.6666666666666666,\"#ed7953\"],[0.7777777777777778,\"#fb9f3a\"],[0.8888888888888888,\"#fdca26\"],[1.0,\"#f0f921\"]],\"diverging\":[[0,\"#8e0152\"],[0.1,\"#c51b7d\"],[0.2,\"#de77ae\"],[0.3,\"#f1b6da\"],[0.4,\"#fde0ef\"],[0.5,\"#f7f7f7\"],[0.6,\"#e6f5d0\"],[0.7,\"#b8e186\"],[0.8,\"#7fbc41\"],[0.9,\"#4d9221\"],[1,\"#276419\"]]},\"xaxis\":{\"gridcolor\":\"white\",\"linecolor\":\"white\",\"ticks\":\"\",\"title\":{\"standoff\":15},\"zerolinecolor\":\"white\",\"automargin\":true,\"zerolinewidth\":2},\"yaxis\":{\"gridcolor\":\"white\",\"linecolor\":\"white\",\"ticks\":\"\",\"title\":{\"standoff\":15},\"zerolinecolor\":\"white\",\"automargin\":true,\"zerolinewidth\":2},\"scene\":{\"xaxis\":{\"backgroundcolor\":\"#E5ECF6\",\"gridcolor\":\"white\",\"linecolor\":\"white\",\"showbackground\":true,\"ticks\":\"\",\"zerolinecolor\":\"white\",\"gridwidth\":2},\"yaxis\":{\"backgroundcolor\":\"#E5ECF6\",\"gridcolor\":\"white\",\"linecolor\":\"white\",\"showbackground\":true,\"ticks\":\"\",\"zerolinecolor\":\"white\",\"gridwidth\":2},\"zaxis\":{\"backgroundcolor\":\"#E5ECF6\",\"gridcolor\":\"white\",\"linecolor\":\"white\",\"showbackground\":true,\"ticks\":\"\",\"zerolinecolor\":\"white\",\"gridwidth\":2}},\"shapedefaults\":{\"line\":{\"color\":\"#2a3f5f\"}},\"annotationdefaults\":{\"arrowcolor\":\"#2a3f5f\",\"arrowhead\":0,\"arrowwidth\":1},\"geo\":{\"bgcolor\":\"white\",\"landcolor\":\"#E5ECF6\",\"subunitcolor\":\"white\",\"showland\":true,\"showlakes\":true,\"lakecolor\":\"white\"},\"title\":{\"x\":0.05},\"mapbox\":{\"style\":\"light\"}}},\"legend\":{\"tracegroupgap\":0},\"title\":{\"text\":\"Developer Earnings\",\"x\":0.5},\"coloraxis\":{\"colorbar\":{\"x\":-0.3}},\"margin\":{\"r\":100,\"l\":200},\"width\":700},                        {\"responsive\": true}                    ).then(function(){\n",
       "                            \n",
       "var gd = document.getElementById('7584ea7b-da14-4a22-a307-a7151696fb49');\n",
       "var x = new MutationObserver(function (mutations, observer) {{\n",
       "        var display = window.getComputedStyle(gd).display;\n",
       "        if (!display || display === 'none') {{\n",
       "            console.log([gd, 'removed!']);\n",
       "            Plotly.purge(gd);\n",
       "            observer.disconnect();\n",
       "        }}\n",
       "}});\n",
       "\n",
       "// Listen for the removal of the full notebook cells\n",
       "var notebookContainer = gd.closest('#notebook-container');\n",
       "if (notebookContainer) {{\n",
       "    x.observe(notebookContainer, {childList: true});\n",
       "}}\n",
       "\n",
       "// Listen for the clearing of the current output cell\n",
       "var outputEl = gd.closest('.output');\n",
       "if (outputEl) {{\n",
       "    x.observe(outputEl, {childList: true});\n",
       "}}\n",
       "\n",
       "                        })                };                            </script>        </div>\n",
       "</body>\n",
       "</html>"
      ]
     },
     "metadata": {},
     "output_type": "display_data"
    },
    {
     "data": {
      "text/html": [
       "<html>\n",
       "<head><meta charset=\"utf-8\" /></head>\n",
       "<body>\n",
       "    <div>            <script src=\"https://cdnjs.cloudflare.com/ajax/libs/mathjax/2.7.5/MathJax.js?config=TeX-AMS-MML_SVG\"></script><script type=\"text/javascript\">if (window.MathJax && window.MathJax.Hub && window.MathJax.Hub.Config) {window.MathJax.Hub.Config({SVG: {font: \"STIX-Web\"}});}</script>                <script type=\"text/javascript\">window.PlotlyConfig = {MathJaxConfig: 'local'};</script>\n",
       "        <script src=\"https://cdn.plot.ly/plotly-2.14.0.min.js\"></script>                <div id=\"7b214327-cb89-4c09-a6d1-249aecfa53c8\" class=\"plotly-graph-div\" style=\"height:525px; width:700px;\"></div>            <script type=\"text/javascript\">                                    window.PLOTLYENV=window.PLOTLYENV || {};                                    if (document.getElementById(\"7b214327-cb89-4c09-a6d1-249aecfa53c8\")) {                    Plotly.newPlot(                        \"7b214327-cb89-4c09-a6d1-249aecfa53c8\",                        [{\"dimensions\":[{\"label\":\"Age+\",\"values\":[\"9+\",\"4+\",\"4+\",\"4+\",\"4+\",\"4+\",\"4+\",\"4+\",\"4+\",\"9+\",\"4+\",\"4+\",\"4+\",\"4+\",\"4+\",\"4+\",\"4+\",\"12+\",\"4+\",\"4+\",\"4+\",\"4+\",\"9+\",\"4+\",\"4+\",\"9+\",\"12+\",\"4+\",\"4+\",\"17+\"]},{\"label\":\"Developer\",\"values\":[\"Mojang\",\"Time Base Technology Limited\",\"Piksoft Inc.\",\"Ginger Labs\",\"Shotzoom Software\",\"Apple\",\"Readdle Technologies Limited\",\"Burak Acemoglu\",\"PlantSnap, Inc.\",\"Ninja Kiwi\",\"Ipnos Software Inc.\",\"Lightricks Ltd.\",\"North Pole Command Centre Limited\",\"Luma Touch LLC\",\"WeatherBug\",\"MobilityWare\",\"Marmalade Game Studio\",\"TuneIn\",\"Skript, LLC\",\"Duet, Inc.\",\"Maple Media, LLC\",\"Savage Interactive Pty Ltd\",\"Ninja Kiwi\",\"Tinkerworks Apps\",\"SkyPaw Co. Ltd\",\"505 Games (US), Inc.\",\"Chucklefish Limited\",\"Simulation Curriculum Corp.\",\"The Grizzly Labs\",\"Tasmanic Editions\"]}],\"domain\":{\"x\":[0.0,1.0],\"y\":[0.0,1.0]},\"line\":{\"color\":[4.5,4.8,4.9,4.8,4.8,4.7,4.7,4.5,4.5,4.8,4.8,4.9,4.7,4.8,4.7,4.8,4.6,4.7,4.8,4.4,4.8,4.5,4.8,4.6,4.7,4.4,4.8,4.8,4.9,4.6],\"coloraxis\":\"coloraxis\"},\"name\":\"\",\"type\":\"parcats\"}],                        {\"template\":{\"data\":{\"histogram2dcontour\":[{\"type\":\"histogram2dcontour\",\"colorbar\":{\"outlinewidth\":0,\"ticks\":\"\"},\"colorscale\":[[0.0,\"#0d0887\"],[0.1111111111111111,\"#46039f\"],[0.2222222222222222,\"#7201a8\"],[0.3333333333333333,\"#9c179e\"],[0.4444444444444444,\"#bd3786\"],[0.5555555555555556,\"#d8576b\"],[0.6666666666666666,\"#ed7953\"],[0.7777777777777778,\"#fb9f3a\"],[0.8888888888888888,\"#fdca26\"],[1.0,\"#f0f921\"]]}],\"choropleth\":[{\"type\":\"choropleth\",\"colorbar\":{\"outlinewidth\":0,\"ticks\":\"\"}}],\"histogram2d\":[{\"type\":\"histogram2d\",\"colorbar\":{\"outlinewidth\":0,\"ticks\":\"\"},\"colorscale\":[[0.0,\"#0d0887\"],[0.1111111111111111,\"#46039f\"],[0.2222222222222222,\"#7201a8\"],[0.3333333333333333,\"#9c179e\"],[0.4444444444444444,\"#bd3786\"],[0.5555555555555556,\"#d8576b\"],[0.6666666666666666,\"#ed7953\"],[0.7777777777777778,\"#fb9f3a\"],[0.8888888888888888,\"#fdca26\"],[1.0,\"#f0f921\"]]}],\"heatmap\":[{\"type\":\"heatmap\",\"colorbar\":{\"outlinewidth\":0,\"ticks\":\"\"},\"colorscale\":[[0.0,\"#0d0887\"],[0.1111111111111111,\"#46039f\"],[0.2222222222222222,\"#7201a8\"],[0.3333333333333333,\"#9c179e\"],[0.4444444444444444,\"#bd3786\"],[0.5555555555555556,\"#d8576b\"],[0.6666666666666666,\"#ed7953\"],[0.7777777777777778,\"#fb9f3a\"],[0.8888888888888888,\"#fdca26\"],[1.0,\"#f0f921\"]]}],\"heatmapgl\":[{\"type\":\"heatmapgl\",\"colorbar\":{\"outlinewidth\":0,\"ticks\":\"\"},\"colorscale\":[[0.0,\"#0d0887\"],[0.1111111111111111,\"#46039f\"],[0.2222222222222222,\"#7201a8\"],[0.3333333333333333,\"#9c179e\"],[0.4444444444444444,\"#bd3786\"],[0.5555555555555556,\"#d8576b\"],[0.6666666666666666,\"#ed7953\"],[0.7777777777777778,\"#fb9f3a\"],[0.8888888888888888,\"#fdca26\"],[1.0,\"#f0f921\"]]}],\"contourcarpet\":[{\"type\":\"contourcarpet\",\"colorbar\":{\"outlinewidth\":0,\"ticks\":\"\"}}],\"contour\":[{\"type\":\"contour\",\"colorbar\":{\"outlinewidth\":0,\"ticks\":\"\"},\"colorscale\":[[0.0,\"#0d0887\"],[0.1111111111111111,\"#46039f\"],[0.2222222222222222,\"#7201a8\"],[0.3333333333333333,\"#9c179e\"],[0.4444444444444444,\"#bd3786\"],[0.5555555555555556,\"#d8576b\"],[0.6666666666666666,\"#ed7953\"],[0.7777777777777778,\"#fb9f3a\"],[0.8888888888888888,\"#fdca26\"],[1.0,\"#f0f921\"]]}],\"surface\":[{\"type\":\"surface\",\"colorbar\":{\"outlinewidth\":0,\"ticks\":\"\"},\"colorscale\":[[0.0,\"#0d0887\"],[0.1111111111111111,\"#46039f\"],[0.2222222222222222,\"#7201a8\"],[0.3333333333333333,\"#9c179e\"],[0.4444444444444444,\"#bd3786\"],[0.5555555555555556,\"#d8576b\"],[0.6666666666666666,\"#ed7953\"],[0.7777777777777778,\"#fb9f3a\"],[0.8888888888888888,\"#fdca26\"],[1.0,\"#f0f921\"]]}],\"mesh3d\":[{\"type\":\"mesh3d\",\"colorbar\":{\"outlinewidth\":0,\"ticks\":\"\"}}],\"scatter\":[{\"fillpattern\":{\"fillmode\":\"overlay\",\"size\":10,\"solidity\":0.2},\"type\":\"scatter\"}],\"parcoords\":[{\"type\":\"parcoords\",\"line\":{\"colorbar\":{\"outlinewidth\":0,\"ticks\":\"\"}}}],\"scatterpolargl\":[{\"type\":\"scatterpolargl\",\"marker\":{\"colorbar\":{\"outlinewidth\":0,\"ticks\":\"\"}}}],\"bar\":[{\"error_x\":{\"color\":\"#2a3f5f\"},\"error_y\":{\"color\":\"#2a3f5f\"},\"marker\":{\"line\":{\"color\":\"#E5ECF6\",\"width\":0.5},\"pattern\":{\"fillmode\":\"overlay\",\"size\":10,\"solidity\":0.2}},\"type\":\"bar\"}],\"scattergeo\":[{\"type\":\"scattergeo\",\"marker\":{\"colorbar\":{\"outlinewidth\":0,\"ticks\":\"\"}}}],\"scatterpolar\":[{\"type\":\"scatterpolar\",\"marker\":{\"colorbar\":{\"outlinewidth\":0,\"ticks\":\"\"}}}],\"histogram\":[{\"marker\":{\"pattern\":{\"fillmode\":\"overlay\",\"size\":10,\"solidity\":0.2}},\"type\":\"histogram\"}],\"scattergl\":[{\"type\":\"scattergl\",\"marker\":{\"colorbar\":{\"outlinewidth\":0,\"ticks\":\"\"}}}],\"scatter3d\":[{\"type\":\"scatter3d\",\"line\":{\"colorbar\":{\"outlinewidth\":0,\"ticks\":\"\"}},\"marker\":{\"colorbar\":{\"outlinewidth\":0,\"ticks\":\"\"}}}],\"scattermapbox\":[{\"type\":\"scattermapbox\",\"marker\":{\"colorbar\":{\"outlinewidth\":0,\"ticks\":\"\"}}}],\"scatterternary\":[{\"type\":\"scatterternary\",\"marker\":{\"colorbar\":{\"outlinewidth\":0,\"ticks\":\"\"}}}],\"scattercarpet\":[{\"type\":\"scattercarpet\",\"marker\":{\"colorbar\":{\"outlinewidth\":0,\"ticks\":\"\"}}}],\"carpet\":[{\"aaxis\":{\"endlinecolor\":\"#2a3f5f\",\"gridcolor\":\"white\",\"linecolor\":\"white\",\"minorgridcolor\":\"white\",\"startlinecolor\":\"#2a3f5f\"},\"baxis\":{\"endlinecolor\":\"#2a3f5f\",\"gridcolor\":\"white\",\"linecolor\":\"white\",\"minorgridcolor\":\"white\",\"startlinecolor\":\"#2a3f5f\"},\"type\":\"carpet\"}],\"table\":[{\"cells\":{\"fill\":{\"color\":\"#EBF0F8\"},\"line\":{\"color\":\"white\"}},\"header\":{\"fill\":{\"color\":\"#C8D4E3\"},\"line\":{\"color\":\"white\"}},\"type\":\"table\"}],\"barpolar\":[{\"marker\":{\"line\":{\"color\":\"#E5ECF6\",\"width\":0.5},\"pattern\":{\"fillmode\":\"overlay\",\"size\":10,\"solidity\":0.2}},\"type\":\"barpolar\"}],\"pie\":[{\"automargin\":true,\"type\":\"pie\"}]},\"layout\":{\"autotypenumbers\":\"strict\",\"colorway\":[\"#636efa\",\"#EF553B\",\"#00cc96\",\"#ab63fa\",\"#FFA15A\",\"#19d3f3\",\"#FF6692\",\"#B6E880\",\"#FF97FF\",\"#FECB52\"],\"font\":{\"color\":\"#2a3f5f\"},\"hovermode\":\"closest\",\"hoverlabel\":{\"align\":\"left\"},\"paper_bgcolor\":\"white\",\"plot_bgcolor\":\"#E5ECF6\",\"polar\":{\"bgcolor\":\"#E5ECF6\",\"angularaxis\":{\"gridcolor\":\"white\",\"linecolor\":\"white\",\"ticks\":\"\"},\"radialaxis\":{\"gridcolor\":\"white\",\"linecolor\":\"white\",\"ticks\":\"\"}},\"ternary\":{\"bgcolor\":\"#E5ECF6\",\"aaxis\":{\"gridcolor\":\"white\",\"linecolor\":\"white\",\"ticks\":\"\"},\"baxis\":{\"gridcolor\":\"white\",\"linecolor\":\"white\",\"ticks\":\"\"},\"caxis\":{\"gridcolor\":\"white\",\"linecolor\":\"white\",\"ticks\":\"\"}},\"coloraxis\":{\"colorbar\":{\"outlinewidth\":0,\"ticks\":\"\"}},\"colorscale\":{\"sequential\":[[0.0,\"#0d0887\"],[0.1111111111111111,\"#46039f\"],[0.2222222222222222,\"#7201a8\"],[0.3333333333333333,\"#9c179e\"],[0.4444444444444444,\"#bd3786\"],[0.5555555555555556,\"#d8576b\"],[0.6666666666666666,\"#ed7953\"],[0.7777777777777778,\"#fb9f3a\"],[0.8888888888888888,\"#fdca26\"],[1.0,\"#f0f921\"]],\"sequentialminus\":[[0.0,\"#0d0887\"],[0.1111111111111111,\"#46039f\"],[0.2222222222222222,\"#7201a8\"],[0.3333333333333333,\"#9c179e\"],[0.4444444444444444,\"#bd3786\"],[0.5555555555555556,\"#d8576b\"],[0.6666666666666666,\"#ed7953\"],[0.7777777777777778,\"#fb9f3a\"],[0.8888888888888888,\"#fdca26\"],[1.0,\"#f0f921\"]],\"diverging\":[[0,\"#8e0152\"],[0.1,\"#c51b7d\"],[0.2,\"#de77ae\"],[0.3,\"#f1b6da\"],[0.4,\"#fde0ef\"],[0.5,\"#f7f7f7\"],[0.6,\"#e6f5d0\"],[0.7,\"#b8e186\"],[0.8,\"#7fbc41\"],[0.9,\"#4d9221\"],[1,\"#276419\"]]},\"xaxis\":{\"gridcolor\":\"white\",\"linecolor\":\"white\",\"ticks\":\"\",\"title\":{\"standoff\":15},\"zerolinecolor\":\"white\",\"automargin\":true,\"zerolinewidth\":2},\"yaxis\":{\"gridcolor\":\"white\",\"linecolor\":\"white\",\"ticks\":\"\",\"title\":{\"standoff\":15},\"zerolinecolor\":\"white\",\"automargin\":true,\"zerolinewidth\":2},\"scene\":{\"xaxis\":{\"backgroundcolor\":\"#E5ECF6\",\"gridcolor\":\"white\",\"linecolor\":\"white\",\"showbackground\":true,\"ticks\":\"\",\"zerolinecolor\":\"white\",\"gridwidth\":2},\"yaxis\":{\"backgroundcolor\":\"#E5ECF6\",\"gridcolor\":\"white\",\"linecolor\":\"white\",\"showbackground\":true,\"ticks\":\"\",\"zerolinecolor\":\"white\",\"gridwidth\":2},\"zaxis\":{\"backgroundcolor\":\"#E5ECF6\",\"gridcolor\":\"white\",\"linecolor\":\"white\",\"showbackground\":true,\"ticks\":\"\",\"zerolinecolor\":\"white\",\"gridwidth\":2}},\"shapedefaults\":{\"line\":{\"color\":\"#2a3f5f\"}},\"annotationdefaults\":{\"arrowcolor\":\"#2a3f5f\",\"arrowhead\":0,\"arrowwidth\":1},\"geo\":{\"bgcolor\":\"white\",\"landcolor\":\"#E5ECF6\",\"subunitcolor\":\"white\",\"showland\":true,\"showlakes\":true,\"lakecolor\":\"white\"},\"title\":{\"x\":0.05},\"mapbox\":{\"style\":\"light\"}}},\"coloraxis\":{\"colorbar\":{\"title\":{\"text\":\"User Rating\"},\"x\":-0.3},\"colorscale\":[[0.0,\"rgb(84,48,5)\"],[0.1,\"rgb(140,81,10)\"],[0.2,\"rgb(191,129,45)\"],[0.3,\"rgb(223,194,125)\"],[0.4,\"rgb(246,232,195)\"],[0.5,\"rgb(245,245,245)\"],[0.6,\"rgb(199,234,229)\"],[0.7,\"rgb(128,205,193)\"],[0.8,\"rgb(53,151,143)\"],[0.9,\"rgb(1,102,94)\"],[1.0,\"rgb(0,60,48)\"]]},\"legend\":{\"tracegroupgap\":0},\"title\":{\"text\":\"Developer Content Rating\",\"x\":0.5},\"margin\":{\"r\":200,\"l\":150},\"width\":700},                        {\"responsive\": true}                    ).then(function(){\n",
       "                            \n",
       "var gd = document.getElementById('7b214327-cb89-4c09-a6d1-249aecfa53c8');\n",
       "var x = new MutationObserver(function (mutations, observer) {{\n",
       "        var display = window.getComputedStyle(gd).display;\n",
       "        if (!display || display === 'none') {{\n",
       "            console.log([gd, 'removed!']);\n",
       "            Plotly.purge(gd);\n",
       "            observer.disconnect();\n",
       "        }}\n",
       "}});\n",
       "\n",
       "// Listen for the removal of the full notebook cells\n",
       "var notebookContainer = gd.closest('#notebook-container');\n",
       "if (notebookContainer) {{\n",
       "    x.observe(notebookContainer, {childList: true});\n",
       "}}\n",
       "\n",
       "// Listen for the clearing of the current output cell\n",
       "var outputEl = gd.closest('.output');\n",
       "if (outputEl) {{\n",
       "    x.observe(outputEl, {childList: true});\n",
       "}}\n",
       "\n",
       "                        })                };                            </script>        </div>\n",
       "</body>\n",
       "</html>"
      ]
     },
     "metadata": {},
     "output_type": "display_data"
    },
    {
     "data": {
      "text/html": [
       "<html>\n",
       "<head><meta charset=\"utf-8\" /></head>\n",
       "<body>\n",
       "    <div>            <script src=\"https://cdnjs.cloudflare.com/ajax/libs/mathjax/2.7.5/MathJax.js?config=TeX-AMS-MML_SVG\"></script><script type=\"text/javascript\">if (window.MathJax && window.MathJax.Hub && window.MathJax.Hub.Config) {window.MathJax.Hub.Config({SVG: {font: \"STIX-Web\"}});}</script>                <script type=\"text/javascript\">window.PlotlyConfig = {MathJaxConfig: 'local'};</script>\n",
       "        <script src=\"https://cdn.plot.ly/plotly-2.14.0.min.js\"></script>                <div id=\"7f2b37bb-f89e-4edb-b0d6-2cbcce6b4bf3\" class=\"plotly-graph-div\" style=\"height:525px; width:700px;\"></div>            <script type=\"text/javascript\">                                    window.PLOTLYENV=window.PLOTLYENV || {};                                    if (document.getElementById(\"7f2b37bb-f89e-4edb-b0d6-2cbcce6b4bf3\")) {                    Plotly.newPlot(                        \"7f2b37bb-f89e-4edb-b0d6-2cbcce6b4bf3\",                        [{\"dimensions\":[{\"label\":\"Category\",\"values\":[\"Games\",\"Productivity\",\"Business\",\"Productivity\",\"Sports\",\"Weather\",\"Productivity\",\"Social Networking\",\"Education\",\"Games\",\"Health & Fitness\",\"Photo & Video\",\"Entertainment\",\"Photo & Video\",\"Weather\",\"Games\",\"Games\",\"Music\",\"Productivity\",\"Productivity\",\"Utilities\",\"Graphics & Design\",\"Games\",\"Photo & Video\",\"Utilities\",\"Games\",\"Games\",\"Reference\",\"Business\",\"Utilities\"]},{\"label\":\"Developer\",\"values\":[\"Mojang\",\"Time Base Technology Limited\",\"Piksoft Inc.\",\"Ginger Labs\",\"Shotzoom Software\",\"Apple\",\"Readdle Technologies Limited\",\"Burak Acemoglu\",\"PlantSnap, Inc.\",\"Ninja Kiwi\",\"Ipnos Software Inc.\",\"Lightricks Ltd.\",\"North Pole Command Centre Limited\",\"Luma Touch LLC\",\"WeatherBug\",\"MobilityWare\",\"Marmalade Game Studio\",\"TuneIn\",\"Skript, LLC\",\"Duet, Inc.\",\"Maple Media, LLC\",\"Savage Interactive Pty Ltd\",\"Ninja Kiwi\",\"Tinkerworks Apps\",\"SkyPaw Co. Ltd\",\"505 Games (US), Inc.\",\"Chucklefish Limited\",\"Simulation Curriculum Corp.\",\"The Grizzly Labs\",\"Tasmanic Editions\"]}],\"domain\":{\"x\":[0.0,1.0],\"y\":[0.0,1.0]},\"name\":\"\",\"type\":\"parcats\"}],                        {\"template\":{\"data\":{\"histogram2dcontour\":[{\"type\":\"histogram2dcontour\",\"colorbar\":{\"outlinewidth\":0,\"ticks\":\"\"},\"colorscale\":[[0.0,\"#0d0887\"],[0.1111111111111111,\"#46039f\"],[0.2222222222222222,\"#7201a8\"],[0.3333333333333333,\"#9c179e\"],[0.4444444444444444,\"#bd3786\"],[0.5555555555555556,\"#d8576b\"],[0.6666666666666666,\"#ed7953\"],[0.7777777777777778,\"#fb9f3a\"],[0.8888888888888888,\"#fdca26\"],[1.0,\"#f0f921\"]]}],\"choropleth\":[{\"type\":\"choropleth\",\"colorbar\":{\"outlinewidth\":0,\"ticks\":\"\"}}],\"histogram2d\":[{\"type\":\"histogram2d\",\"colorbar\":{\"outlinewidth\":0,\"ticks\":\"\"},\"colorscale\":[[0.0,\"#0d0887\"],[0.1111111111111111,\"#46039f\"],[0.2222222222222222,\"#7201a8\"],[0.3333333333333333,\"#9c179e\"],[0.4444444444444444,\"#bd3786\"],[0.5555555555555556,\"#d8576b\"],[0.6666666666666666,\"#ed7953\"],[0.7777777777777778,\"#fb9f3a\"],[0.8888888888888888,\"#fdca26\"],[1.0,\"#f0f921\"]]}],\"heatmap\":[{\"type\":\"heatmap\",\"colorbar\":{\"outlinewidth\":0,\"ticks\":\"\"},\"colorscale\":[[0.0,\"#0d0887\"],[0.1111111111111111,\"#46039f\"],[0.2222222222222222,\"#7201a8\"],[0.3333333333333333,\"#9c179e\"],[0.4444444444444444,\"#bd3786\"],[0.5555555555555556,\"#d8576b\"],[0.6666666666666666,\"#ed7953\"],[0.7777777777777778,\"#fb9f3a\"],[0.8888888888888888,\"#fdca26\"],[1.0,\"#f0f921\"]]}],\"heatmapgl\":[{\"type\":\"heatmapgl\",\"colorbar\":{\"outlinewidth\":0,\"ticks\":\"\"},\"colorscale\":[[0.0,\"#0d0887\"],[0.1111111111111111,\"#46039f\"],[0.2222222222222222,\"#7201a8\"],[0.3333333333333333,\"#9c179e\"],[0.4444444444444444,\"#bd3786\"],[0.5555555555555556,\"#d8576b\"],[0.6666666666666666,\"#ed7953\"],[0.7777777777777778,\"#fb9f3a\"],[0.8888888888888888,\"#fdca26\"],[1.0,\"#f0f921\"]]}],\"contourcarpet\":[{\"type\":\"contourcarpet\",\"colorbar\":{\"outlinewidth\":0,\"ticks\":\"\"}}],\"contour\":[{\"type\":\"contour\",\"colorbar\":{\"outlinewidth\":0,\"ticks\":\"\"},\"colorscale\":[[0.0,\"#0d0887\"],[0.1111111111111111,\"#46039f\"],[0.2222222222222222,\"#7201a8\"],[0.3333333333333333,\"#9c179e\"],[0.4444444444444444,\"#bd3786\"],[0.5555555555555556,\"#d8576b\"],[0.6666666666666666,\"#ed7953\"],[0.7777777777777778,\"#fb9f3a\"],[0.8888888888888888,\"#fdca26\"],[1.0,\"#f0f921\"]]}],\"surface\":[{\"type\":\"surface\",\"colorbar\":{\"outlinewidth\":0,\"ticks\":\"\"},\"colorscale\":[[0.0,\"#0d0887\"],[0.1111111111111111,\"#46039f\"],[0.2222222222222222,\"#7201a8\"],[0.3333333333333333,\"#9c179e\"],[0.4444444444444444,\"#bd3786\"],[0.5555555555555556,\"#d8576b\"],[0.6666666666666666,\"#ed7953\"],[0.7777777777777778,\"#fb9f3a\"],[0.8888888888888888,\"#fdca26\"],[1.0,\"#f0f921\"]]}],\"mesh3d\":[{\"type\":\"mesh3d\",\"colorbar\":{\"outlinewidth\":0,\"ticks\":\"\"}}],\"scatter\":[{\"fillpattern\":{\"fillmode\":\"overlay\",\"size\":10,\"solidity\":0.2},\"type\":\"scatter\"}],\"parcoords\":[{\"type\":\"parcoords\",\"line\":{\"colorbar\":{\"outlinewidth\":0,\"ticks\":\"\"}}}],\"scatterpolargl\":[{\"type\":\"scatterpolargl\",\"marker\":{\"colorbar\":{\"outlinewidth\":0,\"ticks\":\"\"}}}],\"bar\":[{\"error_x\":{\"color\":\"#2a3f5f\"},\"error_y\":{\"color\":\"#2a3f5f\"},\"marker\":{\"line\":{\"color\":\"#E5ECF6\",\"width\":0.5},\"pattern\":{\"fillmode\":\"overlay\",\"size\":10,\"solidity\":0.2}},\"type\":\"bar\"}],\"scattergeo\":[{\"type\":\"scattergeo\",\"marker\":{\"colorbar\":{\"outlinewidth\":0,\"ticks\":\"\"}}}],\"scatterpolar\":[{\"type\":\"scatterpolar\",\"marker\":{\"colorbar\":{\"outlinewidth\":0,\"ticks\":\"\"}}}],\"histogram\":[{\"marker\":{\"pattern\":{\"fillmode\":\"overlay\",\"size\":10,\"solidity\":0.2}},\"type\":\"histogram\"}],\"scattergl\":[{\"type\":\"scattergl\",\"marker\":{\"colorbar\":{\"outlinewidth\":0,\"ticks\":\"\"}}}],\"scatter3d\":[{\"type\":\"scatter3d\",\"line\":{\"colorbar\":{\"outlinewidth\":0,\"ticks\":\"\"}},\"marker\":{\"colorbar\":{\"outlinewidth\":0,\"ticks\":\"\"}}}],\"scattermapbox\":[{\"type\":\"scattermapbox\",\"marker\":{\"colorbar\":{\"outlinewidth\":0,\"ticks\":\"\"}}}],\"scatterternary\":[{\"type\":\"scatterternary\",\"marker\":{\"colorbar\":{\"outlinewidth\":0,\"ticks\":\"\"}}}],\"scattercarpet\":[{\"type\":\"scattercarpet\",\"marker\":{\"colorbar\":{\"outlinewidth\":0,\"ticks\":\"\"}}}],\"carpet\":[{\"aaxis\":{\"endlinecolor\":\"#2a3f5f\",\"gridcolor\":\"white\",\"linecolor\":\"white\",\"minorgridcolor\":\"white\",\"startlinecolor\":\"#2a3f5f\"},\"baxis\":{\"endlinecolor\":\"#2a3f5f\",\"gridcolor\":\"white\",\"linecolor\":\"white\",\"minorgridcolor\":\"white\",\"startlinecolor\":\"#2a3f5f\"},\"type\":\"carpet\"}],\"table\":[{\"cells\":{\"fill\":{\"color\":\"#EBF0F8\"},\"line\":{\"color\":\"white\"}},\"header\":{\"fill\":{\"color\":\"#C8D4E3\"},\"line\":{\"color\":\"white\"}},\"type\":\"table\"}],\"barpolar\":[{\"marker\":{\"line\":{\"color\":\"#E5ECF6\",\"width\":0.5},\"pattern\":{\"fillmode\":\"overlay\",\"size\":10,\"solidity\":0.2}},\"type\":\"barpolar\"}],\"pie\":[{\"automargin\":true,\"type\":\"pie\"}]},\"layout\":{\"autotypenumbers\":\"strict\",\"colorway\":[\"#636efa\",\"#EF553B\",\"#00cc96\",\"#ab63fa\",\"#FFA15A\",\"#19d3f3\",\"#FF6692\",\"#B6E880\",\"#FF97FF\",\"#FECB52\"],\"font\":{\"color\":\"#2a3f5f\"},\"hovermode\":\"closest\",\"hoverlabel\":{\"align\":\"left\"},\"paper_bgcolor\":\"white\",\"plot_bgcolor\":\"#E5ECF6\",\"polar\":{\"bgcolor\":\"#E5ECF6\",\"angularaxis\":{\"gridcolor\":\"white\",\"linecolor\":\"white\",\"ticks\":\"\"},\"radialaxis\":{\"gridcolor\":\"white\",\"linecolor\":\"white\",\"ticks\":\"\"}},\"ternary\":{\"bgcolor\":\"#E5ECF6\",\"aaxis\":{\"gridcolor\":\"white\",\"linecolor\":\"white\",\"ticks\":\"\"},\"baxis\":{\"gridcolor\":\"white\",\"linecolor\":\"white\",\"ticks\":\"\"},\"caxis\":{\"gridcolor\":\"white\",\"linecolor\":\"white\",\"ticks\":\"\"}},\"coloraxis\":{\"colorbar\":{\"outlinewidth\":0,\"ticks\":\"\"}},\"colorscale\":{\"sequential\":[[0.0,\"#0d0887\"],[0.1111111111111111,\"#46039f\"],[0.2222222222222222,\"#7201a8\"],[0.3333333333333333,\"#9c179e\"],[0.4444444444444444,\"#bd3786\"],[0.5555555555555556,\"#d8576b\"],[0.6666666666666666,\"#ed7953\"],[0.7777777777777778,\"#fb9f3a\"],[0.8888888888888888,\"#fdca26\"],[1.0,\"#f0f921\"]],\"sequentialminus\":[[0.0,\"#0d0887\"],[0.1111111111111111,\"#46039f\"],[0.2222222222222222,\"#7201a8\"],[0.3333333333333333,\"#9c179e\"],[0.4444444444444444,\"#bd3786\"],[0.5555555555555556,\"#d8576b\"],[0.6666666666666666,\"#ed7953\"],[0.7777777777777778,\"#fb9f3a\"],[0.8888888888888888,\"#fdca26\"],[1.0,\"#f0f921\"]],\"diverging\":[[0,\"#8e0152\"],[0.1,\"#c51b7d\"],[0.2,\"#de77ae\"],[0.3,\"#f1b6da\"],[0.4,\"#fde0ef\"],[0.5,\"#f7f7f7\"],[0.6,\"#e6f5d0\"],[0.7,\"#b8e186\"],[0.8,\"#7fbc41\"],[0.9,\"#4d9221\"],[1,\"#276419\"]]},\"xaxis\":{\"gridcolor\":\"white\",\"linecolor\":\"white\",\"ticks\":\"\",\"title\":{\"standoff\":15},\"zerolinecolor\":\"white\",\"automargin\":true,\"zerolinewidth\":2},\"yaxis\":{\"gridcolor\":\"white\",\"linecolor\":\"white\",\"ticks\":\"\",\"title\":{\"standoff\":15},\"zerolinecolor\":\"white\",\"automargin\":true,\"zerolinewidth\":2},\"scene\":{\"xaxis\":{\"backgroundcolor\":\"#E5ECF6\",\"gridcolor\":\"white\",\"linecolor\":\"white\",\"showbackground\":true,\"ticks\":\"\",\"zerolinecolor\":\"white\",\"gridwidth\":2},\"yaxis\":{\"backgroundcolor\":\"#E5ECF6\",\"gridcolor\":\"white\",\"linecolor\":\"white\",\"showbackground\":true,\"ticks\":\"\",\"zerolinecolor\":\"white\",\"gridwidth\":2},\"zaxis\":{\"backgroundcolor\":\"#E5ECF6\",\"gridcolor\":\"white\",\"linecolor\":\"white\",\"showbackground\":true,\"ticks\":\"\",\"zerolinecolor\":\"white\",\"gridwidth\":2}},\"shapedefaults\":{\"line\":{\"color\":\"#2a3f5f\"}},\"annotationdefaults\":{\"arrowcolor\":\"#2a3f5f\",\"arrowhead\":0,\"arrowwidth\":1},\"geo\":{\"bgcolor\":\"white\",\"landcolor\":\"#E5ECF6\",\"subunitcolor\":\"white\",\"showland\":true,\"showlakes\":true,\"lakecolor\":\"white\"},\"title\":{\"x\":0.05},\"mapbox\":{\"style\":\"light\"}}},\"legend\":{\"tracegroupgap\":0},\"title\":{\"text\":\"Developer Genre\",\"x\":0.5},\"coloraxis\":{\"colorbar\":{\"x\":-0.3}},\"margin\":{\"r\":200},\"width\":700},                        {\"responsive\": true}                    ).then(function(){\n",
       "                            \n",
       "var gd = document.getElementById('7f2b37bb-f89e-4edb-b0d6-2cbcce6b4bf3');\n",
       "var x = new MutationObserver(function (mutations, observer) {{\n",
       "        var display = window.getComputedStyle(gd).display;\n",
       "        if (!display || display === 'none') {{\n",
       "            console.log([gd, 'removed!']);\n",
       "            Plotly.purge(gd);\n",
       "            observer.disconnect();\n",
       "        }}\n",
       "}});\n",
       "\n",
       "// Listen for the removal of the full notebook cells\n",
       "var notebookContainer = gd.closest('#notebook-container');\n",
       "if (notebookContainer) {{\n",
       "    x.observe(notebookContainer, {childList: true});\n",
       "}}\n",
       "\n",
       "// Listen for the clearing of the current output cell\n",
       "var outputEl = gd.closest('.output');\n",
       "if (outputEl) {{\n",
       "    x.observe(outputEl, {childList: true});\n",
       "}}\n",
       "\n",
       "                        })                };                            </script>        </div>\n",
       "</body>\n",
       "</html>"
      ]
     },
     "metadata": {},
     "output_type": "display_data"
    }
   ],
   "source": [
    "figx1 = px.parallel_categories(paid_apps_df.sort_values(by='Revenue',ascending=False).head(30), \n",
    "                              dimensions=['Developer','Revenue'],\n",
    "                            \n",
    "                              labels={'Content_Rating':'Age+',\n",
    "                                      'Primary_Genre':'Category',\n",
    "                                      'Revenue':'Earnings ($)'},\n",
    "                              title= \"Developer Earnings\")\n",
    "figx1.update_layout(coloraxis_colorbar_x=-0.3, \n",
    "                   title_x=0.5, \n",
    "                   margin=dict(r=100,l=200), width= 700)\n",
    "figx2 = px.parallel_categories(paid_apps_df.sort_values(by='Revenue',ascending=False).head(30), \n",
    "                              dimensions=['Primary_Genre','Developer'],\n",
    "                              \n",
    "                              labels={'Content_Rating':'Age+',\n",
    "                                      'Primary_Genre':'Category',\n",
    "                                      'Revenue':'Earnings ($)'},\n",
    "                              title= \"Developer Genre\")\n",
    "figx2.update_layout(coloraxis_colorbar_x=-0.3,title_x=0.5, \n",
    "                   margin=dict(r=200), width= 700)\n",
    "\n",
    "figx3 = px.parallel_categories(paid_apps_df.sort_values(by='Revenue',ascending=False).head(30), \n",
    "                              dimensions=['Content_Rating','Developer'],\n",
    "                              color='User Rating',\n",
    "                              color_continuous_scale=px.colors.diverging.BrBG,\n",
    "                              labels={'Content_Rating':'Age+',\n",
    "                                      'Primary_Genre':'Category',\n",
    "                                      'Revenue':'Earnings ($)'},\n",
    "                              title= \"Developer Content Rating\")\n",
    "figx3.update_layout(coloraxis_colorbar_x=-0.3, \n",
    "                   title_x=0.5, \n",
    "                   margin=dict(r=200,l=150), width= 700)\n",
    "figx1.show()\n",
    "figx3.show()\n",
    "figx2.show()"
   ]
  },
  {
   "cell_type": "markdown",
   "metadata": {
    "id": "OzI_LkKxSj0h"
   },
   "source": [
    "> Mojang game developer is the highest earner from paid apps and Minecraft app is the app that brought 3.4M USD\n",
    "\n",
    "> Second highest is Time Base Technology Limited with one app GoodNotes 5 having 1.5M USD.\n",
    "\n",
    "> Games an Productivity apps has more earnings compared to other categories.\n",
    "\n",
    "> Majority of the developers target their apps on Content Rating 4+ i.e to everyone. "
   ]
  },
  {
   "cell_type": "markdown",
   "metadata": {
    "id": "5Nfec9Dcnd0J"
   },
   "source": [
    "## Summary\n",
    "\n"
   ]
  },
  {
   "cell_type": "markdown",
   "metadata": {
    "id": "siy6Ez9jAH05"
   },
   "source": [
    "The Exploratory Data Analysis on Apple Appstore dataset is completed. Here are the outline's that we have followed:\n",
    "\n",
    "- Downloaded the dataset from Kaggle\n",
    "- Processed dirty data by cleaning, modifying to prepare a data frame ready for analysis.\n",
    "- Once done with data preprocessing started analyzing the data and got a good picture of it.\n",
    "- Asked and answered few interesting questions.\n",
    "\n",
    "> The following are the observations have been noticed during Exploratory Analysis:\n",
    "\n",
    "1. Google LLC, Instagram, Inc., Spotify Ltd., Voodoo, AMZN Mobile LLC, etc. are the top 5 developers with most popularity.\n",
    "\n",
    "2. The dominant apps from random top developers.\n",
    "a) Google LLC: Youtube, b) Disney: My Disney Experience, c) Microsoft:Teams, d) Voodoo: Hole.io, e) Amazon: AMZN shopping, f) Lion Studio: Match 3D \n",
    "\n",
    "3. Small Apps have more users. No of small sized apps are huge compared to large and medium. Although Medium sized apps are few, but user percentage is good.\n",
    "\n",
    "4. 2009 to 2012 have is steady growth with 100M users yearly and dropped heavily in 2013 by 30M users. 2013-2020 had ups and downs(mostly downs). In the year 2020 and 2021 there has been a massive drop in users and app releases across all the categories it is possible that might be the effect of COVID-19.\n",
    "\n",
    "5. Majority of the apps has been added in between IOS 8-12 across all categories. Games started rising from IOS 6 with 23+ thousand apps.\n",
    "\n",
    "6. Seems like there are only 8.2% of paid apps present in 19.3 lakh applications. Roblox has 6 million users in free apps. Minecraft is the most selling app and have around 500 thousand users.\n",
    "\n",
    "7. Overall there is an excess number of participants in medium sized games with 32 million gamers.\n",
    "\n",
    "8. Chownow has published 3699 apps in total.\n",
    "\n",
    "9. Mojang: Minecraft (3.4M USD), Time Base Technology Limited: GoodNotes 5 (1.5M USD), Piksoft Inc,:TurboScan™ Pro: PDF scanner(1.4M USD), Ginger Labs: Notability(1.3M USD), Shotzoom Software: Golfshot Plus (1.2M USD). Majority of the developers target their apps on Content Rating 4+ i.e to everyone.\n",
    "\n",
    " \n",
    "\n",
    "\n"
   ]
  },
  {
   "cell_type": "markdown",
   "metadata": {
    "id": "J9zW-3d-F2pF"
   },
   "source": [
    "## Future work\n",
    "\n",
    "- Interesting analysis can be done by comparing Google playstore and Apple appstore.\n",
    "\n",
    "- I am planning to do a prediction on success of the app from appstore."
   ]
  },
  {
   "cell_type": "markdown",
   "metadata": {
    "id": "NYWUBUvmnhPy"
   },
   "source": [
    "## References\n",
    "\n",
    "Apple AppStore Dataset : https://www.kaggle.com/datasets/gauthamp10/apple-appstore-apps\n",
    "\n",
    "What is Exploratory Data Analysis : https://en.wikipedia.org/wiki/Exploratory_data_analysis\n",
    "\n",
    "Pandas Documentation: https://pandas.pydata.org/docs/user_guide/index.html\n",
    "\n",
    "Properties of update_layout: https://plotly.com/python/reference/layout/\n",
    "\n",
    "Plotly Gallery: https://plotly.com/python/\n",
    "\n",
    "Seaborn gallery: https://seaborn.pydata.org/examples/index.html\n",
    "\n",
    "Matplotlib gallery: https://matplotlib.org/3.1.1/gallery/index.html\n"
   ]
  },
  {
   "cell_type": "markdown",
   "metadata": {
    "id": "4gqvE5nRgd6h"
   },
   "source": [
    "## Follow Me\n",
    "\n",
    "[LinkedIn](https://www.linkedin.com/in/pratulot/)  --  [Medium](https://medium.com/@pratulofficialthings)  --  [GitHub](https://github.com/pratulot)\n"
   ]
  },
  {
   "cell_type": "markdown",
   "metadata": {
    "id": "5eNRn67iQ75o"
   },
   "source": [
    "  >"
   ]
  },
  {
   "cell_type": "markdown",
   "metadata": {
    "id": "UGthluUOJNCp"
   },
   "source": [
    "Saving work on my Jovian profile"
   ]
  },
  {
   "cell_type": "code",
   "execution_count": null,
   "metadata": {
    "colab": {
     "base_uri": "https://localhost:8080/"
    },
    "id": "5myNfflfd5BK",
    "outputId": "ff64d374-53e1-4046-ee4a-d0db79b64305"
   },
   "outputs": [
    {
     "name": "stdout",
     "output_type": "stream",
     "text": [
      "[jovian] Detected Colab notebook...\u001b[0m\n",
      "[jovian] Please enter your API key ( from https://jovian.ai/ ):\u001b[0m\n",
      "API KEY: "
     ]
    }
   ],
   "source": [
    "# Execute this to save new versions of the notebook\n",
    "jovian.commit(project=\"apple-appstore-eda\")\n",
    "#jovian.commit(files=\"iphone_models_list.csv\")"
   ]
  },
  {
   "cell_type": "code",
   "execution_count": 142,
   "metadata": {
    "executionInfo": {
     "elapsed": 45,
     "status": "ok",
     "timestamp": 1662733581936,
     "user": {
      "displayName": "Pratul Chandra",
      "userId": "06160049637809107783"
     },
     "user_tz": -330
    },
    "id": "AKdC9NIMJvnz"
   },
   "outputs": [],
   "source": []
  }
 ],
 "metadata": {
  "colab": {
   "provenance": [],
   "toc_visible": true
  },
  "kernelspec": {
   "display_name": "Python 3",
   "language": "python",
   "name": "python3"
  },
  "language_info": {
   "codemirror_mode": {
    "name": "ipython",
    "version": 3
   },
   "file_extension": ".py",
   "mimetype": "text/x-python",
   "name": "python",
   "nbconvert_exporter": "python",
   "pygments_lexer": "ipython3",
   "version": "3.7.6"
  }
 },
 "nbformat": 4,
 "nbformat_minor": 0
}