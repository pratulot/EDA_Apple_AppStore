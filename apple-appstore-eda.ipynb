{
 "cells": [
  {
   "cell_type": "markdown",
   "metadata": {
    "id": "qcuq1Rufd5BB"
   },
   "source": [
    "# Exploratory Data Analysis on Apple's Appstore Data \n",
    "![](https://i.imgur.com/2bpcKS8.jpg)\n",
    "The [App Store](https://en.wikipedia.org/wiki/App_Store_(iOS/iPadOS)) is an app store platform, developed and maintained by Apple Inc., for mobile apps on its iOS and iPadOS operating systems. The store allows users to browse and download approved apps developed within Apple's iOS Software Development Kit.\n",
    "\n",
    "The project is about process of exploring, investigating and gathering insights from data using statistical measures and visualizations. Various techniques of exploratory and predictive analysis can help businesses structure and recalibrate their pricing, marketing and inventory strategies in real-time. The libraries used in this project are Pandas, Seaborn, Plotly and Matplotlib."
   ]
  },
  {
   "cell_type": "markdown",
   "metadata": {
    "id": "uSZEQmH5jo7u"
   },
   "source": [
    "Here's the outline of the project:\n",
    "\n",
    "1. Download the data\n",
    "2. Data preperation and cleaning\n",
    "3. Data Analysis and visualizing.\n",
    "4. Questioning & Answering\n",
    "5. Summary\n",
    "6. Future work\n",
    "6. References"
   ]
  },
  {
   "cell_type": "markdown",
   "metadata": {
    "id": "JWL04mZJeA6i"
   },
   "source": [
    "## -> Downloading the data."
   ]
  },
  {
   "cell_type": "markdown",
   "metadata": {
    "id": "olwVa164lmLw"
   },
   "source": [
    "I found [Apple Appstore Dataset](https://www.kaggle.com/datasets/gauthamp10/apple-appstore-apps) on kaggle containing 1.2+ million app data from 2008 - 2021.\n",
    "\n",
    "The data is catogarized into 21 columns:-\n",
    "\n",
    "1. `App_Id`: Each application that is listed has a unique id.\n",
    "2. `App_Name`: Contains application name.\n",
    "3. `Appstore_URL`: Link to visit app in appstore.\n",
    "4. `Primary_Genre`: Contains application genre(catagory).\n",
    "5. `Content_Rating`: Contains age limit for each app.\n",
    "6. `Size_Bytes`: Application size in bytes.\n",
    "7. `Required_IOS_Version`: Contains required IOS version to download the app.\n",
    "8. `Released`: When was the app released (Year, month, date, time).\n",
    "9. `Updated`: Latest update of the app (Year, month, date, time).\n",
    "10. `Version`: Version of the app.\n",
    "11. `Price`: Pricce of the app.\n",
    "12. `Currency`: What is the currency of the price.\n",
    "13. `Free`: Contains info about the app is free or paid. \n",
    "14. `DeveloperId`: Each developer that is listed has a unique id.\n",
    "15. `Developer`: Contains developer name.\n",
    "16. `Developer_Url`: Contains link to the developer site.\n",
    "17. `Developer_Website`: Contains link to the developer site.\n",
    "18. `Average_User_Rating`: Average user rating of the app.\n",
    "19. `Reviews`: Total number of of reviews.\n",
    "20. `Current_Version_Score`: Current version rating.\n",
    "21. `Current_Version_Reviews`: Current version reviews.\n",
    "\n",
    "Let's start by downloading the dataset"
   ]
  },
  {
   "cell_type": "code",
   "execution_count": 1,
   "metadata": {
    "executionInfo": {
     "elapsed": 5697,
     "status": "ok",
     "timestamp": 1662574981420,
     "user": {
      "displayName": "Pratul Chandra",
      "userId": "06160049637809107783"
     },
     "user_tz": -330
    },
    "id": "FnquqigFkA3D"
   },
   "outputs": [],
   "source": [
    "# Opendatasets is a Python library for downloading datasets from online sources like Kaggle and Google Drive using a simple Python command.\n",
    "!pip install opendatasets --upgrade --quiet "
   ]
  },
  {
   "cell_type": "code",
   "execution_count": 2,
   "metadata": {
    "colab": {
     "base_uri": "https://localhost:8080/"
    },
    "executionInfo": {
     "elapsed": 166924,
     "status": "ok",
     "timestamp": 1662575148317,
     "user": {
      "displayName": "Pratul Chandra",
      "userId": "06160049637809107783"
     },
     "user_tz": -330
    },
    "id": "czKfu9MdkAzr",
    "outputId": "011e9315-8803-4704-ed49-1a537e9c1fa7"
   },
   "outputs": [
    {
     "name": "stdout",
     "output_type": "stream",
     "text": [
      "Please provide your Kaggle credentials to download this dataset. Learn more: http://bit.ly/kaggle-creds\n",
      "Your Kaggle username: pratulperla\n",
      "Your Kaggle Key: ··········\n",
      "Downloading apple-appstore-apps.zip to ./apple-appstore-apps\n"
     ]
    },
    {
     "name": "stderr",
     "output_type": "stream",
     "text": [
      "100%|██████████| 117M/117M [00:00<00:00, 129MB/s]"
     ]
    },
    {
     "name": "stdout",
     "output_type": "stream",
     "text": [
      "\n"
     ]
    },
    {
     "name": "stderr",
     "output_type": "stream",
     "text": [
      "\n"
     ]
    }
   ],
   "source": [
    "import opendatasets\n",
    "opendatasets.download('https://www.kaggle.com/datasets/gauthamp10/apple-appstore-apps')"
   ]
  },
  {
   "cell_type": "code",
   "execution_count": 3,
   "metadata": {
    "executionInfo": {
     "elapsed": 13,
     "status": "ok",
     "timestamp": 1662575148321,
     "user": {
      "displayName": "Pratul Chandra",
      "userId": "06160049637809107783"
     },
     "user_tz": -330
    },
    "id": "FX-eDyWJkAw4"
   },
   "outputs": [],
   "source": [
    "data_filename= './apple-appstore-apps/appleAppData.csv' "
   ]
  },
  {
   "cell_type": "markdown",
   "metadata": {
    "id": "58R7qL1YndU1"
   },
   "source": [
    "## -> Data preperation and Cleaning.\n",
    "\n",
    "The quality of data is the most crucial element of any business intelligence strategy. Data cleaning is the process of fixing or removing incorrect, corrupted, incorrectly formatted, duplicate, or incomplete data within a dataset.\n"
   ]
  },
  {
   "cell_type": "code",
   "execution_count": 4,
   "metadata": {
    "executionInfo": {
     "elapsed": 13,
     "status": "ok",
     "timestamp": 1662575148322,
     "user": {
      "displayName": "Pratul Chandra",
      "userId": "06160049637809107783"
     },
     "user_tz": -330
    },
    "id": "BIzIeqLZkAua"
   },
   "outputs": [],
   "source": [
    "#Pandas is a fast, powerful, flexible and easy to use open source data analysis and manipulation tool, built on top of the Python programming language.\n",
    "import pandas as pd"
   ]
  },
  {
   "cell_type": "markdown",
   "metadata": {
    "id": "AqO59YXdl9bz"
   },
   "source": [
    "Creating a copy of the dataset just in case."
   ]
  },
  {
   "cell_type": "code",
   "execution_count": 5,
   "metadata": {
    "executionInfo": {
     "elapsed": 16556,
     "status": "ok",
     "timestamp": 1662575164866,
     "user": {
      "displayName": "Pratul Chandra",
      "userId": "06160049637809107783"
     },
     "user_tz": -330
    },
    "id": "ZWrAt7CmkAsc"
   },
   "outputs": [],
   "source": [
    "df_backedup= pd.read_csv(data_filename)\n",
    "df=df_backedup.copy()"
   ]
  },
  {
   "cell_type": "markdown",
   "metadata": {
    "id": "1bKMP-81mHFY"
   },
   "source": [
    "This how the data looks like"
   ]
  },
  {
   "cell_type": "code",
   "execution_count": 6,
   "metadata": {
    "colab": {
     "base_uri": "https://localhost:8080/",
     "height": 324
    },
    "executionInfo": {
     "elapsed": 26,
     "status": "ok",
     "timestamp": 1662575164869,
     "user": {
      "displayName": "Pratul Chandra",
      "userId": "06160049637809107783"
     },
     "user_tz": -330
    },
    "id": "PaAEnF96r4O5",
    "outputId": "a1a66e04-ff88-4428-ef5d-e70fcc830964"
   },
   "outputs": [
    {
     "data": {
      "text/html": [
       "\n",
       "  <div id=\"df-a05c9577-6779-43ea-8758-404a26c024e5\">\n",
       "    <div class=\"colab-df-container\">\n",
       "      <div>\n",
       "<style scoped>\n",
       "    .dataframe tbody tr th:only-of-type {\n",
       "        vertical-align: middle;\n",
       "    }\n",
       "\n",
       "    .dataframe tbody tr th {\n",
       "        vertical-align: top;\n",
       "    }\n",
       "\n",
       "    .dataframe thead th {\n",
       "        text-align: right;\n",
       "    }\n",
       "</style>\n",
       "<table border=\"1\" class=\"dataframe\">\n",
       "  <thead>\n",
       "    <tr style=\"text-align: right;\">\n",
       "      <th></th>\n",
       "      <th>App_Id</th>\n",
       "      <th>App_Name</th>\n",
       "      <th>AppStore_Url</th>\n",
       "      <th>Primary_Genre</th>\n",
       "      <th>Content_Rating</th>\n",
       "      <th>Size_Bytes</th>\n",
       "      <th>Required_IOS_Version</th>\n",
       "      <th>Released</th>\n",
       "      <th>Updated</th>\n",
       "      <th>Version</th>\n",
       "      <th>...</th>\n",
       "      <th>Currency</th>\n",
       "      <th>Free</th>\n",
       "      <th>DeveloperId</th>\n",
       "      <th>Developer</th>\n",
       "      <th>Developer_Url</th>\n",
       "      <th>Developer_Website</th>\n",
       "      <th>Average_User_Rating</th>\n",
       "      <th>Reviews</th>\n",
       "      <th>Current_Version_Score</th>\n",
       "      <th>Current_Version_Reviews</th>\n",
       "    </tr>\n",
       "  </thead>\n",
       "  <tbody>\n",
       "    <tr>\n",
       "      <th>80993</th>\n",
       "      <td>com.armygamestudio.stars.anatomys</td>\n",
       "      <td>U.S. Army STARS Anatomy</td>\n",
       "      <td>https://apps.apple.com/us/app/u-s-army-stars-a...</td>\n",
       "      <td>Education</td>\n",
       "      <td>4+</td>\n",
       "      <td>351385600.0</td>\n",
       "      <td>11.0</td>\n",
       "      <td>2019-09-16T07:00:00Z</td>\n",
       "      <td>2020-02-04T16:11:52Z</td>\n",
       "      <td>1.0.3</td>\n",
       "      <td>...</td>\n",
       "      <td>USD</td>\n",
       "      <td>True</td>\n",
       "      <td>540858534</td>\n",
       "      <td>Army Game Studio</td>\n",
       "      <td>https://apps.apple.com/us/developer/army-game-...</td>\n",
       "      <td>https://usarmystars.com/</td>\n",
       "      <td>5.00000</td>\n",
       "      <td>3</td>\n",
       "      <td>5.00000</td>\n",
       "      <td>3</td>\n",
       "    </tr>\n",
       "    <tr>\n",
       "      <th>820858</th>\n",
       "      <td>com.subsplashconsulting.8K9MDQ</td>\n",
       "      <td>DIF Seattle App</td>\n",
       "      <td>https://apps.apple.com/us/app/dif-seattle-app/...</td>\n",
       "      <td>Lifestyle</td>\n",
       "      <td>4+</td>\n",
       "      <td>28358656.0</td>\n",
       "      <td>12.2</td>\n",
       "      <td>2021-06-04T07:00:00Z</td>\n",
       "      <td>2021-10-09T14:10:53Z</td>\n",
       "      <td>5.16.0</td>\n",
       "      <td>...</td>\n",
       "      <td>USD</td>\n",
       "      <td>True</td>\n",
       "      <td>1570914938</td>\n",
       "      <td>Damascus Baptist Church</td>\n",
       "      <td>https://apps.apple.com/us/developer/damascus-b...</td>\n",
       "      <td>https://subsplash.com</td>\n",
       "      <td>0.00000</td>\n",
       "      <td>0</td>\n",
       "      <td>0.00000</td>\n",
       "      <td>0</td>\n",
       "    </tr>\n",
       "    <tr>\n",
       "      <th>982723</th>\n",
       "      <td>com.RaceRenderLLC.TrackAddict</td>\n",
       "      <td>TrackAddict Pro</td>\n",
       "      <td>https://apps.apple.com/us/app/trackaddict-pro/...</td>\n",
       "      <td>Sports</td>\n",
       "      <td>4+</td>\n",
       "      <td>33491968.0</td>\n",
       "      <td>10.0</td>\n",
       "      <td>2011-12-21T17:31:03Z</td>\n",
       "      <td>2021-08-13T02:40:51Z</td>\n",
       "      <td>4.7.1</td>\n",
       "      <td>...</td>\n",
       "      <td>USD</td>\n",
       "      <td>False</td>\n",
       "      <td>490135962</td>\n",
       "      <td>RaceRender LLC</td>\n",
       "      <td>https://apps.apple.com/us/developer/racerender...</td>\n",
       "      <td>http://RaceRender.com/TrackAddict</td>\n",
       "      <td>4.53892</td>\n",
       "      <td>167</td>\n",
       "      <td>4.53892</td>\n",
       "      <td>167</td>\n",
       "    </tr>\n",
       "  </tbody>\n",
       "</table>\n",
       "<p>3 rows × 21 columns</p>\n",
       "</div>\n",
       "      <button class=\"colab-df-convert\" onclick=\"convertToInteractive('df-a05c9577-6779-43ea-8758-404a26c024e5')\"\n",
       "              title=\"Convert this dataframe to an interactive table.\"\n",
       "              style=\"display:none;\">\n",
       "        \n",
       "  <svg xmlns=\"http://www.w3.org/2000/svg\" height=\"24px\"viewBox=\"0 0 24 24\"\n",
       "       width=\"24px\">\n",
       "    <path d=\"M0 0h24v24H0V0z\" fill=\"none\"/>\n",
       "    <path d=\"M18.56 5.44l.94 2.06.94-2.06 2.06-.94-2.06-.94-.94-2.06-.94 2.06-2.06.94zm-11 1L8.5 8.5l.94-2.06 2.06-.94-2.06-.94L8.5 2.5l-.94 2.06-2.06.94zm10 10l.94 2.06.94-2.06 2.06-.94-2.06-.94-.94-2.06-.94 2.06-2.06.94z\"/><path d=\"M17.41 7.96l-1.37-1.37c-.4-.4-.92-.59-1.43-.59-.52 0-1.04.2-1.43.59L10.3 9.45l-7.72 7.72c-.78.78-.78 2.05 0 2.83L4 21.41c.39.39.9.59 1.41.59.51 0 1.02-.2 1.41-.59l7.78-7.78 2.81-2.81c.8-.78.8-2.07 0-2.86zM5.41 20L4 18.59l7.72-7.72 1.47 1.35L5.41 20z\"/>\n",
       "  </svg>\n",
       "      </button>\n",
       "      \n",
       "  <style>\n",
       "    .colab-df-container {\n",
       "      display:flex;\n",
       "      flex-wrap:wrap;\n",
       "      gap: 12px;\n",
       "    }\n",
       "\n",
       "    .colab-df-convert {\n",
       "      background-color: #E8F0FE;\n",
       "      border: none;\n",
       "      border-radius: 50%;\n",
       "      cursor: pointer;\n",
       "      display: none;\n",
       "      fill: #1967D2;\n",
       "      height: 32px;\n",
       "      padding: 0 0 0 0;\n",
       "      width: 32px;\n",
       "    }\n",
       "\n",
       "    .colab-df-convert:hover {\n",
       "      background-color: #E2EBFA;\n",
       "      box-shadow: 0px 1px 2px rgba(60, 64, 67, 0.3), 0px 1px 3px 1px rgba(60, 64, 67, 0.15);\n",
       "      fill: #174EA6;\n",
       "    }\n",
       "\n",
       "    [theme=dark] .colab-df-convert {\n",
       "      background-color: #3B4455;\n",
       "      fill: #D2E3FC;\n",
       "    }\n",
       "\n",
       "    [theme=dark] .colab-df-convert:hover {\n",
       "      background-color: #434B5C;\n",
       "      box-shadow: 0px 1px 3px 1px rgba(0, 0, 0, 0.15);\n",
       "      filter: drop-shadow(0px 1px 2px rgba(0, 0, 0, 0.3));\n",
       "      fill: #FFFFFF;\n",
       "    }\n",
       "  </style>\n",
       "\n",
       "      <script>\n",
       "        const buttonEl =\n",
       "          document.querySelector('#df-a05c9577-6779-43ea-8758-404a26c024e5 button.colab-df-convert');\n",
       "        buttonEl.style.display =\n",
       "          google.colab.kernel.accessAllowed ? 'block' : 'none';\n",
       "\n",
       "        async function convertToInteractive(key) {\n",
       "          const element = document.querySelector('#df-a05c9577-6779-43ea-8758-404a26c024e5');\n",
       "          const dataTable =\n",
       "            await google.colab.kernel.invokeFunction('convertToInteractive',\n",
       "                                                     [key], {});\n",
       "          if (!dataTable) return;\n",
       "\n",
       "          const docLinkHtml = 'Like what you see? Visit the ' +\n",
       "            '<a target=\"_blank\" href=https://colab.research.google.com/notebooks/data_table.ipynb>data table notebook</a>'\n",
       "            + ' to learn more about interactive tables.';\n",
       "          element.innerHTML = '';\n",
       "          dataTable['output_type'] = 'display_data';\n",
       "          await google.colab.output.renderOutput(dataTable, element);\n",
       "          const docLink = document.createElement('div');\n",
       "          docLink.innerHTML = docLinkHtml;\n",
       "          element.appendChild(docLink);\n",
       "        }\n",
       "      </script>\n",
       "    </div>\n",
       "  </div>\n",
       "  "
      ],
      "text/plain": [
       "                                   App_Id                 App_Name  \\\n",
       "80993   com.armygamestudio.stars.anatomys  U.S. Army STARS Anatomy   \n",
       "820858     com.subsplashconsulting.8K9MDQ          DIF Seattle App   \n",
       "982723      com.RaceRenderLLC.TrackAddict          TrackAddict Pro   \n",
       "\n",
       "                                             AppStore_Url Primary_Genre  \\\n",
       "80993   https://apps.apple.com/us/app/u-s-army-stars-a...     Education   \n",
       "820858  https://apps.apple.com/us/app/dif-seattle-app/...     Lifestyle   \n",
       "982723  https://apps.apple.com/us/app/trackaddict-pro/...        Sports   \n",
       "\n",
       "       Content_Rating   Size_Bytes Required_IOS_Version              Released  \\\n",
       "80993              4+  351385600.0                 11.0  2019-09-16T07:00:00Z   \n",
       "820858             4+   28358656.0                 12.2  2021-06-04T07:00:00Z   \n",
       "982723             4+   33491968.0                 10.0  2011-12-21T17:31:03Z   \n",
       "\n",
       "                     Updated Version  ...  Currency   Free  DeveloperId  \\\n",
       "80993   2020-02-04T16:11:52Z   1.0.3  ...       USD   True    540858534   \n",
       "820858  2021-10-09T14:10:53Z  5.16.0  ...       USD   True   1570914938   \n",
       "982723  2021-08-13T02:40:51Z   4.7.1  ...       USD  False    490135962   \n",
       "\n",
       "                      Developer  \\\n",
       "80993          Army Game Studio   \n",
       "820858  Damascus Baptist Church   \n",
       "982723           RaceRender LLC   \n",
       "\n",
       "                                            Developer_Url  \\\n",
       "80993   https://apps.apple.com/us/developer/army-game-...   \n",
       "820858  https://apps.apple.com/us/developer/damascus-b...   \n",
       "982723  https://apps.apple.com/us/developer/racerender...   \n",
       "\n",
       "                        Developer_Website Average_User_Rating  Reviews  \\\n",
       "80993            https://usarmystars.com/             5.00000        3   \n",
       "820858              https://subsplash.com             0.00000        0   \n",
       "982723  http://RaceRender.com/TrackAddict             4.53892      167   \n",
       "\n",
       "        Current_Version_Score  Current_Version_Reviews  \n",
       "80993                 5.00000                        3  \n",
       "820858                0.00000                        0  \n",
       "982723                4.53892                      167  \n",
       "\n",
       "[3 rows x 21 columns]"
      ]
     },
     "execution_count": 6,
     "metadata": {},
     "output_type": "execute_result"
    }
   ],
   "source": [
    "df.sample(3)"
   ]
  },
  {
   "cell_type": "code",
   "execution_count": 7,
   "metadata": {
    "colab": {
     "base_uri": "https://localhost:8080/"
    },
    "executionInfo": {
     "elapsed": 23,
     "status": "ok",
     "timestamp": 1662575164871,
     "user": {
      "displayName": "Pratul Chandra",
      "userId": "06160049637809107783"
     },
     "user_tz": -330
    },
    "id": "mTKLQM6fqGfW",
    "outputId": "53b8238b-f19d-40c2-ad55-99e5eebaf7fd"
   },
   "outputs": [
    {
     "data": {
      "text/plain": [
       "(1230376, 21)"
      ]
     },
     "execution_count": 7,
     "metadata": {},
     "output_type": "execute_result"
    }
   ],
   "source": [
    "# Shape of the Dataset\n",
    "# Rows :  1230376 ; Columns : 21\n",
    "df.shape"
   ]
  },
  {
   "cell_type": "code",
   "execution_count": 8,
   "metadata": {
    "colab": {
     "base_uri": "https://localhost:8080/"
    },
    "executionInfo": {
     "elapsed": 2068,
     "status": "ok",
     "timestamp": 1662575166924,
     "user": {
      "displayName": "Pratul Chandra",
      "userId": "06160049637809107783"
     },
     "user_tz": -330
    },
    "id": "6JjiKJR2kAqc",
    "outputId": "e5d829da-011f-4996-b900-c84dbadfd782"
   },
   "outputs": [
    {
     "name": "stdout",
     "output_type": "stream",
     "text": [
      "<class 'pandas.core.frame.DataFrame'>\n",
      "RangeIndex: 1230376 entries, 0 to 1230375\n",
      "Data columns (total 21 columns):\n",
      " #   Column                   Non-Null Count    Dtype  \n",
      "---  ------                   --------------    -----  \n",
      " 0   App_Id                   1230376 non-null  object \n",
      " 1   App_Name                 1230375 non-null  object \n",
      " 2   AppStore_Url             1230376 non-null  object \n",
      " 3   Primary_Genre            1230376 non-null  object \n",
      " 4   Content_Rating           1230376 non-null  object \n",
      " 5   Size_Bytes               1230152 non-null  float64\n",
      " 6   Required_IOS_Version     1230376 non-null  object \n",
      " 7   Released                 1230373 non-null  object \n",
      " 8   Updated                  1230376 non-null  object \n",
      " 9   Version                  1230376 non-null  object \n",
      " 10  Price                    1229886 non-null  float64\n",
      " 11  Currency                 1230376 non-null  object \n",
      " 12  Free                     1230376 non-null  bool   \n",
      " 13  DeveloperId              1230376 non-null  int64  \n",
      " 14  Developer                1230376 non-null  object \n",
      " 15  Developer_Url            1229267 non-null  object \n",
      " 16  Developer_Website        586388 non-null   object \n",
      " 17  Average_User_Rating      1230376 non-null  float64\n",
      " 18  Reviews                  1230376 non-null  int64  \n",
      " 19  Current_Version_Score    1230376 non-null  float64\n",
      " 20  Current_Version_Reviews  1230376 non-null  int64  \n",
      "dtypes: bool(1), float64(4), int64(3), object(13)\n",
      "memory usage: 188.9+ MB\n"
     ]
    }
   ],
   "source": [
    "df.info()"
   ]
  },
  {
   "cell_type": "markdown",
   "metadata": {
    "id": "A85D79LNmiXO"
   },
   "source": [
    "The data contains 4 float, 1 bool, 3 int and 13 objects i.e string formatted columns."
   ]
  },
  {
   "cell_type": "markdown",
   "metadata": {
    "id": "rs2Nv6gCmbUj"
   },
   "source": [
    "Checking for null/nan values."
   ]
  },
  {
   "cell_type": "code",
   "execution_count": 9,
   "metadata": {
    "colab": {
     "base_uri": "https://localhost:8080/"
    },
    "executionInfo": {
     "elapsed": 2570,
     "status": "ok",
     "timestamp": 1662575169488,
     "user": {
      "displayName": "Pratul Chandra",
      "userId": "06160049637809107783"
     },
     "user_tz": -330
    },
    "id": "HcGLuHxdqhtz",
    "outputId": "7ce3fcc7-c602-4602-9c5c-a514b4c44c4e"
   },
   "outputs": [
    {
     "data": {
      "text/plain": [
       "App_Id                          0\n",
       "App_Name                        1\n",
       "AppStore_Url                    0\n",
       "Primary_Genre                   0\n",
       "Content_Rating                  0\n",
       "Size_Bytes                    224\n",
       "Required_IOS_Version            0\n",
       "Released                        3\n",
       "Updated                         0\n",
       "Version                         0\n",
       "Price                         490\n",
       "Currency                        0\n",
       "Free                            0\n",
       "DeveloperId                     0\n",
       "Developer                       0\n",
       "Developer_Url                1109\n",
       "Developer_Website          643988\n",
       "Average_User_Rating             0\n",
       "Reviews                         0\n",
       "Current_Version_Score           0\n",
       "Current_Version_Reviews         0\n",
       "dtype: int64"
      ]
     },
     "execution_count": 9,
     "metadata": {},
     "output_type": "execute_result"
    }
   ],
   "source": [
    "df.isna().sum()"
   ]
  },
  {
   "cell_type": "markdown",
   "metadata": {
    "id": "e6D8O2DgnZF2"
   },
   "source": [
    "Droping the columns which are not used in this analysis"
   ]
  },
  {
   "cell_type": "code",
   "execution_count": 10,
   "metadata": {
    "executionInfo": {
     "elapsed": 13,
     "status": "ok",
     "timestamp": 1662575169490,
     "user": {
      "displayName": "Pratul Chandra",
      "userId": "06160049637809107783"
     },
     "user_tz": -330
    },
    "id": "PqsaGo62kAou"
   },
   "outputs": [],
   "source": [
    "removing_col = ['App_Id', 'AppStore_Url','Version','DeveloperId','Current_Version_Score',\n",
    "                'Current_Version_Reviews','Developer_Url','Developer_Website']\n",
    "df.drop(removing_col,axis=1,inplace=True)"
   ]
  },
  {
   "cell_type": "markdown",
   "metadata": {
    "id": "ZRcx_NwlnlQ_"
   },
   "source": [
    "Converting from the column app size in 'Bytes' into 'MegaBytes' and created new column and Rounding multiple decimal values into two."
   ]
  },
  {
   "cell_type": "code",
   "execution_count": 11,
   "metadata": {
    "executionInfo": {
     "elapsed": 13,
     "status": "ok",
     "timestamp": 1662575169491,
     "user": {
      "displayName": "Pratul Chandra",
      "userId": "06160049637809107783"
     },
     "user_tz": -330
    },
    "id": "qZn2adhXkAnG"
   },
   "outputs": [],
   "source": [
    "df['Size_MB']= round(df.Size_Bytes*0.000001, 2)\n",
    "df['Average_User_Rating']= round(df.Average_User_Rating, 2)"
   ]
  },
  {
   "cell_type": "markdown",
   "metadata": {
    "id": "qMXOmuBCn0yw"
   },
   "source": [
    "Now the 'Size_Bytes' column is no longer needed"
   ]
  },
  {
   "cell_type": "code",
   "execution_count": 12,
   "metadata": {
    "executionInfo": {
     "elapsed": 614,
     "status": "ok",
     "timestamp": 1662575170093,
     "user": {
      "displayName": "Pratul Chandra",
      "userId": "06160049637809107783"
     },
     "user_tz": -330
    },
    "id": "wT8CLWJokAdk"
   },
   "outputs": [],
   "source": [
    "df.drop('Size_Bytes',axis=1,inplace=True)"
   ]
  },
  {
   "cell_type": "markdown",
   "metadata": {
    "id": "KXfTtNZ5n4N5"
   },
   "source": [
    "Converting datatype of 'Released' and 'Updated' column to DateTime. Previously it was an object"
   ]
  },
  {
   "cell_type": "code",
   "execution_count": 13,
   "metadata": {
    "executionInfo": {
     "elapsed": 2886,
     "status": "ok",
     "timestamp": 1662575172976,
     "user": {
      "displayName": "Pratul Chandra",
      "userId": "06160049637809107783"
     },
     "user_tz": -330
    },
    "id": "OG12CJpykAbB"
   },
   "outputs": [],
   "source": [
    "df['Released']= pd.to_datetime(df['Released'])\n",
    "df['Updated']= pd.to_datetime(df['Updated'])"
   ]
  },
  {
   "cell_type": "markdown",
   "metadata": {
    "id": "k97l6i_wn_ue"
   },
   "source": [
    "Seems like the column as sum null values in it"
   ]
  },
  {
   "cell_type": "code",
   "execution_count": 14,
   "metadata": {
    "colab": {
     "base_uri": "https://localhost:8080/",
     "height": 312
    },
    "executionInfo": {
     "elapsed": 13,
     "status": "ok",
     "timestamp": 1662575172979,
     "user": {
      "displayName": "Pratul Chandra",
      "userId": "06160049637809107783"
     },
     "user_tz": -330
    },
    "id": "aaCmjO-QkAYJ",
    "outputId": "f3730e79-8e1e-49c1-c8f6-cf1fb245bd55"
   },
   "outputs": [
    {
     "data": {
      "text/html": [
       "\n",
       "  <div id=\"df-0f4d1662-1eed-499f-831c-4c84046ed42d\">\n",
       "    <div class=\"colab-df-container\">\n",
       "      <div>\n",
       "<style scoped>\n",
       "    .dataframe tbody tr th:only-of-type {\n",
       "        vertical-align: middle;\n",
       "    }\n",
       "\n",
       "    .dataframe tbody tr th {\n",
       "        vertical-align: top;\n",
       "    }\n",
       "\n",
       "    .dataframe thead th {\n",
       "        text-align: right;\n",
       "    }\n",
       "</style>\n",
       "<table border=\"1\" class=\"dataframe\">\n",
       "  <thead>\n",
       "    <tr style=\"text-align: right;\">\n",
       "      <th></th>\n",
       "      <th>App_Name</th>\n",
       "      <th>Primary_Genre</th>\n",
       "      <th>Content_Rating</th>\n",
       "      <th>Required_IOS_Version</th>\n",
       "      <th>Released</th>\n",
       "      <th>Updated</th>\n",
       "      <th>Price</th>\n",
       "      <th>Currency</th>\n",
       "      <th>Free</th>\n",
       "      <th>Developer</th>\n",
       "      <th>Average_User_Rating</th>\n",
       "      <th>Reviews</th>\n",
       "      <th>Size_MB</th>\n",
       "    </tr>\n",
       "  </thead>\n",
       "  <tbody>\n",
       "    <tr>\n",
       "      <th>264853</th>\n",
       "      <td>Kingdom Rush Frontiers TD+</td>\n",
       "      <td>Games</td>\n",
       "      <td>12+</td>\n",
       "      <td>13.0</td>\n",
       "      <td>NaT</td>\n",
       "      <td>2021-11-12 08:00:00+00:00</td>\n",
       "      <td>NaN</td>\n",
       "      <td>USD</td>\n",
       "      <td>False</td>\n",
       "      <td>Ironhide Irl</td>\n",
       "      <td>0.0</td>\n",
       "      <td>0</td>\n",
       "      <td>NaN</td>\n",
       "    </tr>\n",
       "    <tr>\n",
       "      <th>836858</th>\n",
       "      <td>Transformers: Tactical Arena</td>\n",
       "      <td>Games</td>\n",
       "      <td>9+</td>\n",
       "      <td>13.5.0</td>\n",
       "      <td>NaT</td>\n",
       "      <td>2021-11-05 07:00:00+00:00</td>\n",
       "      <td>NaN</td>\n",
       "      <td>USD</td>\n",
       "      <td>False</td>\n",
       "      <td>RED GAMES CO, LLC</td>\n",
       "      <td>0.0</td>\n",
       "      <td>0</td>\n",
       "      <td>NaN</td>\n",
       "    </tr>\n",
       "    <tr>\n",
       "      <th>919513</th>\n",
       "      <td>Crayola Create and Play+</td>\n",
       "      <td>Games</td>\n",
       "      <td>4+</td>\n",
       "      <td>13</td>\n",
       "      <td>NaT</td>\n",
       "      <td>2021-10-29 07:00:00+00:00</td>\n",
       "      <td>NaN</td>\n",
       "      <td>USD</td>\n",
       "      <td>False</td>\n",
       "      <td>RED GAMES CO, LLC</td>\n",
       "      <td>0.0</td>\n",
       "      <td>0</td>\n",
       "      <td>NaN</td>\n",
       "    </tr>\n",
       "  </tbody>\n",
       "</table>\n",
       "</div>\n",
       "      <button class=\"colab-df-convert\" onclick=\"convertToInteractive('df-0f4d1662-1eed-499f-831c-4c84046ed42d')\"\n",
       "              title=\"Convert this dataframe to an interactive table.\"\n",
       "              style=\"display:none;\">\n",
       "        \n",
       "  <svg xmlns=\"http://www.w3.org/2000/svg\" height=\"24px\"viewBox=\"0 0 24 24\"\n",
       "       width=\"24px\">\n",
       "    <path d=\"M0 0h24v24H0V0z\" fill=\"none\"/>\n",
       "    <path d=\"M18.56 5.44l.94 2.06.94-2.06 2.06-.94-2.06-.94-.94-2.06-.94 2.06-2.06.94zm-11 1L8.5 8.5l.94-2.06 2.06-.94-2.06-.94L8.5 2.5l-.94 2.06-2.06.94zm10 10l.94 2.06.94-2.06 2.06-.94-2.06-.94-.94-2.06-.94 2.06-2.06.94z\"/><path d=\"M17.41 7.96l-1.37-1.37c-.4-.4-.92-.59-1.43-.59-.52 0-1.04.2-1.43.59L10.3 9.45l-7.72 7.72c-.78.78-.78 2.05 0 2.83L4 21.41c.39.39.9.59 1.41.59.51 0 1.02-.2 1.41-.59l7.78-7.78 2.81-2.81c.8-.78.8-2.07 0-2.86zM5.41 20L4 18.59l7.72-7.72 1.47 1.35L5.41 20z\"/>\n",
       "  </svg>\n",
       "      </button>\n",
       "      \n",
       "  <style>\n",
       "    .colab-df-container {\n",
       "      display:flex;\n",
       "      flex-wrap:wrap;\n",
       "      gap: 12px;\n",
       "    }\n",
       "\n",
       "    .colab-df-convert {\n",
       "      background-color: #E8F0FE;\n",
       "      border: none;\n",
       "      border-radius: 50%;\n",
       "      cursor: pointer;\n",
       "      display: none;\n",
       "      fill: #1967D2;\n",
       "      height: 32px;\n",
       "      padding: 0 0 0 0;\n",
       "      width: 32px;\n",
       "    }\n",
       "\n",
       "    .colab-df-convert:hover {\n",
       "      background-color: #E2EBFA;\n",
       "      box-shadow: 0px 1px 2px rgba(60, 64, 67, 0.3), 0px 1px 3px 1px rgba(60, 64, 67, 0.15);\n",
       "      fill: #174EA6;\n",
       "    }\n",
       "\n",
       "    [theme=dark] .colab-df-convert {\n",
       "      background-color: #3B4455;\n",
       "      fill: #D2E3FC;\n",
       "    }\n",
       "\n",
       "    [theme=dark] .colab-df-convert:hover {\n",
       "      background-color: #434B5C;\n",
       "      box-shadow: 0px 1px 3px 1px rgba(0, 0, 0, 0.15);\n",
       "      filter: drop-shadow(0px 1px 2px rgba(0, 0, 0, 0.3));\n",
       "      fill: #FFFFFF;\n",
       "    }\n",
       "  </style>\n",
       "\n",
       "      <script>\n",
       "        const buttonEl =\n",
       "          document.querySelector('#df-0f4d1662-1eed-499f-831c-4c84046ed42d button.colab-df-convert');\n",
       "        buttonEl.style.display =\n",
       "          google.colab.kernel.accessAllowed ? 'block' : 'none';\n",
       "\n",
       "        async function convertToInteractive(key) {\n",
       "          const element = document.querySelector('#df-0f4d1662-1eed-499f-831c-4c84046ed42d');\n",
       "          const dataTable =\n",
       "            await google.colab.kernel.invokeFunction('convertToInteractive',\n",
       "                                                     [key], {});\n",
       "          if (!dataTable) return;\n",
       "\n",
       "          const docLinkHtml = 'Like what you see? Visit the ' +\n",
       "            '<a target=\"_blank\" href=https://colab.research.google.com/notebooks/data_table.ipynb>data table notebook</a>'\n",
       "            + ' to learn more about interactive tables.';\n",
       "          element.innerHTML = '';\n",
       "          dataTable['output_type'] = 'display_data';\n",
       "          await google.colab.output.renderOutput(dataTable, element);\n",
       "          const docLink = document.createElement('div');\n",
       "          docLink.innerHTML = docLinkHtml;\n",
       "          element.appendChild(docLink);\n",
       "        }\n",
       "      </script>\n",
       "    </div>\n",
       "  </div>\n",
       "  "
      ],
      "text/plain": [
       "                            App_Name Primary_Genre Content_Rating  \\\n",
       "264853    Kingdom Rush Frontiers TD+         Games            12+   \n",
       "836858  Transformers: Tactical Arena         Games             9+   \n",
       "919513      Crayola Create and Play+         Games             4+   \n",
       "\n",
       "       Required_IOS_Version Released                   Updated  Price  \\\n",
       "264853                 13.0      NaT 2021-11-12 08:00:00+00:00    NaN   \n",
       "836858               13.5.0      NaT 2021-11-05 07:00:00+00:00    NaN   \n",
       "919513                   13      NaT 2021-10-29 07:00:00+00:00    NaN   \n",
       "\n",
       "       Currency   Free          Developer  Average_User_Rating  Reviews  \\\n",
       "264853      USD  False       Ironhide Irl                  0.0        0   \n",
       "836858      USD  False  RED GAMES CO, LLC                  0.0        0   \n",
       "919513      USD  False  RED GAMES CO, LLC                  0.0        0   \n",
       "\n",
       "        Size_MB  \n",
       "264853      NaN  \n",
       "836858      NaN  \n",
       "919513      NaN  "
      ]
     },
     "execution_count": 14,
     "metadata": {},
     "output_type": "execute_result"
    }
   ],
   "source": [
    "df[df['Released'].isna()]"
   ]
  },
  {
   "cell_type": "markdown",
   "metadata": {
    "id": "GMvg53deoD3i"
   },
   "source": [
    "Dropping the null rows because there are no reviews(users) for the apps which I am considering as invalid apps"
   ]
  },
  {
   "cell_type": "code",
   "execution_count": 15,
   "metadata": {
    "executionInfo": {
     "elapsed": 622,
     "status": "ok",
     "timestamp": 1662575173592,
     "user": {
      "displayName": "Pratul Chandra",
      "userId": "06160049637809107783"
     },
     "user_tz": -330
    },
    "id": "IKQf1IpxkAVQ"
   },
   "outputs": [],
   "source": [
    "df.drop([264853,836858,919513],inplace=True)"
   ]
  },
  {
   "cell_type": "markdown",
   "metadata": {
    "id": "cfex7-acoWvw"
   },
   "source": [
    "In the data there are some paid apps which the price is NaN/null"
   ]
  },
  {
   "cell_type": "code",
   "execution_count": 16,
   "metadata": {
    "colab": {
     "base_uri": "https://localhost:8080/",
     "height": 113
    },
    "executionInfo": {
     "elapsed": 22,
     "status": "ok",
     "timestamp": 1662575173593,
     "user": {
      "displayName": "Pratul Chandra",
      "userId": "06160049637809107783"
     },
     "user_tz": -330
    },
    "id": "i2GWrc8EkASm",
    "outputId": "27948b86-fb4d-4881-9dba-dc72dbca7d0f"
   },
   "outputs": [
    {
     "data": {
      "text/html": [
       "\n",
       "  <div id=\"df-bc2634b1-0b5b-41c4-99bf-b98b448a5eec\">\n",
       "    <div class=\"colab-df-container\">\n",
       "      <div>\n",
       "<style scoped>\n",
       "    .dataframe tbody tr th:only-of-type {\n",
       "        vertical-align: middle;\n",
       "    }\n",
       "\n",
       "    .dataframe tbody tr th {\n",
       "        vertical-align: top;\n",
       "    }\n",
       "\n",
       "    .dataframe thead th {\n",
       "        text-align: right;\n",
       "    }\n",
       "</style>\n",
       "<table border=\"1\" class=\"dataframe\">\n",
       "  <thead>\n",
       "    <tr style=\"text-align: right;\">\n",
       "      <th></th>\n",
       "      <th>App_Name</th>\n",
       "      <th>Primary_Genre</th>\n",
       "      <th>Content_Rating</th>\n",
       "      <th>Required_IOS_Version</th>\n",
       "      <th>Released</th>\n",
       "      <th>Updated</th>\n",
       "      <th>Price</th>\n",
       "      <th>Currency</th>\n",
       "      <th>Free</th>\n",
       "      <th>Developer</th>\n",
       "      <th>Average_User_Rating</th>\n",
       "      <th>Reviews</th>\n",
       "      <th>Size_MB</th>\n",
       "    </tr>\n",
       "  </thead>\n",
       "  <tbody>\n",
       "  </tbody>\n",
       "</table>\n",
       "</div>\n",
       "      <button class=\"colab-df-convert\" onclick=\"convertToInteractive('df-bc2634b1-0b5b-41c4-99bf-b98b448a5eec')\"\n",
       "              title=\"Convert this dataframe to an interactive table.\"\n",
       "              style=\"display:none;\">\n",
       "        \n",
       "  <svg xmlns=\"http://www.w3.org/2000/svg\" height=\"24px\"viewBox=\"0 0 24 24\"\n",
       "       width=\"24px\">\n",
       "    <path d=\"M0 0h24v24H0V0z\" fill=\"none\"/>\n",
       "    <path d=\"M18.56 5.44l.94 2.06.94-2.06 2.06-.94-2.06-.94-.94-2.06-.94 2.06-2.06.94zm-11 1L8.5 8.5l.94-2.06 2.06-.94-2.06-.94L8.5 2.5l-.94 2.06-2.06.94zm10 10l.94 2.06.94-2.06 2.06-.94-2.06-.94-.94-2.06-.94 2.06-2.06.94z\"/><path d=\"M17.41 7.96l-1.37-1.37c-.4-.4-.92-.59-1.43-.59-.52 0-1.04.2-1.43.59L10.3 9.45l-7.72 7.72c-.78.78-.78 2.05 0 2.83L4 21.41c.39.39.9.59 1.41.59.51 0 1.02-.2 1.41-.59l7.78-7.78 2.81-2.81c.8-.78.8-2.07 0-2.86zM5.41 20L4 18.59l7.72-7.72 1.47 1.35L5.41 20z\"/>\n",
       "  </svg>\n",
       "      </button>\n",
       "      \n",
       "  <style>\n",
       "    .colab-df-container {\n",
       "      display:flex;\n",
       "      flex-wrap:wrap;\n",
       "      gap: 12px;\n",
       "    }\n",
       "\n",
       "    .colab-df-convert {\n",
       "      background-color: #E8F0FE;\n",
       "      border: none;\n",
       "      border-radius: 50%;\n",
       "      cursor: pointer;\n",
       "      display: none;\n",
       "      fill: #1967D2;\n",
       "      height: 32px;\n",
       "      padding: 0 0 0 0;\n",
       "      width: 32px;\n",
       "    }\n",
       "\n",
       "    .colab-df-convert:hover {\n",
       "      background-color: #E2EBFA;\n",
       "      box-shadow: 0px 1px 2px rgba(60, 64, 67, 0.3), 0px 1px 3px 1px rgba(60, 64, 67, 0.15);\n",
       "      fill: #174EA6;\n",
       "    }\n",
       "\n",
       "    [theme=dark] .colab-df-convert {\n",
       "      background-color: #3B4455;\n",
       "      fill: #D2E3FC;\n",
       "    }\n",
       "\n",
       "    [theme=dark] .colab-df-convert:hover {\n",
       "      background-color: #434B5C;\n",
       "      box-shadow: 0px 1px 3px 1px rgba(0, 0, 0, 0.15);\n",
       "      filter: drop-shadow(0px 1px 2px rgba(0, 0, 0, 0.3));\n",
       "      fill: #FFFFFF;\n",
       "    }\n",
       "  </style>\n",
       "\n",
       "      <script>\n",
       "        const buttonEl =\n",
       "          document.querySelector('#df-bc2634b1-0b5b-41c4-99bf-b98b448a5eec button.colab-df-convert');\n",
       "        buttonEl.style.display =\n",
       "          google.colab.kernel.accessAllowed ? 'block' : 'none';\n",
       "\n",
       "        async function convertToInteractive(key) {\n",
       "          const element = document.querySelector('#df-bc2634b1-0b5b-41c4-99bf-b98b448a5eec');\n",
       "          const dataTable =\n",
       "            await google.colab.kernel.invokeFunction('convertToInteractive',\n",
       "                                                     [key], {});\n",
       "          if (!dataTable) return;\n",
       "\n",
       "          const docLinkHtml = 'Like what you see? Visit the ' +\n",
       "            '<a target=\"_blank\" href=https://colab.research.google.com/notebooks/data_table.ipynb>data table notebook</a>'\n",
       "            + ' to learn more about interactive tables.';\n",
       "          element.innerHTML = '';\n",
       "          dataTable['output_type'] = 'display_data';\n",
       "          await google.colab.output.renderOutput(dataTable, element);\n",
       "          const docLink = document.createElement('div');\n",
       "          docLink.innerHTML = docLinkHtml;\n",
       "          element.appendChild(docLink);\n",
       "        }\n",
       "      </script>\n",
       "    </div>\n",
       "  </div>\n",
       "  "
      ],
      "text/plain": [
       "Empty DataFrame\n",
       "Columns: [App_Name, Primary_Genre, Content_Rating, Required_IOS_Version, Released, Updated, Price, Currency, Free, Developer, Average_User_Rating, Reviews, Size_MB]\n",
       "Index: []"
      ]
     },
     "execution_count": 16,
     "metadata": {},
     "output_type": "execute_result"
    }
   ],
   "source": [
    "df.loc[((df.Free==False) & (df['Price'].isnull())), 'Price'] = 0.0 # Converting NaN values to 0\n",
    "df.loc[((df.Free==False) & (df['Price']==0.0)), 'Free'] = True # Converting fake Paid apps into Free apps\n",
    "df[(df.Free==False) & (df['Price']==0.0)]"
   ]
  },
  {
   "cell_type": "code",
   "execution_count": 17,
   "metadata": {
    "colab": {
     "base_uri": "https://localhost:8080/",
     "height": 162
    },
    "executionInfo": {
     "elapsed": 20,
     "status": "ok",
     "timestamp": 1662575173593,
     "user": {
      "displayName": "Pratul Chandra",
      "userId": "06160049637809107783"
     },
     "user_tz": -330
    },
    "id": "GROHYN7ikAOO",
    "outputId": "53119d3f-8ba9-4dff-a810-1defe24487e1"
   },
   "outputs": [
    {
     "data": {
      "text/html": [
       "\n",
       "  <div id=\"df-aaaf242c-c24c-467b-8cda-7a11bec21d88\">\n",
       "    <div class=\"colab-df-container\">\n",
       "      <div>\n",
       "<style scoped>\n",
       "    .dataframe tbody tr th:only-of-type {\n",
       "        vertical-align: middle;\n",
       "    }\n",
       "\n",
       "    .dataframe tbody tr th {\n",
       "        vertical-align: top;\n",
       "    }\n",
       "\n",
       "    .dataframe thead th {\n",
       "        text-align: right;\n",
       "    }\n",
       "</style>\n",
       "<table border=\"1\" class=\"dataframe\">\n",
       "  <thead>\n",
       "    <tr style=\"text-align: right;\">\n",
       "      <th></th>\n",
       "      <th>App_Name</th>\n",
       "      <th>Primary_Genre</th>\n",
       "      <th>Content_Rating</th>\n",
       "      <th>Required_IOS_Version</th>\n",
       "      <th>Released</th>\n",
       "      <th>Updated</th>\n",
       "      <th>Price</th>\n",
       "      <th>Currency</th>\n",
       "      <th>Free</th>\n",
       "      <th>Developer</th>\n",
       "      <th>Average_User_Rating</th>\n",
       "      <th>Reviews</th>\n",
       "      <th>Size_MB</th>\n",
       "    </tr>\n",
       "  </thead>\n",
       "  <tbody>\n",
       "    <tr>\n",
       "      <th>964888</th>\n",
       "      <td>NaN</td>\n",
       "      <td>News</td>\n",
       "      <td>4+</td>\n",
       "      <td>9.0</td>\n",
       "      <td>2011-08-08 11:45:30+00:00</td>\n",
       "      <td>2020-12-21 14:08:02+00:00</td>\n",
       "      <td>0.0</td>\n",
       "      <td>USD</td>\n",
       "      <td>True</td>\n",
       "      <td>Promedia</td>\n",
       "      <td>5.0</td>\n",
       "      <td>1</td>\n",
       "      <td>19.53</td>\n",
       "    </tr>\n",
       "  </tbody>\n",
       "</table>\n",
       "</div>\n",
       "      <button class=\"colab-df-convert\" onclick=\"convertToInteractive('df-aaaf242c-c24c-467b-8cda-7a11bec21d88')\"\n",
       "              title=\"Convert this dataframe to an interactive table.\"\n",
       "              style=\"display:none;\">\n",
       "        \n",
       "  <svg xmlns=\"http://www.w3.org/2000/svg\" height=\"24px\"viewBox=\"0 0 24 24\"\n",
       "       width=\"24px\">\n",
       "    <path d=\"M0 0h24v24H0V0z\" fill=\"none\"/>\n",
       "    <path d=\"M18.56 5.44l.94 2.06.94-2.06 2.06-.94-2.06-.94-.94-2.06-.94 2.06-2.06.94zm-11 1L8.5 8.5l.94-2.06 2.06-.94-2.06-.94L8.5 2.5l-.94 2.06-2.06.94zm10 10l.94 2.06.94-2.06 2.06-.94-2.06-.94-.94-2.06-.94 2.06-2.06.94z\"/><path d=\"M17.41 7.96l-1.37-1.37c-.4-.4-.92-.59-1.43-.59-.52 0-1.04.2-1.43.59L10.3 9.45l-7.72 7.72c-.78.78-.78 2.05 0 2.83L4 21.41c.39.39.9.59 1.41.59.51 0 1.02-.2 1.41-.59l7.78-7.78 2.81-2.81c.8-.78.8-2.07 0-2.86zM5.41 20L4 18.59l7.72-7.72 1.47 1.35L5.41 20z\"/>\n",
       "  </svg>\n",
       "      </button>\n",
       "      \n",
       "  <style>\n",
       "    .colab-df-container {\n",
       "      display:flex;\n",
       "      flex-wrap:wrap;\n",
       "      gap: 12px;\n",
       "    }\n",
       "\n",
       "    .colab-df-convert {\n",
       "      background-color: #E8F0FE;\n",
       "      border: none;\n",
       "      border-radius: 50%;\n",
       "      cursor: pointer;\n",
       "      display: none;\n",
       "      fill: #1967D2;\n",
       "      height: 32px;\n",
       "      padding: 0 0 0 0;\n",
       "      width: 32px;\n",
       "    }\n",
       "\n",
       "    .colab-df-convert:hover {\n",
       "      background-color: #E2EBFA;\n",
       "      box-shadow: 0px 1px 2px rgba(60, 64, 67, 0.3), 0px 1px 3px 1px rgba(60, 64, 67, 0.15);\n",
       "      fill: #174EA6;\n",
       "    }\n",
       "\n",
       "    [theme=dark] .colab-df-convert {\n",
       "      background-color: #3B4455;\n",
       "      fill: #D2E3FC;\n",
       "    }\n",
       "\n",
       "    [theme=dark] .colab-df-convert:hover {\n",
       "      background-color: #434B5C;\n",
       "      box-shadow: 0px 1px 3px 1px rgba(0, 0, 0, 0.15);\n",
       "      filter: drop-shadow(0px 1px 2px rgba(0, 0, 0, 0.3));\n",
       "      fill: #FFFFFF;\n",
       "    }\n",
       "  </style>\n",
       "\n",
       "      <script>\n",
       "        const buttonEl =\n",
       "          document.querySelector('#df-aaaf242c-c24c-467b-8cda-7a11bec21d88 button.colab-df-convert');\n",
       "        buttonEl.style.display =\n",
       "          google.colab.kernel.accessAllowed ? 'block' : 'none';\n",
       "\n",
       "        async function convertToInteractive(key) {\n",
       "          const element = document.querySelector('#df-aaaf242c-c24c-467b-8cda-7a11bec21d88');\n",
       "          const dataTable =\n",
       "            await google.colab.kernel.invokeFunction('convertToInteractive',\n",
       "                                                     [key], {});\n",
       "          if (!dataTable) return;\n",
       "\n",
       "          const docLinkHtml = 'Like what you see? Visit the ' +\n",
       "            '<a target=\"_blank\" href=https://colab.research.google.com/notebooks/data_table.ipynb>data table notebook</a>'\n",
       "            + ' to learn more about interactive tables.';\n",
       "          element.innerHTML = '';\n",
       "          dataTable['output_type'] = 'display_data';\n",
       "          await google.colab.output.renderOutput(dataTable, element);\n",
       "          const docLink = document.createElement('div');\n",
       "          docLink.innerHTML = docLinkHtml;\n",
       "          element.appendChild(docLink);\n",
       "        }\n",
       "      </script>\n",
       "    </div>\n",
       "  </div>\n",
       "  "
      ],
      "text/plain": [
       "       App_Name Primary_Genre Content_Rating Required_IOS_Version  \\\n",
       "964888      NaN          News             4+                  9.0   \n",
       "\n",
       "                        Released                   Updated  Price Currency  \\\n",
       "964888 2011-08-08 11:45:30+00:00 2020-12-21 14:08:02+00:00    0.0      USD   \n",
       "\n",
       "        Free Developer  Average_User_Rating  Reviews  Size_MB  \n",
       "964888  True  Promedia                  5.0        1    19.53  "
      ]
     },
     "execution_count": 17,
     "metadata": {},
     "output_type": "execute_result"
    }
   ],
   "source": [
    "# One App name has NaN value\n",
    "df[df['App_Name'].isna()]"
   ]
  },
  {
   "cell_type": "code",
   "execution_count": 18,
   "metadata": {
    "executionInfo": {
     "elapsed": 19,
     "status": "ok",
     "timestamp": 1662575173594,
     "user": {
      "displayName": "Pratul Chandra",
      "userId": "06160049637809107783"
     },
     "user_tz": -330
    },
    "id": "ERd0PQZikAME"
   },
   "outputs": [],
   "source": [
    "df.at[964888,'App_Name']= 'Unkonown App' # Named that null value to Unknown app"
   ]
  },
  {
   "cell_type": "markdown",
   "metadata": {
    "id": "oftfBMf4oqPC"
   },
   "source": [
    "There are 221 null values in size column"
   ]
  },
  {
   "cell_type": "code",
   "execution_count": 19,
   "metadata": {
    "colab": {
     "base_uri": "https://localhost:8080/"
    },
    "executionInfo": {
     "elapsed": 19,
     "status": "ok",
     "timestamp": 1662575173595,
     "user": {
      "displayName": "Pratul Chandra",
      "userId": "06160049637809107783"
     },
     "user_tz": -330
    },
    "id": "pzGPQ_epkAJe",
    "outputId": "e7bc733c-ecd0-4b30-de58-1811bb4a2051"
   },
   "outputs": [
    {
     "data": {
      "text/plain": [
       "(221, 13)"
      ]
     },
     "execution_count": 19,
     "metadata": {},
     "output_type": "execute_result"
    }
   ],
   "source": [
    "df[df['Size_MB'].isnull()].shape"
   ]
  },
  {
   "cell_type": "markdown",
   "metadata": {
    "id": "fx-BFbnfoz5F"
   },
   "source": [
    "Replacing the null values with randomn value size of 50.0 mb."
   ]
  },
  {
   "cell_type": "code",
   "execution_count": 20,
   "metadata": {
    "executionInfo": {
     "elapsed": 465,
     "status": "ok",
     "timestamp": 1662575174047,
     "user": {
      "displayName": "Pratul Chandra",
      "userId": "06160049637809107783"
     },
     "user_tz": -330
    },
    "id": "2ytTwl9IkAG0"
   },
   "outputs": [],
   "source": [
    "df.loc[df['Size_MB'].isnull(), 'Size_MB'] = 50.0"
   ]
  },
  {
   "cell_type": "markdown",
   "metadata": {
    "id": "SEMEMn0do7eJ"
   },
   "source": [
    "This data was released in the month of Oct 2021, possibly there might be false data that in the year 2022, So dropping the data of app releases in the year 2022."
   ]
  },
  {
   "cell_type": "code",
   "execution_count": 21,
   "metadata": {
    "executionInfo": {
     "elapsed": 1039,
     "status": "ok",
     "timestamp": 1662575175082,
     "user": {
      "displayName": "Pratul Chandra",
      "userId": "06160049637809107783"
     },
     "user_tz": -330
    },
    "id": "oZOeI5RbjHrJ"
   },
   "outputs": [],
   "source": [
    "df.drop(df[df['Released'].dt.year==2022].index, inplace=True)"
   ]
  },
  {
   "cell_type": "markdown",
   "metadata": {
    "id": "EKrZwz3GprQc"
   },
   "source": [
    "Cleaned and processed data"
   ]
  },
  {
   "cell_type": "code",
   "execution_count": 22,
   "metadata": {
    "colab": {
     "base_uri": "https://localhost:8080/"
    },
    "executionInfo": {
     "elapsed": 4313,
     "status": "ok",
     "timestamp": 1662575179383,
     "user": {
      "displayName": "Pratul Chandra",
      "userId": "06160049637809107783"
     },
     "user_tz": -330
    },
    "id": "0vWxSOyRkAER",
    "outputId": "06c0a10f-8996-4d3f-e4b9-914a91b88897"
   },
   "outputs": [
    {
     "name": "stdout",
     "output_type": "stream",
     "text": [
      "Shape : (1230315, 13) \n",
      "\n",
      "\n",
      " Duplicate values : 0 \n",
      "\n",
      "Missing Data :\n",
      " App_Name                0\n",
      "Primary_Genre           0\n",
      "Content_Rating          0\n",
      "Required_IOS_Version    0\n",
      "Released                0\n",
      "Updated                 0\n",
      "Price                   0\n",
      "Currency                0\n",
      "Free                    0\n",
      "Developer               0\n",
      "Average_User_Rating     0\n",
      "Reviews                 0\n",
      "Size_MB                 0\n",
      "dtype: int64\n"
     ]
    }
   ],
   "source": [
    "print(\"Shape :\", df.shape,\"\\n\")\n",
    "print(\"\\n Duplicate values :\", df.duplicated().sum(),\"\\n\")\n",
    "print(\"Missing Data :\\n\", df.isna().sum())"
   ]
  },
  {
   "cell_type": "markdown",
   "metadata": {
    "id": "iTKCEvAw2B8P"
   },
   "source": [
    "## -> Univariate Analysis and Visualization.\n",
    "\n",
    "Analysis is done to understand the data and get a overview of the situation we get into. Visualizing is the most effective way to understand anything it empowers us to communicate stories more effectively."
   ]
  },
  {
   "cell_type": "markdown",
   "metadata": {
    "id": "EEPrKz_GvI6x"
   },
   "source": [
    "Installing appropriate packages for visualizing data"
   ]
  },
  {
   "cell_type": "code",
   "execution_count": 23,
   "metadata": {
    "colab": {
     "base_uri": "https://localhost:8080/"
    },
    "executionInfo": {
     "elapsed": 36611,
     "status": "ok",
     "timestamp": 1662575215975,
     "user": {
      "displayName": "Pratul Chandra",
      "userId": "06160049637809107783"
     },
     "user_tz": -330
    },
    "id": "QyAaUpgUkAB3",
    "outputId": "0600fd24-e29b-4de6-e6a3-f8f084ac2916"
   },
   "outputs": [
    {
     "name": "stdout",
     "output_type": "stream",
     "text": [
      "\u001b[K     |████████████████████████████████| 15.2 MB 5.3 MB/s \n",
      "\u001b[?25h"
     ]
    }
   ],
   "source": [
    "#!pip uninstall matplotlib\n",
    "#!pip install matplotlib --upgrade --quiet\n",
    "!pip install seaborn matplotlib==3.2.2 --quiet\n",
    "!pip install plotly altair --upgrade --quiet"
   ]
  },
  {
   "cell_type": "markdown",
   "metadata": {
    "id": "gefw9Bsbwqmm"
   },
   "source": [
    "Importing Appropriate Libraries"
   ]
  },
  {
   "cell_type": "code",
   "execution_count": 24,
   "metadata": {
    "executionInfo": {
     "elapsed": 2269,
     "status": "ok",
     "timestamp": 1662575218215,
     "user": {
      "displayName": "Pratul Chandra",
      "userId": "06160049637809107783"
     },
     "user_tz": -330
    },
    "id": "K4GaL_9Ej_--"
   },
   "outputs": [],
   "source": [
    "# For creating interactive visualizations\n",
    "import altair as alt\n",
    "import plotly.express as px\n",
    "import plotly.graph_objects as go\n",
    "# For creating static visualizations in Python\n",
    "import matplotlib.pyplot as plt\n",
    "# A high-level interface for drawing informative statistical graphics.\n",
    "import seaborn as sns\n",
    "# Numerical computing library\n",
    "import numpy as np\n",
    "#  It turns on “inline plotting”, where plot graphics will appear in your notebook\n",
    "%matplotlib inline"
   ]
  },
  {
   "cell_type": "markdown",
   "metadata": {
    "id": "0Vk7MZIOwtMD"
   },
   "source": [
    "Columns in the cleaned dataset"
   ]
  },
  {
   "cell_type": "code",
   "execution_count": 25,
   "metadata": {
    "colab": {
     "base_uri": "https://localhost:8080/"
    },
    "executionInfo": {
     "elapsed": 22,
     "status": "ok",
     "timestamp": 1662575218219,
     "user": {
      "displayName": "Pratul Chandra",
      "userId": "06160049637809107783"
     },
     "user_tz": -330
    },
    "id": "PoUdwUSpj_8A",
    "outputId": "c4cfb374-149e-4355-93ab-101672ffca1d"
   },
   "outputs": [
    {
     "data": {
      "text/plain": [
       "Index(['App_Name', 'Primary_Genre', 'Content_Rating', 'Required_IOS_Version',\n",
       "       'Released', 'Updated', 'Price', 'Currency', 'Free', 'Developer',\n",
       "       'Average_User_Rating', 'Reviews', 'Size_MB'],\n",
       "      dtype='object')"
      ]
     },
     "execution_count": 25,
     "metadata": {},
     "output_type": "execute_result"
    }
   ],
   "source": [
    "df.columns"
   ]
  },
  {
   "cell_type": "markdown",
   "metadata": {
    "id": "3dfKc_K3nyIT"
   },
   "source": [
    "There are 14 columns"
   ]
  },
  {
   "cell_type": "code",
   "execution_count": 26,
   "metadata": {
    "colab": {
     "base_uri": "https://localhost:8080/",
     "height": 300
    },
    "executionInfo": {
     "elapsed": 17,
     "status": "ok",
     "timestamp": 1662575218221,
     "user": {
      "displayName": "Pratul Chandra",
      "userId": "06160049637809107783"
     },
     "user_tz": -330
    },
    "id": "jwFl-E4gj_5m",
    "outputId": "2543a895-f86e-404e-fe93-cfbef018c953"
   },
   "outputs": [
    {
     "data": {
      "text/html": [
       "\n",
       "  <div id=\"df-0f0d3b90-f08d-43e8-a899-f4c3045354bc\">\n",
       "    <div class=\"colab-df-container\">\n",
       "      <div>\n",
       "<style scoped>\n",
       "    .dataframe tbody tr th:only-of-type {\n",
       "        vertical-align: middle;\n",
       "    }\n",
       "\n",
       "    .dataframe tbody tr th {\n",
       "        vertical-align: top;\n",
       "    }\n",
       "\n",
       "    .dataframe thead th {\n",
       "        text-align: right;\n",
       "    }\n",
       "</style>\n",
       "<table border=\"1\" class=\"dataframe\">\n",
       "  <thead>\n",
       "    <tr style=\"text-align: right;\">\n",
       "      <th></th>\n",
       "      <th>Price</th>\n",
       "      <th>Average_User_Rating</th>\n",
       "      <th>Reviews</th>\n",
       "      <th>Size_MB</th>\n",
       "    </tr>\n",
       "  </thead>\n",
       "  <tbody>\n",
       "    <tr>\n",
       "      <th>count</th>\n",
       "      <td>1.230315e+06</td>\n",
       "      <td>1.230315e+06</td>\n",
       "      <td>1.230315e+06</td>\n",
       "      <td>1.230315e+06</td>\n",
       "    </tr>\n",
       "    <tr>\n",
       "      <th>mean</th>\n",
       "      <td>5.039506e-01</td>\n",
       "      <td>1.788491e+00</td>\n",
       "      <td>8.259887e+02</td>\n",
       "      <td>7.509612e+01</td>\n",
       "    </tr>\n",
       "    <tr>\n",
       "      <th>std</th>\n",
       "      <td>6.868483e+00</td>\n",
       "      <td>2.154146e+00</td>\n",
       "      <td>5.016176e+04</td>\n",
       "      <td>2.318429e+02</td>\n",
       "    </tr>\n",
       "    <tr>\n",
       "      <th>min</th>\n",
       "      <td>0.000000e+00</td>\n",
       "      <td>0.000000e+00</td>\n",
       "      <td>0.000000e+00</td>\n",
       "      <td>3.000000e-02</td>\n",
       "    </tr>\n",
       "    <tr>\n",
       "      <th>25%</th>\n",
       "      <td>0.000000e+00</td>\n",
       "      <td>0.000000e+00</td>\n",
       "      <td>0.000000e+00</td>\n",
       "      <td>2.042000e+01</td>\n",
       "    </tr>\n",
       "    <tr>\n",
       "      <th>50%</th>\n",
       "      <td>0.000000e+00</td>\n",
       "      <td>0.000000e+00</td>\n",
       "      <td>0.000000e+00</td>\n",
       "      <td>4.334000e+01</td>\n",
       "    </tr>\n",
       "    <tr>\n",
       "      <th>75%</th>\n",
       "      <td>0.000000e+00</td>\n",
       "      <td>4.330000e+00</td>\n",
       "      <td>3.000000e+00</td>\n",
       "      <td>8.364000e+01</td>\n",
       "    </tr>\n",
       "    <tr>\n",
       "      <th>max</th>\n",
       "      <td>9.999900e+02</td>\n",
       "      <td>5.000000e+00</td>\n",
       "      <td>2.268533e+07</td>\n",
       "      <td>7.677945e+04</td>\n",
       "    </tr>\n",
       "  </tbody>\n",
       "</table>\n",
       "</div>\n",
       "      <button class=\"colab-df-convert\" onclick=\"convertToInteractive('df-0f0d3b90-f08d-43e8-a899-f4c3045354bc')\"\n",
       "              title=\"Convert this dataframe to an interactive table.\"\n",
       "              style=\"display:none;\">\n",
       "        \n",
       "  <svg xmlns=\"http://www.w3.org/2000/svg\" height=\"24px\"viewBox=\"0 0 24 24\"\n",
       "       width=\"24px\">\n",
       "    <path d=\"M0 0h24v24H0V0z\" fill=\"none\"/>\n",
       "    <path d=\"M18.56 5.44l.94 2.06.94-2.06 2.06-.94-2.06-.94-.94-2.06-.94 2.06-2.06.94zm-11 1L8.5 8.5l.94-2.06 2.06-.94-2.06-.94L8.5 2.5l-.94 2.06-2.06.94zm10 10l.94 2.06.94-2.06 2.06-.94-2.06-.94-.94-2.06-.94 2.06-2.06.94z\"/><path d=\"M17.41 7.96l-1.37-1.37c-.4-.4-.92-.59-1.43-.59-.52 0-1.04.2-1.43.59L10.3 9.45l-7.72 7.72c-.78.78-.78 2.05 0 2.83L4 21.41c.39.39.9.59 1.41.59.51 0 1.02-.2 1.41-.59l7.78-7.78 2.81-2.81c.8-.78.8-2.07 0-2.86zM5.41 20L4 18.59l7.72-7.72 1.47 1.35L5.41 20z\"/>\n",
       "  </svg>\n",
       "      </button>\n",
       "      \n",
       "  <style>\n",
       "    .colab-df-container {\n",
       "      display:flex;\n",
       "      flex-wrap:wrap;\n",
       "      gap: 12px;\n",
       "    }\n",
       "\n",
       "    .colab-df-convert {\n",
       "      background-color: #E8F0FE;\n",
       "      border: none;\n",
       "      border-radius: 50%;\n",
       "      cursor: pointer;\n",
       "      display: none;\n",
       "      fill: #1967D2;\n",
       "      height: 32px;\n",
       "      padding: 0 0 0 0;\n",
       "      width: 32px;\n",
       "    }\n",
       "\n",
       "    .colab-df-convert:hover {\n",
       "      background-color: #E2EBFA;\n",
       "      box-shadow: 0px 1px 2px rgba(60, 64, 67, 0.3), 0px 1px 3px 1px rgba(60, 64, 67, 0.15);\n",
       "      fill: #174EA6;\n",
       "    }\n",
       "\n",
       "    [theme=dark] .colab-df-convert {\n",
       "      background-color: #3B4455;\n",
       "      fill: #D2E3FC;\n",
       "    }\n",
       "\n",
       "    [theme=dark] .colab-df-convert:hover {\n",
       "      background-color: #434B5C;\n",
       "      box-shadow: 0px 1px 3px 1px rgba(0, 0, 0, 0.15);\n",
       "      filter: drop-shadow(0px 1px 2px rgba(0, 0, 0, 0.3));\n",
       "      fill: #FFFFFF;\n",
       "    }\n",
       "  </style>\n",
       "\n",
       "      <script>\n",
       "        const buttonEl =\n",
       "          document.querySelector('#df-0f0d3b90-f08d-43e8-a899-f4c3045354bc button.colab-df-convert');\n",
       "        buttonEl.style.display =\n",
       "          google.colab.kernel.accessAllowed ? 'block' : 'none';\n",
       "\n",
       "        async function convertToInteractive(key) {\n",
       "          const element = document.querySelector('#df-0f0d3b90-f08d-43e8-a899-f4c3045354bc');\n",
       "          const dataTable =\n",
       "            await google.colab.kernel.invokeFunction('convertToInteractive',\n",
       "                                                     [key], {});\n",
       "          if (!dataTable) return;\n",
       "\n",
       "          const docLinkHtml = 'Like what you see? Visit the ' +\n",
       "            '<a target=\"_blank\" href=https://colab.research.google.com/notebooks/data_table.ipynb>data table notebook</a>'\n",
       "            + ' to learn more about interactive tables.';\n",
       "          element.innerHTML = '';\n",
       "          dataTable['output_type'] = 'display_data';\n",
       "          await google.colab.output.renderOutput(dataTable, element);\n",
       "          const docLink = document.createElement('div');\n",
       "          docLink.innerHTML = docLinkHtml;\n",
       "          element.appendChild(docLink);\n",
       "        }\n",
       "      </script>\n",
       "    </div>\n",
       "  </div>\n",
       "  "
      ],
      "text/plain": [
       "              Price  Average_User_Rating       Reviews       Size_MB\n",
       "count  1.230315e+06         1.230315e+06  1.230315e+06  1.230315e+06\n",
       "mean   5.039506e-01         1.788491e+00  8.259887e+02  7.509612e+01\n",
       "std    6.868483e+00         2.154146e+00  5.016176e+04  2.318429e+02\n",
       "min    0.000000e+00         0.000000e+00  0.000000e+00  3.000000e-02\n",
       "25%    0.000000e+00         0.000000e+00  0.000000e+00  2.042000e+01\n",
       "50%    0.000000e+00         0.000000e+00  0.000000e+00  4.334000e+01\n",
       "75%    0.000000e+00         4.330000e+00  3.000000e+00  8.364000e+01\n",
       "max    9.999900e+02         5.000000e+00  2.268533e+07  7.677945e+04"
      ]
     },
     "execution_count": 26,
     "metadata": {},
     "output_type": "execute_result"
    }
   ],
   "source": [
    "df.describe()"
   ]
  },
  {
   "cell_type": "markdown",
   "metadata": {
    "id": "v4xt9zs0y2DZ"
   },
   "source": [
    "Price: Min= 0 Max= 999.99\n",
    "\n",
    "Size: Min= 0.3mb Max= 7.6gb"
   ]
  },
  {
   "cell_type": "markdown",
   "metadata": {
    "id": "Mh3JPCIYz7K2"
   },
   "source": [
    "### Content Rating \n",
    "\n",
    "This column contains age limit for each app."
   ]
  },
  {
   "cell_type": "code",
   "execution_count": 27,
   "metadata": {
    "colab": {
     "base_uri": "https://localhost:8080/",
     "height": 458
    },
    "executionInfo": {
     "elapsed": 2410,
     "status": "ok",
     "timestamp": 1662575220617,
     "user": {
      "displayName": "Pratul Chandra",
      "userId": "06160049637809107783"
     },
     "user_tz": -330
    },
    "id": "RUiel0hMj_2q",
    "outputId": "9dee04b2-9bdc-4fb9-9417-a5020e09e08f"
   },
   "outputs": [
    {
     "data": {
      "image/png": "[encoded data removed]",
      "text/plain": [
       "<Figure size 720x504 with 1 Axes>"
      ]
     },
     "metadata": {
      "needs_background": "light"
     },
     "output_type": "display_data"
    }
   ],
   "source": [
    "c_r= df.Content_Rating.value_counts().reset_index()\n",
    "c_r.columns=['Content Rating', 'App Count']\n",
    "\n",
    "fig,ax= plt.subplots(figsize=(10,7))\n",
    "plt.title(\"No of Apps per Content Rating\")\n",
    "sns.barplot(x = c_r['Content Rating'],y = c_r['App Count'], data=c_r)\n",
    "ax.set_ylim(0, 999999);"
   ]
  },
  {
   "cell_type": "markdown",
   "metadata": {
    "id": "y98Wah4TogUh"
   },
   "source": [
    "> Apps rated 4+ contain no objectionable material.\n",
    "\n",
    "> Apps rated 9+ may contain instances of content that may not be suitable for children under the age of 9.\n",
    "\n",
    "> Apps rated 12+ may contain instances of content that may not be suitable for children under the age of 12. \n",
    "\n",
    "> Apps rated 17+ may contain instances of content that may not be suitable for minors under the age of 17.\n",
    "\n",
    "Large amount of the apps are present in 4+ content rating"
   ]
  },
  {
   "cell_type": "markdown",
   "metadata": {
    "id": "2GBYYPXE0W6q"
   },
   "source": [
    "### Repeating app names\n",
    "There several apps that have same names"
   ]
  },
  {
   "cell_type": "code",
   "execution_count": 28,
   "metadata": {
    "colab": {
     "base_uri": "https://localhost:8080/"
    },
    "executionInfo": {
     "elapsed": 866,
     "status": "ok",
     "timestamp": 1662575221982,
     "user": {
      "displayName": "Pratul Chandra",
      "userId": "06160049637809107783"
     },
     "user_tz": -330
    },
    "id": "e9NgK48cj_wo",
    "outputId": "f822ad2c-5466-4777-f0d9-60434fc1f778"
   },
   "outputs": [
    {
     "data": {
      "text/plain": [
       "Vanguard                        6\n",
       "Bloom                           5\n",
       "Linker                          5\n",
       "Flow                            4\n",
       "Settle                          4\n",
       "                               ..\n",
       "Popstar Crush消星星爱上消消乐           1\n",
       "Popstar Bubbles - Brain Game    1\n",
       "Popstar Blast                   1\n",
       "PopStar 3                       1\n",
       "Sổ Điểm Thông Minh              1\n",
       "Name: App_Name, Length: 1223450, dtype: int64"
      ]
     },
     "execution_count": 28,
     "metadata": {},
     "output_type": "execute_result"
    }
   ],
   "source": [
    "df.App_Name.value_counts()"
   ]
  },
  {
   "cell_type": "markdown",
   "metadata": {
    "id": "i-xh_B940rGl"
   },
   "source": [
    "Seems like a valid data because the app has different vendors and also drom different catagory"
   ]
  },
  {
   "cell_type": "code",
   "execution_count": 29,
   "metadata": {
    "colab": {
     "base_uri": "https://localhost:8080/",
     "height": 423
    },
    "executionInfo": {
     "elapsed": 9,
     "status": "ok",
     "timestamp": 1662575221983,
     "user": {
      "displayName": "Pratul Chandra",
      "userId": "06160049637809107783"
     },
     "user_tz": -330
    },
    "id": "9kgMZmgc5mWs",
    "outputId": "21278474-6c4e-4cb9-8e9d-bc0de518bcaf"
   },
   "outputs": [
    {
     "data": {
      "text/html": [
       "\n",
       "  <div id=\"df-2ad0d436-cfe9-481f-b59b-f212561980c3\">\n",
       "    <div class=\"colab-df-container\">\n",
       "      <div>\n",
       "<style scoped>\n",
       "    .dataframe tbody tr th:only-of-type {\n",
       "        vertical-align: middle;\n",
       "    }\n",
       "\n",
       "    .dataframe tbody tr th {\n",
       "        vertical-align: top;\n",
       "    }\n",
       "\n",
       "    .dataframe thead th {\n",
       "        text-align: right;\n",
       "    }\n",
       "</style>\n",
       "<table border=\"1\" class=\"dataframe\">\n",
       "  <thead>\n",
       "    <tr style=\"text-align: right;\">\n",
       "      <th></th>\n",
       "      <th>App_Name</th>\n",
       "      <th>Primary_Genre</th>\n",
       "      <th>Content_Rating</th>\n",
       "      <th>Required_IOS_Version</th>\n",
       "      <th>Released</th>\n",
       "      <th>Updated</th>\n",
       "      <th>Price</th>\n",
       "      <th>Currency</th>\n",
       "      <th>Free</th>\n",
       "      <th>Developer</th>\n",
       "      <th>Average_User_Rating</th>\n",
       "      <th>Reviews</th>\n",
       "      <th>Size_MB</th>\n",
       "    </tr>\n",
       "  </thead>\n",
       "  <tbody>\n",
       "    <tr>\n",
       "      <th>478488</th>\n",
       "      <td>Vanguard</td>\n",
       "      <td>Finance</td>\n",
       "      <td>4+</td>\n",
       "      <td>10.0</td>\n",
       "      <td>2009-10-24 19:14:54+00:00</td>\n",
       "      <td>2021-08-26 19:55:20+00:00</td>\n",
       "      <td>0.0</td>\n",
       "      <td>USD</td>\n",
       "      <td>True</td>\n",
       "      <td>The Vanguard Group, Inc.</td>\n",
       "      <td>4.74</td>\n",
       "      <td>167472</td>\n",
       "      <td>160.80</td>\n",
       "    </tr>\n",
       "    <tr>\n",
       "      <th>624553</th>\n",
       "      <td>Vanguard</td>\n",
       "      <td>Games</td>\n",
       "      <td>4+</td>\n",
       "      <td>10.0</td>\n",
       "      <td>2021-08-27 07:00:00+00:00</td>\n",
       "      <td>2021-08-27 12:16:53+00:00</td>\n",
       "      <td>0.0</td>\n",
       "      <td>USD</td>\n",
       "      <td>True</td>\n",
       "      <td>omar naser</td>\n",
       "      <td>3.00</td>\n",
       "      <td>2</td>\n",
       "      <td>191.24</td>\n",
       "    </tr>\n",
       "    <tr>\n",
       "      <th>871735</th>\n",
       "      <td>Vanguard</td>\n",
       "      <td>Lifestyle</td>\n",
       "      <td>4+</td>\n",
       "      <td>9.0</td>\n",
       "      <td>2020-03-25 07:00:00+00:00</td>\n",
       "      <td>2021-10-05 23:12:01+00:00</td>\n",
       "      <td>0.0</td>\n",
       "      <td>USD</td>\n",
       "      <td>True</td>\n",
       "      <td>Vanguard Home Empreendimentos Imobiliarios LTDA</td>\n",
       "      <td>0.00</td>\n",
       "      <td>0</td>\n",
       "      <td>87.82</td>\n",
       "    </tr>\n",
       "    <tr>\n",
       "      <th>1024185</th>\n",
       "      <td>Vanguard</td>\n",
       "      <td>Productivity</td>\n",
       "      <td>17+</td>\n",
       "      <td>13.0</td>\n",
       "      <td>2021-06-11 07:00:00+00:00</td>\n",
       "      <td>2021-09-05 08:02:33+00:00</td>\n",
       "      <td>0.0</td>\n",
       "      <td>USD</td>\n",
       "      <td>True</td>\n",
       "      <td>3k CO-LIVING $ ACCOMODATION</td>\n",
       "      <td>0.00</td>\n",
       "      <td>0</td>\n",
       "      <td>35.23</td>\n",
       "    </tr>\n",
       "    <tr>\n",
       "      <th>1066082</th>\n",
       "      <td>Vanguard</td>\n",
       "      <td>Reference</td>\n",
       "      <td>4+</td>\n",
       "      <td>12.0</td>\n",
       "      <td>2018-11-13 01:31:37+00:00</td>\n",
       "      <td>2021-03-24 12:38:41+00:00</td>\n",
       "      <td>0.0</td>\n",
       "      <td>USD</td>\n",
       "      <td>True</td>\n",
       "      <td>TONANDEL PTY LTD</td>\n",
       "      <td>0.00</td>\n",
       "      <td>0</td>\n",
       "      <td>24.20</td>\n",
       "    </tr>\n",
       "    <tr>\n",
       "      <th>1094792</th>\n",
       "      <td>Vanguard</td>\n",
       "      <td>Shopping</td>\n",
       "      <td>4+</td>\n",
       "      <td>13.0</td>\n",
       "      <td>2014-09-28 16:38:41+00:00</td>\n",
       "      <td>2021-07-26 09:36:18+00:00</td>\n",
       "      <td>0.0</td>\n",
       "      <td>USD</td>\n",
       "      <td>True</td>\n",
       "      <td>Just Brands B.V.</td>\n",
       "      <td>5.00</td>\n",
       "      <td>1</td>\n",
       "      <td>68.75</td>\n",
       "    </tr>\n",
       "  </tbody>\n",
       "</table>\n",
       "</div>\n",
       "      <button class=\"colab-df-convert\" onclick=\"convertToInteractive('df-2ad0d436-cfe9-481f-b59b-f212561980c3')\"\n",
       "              title=\"Convert this dataframe to an interactive table.\"\n",
       "              style=\"display:none;\">\n",
       "        \n",
       "  <svg xmlns=\"http://www.w3.org/2000/svg\" height=\"24px\"viewBox=\"0 0 24 24\"\n",
       "       width=\"24px\">\n",
       "    <path d=\"M0 0h24v24H0V0z\" fill=\"none\"/>\n",
       "    <path d=\"M18.56 5.44l.94 2.06.94-2.06 2.06-.94-2.06-.94-.94-2.06-.94 2.06-2.06.94zm-11 1L8.5 8.5l.94-2.06 2.06-.94-2.06-.94L8.5 2.5l-.94 2.06-2.06.94zm10 10l.94 2.06.94-2.06 2.06-.94-2.06-.94-.94-2.06-.94 2.06-2.06.94z\"/><path d=\"M17.41 7.96l-1.37-1.37c-.4-.4-.92-.59-1.43-.59-.52 0-1.04.2-1.43.59L10.3 9.45l-7.72 7.72c-.78.78-.78 2.05 0 2.83L4 21.41c.39.39.9.59 1.41.59.51 0 1.02-.2 1.41-.59l7.78-7.78 2.81-2.81c.8-.78.8-2.07 0-2.86zM5.41 20L4 18.59l7.72-7.72 1.47 1.35L5.41 20z\"/>\n",
       "  </svg>\n",
       "      </button>\n",
       "      \n",
       "  <style>\n",
       "    .colab-df-container {\n",
       "      display:flex;\n",
       "      flex-wrap:wrap;\n",
       "      gap: 12px;\n",
       "    }\n",
       "\n",
       "    .colab-df-convert {\n",
       "      background-color: #E8F0FE;\n",
       "      border: none;\n",
       "      border-radius: 50%;\n",
       "      cursor: pointer;\n",
       "      display: none;\n",
       "      fill: #1967D2;\n",
       "      height: 32px;\n",
       "      padding: 0 0 0 0;\n",
       "      width: 32px;\n",
       "    }\n",
       "\n",
       "    .colab-df-convert:hover {\n",
       "      background-color: #E2EBFA;\n",
       "      box-shadow: 0px 1px 2px rgba(60, 64, 67, 0.3), 0px 1px 3px 1px rgba(60, 64, 67, 0.15);\n",
       "      fill: #174EA6;\n",
       "    }\n",
       "\n",
       "    [theme=dark] .colab-df-convert {\n",
       "      background-color: #3B4455;\n",
       "      fill: #D2E3FC;\n",
       "    }\n",
       "\n",
       "    [theme=dark] .colab-df-convert:hover {\n",
       "      background-color: #434B5C;\n",
       "      box-shadow: 0px 1px 3px 1px rgba(0, 0, 0, 0.15);\n",
       "      filter: drop-shadow(0px 1px 2px rgba(0, 0, 0, 0.3));\n",
       "      fill: #FFFFFF;\n",
       "    }\n",
       "  </style>\n",
       "\n",
       "      <script>\n",
       "        const buttonEl =\n",
       "          document.querySelector('#df-2ad0d436-cfe9-481f-b59b-f212561980c3 button.colab-df-convert');\n",
       "        buttonEl.style.display =\n",
       "          google.colab.kernel.accessAllowed ? 'block' : 'none';\n",
       "\n",
       "        async function convertToInteractive(key) {\n",
       "          const element = document.querySelector('#df-2ad0d436-cfe9-481f-b59b-f212561980c3');\n",
       "          const dataTable =\n",
       "            await google.colab.kernel.invokeFunction('convertToInteractive',\n",
       "                                                     [key], {});\n",
       "          if (!dataTable) return;\n",
       "\n",
       "          const docLinkHtml = 'Like what you see? Visit the ' +\n",
       "            '<a target=\"_blank\" href=https://colab.research.google.com/notebooks/data_table.ipynb>data table notebook</a>'\n",
       "            + ' to learn more about interactive tables.';\n",
       "          element.innerHTML = '';\n",
       "          dataTable['output_type'] = 'display_data';\n",
       "          await google.colab.output.renderOutput(dataTable, element);\n",
       "          const docLink = document.createElement('div');\n",
       "          docLink.innerHTML = docLinkHtml;\n",
       "          element.appendChild(docLink);\n",
       "        }\n",
       "      </script>\n",
       "    </div>\n",
       "  </div>\n",
       "  "
      ],
      "text/plain": [
       "         App_Name Primary_Genre Content_Rating Required_IOS_Version  \\\n",
       "478488   Vanguard       Finance             4+                 10.0   \n",
       "624553   Vanguard         Games             4+                 10.0   \n",
       "871735   Vanguard     Lifestyle             4+                  9.0   \n",
       "1024185  Vanguard  Productivity            17+                 13.0   \n",
       "1066082  Vanguard     Reference             4+                 12.0   \n",
       "1094792  Vanguard      Shopping             4+                 13.0   \n",
       "\n",
       "                         Released                   Updated  Price Currency  \\\n",
       "478488  2009-10-24 19:14:54+00:00 2021-08-26 19:55:20+00:00    0.0      USD   \n",
       "624553  2021-08-27 07:00:00+00:00 2021-08-27 12:16:53+00:00    0.0      USD   \n",
       "871735  2020-03-25 07:00:00+00:00 2021-10-05 23:12:01+00:00    0.0      USD   \n",
       "1024185 2021-06-11 07:00:00+00:00 2021-09-05 08:02:33+00:00    0.0      USD   \n",
       "1066082 2018-11-13 01:31:37+00:00 2021-03-24 12:38:41+00:00    0.0      USD   \n",
       "1094792 2014-09-28 16:38:41+00:00 2021-07-26 09:36:18+00:00    0.0      USD   \n",
       "\n",
       "         Free                                        Developer  \\\n",
       "478488   True                         The Vanguard Group, Inc.   \n",
       "624553   True                                       omar naser   \n",
       "871735   True  Vanguard Home Empreendimentos Imobiliarios LTDA   \n",
       "1024185  True                      3k CO-LIVING $ ACCOMODATION   \n",
       "1066082  True                                 TONANDEL PTY LTD   \n",
       "1094792  True                                 Just Brands B.V.   \n",
       "\n",
       "         Average_User_Rating  Reviews  Size_MB  \n",
       "478488                  4.74   167472   160.80  \n",
       "624553                  3.00        2   191.24  \n",
       "871735                  0.00        0    87.82  \n",
       "1024185                 0.00        0    35.23  \n",
       "1066082                 0.00        0    24.20  \n",
       "1094792                 5.00        1    68.75  "
      ]
     },
     "execution_count": 29,
     "metadata": {},
     "output_type": "execute_result"
    }
   ],
   "source": [
    "#df[df.App_Name=='Linker']\n",
    "df[df.App_Name=='Vanguard']"
   ]
  },
  {
   "cell_type": "markdown",
   "metadata": {
    "id": "85ie3tVI00bh"
   },
   "source": [
    "### Top Catogory\n",
    "\n",
    "Calculating by total number of apps in each genre"
   ]
  },
  {
   "cell_type": "code",
   "execution_count": 30,
   "metadata": {
    "colab": {
     "base_uri": "https://localhost:8080/",
     "height": 513
    },
    "executionInfo": {
     "elapsed": 1252,
     "status": "ok",
     "timestamp": 1662575223228,
     "user": {
      "displayName": "Pratul Chandra",
      "userId": "06160049637809107783"
     },
     "user_tz": -330
    },
    "id": "MO4XbN8L5mPX",
    "outputId": "c32692fb-714a-49a1-f52d-70686941d327"
   },
   "outputs": [
    {
     "data": {
      "image/png": "[encoded data removed]",
      "text/plain": [
       "<Figure size 504x576 with 1 Axes>"
      ]
     },
     "metadata": {
      "needs_background": "light"
     },
     "output_type": "display_data"
    }
   ],
   "source": [
    "gpdev=df.groupby(['Primary_Genre'])['App_Name'].count().reset_index().sort_values(['App_Name'], ascending=False)\n",
    "gpdev.columns=['Catagory', 'App count']\n",
    "# Visualizing \n",
    "fig, ax = plt.subplots(figsize=(7,8))\n",
    "plt.title(\"Top Catogories\")\n",
    "sns.barplot(y = gpdev['Catagory'],x = gpdev['App count'], data=gpdev);"
   ]
  },
  {
   "cell_type": "markdown",
   "metadata": {
    "id": "hFcny3oHpJCP"
   },
   "source": [
    "> Games topped from list of catagories.\n",
    "\n",
    "> Business & Education application are in a race."
   ]
  },
  {
   "cell_type": "markdown",
   "metadata": {
    "id": "LzSDkdSn1GJT"
   },
   "source": [
    "### High Priced Apps\n",
    "Visualizing top 30 high priced apps"
   ]
  },
  {
   "cell_type": "code",
   "execution_count": 31,
   "metadata": {
    "colab": {
     "base_uri": "https://localhost:8080/",
     "height": 567
    },
    "executionInfo": {
     "elapsed": 866,
     "status": "ok",
     "timestamp": 1662575224091,
     "user": {
      "displayName": "Pratul Chandra",
      "userId": "06160049637809107783"
     },
     "user_tz": -330
    },
    "id": "8I5gR8vA5mMo",
    "outputId": "e872ecd8-f48c-4cb2-df34-68c0142d4761"
   },
   "outputs": [
    {
     "data": {
      "image/png": "[encoded data removed]",
      "text/plain": [
       "<Figure size 648x648 with 1 Axes>"
      ]
     },
     "metadata": {
      "needs_background": "light"
     },
     "output_type": "display_data"
    }
   ],
   "source": [
    "high_price=df.sort_values(by='Price',ascending=False)[:30]\n",
    "plt.subplots(figsize=(9,9))\n",
    "plt.title(\"Random 30 high priced Apps \")\n",
    "sns.barplot(y = high_price['App_Name'],x = high_price['Price'], data=high_price);"
   ]
  },
  {
   "cell_type": "markdown",
   "metadata": {
    "id": "INNG0pOAqF7z"
   },
   "source": [
    "Apps that costs fortune ;). The highest price in appstore is 999.99 USD"
   ]
  },
  {
   "cell_type": "markdown",
   "metadata": {
    "id": "x4HF_ZMH1ULg"
   },
   "source": [
    "### Ratio of the paid apps and free apps\n",
    "Total no of free apps : Total no of Paid apps"
   ]
  },
  {
   "cell_type": "code",
   "execution_count": 32,
   "metadata": {
    "colab": {
     "base_uri": "https://localhost:8080/",
     "height": 369
    },
    "executionInfo": {
     "elapsed": 2100,
     "status": "ok",
     "timestamp": 1662575226184,
     "user": {
      "displayName": "Pratul Chandra",
      "userId": "06160049637809107783"
     },
     "user_tz": -330
    },
    "id": "ssSCgssY5mJo",
    "outputId": "2f9acfbd-5673-4c8e-8f30-8e708c6acfe5"
   },
   "outputs": [
    {
     "data": {
      "image/png": "[encoded data removed]",
      "text/plain": [
       "<Figure size 720x360 with 1 Axes>"
      ]
     },
     "metadata": {
      "needs_background": "light"
     },
     "output_type": "display_data"
    }
   ],
   "source": [
    "free_cat= df[df['Free']==True].groupby(['Primary_Genre'])['App_Name'].count().reset_index()\n",
    "paid_cat= df[df['Free']==False].groupby(['Primary_Genre'])['App_Name'].count().reset_index()\n",
    "free_cat.columns=['Catagory', 'Free']\n",
    "paid_cat.columns=['Catagory', 'Paid']\n",
    "concat_free_paid= pd.merge(free_cat, paid_cat, how='inner', on='Catagory')\n",
    "# Visualizing\n",
    "labels = concat_free_paid.Catagory\n",
    "a = concat_free_paid.Free\n",
    "b = concat_free_paid.Paid\n",
    "\n",
    "x = np.arange(len(labels)) \n",
    "width = 0.3 \n",
    "\n",
    "fig, ax = plt.subplots(figsize=(10, 5))\n",
    "rects1 = ax.bar(x - width/2, a, width, label='Free')\n",
    "rects2 = ax.bar(x + width/2, b, width, label='Paid')\n",
    "\n",
    "ax.set_ylabel('No of Apps')\n",
    "ax.set_title('Ratio b/w Free and Paid Apps')\n",
    "ax.set_xticks(x + width / 5)\n",
    "ax.set_xticklabels(labels, rotation=90)\n",
    "ax.legend()\n",
    "\n",
    "fig.tight_layout()\n",
    "\n",
    "plt.show()"
   ]
  },
  {
   "cell_type": "markdown",
   "metadata": {
    "id": "Pb6WK1c3qSZ8"
   },
   "source": [
    "> Seems like there way mare less paid apps in all catagories.\n",
    "\n",
    "> Education and Games almost same amount of paid apps.\n"
   ]
  },
  {
   "cell_type": "markdown",
   "metadata": {
    "id": "ICLHDlDI6QbL"
   },
   "source": [
    "### Top Developers\n",
    "According to the number of apps they've published."
   ]
  },
  {
   "cell_type": "code",
   "execution_count": 33,
   "metadata": {
    "colab": {
     "base_uri": "https://localhost:8080/",
     "height": 542
    },
    "executionInfo": {
     "elapsed": 5441,
     "status": "ok",
     "timestamp": 1662575231618,
     "user": {
      "displayName": "Pratul Chandra",
      "userId": "06160049637809107783"
     },
     "user_tz": -330
    },
    "id": "0zNIe6gf6HJP",
    "outputId": "ec1f7ca4-3a82-451d-9485-0efa6fbad7b7"
   },
   "outputs": [
    {
     "data": {
      "text/html": [
       "<html>\n",
       "<head><meta charset=\"utf-8\" /></head>\n",
       "<body>\n",
       "    <div>            <script src=\"https://cdnjs.cloudflare.com/ajax/libs/mathjax/2.7.5/MathJax.js?config=TeX-AMS-MML_SVG\"></script><script type=\"text/javascript\">if (window.MathJax && window.MathJax.Hub && window.MathJax.Hub.Config) {window.MathJax.Hub.Config({SVG: {font: \"STIX-Web\"}});}</script>                <script type=\"text/javascript\">window.PlotlyConfig = {MathJaxConfig: 'local'};</script>\n",
       "        <script src=\"https://cdn.plot.ly/plotly-2.14.0.min.js\"></script>                <div id=\"e2f1b2a5-26d3-406e-87ef-46b996f45d0e\" class=\"plotly-graph-div\" style=\"height:525px; width:870px;\"></div>            <script type=\"text/javascript\">                                    window.PLOTLYENV=window.PLOTLYENV || {};                                    if (document.getElementById(\"e2f1b2a5-26d3-406e-87ef-46b996f45d0e\")) {                    Plotly.newPlot(                        \"e2f1b2a5-26d3-406e-87ef-46b996f45d0e\",                        [{\"domain\":{\"x\":[0.0,1.0],\"y\":[0.0,1.0]},\"hole\":0.3,\"hovertemplate\":\"Developer=%{label}<br>App Count=%{value}<extra></extra>\",\"labels\":[\"ChowNow\",\"Touch2Success\",\"Alexander Velimirovic\",\"MINDBODY, Incorporated\",\"Phorest\",\"OFFLINE MAP TRIP GUIDE LTD\",\"Magzter Inc.\",\"ASK Video\",\"RAPID ACCELERATION INDIA PRIVATE LIMITED\",\"Nonlinear Educating Inc.\",\"Foodticket BV\",\"OBENTO LIMITED\",\"Narvii Inc.\",\"AppsVision\",\"Makeover Mania Story Games\",\"Tom Marchant\",\"INPEACE APP SOFTWARE DEVELOPMENT, LLC\",\"Tayga Games OOO\",\"GPSmyCity.com, Inc.\",\"Action Prompt Ltd\",\"Subsplash Inc\",\"YouVisit LLC\",\"Abner Roberto Santiago Da Silva\",\"Big Leap Studios\",\"Weetech Co Ltd\",\"Big Fish Games, Inc\",\"Vajro Inc\",\"Wiley\",\"Swapcard\",\"Ylab Inc.\"],\"legendgroup\":\"\",\"name\":\"\",\"showlegend\":true,\"values\":[3966,1649,1506,1247,1131,1022,928,781,733,555,549,537,496,483,462,462,443,439,438,433,429,416,412,407,404,399,382,382,370,343],\"type\":\"pie\"}],                        {\"template\":{\"data\":{\"histogram2dcontour\":[{\"type\":\"histogram2dcontour\",\"colorbar\":{\"outlinewidth\":0,\"ticks\":\"\"},\"colorscale\":[[0.0,\"#0d0887\"],[0.1111111111111111,\"#46039f\"],[0.2222222222222222,\"#7201a8\"],[0.3333333333333333,\"#9c179e\"],[0.4444444444444444,\"#bd3786\"],[0.5555555555555556,\"#d8576b\"],[0.6666666666666666,\"#ed7953\"],[0.7777777777777778,\"#fb9f3a\"],[0.8888888888888888,\"#fdca26\"],[1.0,\"#f0f921\"]]}],\"choropleth\":[{\"type\":\"choropleth\",\"colorbar\":{\"outlinewidth\":0,\"ticks\":\"\"}}],\"histogram2d\":[{\"type\":\"histogram2d\",\"colorbar\":{\"outlinewidth\":0,\"ticks\":\"\"},\"colorscale\":[[0.0,\"#0d0887\"],[0.1111111111111111,\"#46039f\"],[0.2222222222222222,\"#7201a8\"],[0.3333333333333333,\"#9c179e\"],[0.4444444444444444,\"#bd3786\"],[0.5555555555555556,\"#d8576b\"],[0.6666666666666666,\"#ed7953\"],[0.7777777777777778,\"#fb9f3a\"],[0.8888888888888888,\"#fdca26\"],[1.0,\"#f0f921\"]]}],\"heatmap\":[{\"type\":\"heatmap\",\"colorbar\":{\"outlinewidth\":0,\"ticks\":\"\"},\"colorscale\":[[0.0,\"#0d0887\"],[0.1111111111111111,\"#46039f\"],[0.2222222222222222,\"#7201a8\"],[0.3333333333333333,\"#9c179e\"],[0.4444444444444444,\"#bd3786\"],[0.5555555555555556,\"#d8576b\"],[0.6666666666666666,\"#ed7953\"],[0.7777777777777778,\"#fb9f3a\"],[0.8888888888888888,\"#fdca26\"],[1.0,\"#f0f921\"]]}],\"heatmapgl\":[{\"type\":\"heatmapgl\",\"colorbar\":{\"outlinewidth\":0,\"ticks\":\"\"},\"colorscale\":[[0.0,\"#0d0887\"],[0.1111111111111111,\"#46039f\"],[0.2222222222222222,\"#7201a8\"],[0.3333333333333333,\"#9c179e\"],[0.4444444444444444,\"#bd3786\"],[0.5555555555555556,\"#d8576b\"],[0.6666666666666666,\"#ed7953\"],[0.7777777777777778,\"#fb9f3a\"],[0.8888888888888888,\"#fdca26\"],[1.0,\"#f0f921\"]]}],\"contourcarpet\":[{\"type\":\"contourcarpet\",\"colorbar\":{\"outlinewidth\":0,\"ticks\":\"\"}}],\"contour\":[{\"type\":\"contour\",\"colorbar\":{\"outlinewidth\":0,\"ticks\":\"\"},\"colorscale\":[[0.0,\"#0d0887\"],[0.1111111111111111,\"#46039f\"],[0.2222222222222222,\"#7201a8\"],[0.3333333333333333,\"#9c179e\"],[0.4444444444444444,\"#bd3786\"],[0.5555555555555556,\"#d8576b\"],[0.6666666666666666,\"#ed7953\"],[0.7777777777777778,\"#fb9f3a\"],[0.8888888888888888,\"#fdca26\"],[1.0,\"#f0f921\"]]}],\"surface\":[{\"type\":\"surface\",\"colorbar\":{\"outlinewidth\":0,\"ticks\":\"\"},\"colorscale\":[[0.0,\"#0d0887\"],[0.1111111111111111,\"#46039f\"],[0.2222222222222222,\"#7201a8\"],[0.3333333333333333,\"#9c179e\"],[0.4444444444444444,\"#bd3786\"],[0.5555555555555556,\"#d8576b\"],[0.6666666666666666,\"#ed7953\"],[0.7777777777777778,\"#fb9f3a\"],[0.8888888888888888,\"#fdca26\"],[1.0,\"#f0f921\"]]}],\"mesh3d\":[{\"type\":\"mesh3d\",\"colorbar\":{\"outlinewidth\":0,\"ticks\":\"\"}}],\"scatter\":[{\"fillpattern\":{\"fillmode\":\"overlay\",\"size\":10,\"solidity\":0.2},\"type\":\"scatter\"}],\"parcoords\":[{\"type\":\"parcoords\",\"line\":{\"colorbar\":{\"outlinewidth\":0,\"ticks\":\"\"}}}],\"scatterpolargl\":[{\"type\":\"scatterpolargl\",\"marker\":{\"colorbar\":{\"outlinewidth\":0,\"ticks\":\"\"}}}],\"bar\":[{\"error_x\":{\"color\":\"#2a3f5f\"},\"error_y\":{\"color\":\"#2a3f5f\"},\"marker\":{\"line\":{\"color\":\"#E5ECF6\",\"width\":0.5},\"pattern\":{\"fillmode\":\"overlay\",\"size\":10,\"solidity\":0.2}},\"type\":\"bar\"}],\"scattergeo\":[{\"type\":\"scattergeo\",\"marker\":{\"colorbar\":{\"outlinewidth\":0,\"ticks\":\"\"}}}],\"scatterpolar\":[{\"type\":\"scatterpolar\",\"marker\":{\"colorbar\":{\"outlinewidth\":0,\"ticks\":\"\"}}}],\"histogram\":[{\"marker\":{\"pattern\":{\"fillmode\":\"overlay\",\"size\":10,\"solidity\":0.2}},\"type\":\"histogram\"}],\"scattergl\":[{\"type\":\"scattergl\",\"marker\":{\"colorbar\":{\"outlinewidth\":0,\"ticks\":\"\"}}}],\"scatter3d\":[{\"type\":\"scatter3d\",\"line\":{\"colorbar\":{\"outlinewidth\":0,\"ticks\":\"\"}},\"marker\":{\"colorbar\":{\"outlinewidth\":0,\"ticks\":\"\"}}}],\"scattermapbox\":[{\"type\":\"scattermapbox\",\"marker\":{\"colorbar\":{\"outlinewidth\":0,\"ticks\":\"\"}}}],\"scatterternary\":[{\"type\":\"scatterternary\",\"marker\":{\"colorbar\":{\"outlinewidth\":0,\"ticks\":\"\"}}}],\"scattercarpet\":[{\"type\":\"scattercarpet\",\"marker\":{\"colorbar\":{\"outlinewidth\":0,\"ticks\":\"\"}}}],\"carpet\":[{\"aaxis\":{\"endlinecolor\":\"#2a3f5f\",\"gridcolor\":\"white\",\"linecolor\":\"white\",\"minorgridcolor\":\"white\",\"startlinecolor\":\"#2a3f5f\"},\"baxis\":{\"endlinecolor\":\"#2a3f5f\",\"gridcolor\":\"white\",\"linecolor\":\"white\",\"minorgridcolor\":\"white\",\"startlinecolor\":\"#2a3f5f\"},\"type\":\"carpet\"}],\"table\":[{\"cells\":{\"fill\":{\"color\":\"#EBF0F8\"},\"line\":{\"color\":\"white\"}},\"header\":{\"fill\":{\"color\":\"#C8D4E3\"},\"line\":{\"color\":\"white\"}},\"type\":\"table\"}],\"barpolar\":[{\"marker\":{\"line\":{\"color\":\"#E5ECF6\",\"width\":0.5},\"pattern\":{\"fillmode\":\"overlay\",\"size\":10,\"solidity\":0.2}},\"type\":\"barpolar\"}],\"pie\":[{\"automargin\":true,\"type\":\"pie\"}]},\"layout\":{\"autotypenumbers\":\"strict\",\"colorway\":[\"#636efa\",\"#EF553B\",\"#00cc96\",\"#ab63fa\",\"#FFA15A\",\"#19d3f3\",\"#FF6692\",\"#B6E880\",\"#FF97FF\",\"#FECB52\"],\"font\":{\"color\":\"#2a3f5f\"},\"hovermode\":\"closest\",\"hoverlabel\":{\"align\":\"left\"},\"paper_bgcolor\":\"white\",\"plot_bgcolor\":\"#E5ECF6\",\"polar\":{\"bgcolor\":\"#E5ECF6\",\"angularaxis\":{\"gridcolor\":\"white\",\"linecolor\":\"white\",\"ticks\":\"\"},\"radialaxis\":{\"gridcolor\":\"white\",\"linecolor\":\"white\",\"ticks\":\"\"}},\"ternary\":{\"bgcolor\":\"#E5ECF6\",\"aaxis\":{\"gridcolor\":\"white\",\"linecolor\":\"white\",\"ticks\":\"\"},\"baxis\":{\"gridcolor\":\"white\",\"linecolor\":\"white\",\"ticks\":\"\"},\"caxis\":{\"gridcolor\":\"white\",\"linecolor\":\"white\",\"ticks\":\"\"}},\"coloraxis\":{\"colorbar\":{\"outlinewidth\":0,\"ticks\":\"\"}},\"colorscale\":{\"sequential\":[[0.0,\"#0d0887\"],[0.1111111111111111,\"#46039f\"],[0.2222222222222222,\"#7201a8\"],[0.3333333333333333,\"#9c179e\"],[0.4444444444444444,\"#bd3786\"],[0.5555555555555556,\"#d8576b\"],[0.6666666666666666,\"#ed7953\"],[0.7777777777777778,\"#fb9f3a\"],[0.8888888888888888,\"#fdca26\"],[1.0,\"#f0f921\"]],\"sequentialminus\":[[0.0,\"#0d0887\"],[0.1111111111111111,\"#46039f\"],[0.2222222222222222,\"#7201a8\"],[0.3333333333333333,\"#9c179e\"],[0.4444444444444444,\"#bd3786\"],[0.5555555555555556,\"#d8576b\"],[0.6666666666666666,\"#ed7953\"],[0.7777777777777778,\"#fb9f3a\"],[0.8888888888888888,\"#fdca26\"],[1.0,\"#f0f921\"]],\"diverging\":[[0,\"#8e0152\"],[0.1,\"#c51b7d\"],[0.2,\"#de77ae\"],[0.3,\"#f1b6da\"],[0.4,\"#fde0ef\"],[0.5,\"#f7f7f7\"],[0.6,\"#e6f5d0\"],[0.7,\"#b8e186\"],[0.8,\"#7fbc41\"],[0.9,\"#4d9221\"],[1,\"#276419\"]]},\"xaxis\":{\"gridcolor\":\"white\",\"linecolor\":\"white\",\"ticks\":\"\",\"title\":{\"standoff\":15},\"zerolinecolor\":\"white\",\"automargin\":true,\"zerolinewidth\":2},\"yaxis\":{\"gridcolor\":\"white\",\"linecolor\":\"white\",\"ticks\":\"\",\"title\":{\"standoff\":15},\"zerolinecolor\":\"white\",\"automargin\":true,\"zerolinewidth\":2},\"scene\":{\"xaxis\":{\"backgroundcolor\":\"#E5ECF6\",\"gridcolor\":\"white\",\"linecolor\":\"white\",\"showbackground\":true,\"ticks\":\"\",\"zerolinecolor\":\"white\",\"gridwidth\":2},\"yaxis\":{\"backgroundcolor\":\"#E5ECF6\",\"gridcolor\":\"white\",\"linecolor\":\"white\",\"showbackground\":true,\"ticks\":\"\",\"zerolinecolor\":\"white\",\"gridwidth\":2},\"zaxis\":{\"backgroundcolor\":\"#E5ECF6\",\"gridcolor\":\"white\",\"linecolor\":\"white\",\"showbackground\":true,\"ticks\":\"\",\"zerolinecolor\":\"white\",\"gridwidth\":2}},\"shapedefaults\":{\"line\":{\"color\":\"#2a3f5f\"}},\"annotationdefaults\":{\"arrowcolor\":\"#2a3f5f\",\"arrowhead\":0,\"arrowwidth\":1},\"geo\":{\"bgcolor\":\"white\",\"landcolor\":\"#E5ECF6\",\"subunitcolor\":\"white\",\"showland\":true,\"showlakes\":true,\"lakecolor\":\"white\"},\"title\":{\"x\":0.05},\"mapbox\":{\"style\":\"light\"}}},\"legend\":{\"tracegroupgap\":0},\"title\":{\"text\":\"Top Developers\"},\"width\":870},                        {\"responsive\": true}                    ).then(function(){\n",
       "                            \n",
       "var gd = document.getElementById('e2f1b2a5-26d3-406e-87ef-46b996f45d0e');\n",
       "var x = new MutationObserver(function (mutations, observer) {{\n",
       "        var display = window.getComputedStyle(gd).display;\n",
       "        if (!display || display === 'none') {{\n",
       "            console.log([gd, 'removed!']);\n",
       "            Plotly.purge(gd);\n",
       "            observer.disconnect();\n",
       "        }}\n",
       "}});\n",
       "\n",
       "// Listen for the removal of the full notebook cells\n",
       "var notebookContainer = gd.closest('#notebook-container');\n",
       "if (notebookContainer) {{\n",
       "    x.observe(notebookContainer, {childList: true});\n",
       "}}\n",
       "\n",
       "// Listen for the clearing of the current output cell\n",
       "var outputEl = gd.closest('.output');\n",
       "if (outputEl) {{\n",
       "    x.observe(outputEl, {childList: true});\n",
       "}}\n",
       "\n",
       "                        })                };                            </script>        </div>\n",
       "</body>\n",
       "</html>"
      ]
     },
     "metadata": {},
     "output_type": "display_data"
    }
   ],
   "source": [
    "top_dev_appc= df.groupby([df.Developer])['App_Name'].count().reset_index().sort_values(by='App_Name', ascending=False)\n",
    "top_dev_appc.columns= ['Developer','App Count']\n",
    "fig = px.pie(top_dev_appc[:30], \n",
    "             values='App Count', \n",
    "             names='Developer', \n",
    "             title='Top Developers', hole=.3)\n",
    "fig.update_layout(width=870)\n",
    "fig.show()"
   ]
  },
  {
   "cell_type": "markdown",
   "metadata": {
    "id": "AbY_z4jpZ6Kd"
   },
   "source": [
    "ChowNow has published almost 4 thousand apps in appstore. Touch2Success, Alexander Velimirovic, Mindbody, Phorest, Offline map trip guide ltd these developers have published more than a thousand applications.\n"
   ]
  },
  {
   "cell_type": "markdown",
   "metadata": {
    "id": "9vTwg-1MIr1W"
   },
   "source": [
    "## -> Questioning & Answering\n",
    "We've already gained some insights about the Appstore app data by exploring individual columns of the dataset. \n",
    "\n",
    "Let's ask some specific questions and try to answer them using data frame operations and visualizations.\n",
    "\n",
    "1. Which developers are most popular?\n",
    "2. Which app has popularity dominence from Top 20 developers?\n",
    "3. What is the impact on users due to size of the app?\n",
    "4. What is the number of app releases and users over the years?\n",
    "5. How many apps will work on various IOS versions?\n",
    "6. What is percent of Free and Paid Games and What are the top 10 games that most users use?\n",
    "7. What is the growth of gamers over the years. (2008 - 2021)\n",
    "8. Which developer has the highest earnings from paid apps?"
   ]
  },
  {
   "cell_type": "markdown",
   "metadata": {
    "id": "J0itemTaJHq9"
   },
   "source": [
    "### Q1. Which developers are most popular? \n",
    "\n",
    "\n",
    "  "
   ]
  },
  {
   "cell_type": "code",
   "execution_count": 34,
   "metadata": {
    "executionInfo": {
     "elapsed": 8748,
     "status": "ok",
     "timestamp": 1662575240361,
     "user": {
      "displayName": "Pratul Chandra",
      "userId": "06160049637809107783"
     },
     "user_tz": -330
    },
    "id": "wvcunmEg5mEi"
   },
   "outputs": [],
   "source": [
    "top_pop_dev_r = df.groupby(['Developer'])['Reviews'].sum().reset_index().sort_values(by=['Reviews'],ascending=False)\n",
    "top_dev_appc= df.groupby(['Developer'])['App_Name'].count().reset_index().sort_values(by='App_Name', ascending=False)\n",
    "top_pop_dev= pd.merge(top_pop_dev_r, top_dev_appc, how='inner', on='Developer')\n",
    "top_pop_dev.columns=['Developer','Popularity', 'App_Count']"
   ]
  },
  {
   "cell_type": "markdown",
   "metadata": {
    "id": "iN-SwkY88SJl"
   },
   "source": [
    "By calculating 1 Review = 1 User"
   ]
  },
  {
   "cell_type": "code",
   "execution_count": 35,
   "metadata": {
    "colab": {
     "base_uri": "https://localhost:8080/",
     "height": 542
    },
    "executionInfo": {
     "elapsed": 620,
     "status": "ok",
     "timestamp": 1662575240964,
     "user": {
      "displayName": "Pratul Chandra",
      "userId": "06160049637809107783"
     },
     "user_tz": -330
    },
    "id": "sKF4Y4Bp9zn6",
    "outputId": "e54d8cb4-797f-4de1-ea10-c001836b4a6f"
   },
   "outputs": [
    {
     "data": {
      "text/html": [
       "<html>\n",
       "<head><meta charset=\"utf-8\" /></head>\n",
       "<body>\n",
       "    <div>            <script src=\"https://cdnjs.cloudflare.com/ajax/libs/mathjax/2.7.5/MathJax.js?config=TeX-AMS-MML_SVG\"></script><script type=\"text/javascript\">if (window.MathJax && window.MathJax.Hub && window.MathJax.Hub.Config) {window.MathJax.Hub.Config({SVG: {font: \"STIX-Web\"}});}</script>                <script type=\"text/javascript\">window.PlotlyConfig = {MathJaxConfig: 'local'};</script>\n",
       "        <script src=\"https://cdn.plot.ly/plotly-2.14.0.min.js\"></script>                <div id=\"21d50048-17a7-4f8a-be72-96830f3ec1d6\" class=\"plotly-graph-div\" style=\"height:525px; width:900px;\"></div>            <script type=\"text/javascript\">                                    window.PLOTLYENV=window.PLOTLYENV || {};                                    if (document.getElementById(\"21d50048-17a7-4f8a-be72-96830f3ec1d6\")) {                    Plotly.newPlot(                        \"21d50048-17a7-4f8a-be72-96830f3ec1d6\",                        [{\"hovertemplate\":\"Developer=%{y}<br>Popularity=%{x}<br>App_Count=%{text}<extra></extra>\",\"legendgroup\":\"Google LLC\",\"marker\":{\"color\":\"#F8766D\"},\"name\":\"Google LLC\",\"orientation\":\"h\",\"showlegend\":true,\"text\":[85.0],\"x\":[42903262],\"xaxis\":\"x\",\"y\":[\"Google LLC\"],\"yaxis\":\"y\",\"type\":\"funnel\"},{\"hovertemplate\":\"Developer=%{y}<br>Popularity=%{x}<br>App_Count=%{text}<extra></extra>\",\"legendgroup\":\"Instagram, Inc.\",\"marker\":{\"color\":\"#A3A500\"},\"name\":\"Instagram, Inc.\",\"orientation\":\"h\",\"showlegend\":true,\"text\":[6.0],\"x\":[21999081],\"xaxis\":\"x\",\"y\":[\"Instagram, Inc.\"],\"yaxis\":\"y\",\"type\":\"funnel\"},{\"hovertemplate\":\"Developer=%{y}<br>Popularity=%{x}<br>App_Count=%{text}<extra></extra>\",\"legendgroup\":\"Spotify Ltd.\",\"marker\":{\"color\":\"#00BF7D\"},\"name\":\"Spotify Ltd.\",\"orientation\":\"h\",\"showlegend\":true,\"text\":[7.0],\"x\":[19031954],\"xaxis\":\"x\",\"y\":[\"Spotify Ltd.\"],\"yaxis\":\"y\",\"type\":\"funnel\"},{\"hovertemplate\":\"Developer=%{y}<br>Popularity=%{x}<br>App_Count=%{text}<extra></extra>\",\"legendgroup\":\"Voodoo\",\"marker\":{\"color\":\"#00B0F6\"},\"name\":\"Voodoo\",\"orientation\":\"h\",\"showlegend\":true,\"text\":[189.0],\"x\":[18944191],\"xaxis\":\"x\",\"y\":[\"Voodoo\"],\"yaxis\":\"y\",\"type\":\"funnel\"},{\"hovertemplate\":\"Developer=%{y}<br>Popularity=%{x}<br>App_Count=%{text}<extra></extra>\",\"legendgroup\":\"AMZN Mobile LLC\",\"marker\":{\"color\":\"#E76BF3\"},\"name\":\"AMZN Mobile LLC\",\"orientation\":\"h\",\"showlegend\":true,\"text\":[50.0],\"x\":[15662193],\"xaxis\":\"x\",\"y\":[\"AMZN Mobile LLC\"],\"yaxis\":\"y\",\"type\":\"funnel\"},{\"hovertemplate\":\"Developer=%{y}<br>Popularity=%{x}<br>App_Count=%{text}<extra></extra>\",\"legendgroup\":\"DoorDash, Inc.\",\"marker\":{\"color\":\"#F8766D\"},\"name\":\"DoorDash, Inc.\",\"orientation\":\"h\",\"showlegend\":true,\"text\":[2.0],\"x\":[13812572],\"xaxis\":\"x\",\"y\":[\"DoorDash, Inc.\"],\"yaxis\":\"y\",\"type\":\"funnel\"},{\"hovertemplate\":\"Developer=%{y}<br>Popularity=%{x}<br>App_Count=%{text}<extra></extra>\",\"legendgroup\":\"Venmo\",\"marker\":{\"color\":\"#A3A500\"},\"name\":\"Venmo\",\"orientation\":\"h\",\"showlegend\":true,\"text\":[1.0],\"x\":[12634191],\"xaxis\":\"x\",\"y\":[\"Venmo\"],\"yaxis\":\"y\",\"type\":\"funnel\"},{\"hovertemplate\":\"Developer=%{y}<br>Popularity=%{x}<br>App_Count=%{text}<extra></extra>\",\"legendgroup\":\"TikTok Pte. Ltd.\",\"marker\":{\"color\":\"#00BF7D\"},\"name\":\"TikTok Pte. Ltd.\",\"orientation\":\"h\",\"showlegend\":true,\"text\":[1.0],\"x\":[10598509],\"xaxis\":\"x\",\"y\":[\"TikTok Pte. Ltd.\"],\"yaxis\":\"y\",\"type\":\"funnel\"},{\"hovertemplate\":\"Developer=%{y}<br>Popularity=%{x}<br>App_Count=%{text}<extra></extra>\",\"legendgroup\":\"Lyft, Inc.\",\"marker\":{\"color\":\"#00B0F6\"},\"name\":\"Lyft, Inc.\",\"orientation\":\"h\",\"showlegend\":true,\"text\":[3.0],\"x\":[10331957],\"xaxis\":\"x\",\"y\":[\"Lyft, Inc.\"],\"yaxis\":\"y\",\"type\":\"funnel\"},{\"hovertemplate\":\"Developer=%{y}<br>Popularity=%{x}<br>App_Count=%{text}<extra></extra>\",\"legendgroup\":\"WhatsApp Inc.\",\"marker\":{\"color\":\"#E76BF3\"},\"name\":\"WhatsApp Inc.\",\"orientation\":\"h\",\"showlegend\":true,\"text\":[3.0],\"x\":[9377027],\"xaxis\":\"x\",\"y\":[\"WhatsApp Inc.\"],\"yaxis\":\"y\",\"type\":\"funnel\"},{\"hovertemplate\":\"Developer=%{y}<br>Popularity=%{x}<br>App_Count=%{text}<extra></extra>\",\"legendgroup\":\"Pandora Media, Inc.\",\"marker\":{\"color\":\"#F8766D\"},\"name\":\"Pandora Media, Inc.\",\"orientation\":\"h\",\"showlegend\":true,\"text\":[1.0],\"x\":[8297798],\"xaxis\":\"x\",\"y\":[\"Pandora Media, Inc.\"],\"yaxis\":\"y\",\"type\":\"funnel\"},{\"hovertemplate\":\"Developer=%{y}<br>Popularity=%{x}<br>App_Count=%{text}<extra></extra>\",\"legendgroup\":\"Uber Technologies, Inc.\",\"marker\":{\"color\":\"#A3A500\"},\"name\":\"Uber Technologies, Inc.\",\"orientation\":\"h\",\"showlegend\":true,\"text\":[7.0],\"x\":[7756816],\"xaxis\":\"x\",\"y\":[\"Uber Technologies, Inc.\"],\"yaxis\":\"y\",\"type\":\"funnel\"},{\"hovertemplate\":\"Developer=%{y}<br>Popularity=%{x}<br>App_Count=%{text}<extra></extra>\",\"legendgroup\":\"Life.Church\",\"marker\":{\"color\":\"#00BF7D\"},\"name\":\"Life.Church\",\"orientation\":\"h\",\"showlegend\":true,\"text\":[4.0],\"x\":[7187426],\"xaxis\":\"x\",\"y\":[\"Life.Church\"],\"yaxis\":\"y\",\"type\":\"funnel\"},{\"hovertemplate\":\"Developer=%{y}<br>Popularity=%{x}<br>App_Count=%{text}<extra></extra>\",\"legendgroup\":\"Microsoft Corporation\",\"marker\":{\"color\":\"#00B0F6\"},\"name\":\"Microsoft Corporation\",\"orientation\":\"h\",\"showlegend\":true,\"text\":[101.0],\"x\":[6808149],\"xaxis\":\"x\",\"y\":[\"Microsoft Corporation\"],\"yaxis\":\"y\",\"type\":\"funnel\"},{\"hovertemplate\":\"Developer=%{y}<br>Popularity=%{x}<br>App_Count=%{text}<extra></extra>\",\"legendgroup\":\"Lion Studios\",\"marker\":{\"color\":\"#E76BF3\"},\"name\":\"Lion Studios\",\"orientation\":\"h\",\"showlegend\":true,\"text\":[125.0],\"x\":[6685712],\"xaxis\":\"x\",\"y\":[\"Lion Studios\"],\"yaxis\":\"y\",\"type\":\"funnel\"},{\"hovertemplate\":\"Developer=%{y}<br>Popularity=%{x}<br>App_Count=%{text}<extra></extra>\",\"legendgroup\":\"Wells Fargo\",\"marker\":{\"color\":\"#F8766D\"},\"name\":\"Wells Fargo\",\"orientation\":\"h\",\"showlegend\":true,\"text\":[5.0],\"x\":[6315853],\"xaxis\":\"x\",\"y\":[\"Wells Fargo\"],\"yaxis\":\"y\",\"type\":\"funnel\"},{\"hovertemplate\":\"Developer=%{y}<br>Popularity=%{x}<br>App_Count=%{text}<extra></extra>\",\"legendgroup\":\"Zillow.com\",\"marker\":{\"color\":\"#A3A500\"},\"name\":\"Zillow.com\",\"orientation\":\"h\",\"showlegend\":true,\"text\":[6.0],\"x\":[6160516],\"xaxis\":\"x\",\"y\":[\"Zillow.com\"],\"yaxis\":\"y\",\"type\":\"funnel\"},{\"hovertemplate\":\"Developer=%{y}<br>Popularity=%{x}<br>App_Count=%{text}<extra></extra>\",\"legendgroup\":\"Roblox Corporation\",\"marker\":{\"color\":\"#00BF7D\"},\"name\":\"Roblox Corporation\",\"orientation\":\"h\",\"showlegend\":true,\"text\":[1.0],\"x\":[6127588],\"xaxis\":\"x\",\"y\":[\"Roblox Corporation\"],\"yaxis\":\"y\",\"type\":\"funnel\"},{\"hovertemplate\":\"Developer=%{y}<br>Popularity=%{x}<br>App_Count=%{text}<extra></extra>\",\"legendgroup\":\"PayPal, Inc.\",\"marker\":{\"color\":\"#00B0F6\"},\"name\":\"PayPal, Inc.\",\"orientation\":\"h\",\"showlegend\":true,\"text\":[5.0],\"x\":[5990608],\"xaxis\":\"x\",\"y\":[\"PayPal, Inc.\"],\"yaxis\":\"y\",\"type\":\"funnel\"},{\"hovertemplate\":\"Developer=%{y}<br>Popularity=%{x}<br>App_Count=%{text}<extra></extra>\",\"legendgroup\":\"Disney\",\"marker\":{\"color\":\"#E76BF3\"},\"name\":\"Disney\",\"orientation\":\"h\",\"showlegend\":true,\"text\":[101.0],\"x\":[5983001],\"xaxis\":\"x\",\"y\":[\"Disney\"],\"yaxis\":\"y\",\"type\":\"funnel\"}],                        {\"template\":{\"data\":{\"barpolar\":[{\"marker\":{\"line\":{\"color\":\"rgb(237,237,237)\",\"width\":0.5},\"pattern\":{\"fillmode\":\"overlay\",\"size\":10,\"solidity\":0.2}},\"type\":\"barpolar\"}],\"bar\":[{\"error_x\":{\"color\":\"rgb(51,51,51)\"},\"error_y\":{\"color\":\"rgb(51,51,51)\"},\"marker\":{\"line\":{\"color\":\"rgb(237,237,237)\",\"width\":0.5},\"pattern\":{\"fillmode\":\"overlay\",\"size\":10,\"solidity\":0.2}},\"type\":\"bar\"}],\"carpet\":[{\"aaxis\":{\"endlinecolor\":\"rgb(51,51,51)\",\"gridcolor\":\"white\",\"linecolor\":\"white\",\"minorgridcolor\":\"white\",\"startlinecolor\":\"rgb(51,51,51)\"},\"baxis\":{\"endlinecolor\":\"rgb(51,51,51)\",\"gridcolor\":\"white\",\"linecolor\":\"white\",\"minorgridcolor\":\"white\",\"startlinecolor\":\"rgb(51,51,51)\"},\"type\":\"carpet\"}],\"choropleth\":[{\"colorbar\":{\"outlinewidth\":0,\"tickcolor\":\"rgb(237,237,237)\",\"ticklen\":6,\"ticks\":\"inside\"},\"type\":\"choropleth\"}],\"contourcarpet\":[{\"colorbar\":{\"outlinewidth\":0,\"tickcolor\":\"rgb(237,237,237)\",\"ticklen\":6,\"ticks\":\"inside\"},\"type\":\"contourcarpet\"}],\"contour\":[{\"colorbar\":{\"outlinewidth\":0,\"tickcolor\":\"rgb(237,237,237)\",\"ticklen\":6,\"ticks\":\"inside\"},\"colorscale\":[[0,\"rgb(20,44,66)\"],[1,\"rgb(90,179,244)\"]],\"type\":\"contour\"}],\"heatmapgl\":[{\"colorbar\":{\"outlinewidth\":0,\"tickcolor\":\"rgb(237,237,237)\",\"ticklen\":6,\"ticks\":\"inside\"},\"colorscale\":[[0,\"rgb(20,44,66)\"],[1,\"rgb(90,179,244)\"]],\"type\":\"heatmapgl\"}],\"heatmap\":[{\"colorbar\":{\"outlinewidth\":0,\"tickcolor\":\"rgb(237,237,237)\",\"ticklen\":6,\"ticks\":\"inside\"},\"colorscale\":[[0,\"rgb(20,44,66)\"],[1,\"rgb(90,179,244)\"]],\"type\":\"heatmap\"}],\"histogram2dcontour\":[{\"colorbar\":{\"outlinewidth\":0,\"tickcolor\":\"rgb(237,237,237)\",\"ticklen\":6,\"ticks\":\"inside\"},\"colorscale\":[[0,\"rgb(20,44,66)\"],[1,\"rgb(90,179,244)\"]],\"type\":\"histogram2dcontour\"}],\"histogram2d\":[{\"colorbar\":{\"outlinewidth\":0,\"tickcolor\":\"rgb(237,237,237)\",\"ticklen\":6,\"ticks\":\"inside\"},\"colorscale\":[[0,\"rgb(20,44,66)\"],[1,\"rgb(90,179,244)\"]],\"type\":\"histogram2d\"}],\"histogram\":[{\"marker\":{\"pattern\":{\"fillmode\":\"overlay\",\"size\":10,\"solidity\":0.2}},\"type\":\"histogram\"}],\"mesh3d\":[{\"colorbar\":{\"outlinewidth\":0,\"tickcolor\":\"rgb(237,237,237)\",\"ticklen\":6,\"ticks\":\"inside\"},\"type\":\"mesh3d\"}],\"parcoords\":[{\"line\":{\"colorbar\":{\"outlinewidth\":0,\"tickcolor\":\"rgb(237,237,237)\",\"ticklen\":6,\"ticks\":\"inside\"}},\"type\":\"parcoords\"}],\"pie\":[{\"automargin\":true,\"type\":\"pie\"}],\"scatter3d\":[{\"line\":{\"colorbar\":{\"outlinewidth\":0,\"tickcolor\":\"rgb(237,237,237)\",\"ticklen\":6,\"ticks\":\"inside\"}},\"marker\":{\"colorbar\":{\"outlinewidth\":0,\"tickcolor\":\"rgb(237,237,237)\",\"ticklen\":6,\"ticks\":\"inside\"}},\"type\":\"scatter3d\"}],\"scattercarpet\":[{\"marker\":{\"colorbar\":{\"outlinewidth\":0,\"tickcolor\":\"rgb(237,237,237)\",\"ticklen\":6,\"ticks\":\"inside\"}},\"type\":\"scattercarpet\"}],\"scattergeo\":[{\"marker\":{\"colorbar\":{\"outlinewidth\":0,\"tickcolor\":\"rgb(237,237,237)\",\"ticklen\":6,\"ticks\":\"inside\"}},\"type\":\"scattergeo\"}],\"scattergl\":[{\"marker\":{\"colorbar\":{\"outlinewidth\":0,\"tickcolor\":\"rgb(237,237,237)\",\"ticklen\":6,\"ticks\":\"inside\"}},\"type\":\"scattergl\"}],\"scattermapbox\":[{\"marker\":{\"colorbar\":{\"outlinewidth\":0,\"tickcolor\":\"rgb(237,237,237)\",\"ticklen\":6,\"ticks\":\"inside\"}},\"type\":\"scattermapbox\"}],\"scatterpolargl\":[{\"marker\":{\"colorbar\":{\"outlinewidth\":0,\"tickcolor\":\"rgb(237,237,237)\",\"ticklen\":6,\"ticks\":\"inside\"}},\"type\":\"scatterpolargl\"}],\"scatterpolar\":[{\"marker\":{\"colorbar\":{\"outlinewidth\":0,\"tickcolor\":\"rgb(237,237,237)\",\"ticklen\":6,\"ticks\":\"inside\"}},\"type\":\"scatterpolar\"}],\"scatter\":[{\"fillpattern\":{\"fillmode\":\"overlay\",\"size\":10,\"solidity\":0.2},\"type\":\"scatter\"}],\"scatterternary\":[{\"marker\":{\"colorbar\":{\"outlinewidth\":0,\"tickcolor\":\"rgb(237,237,237)\",\"ticklen\":6,\"ticks\":\"inside\"}},\"type\":\"scatterternary\"}],\"surface\":[{\"colorbar\":{\"outlinewidth\":0,\"tickcolor\":\"rgb(237,237,237)\",\"ticklen\":6,\"ticks\":\"inside\"},\"colorscale\":[[0,\"rgb(20,44,66)\"],[1,\"rgb(90,179,244)\"]],\"type\":\"surface\"}],\"table\":[{\"cells\":{\"fill\":{\"color\":\"rgb(237,237,237)\"},\"line\":{\"color\":\"white\"}},\"header\":{\"fill\":{\"color\":\"rgb(217,217,217)\"},\"line\":{\"color\":\"white\"}},\"type\":\"table\"}]},\"layout\":{\"annotationdefaults\":{\"arrowhead\":0,\"arrowwidth\":1},\"autotypenumbers\":\"strict\",\"coloraxis\":{\"colorbar\":{\"outlinewidth\":0,\"tickcolor\":\"rgb(237,237,237)\",\"ticklen\":6,\"ticks\":\"inside\"}},\"colorscale\":{\"sequential\":[[0,\"rgb(20,44,66)\"],[1,\"rgb(90,179,244)\"]],\"sequentialminus\":[[0,\"rgb(20,44,66)\"],[1,\"rgb(90,179,244)\"]]},\"colorway\":[\"#F8766D\",\"#A3A500\",\"#00BF7D\",\"#00B0F6\",\"#E76BF3\"],\"font\":{\"color\":\"rgb(51,51,51)\"},\"geo\":{\"bgcolor\":\"white\",\"lakecolor\":\"white\",\"landcolor\":\"rgb(237,237,237)\",\"showlakes\":true,\"showland\":true,\"subunitcolor\":\"white\"},\"hoverlabel\":{\"align\":\"left\"},\"hovermode\":\"closest\",\"paper_bgcolor\":\"white\",\"plot_bgcolor\":\"rgb(237,237,237)\",\"polar\":{\"angularaxis\":{\"gridcolor\":\"white\",\"linecolor\":\"white\",\"showgrid\":true,\"tickcolor\":\"rgb(51,51,51)\",\"ticks\":\"outside\"},\"bgcolor\":\"rgb(237,237,237)\",\"radialaxis\":{\"gridcolor\":\"white\",\"linecolor\":\"white\",\"showgrid\":true,\"tickcolor\":\"rgb(51,51,51)\",\"ticks\":\"outside\"}},\"scene\":{\"xaxis\":{\"backgroundcolor\":\"rgb(237,237,237)\",\"gridcolor\":\"white\",\"gridwidth\":2,\"linecolor\":\"white\",\"showbackground\":true,\"showgrid\":true,\"tickcolor\":\"rgb(51,51,51)\",\"ticks\":\"outside\",\"zerolinecolor\":\"white\"},\"yaxis\":{\"backgroundcolor\":\"rgb(237,237,237)\",\"gridcolor\":\"white\",\"gridwidth\":2,\"linecolor\":\"white\",\"showbackground\":true,\"showgrid\":true,\"tickcolor\":\"rgb(51,51,51)\",\"ticks\":\"outside\",\"zerolinecolor\":\"white\"},\"zaxis\":{\"backgroundcolor\":\"rgb(237,237,237)\",\"gridcolor\":\"white\",\"gridwidth\":2,\"linecolor\":\"white\",\"showbackground\":true,\"showgrid\":true,\"tickcolor\":\"rgb(51,51,51)\",\"ticks\":\"outside\",\"zerolinecolor\":\"white\"}},\"shapedefaults\":{\"fillcolor\":\"black\",\"line\":{\"width\":0},\"opacity\":0.3},\"ternary\":{\"aaxis\":{\"gridcolor\":\"white\",\"linecolor\":\"white\",\"showgrid\":true,\"tickcolor\":\"rgb(51,51,51)\",\"ticks\":\"outside\"},\"baxis\":{\"gridcolor\":\"white\",\"linecolor\":\"white\",\"showgrid\":true,\"tickcolor\":\"rgb(51,51,51)\",\"ticks\":\"outside\"},\"bgcolor\":\"rgb(237,237,237)\",\"caxis\":{\"gridcolor\":\"white\",\"linecolor\":\"white\",\"showgrid\":true,\"tickcolor\":\"rgb(51,51,51)\",\"ticks\":\"outside\"}},\"xaxis\":{\"automargin\":true,\"gridcolor\":\"white\",\"linecolor\":\"white\",\"showgrid\":true,\"tickcolor\":\"rgb(51,51,51)\",\"ticks\":\"outside\",\"title\":{\"standoff\":15},\"zerolinecolor\":\"white\"},\"yaxis\":{\"automargin\":true,\"gridcolor\":\"white\",\"linecolor\":\"white\",\"showgrid\":true,\"tickcolor\":\"rgb(51,51,51)\",\"ticks\":\"outside\",\"title\":{\"standoff\":15},\"zerolinecolor\":\"white\"}}},\"xaxis\":{\"anchor\":\"y\",\"domain\":[0.0,1.0],\"title\":{\"text\":\"Popularity\"}},\"yaxis\":{\"anchor\":\"x\",\"domain\":[0.0,1.0],\"title\":{\"text\":\"Developer\"},\"categoryorder\":\"array\",\"categoryarray\":[\"Disney\",\"PayPal, Inc.\",\"Roblox Corporation\",\"Zillow.com\",\"Wells Fargo\",\"Lion Studios\",\"Microsoft Corporation\",\"Life.Church\",\"Uber Technologies, Inc.\",\"Pandora Media, Inc.\",\"WhatsApp Inc.\",\"Lyft, Inc.\",\"TikTok Pte. Ltd.\",\"Venmo\",\"DoorDash, Inc.\",\"AMZN Mobile LLC\",\"Voodoo\",\"Spotify Ltd.\",\"Instagram, Inc.\",\"Google LLC\"]},\"legend\":{\"title\":{\"text\":\"Developer\"},\"tracegroupgap\":0},\"title\":{\"text\":\"Top 20 Popular Developers\",\"x\":0.5},\"showlegend\":false,\"width\":900},                        {\"responsive\": true}                    ).then(function(){\n",
       "                            \n",
       "var gd = document.getElementById('21d50048-17a7-4f8a-be72-96830f3ec1d6');\n",
       "var x = new MutationObserver(function (mutations, observer) {{\n",
       "        var display = window.getComputedStyle(gd).display;\n",
       "        if (!display || display === 'none') {{\n",
       "            console.log([gd, 'removed!']);\n",
       "            Plotly.purge(gd);\n",
       "            observer.disconnect();\n",
       "        }}\n",
       "}});\n",
       "\n",
       "// Listen for the removal of the full notebook cells\n",
       "var notebookContainer = gd.closest('#notebook-container');\n",
       "if (notebookContainer) {{\n",
       "    x.observe(notebookContainer, {childList: true});\n",
       "}}\n",
       "\n",
       "// Listen for the clearing of the current output cell\n",
       "var outputEl = gd.closest('.output');\n",
       "if (outputEl) {{\n",
       "    x.observe(outputEl, {childList: true});\n",
       "}}\n",
       "\n",
       "                        })                };                            </script>        </div>\n",
       "</body>\n",
       "</html>"
      ]
     },
     "metadata": {},
     "output_type": "display_data"
    }
   ],
   "source": [
    "fig1= px.funnel(top_pop_dev[:20],\n",
    "                x='Popularity',\n",
    "                y='Developer',\n",
    "                text='App_Count',\n",
    "                color= 'Developer',\n",
    "                #labels='Developer',\n",
    "                template='ggplot2',\n",
    "                title= 'Top 20 Popular Developers')\n",
    "fig1.update_layout(title_x=0.5, showlegend=False, width= 900)\n",
    "fig1.show()"
   ]
  },
  {
   "cell_type": "markdown",
   "metadata": {
    "id": "tRSuHLlgi-A0"
   },
   "source": [
    "\n",
    "> Google has 42 million users with 85 apps.\n",
    "\n",
    "> Instagram with 6 apps has 21 million, that's half of google's total users.\n",
    "\n",
    "> Spotify and Voodoo has almost no of users. But voodoo has 189 apps where as spotify has only 7."
   ]
  },
  {
   "cell_type": "markdown",
   "metadata": {
    "id": "Rrm6X3AAJ5YL"
   },
   "source": [
    "### Q2.Which app has popularity dominence from any Top 20?"
   ]
  },
  {
   "cell_type": "code",
   "execution_count": 36,
   "metadata": {
    "executionInfo": {
     "elapsed": 2013,
     "status": "ok",
     "timestamp": 1662575242972,
     "user": {
      "displayName": "Pratul Chandra",
      "userId": "06160049637809107783"
     },
     "user_tz": -330
    },
    "id": "8podpW4Z9zl3"
   },
   "outputs": [],
   "source": [
    "google_df= df[df['Developer']=='Google LLC'].sort_values(by='Reviews',ascending=False)\n",
    "disney_df= df[df['Developer']=='Disney'].sort_values(by='Reviews',ascending=False)\n",
    "spotify_df= df[df['Developer']=='Spotify Ltd.'].sort_values(by='Reviews',ascending=False)\n",
    "voodoo_df= df[df['Developer']=='Voodoo'].sort_values(by='Reviews',ascending=False)\n",
    "amazon_df= df[df['Developer']=='AMZN Mobile LLC'].sort_values(by='Reviews',ascending=False)\n",
    "microsoft_df= df[df['Developer']=='Microsoft Corporation'].sort_values(by='Reviews',ascending=False)\n",
    "lion_df= df[df['Developer']=='Lion Studios'].sort_values(by='Reviews',ascending=False)"
   ]
  },
  {
   "cell_type": "code",
   "execution_count": 37,
   "metadata": {
    "colab": {
     "base_uri": "https://localhost:8080/",
     "height": 1000
    },
    "executionInfo": {
     "elapsed": 14,
     "status": "ok",
     "timestamp": 1662575242974,
     "user": {
      "displayName": "Pratul Chandra",
      "userId": "06160049637809107783"
     },
     "user_tz": -330
    },
    "id": "C_DZZzFT9zj9",
    "outputId": "94975db2-73d5-4860-8568-3f7fa5207620"
   },
   "outputs": [
    {
     "name": "stderr",
     "output_type": "stream",
     "text": [
      "/usr/local/lib/python3.7/dist-packages/plotly/tools.py:464: DeprecationWarning:\n",
      "\n",
      "plotly.tools.make_subplots is deprecated, please use plotly.subplots.make_subplots instead\n",
      "\n"
     ]
    },
    {
     "data": {
      "text/html": [
       "<html>\n",
       "<head><meta charset=\"utf-8\" /></head>\n",
       "<body>\n",
       "    <div>            <script src=\"https://cdnjs.cloudflare.com/ajax/libs/mathjax/2.7.5/MathJax.js?config=TeX-AMS-MML_SVG\"></script><script type=\"text/javascript\">if (window.MathJax && window.MathJax.Hub && window.MathJax.Hub.Config) {window.MathJax.Hub.Config({SVG: {font: \"STIX-Web\"}});}</script>                <script type=\"text/javascript\">window.PlotlyConfig = {MathJaxConfig: 'local'};</script>\n",
       "        <script src=\"https://cdn.plot.ly/plotly-2.14.0.min.js\"></script>                <div id=\"e4ef45bd-5f13-4b31-8341-a439193196e2\" class=\"plotly-graph-div\" style=\"height:1150px; width:1000px;\"></div>            <script type=\"text/javascript\">                                    window.PLOTLYENV=window.PLOTLYENV || {};                                    if (document.getElementById(\"e4ef45bd-5f13-4b31-8341-a439193196e2\")) {                    Plotly.newPlot(                        \"e4ef45bd-5f13-4b31-8341-a439193196e2\",                        [{\"name\":\"Google LLC\",\"x\":[\"YouTube: Watch, Listen, Stream\",\"Google Drive\",\"Google Maps\",\"Google Classroom\",\"Google Docs: Sync, Edit, Share\",\"YouTube Kids\",\"Google Duo\",\"Google Sheets\",\"YouTube Music\",\"Google Home\"],\"y\":[22685334,4371475,4132208,2113858,1567607,1555165,1377443,917573,664473,458862,388953,355735,327522,325475,229095,137647,137024,133716,130075,122810,103657,75175,66363,56446,53902,50383,41148,34829,34661,33255,30407,26638,26069,24966,16477,13925,13386,9078,7038,6499,5573,5166,4776,3814,3420,3236,2076,2075,1995,1851,1715,1618,1311,1292,1153,1137,1113,1108,1075,221,170,158,131,116,84,69,62,61,43,43,29,27,25,25,24,20,20,19,18,14,14,5,4,4,0],\"type\":\"bar\",\"xaxis\":\"x\",\"yaxis\":\"y\"},{\"name\":\"Disney\",\"x\":[\"My Disney Experience\",\"ESPN Fantasy Sports & More\",\"ESPN: Live Sports & Scores\",\"Disneyland\\u00ae\",\"Disney+\",\"ABC \\u2013 Live TV, Shows & Movies\",\"Shop Disney\",\"FXNOW: Movies, Shows & Live TV\",\"Disney Cruise Line Navigator\",\"Freeform TV\"],\"y\":[1527487,1274874,1167290,877349,265802,254191,82323,70346,61292,50883,48282,44982,42871,40128,30126,28896,16358,16165,12838,11603,9595,9539,8484,7178,4790,4032,2215,2076,1798,1713,1621,1510,1498,512,387,303,181,150,140,101,85,66,48,44,40,36,33,31,30,29,27,25,24,23,23,22,22,21,20,20,19,19,19,18,18,18,18,17,17,16,16,15,14,13,13,12,11,11,11,11,10,10,9,9,9,8,8,8,8,6,5,5,5,5,3,3,3,2,1,0,0],\"type\":\"bar\",\"xaxis\":\"x2\",\"yaxis\":\"y2\"},{\"name\":\"Microsoft\",\"x\":[\"Microsoft Teams\",\"Microsoft Word\",\"Xbox\",\"Microsoft Excel\",\"Intune Company Portal\",\"Microsoft OneDrive\",\"Microsoft PowerPoint\",\"Microsoft Office\",\"Microsoft Solitaire Collection\",\"Microsoft To Do\"],\"y\":[1847338,1317398,824919,684546,333878,328397,250380,169345,142042,123779,123440,119659,89227,77022,75227,51369,47727,38470,33554,32380,24404,15960,9257,8279,7711,4033,3400,2804,2480,2444,2386,2168,1532,1465,1167,1090,968,953,730,628,547,448,387,370,289,281,249,194,189,147,144,135,91,71,70,54,54,53,36,34,31,26,26,25,22,21,20,18,16,14,13,12,11,11,10,9,8,8,7,6,6,6,6,4,3,3,2,2,1,1,1,1,0,0,0,0,0,0,0,0,0],\"type\":\"bar\",\"xaxis\":\"x3\",\"yaxis\":\"y3\"},{\"name\":\"Voodoo\",\"x\":[\"Hole.io\",\"Helix Jump\",\"Paper.io 2\",\"Crowd City\",\"Snake VS Block\",\"Dune!\",\"Baseball Boy!\",\"Color Road!\",\"Ball Blast\",\"Fire Balls 3D\"],\"y\":[1887798,1446845,1257959,972240,567599,468319,444752,418638,396386,361077,327947,312501,292408,288693,287147,280260,260431,235848,231182,230335,224775,221417,219499,210848,209358,207149,204277,198771,198094,178551,173563,172465,169264,167878,154347,146059,142730,138208,128646,124491,114828,112744,110991,106930,102531,101700,98436,97888,90334,89357,88898,86030,81692,81170,76018,73986,73510,71878,68250,65171,63627,59978,59800,58094,57387,56074,55398,54776,54426,53299,53218,53124,52187,51824,51136,51055,50031,46169,45311,45299,44165,43934,43862,42642,42549,41738,40246,37214,35683,35629,35252,34327,33855,32964,30644,30509,30410,30182,29785,29430,29212,26998,26580,26106,25265,25177,24529,23740,22193,21880,21717,21582,21334,21129,21072,20864,19807,19766,19577,18587,15873,15506,14672,14347,14218,12148,12024,11736,11461,11343,10293,9853,9676,9285,9085,7942,7681,7663,7588,7438,6411,6341,6331,5697,5326,5158,5116,5062,4645,4622,4417,4337,4296,3650,3497,3394,3358,3203,3078,3022,2992,2223,2130,1973,1928,1905,1466,1431,1370,1319,1153,1150,954,939,861,718,699,673,620,544,319,153,116,115,71,51,41,31,8],\"type\":\"bar\",\"xaxis\":\"x4\",\"yaxis\":\"y4\"},{\"name\":\"Amazon Mobile LLC\",\"x\":[\"Amazon Shopping\",\"Amazon Kindle\",\"Amazon Alexa\",\"Amazon Prime Video\",\"Amazon Music: Songs & Podcasts\",\"Amazon Fire TV\",\"Amazon A to Z\",\"Souq.com  \\u0633\\u0648\\u0642.\\u0643\\u0648\\u0645\",\"Amazon Photos\",\"Amazon Shopper Panel\"],\"y\":[4349737,3233670,3115853,2498603,1382302,400358,201932,121875,90850,72554,64092,44283,31328,16716,10215,10161,4071,3873,2750,1918,1392,600,512,474,429,304,251,163,145,136,118,79,76,60,58,48,42,39,27,23,19,12,10,10,7,7,7,4,0,0],\"type\":\"bar\",\"xaxis\":\"x5\",\"yaxis\":\"y5\"},{\"name\":\"Lion Studios\",\"x\":[\"Match 3D\",\"Ink Inc. - Tattoo Drawing\",\"Cash, Inc. Fame & Fortune Game\",\"Hooked Inc: Fishing Games\",\"Slap Kings\",\"Save The Girl!\",\"Icing on the Cake\",\"Draw In\\u2122\",\"Stencil Art - Spray Masters\",\"Mr Bullet - Shooting Game\"],\"y\":[804105,638524,510463,398920,342310,288146,203922,200777,153600,151554,149427,145523,107316,95308,94847,91619,88553,84156,76542,73700,67635,66759,64960,64761,62080,60911,57394,55611,52826,51797,51161,48636,46384,43672,42900,38888,38634,37729,35697,35281,31800,29466,28526,28269,27065,26846,26203,25222,24617,23052,22351,21993,20923,20807,20232,19176,18475,18238,18195,18021,17681,16354,16222,15799,15543,15115,15060,14603,14200,13462,13367,13299,12895,12884,12376,12368,12346,12042,11158,9980,9861,8985,8901,8793,8515,8420,8179,7921,7905,7458,7372,7296,7122,7078,6840,6500,6399,6395,6197,6184,6125,5941,4984,4837,4785,4594,4498,4216,3596,3447,3213,2454,2427,2349,1789,1304,1259,1002,613,360,185,103,32,17,2],\"type\":\"bar\",\"xaxis\":\"x6\",\"yaxis\":\"y6\"}],                        {\"template\":{\"data\":{\"histogram2dcontour\":[{\"type\":\"histogram2dcontour\",\"colorbar\":{\"outlinewidth\":0,\"ticks\":\"\"},\"colorscale\":[[0.0,\"#0d0887\"],[0.1111111111111111,\"#46039f\"],[0.2222222222222222,\"#7201a8\"],[0.3333333333333333,\"#9c179e\"],[0.4444444444444444,\"#bd3786\"],[0.5555555555555556,\"#d8576b\"],[0.6666666666666666,\"#ed7953\"],[0.7777777777777778,\"#fb9f3a\"],[0.8888888888888888,\"#fdca26\"],[1.0,\"#f0f921\"]]}],\"choropleth\":[{\"type\":\"choropleth\",\"colorbar\":{\"outlinewidth\":0,\"ticks\":\"\"}}],\"histogram2d\":[{\"type\":\"histogram2d\",\"colorbar\":{\"outlinewidth\":0,\"ticks\":\"\"},\"colorscale\":[[0.0,\"#0d0887\"],[0.1111111111111111,\"#46039f\"],[0.2222222222222222,\"#7201a8\"],[0.3333333333333333,\"#9c179e\"],[0.4444444444444444,\"#bd3786\"],[0.5555555555555556,\"#d8576b\"],[0.6666666666666666,\"#ed7953\"],[0.7777777777777778,\"#fb9f3a\"],[0.8888888888888888,\"#fdca26\"],[1.0,\"#f0f921\"]]}],\"heatmap\":[{\"type\":\"heatmap\",\"colorbar\":{\"outlinewidth\":0,\"ticks\":\"\"},\"colorscale\":[[0.0,\"#0d0887\"],[0.1111111111111111,\"#46039f\"],[0.2222222222222222,\"#7201a8\"],[0.3333333333333333,\"#9c179e\"],[0.4444444444444444,\"#bd3786\"],[0.5555555555555556,\"#d8576b\"],[0.6666666666666666,\"#ed7953\"],[0.7777777777777778,\"#fb9f3a\"],[0.8888888888888888,\"#fdca26\"],[1.0,\"#f0f921\"]]}],\"heatmapgl\":[{\"type\":\"heatmapgl\",\"colorbar\":{\"outlinewidth\":0,\"ticks\":\"\"},\"colorscale\":[[0.0,\"#0d0887\"],[0.1111111111111111,\"#46039f\"],[0.2222222222222222,\"#7201a8\"],[0.3333333333333333,\"#9c179e\"],[0.4444444444444444,\"#bd3786\"],[0.5555555555555556,\"#d8576b\"],[0.6666666666666666,\"#ed7953\"],[0.7777777777777778,\"#fb9f3a\"],[0.8888888888888888,\"#fdca26\"],[1.0,\"#f0f921\"]]}],\"contourcarpet\":[{\"type\":\"contourcarpet\",\"colorbar\":{\"outlinewidth\":0,\"ticks\":\"\"}}],\"contour\":[{\"type\":\"contour\",\"colorbar\":{\"outlinewidth\":0,\"ticks\":\"\"},\"colorscale\":[[0.0,\"#0d0887\"],[0.1111111111111111,\"#46039f\"],[0.2222222222222222,\"#7201a8\"],[0.3333333333333333,\"#9c179e\"],[0.4444444444444444,\"#bd3786\"],[0.5555555555555556,\"#d8576b\"],[0.6666666666666666,\"#ed7953\"],[0.7777777777777778,\"#fb9f3a\"],[0.8888888888888888,\"#fdca26\"],[1.0,\"#f0f921\"]]}],\"surface\":[{\"type\":\"surface\",\"colorbar\":{\"outlinewidth\":0,\"ticks\":\"\"},\"colorscale\":[[0.0,\"#0d0887\"],[0.1111111111111111,\"#46039f\"],[0.2222222222222222,\"#7201a8\"],[0.3333333333333333,\"#9c179e\"],[0.4444444444444444,\"#bd3786\"],[0.5555555555555556,\"#d8576b\"],[0.6666666666666666,\"#ed7953\"],[0.7777777777777778,\"#fb9f3a\"],[0.8888888888888888,\"#fdca26\"],[1.0,\"#f0f921\"]]}],\"mesh3d\":[{\"type\":\"mesh3d\",\"colorbar\":{\"outlinewidth\":0,\"ticks\":\"\"}}],\"scatter\":[{\"fillpattern\":{\"fillmode\":\"overlay\",\"size\":10,\"solidity\":0.2},\"type\":\"scatter\"}],\"parcoords\":[{\"type\":\"parcoords\",\"line\":{\"colorbar\":{\"outlinewidth\":0,\"ticks\":\"\"}}}],\"scatterpolargl\":[{\"type\":\"scatterpolargl\",\"marker\":{\"colorbar\":{\"outlinewidth\":0,\"ticks\":\"\"}}}],\"bar\":[{\"error_x\":{\"color\":\"#2a3f5f\"},\"error_y\":{\"color\":\"#2a3f5f\"},\"marker\":{\"line\":{\"color\":\"#E5ECF6\",\"width\":0.5},\"pattern\":{\"fillmode\":\"overlay\",\"size\":10,\"solidity\":0.2}},\"type\":\"bar\"}],\"scattergeo\":[{\"type\":\"scattergeo\",\"marker\":{\"colorbar\":{\"outlinewidth\":0,\"ticks\":\"\"}}}],\"scatterpolar\":[{\"type\":\"scatterpolar\",\"marker\":{\"colorbar\":{\"outlinewidth\":0,\"ticks\":\"\"}}}],\"histogram\":[{\"marker\":{\"pattern\":{\"fillmode\":\"overlay\",\"size\":10,\"solidity\":0.2}},\"type\":\"histogram\"}],\"scattergl\":[{\"type\":\"scattergl\",\"marker\":{\"colorbar\":{\"outlinewidth\":0,\"ticks\":\"\"}}}],\"scatter3d\":[{\"type\":\"scatter3d\",\"line\":{\"colorbar\":{\"outlinewidth\":0,\"ticks\":\"\"}},\"marker\":{\"colorbar\":{\"outlinewidth\":0,\"ticks\":\"\"}}}],\"scattermapbox\":[{\"type\":\"scattermapbox\",\"marker\":{\"colorbar\":{\"outlinewidth\":0,\"ticks\":\"\"}}}],\"scatterternary\":[{\"type\":\"scatterternary\",\"marker\":{\"colorbar\":{\"outlinewidth\":0,\"ticks\":\"\"}}}],\"scattercarpet\":[{\"type\":\"scattercarpet\",\"marker\":{\"colorbar\":{\"outlinewidth\":0,\"ticks\":\"\"}}}],\"carpet\":[{\"aaxis\":{\"endlinecolor\":\"#2a3f5f\",\"gridcolor\":\"white\",\"linecolor\":\"white\",\"minorgridcolor\":\"white\",\"startlinecolor\":\"#2a3f5f\"},\"baxis\":{\"endlinecolor\":\"#2a3f5f\",\"gridcolor\":\"white\",\"linecolor\":\"white\",\"minorgridcolor\":\"white\",\"startlinecolor\":\"#2a3f5f\"},\"type\":\"carpet\"}],\"table\":[{\"cells\":{\"fill\":{\"color\":\"#EBF0F8\"},\"line\":{\"color\":\"white\"}},\"header\":{\"fill\":{\"color\":\"#C8D4E3\"},\"line\":{\"color\":\"white\"}},\"type\":\"table\"}],\"barpolar\":[{\"marker\":{\"line\":{\"color\":\"#E5ECF6\",\"width\":0.5},\"pattern\":{\"fillmode\":\"overlay\",\"size\":10,\"solidity\":0.2}},\"type\":\"barpolar\"}],\"pie\":[{\"automargin\":true,\"type\":\"pie\"}]},\"layout\":{\"autotypenumbers\":\"strict\",\"colorway\":[\"#636efa\",\"#EF553B\",\"#00cc96\",\"#ab63fa\",\"#FFA15A\",\"#19d3f3\",\"#FF6692\",\"#B6E880\",\"#FF97FF\",\"#FECB52\"],\"font\":{\"color\":\"#2a3f5f\"},\"hovermode\":\"closest\",\"hoverlabel\":{\"align\":\"left\"},\"paper_bgcolor\":\"white\",\"plot_bgcolor\":\"#E5ECF6\",\"polar\":{\"bgcolor\":\"#E5ECF6\",\"angularaxis\":{\"gridcolor\":\"white\",\"linecolor\":\"white\",\"ticks\":\"\"},\"radialaxis\":{\"gridcolor\":\"white\",\"linecolor\":\"white\",\"ticks\":\"\"}},\"ternary\":{\"bgcolor\":\"#E5ECF6\",\"aaxis\":{\"gridcolor\":\"white\",\"linecolor\":\"white\",\"ticks\":\"\"},\"baxis\":{\"gridcolor\":\"white\",\"linecolor\":\"white\",\"ticks\":\"\"},\"caxis\":{\"gridcolor\":\"white\",\"linecolor\":\"white\",\"ticks\":\"\"}},\"coloraxis\":{\"colorbar\":{\"outlinewidth\":0,\"ticks\":\"\"}},\"colorscale\":{\"sequential\":[[0.0,\"#0d0887\"],[0.1111111111111111,\"#46039f\"],[0.2222222222222222,\"#7201a8\"],[0.3333333333333333,\"#9c179e\"],[0.4444444444444444,\"#bd3786\"],[0.5555555555555556,\"#d8576b\"],[0.6666666666666666,\"#ed7953\"],[0.7777777777777778,\"#fb9f3a\"],[0.8888888888888888,\"#fdca26\"],[1.0,\"#f0f921\"]],\"sequentialminus\":[[0.0,\"#0d0887\"],[0.1111111111111111,\"#46039f\"],[0.2222222222222222,\"#7201a8\"],[0.3333333333333333,\"#9c179e\"],[0.4444444444444444,\"#bd3786\"],[0.5555555555555556,\"#d8576b\"],[0.6666666666666666,\"#ed7953\"],[0.7777777777777778,\"#fb9f3a\"],[0.8888888888888888,\"#fdca26\"],[1.0,\"#f0f921\"]],\"diverging\":[[0,\"#8e0152\"],[0.1,\"#c51b7d\"],[0.2,\"#de77ae\"],[0.3,\"#f1b6da\"],[0.4,\"#fde0ef\"],[0.5,\"#f7f7f7\"],[0.6,\"#e6f5d0\"],[0.7,\"#b8e186\"],[0.8,\"#7fbc41\"],[0.9,\"#4d9221\"],[1,\"#276419\"]]},\"xaxis\":{\"gridcolor\":\"white\",\"linecolor\":\"white\",\"ticks\":\"\",\"title\":{\"standoff\":15},\"zerolinecolor\":\"white\",\"automargin\":true,\"zerolinewidth\":2},\"yaxis\":{\"gridcolor\":\"white\",\"linecolor\":\"white\",\"ticks\":\"\",\"title\":{\"standoff\":15},\"zerolinecolor\":\"white\",\"automargin\":true,\"zerolinewidth\":2},\"scene\":{\"xaxis\":{\"backgroundcolor\":\"#E5ECF6\",\"gridcolor\":\"white\",\"linecolor\":\"white\",\"showbackground\":true,\"ticks\":\"\",\"zerolinecolor\":\"white\",\"gridwidth\":2},\"yaxis\":{\"backgroundcolor\":\"#E5ECF6\",\"gridcolor\":\"white\",\"linecolor\":\"white\",\"showbackground\":true,\"ticks\":\"\",\"zerolinecolor\":\"white\",\"gridwidth\":2},\"zaxis\":{\"backgroundcolor\":\"#E5ECF6\",\"gridcolor\":\"white\",\"linecolor\":\"white\",\"showbackground\":true,\"ticks\":\"\",\"zerolinecolor\":\"white\",\"gridwidth\":2}},\"shapedefaults\":{\"line\":{\"color\":\"#2a3f5f\"}},\"annotationdefaults\":{\"arrowcolor\":\"#2a3f5f\",\"arrowhead\":0,\"arrowwidth\":1},\"geo\":{\"bgcolor\":\"white\",\"landcolor\":\"#E5ECF6\",\"subunitcolor\":\"white\",\"showland\":true,\"showlakes\":true,\"lakecolor\":\"white\"},\"title\":{\"x\":0.05},\"mapbox\":{\"style\":\"light\"}}},\"xaxis\":{\"anchor\":\"y\",\"domain\":[0.0,0.2888888888888889],\"tickangle\":47},\"yaxis\":{\"anchor\":\"x\",\"domain\":[0.575,1.0]},\"xaxis2\":{\"anchor\":\"y2\",\"domain\":[0.35555555555555557,0.6444444444444445],\"tickangle\":47},\"yaxis2\":{\"anchor\":\"x2\",\"domain\":[0.575,1.0]},\"xaxis3\":{\"anchor\":\"y3\",\"domain\":[0.7111111111111111,1.0],\"tickangle\":47},\"yaxis3\":{\"anchor\":\"x3\",\"domain\":[0.575,1.0]},\"xaxis4\":{\"anchor\":\"y4\",\"domain\":[0.0,0.2888888888888889],\"tickangle\":47},\"yaxis4\":{\"anchor\":\"x4\",\"domain\":[0.0,0.425]},\"xaxis5\":{\"anchor\":\"y5\",\"domain\":[0.35555555555555557,0.6444444444444445],\"tickangle\":47},\"yaxis5\":{\"anchor\":\"x5\",\"domain\":[0.0,0.425]},\"xaxis6\":{\"anchor\":\"y6\",\"domain\":[0.7111111111111111,1.0],\"tickangle\":47},\"yaxis6\":{\"anchor\":\"x6\",\"domain\":[0.0,0.425]},\"height\":1150,\"width\":1000,\"title\":{\"text\":\"Most Popular Apps\",\"x\":0.45}},                        {\"responsive\": true}                    ).then(function(){\n",
       "                            \n",
       "var gd = document.getElementById('e4ef45bd-5f13-4b31-8341-a439193196e2');\n",
       "var x = new MutationObserver(function (mutations, observer) {{\n",
       "        var display = window.getComputedStyle(gd).display;\n",
       "        if (!display || display === 'none') {{\n",
       "            console.log([gd, 'removed!']);\n",
       "            Plotly.purge(gd);\n",
       "            observer.disconnect();\n",
       "        }}\n",
       "}});\n",
       "\n",
       "// Listen for the removal of the full notebook cells\n",
       "var notebookContainer = gd.closest('#notebook-container');\n",
       "if (notebookContainer) {{\n",
       "    x.observe(notebookContainer, {childList: true});\n",
       "}}\n",
       "\n",
       "// Listen for the clearing of the current output cell\n",
       "var outputEl = gd.closest('.output');\n",
       "if (outputEl) {{\n",
       "    x.observe(outputEl, {childList: true});\n",
       "}}\n",
       "\n",
       "                        })                };                            </script>        </div>\n",
       "</body>\n",
       "</html>"
      ]
     },
     "metadata": {},
     "output_type": "display_data"
    }
   ],
   "source": [
    "from plotly import tools\n",
    "trace1 = go.Bar(\n",
    "    x=google_df['App_Name'][:10],\n",
    "    y=google_df['Reviews'],\n",
    "    name='Google LLC'\n",
    ")\n",
    "trace2 = go.Bar(\n",
    "    x=disney_df['App_Name'][:10],\n",
    "    y=disney_df['Reviews'],\n",
    "    name='Disney'\n",
    ")\n",
    "trace3 = go.Bar(\n",
    "    x=microsoft_df['App_Name'][:10],\n",
    "    y=microsoft_df['Reviews'],\n",
    "    name='Microsoft'\n",
    ")\n",
    "trace4 = go.Bar(\n",
    "    x=voodoo_df['App_Name'][:10],\n",
    "    y=voodoo_df['Reviews'],\n",
    "    name='Voodoo'\n",
    ")\n",
    "trace5 = go.Bar(\n",
    "    x=amazon_df['App_Name'][:10],\n",
    "    y=amazon_df['Reviews'],\n",
    "    name='Amazon Mobile LLC'\n",
    ")\n",
    "trace6 = go.Bar(\n",
    "    x=lion_df['App_Name'][:10],\n",
    "    y=lion_df['Reviews'],\n",
    "    name='Lion Studios'\n",
    ")\n",
    "\n",
    "fig2 = tools.make_subplots(rows=2, cols=3)\n",
    "\n",
    "fig2.append_trace(trace1, 1,1)\n",
    "fig2.append_trace(trace2, 1,2)\n",
    "fig2.append_trace(trace3, 1,3)\n",
    "fig2.append_trace(trace4, 2,1)\n",
    "fig2.append_trace(trace5, 2,2)\n",
    "fig2.append_trace(trace6, 2,3)\n",
    "\n",
    "fig2.layout.update(height=1150, width=1000)\n",
    "fig2.update_layout(title='Most Popular Apps', title_x=0.45)\n",
    "fig2.update_xaxes(tickangle=47)\n",
    "fig2.show()"
   ]
  },
  {
   "cell_type": "markdown",
   "metadata": {
    "id": "jvSMXIT_w9Ch"
   },
   "source": [
    "> Youtube is the dominent app from Google LLC with 20+ million users, that's the total users of below top 9 apps.\n",
    "\n",
    "> My Disney Exeperience and ESPN have large no of users.\n",
    "\n",
    "> Microsoft Teams is the dominent app from Microsoft.\n",
    "\n",
    "> From Voodoo a games developer Hele.io has more popularity(users).\n",
    "\n",
    "> Amazon has AMZN shopping app which is the dominent with almost 4.5 million users\n",
    "\n",
    "> Lion Studio has Match 3D app with 800+ thousand users."
   ]
  },
  {
   "cell_type": "code",
   "execution_count": 37,
   "metadata": {
    "executionInfo": {
     "elapsed": 11,
     "status": "ok",
     "timestamp": 1662575242974,
     "user": {
      "displayName": "Pratul Chandra",
      "userId": "06160049637809107783"
     },
     "user_tz": -330
    },
    "id": "1AHFL7yi9ziB"
   },
   "outputs": [],
   "source": []
  },
  {
   "cell_type": "markdown",
   "metadata": {
    "id": "Gqt9iPRNMBQn"
   },
   "source": [
    "### Q3.What is the impact on users due to size of the app?"
   ]
  },
  {
   "cell_type": "code",
   "execution_count": 38,
   "metadata": {
    "executionInfo": {
     "elapsed": 2457,
     "status": "ok",
     "timestamp": 1662575245421,
     "user": {
      "displayName": "Pratul Chandra",
      "userId": "06160049637809107783"
     },
     "user_tz": -330
    },
    "id": "AJZLU5Tb9zgF"
   },
   "outputs": [],
   "source": [
    "#### DIVIDING into Large / Medium / Small dfs\n",
    "\n",
    "large= df[(df.Size_MB>=500)].groupby(['Primary_Genre'])['Reviews'].sum().reset_index()\n",
    "medium= df[(df.Size_MB>=200)&(df.Size_MB<=500)].groupby(['Primary_Genre'])['Reviews'].sum().reset_index()\n",
    "small= df[(df.Size_MB<=200)].groupby(['Primary_Genre'])['Reviews'].sum().reset_index()\n",
    "\n",
    "#### MERGING Large / Medium / Small dfs into one\n",
    "\n",
    "l_and_m= pd.merge(large, medium, how='inner', on='Primary_Genre')\n",
    "users_impact_df= pd.merge(l_and_m, small, how='inner', on='Primary_Genre')\n",
    "users_impact_df.columns=['Genre','Large','Medium','Small']\n",
    "\n",
    "#### ADDING columns Percetage of Large / Medium / Small app users\n",
    "\n",
    "users_impact_df['Total_users'] = users_impact_df['Medium']+users_impact_df['Small']+users_impact_df['Large']\n",
    "users_impact_df['large_percentage']= round((users_impact_df['Large']/users_impact_df['Total_users'])*100,2)\n",
    "users_impact_df['medium_percentage']= round((users_impact_df['Medium']/users_impact_df['Total_users'])*100,2)                                      \n",
    "users_impact_df['small_percentage']= round((users_impact_df['Small']/users_impact_df['Total_users'])*100,2)\n",
    "\n",
    "### App Count catagorically \n",
    "\n",
    "la= df[(df.Size_MB>=500)].groupby(['Primary_Genre'])['App_Name'].count().reset_index()\n",
    "ma= df[(df.Size_MB>=200)&(df.Size_MB<=500)].groupby(['Primary_Genre'])['App_Name'].count().reset_index()\n",
    "sa= df[(df.Size_MB<=200)].groupby(['Primary_Genre'])['App_Name'].count().reset_index()\n",
    "\n",
    "la_and_ma= pd.merge(la, ma, how='inner', on='Primary_Genre')\n",
    "app_df= pd.merge(la_and_ma, sa, how='inner', on='Primary_Genre')\n",
    "app_df.columns=['Catagory','Large','Medium','Small']"
   ]
  },
  {
   "cell_type": "code",
   "execution_count": 39,
   "metadata": {
    "colab": {
     "base_uri": "https://localhost:8080/",
     "height": 862
    },
    "executionInfo": {
     "elapsed": 21,
     "status": "ok",
     "timestamp": 1662575245423,
     "user": {
      "displayName": "Pratul Chandra",
      "userId": "06160049637809107783"
     },
     "user_tz": -330
    },
    "id": "Lq_eqebM9zeF",
    "outputId": "7a8221c2-8b6c-4ba6-ef5f-2a204bcb4e6b"
   },
   "outputs": [
    {
     "data": {
      "text/html": [
       "<html>\n",
       "<head><meta charset=\"utf-8\" /></head>\n",
       "<body>\n",
       "    <div>            <script src=\"https://cdnjs.cloudflare.com/ajax/libs/mathjax/2.7.5/MathJax.js?config=TeX-AMS-MML_SVG\"></script><script type=\"text/javascript\">if (window.MathJax && window.MathJax.Hub && window.MathJax.Hub.Config) {window.MathJax.Hub.Config({SVG: {font: \"STIX-Web\"}});}</script>                <script type=\"text/javascript\">window.PlotlyConfig = {MathJaxConfig: 'local'};</script>\n",
       "        <script src=\"https://cdn.plot.ly/plotly-2.14.0.min.js\"></script>                <div id=\"bb938954-47dd-438b-bcbe-74b18b709401\" class=\"plotly-graph-div\" style=\"height:300px; width:1020px;\"></div>            <script type=\"text/javascript\">                                    window.PLOTLYENV=window.PLOTLYENV || {};                                    if (document.getElementById(\"bb938954-47dd-438b-bcbe-74b18b709401\")) {                    Plotly.newPlot(                        \"bb938954-47dd-438b-bcbe-74b18b709401\",                        [{\"cells\":{\"align\":\"left\",\"values\":[[\"Book\",\"Business\",\"Developer Tools\",\"Education\",\"Entertainment\",\"Finance\",\"Food & Drink\",\"Games\",\"Graphics & Design\",\"Health & Fitness\",\"Lifestyle\",\"Medical\",\"Music\",\"Navigation\",\"News\",\"Photo & Video\",\"Productivity\",\"Reference\",\"Shopping\",\"Social Networking\",\"Sports\",\"Travel\",\"Utilities\",\"Weather\"],[376,501,35,2479,769,70,31,7051,167,258,284,264,850,78,7,223,163,323,85,33,100,217,186,11],[654,3692,39,7272,2905,850,538,28673,234,1849,1661,740,1196,291,86,1028,960,726,543,590,823,2291,1395,73],[10442,124104,1877,109423,49466,44064,72588,157981,2380,58616,82620,26991,27852,12267,20330,24706,58307,17566,48909,24805,30532,41218,92425,3479]]},\"header\":{\"align\":\"left\",\"font\":{\"size\":10},\"values\":[\"Catagory\",\"Large\",\"Medium\",\"Small\"]},\"type\":\"table\"}],                        {\"template\":{\"data\":{\"histogram2dcontour\":[{\"type\":\"histogram2dcontour\",\"colorbar\":{\"outlinewidth\":0,\"ticks\":\"\"},\"colorscale\":[[0.0,\"#0d0887\"],[0.1111111111111111,\"#46039f\"],[0.2222222222222222,\"#7201a8\"],[0.3333333333333333,\"#9c179e\"],[0.4444444444444444,\"#bd3786\"],[0.5555555555555556,\"#d8576b\"],[0.6666666666666666,\"#ed7953\"],[0.7777777777777778,\"#fb9f3a\"],[0.8888888888888888,\"#fdca26\"],[1.0,\"#f0f921\"]]}],\"choropleth\":[{\"type\":\"choropleth\",\"colorbar\":{\"outlinewidth\":0,\"ticks\":\"\"}}],\"histogram2d\":[{\"type\":\"histogram2d\",\"colorbar\":{\"outlinewidth\":0,\"ticks\":\"\"},\"colorscale\":[[0.0,\"#0d0887\"],[0.1111111111111111,\"#46039f\"],[0.2222222222222222,\"#7201a8\"],[0.3333333333333333,\"#9c179e\"],[0.4444444444444444,\"#bd3786\"],[0.5555555555555556,\"#d8576b\"],[0.6666666666666666,\"#ed7953\"],[0.7777777777777778,\"#fb9f3a\"],[0.8888888888888888,\"#fdca26\"],[1.0,\"#f0f921\"]]}],\"heatmap\":[{\"type\":\"heatmap\",\"colorbar\":{\"outlinewidth\":0,\"ticks\":\"\"},\"colorscale\":[[0.0,\"#0d0887\"],[0.1111111111111111,\"#46039f\"],[0.2222222222222222,\"#7201a8\"],[0.3333333333333333,\"#9c179e\"],[0.4444444444444444,\"#bd3786\"],[0.5555555555555556,\"#d8576b\"],[0.6666666666666666,\"#ed7953\"],[0.7777777777777778,\"#fb9f3a\"],[0.8888888888888888,\"#fdca26\"],[1.0,\"#f0f921\"]]}],\"heatmapgl\":[{\"type\":\"heatmapgl\",\"colorbar\":{\"outlinewidth\":0,\"ticks\":\"\"},\"colorscale\":[[0.0,\"#0d0887\"],[0.1111111111111111,\"#46039f\"],[0.2222222222222222,\"#7201a8\"],[0.3333333333333333,\"#9c179e\"],[0.4444444444444444,\"#bd3786\"],[0.5555555555555556,\"#d8576b\"],[0.6666666666666666,\"#ed7953\"],[0.7777777777777778,\"#fb9f3a\"],[0.8888888888888888,\"#fdca26\"],[1.0,\"#f0f921\"]]}],\"contourcarpet\":[{\"type\":\"contourcarpet\",\"colorbar\":{\"outlinewidth\":0,\"ticks\":\"\"}}],\"contour\":[{\"type\":\"contour\",\"colorbar\":{\"outlinewidth\":0,\"ticks\":\"\"},\"colorscale\":[[0.0,\"#0d0887\"],[0.1111111111111111,\"#46039f\"],[0.2222222222222222,\"#7201a8\"],[0.3333333333333333,\"#9c179e\"],[0.4444444444444444,\"#bd3786\"],[0.5555555555555556,\"#d8576b\"],[0.6666666666666666,\"#ed7953\"],[0.7777777777777778,\"#fb9f3a\"],[0.8888888888888888,\"#fdca26\"],[1.0,\"#f0f921\"]]}],\"surface\":[{\"type\":\"surface\",\"colorbar\":{\"outlinewidth\":0,\"ticks\":\"\"},\"colorscale\":[[0.0,\"#0d0887\"],[0.1111111111111111,\"#46039f\"],[0.2222222222222222,\"#7201a8\"],[0.3333333333333333,\"#9c179e\"],[0.4444444444444444,\"#bd3786\"],[0.5555555555555556,\"#d8576b\"],[0.6666666666666666,\"#ed7953\"],[0.7777777777777778,\"#fb9f3a\"],[0.8888888888888888,\"#fdca26\"],[1.0,\"#f0f921\"]]}],\"mesh3d\":[{\"type\":\"mesh3d\",\"colorbar\":{\"outlinewidth\":0,\"ticks\":\"\"}}],\"scatter\":[{\"fillpattern\":{\"fillmode\":\"overlay\",\"size\":10,\"solidity\":0.2},\"type\":\"scatter\"}],\"parcoords\":[{\"type\":\"parcoords\",\"line\":{\"colorbar\":{\"outlinewidth\":0,\"ticks\":\"\"}}}],\"scatterpolargl\":[{\"type\":\"scatterpolargl\",\"marker\":{\"colorbar\":{\"outlinewidth\":0,\"ticks\":\"\"}}}],\"bar\":[{\"error_x\":{\"color\":\"#2a3f5f\"},\"error_y\":{\"color\":\"#2a3f5f\"},\"marker\":{\"line\":{\"color\":\"#E5ECF6\",\"width\":0.5},\"pattern\":{\"fillmode\":\"overlay\",\"size\":10,\"solidity\":0.2}},\"type\":\"bar\"}],\"scattergeo\":[{\"type\":\"scattergeo\",\"marker\":{\"colorbar\":{\"outlinewidth\":0,\"ticks\":\"\"}}}],\"scatterpolar\":[{\"type\":\"scatterpolar\",\"marker\":{\"colorbar\":{\"outlinewidth\":0,\"ticks\":\"\"}}}],\"histogram\":[{\"marker\":{\"pattern\":{\"fillmode\":\"overlay\",\"size\":10,\"solidity\":0.2}},\"type\":\"histogram\"}],\"scattergl\":[{\"type\":\"scattergl\",\"marker\":{\"colorbar\":{\"outlinewidth\":0,\"ticks\":\"\"}}}],\"scatter3d\":[{\"type\":\"scatter3d\",\"line\":{\"colorbar\":{\"outlinewidth\":0,\"ticks\":\"\"}},\"marker\":{\"colorbar\":{\"outlinewidth\":0,\"ticks\":\"\"}}}],\"scattermapbox\":[{\"type\":\"scattermapbox\",\"marker\":{\"colorbar\":{\"outlinewidth\":0,\"ticks\":\"\"}}}],\"scatterternary\":[{\"type\":\"scatterternary\",\"marker\":{\"colorbar\":{\"outlinewidth\":0,\"ticks\":\"\"}}}],\"scattercarpet\":[{\"type\":\"scattercarpet\",\"marker\":{\"colorbar\":{\"outlinewidth\":0,\"ticks\":\"\"}}}],\"carpet\":[{\"aaxis\":{\"endlinecolor\":\"#2a3f5f\",\"gridcolor\":\"white\",\"linecolor\":\"white\",\"minorgridcolor\":\"white\",\"startlinecolor\":\"#2a3f5f\"},\"baxis\":{\"endlinecolor\":\"#2a3f5f\",\"gridcolor\":\"white\",\"linecolor\":\"white\",\"minorgridcolor\":\"white\",\"startlinecolor\":\"#2a3f5f\"},\"type\":\"carpet\"}],\"table\":[{\"cells\":{\"fill\":{\"color\":\"#EBF0F8\"},\"line\":{\"color\":\"white\"}},\"header\":{\"fill\":{\"color\":\"#C8D4E3\"},\"line\":{\"color\":\"white\"}},\"type\":\"table\"}],\"barpolar\":[{\"marker\":{\"line\":{\"color\":\"#E5ECF6\",\"width\":0.5},\"pattern\":{\"fillmode\":\"overlay\",\"size\":10,\"solidity\":0.2}},\"type\":\"barpolar\"}],\"pie\":[{\"automargin\":true,\"type\":\"pie\"}]},\"layout\":{\"autotypenumbers\":\"strict\",\"colorway\":[\"#636efa\",\"#EF553B\",\"#00cc96\",\"#ab63fa\",\"#FFA15A\",\"#19d3f3\",\"#FF6692\",\"#B6E880\",\"#FF97FF\",\"#FECB52\"],\"font\":{\"color\":\"#2a3f5f\"},\"hovermode\":\"closest\",\"hoverlabel\":{\"align\":\"left\"},\"paper_bgcolor\":\"white\",\"plot_bgcolor\":\"#E5ECF6\",\"polar\":{\"bgcolor\":\"#E5ECF6\",\"angularaxis\":{\"gridcolor\":\"white\",\"linecolor\":\"white\",\"ticks\":\"\"},\"radialaxis\":{\"gridcolor\":\"white\",\"linecolor\":\"white\",\"ticks\":\"\"}},\"ternary\":{\"bgcolor\":\"#E5ECF6\",\"aaxis\":{\"gridcolor\":\"white\",\"linecolor\":\"white\",\"ticks\":\"\"},\"baxis\":{\"gridcolor\":\"white\",\"linecolor\":\"white\",\"ticks\":\"\"},\"caxis\":{\"gridcolor\":\"white\",\"linecolor\":\"white\",\"ticks\":\"\"}},\"coloraxis\":{\"colorbar\":{\"outlinewidth\":0,\"ticks\":\"\"}},\"colorscale\":{\"sequential\":[[0.0,\"#0d0887\"],[0.1111111111111111,\"#46039f\"],[0.2222222222222222,\"#7201a8\"],[0.3333333333333333,\"#9c179e\"],[0.4444444444444444,\"#bd3786\"],[0.5555555555555556,\"#d8576b\"],[0.6666666666666666,\"#ed7953\"],[0.7777777777777778,\"#fb9f3a\"],[0.8888888888888888,\"#fdca26\"],[1.0,\"#f0f921\"]],\"sequentialminus\":[[0.0,\"#0d0887\"],[0.1111111111111111,\"#46039f\"],[0.2222222222222222,\"#7201a8\"],[0.3333333333333333,\"#9c179e\"],[0.4444444444444444,\"#bd3786\"],[0.5555555555555556,\"#d8576b\"],[0.6666666666666666,\"#ed7953\"],[0.7777777777777778,\"#fb9f3a\"],[0.8888888888888888,\"#fdca26\"],[1.0,\"#f0f921\"]],\"diverging\":[[0,\"#8e0152\"],[0.1,\"#c51b7d\"],[0.2,\"#de77ae\"],[0.3,\"#f1b6da\"],[0.4,\"#fde0ef\"],[0.5,\"#f7f7f7\"],[0.6,\"#e6f5d0\"],[0.7,\"#b8e186\"],[0.8,\"#7fbc41\"],[0.9,\"#4d9221\"],[1,\"#276419\"]]},\"xaxis\":{\"gridcolor\":\"white\",\"linecolor\":\"white\",\"ticks\":\"\",\"title\":{\"standoff\":15},\"zerolinecolor\":\"white\",\"automargin\":true,\"zerolinewidth\":2},\"yaxis\":{\"gridcolor\":\"white\",\"linecolor\":\"white\",\"ticks\":\"\",\"title\":{\"standoff\":15},\"zerolinecolor\":\"white\",\"automargin\":true,\"zerolinewidth\":2},\"scene\":{\"xaxis\":{\"backgroundcolor\":\"#E5ECF6\",\"gridcolor\":\"white\",\"linecolor\":\"white\",\"showbackground\":true,\"ticks\":\"\",\"zerolinecolor\":\"white\",\"gridwidth\":2},\"yaxis\":{\"backgroundcolor\":\"#E5ECF6\",\"gridcolor\":\"white\",\"linecolor\":\"white\",\"showbackground\":true,\"ticks\":\"\",\"zerolinecolor\":\"white\",\"gridwidth\":2},\"zaxis\":{\"backgroundcolor\":\"#E5ECF6\",\"gridcolor\":\"white\",\"linecolor\":\"white\",\"showbackground\":true,\"ticks\":\"\",\"zerolinecolor\":\"white\",\"gridwidth\":2}},\"shapedefaults\":{\"line\":{\"color\":\"#2a3f5f\"}},\"annotationdefaults\":{\"arrowcolor\":\"#2a3f5f\",\"arrowhead\":0,\"arrowwidth\":1},\"geo\":{\"bgcolor\":\"white\",\"landcolor\":\"#E5ECF6\",\"subunitcolor\":\"white\",\"showland\":true,\"showlakes\":true,\"lakecolor\":\"white\"},\"title\":{\"x\":0.05},\"mapbox\":{\"style\":\"light\"}}},\"title\":{\"text\":\"App Count per Catagory \",\"x\":0.45},\"width\":1020,\"height\":300},                        {\"responsive\": true}                    ).then(function(){\n",
       "                            \n",
       "var gd = document.getElementById('bb938954-47dd-438b-bcbe-74b18b709401');\n",
       "var x = new MutationObserver(function (mutations, observer) {{\n",
       "        var display = window.getComputedStyle(gd).display;\n",
       "        if (!display || display === 'none') {{\n",
       "            console.log([gd, 'removed!']);\n",
       "            Plotly.purge(gd);\n",
       "            observer.disconnect();\n",
       "        }}\n",
       "}});\n",
       "\n",
       "// Listen for the removal of the full notebook cells\n",
       "var notebookContainer = gd.closest('#notebook-container');\n",
       "if (notebookContainer) {{\n",
       "    x.observe(notebookContainer, {childList: true});\n",
       "}}\n",
       "\n",
       "// Listen for the clearing of the current output cell\n",
       "var outputEl = gd.closest('.output');\n",
       "if (outputEl) {{\n",
       "    x.observe(outputEl, {childList: true});\n",
       "}}\n",
       "\n",
       "                        })                };                            </script>        </div>\n",
       "</body>\n",
       "</html>"
      ]
     },
     "metadata": {},
     "output_type": "display_data"
    },
    {
     "data": {
      "text/html": [
       "<html>\n",
       "<head><meta charset=\"utf-8\" /></head>\n",
       "<body>\n",
       "    <div>            <script src=\"https://cdnjs.cloudflare.com/ajax/libs/mathjax/2.7.5/MathJax.js?config=TeX-AMS-MML_SVG\"></script><script type=\"text/javascript\">if (window.MathJax && window.MathJax.Hub && window.MathJax.Hub.Config) {window.MathJax.Hub.Config({SVG: {font: \"STIX-Web\"}});}</script>                <script type=\"text/javascript\">window.PlotlyConfig = {MathJaxConfig: 'local'};</script>\n",
       "        <script src=\"https://cdn.plot.ly/plotly-2.14.0.min.js\"></script>                <div id=\"208fea1e-6b72-44e9-8068-267e6add0bd4\" class=\"plotly-graph-div\" style=\"height:525px; width:1020px;\"></div>            <script type=\"text/javascript\">                                    window.PLOTLYENV=window.PLOTLYENV || {};                                    if (document.getElementById(\"208fea1e-6b72-44e9-8068-267e6add0bd4\")) {                    Plotly.newPlot(                        \"208fea1e-6b72-44e9-8068-267e6add0bd4\",                        [{\"marker\":{\"color\":\"rgba(102, 216, 137, 0.8)\"},\"name\":\"Large apps (500 MB+)\",\"x\":[\"Book\",\"Business\",\"Developer Tools\",\"Education\",\"Entertainment\",\"Finance\",\"Food & Drink\",\"Games\",\"Graphics & Design\",\"Health & Fitness\",\"Lifestyle\",\"Medical\",\"Music\",\"Navigation\",\"News\",\"Photo & Video\",\"Productivity\",\"Reference\",\"Shopping\",\"Social Networking\",\"Sports\",\"Travel\",\"Utilities\",\"Weather\"],\"y\":[0.08,0.49,0.05,5.08,2.02,4.58,0.17,14.21,2.32,0.44,1.03,1.13,0.42,0.08,0.0,0.13,0.08,2.46,0.0,0.1,0.1,0.2,0.06,7.1],\"type\":\"bar\"},{\"marker\":{\"color\":\"rgba(224, 148, 215, 0.8)\"},\"name\":\"Medium Apps (150 - 500 MB)\",\"x\":[\"Book\",\"Business\",\"Developer Tools\",\"Education\",\"Entertainment\",\"Finance\",\"Food & Drink\",\"Games\",\"Graphics & Design\",\"Health & Fitness\",\"Lifestyle\",\"Medical\",\"Music\",\"Navigation\",\"News\",\"Photo & Video\",\"Productivity\",\"Reference\",\"Shopping\",\"Social Networking\",\"Sports\",\"Travel\",\"Utilities\",\"Weather\"],\"y\":[1.1,23.74,0.27,27.59,28.2,49.33,42.25,59.11,37.58,36.81,25.2,8.18,9.53,40.58,30.01,44.84,48.32,11.84,14.57,20.57,14.18,46.12,14.11,36.59],\"type\":\"bar\"},{\"marker\":{\"color\":\"#add8e6\"},\"name\":\"Small Apps (Below 150 MB)\",\"x\":[\"Book\",\"Business\",\"Developer Tools\",\"Education\",\"Entertainment\",\"Finance\",\"Food & Drink\",\"Games\",\"Graphics & Design\",\"Health & Fitness\",\"Lifestyle\",\"Medical\",\"Music\",\"Navigation\",\"News\",\"Photo & Video\",\"Productivity\",\"Reference\",\"Shopping\",\"Social Networking\",\"Sports\",\"Travel\",\"Utilities\",\"Weather\"],\"y\":[98.83,75.77,99.68,67.34,69.78,46.08,57.58,26.68,60.1,62.75,73.76,90.69,90.04,59.35,69.99,55.03,51.59,85.7,85.43,79.32,85.72,53.68,85.83,56.31],\"type\":\"bar\"}],                        {\"template\":{\"data\":{\"histogram2dcontour\":[{\"type\":\"histogram2dcontour\",\"colorbar\":{\"outlinewidth\":0,\"ticks\":\"\"},\"colorscale\":[[0.0,\"#0d0887\"],[0.1111111111111111,\"#46039f\"],[0.2222222222222222,\"#7201a8\"],[0.3333333333333333,\"#9c179e\"],[0.4444444444444444,\"#bd3786\"],[0.5555555555555556,\"#d8576b\"],[0.6666666666666666,\"#ed7953\"],[0.7777777777777778,\"#fb9f3a\"],[0.8888888888888888,\"#fdca26\"],[1.0,\"#f0f921\"]]}],\"choropleth\":[{\"type\":\"choropleth\",\"colorbar\":{\"outlinewidth\":0,\"ticks\":\"\"}}],\"histogram2d\":[{\"type\":\"histogram2d\",\"colorbar\":{\"outlinewidth\":0,\"ticks\":\"\"},\"colorscale\":[[0.0,\"#0d0887\"],[0.1111111111111111,\"#46039f\"],[0.2222222222222222,\"#7201a8\"],[0.3333333333333333,\"#9c179e\"],[0.4444444444444444,\"#bd3786\"],[0.5555555555555556,\"#d8576b\"],[0.6666666666666666,\"#ed7953\"],[0.7777777777777778,\"#fb9f3a\"],[0.8888888888888888,\"#fdca26\"],[1.0,\"#f0f921\"]]}],\"heatmap\":[{\"type\":\"heatmap\",\"colorbar\":{\"outlinewidth\":0,\"ticks\":\"\"},\"colorscale\":[[0.0,\"#0d0887\"],[0.1111111111111111,\"#46039f\"],[0.2222222222222222,\"#7201a8\"],[0.3333333333333333,\"#9c179e\"],[0.4444444444444444,\"#bd3786\"],[0.5555555555555556,\"#d8576b\"],[0.6666666666666666,\"#ed7953\"],[0.7777777777777778,\"#fb9f3a\"],[0.8888888888888888,\"#fdca26\"],[1.0,\"#f0f921\"]]}],\"heatmapgl\":[{\"type\":\"heatmapgl\",\"colorbar\":{\"outlinewidth\":0,\"ticks\":\"\"},\"colorscale\":[[0.0,\"#0d0887\"],[0.1111111111111111,\"#46039f\"],[0.2222222222222222,\"#7201a8\"],[0.3333333333333333,\"#9c179e\"],[0.4444444444444444,\"#bd3786\"],[0.5555555555555556,\"#d8576b\"],[0.6666666666666666,\"#ed7953\"],[0.7777777777777778,\"#fb9f3a\"],[0.8888888888888888,\"#fdca26\"],[1.0,\"#f0f921\"]]}],\"contourcarpet\":[{\"type\":\"contourcarpet\",\"colorbar\":{\"outlinewidth\":0,\"ticks\":\"\"}}],\"contour\":[{\"type\":\"contour\",\"colorbar\":{\"outlinewidth\":0,\"ticks\":\"\"},\"colorscale\":[[0.0,\"#0d0887\"],[0.1111111111111111,\"#46039f\"],[0.2222222222222222,\"#7201a8\"],[0.3333333333333333,\"#9c179e\"],[0.4444444444444444,\"#bd3786\"],[0.5555555555555556,\"#d8576b\"],[0.6666666666666666,\"#ed7953\"],[0.7777777777777778,\"#fb9f3a\"],[0.8888888888888888,\"#fdca26\"],[1.0,\"#f0f921\"]]}],\"surface\":[{\"type\":\"surface\",\"colorbar\":{\"outlinewidth\":0,\"ticks\":\"\"},\"colorscale\":[[0.0,\"#0d0887\"],[0.1111111111111111,\"#46039f\"],[0.2222222222222222,\"#7201a8\"],[0.3333333333333333,\"#9c179e\"],[0.4444444444444444,\"#bd3786\"],[0.5555555555555556,\"#d8576b\"],[0.6666666666666666,\"#ed7953\"],[0.7777777777777778,\"#fb9f3a\"],[0.8888888888888888,\"#fdca26\"],[1.0,\"#f0f921\"]]}],\"mesh3d\":[{\"type\":\"mesh3d\",\"colorbar\":{\"outlinewidth\":0,\"ticks\":\"\"}}],\"scatter\":[{\"fillpattern\":{\"fillmode\":\"overlay\",\"size\":10,\"solidity\":0.2},\"type\":\"scatter\"}],\"parcoords\":[{\"type\":\"parcoords\",\"line\":{\"colorbar\":{\"outlinewidth\":0,\"ticks\":\"\"}}}],\"scatterpolargl\":[{\"type\":\"scatterpolargl\",\"marker\":{\"colorbar\":{\"outlinewidth\":0,\"ticks\":\"\"}}}],\"bar\":[{\"error_x\":{\"color\":\"#2a3f5f\"},\"error_y\":{\"color\":\"#2a3f5f\"},\"marker\":{\"line\":{\"color\":\"#E5ECF6\",\"width\":0.5},\"pattern\":{\"fillmode\":\"overlay\",\"size\":10,\"solidity\":0.2}},\"type\":\"bar\"}],\"scattergeo\":[{\"type\":\"scattergeo\",\"marker\":{\"colorbar\":{\"outlinewidth\":0,\"ticks\":\"\"}}}],\"scatterpolar\":[{\"type\":\"scatterpolar\",\"marker\":{\"colorbar\":{\"outlinewidth\":0,\"ticks\":\"\"}}}],\"histogram\":[{\"marker\":{\"pattern\":{\"fillmode\":\"overlay\",\"size\":10,\"solidity\":0.2}},\"type\":\"histogram\"}],\"scattergl\":[{\"type\":\"scattergl\",\"marker\":{\"colorbar\":{\"outlinewidth\":0,\"ticks\":\"\"}}}],\"scatter3d\":[{\"type\":\"scatter3d\",\"line\":{\"colorbar\":{\"outlinewidth\":0,\"ticks\":\"\"}},\"marker\":{\"colorbar\":{\"outlinewidth\":0,\"ticks\":\"\"}}}],\"scattermapbox\":[{\"type\":\"scattermapbox\",\"marker\":{\"colorbar\":{\"outlinewidth\":0,\"ticks\":\"\"}}}],\"scatterternary\":[{\"type\":\"scatterternary\",\"marker\":{\"colorbar\":{\"outlinewidth\":0,\"ticks\":\"\"}}}],\"scattercarpet\":[{\"type\":\"scattercarpet\",\"marker\":{\"colorbar\":{\"outlinewidth\":0,\"ticks\":\"\"}}}],\"carpet\":[{\"aaxis\":{\"endlinecolor\":\"#2a3f5f\",\"gridcolor\":\"white\",\"linecolor\":\"white\",\"minorgridcolor\":\"white\",\"startlinecolor\":\"#2a3f5f\"},\"baxis\":{\"endlinecolor\":\"#2a3f5f\",\"gridcolor\":\"white\",\"linecolor\":\"white\",\"minorgridcolor\":\"white\",\"startlinecolor\":\"#2a3f5f\"},\"type\":\"carpet\"}],\"table\":[{\"cells\":{\"fill\":{\"color\":\"#EBF0F8\"},\"line\":{\"color\":\"white\"}},\"header\":{\"fill\":{\"color\":\"#C8D4E3\"},\"line\":{\"color\":\"white\"}},\"type\":\"table\"}],\"barpolar\":[{\"marker\":{\"line\":{\"color\":\"#E5ECF6\",\"width\":0.5},\"pattern\":{\"fillmode\":\"overlay\",\"size\":10,\"solidity\":0.2}},\"type\":\"barpolar\"}],\"pie\":[{\"automargin\":true,\"type\":\"pie\"}]},\"layout\":{\"autotypenumbers\":\"strict\",\"colorway\":[\"#636efa\",\"#EF553B\",\"#00cc96\",\"#ab63fa\",\"#FFA15A\",\"#19d3f3\",\"#FF6692\",\"#B6E880\",\"#FF97FF\",\"#FECB52\"],\"font\":{\"color\":\"#2a3f5f\"},\"hovermode\":\"closest\",\"hoverlabel\":{\"align\":\"left\"},\"paper_bgcolor\":\"white\",\"plot_bgcolor\":\"#E5ECF6\",\"polar\":{\"bgcolor\":\"#E5ECF6\",\"angularaxis\":{\"gridcolor\":\"white\",\"linecolor\":\"white\",\"ticks\":\"\"},\"radialaxis\":{\"gridcolor\":\"white\",\"linecolor\":\"white\",\"ticks\":\"\"}},\"ternary\":{\"bgcolor\":\"#E5ECF6\",\"aaxis\":{\"gridcolor\":\"white\",\"linecolor\":\"white\",\"ticks\":\"\"},\"baxis\":{\"gridcolor\":\"white\",\"linecolor\":\"white\",\"ticks\":\"\"},\"caxis\":{\"gridcolor\":\"white\",\"linecolor\":\"white\",\"ticks\":\"\"}},\"coloraxis\":{\"colorbar\":{\"outlinewidth\":0,\"ticks\":\"\"}},\"colorscale\":{\"sequential\":[[0.0,\"#0d0887\"],[0.1111111111111111,\"#46039f\"],[0.2222222222222222,\"#7201a8\"],[0.3333333333333333,\"#9c179e\"],[0.4444444444444444,\"#bd3786\"],[0.5555555555555556,\"#d8576b\"],[0.6666666666666666,\"#ed7953\"],[0.7777777777777778,\"#fb9f3a\"],[0.8888888888888888,\"#fdca26\"],[1.0,\"#f0f921\"]],\"sequentialminus\":[[0.0,\"#0d0887\"],[0.1111111111111111,\"#46039f\"],[0.2222222222222222,\"#7201a8\"],[0.3333333333333333,\"#9c179e\"],[0.4444444444444444,\"#bd3786\"],[0.5555555555555556,\"#d8576b\"],[0.6666666666666666,\"#ed7953\"],[0.7777777777777778,\"#fb9f3a\"],[0.8888888888888888,\"#fdca26\"],[1.0,\"#f0f921\"]],\"diverging\":[[0,\"#8e0152\"],[0.1,\"#c51b7d\"],[0.2,\"#de77ae\"],[0.3,\"#f1b6da\"],[0.4,\"#fde0ef\"],[0.5,\"#f7f7f7\"],[0.6,\"#e6f5d0\"],[0.7,\"#b8e186\"],[0.8,\"#7fbc41\"],[0.9,\"#4d9221\"],[1,\"#276419\"]]},\"xaxis\":{\"gridcolor\":\"white\",\"linecolor\":\"white\",\"ticks\":\"\",\"title\":{\"standoff\":15},\"zerolinecolor\":\"white\",\"automargin\":true,\"zerolinewidth\":2},\"yaxis\":{\"gridcolor\":\"white\",\"linecolor\":\"white\",\"ticks\":\"\",\"title\":{\"standoff\":15},\"zerolinecolor\":\"white\",\"automargin\":true,\"zerolinewidth\":2},\"scene\":{\"xaxis\":{\"backgroundcolor\":\"#E5ECF6\",\"gridcolor\":\"white\",\"linecolor\":\"white\",\"showbackground\":true,\"ticks\":\"\",\"zerolinecolor\":\"white\",\"gridwidth\":2},\"yaxis\":{\"backgroundcolor\":\"#E5ECF6\",\"gridcolor\":\"white\",\"linecolor\":\"white\",\"showbackground\":true,\"ticks\":\"\",\"zerolinecolor\":\"white\",\"gridwidth\":2},\"zaxis\":{\"backgroundcolor\":\"#E5ECF6\",\"gridcolor\":\"white\",\"linecolor\":\"white\",\"showbackground\":true,\"ticks\":\"\",\"zerolinecolor\":\"white\",\"gridwidth\":2}},\"shapedefaults\":{\"line\":{\"color\":\"#2a3f5f\"}},\"annotationdefaults\":{\"arrowcolor\":\"#2a3f5f\",\"arrowhead\":0,\"arrowwidth\":1},\"geo\":{\"bgcolor\":\"white\",\"landcolor\":\"#E5ECF6\",\"subunitcolor\":\"white\",\"showland\":true,\"showlakes\":true,\"lakecolor\":\"white\"},\"title\":{\"x\":0.05},\"mapbox\":{\"style\":\"light\"}}},\"title\":{\"text\":\"Impact on users due to Size of the app\",\"x\":0.45},\"xaxis\":{\"title\":{\"text\":\"Genre\"},\"tickangle\":45},\"yaxis\":{\"title\":{\"text\":\"User Percentage\"}},\"bargap\":0.3,\"bargroupgap\":0.1,\"barmode\":\"stack\",\"width\":1020},                        {\"responsive\": true}                    ).then(function(){\n",
       "                            \n",
       "var gd = document.getElementById('208fea1e-6b72-44e9-8068-267e6add0bd4');\n",
       "var x = new MutationObserver(function (mutations, observer) {{\n",
       "        var display = window.getComputedStyle(gd).display;\n",
       "        if (!display || display === 'none') {{\n",
       "            console.log([gd, 'removed!']);\n",
       "            Plotly.purge(gd);\n",
       "            observer.disconnect();\n",
       "        }}\n",
       "}});\n",
       "\n",
       "// Listen for the removal of the full notebook cells\n",
       "var notebookContainer = gd.closest('#notebook-container');\n",
       "if (notebookContainer) {{\n",
       "    x.observe(notebookContainer, {childList: true});\n",
       "}}\n",
       "\n",
       "// Listen for the clearing of the current output cell\n",
       "var outputEl = gd.closest('.output');\n",
       "if (outputEl) {{\n",
       "    x.observe(outputEl, {childList: true});\n",
       "}}\n",
       "\n",
       "                        })                };                            </script>        </div>\n",
       "</body>\n",
       "</html>"
      ]
     },
     "metadata": {},
     "output_type": "display_data"
    }
   ],
   "source": [
    "trace = go.Table(\n",
    "        header=dict(\n",
    "            values=['Catagory','Large','Medium','Small'],\n",
    "            #fill_color='mediumspringgreen',\n",
    "            font=dict(size=10),\n",
    "            align=\"left\"\n",
    "        ),\n",
    "        cells=dict(\n",
    "            values=[app_df[k].tolist() for k in app_df.columns],\n",
    "            #fill_color='blanchedalmond',\n",
    "            align = \"left\")\n",
    "    )\n",
    "fig = go.Figure(data = [trace])\n",
    "fig.update_layout(title='App Count per Catagory ', width=1020, height=300, title_x=0.45)\n",
    "fig.show()\n",
    "###################################\n",
    "trace1 = go.Bar(x=users_impact_df['Genre'],y=users_impact_df['large_percentage'],\n",
    "                name = \"Large apps (500 MB+)\",\n",
    "                marker = dict(color = 'rgba(102, 216, 137, 0.8)')\n",
    ")\n",
    "trace2 = go.Bar(x=users_impact_df['Genre'],y=users_impact_df['medium_percentage'],\n",
    "                name = \"Medium Apps (150 - 500 MB)\",\n",
    "                marker = dict(color = 'rgba(224, 148, 215, 0.8)')\n",
    ")\n",
    "trace3 = go.Bar(x=users_impact_df['Genre'],y=users_impact_df['small_percentage'],\n",
    "                name = \"Small Apps (Below 150 MB)\",\n",
    "                marker = dict(color = '#add8e6')\n",
    ")\n",
    "data = [trace1, trace2, trace3]\n",
    "\n",
    "fig3 = go.Figure(data = data)\n",
    "fig3.update_layout(\n",
    "    title='Impact on users due to Size of the app', # title of plot\n",
    "    xaxis_title='Genre', # xaxis label\n",
    "    yaxis_title='User Percentage', # yaxis label\n",
    "    bargap=0.3, # gap between bars of adjacent location coordinates\n",
    "    bargroupgap=0.1, # gap between bars of the same location coordinates\n",
    "    barmode='stack', width=1020, title_x=0.45\n",
    ")\n",
    "fig3.update_xaxes(tickangle=45)\n",
    "fig3.show()"
   ]
  },
  {
   "cell_type": "markdown",
   "metadata": {
    "id": "XTleuEfm1LTB"
   },
   "source": [
    "> Number of Small apps are higher than medium and large so the users.\n",
    "\n",
    "> Although Medium sized apps are lesser than small apps, users percentage is good and can be comparable with small app users.\n",
    "\n",
    "> Large app has way too low in number of apps and also the user. But in games 16 percentage of users chose to play large sized games. There are also larege apps in Weather, Education etc. but their user percentage and app count is too low compared to games. "
   ]
  },
  {
   "cell_type": "markdown",
   "metadata": {
    "id": "2UpYZY3fPToZ"
   },
   "source": [
    "### Q4.What is the number of app releases and users over the years? "
   ]
  },
  {
   "cell_type": "markdown",
   "metadata": {
    "id": "wOqRMPzM8zWR"
   },
   "source": [
    "Calculating the revenue by multiplying the number of reviews and price of the app."
   ]
  },
  {
   "cell_type": "code",
   "execution_count": 40,
   "metadata": {
    "executionInfo": {
     "elapsed": 18,
     "status": "ok",
     "timestamp": 1662575245425,
     "user": {
      "displayName": "Pratul Chandra",
      "userId": "06160049637809107783"
     },
     "user_tz": -330
    },
    "id": "W8lg8oL79zaC"
   },
   "outputs": [],
   "source": [
    "df['Revenue']=df['Reviews']*df['Price'] "
   ]
  },
  {
   "cell_type": "code",
   "execution_count": 41,
   "metadata": {
    "executionInfo": {
     "elapsed": 1627,
     "status": "ok",
     "timestamp": 1662575247035,
     "user": {
      "displayName": "Pratul Chandra",
      "userId": "06160049637809107783"
     },
     "user_tz": -330
    },
    "id": "230OuWsh9zYM"
   },
   "outputs": [],
   "source": [
    "app_count=df.groupby([df['Released'].dt.year,df['Primary_Genre']])['App_Name'].count().reset_index()\n",
    "app_count.rename(columns={'App_Name': 'No_of_Apps'}, inplace=True)\n",
    "year_users= df.groupby([df['Released'].dt.year,df['Primary_Genre']])['Reviews'].sum().reset_index()\n",
    "all_yr_gn_df = pd.merge(app_count, year_users,  \n",
    "                        how='left', \n",
    "                        left_on=['Released','Primary_Genre'], \n",
    "                        right_on = ['Released','Primary_Genre'])\n",
    "all_yr_gn_df.rename(columns={'Released':'Year',\n",
    "                             'Primary_Genre':'Genre',\n",
    "                             'App_Name': 'No_of_Apps',\n",
    "                             'Reviews': 'Users'}, inplace=True)"
   ]
  },
  {
   "cell_type": "code",
   "execution_count": 42,
   "metadata": {
    "executionInfo": {
     "elapsed": 20,
     "status": "ok",
     "timestamp": 1662575247040,
     "user": {
      "displayName": "Pratul Chandra",
      "userId": "06160049637809107783"
     },
     "user_tz": -330
    },
    "id": "ce3yoVq83wOy"
   },
   "outputs": [],
   "source": [
    "user_by_yr= df.groupby([df['Released'].dt.year])['Reviews'].sum().reset_index()\n",
    "user_by_yr.columns= ['Year', 'Users']"
   ]
  },
  {
   "cell_type": "code",
   "execution_count": 43,
   "metadata": {
    "colab": {
     "base_uri": "https://localhost:8080/",
     "height": 944
    },
    "executionInfo": {
     "elapsed": 849,
     "status": "ok",
     "timestamp": 1662575247872,
     "user": {
      "displayName": "Pratul Chandra",
      "userId": "06160049637809107783"
     },
     "user_tz": -330
    },
    "id": "bv-kHw1x9zWU",
    "outputId": "a880d2fe-5651-4b70-fb1c-dd0d00fb96c8"
   },
   "outputs": [
    {
     "data": {
      "text/html": [
       "<html>\n",
       "<head><meta charset=\"utf-8\" /></head>\n",
       "<body>\n",
       "    <div>            <script src=\"https://cdnjs.cloudflare.com/ajax/libs/mathjax/2.7.5/MathJax.js?config=TeX-AMS-MML_SVG\"></script><script type=\"text/javascript\">if (window.MathJax && window.MathJax.Hub && window.MathJax.Hub.Config) {window.MathJax.Hub.Config({SVG: {font: \"STIX-Web\"}});}</script>                <script type=\"text/javascript\">window.PlotlyConfig = {MathJaxConfig: 'local'};</script>\n",
       "        <script src=\"https://cdn.plot.ly/plotly-2.14.0.min.js\"></script>                <div id=\"5b12b218-6b10-494c-938c-453ab6e4ec5e\" class=\"plotly-graph-div\" style=\"height:370px; width:728px;\"></div>            <script type=\"text/javascript\">                                    window.PLOTLYENV=window.PLOTLYENV || {};                                    if (document.getElementById(\"5b12b218-6b10-494c-938c-453ab6e4ec5e\")) {                    Plotly.newPlot(                        \"5b12b218-6b10-494c-938c-453ab6e4ec5e\",                        [{\"hovertemplate\":\"Year=%{x}<br>Users=%{y}<extra></extra>\",\"legendgroup\":\"\",\"line\":{\"color\":\"#636efa\",\"dash\":\"solid\"},\"marker\":{\"symbol\":\"circle\"},\"mode\":\"markers+lines\",\"name\":\"\",\"orientation\":\"v\",\"showlegend\":false,\"x\":[2008,2009,2010,2011,2012,2013,2014,2015,2016,2017,2018,2019,2020,2021],\"xaxis\":\"x\",\"y\":[22572857,98164378,98825638,99847153,114507432,70178420,81494431,54371944,69444768,72390721,77162268,104844713,42077208,10344410],\"yaxis\":\"y\",\"type\":\"scatter\"}],                        {\"template\":{\"data\":{\"histogram2dcontour\":[{\"type\":\"histogram2dcontour\",\"colorbar\":{\"outlinewidth\":0,\"ticks\":\"\"},\"colorscale\":[[0.0,\"#0d0887\"],[0.1111111111111111,\"#46039f\"],[0.2222222222222222,\"#7201a8\"],[0.3333333333333333,\"#9c179e\"],[0.4444444444444444,\"#bd3786\"],[0.5555555555555556,\"#d8576b\"],[0.6666666666666666,\"#ed7953\"],[0.7777777777777778,\"#fb9f3a\"],[0.8888888888888888,\"#fdca26\"],[1.0,\"#f0f921\"]]}],\"choropleth\":[{\"type\":\"choropleth\",\"colorbar\":{\"outlinewidth\":0,\"ticks\":\"\"}}],\"histogram2d\":[{\"type\":\"histogram2d\",\"colorbar\":{\"outlinewidth\":0,\"ticks\":\"\"},\"colorscale\":[[0.0,\"#0d0887\"],[0.1111111111111111,\"#46039f\"],[0.2222222222222222,\"#7201a8\"],[0.3333333333333333,\"#9c179e\"],[0.4444444444444444,\"#bd3786\"],[0.5555555555555556,\"#d8576b\"],[0.6666666666666666,\"#ed7953\"],[0.7777777777777778,\"#fb9f3a\"],[0.8888888888888888,\"#fdca26\"],[1.0,\"#f0f921\"]]}],\"heatmap\":[{\"type\":\"heatmap\",\"colorbar\":{\"outlinewidth\":0,\"ticks\":\"\"},\"colorscale\":[[0.0,\"#0d0887\"],[0.1111111111111111,\"#46039f\"],[0.2222222222222222,\"#7201a8\"],[0.3333333333333333,\"#9c179e\"],[0.4444444444444444,\"#bd3786\"],[0.5555555555555556,\"#d8576b\"],[0.6666666666666666,\"#ed7953\"],[0.7777777777777778,\"#fb9f3a\"],[0.8888888888888888,\"#fdca26\"],[1.0,\"#f0f921\"]]}],\"heatmapgl\":[{\"type\":\"heatmapgl\",\"colorbar\":{\"outlinewidth\":0,\"ticks\":\"\"},\"colorscale\":[[0.0,\"#0d0887\"],[0.1111111111111111,\"#46039f\"],[0.2222222222222222,\"#7201a8\"],[0.3333333333333333,\"#9c179e\"],[0.4444444444444444,\"#bd3786\"],[0.5555555555555556,\"#d8576b\"],[0.6666666666666666,\"#ed7953\"],[0.7777777777777778,\"#fb9f3a\"],[0.8888888888888888,\"#fdca26\"],[1.0,\"#f0f921\"]]}],\"contourcarpet\":[{\"type\":\"contourcarpet\",\"colorbar\":{\"outlinewidth\":0,\"ticks\":\"\"}}],\"contour\":[{\"type\":\"contour\",\"colorbar\":{\"outlinewidth\":0,\"ticks\":\"\"},\"colorscale\":[[0.0,\"#0d0887\"],[0.1111111111111111,\"#46039f\"],[0.2222222222222222,\"#7201a8\"],[0.3333333333333333,\"#9c179e\"],[0.4444444444444444,\"#bd3786\"],[0.5555555555555556,\"#d8576b\"],[0.6666666666666666,\"#ed7953\"],[0.7777777777777778,\"#fb9f3a\"],[0.8888888888888888,\"#fdca26\"],[1.0,\"#f0f921\"]]}],\"surface\":[{\"type\":\"surface\",\"colorbar\":{\"outlinewidth\":0,\"ticks\":\"\"},\"colorscale\":[[0.0,\"#0d0887\"],[0.1111111111111111,\"#46039f\"],[0.2222222222222222,\"#7201a8\"],[0.3333333333333333,\"#9c179e\"],[0.4444444444444444,\"#bd3786\"],[0.5555555555555556,\"#d8576b\"],[0.6666666666666666,\"#ed7953\"],[0.7777777777777778,\"#fb9f3a\"],[0.8888888888888888,\"#fdca26\"],[1.0,\"#f0f921\"]]}],\"mesh3d\":[{\"type\":\"mesh3d\",\"colorbar\":{\"outlinewidth\":0,\"ticks\":\"\"}}],\"scatter\":[{\"fillpattern\":{\"fillmode\":\"overlay\",\"size\":10,\"solidity\":0.2},\"type\":\"scatter\"}],\"parcoords\":[{\"type\":\"parcoords\",\"line\":{\"colorbar\":{\"outlinewidth\":0,\"ticks\":\"\"}}}],\"scatterpolargl\":[{\"type\":\"scatterpolargl\",\"marker\":{\"colorbar\":{\"outlinewidth\":0,\"ticks\":\"\"}}}],\"bar\":[{\"error_x\":{\"color\":\"#2a3f5f\"},\"error_y\":{\"color\":\"#2a3f5f\"},\"marker\":{\"line\":{\"color\":\"#E5ECF6\",\"width\":0.5},\"pattern\":{\"fillmode\":\"overlay\",\"size\":10,\"solidity\":0.2}},\"type\":\"bar\"}],\"scattergeo\":[{\"type\":\"scattergeo\",\"marker\":{\"colorbar\":{\"outlinewidth\":0,\"ticks\":\"\"}}}],\"scatterpolar\":[{\"type\":\"scatterpolar\",\"marker\":{\"colorbar\":{\"outlinewidth\":0,\"ticks\":\"\"}}}],\"histogram\":[{\"marker\":{\"pattern\":{\"fillmode\":\"overlay\",\"size\":10,\"solidity\":0.2}},\"type\":\"histogram\"}],\"scattergl\":[{\"type\":\"scattergl\",\"marker\":{\"colorbar\":{\"outlinewidth\":0,\"ticks\":\"\"}}}],\"scatter3d\":[{\"type\":\"scatter3d\",\"line\":{\"colorbar\":{\"outlinewidth\":0,\"ticks\":\"\"}},\"marker\":{\"colorbar\":{\"outlinewidth\":0,\"ticks\":\"\"}}}],\"scattermapbox\":[{\"type\":\"scattermapbox\",\"marker\":{\"colorbar\":{\"outlinewidth\":0,\"ticks\":\"\"}}}],\"scatterternary\":[{\"type\":\"scatterternary\",\"marker\":{\"colorbar\":{\"outlinewidth\":0,\"ticks\":\"\"}}}],\"scattercarpet\":[{\"type\":\"scattercarpet\",\"marker\":{\"colorbar\":{\"outlinewidth\":0,\"ticks\":\"\"}}}],\"carpet\":[{\"aaxis\":{\"endlinecolor\":\"#2a3f5f\",\"gridcolor\":\"white\",\"linecolor\":\"white\",\"minorgridcolor\":\"white\",\"startlinecolor\":\"#2a3f5f\"},\"baxis\":{\"endlinecolor\":\"#2a3f5f\",\"gridcolor\":\"white\",\"linecolor\":\"white\",\"minorgridcolor\":\"white\",\"startlinecolor\":\"#2a3f5f\"},\"type\":\"carpet\"}],\"table\":[{\"cells\":{\"fill\":{\"color\":\"#EBF0F8\"},\"line\":{\"color\":\"white\"}},\"header\":{\"fill\":{\"color\":\"#C8D4E3\"},\"line\":{\"color\":\"white\"}},\"type\":\"table\"}],\"barpolar\":[{\"marker\":{\"line\":{\"color\":\"#E5ECF6\",\"width\":0.5},\"pattern\":{\"fillmode\":\"overlay\",\"size\":10,\"solidity\":0.2}},\"type\":\"barpolar\"}],\"pie\":[{\"automargin\":true,\"type\":\"pie\"}]},\"layout\":{\"autotypenumbers\":\"strict\",\"colorway\":[\"#636efa\",\"#EF553B\",\"#00cc96\",\"#ab63fa\",\"#FFA15A\",\"#19d3f3\",\"#FF6692\",\"#B6E880\",\"#FF97FF\",\"#FECB52\"],\"font\":{\"color\":\"#2a3f5f\"},\"hovermode\":\"closest\",\"hoverlabel\":{\"align\":\"left\"},\"paper_bgcolor\":\"white\",\"plot_bgcolor\":\"#E5ECF6\",\"polar\":{\"bgcolor\":\"#E5ECF6\",\"angularaxis\":{\"gridcolor\":\"white\",\"linecolor\":\"white\",\"ticks\":\"\"},\"radialaxis\":{\"gridcolor\":\"white\",\"linecolor\":\"white\",\"ticks\":\"\"}},\"ternary\":{\"bgcolor\":\"#E5ECF6\",\"aaxis\":{\"gridcolor\":\"white\",\"linecolor\":\"white\",\"ticks\":\"\"},\"baxis\":{\"gridcolor\":\"white\",\"linecolor\":\"white\",\"ticks\":\"\"},\"caxis\":{\"gridcolor\":\"white\",\"linecolor\":\"white\",\"ticks\":\"\"}},\"coloraxis\":{\"colorbar\":{\"outlinewidth\":0,\"ticks\":\"\"}},\"colorscale\":{\"sequential\":[[0.0,\"#0d0887\"],[0.1111111111111111,\"#46039f\"],[0.2222222222222222,\"#7201a8\"],[0.3333333333333333,\"#9c179e\"],[0.4444444444444444,\"#bd3786\"],[0.5555555555555556,\"#d8576b\"],[0.6666666666666666,\"#ed7953\"],[0.7777777777777778,\"#fb9f3a\"],[0.8888888888888888,\"#fdca26\"],[1.0,\"#f0f921\"]],\"sequentialminus\":[[0.0,\"#0d0887\"],[0.1111111111111111,\"#46039f\"],[0.2222222222222222,\"#7201a8\"],[0.3333333333333333,\"#9c179e\"],[0.4444444444444444,\"#bd3786\"],[0.5555555555555556,\"#d8576b\"],[0.6666666666666666,\"#ed7953\"],[0.7777777777777778,\"#fb9f3a\"],[0.8888888888888888,\"#fdca26\"],[1.0,\"#f0f921\"]],\"diverging\":[[0,\"#8e0152\"],[0.1,\"#c51b7d\"],[0.2,\"#de77ae\"],[0.3,\"#f1b6da\"],[0.4,\"#fde0ef\"],[0.5,\"#f7f7f7\"],[0.6,\"#e6f5d0\"],[0.7,\"#b8e186\"],[0.8,\"#7fbc41\"],[0.9,\"#4d9221\"],[1,\"#276419\"]]},\"xaxis\":{\"gridcolor\":\"white\",\"linecolor\":\"white\",\"ticks\":\"\",\"title\":{\"standoff\":15},\"zerolinecolor\":\"white\",\"automargin\":true,\"zerolinewidth\":2},\"yaxis\":{\"gridcolor\":\"white\",\"linecolor\":\"white\",\"ticks\":\"\",\"title\":{\"standoff\":15},\"zerolinecolor\":\"white\",\"automargin\":true,\"zerolinewidth\":2},\"scene\":{\"xaxis\":{\"backgroundcolor\":\"#E5ECF6\",\"gridcolor\":\"white\",\"linecolor\":\"white\",\"showbackground\":true,\"ticks\":\"\",\"zerolinecolor\":\"white\",\"gridwidth\":2},\"yaxis\":{\"backgroundcolor\":\"#E5ECF6\",\"gridcolor\":\"white\",\"linecolor\":\"white\",\"showbackground\":true,\"ticks\":\"\",\"zerolinecolor\":\"white\",\"gridwidth\":2},\"zaxis\":{\"backgroundcolor\":\"#E5ECF6\",\"gridcolor\":\"white\",\"linecolor\":\"white\",\"showbackground\":true,\"ticks\":\"\",\"zerolinecolor\":\"white\",\"gridwidth\":2}},\"shapedefaults\":{\"line\":{\"color\":\"#2a3f5f\"}},\"annotationdefaults\":{\"arrowcolor\":\"#2a3f5f\",\"arrowhead\":0,\"arrowwidth\":1},\"geo\":{\"bgcolor\":\"white\",\"landcolor\":\"#E5ECF6\",\"subunitcolor\":\"white\",\"showland\":true,\"showlakes\":true,\"lakecolor\":\"white\"},\"title\":{\"x\":0.05},\"mapbox\":{\"style\":\"light\"}}},\"xaxis\":{\"anchor\":\"y\",\"domain\":[0.0,1.0],\"title\":{\"text\":\"Year\"}},\"yaxis\":{\"anchor\":\"x\",\"domain\":[0.0,1.0],\"title\":{\"text\":\"Users\"}},\"legend\":{\"tracegroupgap\":0},\"margin\":{\"t\":60},\"title\":{\"text\":\"Users Over the Years\",\"x\":0.5},\"width\":728,\"height\":370},                        {\"responsive\": true}                    ).then(function(){\n",
       "                            \n",
       "var gd = document.getElementById('5b12b218-6b10-494c-938c-453ab6e4ec5e');\n",
       "var x = new MutationObserver(function (mutations, observer) {{\n",
       "        var display = window.getComputedStyle(gd).display;\n",
       "        if (!display || display === 'none') {{\n",
       "            console.log([gd, 'removed!']);\n",
       "            Plotly.purge(gd);\n",
       "            observer.disconnect();\n",
       "        }}\n",
       "}});\n",
       "\n",
       "// Listen for the removal of the full notebook cells\n",
       "var notebookContainer = gd.closest('#notebook-container');\n",
       "if (notebookContainer) {{\n",
       "    x.observe(notebookContainer, {childList: true});\n",
       "}}\n",
       "\n",
       "// Listen for the clearing of the current output cell\n",
       "var outputEl = gd.closest('.output');\n",
       "if (outputEl) {{\n",
       "    x.observe(outputEl, {childList: true});\n",
       "}}\n",
       "\n",
       "                        })                };                            </script>        </div>\n",
       "</body>\n",
       "</html>"
      ]
     },
     "metadata": {},
     "output_type": "display_data"
    },
    {
     "data": {
      "text/html": [
       "\n",
       "<div id=\"altair-viz-d01751fce5bb4ee2ab7343971d09b26a\"></div>\n",
       "<script type=\"text/javascript\">\n",
       "  var VEGA_DEBUG = (typeof VEGA_DEBUG == \"undefined\") ? {} : VEGA_DEBUG;\n",
       "  (function(spec, embedOpt){\n",
       "    let outputDiv = document.currentScript.previousElementSibling;\n",
       "    if (outputDiv.id !== \"altair-viz-d01751fce5bb4ee2ab7343971d09b26a\") {\n",
       "      outputDiv = document.getElementById(\"altair-viz-d01751fce5bb4ee2ab7343971d09b26a\");\n",
       "    }\n",
       "    const paths = {\n",
       "      \"vega\": \"https://cdn.jsdelivr.net/npm//vega@5?noext\",\n",
       "      \"vega-lib\": \"https://cdn.jsdelivr.net/npm//vega-lib?noext\",\n",
       "      \"vega-lite\": \"https://cdn.jsdelivr.net/npm//vega-lite@4.17.0?noext\",\n",
       "      \"vega-embed\": \"https://cdn.jsdelivr.net/npm//vega-embed@6?noext\",\n",
       "    };\n",
       "\n",
       "    function maybeLoadScript(lib, version) {\n",
       "      var key = `${lib.replace(\"-\", \"\")}_version`;\n",
       "      return (VEGA_DEBUG[key] == version) ?\n",
       "        Promise.resolve(paths[lib]) :\n",
       "        new Promise(function(resolve, reject) {\n",
       "          var s = document.createElement('script');\n",
       "          document.getElementsByTagName(\"head\")[0].appendChild(s);\n",
       "          s.async = true;\n",
       "          s.onload = () => {\n",
       "            VEGA_DEBUG[key] = version;\n",
       "            return resolve(paths[lib]);\n",
       "          };\n",
       "          s.onerror = () => reject(`Error loading script: ${paths[lib]}`);\n",
       "          s.src = paths[lib];\n",
       "        });\n",
       "    }\n",
       "\n",
       "    function showError(err) {\n",
       "      outputDiv.innerHTML = `<div class=\"error\" style=\"color:red;\">${err}</div>`;\n",
       "      throw err;\n",
       "    }\n",
       "\n",
       "    function displayChart(vegaEmbed) {\n",
       "      vegaEmbed(outputDiv, spec, embedOpt)\n",
       "        .catch(err => showError(`Javascript Error: ${err.message}<br>This usually means there's a typo in your chart specification. See the javascript console for the full traceback.`));\n",
       "    }\n",
       "\n",
       "    if(typeof define === \"function\" && define.amd) {\n",
       "      requirejs.config({paths});\n",
       "      require([\"vega-embed\"], displayChart, err => showError(`Error loading script: ${err.message}`));\n",
       "    } else {\n",
       "      maybeLoadScript(\"vega\", \"5\")\n",
       "        .then(() => maybeLoadScript(\"vega-lite\", \"4.17.0\"))\n",
       "        .then(() => maybeLoadScript(\"vega-embed\", \"6\"))\n",
       "        .catch(showError)\n",
       "        .then(() => displayChart(vegaEmbed));\n",
       "    }\n",
       "  })({\"config\": {\"view\": {\"continuousWidth\": 400, \"continuousHeight\": 300}}, \"data\": {\"name\": \"data-0ed90c43722c84860019a1e45d2695de\"}, \"mark\": {\"type\": \"point\", \"filled\": true}, \"encoding\": {\"color\": {\"field\": \"Genre\", \"type\": \"nominal\"}, \"opacity\": {\"value\": 0.7}, \"size\": {\"field\": \"No_of_Apps\", \"type\": \"quantitative\"}, \"tooltip\": [{\"field\": \"Users\", \"type\": \"quantitative\"}, {\"field\": \"No_of_Apps\", \"type\": \"quantitative\"}, {\"field\": \"Genre\", \"type\": \"nominal\"}, {\"field\": \"Released\", \"type\": \"quantitative\"}], \"x\": {\"field\": \"No_of_Apps\", \"type\": \"quantitative\"}, \"y\": {\"field\": \"Genre\", \"type\": \"nominal\"}}, \"height\": 470, \"selection\": {\"Select Year\": {\"type\": \"single\", \"fields\": [\"Year\"], \"init\": {\"Year\": 2008}, \"bind\": {\"input\": \"range\", \"max\": 2021, \"min\": 2008, \"step\": 1}}}, \"title\": \"App Releases (Yearly)\", \"transform\": [{\"filter\": {\"selection\": \"Select Year\"}}], \"width\": 500, \"$schema\": \"https://vega.github.io/schema/vega-lite/v4.17.0.json\", \"datasets\": {\"data-0ed90c43722c84860019a1e45d2695de\": [{\"Year\": 2008, \"Genre\": \"Book\", \"No_of_Apps\": 2, \"Users\": 22}, {\"Year\": 2008, \"Genre\": \"Business\", \"No_of_Apps\": 17, \"Users\": 73878}, {\"Year\": 2008, \"Genre\": \"Education\", \"No_of_Apps\": 138, \"Users\": 27771}, {\"Year\": 2008, \"Genre\": \"Entertainment\", \"No_of_Apps\": 35, \"Users\": 72345}, {\"Year\": 2008, \"Genre\": \"Finance\", \"No_of_Apps\": 32, \"Users\": 4463588}, {\"Year\": 2008, \"Genre\": \"Food & Drink\", \"No_of_Apps\": 7, \"Users\": 2486802}, {\"Year\": 2008, \"Genre\": \"Games\", \"No_of_Apps\": 130, \"Users\": 146437}, {\"Year\": 2008, \"Genre\": \"Health & Fitness\", \"No_of_Apps\": 15, \"Users\": 1477723}, {\"Year\": 2008, \"Genre\": \"Lifestyle\", \"No_of_Apps\": 19, \"Users\": 18464}, {\"Year\": 2008, \"Genre\": \"Medical\", \"No_of_Apps\": 7, \"Users\": 119412}, {\"Year\": 2008, \"Genre\": \"Music\", \"No_of_Apps\": 39, \"Users\": 835983}, {\"Year\": 2008, \"Genre\": \"Navigation\", \"No_of_Apps\": 12, \"Users\": 49}, {\"Year\": 2008, \"Genre\": \"News\", \"No_of_Apps\": 12, \"Users\": 15509}, {\"Year\": 2008, \"Genre\": \"Photo & Video\", \"No_of_Apps\": 9, \"Users\": 22810}, {\"Year\": 2008, \"Genre\": \"Productivity\", \"No_of_Apps\": 32, \"Users\": 6898}, {\"Year\": 2008, \"Genre\": \"Reference\", \"No_of_Apps\": 38, \"Users\": 14735}, {\"Year\": 2008, \"Genre\": \"Shopping\", \"No_of_Apps\": 4, \"Users\": 8098817}, {\"Year\": 2008, \"Genre\": \"Social Networking\", \"No_of_Apps\": 2, \"Users\": 12}, {\"Year\": 2008, \"Genre\": \"Sports\", \"No_of_Apps\": 10, \"Users\": 27820}, {\"Year\": 2008, \"Genre\": \"Travel\", \"No_of_Apps\": 39, \"Users\": 138741}, {\"Year\": 2008, \"Genre\": \"Utilities\", \"No_of_Apps\": 46, \"Users\": 7031}, {\"Year\": 2008, \"Genre\": \"Weather\", \"No_of_Apps\": 7, \"Users\": 4518010}, {\"Year\": 2009, \"Genre\": \"Book\", \"No_of_Apps\": 112, \"Users\": 3900380}, {\"Year\": 2009, \"Genre\": \"Business\", \"No_of_Apps\": 211, \"Users\": 5086911}, {\"Year\": 2009, \"Genre\": \"Education\", \"No_of_Apps\": 504, \"Users\": 314855}, {\"Year\": 2009, \"Genre\": \"Entertainment\", \"No_of_Apps\": 302, \"Users\": 5132452}, {\"Year\": 2009, \"Genre\": \"Finance\", \"No_of_Apps\": 146, \"Users\": 19025271}, {\"Year\": 2009, \"Genre\": \"Food & Drink\", \"No_of_Apps\": 61, \"Users\": 10235103}, {\"Year\": 2009, \"Genre\": \"Games\", \"No_of_Apps\": 671, \"Users\": 1840220}, {\"Year\": 2009, \"Genre\": \"Graphics & Design\", \"No_of_Apps\": 2, \"Users\": 10436}, {\"Year\": 2009, \"Genre\": \"Health & Fitness\", \"No_of_Apps\": 132, \"Users\": 4532737}, {\"Year\": 2009, \"Genre\": \"Lifestyle\", \"No_of_Apps\": 201, \"Users\": 7401155}, {\"Year\": 2009, \"Genre\": \"Magazines & Newspapers\", \"No_of_Apps\": 2, \"Users\": 8}, {\"Year\": 2009, \"Genre\": \"Medical\", \"No_of_Apps\": 178, \"Users\": 31573}, {\"Year\": 2009, \"Genre\": \"Music\", \"No_of_Apps\": 316, \"Users\": 1737204}, {\"Year\": 2009, \"Genre\": \"Navigation\", \"No_of_Apps\": 104, \"Users\": 3145102}, {\"Year\": 2009, \"Genre\": \"News\", \"No_of_Apps\": 144, \"Users\": 1904686}, {\"Year\": 2009, \"Genre\": \"Photo & Video\", \"No_of_Apps\": 101, \"Users\": 1244674}, {\"Year\": 2009, \"Genre\": \"Productivity\", \"No_of_Apps\": 163, \"Users\": 404591}, {\"Year\": 2009, \"Genre\": \"Reference\", \"No_of_Apps\": 244, \"Users\": 433111}, {\"Year\": 2009, \"Genre\": \"Shopping\", \"No_of_Apps\": 48, \"Users\": 10853009}, {\"Year\": 2009, \"Genre\": \"Social Networking\", \"No_of_Apps\": 36, \"Users\": 10459078}, {\"Year\": 2009, \"Genre\": \"Sports\", \"No_of_Apps\": 127, \"Users\": 2961941}, {\"Year\": 2009, \"Genre\": \"Travel\", \"No_of_Apps\": 161, \"Users\": 6136571}, {\"Year\": 2009, \"Genre\": \"Utilities\", \"No_of_Apps\": 372, \"Users\": 410613}, {\"Year\": 2009, \"Genre\": \"Weather\", \"No_of_Apps\": 43, \"Users\": 962697}, {\"Year\": 2010, \"Genre\": \"Book\", \"No_of_Apps\": 299, \"Users\": 4386485}, {\"Year\": 2010, \"Genre\": \"Business\", \"No_of_Apps\": 549, \"Users\": 1566726}, {\"Year\": 2010, \"Genre\": \"Developer Tools\", \"No_of_Apps\": 4, \"Users\": 230}, {\"Year\": 2010, \"Genre\": \"Education\", \"No_of_Apps\": 1030, \"Users\": 795532}, {\"Year\": 2010, \"Genre\": \"Entertainment\", \"No_of_Apps\": 736, \"Users\": 4081130}, {\"Year\": 2010, \"Genre\": \"Finance\", \"No_of_Apps\": 371, \"Users\": 23870046}, {\"Year\": 2010, \"Genre\": \"Food & Drink\", \"No_of_Apps\": 99, \"Users\": 2239993}, {\"Year\": 2010, \"Genre\": \"Games\", \"No_of_Apps\": 1334, \"Users\": 2023965}, {\"Year\": 2010, \"Genre\": \"Graphics & Design\", \"No_of_Apps\": 11, \"Users\": 13650}, {\"Year\": 2010, \"Genre\": \"Health & Fitness\", \"No_of_Apps\": 310, \"Users\": 2217767}, {\"Year\": 2010, \"Genre\": \"Lifestyle\", \"No_of_Apps\": 527, \"Users\": 2041205}, {\"Year\": 2010, \"Genre\": \"Magazines & Newspapers\", \"No_of_Apps\": 17, \"Users\": 13331}, {\"Year\": 2010, \"Genre\": \"Medical\", \"No_of_Apps\": 345, \"Users\": 458348}, {\"Year\": 2010, \"Genre\": \"Music\", \"No_of_Apps\": 750, \"Users\": 1476987}, {\"Year\": 2010, \"Genre\": \"Navigation\", \"No_of_Apps\": 375, \"Users\": 1436830}, {\"Year\": 2010, \"Genre\": \"News\", \"No_of_Apps\": 539, \"Users\": 2607371}, {\"Year\": 2010, \"Genre\": \"Photo & Video\", \"No_of_Apps\": 216, \"Users\": 22272113}, {\"Year\": 2010, \"Genre\": \"Productivity\", \"No_of_Apps\": 487, \"Users\": 1931806}, {\"Year\": 2010, \"Genre\": \"Reference\", \"No_of_Apps\": 505, \"Users\": 1369506}, {\"Year\": 2010, \"Genre\": \"Shopping\", \"No_of_Apps\": 89, \"Users\": 7087557}, {\"Year\": 2010, \"Genre\": \"Social Networking\", \"No_of_Apps\": 132, \"Users\": 5166546}, {\"Year\": 2010, \"Genre\": \"Sports\", \"No_of_Apps\": 354, \"Users\": 854080}, {\"Year\": 2010, \"Genre\": \"Travel\", \"No_of_Apps\": 862, \"Users\": 9219437}, {\"Year\": 2010, \"Genre\": \"Utilities\", \"No_of_Apps\": 879, \"Users\": 1425741}, {\"Year\": 2010, \"Genre\": \"Weather\", \"No_of_Apps\": 129, \"Users\": 269256}, {\"Year\": 2011, \"Genre\": \"Book\", \"No_of_Apps\": 382, \"Users\": 83237}, {\"Year\": 2011, \"Genre\": \"Business\", \"No_of_Apps\": 1221, \"Users\": 2893601}, {\"Year\": 2011, \"Genre\": \"Developer Tools\", \"No_of_Apps\": 63, \"Users\": 0}, {\"Year\": 2011, \"Genre\": \"Education\", \"No_of_Apps\": 2352, \"Users\": 2674491}, {\"Year\": 2011, \"Genre\": \"Entertainment\", \"No_of_Apps\": 1091, \"Users\": 3699590}, {\"Year\": 2011, \"Genre\": \"Finance\", \"No_of_Apps\": 893, \"Users\": 4401506}, {\"Year\": 2011, \"Genre\": \"Food & Drink\", \"No_of_Apps\": 176, \"Users\": 8378280}, {\"Year\": 2011, \"Genre\": \"Games\", \"No_of_Apps\": 2919, \"Users\": 9753242}, {\"Year\": 2011, \"Genre\": \"Graphics & Design\", \"No_of_Apps\": 81, \"Users\": 29960}, {\"Year\": 2011, \"Genre\": \"Health & Fitness\", \"No_of_Apps\": 487, \"Users\": 1149895}, {\"Year\": 2011, \"Genre\": \"Lifestyle\", \"No_of_Apps\": 1040, \"Users\": 7133006}, {\"Year\": 2011, \"Genre\": \"Magazines & Newspapers\", \"No_of_Apps\": 56, \"Users\": 11305}, {\"Year\": 2011, \"Genre\": \"Medical\", \"No_of_Apps\": 522, \"Users\": 883665}, {\"Year\": 2011, \"Genre\": \"Music\", \"No_of_Apps\": 1180, \"Users\": 20058582}, {\"Year\": 2011, \"Genre\": \"Navigation\", \"No_of_Apps\": 339, \"Users\": 212669}, {\"Year\": 2011, \"Genre\": \"News\", \"No_of_Apps\": 911, \"Users\": 915997}, {\"Year\": 2011, \"Genre\": \"Photo & Video\", \"No_of_Apps\": 598, \"Users\": 5215414}, {\"Year\": 2011, \"Genre\": \"Productivity\", \"No_of_Apps\": 907, \"Users\": 3819162}, {\"Year\": 2011, \"Genre\": \"Reference\", \"No_of_Apps\": 742, \"Users\": 604917}, {\"Year\": 2011, \"Genre\": \"Shopping\", \"No_of_Apps\": 176, \"Users\": 11623672}, {\"Year\": 2011, \"Genre\": \"Social Networking\", \"No_of_Apps\": 185, \"Users\": 333553}, {\"Year\": 2011, \"Genre\": \"Sports\", \"No_of_Apps\": 654, \"Users\": 1271042}, {\"Year\": 2011, \"Genre\": \"Travel\", \"No_of_Apps\": 763, \"Users\": 8112882}, {\"Year\": 2011, \"Genre\": \"Utilities\", \"No_of_Apps\": 1536, \"Users\": 6211067}, {\"Year\": 2011, \"Genre\": \"Weather\", \"No_of_Apps\": 203, \"Users\": 376418}, {\"Year\": 2012, \"Genre\": \"Book\", \"No_of_Apps\": 473, \"Users\": 184108}, {\"Year\": 2012, \"Genre\": \"Business\", \"No_of_Apps\": 2133, \"Users\": 2899803}, {\"Year\": 2012, \"Genre\": \"Developer Tools\", \"No_of_Apps\": 48, \"Users\": 976}, {\"Year\": 2012, \"Genre\": \"Education\", \"No_of_Apps\": 3705, \"Users\": 6479784}, {\"Year\": 2012, \"Genre\": \"Entertainment\", \"No_of_Apps\": 1487, \"Users\": 6211747}, {\"Year\": 2012, \"Genre\": \"Finance\", \"No_of_Apps\": 1417, \"Users\": 3293353}, {\"Year\": 2012, \"Genre\": \"Food & Drink\", \"No_of_Apps\": 376, \"Users\": 5592199}, {\"Year\": 2012, \"Genre\": \"Games\", \"No_of_Apps\": 4520, \"Users\": 11158396}, {\"Year\": 2012, \"Genre\": \"Graphics & Design\", \"No_of_Apps\": 73, \"Users\": 173733}, {\"Year\": 2012, \"Genre\": \"Health & Fitness\", \"No_of_Apps\": 753, \"Users\": 1834547}, {\"Year\": 2012, \"Genre\": \"Lifestyle\", \"No_of_Apps\": 1749, \"Users\": 2075682}, {\"Year\": 2012, \"Genre\": \"Magazines & Newspapers\", \"No_of_Apps\": 93, \"Users\": 14542}, {\"Year\": 2012, \"Genre\": \"Medical\", \"No_of_Apps\": 670, \"Users\": 605915}, {\"Year\": 2012, \"Genre\": \"Music\", \"No_of_Apps\": 1209, \"Users\": 2180536}, {\"Year\": 2012, \"Genre\": \"Navigation\", \"No_of_Apps\": 396, \"Users\": 4543575}, {\"Year\": 2012, \"Genre\": \"News\", \"No_of_Apps\": 1155, \"Users\": 996159}, {\"Year\": 2012, \"Genre\": \"Photo & Video\", \"No_of_Apps\": 841, \"Users\": 25718345}, {\"Year\": 2012, \"Genre\": \"Productivity\", \"No_of_Apps\": 1193, \"Users\": 7721149}, {\"Year\": 2012, \"Genre\": \"Reference\", \"No_of_Apps\": 880, \"Users\": 374286}, {\"Year\": 2012, \"Genre\": \"Shopping\", \"No_of_Apps\": 328, \"Users\": 9083543}, {\"Year\": 2012, \"Genre\": \"Social Networking\", \"No_of_Apps\": 258, \"Users\": 696225}, {\"Year\": 2012, \"Genre\": \"Sports\", \"No_of_Apps\": 926, \"Users\": 2305440}, {\"Year\": 2012, \"Genre\": \"Stickers\", \"No_of_Apps\": 1, \"Users\": 908}, {\"Year\": 2012, \"Genre\": \"Travel\", \"No_of_Apps\": 1022, \"Users\": 14213532}, {\"Year\": 2012, \"Genre\": \"Utilities\", \"No_of_Apps\": 1999, \"Users\": 5401365}, {\"Year\": 2012, \"Genre\": \"Weather\", \"No_of_Apps\": 240, \"Users\": 747584}, {\"Year\": 2013, \"Genre\": \"Book\", \"No_of_Apps\": 617, \"Users\": 212720}, {\"Year\": 2013, \"Genre\": \"Business\", \"No_of_Apps\": 3400, \"Users\": 2164739}, {\"Year\": 2013, \"Genre\": \"Developer Tools\", \"No_of_Apps\": 82, \"Users\": 1161}, {\"Year\": 2013, \"Genre\": \"Education\", \"No_of_Apps\": 5064, \"Users\": 1598027}, {\"Year\": 2013, \"Genre\": \"Entertainment\", \"No_of_Apps\": 1723, \"Users\": 2128825}, {\"Year\": 2013, \"Genre\": \"Finance\", \"No_of_Apps\": 1819, \"Users\": 4393899}, {\"Year\": 2013, \"Genre\": \"Food & Drink\", \"No_of_Apps\": 731, \"Users\": 14966911}, {\"Year\": 2013, \"Genre\": \"Games\", \"No_of_Apps\": 7263, \"Users\": 15860659}, {\"Year\": 2013, \"Genre\": \"Graphics & Design\", \"No_of_Apps\": 136, \"Users\": 141908}, {\"Year\": 2013, \"Genre\": \"Health & Fitness\", \"No_of_Apps\": 1222, \"Users\": 3694590}, {\"Year\": 2013, \"Genre\": \"Lifestyle\", \"No_of_Apps\": 2351, \"Users\": 2778644}, {\"Year\": 2013, \"Genre\": \"Magazines & Newspapers\", \"No_of_Apps\": 98, \"Users\": 5965}, {\"Year\": 2013, \"Genre\": \"Medical\", \"No_of_Apps\": 1110, \"Users\": 836028}, {\"Year\": 2013, \"Genre\": \"Music\", \"No_of_Apps\": 1672, \"Users\": 2989189}, {\"Year\": 2013, \"Genre\": \"Navigation\", \"No_of_Apps\": 533, \"Users\": 368504}, {\"Year\": 2013, \"Genre\": \"News\", \"No_of_Apps\": 1090, \"Users\": 1821137}, {\"Year\": 2013, \"Genre\": \"Photo & Video\", \"No_of_Apps\": 1318, \"Users\": 2942039}, {\"Year\": 2013, \"Genre\": \"Productivity\", \"No_of_Apps\": 1732, \"Users\": 1199963}, {\"Year\": 2013, \"Genre\": \"Reference\", \"No_of_Apps\": 952, \"Users\": 561796}, {\"Year\": 2013, \"Genre\": \"Shopping\", \"No_of_Apps\": 425, \"Users\": 2754476}, {\"Year\": 2013, \"Genre\": \"Social Networking\", \"No_of_Apps\": 406, \"Users\": 575555}, {\"Year\": 2013, \"Genre\": \"Sports\", \"No_of_Apps\": 1211, \"Users\": 1595085}, {\"Year\": 2013, \"Genre\": \"Travel\", \"No_of_Apps\": 1554, \"Users\": 2530140}, {\"Year\": 2013, \"Genre\": \"Utilities\", \"No_of_Apps\": 2683, \"Users\": 2282533}, {\"Year\": 2013, \"Genre\": \"Weather\", \"No_of_Apps\": 235, \"Users\": 1773927}, {\"Year\": 2014, \"Genre\": \"Book\", \"No_of_Apps\": 900, \"Users\": 150266}, {\"Year\": 2014, \"Genre\": \"Business\", \"No_of_Apps\": 4891, \"Users\": 871280}, {\"Year\": 2014, \"Genre\": \"Developer Tools\", \"No_of_Apps\": 86, \"Users\": 615655}, {\"Year\": 2014, \"Genre\": \"Education\", \"No_of_Apps\": 6445, \"Users\": 2059046}, {\"Year\": 2014, \"Genre\": \"Entertainment\", \"No_of_Apps\": 2697, \"Users\": 12869629}, {\"Year\": 2014, \"Genre\": \"Finance\", \"No_of_Apps\": 2378, \"Users\": 8337068}, {\"Year\": 2014, \"Genre\": \"Food & Drink\", \"No_of_Apps\": 1338, \"Users\": 3576544}, {\"Year\": 2014, \"Genre\": \"Games\", \"No_of_Apps\": 11415, \"Users\": 12701468}, {\"Year\": 2014, \"Genre\": \"Graphics & Design\", \"No_of_Apps\": 107, \"Users\": 580208}, {\"Year\": 2014, \"Genre\": \"Health & Fitness\", \"No_of_Apps\": 1825, \"Users\": 3699129}, {\"Year\": 2014, \"Genre\": \"Lifestyle\", \"No_of_Apps\": 3375, \"Users\": 6021046}, {\"Year\": 2014, \"Genre\": \"Magazines & Newspapers\", \"No_of_Apps\": 47, \"Users\": 205}, {\"Year\": 2014, \"Genre\": \"Medical\", \"No_of_Apps\": 1435, \"Users\": 630471}, {\"Year\": 2014, \"Genre\": \"Music\", \"No_of_Apps\": 1941, \"Users\": 2212213}, {\"Year\": 2014, \"Genre\": \"Navigation\", \"No_of_Apps\": 689, \"Users\": 159060}, {\"Year\": 2014, \"Genre\": \"News\", \"No_of_Apps\": 1295, \"Users\": 830892}, {\"Year\": 2014, \"Genre\": \"Photo & Video\", \"No_of_Apps\": 1750, \"Users\": 3550987}, {\"Year\": 2014, \"Genre\": \"Productivity\", \"No_of_Apps\": 2304, \"Users\": 6313422}, {\"Year\": 2014, \"Genre\": \"Reference\", \"No_of_Apps\": 1273, \"Users\": 499673}, {\"Year\": 2014, \"Genre\": \"Shopping\", \"No_of_Apps\": 709, \"Users\": 6609550}, {\"Year\": 2014, \"Genre\": \"Social Networking\", \"No_of_Apps\": 683, \"Users\": 3391918}, {\"Year\": 2014, \"Genre\": \"Sports\", \"No_of_Apps\": 1551, \"Users\": 575026}, {\"Year\": 2014, \"Genre\": \"Travel\", \"No_of_Apps\": 2031, \"Users\": 1261707}, {\"Year\": 2014, \"Genre\": \"Utilities\", \"No_of_Apps\": 3846, \"Users\": 3856907}, {\"Year\": 2014, \"Genre\": \"Weather\", \"No_of_Apps\": 310, \"Users\": 121061}, {\"Year\": 2015, \"Genre\": \"Book\", \"No_of_Apps\": 1238, \"Users\": 246002}, {\"Year\": 2015, \"Genre\": \"Business\", \"No_of_Apps\": 7077, \"Users\": 2569795}, {\"Year\": 2015, \"Genre\": \"Developer Tools\", \"No_of_Apps\": 102, \"Users\": 322}, {\"Year\": 2015, \"Genre\": \"Education\", \"No_of_Apps\": 8600, \"Users\": 5622220}, {\"Year\": 2015, \"Genre\": \"Entertainment\", \"No_of_Apps\": 3862, \"Users\": 4112205}, {\"Year\": 2015, \"Genre\": \"Finance\", \"No_of_Apps\": 2690, \"Users\": 2069881}, {\"Year\": 2015, \"Genre\": \"Food & Drink\", \"No_of_Apps\": 3119, \"Users\": 1528060}, {\"Year\": 2015, \"Genre\": \"Games\", \"No_of_Apps\": 16009, \"Users\": 11877853}, {\"Year\": 2015, \"Genre\": \"Graphics & Design\", \"No_of_Apps\": 134, \"Users\": 254603}, {\"Year\": 2015, \"Genre\": \"Health & Fitness\", \"No_of_Apps\": 3205, \"Users\": 2934755}, {\"Year\": 2015, \"Genre\": \"Lifestyle\", \"No_of_Apps\": 5158, \"Users\": 1849588}, {\"Year\": 2015, \"Genre\": \"Magazines & Newspapers\", \"No_of_Apps\": 118, \"Users\": 3943}, {\"Year\": 2015, \"Genre\": \"Medical\", \"No_of_Apps\": 1884, \"Users\": 465986}, {\"Year\": 2015, \"Genre\": \"Music\", \"No_of_Apps\": 2672, \"Users\": 1562563}, {\"Year\": 2015, \"Genre\": \"Navigation\", \"No_of_Apps\": 916, \"Users\": 104906}, {\"Year\": 2015, \"Genre\": \"News\", \"No_of_Apps\": 1522, \"Users\": 408116}, {\"Year\": 2015, \"Genre\": \"Photo & Video\", \"No_of_Apps\": 2624, \"Users\": 4293016}, {\"Year\": 2015, \"Genre\": \"Productivity\", \"No_of_Apps\": 3145, \"Users\": 1641666}, {\"Year\": 2015, \"Genre\": \"Reference\", \"No_of_Apps\": 1676, \"Users\": 348170}, {\"Year\": 2015, \"Genre\": \"Shopping\", \"No_of_Apps\": 1017, \"Users\": 3899940}, {\"Year\": 2015, \"Genre\": \"Social Networking\", \"No_of_Apps\": 1075, \"Users\": 2472334}, {\"Year\": 2015, \"Genre\": \"Sports\", \"No_of_Apps\": 2149, \"Users\": 429138}, {\"Year\": 2015, \"Genre\": \"Travel\", \"No_of_Apps\": 2840, \"Users\": 2870087}, {\"Year\": 2015, \"Genre\": \"Utilities\", \"No_of_Apps\": 5482, \"Users\": 2430472}, {\"Year\": 2015, \"Genre\": \"Weather\", \"No_of_Apps\": 347, \"Users\": 376323}, {\"Year\": 2016, \"Genre\": \"Book\", \"No_of_Apps\": 1569, \"Users\": 1754935}, {\"Year\": 2016, \"Genre\": \"Business\", \"No_of_Apps\": 9757, \"Users\": 3229814}, {\"Year\": 2016, \"Genre\": \"Developer Tools\", \"No_of_Apps\": 131, \"Users\": 1777}, {\"Year\": 2016, \"Genre\": \"Education\", \"No_of_Apps\": 11795, \"Users\": 1909983}, {\"Year\": 2016, \"Genre\": \"Entertainment\", \"No_of_Apps\": 6194, \"Users\": 1924026}, {\"Year\": 2016, \"Genre\": \"Finance\", \"No_of_Apps\": 3575, \"Users\": 4400660}, {\"Year\": 2016, \"Genre\": \"Food & Drink\", \"No_of_Apps\": 5384, \"Users\": 5101171}, {\"Year\": 2016, \"Genre\": \"Games\", \"No_of_Apps\": 26175, \"Users\": 23470491}, {\"Year\": 2016, \"Genre\": \"Graphics & Design\", \"No_of_Apps\": 258, \"Users\": 115714}, {\"Year\": 2016, \"Genre\": \"Health & Fitness\", \"No_of_Apps\": 4689, \"Users\": 1932268}, {\"Year\": 2016, \"Genre\": \"Lifestyle\", \"No_of_Apps\": 7809, \"Users\": 2662119}, {\"Year\": 2016, \"Genre\": \"Magazines & Newspapers\", \"No_of_Apps\": 218, \"Users\": 1526}, {\"Year\": 2016, \"Genre\": \"Medical\", \"No_of_Apps\": 2662, \"Users\": 411653}, {\"Year\": 2016, \"Genre\": \"Music\", \"No_of_Apps\": 3307, \"Users\": 1550787}, {\"Year\": 2016, \"Genre\": \"Navigation\", \"No_of_Apps\": 1313, \"Users\": 209138}, {\"Year\": 2016, \"Genre\": \"News\", \"No_of_Apps\": 1979, \"Users\": 3113404}, {\"Year\": 2016, \"Genre\": \"Photo & Video\", \"No_of_Apps\": 4325, \"Users\": 2786214}, {\"Year\": 2016, \"Genre\": \"Productivity\", \"No_of_Apps\": 4445, \"Users\": 1176434}, {\"Year\": 2016, \"Genre\": \"Reference\", \"No_of_Apps\": 2177, \"Users\": 651090}, {\"Year\": 2016, \"Genre\": \"Shopping\", \"No_of_Apps\": 2377, \"Users\": 5138146}, {\"Year\": 2016, \"Genre\": \"Social Networking\", \"No_of_Apps\": 1888, \"Users\": 2209311}, {\"Year\": 2016, \"Genre\": \"Sports\", \"No_of_Apps\": 2778, \"Users\": 975845}, {\"Year\": 2016, \"Genre\": \"Stickers\", \"No_of_Apps\": 2428, \"Users\": 20794}, {\"Year\": 2016, \"Genre\": \"Travel\", \"No_of_Apps\": 5185, \"Users\": 646201}, {\"Year\": 2016, \"Genre\": \"Utilities\", \"No_of_Apps\": 7578, \"Users\": 3849459}, {\"Year\": 2016, \"Genre\": \"Weather\", \"No_of_Apps\": 356, \"Users\": 201808}, {\"Year\": 2017, \"Genre\": \"Book\", \"No_of_Apps\": 1025, \"Users\": 194833}, {\"Year\": 2017, \"Genre\": \"Business\", \"No_of_Apps\": 12025, \"Users\": 2519091}, {\"Year\": 2017, \"Genre\": \"Developer Tools\", \"No_of_Apps\": 104, \"Users\": 2354}, {\"Year\": 2017, \"Genre\": \"Education\", \"No_of_Apps\": 12844, \"Users\": 1737509}, {\"Year\": 2017, \"Genre\": \"Entertainment\", \"No_of_Apps\": 5863, \"Users\": 3641646}, {\"Year\": 2017, \"Genre\": \"Finance\", \"No_of_Apps\": 4237, \"Users\": 3089953}, {\"Year\": 2017, \"Genre\": \"Food & Drink\", \"No_of_Apps\": 6966, \"Users\": 1035785}, {\"Year\": 2017, \"Genre\": \"Games\", \"No_of_Apps\": 23815, \"Users\": 34577161}, {\"Year\": 2017, \"Genre\": \"Graphics & Design\", \"No_of_Apps\": 174, \"Users\": 349822}, {\"Year\": 2017, \"Genre\": \"Health & Fitness\", \"No_of_Apps\": 5607, \"Users\": 1871387}, {\"Year\": 2017, \"Genre\": \"Lifestyle\", \"No_of_Apps\": 8589, \"Users\": 1933196}, {\"Year\": 2017, \"Genre\": \"Magazines & Newspapers\", \"No_of_Apps\": 153, \"Users\": 3799}, {\"Year\": 2017, \"Genre\": \"Medical\", \"No_of_Apps\": 2848, \"Users\": 270835}, {\"Year\": 2017, \"Genre\": \"Music\", \"No_of_Apps\": 3252, \"Users\": 322174}, {\"Year\": 2017, \"Genre\": \"Navigation\", \"No_of_Apps\": 1371, \"Users\": 168738}, {\"Year\": 2017, \"Genre\": \"News\", \"No_of_Apps\": 1959, \"Users\": 338860}, {\"Year\": 2017, \"Genre\": \"Photo & Video\", \"No_of_Apps\": 3411, \"Users\": 3667205}, {\"Year\": 2017, \"Genre\": \"Productivity\", \"No_of_Apps\": 5544, \"Users\": 1861663}, {\"Year\": 2017, \"Genre\": \"Reference\", \"No_of_Apps\": 1907, \"Users\": 218409}, {\"Year\": 2017, \"Genre\": \"Shopping\", \"No_of_Apps\": 2924, \"Users\": 5236151}, {\"Year\": 2017, \"Genre\": \"Social Networking\", \"No_of_Apps\": 2381, \"Users\": 1147299}, {\"Year\": 2017, \"Genre\": \"Sports\", \"No_of_Apps\": 3142, \"Users\": 276856}, {\"Year\": 2017, \"Genre\": \"Stickers\", \"No_of_Apps\": 2810, \"Users\": 16211}, {\"Year\": 2017, \"Genre\": \"Travel\", \"No_of_Apps\": 4063, \"Users\": 4387168}, {\"Year\": 2017, \"Genre\": \"Utilities\", \"No_of_Apps\": 8990, \"Users\": 3073090}, {\"Year\": 2017, \"Genre\": \"Weather\", \"No_of_Apps\": 352, \"Users\": 449526}, {\"Year\": 2018, \"Genre\": \"Book\", \"No_of_Apps\": 1010, \"Users\": 416801}, {\"Year\": 2018, \"Genre\": \"Business\", \"No_of_Apps\": 16106, \"Users\": 688212}, {\"Year\": 2018, \"Genre\": \"Developer Tools\", \"No_of_Apps\": 144, \"Users\": 17611}, {\"Year\": 2018, \"Genre\": \"Education\", \"No_of_Apps\": 13171, \"Users\": 1579747}, {\"Year\": 2018, \"Genre\": \"Entertainment\", \"No_of_Apps\": 5829, \"Users\": 2854039}, {\"Year\": 2018, \"Genre\": \"Finance\", \"No_of_Apps\": 5311, \"Users\": 1681831}, {\"Year\": 2018, \"Genre\": \"Food & Drink\", \"No_of_Apps\": 7126, \"Users\": 1290402}, {\"Year\": 2018, \"Genre\": \"Games\", \"No_of_Apps\": 19621, \"Users\": 51088732}, {\"Year\": 2018, \"Genre\": \"Graphics & Design\", \"No_of_Apps\": 158, \"Users\": 96403}, {\"Year\": 2018, \"Genre\": \"Health & Fitness\", \"No_of_Apps\": 6668, \"Users\": 1598222}, {\"Year\": 2018, \"Genre\": \"Lifestyle\", \"No_of_Apps\": 9770, \"Users\": 1454652}, {\"Year\": 2018, \"Genre\": \"Magazines & Newspapers\", \"No_of_Apps\": 127, \"Users\": 4143}, {\"Year\": 2018, \"Genre\": \"Medical\", \"No_of_Apps\": 3293, \"Users\": 314580}, {\"Year\": 2018, \"Genre\": \"Music\", \"No_of_Apps\": 2783, \"Users\": 687097}, {\"Year\": 2018, \"Genre\": \"Navigation\", \"No_of_Apps\": 1362, \"Users\": 156513}, {\"Year\": 2018, \"Genre\": \"News\", \"No_of_Apps\": 1953, \"Users\": 169098}, {\"Year\": 2018, \"Genre\": \"Photo & Video\", \"No_of_Apps\": 2663, \"Users\": 2559876}, {\"Year\": 2018, \"Genre\": \"Productivity\", \"No_of_Apps\": 6890, \"Users\": 2364084}, {\"Year\": 2018, \"Genre\": \"Reference\", \"No_of_Apps\": 1943, \"Users\": 792323}, {\"Year\": 2018, \"Genre\": \"Shopping\", \"No_of_Apps\": 3799, \"Users\": 2310557}, {\"Year\": 2018, \"Genre\": \"Social Networking\", \"No_of_Apps\": 2791, \"Users\": 1148988}, {\"Year\": 2018, \"Genre\": \"Sports\", \"No_of_Apps\": 3447, \"Users\": 1036771}, {\"Year\": 2018, \"Genre\": \"Stickers\", \"No_of_Apps\": 2629, \"Users\": 7935}, {\"Year\": 2018, \"Genre\": \"Travel\", \"No_of_Apps\": 4883, \"Users\": 787223}, {\"Year\": 2018, \"Genre\": \"Utilities\", \"No_of_Apps\": 11278, \"Users\": 1720005}, {\"Year\": 2018, \"Genre\": \"Weather\", \"No_of_Apps\": 304, \"Users\": 336423}, {\"Year\": 2019, \"Genre\": \"Book\", \"No_of_Apps\": 1025, \"Users\": 128886}, {\"Year\": 2019, \"Genre\": \"Business\", \"No_of_Apps\": 22125, \"Users\": 2711935}, {\"Year\": 2019, \"Genre\": \"Developer Tools\", \"No_of_Apps\": 185, \"Users\": 3355}, {\"Year\": 2019, \"Genre\": \"Education\", \"No_of_Apps\": 16244, \"Users\": 1044475}, {\"Year\": 2019, \"Genre\": \"Entertainment\", \"No_of_Apps\": 6918, \"Users\": 2141172}, {\"Year\": 2019, \"Genre\": \"Finance\", \"No_of_Apps\": 6226, \"Users\": 10628926}, {\"Year\": 2019, \"Genre\": \"Food & Drink\", \"No_of_Apps\": 7424, \"Users\": 791750}, {\"Year\": 2019, \"Genre\": \"Games\", \"No_of_Apps\": 20897, \"Users\": 44600805}, {\"Year\": 2019, \"Genre\": \"Graphics & Design\", \"No_of_Apps\": 148, \"Users\": 170207}, {\"Year\": 2019, \"Genre\": \"Health & Fitness\", \"No_of_Apps\": 8780, \"Users\": 2350369}, {\"Year\": 2019, \"Genre\": \"Lifestyle\", \"No_of_Apps\": 12603, \"Users\": 2742861}, {\"Year\": 2019, \"Genre\": \"Magazines & Newspapers\", \"No_of_Apps\": 126, \"Users\": 653}, {\"Year\": 2019, \"Genre\": \"Medical\", \"No_of_Apps\": 3887, \"Users\": 256710}, {\"Year\": 2019, \"Genre\": \"Music\", \"No_of_Apps\": 3370, \"Users\": 15626682}, {\"Year\": 2019, \"Genre\": \"Navigation\", \"No_of_Apps\": 1671, \"Users\": 80647}, {\"Year\": 2019, \"Genre\": \"News\", \"No_of_Apps\": 2432, \"Users\": 421265}, {\"Year\": 2019, \"Genre\": \"Photo & Video\", \"No_of_Apps\": 2635, \"Users\": 1407722}, {\"Year\": 2019, \"Genre\": \"Productivity\", \"No_of_Apps\": 9264, \"Users\": 1520952}, {\"Year\": 2019, \"Genre\": \"Reference\", \"No_of_Apps\": 2227, \"Users\": 7609113}, {\"Year\": 2019, \"Genre\": \"Shopping\", \"No_of_Apps\": 6113, \"Users\": 1050224}, {\"Year\": 2019, \"Genre\": \"Social Networking\", \"No_of_Apps\": 3778, \"Users\": 3000198}, {\"Year\": 2019, \"Genre\": \"Sports\", \"No_of_Apps\": 4262, \"Users\": 753213}, {\"Year\": 2019, \"Genre\": \"Stickers\", \"No_of_Apps\": 2151, \"Users\": 8624}, {\"Year\": 2019, \"Genre\": \"Travel\", \"No_of_Apps\": 6527, \"Users\": 2452407}, {\"Year\": 2019, \"Genre\": \"Utilities\", \"No_of_Apps\": 14457, \"Users\": 2312482}, {\"Year\": 2019, \"Genre\": \"Weather\", \"No_of_Apps\": 323, \"Users\": 1029080}, {\"Year\": 2020, \"Genre\": \"Book\", \"No_of_Apps\": 1394, \"Users\": 145603}, {\"Year\": 2020, \"Genre\": \"Business\", \"No_of_Apps\": 25833, \"Users\": 431036}, {\"Year\": 2020, \"Genre\": \"Developer Tools\", \"No_of_Apps\": 465, \"Users\": 11527}, {\"Year\": 2020, \"Genre\": \"Education\", \"No_of_Apps\": 19686, \"Users\": 488580}, {\"Year\": 2020, \"Genre\": \"Entertainment\", \"No_of_Apps\": 8367, \"Users\": 1357196}, {\"Year\": 2020, \"Genre\": \"Finance\", \"No_of_Apps\": 7899, \"Users\": 689955}, {\"Year\": 2020, \"Genre\": \"Food & Drink\", \"No_of_Apps\": 17944, \"Users\": 307199}, {\"Year\": 2020, \"Genre\": \"Games\", \"No_of_Apps\": 30433, \"Users\": 31382595}, {\"Year\": 2020, \"Genre\": \"Graphics & Design\", \"No_of_Apps\": 741, \"Users\": 371307}, {\"Year\": 2020, \"Genre\": \"Health & Fitness\", \"No_of_Apps\": 13952, \"Users\": 697936}, {\"Year\": 2020, \"Genre\": \"Lifestyle\", \"No_of_Apps\": 16768, \"Users\": 615503}, {\"Year\": 2020, \"Genre\": \"Magazines & Newspapers\", \"No_of_Apps\": 107, \"Users\": 1627}, {\"Year\": 2020, \"Genre\": \"Medical\", \"No_of_Apps\": 5084, \"Users\": 184293}, {\"Year\": 2020, \"Genre\": \"Music\", \"No_of_Apps\": 4084, \"Users\": 443162}, {\"Year\": 2020, \"Genre\": \"Navigation\", \"No_of_Apps\": 1873, \"Users\": 18925}, {\"Year\": 2020, \"Genre\": \"News\", \"No_of_Apps\": 3038, \"Users\": 77482}, {\"Year\": 2020, \"Genre\": \"Photo & Video\", \"No_of_Apps\": 3054, \"Users\": 759453}, {\"Year\": 2020, \"Genre\": \"Productivity\", \"No_of_Apps\": 12064, \"Users\": 804364}, {\"Year\": 2020, \"Genre\": \"Reference\", \"No_of_Apps\": 2219, \"Users\": 201455}, {\"Year\": 2020, \"Genre\": \"Shopping\", \"No_of_Apps\": 14709, \"Users\": 304420}, {\"Year\": 2020, \"Genre\": \"Social Networking\", \"No_of_Apps\": 5644, \"Users\": 1262616}, {\"Year\": 2020, \"Genre\": \"Sports\", \"No_of_Apps\": 5450, \"Users\": 93568}, {\"Year\": 2020, \"Genre\": \"Stickers\", \"No_of_Apps\": 1623, \"Users\": 10322}, {\"Year\": 2020, \"Genre\": \"Travel\", \"No_of_Apps\": 7042, \"Users\": 195416}, {\"Year\": 2020, \"Genre\": \"Utilities\", \"No_of_Apps\": 17863, \"Users\": 1172388}, {\"Year\": 2020, \"Genre\": \"Weather\", \"No_of_Apps\": 401, \"Users\": 49280}, {\"Year\": 2021, \"Genre\": \"Book\", \"No_of_Apps\": 1426, \"Users\": 34772}, {\"Year\": 2021, \"Genre\": \"Business\", \"No_of_Apps\": 22952, \"Users\": 51419}, {\"Year\": 2021, \"Genre\": \"Developer Tools\", \"No_of_Apps\": 537, \"Users\": 894}, {\"Year\": 2021, \"Genre\": \"Education\", \"No_of_Apps\": 17596, \"Users\": 129716}, {\"Year\": 2021, \"Genre\": \"Entertainment\", \"No_of_Apps\": 8035, \"Users\": 314085}, {\"Year\": 2021, \"Genre\": \"Finance\", \"No_of_Apps\": 7990, \"Users\": 156897}, {\"Year\": 2021, \"Genre\": \"Food & Drink\", \"No_of_Apps\": 22406, \"Users\": 329386}, {\"Year\": 2021, \"Genre\": \"Games\", \"No_of_Apps\": 28498, \"Users\": 7964091}, {\"Year\": 2021, \"Genre\": \"Graphics & Design\", \"No_of_Apps\": 758, \"Users\": 23450}, {\"Year\": 2021, \"Genre\": \"Health & Fitness\", \"No_of_Apps\": 13078, \"Users\": 120147}, {\"Year\": 2021, \"Genre\": \"Lifestyle\", \"No_of_Apps\": 14606, \"Users\": 123839}, {\"Year\": 2021, \"Genre\": \"Magazines & Newspapers\", \"No_of_Apps\": 135, \"Users\": 153}, {\"Year\": 2021, \"Genre\": \"Medical\", \"No_of_Apps\": 4070, \"Users\": 11066}, {\"Year\": 2021, \"Genre\": \"Music\", \"No_of_Apps\": 3323, \"Users\": 31089}, {\"Year\": 2021, \"Genre\": \"Navigation\", \"No_of_Apps\": 1682, \"Users\": 8016}, {\"Year\": 2021, \"Genre\": \"News\", \"No_of_Apps\": 2394, \"Users\": 16636}, {\"Year\": 2021, \"Genre\": \"Photo & Video\", \"No_of_Apps\": 2412, \"Users\": 324765}, {\"Year\": 2021, \"Genre\": \"Productivity\", \"No_of_Apps\": 11259, \"Users\": 90539}, {\"Year\": 2021, \"Genre\": \"Reference\", \"No_of_Apps\": 1832, \"Users\": 38328}, {\"Year\": 2021, \"Genre\": \"Shopping\", \"No_of_Apps\": 16819, \"Users\": 90215}, {\"Year\": 2021, \"Genre\": \"Social Networking\", \"No_of_Apps\": 6169, \"Users\": 163377}, {\"Year\": 2021, \"Genre\": \"Sports\", \"No_of_Apps\": 5394, \"Users\": 30910}, {\"Year\": 2021, \"Genre\": \"Stickers\", \"No_of_Apps\": 765, \"Users\": 941}, {\"Year\": 2021, \"Genre\": \"Travel\", \"No_of_Apps\": 6754, \"Users\": 22799}, {\"Year\": 2021, \"Genre\": \"Utilities\", \"No_of_Apps\": 16997, \"Users\": 264391}, {\"Year\": 2021, \"Genre\": \"Weather\", \"No_of_Apps\": 313, \"Users\": 2489}]}}, {\"mode\": \"vega-lite\"});\n",
       "</script>"
      ],
      "text/plain": [
       "alt.Chart(...)"
      ]
     },
     "execution_count": 43,
     "metadata": {},
     "output_type": "execute_result"
    }
   ],
   "source": [
    "fig = px.line(user_by_yr, x='Year', y='Users', markers=True) #color='country'\n",
    "fig.update_layout(title='Users Over the Years',width = 728,height = 370, title_x=0.5)\n",
    "fig.show()\n",
    "select_year = alt.selection_single(name='Select Year', fields=['Year'], init={'Year': 2008},\n",
    "                                  bind=alt.binding_range(min=2008, max=2021, step=1))\n",
    "    \n",
    "\n",
    "alt.Chart(all_yr_gn_df).mark_point(filled=True).encode(\n",
    "    alt.X('No_of_Apps'),\n",
    "    alt.Y('Genre'),\n",
    "    alt.Size('No_of_Apps'),\n",
    "    alt.Color('Genre'),\n",
    "    alt.OpacityValue(0.7),\n",
    "    tooltip = [alt.Tooltip('Users:Q'),\n",
    "               alt.Tooltip('No_of_Apps:Q'),\n",
    "               alt.Tooltip('Genre:N'),\n",
    "               alt.Tooltip('Released:Q')]\n",
    ").properties(width = 500, \n",
    "             height = 470, \n",
    "             title = \"App Releases (Yearly)\").add_selection(select_year).transform_filter(select_year)"
   ]
  },
  {
   "cell_type": "markdown",
   "metadata": {
    "id": "6oiwBU7950GX"
   },
   "source": [
    "By looking at plots\n",
    "\n",
    "> 2009 to 2012 there is steady growth in users and dropped heavily in 2013.\n",
    "\n",
    "> Publishing Apps are increasing significantly from 2008-2020 across all catagories.\n",
    "\n",
    "> Social Networking started with 2 apps in 2008 each year this genre is growing fast enough and by the end of 2021 it published 6 thousand apps.\n",
    "\n",
    "> Food & Drink with 7 apps has 2.4 million users in 2008. By the years passing no of apps are increasing with significant rate nut the users aren't. Where as in Health & Fitness apps have huge growth over the years in users as well as apps, it started with 1.4 million users by the end of 2019 2.5 million users were added.\n",
    "\n",
    "> In the year 2020 and 2021 there has been a massive drop in users across all the catagories it is possible it might be the effect of COVID-19.\n",
    "\n",
    "> We can draw so many insghts from this graph."
   ]
  },
  {
   "cell_type": "markdown",
   "metadata": {
    "id": "gqxpovJSRUly"
   },
   "source": [
    "### Q5.How many apps will work on various IOS versions? "
   ]
  },
  {
   "cell_type": "code",
   "execution_count": 44,
   "metadata": {
    "executionInfo": {
     "elapsed": 7203,
     "status": "ok",
     "timestamp": 1662575255068,
     "user": {
      "displayName": "Pratul Chandra",
      "userId": "06160049637809107783"
     },
     "user_tz": -330
    },
    "id": "PSdvo-k19zSj"
   },
   "outputs": [],
   "source": [
    "!pip install openpyxl --quiet"
   ]
  },
  {
   "cell_type": "code",
   "execution_count": 45,
   "metadata": {
    "executionInfo": {
     "elapsed": 36,
     "status": "ok",
     "timestamp": 1662575255069,
     "user": {
      "displayName": "Pratul Chandra",
      "userId": "06160049637809107783"
     },
     "user_tz": -330
    },
    "id": "q7EkeaMm9zQq"
   },
   "outputs": [],
   "source": [
    "excel_filename= './iphone_list.xlsx'\n",
    "excel_df= pd.read_excel('iphone_list.xlsx')\n",
    "excel_df.to_csv('iphone_models_list.csv',index=None)\n",
    "#excel_filename= './iphone_models_list.csv'\n",
    "#excel_df= pd.read_csv('iphone_models_list.csv')\n",
    "#jovian.commit(files=['iphone_models_list.csv'])"
   ]
  },
  {
   "cell_type": "code",
   "execution_count": 46,
   "metadata": {
    "executionInfo": {
     "elapsed": 27,
     "status": "ok",
     "timestamp": 1662575255704,
     "user": {
      "displayName": "Pratul Chandra",
      "userId": "06160049637809107783"
     },
     "user_tz": -330
    },
    "id": "zpDnDki59zOw"
   },
   "outputs": [],
   "source": [
    "working_apps= df.groupby([df['Primary_Genre'],\n",
    "                          df['Required_IOS_Version']])['App_Name'].count().reset_index().sort_values(by='App_Name',ascending=False)\n",
    "working_apps.columns= ['Genre','Required_IOS_Version','No_of_Apps']"
   ]
  },
  {
   "cell_type": "code",
   "execution_count": 47,
   "metadata": {
    "colab": {
     "base_uri": "https://localhost:8080/"
    },
    "executionInfo": {
     "elapsed": 28,
     "status": "ok",
     "timestamp": 1662575255706,
     "user": {
      "displayName": "Pratul Chandra",
      "userId": "06160049637809107783"
     },
     "user_tz": -330
    },
    "id": "RACUenmjASwP",
    "outputId": "eb2a6ab6-5be5-409f-9e76-4b0022245ed7"
   },
   "outputs": [
    {
     "data": {
      "text/plain": [
       "2486"
      ]
     },
     "execution_count": 47,
     "metadata": {},
     "output_type": "execute_result"
    }
   ],
   "source": [
    "len(working_apps.Required_IOS_Version)"
   ]
  },
  {
   "cell_type": "code",
   "execution_count": 48,
   "metadata": {
    "colab": {
     "base_uri": "https://localhost:8080/"
    },
    "executionInfo": {
     "elapsed": 26,
     "status": "ok",
     "timestamp": 1662575255707,
     "user": {
      "displayName": "Pratul Chandra",
      "userId": "06160049637809107783"
     },
     "user_tz": -330
    },
    "id": "wZ1x17QuAAct",
    "outputId": "af0f4def-fa0e-4bf4-94b5-2f3399cb5362"
   },
   "outputs": [
    {
     "name": "stdout",
     "output_type": "stream",
     "text": [
      "2486\n"
     ]
    }
   ],
   "source": [
    "Required_IOS_Version=[]\n",
    "for i in working_apps.Required_IOS_Version:\n",
    "  if len(i)>0:\n",
    "    i=i[:2]\n",
    "    Required_IOS_Version.append(i)\n",
    "print(len(Required_IOS_Version))\n",
    "\n",
    "working_apps.Required_IOS_Version = Required_IOS_Version\n",
    "working_apps.Required_IOS_Version = working_apps.Required_IOS_Version.astype(float)\n",
    "working_apps.Required_IOS_Version = working_apps.Required_IOS_Version.astype(int)\n",
    "working_apps= working_apps.groupby([working_apps['Genre'],\n",
    "                                    working_apps['Required_IOS_Version']])['No_of_Apps'].sum().reset_index()"
   ]
  },
  {
   "cell_type": "code",
   "execution_count": 49,
   "metadata": {
    "colab": {
     "base_uri": "https://localhost:8080/",
     "height": 0
    },
    "executionInfo": {
     "elapsed": 2370,
     "status": "ok",
     "timestamp": 1662575258053,
     "user": {
      "displayName": "Pratul Chandra",
      "userId": "06160049637809107783"
     },
     "user_tz": -330
    },
    "id": "Cdpy4PgT9zLG",
    "outputId": "7fddb615-6c93-4ffb-d6ea-3c36eb78e134"
   },
   "outputs": [
    {
     "data": {
      "text/html": [
       "<html>\n",
       "<head><meta charset=\"utf-8\" /></head>\n",
       "<body>\n",
       "    <div>            <script src=\"https://cdnjs.cloudflare.com/ajax/libs/mathjax/2.7.5/MathJax.js?config=TeX-AMS-MML_SVG\"></script><script type=\"text/javascript\">if (window.MathJax && window.MathJax.Hub && window.MathJax.Hub.Config) {window.MathJax.Hub.Config({SVG: {font: \"STIX-Web\"}});}</script>                <script type=\"text/javascript\">window.PlotlyConfig = {MathJaxConfig: 'local'};</script>\n",
       "        <script src=\"https://cdn.plot.ly/plotly-2.14.0.min.js\"></script>                <div id=\"280c6fce-1382-4a2e-9c44-fa1314a4e974\" class=\"plotly-graph-div\" style=\"height:300px; width:1000px;\"></div>            <script type=\"text/javascript\">                                    window.PLOTLYENV=window.PLOTLYENV || {};                                    if (document.getElementById(\"280c6fce-1382-4a2e-9c44-fa1314a4e974\")) {                    Plotly.newPlot(                        \"280c6fce-1382-4a2e-9c44-fa1314a4e974\",                        [{\"cells\":{\"align\":\"left\",\"fill\":{\"color\":\"blanchedalmond\"},\"values\":[[\"iPhone (1st gen)\\u00a0\",\"iPhone 3G\\u00a0\",\"iPhone 3GS\\u00a0\",\"iPhone 4\\u00a0(GSM)\\u00a0\",\"iPhone 4S\\u00a0\",\"iPhone 5\\u00a0\",\"iPhone 5C\\u00a0\",\"iPhone 5S\\u00a0\",\"iPhone 6\\u00a0\",\"iPhone 6 Plus\\u00a0\",\"iPhone 6S\\u00a0\",\"iPhone 6S Plus\\u00a0\",\"iPhone SE (1st gen)\\u00a0\",\"iPhone 7\\u00a0\",\"iPhone 7 Plus\\u00a0\",\"iPhone 8\\u00a0\",\"iPhone 8 Plus\\u00a0\",\"iPhone X\\u00a0\",\"iPhone XR\\u00a0\",\"iPhone XS\\u00a0\",\"iPhone XS Max\\u00a0\",\"iPhone 11\\u00a0\",\"iPhone 11 Pro\\u00a0\",\"iPhone 11 Pro Max\\u00a0\",\"iPhone SE (2nd gen)\\u00a0\",\"iPhone 12\\u00a0\",\"iPhone 12 mini\\u00a0\",\"iPhone 12 Pro\\u00a0\",\"iPhone 12 Pro Max\\u00a0\",\"iPhone 13\\u00a0\",\"iPhone 13 mini\\u00a0\",\"iPhone 13 Pro\\u00a0\",\"iPhone 13 Pro Max\\u00a0\",\"iPhone SE (3rd gen)\\u00a0\"],[\"iPhone OS 1\\u00a0to\\u00a03.1.3\\u00a0\",\"iPhone OS 2\\u00a0to\\u00a0iOS 4.2.1\\u00a0\",\"iPhone OS 3\\u00a0to\\u00a0iOS 6.1.6\\u00a0iOS 4\\u00a0to\\u00a06.1.6\\u00a0'\",\"iOS 4\\u00a0to\\u00a07.1.2\\u00a0\",\"iOS 5\\u00a0to\\u00a09.3.6\\u00a0\",\"iOS 6\\u00a0to\\u00a010.3.4\\u00a0\",\"iOS 7\\u00a0to\\u00a010.3.3\\u00a0\",\"iOS 7\\u00a0to\\u00a012.5.5\\u00a0\",\"iOS 8\\u00a0to12.5.5\\u00a0\",\"iOS 8\\u00a0to\\u00a012.5.5\\u00a0\",\"iOS 9.0.1 to\\u00a015.6.1\\u00a0\",\"iOS 9.0.1 to\\u00a015.6.1\\u00a0\",\"iOS 9.3 to\\u00a015.6.1\\u00a0\",\"iOS 10.0.1 to\\u00a015.6.1\\u00a0\",\"iOS 10.0.1 to\\u00a015.6.1\\u00a0\",\"iOS 11\\u00a0to\\u00a016.x\\u00a0(latest)\\u00a0\",\"iOS 11\\u00a0to\\u00a016.x\\u00a0(latest)\\u00a0\",\"iOS 11.0.1 to\\u00a016.x\\u00a0(latest)\\u00a0\",\"iOS 12\\u00a0to\\u00a016.x\\u00a0(latest)\\u00a0\",\"iOS 12\\u00a0to\\u00a016.x\\u00a0(latest)\\u00a0\",\"iOS 12\\u00a0to\\u00a016.x\\u00a0(latest)\\u00a0\",\"iOS 13\\u00a0to\\u00a016.x\\u00a0(latest)\\u00a0\",\"iOS 13\\u00a0to\\u00a016.x\\u00a0(latest)\\u00a0\",\"iOS 13\\u00a0to\\u00a016.x\\u00a0(latest)\\u00a0\",\"iOS 13.4 to\\u00a016.x\\u00a0(latest)\\u00a0\",\"iOS 14.1 to\\u00a016.x\\u00a0(latest)\\u00a0\",\"iOS 14.2 to\\u00a016.x\\u00a0(latest)\\u00a0\",\"iOS 14.1 to\\u00a016.x\\u00a0(latest)\\u00a0\",\"iOS 14.2 to\\u00a016.x\\u00a0(latest)\\u00a0\",\"iOS 15\\u00a0to\\u00a016.x\\u00a0(latest)\\u00a0\",\"iOS 15\\u00a0to\\u00a016.x\\u00a0(latest)\\u00a0\",\"iOS 15\\u00a0to\\u00a016.x\\u00a0(latest)\\u00a0\",\"iOS 15\\u00a0to\\u00a016.x\\u00a0(latest)\\u00a0\",\"iOS 15.4 to\\u00a016.x\\u00a0(latest)\\u00a0\"]]},\"header\":{\"align\":\"left\",\"fill\":{\"color\":\"mediumspringgreen\"},\"font\":{\"size\":10},\"values\":[\"Model\",\"Operating<br>System\"]},\"type\":\"table\"}],                        {\"template\":{\"data\":{\"histogram2dcontour\":[{\"type\":\"histogram2dcontour\",\"colorbar\":{\"outlinewidth\":0,\"ticks\":\"\"},\"colorscale\":[[0.0,\"#0d0887\"],[0.1111111111111111,\"#46039f\"],[0.2222222222222222,\"#7201a8\"],[0.3333333333333333,\"#9c179e\"],[0.4444444444444444,\"#bd3786\"],[0.5555555555555556,\"#d8576b\"],[0.6666666666666666,\"#ed7953\"],[0.7777777777777778,\"#fb9f3a\"],[0.8888888888888888,\"#fdca26\"],[1.0,\"#f0f921\"]]}],\"choropleth\":[{\"type\":\"choropleth\",\"colorbar\":{\"outlinewidth\":0,\"ticks\":\"\"}}],\"histogram2d\":[{\"type\":\"histogram2d\",\"colorbar\":{\"outlinewidth\":0,\"ticks\":\"\"},\"colorscale\":[[0.0,\"#0d0887\"],[0.1111111111111111,\"#46039f\"],[0.2222222222222222,\"#7201a8\"],[0.3333333333333333,\"#9c179e\"],[0.4444444444444444,\"#bd3786\"],[0.5555555555555556,\"#d8576b\"],[0.6666666666666666,\"#ed7953\"],[0.7777777777777778,\"#fb9f3a\"],[0.8888888888888888,\"#fdca26\"],[1.0,\"#f0f921\"]]}],\"heatmap\":[{\"type\":\"heatmap\",\"colorbar\":{\"outlinewidth\":0,\"ticks\":\"\"},\"colorscale\":[[0.0,\"#0d0887\"],[0.1111111111111111,\"#46039f\"],[0.2222222222222222,\"#7201a8\"],[0.3333333333333333,\"#9c179e\"],[0.4444444444444444,\"#bd3786\"],[0.5555555555555556,\"#d8576b\"],[0.6666666666666666,\"#ed7953\"],[0.7777777777777778,\"#fb9f3a\"],[0.8888888888888888,\"#fdca26\"],[1.0,\"#f0f921\"]]}],\"heatmapgl\":[{\"type\":\"heatmapgl\",\"colorbar\":{\"outlinewidth\":0,\"ticks\":\"\"},\"colorscale\":[[0.0,\"#0d0887\"],[0.1111111111111111,\"#46039f\"],[0.2222222222222222,\"#7201a8\"],[0.3333333333333333,\"#9c179e\"],[0.4444444444444444,\"#bd3786\"],[0.5555555555555556,\"#d8576b\"],[0.6666666666666666,\"#ed7953\"],[0.7777777777777778,\"#fb9f3a\"],[0.8888888888888888,\"#fdca26\"],[1.0,\"#f0f921\"]]}],\"contourcarpet\":[{\"type\":\"contourcarpet\",\"colorbar\":{\"outlinewidth\":0,\"ticks\":\"\"}}],\"contour\":[{\"type\":\"contour\",\"colorbar\":{\"outlinewidth\":0,\"ticks\":\"\"},\"colorscale\":[[0.0,\"#0d0887\"],[0.1111111111111111,\"#46039f\"],[0.2222222222222222,\"#7201a8\"],[0.3333333333333333,\"#9c179e\"],[0.4444444444444444,\"#bd3786\"],[0.5555555555555556,\"#d8576b\"],[0.6666666666666666,\"#ed7953\"],[0.7777777777777778,\"#fb9f3a\"],[0.8888888888888888,\"#fdca26\"],[1.0,\"#f0f921\"]]}],\"surface\":[{\"type\":\"surface\",\"colorbar\":{\"outlinewidth\":0,\"ticks\":\"\"},\"colorscale\":[[0.0,\"#0d0887\"],[0.1111111111111111,\"#46039f\"],[0.2222222222222222,\"#7201a8\"],[0.3333333333333333,\"#9c179e\"],[0.4444444444444444,\"#bd3786\"],[0.5555555555555556,\"#d8576b\"],[0.6666666666666666,\"#ed7953\"],[0.7777777777777778,\"#fb9f3a\"],[0.8888888888888888,\"#fdca26\"],[1.0,\"#f0f921\"]]}],\"mesh3d\":[{\"type\":\"mesh3d\",\"colorbar\":{\"outlinewidth\":0,\"ticks\":\"\"}}],\"scatter\":[{\"fillpattern\":{\"fillmode\":\"overlay\",\"size\":10,\"solidity\":0.2},\"type\":\"scatter\"}],\"parcoords\":[{\"type\":\"parcoords\",\"line\":{\"colorbar\":{\"outlinewidth\":0,\"ticks\":\"\"}}}],\"scatterpolargl\":[{\"type\":\"scatterpolargl\",\"marker\":{\"colorbar\":{\"outlinewidth\":0,\"ticks\":\"\"}}}],\"bar\":[{\"error_x\":{\"color\":\"#2a3f5f\"},\"error_y\":{\"color\":\"#2a3f5f\"},\"marker\":{\"line\":{\"color\":\"#E5ECF6\",\"width\":0.5},\"pattern\":{\"fillmode\":\"overlay\",\"size\":10,\"solidity\":0.2}},\"type\":\"bar\"}],\"scattergeo\":[{\"type\":\"scattergeo\",\"marker\":{\"colorbar\":{\"outlinewidth\":0,\"ticks\":\"\"}}}],\"scatterpolar\":[{\"type\":\"scatterpolar\",\"marker\":{\"colorbar\":{\"outlinewidth\":0,\"ticks\":\"\"}}}],\"histogram\":[{\"marker\":{\"pattern\":{\"fillmode\":\"overlay\",\"size\":10,\"solidity\":0.2}},\"type\":\"histogram\"}],\"scattergl\":[{\"type\":\"scattergl\",\"marker\":{\"colorbar\":{\"outlinewidth\":0,\"ticks\":\"\"}}}],\"scatter3d\":[{\"type\":\"scatter3d\",\"line\":{\"colorbar\":{\"outlinewidth\":0,\"ticks\":\"\"}},\"marker\":{\"colorbar\":{\"outlinewidth\":0,\"ticks\":\"\"}}}],\"scattermapbox\":[{\"type\":\"scattermapbox\",\"marker\":{\"colorbar\":{\"outlinewidth\":0,\"ticks\":\"\"}}}],\"scatterternary\":[{\"type\":\"scatterternary\",\"marker\":{\"colorbar\":{\"outlinewidth\":0,\"ticks\":\"\"}}}],\"scattercarpet\":[{\"type\":\"scattercarpet\",\"marker\":{\"colorbar\":{\"outlinewidth\":0,\"ticks\":\"\"}}}],\"carpet\":[{\"aaxis\":{\"endlinecolor\":\"#2a3f5f\",\"gridcolor\":\"white\",\"linecolor\":\"white\",\"minorgridcolor\":\"white\",\"startlinecolor\":\"#2a3f5f\"},\"baxis\":{\"endlinecolor\":\"#2a3f5f\",\"gridcolor\":\"white\",\"linecolor\":\"white\",\"minorgridcolor\":\"white\",\"startlinecolor\":\"#2a3f5f\"},\"type\":\"carpet\"}],\"table\":[{\"cells\":{\"fill\":{\"color\":\"#EBF0F8\"},\"line\":{\"color\":\"white\"}},\"header\":{\"fill\":{\"color\":\"#C8D4E3\"},\"line\":{\"color\":\"white\"}},\"type\":\"table\"}],\"barpolar\":[{\"marker\":{\"line\":{\"color\":\"#E5ECF6\",\"width\":0.5},\"pattern\":{\"fillmode\":\"overlay\",\"size\":10,\"solidity\":0.2}},\"type\":\"barpolar\"}],\"pie\":[{\"automargin\":true,\"type\":\"pie\"}]},\"layout\":{\"autotypenumbers\":\"strict\",\"colorway\":[\"#636efa\",\"#EF553B\",\"#00cc96\",\"#ab63fa\",\"#FFA15A\",\"#19d3f3\",\"#FF6692\",\"#B6E880\",\"#FF97FF\",\"#FECB52\"],\"font\":{\"color\":\"#2a3f5f\"},\"hovermode\":\"closest\",\"hoverlabel\":{\"align\":\"left\"},\"paper_bgcolor\":\"white\",\"plot_bgcolor\":\"#E5ECF6\",\"polar\":{\"bgcolor\":\"#E5ECF6\",\"angularaxis\":{\"gridcolor\":\"white\",\"linecolor\":\"white\",\"ticks\":\"\"},\"radialaxis\":{\"gridcolor\":\"white\",\"linecolor\":\"white\",\"ticks\":\"\"}},\"ternary\":{\"bgcolor\":\"#E5ECF6\",\"aaxis\":{\"gridcolor\":\"white\",\"linecolor\":\"white\",\"ticks\":\"\"},\"baxis\":{\"gridcolor\":\"white\",\"linecolor\":\"white\",\"ticks\":\"\"},\"caxis\":{\"gridcolor\":\"white\",\"linecolor\":\"white\",\"ticks\":\"\"}},\"coloraxis\":{\"colorbar\":{\"outlinewidth\":0,\"ticks\":\"\"}},\"colorscale\":{\"sequential\":[[0.0,\"#0d0887\"],[0.1111111111111111,\"#46039f\"],[0.2222222222222222,\"#7201a8\"],[0.3333333333333333,\"#9c179e\"],[0.4444444444444444,\"#bd3786\"],[0.5555555555555556,\"#d8576b\"],[0.6666666666666666,\"#ed7953\"],[0.7777777777777778,\"#fb9f3a\"],[0.8888888888888888,\"#fdca26\"],[1.0,\"#f0f921\"]],\"sequentialminus\":[[0.0,\"#0d0887\"],[0.1111111111111111,\"#46039f\"],[0.2222222222222222,\"#7201a8\"],[0.3333333333333333,\"#9c179e\"],[0.4444444444444444,\"#bd3786\"],[0.5555555555555556,\"#d8576b\"],[0.6666666666666666,\"#ed7953\"],[0.7777777777777778,\"#fb9f3a\"],[0.8888888888888888,\"#fdca26\"],[1.0,\"#f0f921\"]],\"diverging\":[[0,\"#8e0152\"],[0.1,\"#c51b7d\"],[0.2,\"#de77ae\"],[0.3,\"#f1b6da\"],[0.4,\"#fde0ef\"],[0.5,\"#f7f7f7\"],[0.6,\"#e6f5d0\"],[0.7,\"#b8e186\"],[0.8,\"#7fbc41\"],[0.9,\"#4d9221\"],[1,\"#276419\"]]},\"xaxis\":{\"gridcolor\":\"white\",\"linecolor\":\"white\",\"ticks\":\"\",\"title\":{\"standoff\":15},\"zerolinecolor\":\"white\",\"automargin\":true,\"zerolinewidth\":2},\"yaxis\":{\"gridcolor\":\"white\",\"linecolor\":\"white\",\"ticks\":\"\",\"title\":{\"standoff\":15},\"zerolinecolor\":\"white\",\"automargin\":true,\"zerolinewidth\":2},\"scene\":{\"xaxis\":{\"backgroundcolor\":\"#E5ECF6\",\"gridcolor\":\"white\",\"linecolor\":\"white\",\"showbackground\":true,\"ticks\":\"\",\"zerolinecolor\":\"white\",\"gridwidth\":2},\"yaxis\":{\"backgroundcolor\":\"#E5ECF6\",\"gridcolor\":\"white\",\"linecolor\":\"white\",\"showbackground\":true,\"ticks\":\"\",\"zerolinecolor\":\"white\",\"gridwidth\":2},\"zaxis\":{\"backgroundcolor\":\"#E5ECF6\",\"gridcolor\":\"white\",\"linecolor\":\"white\",\"showbackground\":true,\"ticks\":\"\",\"zerolinecolor\":\"white\",\"gridwidth\":2}},\"shapedefaults\":{\"line\":{\"color\":\"#2a3f5f\"}},\"annotationdefaults\":{\"arrowcolor\":\"#2a3f5f\",\"arrowhead\":0,\"arrowwidth\":1},\"geo\":{\"bgcolor\":\"white\",\"landcolor\":\"#E5ECF6\",\"subunitcolor\":\"white\",\"showland\":true,\"showlakes\":true,\"lakecolor\":\"white\"},\"title\":{\"x\":0.05},\"mapbox\":{\"style\":\"light\"}}},\"title\":{\"text\":\"Verify Iphone Models Here: \",\"x\":0.45},\"width\":1000,\"height\":300},                        {\"responsive\": true}                    ).then(function(){\n",
       "                            \n",
       "var gd = document.getElementById('280c6fce-1382-4a2e-9c44-fa1314a4e974');\n",
       "var x = new MutationObserver(function (mutations, observer) {{\n",
       "        var display = window.getComputedStyle(gd).display;\n",
       "        if (!display || display === 'none') {{\n",
       "            console.log([gd, 'removed!']);\n",
       "            Plotly.purge(gd);\n",
       "            observer.disconnect();\n",
       "        }}\n",
       "}});\n",
       "\n",
       "// Listen for the removal of the full notebook cells\n",
       "var notebookContainer = gd.closest('#notebook-container');\n",
       "if (notebookContainer) {{\n",
       "    x.observe(notebookContainer, {childList: true});\n",
       "}}\n",
       "\n",
       "// Listen for the clearing of the current output cell\n",
       "var outputEl = gd.closest('.output');\n",
       "if (outputEl) {{\n",
       "    x.observe(outputEl, {childList: true});\n",
       "}}\n",
       "\n",
       "                        })                };                            </script>        </div>\n",
       "</body>\n",
       "</html>"
      ]
     },
     "metadata": {},
     "output_type": "display_data"
    },
    {
     "data": {
      "text/html": [
       "<html>\n",
       "<head><meta charset=\"utf-8\" /></head>\n",
       "<body>\n",
       "    <div>            <script src=\"https://cdnjs.cloudflare.com/ajax/libs/mathjax/2.7.5/MathJax.js?config=TeX-AMS-MML_SVG\"></script><script type=\"text/javascript\">if (window.MathJax && window.MathJax.Hub && window.MathJax.Hub.Config) {window.MathJax.Hub.Config({SVG: {font: \"STIX-Web\"}});}</script>                <script type=\"text/javascript\">window.PlotlyConfig = {MathJaxConfig: 'local'};</script>\n",
       "        <script src=\"https://cdn.plot.ly/plotly-2.14.0.min.js\"></script>                <div id=\"1dba1609-3158-45c2-bf6d-c5da48b8b887\" class=\"plotly-graph-div\" style=\"height:525px; width:1000px;\"></div>            <script type=\"text/javascript\">                                    window.PLOTLYENV=window.PLOTLYENV || {};                                    if (document.getElementById(\"1dba1609-3158-45c2-bf6d-c5da48b8b887\")) {                    Plotly.newPlot(                        \"1dba1609-3158-45c2-bf6d-c5da48b8b887\",                        [{\"hovertemplate\":\"Genre=%{x}<br>Required_IOS_Version=2<br>No_of_Apps=%{y}<extra></extra>\",\"ids\":[6],\"legendgroup\":\"Book\",\"marker\":{\"color\":\"#636efa\",\"symbol\":\"circle\"},\"mode\":\"markers\",\"name\":\"Book\",\"orientation\":\"v\",\"showlegend\":true,\"x\":[\"Book\"],\"xaxis\":\"x\",\"y\":[6],\"yaxis\":\"y\",\"type\":\"scatter\"},{\"hovertemplate\":\"Genre=%{x}<br>Required_IOS_Version=2<br>No_of_Apps=%{y}<extra></extra>\",\"ids\":[5],\"legendgroup\":\"Education\",\"marker\":{\"color\":\"#EF553B\",\"symbol\":\"circle\"},\"mode\":\"markers\",\"name\":\"Education\",\"orientation\":\"v\",\"showlegend\":true,\"x\":[\"Education\"],\"xaxis\":\"x\",\"y\":[5],\"yaxis\":\"y\",\"type\":\"scatter\"},{\"hovertemplate\":\"Genre=%{x}<br>Required_IOS_Version=2<br>No_of_Apps=%{y}<extra></extra>\",\"ids\":[1],\"legendgroup\":\"Social Networking\",\"marker\":{\"color\":\"#00cc96\",\"symbol\":\"circle\"},\"mode\":\"markers\",\"name\":\"Social Networking\",\"orientation\":\"v\",\"showlegend\":true,\"x\":[\"Social Networking\"],\"xaxis\":\"x\",\"y\":[1],\"yaxis\":\"y\",\"type\":\"scatter\"},{\"hovertemplate\":\"Genre=%{x}<br>Required_IOS_Version=2<br>No_of_Apps=%{y}<extra></extra>\",\"ids\":[1],\"legendgroup\":\"Productivity\",\"marker\":{\"color\":\"#ab63fa\",\"symbol\":\"circle\"},\"mode\":\"markers\",\"name\":\"Productivity\",\"orientation\":\"v\",\"showlegend\":true,\"x\":[\"Productivity\"],\"xaxis\":\"x\",\"y\":[1],\"yaxis\":\"y\",\"type\":\"scatter\"},{\"hovertemplate\":\"Genre=%{x}<br>Required_IOS_Version=2<br>No_of_Apps=%{y}<extra></extra>\",\"ids\":[1],\"legendgroup\":\"Photo & Video\",\"marker\":{\"color\":\"#FFA15A\",\"symbol\":\"circle\"},\"mode\":\"markers\",\"name\":\"Photo & Video\",\"orientation\":\"v\",\"showlegend\":true,\"x\":[\"Photo & Video\"],\"xaxis\":\"x\",\"y\":[1],\"yaxis\":\"y\",\"type\":\"scatter\"},{\"hovertemplate\":\"Genre=%{x}<br>Required_IOS_Version=2<br>No_of_Apps=%{y}<extra></extra>\",\"ids\":[1],\"legendgroup\":\"Sports\",\"marker\":{\"color\":\"#19d3f3\",\"symbol\":\"circle\"},\"mode\":\"markers\",\"name\":\"Sports\",\"orientation\":\"v\",\"showlegend\":true,\"x\":[\"Sports\"],\"xaxis\":\"x\",\"y\":[1],\"yaxis\":\"y\",\"type\":\"scatter\"},{\"hovertemplate\":\"Genre=%{x}<br>Required_IOS_Version=2<br>No_of_Apps=%{y}<extra></extra>\",\"ids\":[30],\"legendgroup\":\"Entertainment\",\"marker\":{\"color\":\"#FF6692\",\"symbol\":\"circle\"},\"mode\":\"markers\",\"name\":\"Entertainment\",\"orientation\":\"v\",\"showlegend\":true,\"x\":[\"Entertainment\"],\"xaxis\":\"x\",\"y\":[30],\"yaxis\":\"y\",\"type\":\"scatter\"},{\"hovertemplate\":\"Genre=%{x}<br>Required_IOS_Version=2<br>No_of_Apps=%{y}<extra></extra>\",\"ids\":[3],\"legendgroup\":\"Travel\",\"marker\":{\"color\":\"#B6E880\",\"symbol\":\"circle\"},\"mode\":\"markers\",\"name\":\"Travel\",\"orientation\":\"v\",\"showlegend\":true,\"x\":[\"Travel\"],\"xaxis\":\"x\",\"y\":[3],\"yaxis\":\"y\",\"type\":\"scatter\"},{\"hovertemplate\":\"Genre=%{x}<br>Required_IOS_Version=2<br>No_of_Apps=%{y}<extra></extra>\",\"ids\":[1],\"legendgroup\":\"Reference\",\"marker\":{\"color\":\"#FF97FF\",\"symbol\":\"circle\"},\"mode\":\"markers\",\"name\":\"Reference\",\"orientation\":\"v\",\"showlegend\":true,\"x\":[\"Reference\"],\"xaxis\":\"x\",\"y\":[1],\"yaxis\":\"y\",\"type\":\"scatter\"},{\"hovertemplate\":\"Genre=%{x}<br>Required_IOS_Version=2<br>No_of_Apps=%{y}<extra></extra>\",\"ids\":[1],\"legendgroup\":\"Business\",\"marker\":{\"color\":\"#FECB52\",\"symbol\":\"circle\"},\"mode\":\"markers\",\"name\":\"Business\",\"orientation\":\"v\",\"showlegend\":true,\"x\":[\"Business\"],\"xaxis\":\"x\",\"y\":[1],\"yaxis\":\"y\",\"type\":\"scatter\"},{\"hovertemplate\":\"Genre=%{x}<br>Required_IOS_Version=2<br>No_of_Apps=%{y}<extra></extra>\",\"ids\":[2],\"legendgroup\":\"Music\",\"marker\":{\"color\":\"#636efa\",\"symbol\":\"circle\"},\"mode\":\"markers\",\"name\":\"Music\",\"orientation\":\"v\",\"showlegend\":true,\"x\":[\"Music\"],\"xaxis\":\"x\",\"y\":[2],\"yaxis\":\"y\",\"type\":\"scatter\"},{\"hovertemplate\":\"Genre=%{x}<br>Required_IOS_Version=2<br>No_of_Apps=%{y}<extra></extra>\",\"ids\":[2],\"legendgroup\":\"Navigation\",\"marker\":{\"color\":\"#EF553B\",\"symbol\":\"circle\"},\"mode\":\"markers\",\"name\":\"Navigation\",\"orientation\":\"v\",\"showlegend\":true,\"x\":[\"Navigation\"],\"xaxis\":\"x\",\"y\":[2],\"yaxis\":\"y\",\"type\":\"scatter\"},{\"hovertemplate\":\"Genre=%{x}<br>Required_IOS_Version=2<br>No_of_Apps=%{y}<extra></extra>\",\"ids\":[13],\"legendgroup\":\"Utilities\",\"marker\":{\"color\":\"#00cc96\",\"symbol\":\"circle\"},\"mode\":\"markers\",\"name\":\"Utilities\",\"orientation\":\"v\",\"showlegend\":true,\"x\":[\"Utilities\"],\"xaxis\":\"x\",\"y\":[13],\"yaxis\":\"y\",\"type\":\"scatter\"},{\"hovertemplate\":\"Genre=%{x}<br>Required_IOS_Version=2<br>No_of_Apps=%{y}<extra></extra>\",\"ids\":[1],\"legendgroup\":\"Medical\",\"marker\":{\"color\":\"#ab63fa\",\"symbol\":\"circle\"},\"mode\":\"markers\",\"name\":\"Medical\",\"orientation\":\"v\",\"showlegend\":true,\"x\":[\"Medical\"],\"xaxis\":\"x\",\"y\":[1],\"yaxis\":\"y\",\"type\":\"scatter\"},{\"hovertemplate\":\"Genre=%{x}<br>Required_IOS_Version=2<br>No_of_Apps=%{y}<extra></extra>\",\"ids\":[58],\"legendgroup\":\"Games\",\"marker\":{\"color\":\"#FFA15A\",\"symbol\":\"circle\"},\"mode\":\"markers\",\"name\":\"Games\",\"orientation\":\"v\",\"showlegend\":true,\"x\":[\"Games\"],\"xaxis\":\"x\",\"y\":[58],\"yaxis\":\"y\",\"type\":\"scatter\"},{\"hovertemplate\":\"Genre=%{x}<br>Required_IOS_Version=2<br>No_of_Apps=%{y}<extra></extra>\",\"ids\":[2],\"legendgroup\":\"Finance\",\"marker\":{\"color\":\"#19d3f3\",\"symbol\":\"circle\"},\"mode\":\"markers\",\"name\":\"Finance\",\"orientation\":\"v\",\"showlegend\":true,\"x\":[\"Finance\"],\"xaxis\":\"x\",\"y\":[2],\"yaxis\":\"y\",\"type\":\"scatter\"},{\"hovertemplate\":\"Genre=%{x}<br>Required_IOS_Version=2<br>No_of_Apps=%{y}<extra></extra>\",\"ids\":[2],\"legendgroup\":\"Weather\",\"marker\":{\"color\":\"#FF6692\",\"symbol\":\"circle\"},\"mode\":\"markers\",\"name\":\"Weather\",\"orientation\":\"v\",\"showlegend\":true,\"x\":[\"Weather\"],\"xaxis\":\"x\",\"y\":[2],\"yaxis\":\"y\",\"type\":\"scatter\"},{\"hovertemplate\":\"Genre=%{x}<br>Required_IOS_Version=2<br>No_of_Apps=%{y}<extra></extra>\",\"ids\":[4],\"legendgroup\":\"Lifestyle\",\"marker\":{\"color\":\"#B6E880\",\"symbol\":\"circle\"},\"mode\":\"markers\",\"name\":\"Lifestyle\",\"orientation\":\"v\",\"showlegend\":true,\"x\":[\"Lifestyle\"],\"xaxis\":\"x\",\"y\":[4],\"yaxis\":\"y\",\"type\":\"scatter\"}],                        {\"template\":{\"data\":{\"histogram2dcontour\":[{\"type\":\"histogram2dcontour\",\"colorbar\":{\"outlinewidth\":0,\"ticks\":\"\"},\"colorscale\":[[0.0,\"#0d0887\"],[0.1111111111111111,\"#46039f\"],[0.2222222222222222,\"#7201a8\"],[0.3333333333333333,\"#9c179e\"],[0.4444444444444444,\"#bd3786\"],[0.5555555555555556,\"#d8576b\"],[0.6666666666666666,\"#ed7953\"],[0.7777777777777778,\"#fb9f3a\"],[0.8888888888888888,\"#fdca26\"],[1.0,\"#f0f921\"]]}],\"choropleth\":[{\"type\":\"choropleth\",\"colorbar\":{\"outlinewidth\":0,\"ticks\":\"\"}}],\"histogram2d\":[{\"type\":\"histogram2d\",\"colorbar\":{\"outlinewidth\":0,\"ticks\":\"\"},\"colorscale\":[[0.0,\"#0d0887\"],[0.1111111111111111,\"#46039f\"],[0.2222222222222222,\"#7201a8\"],[0.3333333333333333,\"#9c179e\"],[0.4444444444444444,\"#bd3786\"],[0.5555555555555556,\"#d8576b\"],[0.6666666666666666,\"#ed7953\"],[0.7777777777777778,\"#fb9f3a\"],[0.8888888888888888,\"#fdca26\"],[1.0,\"#f0f921\"]]}],\"heatmap\":[{\"type\":\"heatmap\",\"colorbar\":{\"outlinewidth\":0,\"ticks\":\"\"},\"colorscale\":[[0.0,\"#0d0887\"],[0.1111111111111111,\"#46039f\"],[0.2222222222222222,\"#7201a8\"],[0.3333333333333333,\"#9c179e\"],[0.4444444444444444,\"#bd3786\"],[0.5555555555555556,\"#d8576b\"],[0.6666666666666666,\"#ed7953\"],[0.7777777777777778,\"#fb9f3a\"],[0.8888888888888888,\"#fdca26\"],[1.0,\"#f0f921\"]]}],\"heatmapgl\":[{\"type\":\"heatmapgl\",\"colorbar\":{\"outlinewidth\":0,\"ticks\":\"\"},\"colorscale\":[[0.0,\"#0d0887\"],[0.1111111111111111,\"#46039f\"],[0.2222222222222222,\"#7201a8\"],[0.3333333333333333,\"#9c179e\"],[0.4444444444444444,\"#bd3786\"],[0.5555555555555556,\"#d8576b\"],[0.6666666666666666,\"#ed7953\"],[0.7777777777777778,\"#fb9f3a\"],[0.8888888888888888,\"#fdca26\"],[1.0,\"#f0f921\"]]}],\"contourcarpet\":[{\"type\":\"contourcarpet\",\"colorbar\":{\"outlinewidth\":0,\"ticks\":\"\"}}],\"contour\":[{\"type\":\"contour\",\"colorbar\":{\"outlinewidth\":0,\"ticks\":\"\"},\"colorscale\":[[0.0,\"#0d0887\"],[0.1111111111111111,\"#46039f\"],[0.2222222222222222,\"#7201a8\"],[0.3333333333333333,\"#9c179e\"],[0.4444444444444444,\"#bd3786\"],[0.5555555555555556,\"#d8576b\"],[0.6666666666666666,\"#ed7953\"],[0.7777777777777778,\"#fb9f3a\"],[0.8888888888888888,\"#fdca26\"],[1.0,\"#f0f921\"]]}],\"surface\":[{\"type\":\"surface\",\"colorbar\":{\"outlinewidth\":0,\"ticks\":\"\"},\"colorscale\":[[0.0,\"#0d0887\"],[0.1111111111111111,\"#46039f\"],[0.2222222222222222,\"#7201a8\"],[0.3333333333333333,\"#9c179e\"],[0.4444444444444444,\"#bd3786\"],[0.5555555555555556,\"#d8576b\"],[0.6666666666666666,\"#ed7953\"],[0.7777777777777778,\"#fb9f3a\"],[0.8888888888888888,\"#fdca26\"],[1.0,\"#f0f921\"]]}],\"mesh3d\":[{\"type\":\"mesh3d\",\"colorbar\":{\"outlinewidth\":0,\"ticks\":\"\"}}],\"scatter\":[{\"fillpattern\":{\"fillmode\":\"overlay\",\"size\":10,\"solidity\":0.2},\"type\":\"scatter\"}],\"parcoords\":[{\"type\":\"parcoords\",\"line\":{\"colorbar\":{\"outlinewidth\":0,\"ticks\":\"\"}}}],\"scatterpolargl\":[{\"type\":\"scatterpolargl\",\"marker\":{\"colorbar\":{\"outlinewidth\":0,\"ticks\":\"\"}}}],\"bar\":[{\"error_x\":{\"color\":\"#2a3f5f\"},\"error_y\":{\"color\":\"#2a3f5f\"},\"marker\":{\"line\":{\"color\":\"#E5ECF6\",\"width\":0.5},\"pattern\":{\"fillmode\":\"overlay\",\"size\":10,\"solidity\":0.2}},\"type\":\"bar\"}],\"scattergeo\":[{\"type\":\"scattergeo\",\"marker\":{\"colorbar\":{\"outlinewidth\":0,\"ticks\":\"\"}}}],\"scatterpolar\":[{\"type\":\"scatterpolar\",\"marker\":{\"colorbar\":{\"outlinewidth\":0,\"ticks\":\"\"}}}],\"histogram\":[{\"marker\":{\"pattern\":{\"fillmode\":\"overlay\",\"size\":10,\"solidity\":0.2}},\"type\":\"histogram\"}],\"scattergl\":[{\"type\":\"scattergl\",\"marker\":{\"colorbar\":{\"outlinewidth\":0,\"ticks\":\"\"}}}],\"scatter3d\":[{\"type\":\"scatter3d\",\"line\":{\"colorbar\":{\"outlinewidth\":0,\"ticks\":\"\"}},\"marker\":{\"colorbar\":{\"outlinewidth\":0,\"ticks\":\"\"}}}],\"scattermapbox\":[{\"type\":\"scattermapbox\",\"marker\":{\"colorbar\":{\"outlinewidth\":0,\"ticks\":\"\"}}}],\"scatterternary\":[{\"type\":\"scatterternary\",\"marker\":{\"colorbar\":{\"outlinewidth\":0,\"ticks\":\"\"}}}],\"scattercarpet\":[{\"type\":\"scattercarpet\",\"marker\":{\"colorbar\":{\"outlinewidth\":0,\"ticks\":\"\"}}}],\"carpet\":[{\"aaxis\":{\"endlinecolor\":\"#2a3f5f\",\"gridcolor\":\"white\",\"linecolor\":\"white\",\"minorgridcolor\":\"white\",\"startlinecolor\":\"#2a3f5f\"},\"baxis\":{\"endlinecolor\":\"#2a3f5f\",\"gridcolor\":\"white\",\"linecolor\":\"white\",\"minorgridcolor\":\"white\",\"startlinecolor\":\"#2a3f5f\"},\"type\":\"carpet\"}],\"table\":[{\"cells\":{\"fill\":{\"color\":\"#EBF0F8\"},\"line\":{\"color\":\"white\"}},\"header\":{\"fill\":{\"color\":\"#C8D4E3\"},\"line\":{\"color\":\"white\"}},\"type\":\"table\"}],\"barpolar\":[{\"marker\":{\"line\":{\"color\":\"#E5ECF6\",\"width\":0.5},\"pattern\":{\"fillmode\":\"overlay\",\"size\":10,\"solidity\":0.2}},\"type\":\"barpolar\"}],\"pie\":[{\"automargin\":true,\"type\":\"pie\"}]},\"layout\":{\"autotypenumbers\":\"strict\",\"colorway\":[\"#636efa\",\"#EF553B\",\"#00cc96\",\"#ab63fa\",\"#FFA15A\",\"#19d3f3\",\"#FF6692\",\"#B6E880\",\"#FF97FF\",\"#FECB52\"],\"font\":{\"color\":\"#2a3f5f\"},\"hovermode\":\"closest\",\"hoverlabel\":{\"align\":\"left\"},\"paper_bgcolor\":\"white\",\"plot_bgcolor\":\"#E5ECF6\",\"polar\":{\"bgcolor\":\"#E5ECF6\",\"angularaxis\":{\"gridcolor\":\"white\",\"linecolor\":\"white\",\"ticks\":\"\"},\"radialaxis\":{\"gridcolor\":\"white\",\"linecolor\":\"white\",\"ticks\":\"\"}},\"ternary\":{\"bgcolor\":\"#E5ECF6\",\"aaxis\":{\"gridcolor\":\"white\",\"linecolor\":\"white\",\"ticks\":\"\"},\"baxis\":{\"gridcolor\":\"white\",\"linecolor\":\"white\",\"ticks\":\"\"},\"caxis\":{\"gridcolor\":\"white\",\"linecolor\":\"white\",\"ticks\":\"\"}},\"coloraxis\":{\"colorbar\":{\"outlinewidth\":0,\"ticks\":\"\"}},\"colorscale\":{\"sequential\":[[0.0,\"#0d0887\"],[0.1111111111111111,\"#46039f\"],[0.2222222222222222,\"#7201a8\"],[0.3333333333333333,\"#9c179e\"],[0.4444444444444444,\"#bd3786\"],[0.5555555555555556,\"#d8576b\"],[0.6666666666666666,\"#ed7953\"],[0.7777777777777778,\"#fb9f3a\"],[0.8888888888888888,\"#fdca26\"],[1.0,\"#f0f921\"]],\"sequentialminus\":[[0.0,\"#0d0887\"],[0.1111111111111111,\"#46039f\"],[0.2222222222222222,\"#7201a8\"],[0.3333333333333333,\"#9c179e\"],[0.4444444444444444,\"#bd3786\"],[0.5555555555555556,\"#d8576b\"],[0.6666666666666666,\"#ed7953\"],[0.7777777777777778,\"#fb9f3a\"],[0.8888888888888888,\"#fdca26\"],[1.0,\"#f0f921\"]],\"diverging\":[[0,\"#8e0152\"],[0.1,\"#c51b7d\"],[0.2,\"#de77ae\"],[0.3,\"#f1b6da\"],[0.4,\"#fde0ef\"],[0.5,\"#f7f7f7\"],[0.6,\"#e6f5d0\"],[0.7,\"#b8e186\"],[0.8,\"#7fbc41\"],[0.9,\"#4d9221\"],[1,\"#276419\"]]},\"xaxis\":{\"gridcolor\":\"white\",\"linecolor\":\"white\",\"ticks\":\"\",\"title\":{\"standoff\":15},\"zerolinecolor\":\"white\",\"automargin\":true,\"zerolinewidth\":2},\"yaxis\":{\"gridcolor\":\"white\",\"linecolor\":\"white\",\"ticks\":\"\",\"title\":{\"standoff\":15},\"zerolinecolor\":\"white\",\"automargin\":true,\"zerolinewidth\":2},\"scene\":{\"xaxis\":{\"backgroundcolor\":\"#E5ECF6\",\"gridcolor\":\"white\",\"linecolor\":\"white\",\"showbackground\":true,\"ticks\":\"\",\"zerolinecolor\":\"white\",\"gridwidth\":2},\"yaxis\":{\"backgroundcolor\":\"#E5ECF6\",\"gridcolor\":\"white\",\"linecolor\":\"white\",\"showbackground\":true,\"ticks\":\"\",\"zerolinecolor\":\"white\",\"gridwidth\":2},\"zaxis\":{\"backgroundcolor\":\"#E5ECF6\",\"gridcolor\":\"white\",\"linecolor\":\"white\",\"showbackground\":true,\"ticks\":\"\",\"zerolinecolor\":\"white\",\"gridwidth\":2}},\"shapedefaults\":{\"line\":{\"color\":\"#2a3f5f\"}},\"annotationdefaults\":{\"arrowcolor\":\"#2a3f5f\",\"arrowhead\":0,\"arrowwidth\":1},\"geo\":{\"bgcolor\":\"white\",\"landcolor\":\"#E5ECF6\",\"subunitcolor\":\"white\",\"showland\":true,\"showlakes\":true,\"lakecolor\":\"white\"},\"title\":{\"x\":0.05},\"mapbox\":{\"style\":\"light\"}}},\"xaxis\":{\"anchor\":\"y\",\"domain\":[0.0,1.0],\"title\":{\"text\":\"Genre\"},\"categoryorder\":\"array\",\"categoryarray\":[\"Book\",\"Education\",\"Social Networking\",\"Productivity\",\"Photo & Video\",\"Sports\",\"Entertainment\",\"Travel\",\"Reference\",\"Business\",\"Music\",\"Navigation\",\"Utilities\",\"Medical\",\"Games\",\"Finance\",\"Weather\",\"Lifestyle\",\"Health & Fitness\",\"News\",\"Food & Drink\",\"Shopping\",\"Magazines & Newspapers\",\"Graphics & Design\",\"Developer Tools\",\"Stickers\"],\"tickangle\":45},\"yaxis\":{\"anchor\":\"x\",\"domain\":[0.0,1.0],\"title\":{\"text\":\"No_of_Apps\"},\"range\":[-1000,37000]},\"legend\":{\"title\":{\"text\":\"Genre\"},\"tracegroupgap\":0},\"title\":{\"text\":\"Number of apps that work on differnt IOS versions\",\"x\":0.45},\"updatemenus\":[{\"buttons\":[{\"args\":[null,{\"frame\":{\"duration\":500,\"redraw\":false},\"mode\":\"immediate\",\"fromcurrent\":true,\"transition\":{\"duration\":500,\"easing\":\"linear\"}}],\"label\":\"&#9654;\",\"method\":\"animate\"},{\"args\":[[null],{\"frame\":{\"duration\":0,\"redraw\":false},\"mode\":\"immediate\",\"fromcurrent\":true,\"transition\":{\"duration\":0,\"easing\":\"linear\"}}],\"label\":\"&#9724;\",\"method\":\"animate\"}],\"direction\":\"left\",\"pad\":{\"r\":10,\"t\":70},\"showactive\":false,\"type\":\"buttons\",\"x\":0.1,\"xanchor\":\"right\",\"y\":0,\"yanchor\":\"top\"}],\"sliders\":[{\"active\":0,\"currentvalue\":{\"prefix\":\"Required_IOS_Version=\"},\"len\":0.9,\"pad\":{\"r\":10,\"t\":150},\"steps\":[{\"args\":[[\"2\"],{\"frame\":{\"duration\":0,\"redraw\":false},\"mode\":\"immediate\",\"fromcurrent\":true,\"transition\":{\"duration\":0,\"easing\":\"linear\"}}],\"label\":\"2\",\"method\":\"animate\"},{\"args\":[[\"3\"],{\"frame\":{\"duration\":0,\"redraw\":false},\"mode\":\"immediate\",\"fromcurrent\":true,\"transition\":{\"duration\":0,\"easing\":\"linear\"}}],\"label\":\"3\",\"method\":\"animate\"},{\"args\":[[\"4\"],{\"frame\":{\"duration\":0,\"redraw\":false},\"mode\":\"immediate\",\"fromcurrent\":true,\"transition\":{\"duration\":0,\"easing\":\"linear\"}}],\"label\":\"4\",\"method\":\"animate\"},{\"args\":[[\"5\"],{\"frame\":{\"duration\":0,\"redraw\":false},\"mode\":\"immediate\",\"fromcurrent\":true,\"transition\":{\"duration\":0,\"easing\":\"linear\"}}],\"label\":\"5\",\"method\":\"animate\"},{\"args\":[[\"6\"],{\"frame\":{\"duration\":0,\"redraw\":false},\"mode\":\"immediate\",\"fromcurrent\":true,\"transition\":{\"duration\":0,\"easing\":\"linear\"}}],\"label\":\"6\",\"method\":\"animate\"},{\"args\":[[\"7\"],{\"frame\":{\"duration\":0,\"redraw\":false},\"mode\":\"immediate\",\"fromcurrent\":true,\"transition\":{\"duration\":0,\"easing\":\"linear\"}}],\"label\":\"7\",\"method\":\"animate\"},{\"args\":[[\"8\"],{\"frame\":{\"duration\":0,\"redraw\":false},\"mode\":\"immediate\",\"fromcurrent\":true,\"transition\":{\"duration\":0,\"easing\":\"linear\"}}],\"label\":\"8\",\"method\":\"animate\"},{\"args\":[[\"9\"],{\"frame\":{\"duration\":0,\"redraw\":false},\"mode\":\"immediate\",\"fromcurrent\":true,\"transition\":{\"duration\":0,\"easing\":\"linear\"}}],\"label\":\"9\",\"method\":\"animate\"},{\"args\":[[\"10\"],{\"frame\":{\"duration\":0,\"redraw\":false},\"mode\":\"immediate\",\"fromcurrent\":true,\"transition\":{\"duration\":0,\"easing\":\"linear\"}}],\"label\":\"10\",\"method\":\"animate\"},{\"args\":[[\"11\"],{\"frame\":{\"duration\":0,\"redraw\":false},\"mode\":\"immediate\",\"fromcurrent\":true,\"transition\":{\"duration\":0,\"easing\":\"linear\"}}],\"label\":\"11\",\"method\":\"animate\"},{\"args\":[[\"12\"],{\"frame\":{\"duration\":0,\"redraw\":false},\"mode\":\"immediate\",\"fromcurrent\":true,\"transition\":{\"duration\":0,\"easing\":\"linear\"}}],\"label\":\"12\",\"method\":\"animate\"},{\"args\":[[\"13\"],{\"frame\":{\"duration\":0,\"redraw\":false},\"mode\":\"immediate\",\"fromcurrent\":true,\"transition\":{\"duration\":0,\"easing\":\"linear\"}}],\"label\":\"13\",\"method\":\"animate\"},{\"args\":[[\"14\"],{\"frame\":{\"duration\":0,\"redraw\":false},\"mode\":\"immediate\",\"fromcurrent\":true,\"transition\":{\"duration\":0,\"easing\":\"linear\"}}],\"label\":\"14\",\"method\":\"animate\"},{\"args\":[[\"15\"],{\"frame\":{\"duration\":0,\"redraw\":false},\"mode\":\"immediate\",\"fromcurrent\":true,\"transition\":{\"duration\":0,\"easing\":\"linear\"}}],\"label\":\"15\",\"method\":\"animate\"}],\"x\":0.1,\"xanchor\":\"left\",\"y\":0,\"yanchor\":\"top\"}],\"margin\":{\"l\":20,\"r\":20,\"t\":60,\"b\":200},\"width\":1000},                        {\"responsive\": true}                    ).then(function(){\n",
       "                            Plotly.addFrames('1dba1609-3158-45c2-bf6d-c5da48b8b887', [{\"data\":[{\"hovertemplate\":\"Genre=%{x}<br>Required_IOS_Version=2<br>No_of_Apps=%{y}<extra></extra>\",\"ids\":[6],\"legendgroup\":\"Book\",\"marker\":{\"color\":\"#636efa\",\"symbol\":\"circle\"},\"mode\":\"markers\",\"name\":\"Book\",\"orientation\":\"v\",\"showlegend\":true,\"x\":[\"Book\"],\"xaxis\":\"x\",\"y\":[6],\"yaxis\":\"y\",\"type\":\"scatter\"},{\"hovertemplate\":\"Genre=%{x}<br>Required_IOS_Version=2<br>No_of_Apps=%{y}<extra></extra>\",\"ids\":[5],\"legendgroup\":\"Education\",\"marker\":{\"color\":\"#EF553B\",\"symbol\":\"circle\"},\"mode\":\"markers\",\"name\":\"Education\",\"orientation\":\"v\",\"showlegend\":true,\"x\":[\"Education\"],\"xaxis\":\"x\",\"y\":[5],\"yaxis\":\"y\",\"type\":\"scatter\"},{\"hovertemplate\":\"Genre=%{x}<br>Required_IOS_Version=2<br>No_of_Apps=%{y}<extra></extra>\",\"ids\":[1],\"legendgroup\":\"Social Networking\",\"marker\":{\"color\":\"#00cc96\",\"symbol\":\"circle\"},\"mode\":\"markers\",\"name\":\"Social Networking\",\"orientation\":\"v\",\"showlegend\":true,\"x\":[\"Social Networking\"],\"xaxis\":\"x\",\"y\":[1],\"yaxis\":\"y\",\"type\":\"scatter\"},{\"hovertemplate\":\"Genre=%{x}<br>Required_IOS_Version=2<br>No_of_Apps=%{y}<extra></extra>\",\"ids\":[1],\"legendgroup\":\"Productivity\",\"marker\":{\"color\":\"#ab63fa\",\"symbol\":\"circle\"},\"mode\":\"markers\",\"name\":\"Productivity\",\"orientation\":\"v\",\"showlegend\":true,\"x\":[\"Productivity\"],\"xaxis\":\"x\",\"y\":[1],\"yaxis\":\"y\",\"type\":\"scatter\"},{\"hovertemplate\":\"Genre=%{x}<br>Required_IOS_Version=2<br>No_of_Apps=%{y}<extra></extra>\",\"ids\":[1],\"legendgroup\":\"Photo & Video\",\"marker\":{\"color\":\"#FFA15A\",\"symbol\":\"circle\"},\"mode\":\"markers\",\"name\":\"Photo & Video\",\"orientation\":\"v\",\"showlegend\":true,\"x\":[\"Photo & Video\"],\"xaxis\":\"x\",\"y\":[1],\"yaxis\":\"y\",\"type\":\"scatter\"},{\"hovertemplate\":\"Genre=%{x}<br>Required_IOS_Version=2<br>No_of_Apps=%{y}<extra></extra>\",\"ids\":[1],\"legendgroup\":\"Sports\",\"marker\":{\"color\":\"#19d3f3\",\"symbol\":\"circle\"},\"mode\":\"markers\",\"name\":\"Sports\",\"orientation\":\"v\",\"showlegend\":true,\"x\":[\"Sports\"],\"xaxis\":\"x\",\"y\":[1],\"yaxis\":\"y\",\"type\":\"scatter\"},{\"hovertemplate\":\"Genre=%{x}<br>Required_IOS_Version=2<br>No_of_Apps=%{y}<extra></extra>\",\"ids\":[30],\"legendgroup\":\"Entertainment\",\"marker\":{\"color\":\"#FF6692\",\"symbol\":\"circle\"},\"mode\":\"markers\",\"name\":\"Entertainment\",\"orientation\":\"v\",\"showlegend\":true,\"x\":[\"Entertainment\"],\"xaxis\":\"x\",\"y\":[30],\"yaxis\":\"y\",\"type\":\"scatter\"},{\"hovertemplate\":\"Genre=%{x}<br>Required_IOS_Version=2<br>No_of_Apps=%{y}<extra></extra>\",\"ids\":[3],\"legendgroup\":\"Travel\",\"marker\":{\"color\":\"#B6E880\",\"symbol\":\"circle\"},\"mode\":\"markers\",\"name\":\"Travel\",\"orientation\":\"v\",\"showlegend\":true,\"x\":[\"Travel\"],\"xaxis\":\"x\",\"y\":[3],\"yaxis\":\"y\",\"type\":\"scatter\"},{\"hovertemplate\":\"Genre=%{x}<br>Required_IOS_Version=2<br>No_of_Apps=%{y}<extra></extra>\",\"ids\":[1],\"legendgroup\":\"Reference\",\"marker\":{\"color\":\"#FF97FF\",\"symbol\":\"circle\"},\"mode\":\"markers\",\"name\":\"Reference\",\"orientation\":\"v\",\"showlegend\":true,\"x\":[\"Reference\"],\"xaxis\":\"x\",\"y\":[1],\"yaxis\":\"y\",\"type\":\"scatter\"},{\"hovertemplate\":\"Genre=%{x}<br>Required_IOS_Version=2<br>No_of_Apps=%{y}<extra></extra>\",\"ids\":[1],\"legendgroup\":\"Business\",\"marker\":{\"color\":\"#FECB52\",\"symbol\":\"circle\"},\"mode\":\"markers\",\"name\":\"Business\",\"orientation\":\"v\",\"showlegend\":true,\"x\":[\"Business\"],\"xaxis\":\"x\",\"y\":[1],\"yaxis\":\"y\",\"type\":\"scatter\"},{\"hovertemplate\":\"Genre=%{x}<br>Required_IOS_Version=2<br>No_of_Apps=%{y}<extra></extra>\",\"ids\":[2],\"legendgroup\":\"Music\",\"marker\":{\"color\":\"#636efa\",\"symbol\":\"circle\"},\"mode\":\"markers\",\"name\":\"Music\",\"orientation\":\"v\",\"showlegend\":true,\"x\":[\"Music\"],\"xaxis\":\"x\",\"y\":[2],\"yaxis\":\"y\",\"type\":\"scatter\"},{\"hovertemplate\":\"Genre=%{x}<br>Required_IOS_Version=2<br>No_of_Apps=%{y}<extra></extra>\",\"ids\":[2],\"legendgroup\":\"Navigation\",\"marker\":{\"color\":\"#EF553B\",\"symbol\":\"circle\"},\"mode\":\"markers\",\"name\":\"Navigation\",\"orientation\":\"v\",\"showlegend\":true,\"x\":[\"Navigation\"],\"xaxis\":\"x\",\"y\":[2],\"yaxis\":\"y\",\"type\":\"scatter\"},{\"hovertemplate\":\"Genre=%{x}<br>Required_IOS_Version=2<br>No_of_Apps=%{y}<extra></extra>\",\"ids\":[13],\"legendgroup\":\"Utilities\",\"marker\":{\"color\":\"#00cc96\",\"symbol\":\"circle\"},\"mode\":\"markers\",\"name\":\"Utilities\",\"orientation\":\"v\",\"showlegend\":true,\"x\":[\"Utilities\"],\"xaxis\":\"x\",\"y\":[13],\"yaxis\":\"y\",\"type\":\"scatter\"},{\"hovertemplate\":\"Genre=%{x}<br>Required_IOS_Version=2<br>No_of_Apps=%{y}<extra></extra>\",\"ids\":[1],\"legendgroup\":\"Medical\",\"marker\":{\"color\":\"#ab63fa\",\"symbol\":\"circle\"},\"mode\":\"markers\",\"name\":\"Medical\",\"orientation\":\"v\",\"showlegend\":true,\"x\":[\"Medical\"],\"xaxis\":\"x\",\"y\":[1],\"yaxis\":\"y\",\"type\":\"scatter\"},{\"hovertemplate\":\"Genre=%{x}<br>Required_IOS_Version=2<br>No_of_Apps=%{y}<extra></extra>\",\"ids\":[58],\"legendgroup\":\"Games\",\"marker\":{\"color\":\"#FFA15A\",\"symbol\":\"circle\"},\"mode\":\"markers\",\"name\":\"Games\",\"orientation\":\"v\",\"showlegend\":true,\"x\":[\"Games\"],\"xaxis\":\"x\",\"y\":[58],\"yaxis\":\"y\",\"type\":\"scatter\"},{\"hovertemplate\":\"Genre=%{x}<br>Required_IOS_Version=2<br>No_of_Apps=%{y}<extra></extra>\",\"ids\":[2],\"legendgroup\":\"Finance\",\"marker\":{\"color\":\"#19d3f3\",\"symbol\":\"circle\"},\"mode\":\"markers\",\"name\":\"Finance\",\"orientation\":\"v\",\"showlegend\":true,\"x\":[\"Finance\"],\"xaxis\":\"x\",\"y\":[2],\"yaxis\":\"y\",\"type\":\"scatter\"},{\"hovertemplate\":\"Genre=%{x}<br>Required_IOS_Version=2<br>No_of_Apps=%{y}<extra></extra>\",\"ids\":[2],\"legendgroup\":\"Weather\",\"marker\":{\"color\":\"#FF6692\",\"symbol\":\"circle\"},\"mode\":\"markers\",\"name\":\"Weather\",\"orientation\":\"v\",\"showlegend\":true,\"x\":[\"Weather\"],\"xaxis\":\"x\",\"y\":[2],\"yaxis\":\"y\",\"type\":\"scatter\"},{\"hovertemplate\":\"Genre=%{x}<br>Required_IOS_Version=2<br>No_of_Apps=%{y}<extra></extra>\",\"ids\":[4],\"legendgroup\":\"Lifestyle\",\"marker\":{\"color\":\"#B6E880\",\"symbol\":\"circle\"},\"mode\":\"markers\",\"name\":\"Lifestyle\",\"orientation\":\"v\",\"showlegend\":true,\"x\":[\"Lifestyle\"],\"xaxis\":\"x\",\"y\":[4],\"yaxis\":\"y\",\"type\":\"scatter\"}],\"name\":\"2\"},{\"data\":[{\"hovertemplate\":\"Genre=%{x}<br>Required_IOS_Version=3<br>No_of_Apps=%{y}<extra></extra>\",\"ids\":[43],\"legendgroup\":\"Book\",\"marker\":{\"color\":\"#636efa\",\"symbol\":\"circle\"},\"mode\":\"markers\",\"name\":\"Book\",\"orientation\":\"v\",\"showlegend\":true,\"x\":[\"Book\"],\"xaxis\":\"x\",\"y\":[43],\"yaxis\":\"y\",\"type\":\"scatter\"},{\"hovertemplate\":\"Genre=%{x}<br>Required_IOS_Version=3<br>No_of_Apps=%{y}<extra></extra>\",\"ids\":[141],\"legendgroup\":\"Education\",\"marker\":{\"color\":\"#EF553B\",\"symbol\":\"circle\"},\"mode\":\"markers\",\"name\":\"Education\",\"orientation\":\"v\",\"showlegend\":true,\"x\":[\"Education\"],\"xaxis\":\"x\",\"y\":[141],\"yaxis\":\"y\",\"type\":\"scatter\"},{\"hovertemplate\":\"Genre=%{x}<br>Required_IOS_Version=3<br>No_of_Apps=%{y}<extra></extra>\",\"ids\":[11],\"legendgroup\":\"Social Networking\",\"marker\":{\"color\":\"#00cc96\",\"symbol\":\"circle\"},\"mode\":\"markers\",\"name\":\"Social Networking\",\"orientation\":\"v\",\"showlegend\":true,\"x\":[\"Social Networking\"],\"xaxis\":\"x\",\"y\":[11],\"yaxis\":\"y\",\"type\":\"scatter\"},{\"hovertemplate\":\"Genre=%{x}<br>Required_IOS_Version=3<br>No_of_Apps=%{y}<extra></extra>\",\"ids\":[29],\"legendgroup\":\"Productivity\",\"marker\":{\"color\":\"#ab63fa\",\"symbol\":\"circle\"},\"mode\":\"markers\",\"name\":\"Productivity\",\"orientation\":\"v\",\"showlegend\":true,\"x\":[\"Productivity\"],\"xaxis\":\"x\",\"y\":[29],\"yaxis\":\"y\",\"type\":\"scatter\"},{\"hovertemplate\":\"Genre=%{x}<br>Required_IOS_Version=3<br>No_of_Apps=%{y}<extra></extra>\",\"ids\":[20],\"legendgroup\":\"Photo & Video\",\"marker\":{\"color\":\"#FFA15A\",\"symbol\":\"circle\"},\"mode\":\"markers\",\"name\":\"Photo & Video\",\"orientation\":\"v\",\"showlegend\":true,\"x\":[\"Photo & Video\"],\"xaxis\":\"x\",\"y\":[20],\"yaxis\":\"y\",\"type\":\"scatter\"},{\"hovertemplate\":\"Genre=%{x}<br>Required_IOS_Version=3<br>No_of_Apps=%{y}<extra></extra>\",\"ids\":[15],\"legendgroup\":\"Sports\",\"marker\":{\"color\":\"#19d3f3\",\"symbol\":\"circle\"},\"mode\":\"markers\",\"name\":\"Sports\",\"orientation\":\"v\",\"showlegend\":true,\"x\":[\"Sports\"],\"xaxis\":\"x\",\"y\":[15],\"yaxis\":\"y\",\"type\":\"scatter\"},{\"hovertemplate\":\"Genre=%{x}<br>Required_IOS_Version=3<br>No_of_Apps=%{y}<extra></extra>\",\"ids\":[144],\"legendgroup\":\"Entertainment\",\"marker\":{\"color\":\"#FF6692\",\"symbol\":\"circle\"},\"mode\":\"markers\",\"name\":\"Entertainment\",\"orientation\":\"v\",\"showlegend\":true,\"x\":[\"Entertainment\"],\"xaxis\":\"x\",\"y\":[144],\"yaxis\":\"y\",\"type\":\"scatter\"},{\"hovertemplate\":\"Genre=%{x}<br>Required_IOS_Version=3<br>No_of_Apps=%{y}<extra></extra>\",\"ids\":[7],\"legendgroup\":\"Travel\",\"marker\":{\"color\":\"#B6E880\",\"symbol\":\"circle\"},\"mode\":\"markers\",\"name\":\"Travel\",\"orientation\":\"v\",\"showlegend\":true,\"x\":[\"Travel\"],\"xaxis\":\"x\",\"y\":[7],\"yaxis\":\"y\",\"type\":\"scatter\"},{\"hovertemplate\":\"Genre=%{x}<br>Required_IOS_Version=3<br>No_of_Apps=%{y}<extra></extra>\",\"ids\":[41],\"legendgroup\":\"Reference\",\"marker\":{\"color\":\"#FF97FF\",\"symbol\":\"circle\"},\"mode\":\"markers\",\"name\":\"Reference\",\"orientation\":\"v\",\"showlegend\":true,\"x\":[\"Reference\"],\"xaxis\":\"x\",\"y\":[41],\"yaxis\":\"y\",\"type\":\"scatter\"},{\"hovertemplate\":\"Genre=%{x}<br>Required_IOS_Version=3<br>No_of_Apps=%{y}<extra></extra>\",\"ids\":[16],\"legendgroup\":\"Business\",\"marker\":{\"color\":\"#FECB52\",\"symbol\":\"circle\"},\"mode\":\"markers\",\"name\":\"Business\",\"orientation\":\"v\",\"showlegend\":true,\"x\":[\"Business\"],\"xaxis\":\"x\",\"y\":[16],\"yaxis\":\"y\",\"type\":\"scatter\"},{\"hovertemplate\":\"Genre=%{x}<br>Required_IOS_Version=3<br>No_of_Apps=%{y}<extra></extra>\",\"ids\":[64],\"legendgroup\":\"Music\",\"marker\":{\"color\":\"#636efa\",\"symbol\":\"circle\"},\"mode\":\"markers\",\"name\":\"Music\",\"orientation\":\"v\",\"showlegend\":true,\"x\":[\"Music\"],\"xaxis\":\"x\",\"y\":[64],\"yaxis\":\"y\",\"type\":\"scatter\"},{\"hovertemplate\":\"Genre=%{x}<br>Required_IOS_Version=3<br>No_of_Apps=%{y}<extra></extra>\",\"ids\":[8],\"legendgroup\":\"Navigation\",\"marker\":{\"color\":\"#EF553B\",\"symbol\":\"circle\"},\"mode\":\"markers\",\"name\":\"Navigation\",\"orientation\":\"v\",\"showlegend\":true,\"x\":[\"Navigation\"],\"xaxis\":\"x\",\"y\":[8],\"yaxis\":\"y\",\"type\":\"scatter\"},{\"hovertemplate\":\"Genre=%{x}<br>Required_IOS_Version=3<br>No_of_Apps=%{y}<extra></extra>\",\"ids\":[62],\"legendgroup\":\"Utilities\",\"marker\":{\"color\":\"#00cc96\",\"symbol\":\"circle\"},\"mode\":\"markers\",\"name\":\"Utilities\",\"orientation\":\"v\",\"showlegend\":true,\"x\":[\"Utilities\"],\"xaxis\":\"x\",\"y\":[62],\"yaxis\":\"y\",\"type\":\"scatter\"},{\"hovertemplate\":\"Genre=%{x}<br>Required_IOS_Version=3<br>No_of_Apps=%{y}<extra></extra>\",\"ids\":[8],\"legendgroup\":\"Medical\",\"marker\":{\"color\":\"#ab63fa\",\"symbol\":\"circle\"},\"mode\":\"markers\",\"name\":\"Medical\",\"orientation\":\"v\",\"showlegend\":true,\"x\":[\"Medical\"],\"xaxis\":\"x\",\"y\":[8],\"yaxis\":\"y\",\"type\":\"scatter\"},{\"hovertemplate\":\"Genre=%{x}<br>Required_IOS_Version=3<br>No_of_Apps=%{y}<extra></extra>\",\"ids\":[695],\"legendgroup\":\"Games\",\"marker\":{\"color\":\"#FFA15A\",\"symbol\":\"circle\"},\"mode\":\"markers\",\"name\":\"Games\",\"orientation\":\"v\",\"showlegend\":true,\"x\":[\"Games\"],\"xaxis\":\"x\",\"y\":[695],\"yaxis\":\"y\",\"type\":\"scatter\"},{\"hovertemplate\":\"Genre=%{x}<br>Required_IOS_Version=3<br>No_of_Apps=%{y}<extra></extra>\",\"ids\":[5],\"legendgroup\":\"Finance\",\"marker\":{\"color\":\"#19d3f3\",\"symbol\":\"circle\"},\"mode\":\"markers\",\"name\":\"Finance\",\"orientation\":\"v\",\"showlegend\":true,\"x\":[\"Finance\"],\"xaxis\":\"x\",\"y\":[5],\"yaxis\":\"y\",\"type\":\"scatter\"},{\"hovertemplate\":\"Genre=%{x}<br>Required_IOS_Version=3<br>No_of_Apps=%{y}<extra></extra>\",\"ids\":[8],\"legendgroup\":\"Weather\",\"marker\":{\"color\":\"#FF6692\",\"symbol\":\"circle\"},\"mode\":\"markers\",\"name\":\"Weather\",\"orientation\":\"v\",\"showlegend\":true,\"x\":[\"Weather\"],\"xaxis\":\"x\",\"y\":[8],\"yaxis\":\"y\",\"type\":\"scatter\"},{\"hovertemplate\":\"Genre=%{x}<br>Required_IOS_Version=3<br>No_of_Apps=%{y}<extra></extra>\",\"ids\":[43],\"legendgroup\":\"Lifestyle\",\"marker\":{\"color\":\"#B6E880\",\"symbol\":\"circle\"},\"mode\":\"markers\",\"name\":\"Lifestyle\",\"orientation\":\"v\",\"showlegend\":true,\"x\":[\"Lifestyle\"],\"xaxis\":\"x\",\"y\":[43],\"yaxis\":\"y\",\"type\":\"scatter\"},{\"hovertemplate\":\"Genre=%{x}<br>Required_IOS_Version=3<br>No_of_Apps=%{y}<extra></extra>\",\"ids\":[28],\"legendgroup\":\"Health & Fitness\",\"marker\":{\"color\":\"#FF97FF\",\"symbol\":\"circle\"},\"mode\":\"markers\",\"name\":\"Health & Fitness\",\"orientation\":\"v\",\"showlegend\":true,\"x\":[\"Health & Fitness\"],\"xaxis\":\"x\",\"y\":[28],\"yaxis\":\"y\",\"type\":\"scatter\"},{\"hovertemplate\":\"Genre=%{x}<br>Required_IOS_Version=3<br>No_of_Apps=%{y}<extra></extra>\",\"ids\":[13],\"legendgroup\":\"News\",\"marker\":{\"color\":\"#FECB52\",\"symbol\":\"circle\"},\"mode\":\"markers\",\"name\":\"News\",\"orientation\":\"v\",\"showlegend\":true,\"x\":[\"News\"],\"xaxis\":\"x\",\"y\":[13],\"yaxis\":\"y\",\"type\":\"scatter\"},{\"hovertemplate\":\"Genre=%{x}<br>Required_IOS_Version=3<br>No_of_Apps=%{y}<extra></extra>\",\"ids\":[1],\"legendgroup\":\"Food & Drink\",\"marker\":{\"color\":\"#636efa\",\"symbol\":\"circle\"},\"mode\":\"markers\",\"name\":\"Food & Drink\",\"orientation\":\"v\",\"showlegend\":true,\"x\":[\"Food & Drink\"],\"xaxis\":\"x\",\"y\":[1],\"yaxis\":\"y\",\"type\":\"scatter\"},{\"hovertemplate\":\"Genre=%{x}<br>Required_IOS_Version=3<br>No_of_Apps=%{y}<extra></extra>\",\"ids\":[3],\"legendgroup\":\"Shopping\",\"marker\":{\"color\":\"#EF553B\",\"symbol\":\"circle\"},\"mode\":\"markers\",\"name\":\"Shopping\",\"orientation\":\"v\",\"showlegend\":true,\"x\":[\"Shopping\"],\"xaxis\":\"x\",\"y\":[3],\"yaxis\":\"y\",\"type\":\"scatter\"}],\"name\":\"3\"},{\"data\":[{\"hovertemplate\":\"Genre=%{x}<br>Required_IOS_Version=4<br>No_of_Apps=%{y}<extra></extra>\",\"ids\":[105],\"legendgroup\":\"Book\",\"marker\":{\"color\":\"#636efa\",\"symbol\":\"circle\"},\"mode\":\"markers\",\"name\":\"Book\",\"orientation\":\"v\",\"showlegend\":true,\"x\":[\"Book\"],\"xaxis\":\"x\",\"y\":[105],\"yaxis\":\"y\",\"type\":\"scatter\"},{\"hovertemplate\":\"Genre=%{x}<br>Required_IOS_Version=4<br>No_of_Apps=%{y}<extra></extra>\",\"ids\":[565],\"legendgroup\":\"Education\",\"marker\":{\"color\":\"#EF553B\",\"symbol\":\"circle\"},\"mode\":\"markers\",\"name\":\"Education\",\"orientation\":\"v\",\"showlegend\":true,\"x\":[\"Education\"],\"xaxis\":\"x\",\"y\":[565],\"yaxis\":\"y\",\"type\":\"scatter\"},{\"hovertemplate\":\"Genre=%{x}<br>Required_IOS_Version=4<br>No_of_Apps=%{y}<extra></extra>\",\"ids\":[35],\"legendgroup\":\"Social Networking\",\"marker\":{\"color\":\"#00cc96\",\"symbol\":\"circle\"},\"mode\":\"markers\",\"name\":\"Social Networking\",\"orientation\":\"v\",\"showlegend\":true,\"x\":[\"Social Networking\"],\"xaxis\":\"x\",\"y\":[35],\"yaxis\":\"y\",\"type\":\"scatter\"},{\"hovertemplate\":\"Genre=%{x}<br>Required_IOS_Version=4<br>No_of_Apps=%{y}<extra></extra>\",\"ids\":[78],\"legendgroup\":\"Productivity\",\"marker\":{\"color\":\"#ab63fa\",\"symbol\":\"circle\"},\"mode\":\"markers\",\"name\":\"Productivity\",\"orientation\":\"v\",\"showlegend\":true,\"x\":[\"Productivity\"],\"xaxis\":\"x\",\"y\":[78],\"yaxis\":\"y\",\"type\":\"scatter\"},{\"hovertemplate\":\"Genre=%{x}<br>Required_IOS_Version=4<br>No_of_Apps=%{y}<extra></extra>\",\"ids\":[92],\"legendgroup\":\"Photo & Video\",\"marker\":{\"color\":\"#FFA15A\",\"symbol\":\"circle\"},\"mode\":\"markers\",\"name\":\"Photo & Video\",\"orientation\":\"v\",\"showlegend\":true,\"x\":[\"Photo & Video\"],\"xaxis\":\"x\",\"y\":[92],\"yaxis\":\"y\",\"type\":\"scatter\"},{\"hovertemplate\":\"Genre=%{x}<br>Required_IOS_Version=4<br>No_of_Apps=%{y}<extra></extra>\",\"ids\":[38],\"legendgroup\":\"Sports\",\"marker\":{\"color\":\"#19d3f3\",\"symbol\":\"circle\"},\"mode\":\"markers\",\"name\":\"Sports\",\"orientation\":\"v\",\"showlegend\":true,\"x\":[\"Sports\"],\"xaxis\":\"x\",\"y\":[38],\"yaxis\":\"y\",\"type\":\"scatter\"},{\"hovertemplate\":\"Genre=%{x}<br>Required_IOS_Version=4<br>No_of_Apps=%{y}<extra></extra>\",\"ids\":[346],\"legendgroup\":\"Entertainment\",\"marker\":{\"color\":\"#FF6692\",\"symbol\":\"circle\"},\"mode\":\"markers\",\"name\":\"Entertainment\",\"orientation\":\"v\",\"showlegend\":true,\"x\":[\"Entertainment\"],\"xaxis\":\"x\",\"y\":[346],\"yaxis\":\"y\",\"type\":\"scatter\"},{\"hovertemplate\":\"Genre=%{x}<br>Required_IOS_Version=4<br>No_of_Apps=%{y}<extra></extra>\",\"ids\":[18],\"legendgroup\":\"Travel\",\"marker\":{\"color\":\"#B6E880\",\"symbol\":\"circle\"},\"mode\":\"markers\",\"name\":\"Travel\",\"orientation\":\"v\",\"showlegend\":true,\"x\":[\"Travel\"],\"xaxis\":\"x\",\"y\":[18],\"yaxis\":\"y\",\"type\":\"scatter\"},{\"hovertemplate\":\"Genre=%{x}<br>Required_IOS_Version=4<br>No_of_Apps=%{y}<extra></extra>\",\"ids\":[50],\"legendgroup\":\"Reference\",\"marker\":{\"color\":\"#FF97FF\",\"symbol\":\"circle\"},\"mode\":\"markers\",\"name\":\"Reference\",\"orientation\":\"v\",\"showlegend\":true,\"x\":[\"Reference\"],\"xaxis\":\"x\",\"y\":[50],\"yaxis\":\"y\",\"type\":\"scatter\"},{\"hovertemplate\":\"Genre=%{x}<br>Required_IOS_Version=4<br>No_of_Apps=%{y}<extra></extra>\",\"ids\":[64],\"legendgroup\":\"Business\",\"marker\":{\"color\":\"#FECB52\",\"symbol\":\"circle\"},\"mode\":\"markers\",\"name\":\"Business\",\"orientation\":\"v\",\"showlegend\":true,\"x\":[\"Business\"],\"xaxis\":\"x\",\"y\":[64],\"yaxis\":\"y\",\"type\":\"scatter\"},{\"hovertemplate\":\"Genre=%{x}<br>Required_IOS_Version=4<br>No_of_Apps=%{y}<extra></extra>\",\"ids\":[159],\"legendgroup\":\"Music\",\"marker\":{\"color\":\"#636efa\",\"symbol\":\"circle\"},\"mode\":\"markers\",\"name\":\"Music\",\"orientation\":\"v\",\"showlegend\":true,\"x\":[\"Music\"],\"xaxis\":\"x\",\"y\":[159],\"yaxis\":\"y\",\"type\":\"scatter\"},{\"hovertemplate\":\"Genre=%{x}<br>Required_IOS_Version=4<br>No_of_Apps=%{y}<extra></extra>\",\"ids\":[24],\"legendgroup\":\"Navigation\",\"marker\":{\"color\":\"#EF553B\",\"symbol\":\"circle\"},\"mode\":\"markers\",\"name\":\"Navigation\",\"orientation\":\"v\",\"showlegend\":true,\"x\":[\"Navigation\"],\"xaxis\":\"x\",\"y\":[24],\"yaxis\":\"y\",\"type\":\"scatter\"},{\"hovertemplate\":\"Genre=%{x}<br>Required_IOS_Version=4<br>No_of_Apps=%{y}<extra></extra>\",\"ids\":[195],\"legendgroup\":\"Utilities\",\"marker\":{\"color\":\"#00cc96\",\"symbol\":\"circle\"},\"mode\":\"markers\",\"name\":\"Utilities\",\"orientation\":\"v\",\"showlegend\":true,\"x\":[\"Utilities\"],\"xaxis\":\"x\",\"y\":[195],\"yaxis\":\"y\",\"type\":\"scatter\"},{\"hovertemplate\":\"Genre=%{x}<br>Required_IOS_Version=4<br>No_of_Apps=%{y}<extra></extra>\",\"ids\":[22],\"legendgroup\":\"Medical\",\"marker\":{\"color\":\"#ab63fa\",\"symbol\":\"circle\"},\"mode\":\"markers\",\"name\":\"Medical\",\"orientation\":\"v\",\"showlegend\":true,\"x\":[\"Medical\"],\"xaxis\":\"x\",\"y\":[22],\"yaxis\":\"y\",\"type\":\"scatter\"},{\"hovertemplate\":\"Genre=%{x}<br>Required_IOS_Version=4<br>No_of_Apps=%{y}<extra></extra>\",\"ids\":[3392],\"legendgroup\":\"Games\",\"marker\":{\"color\":\"#FFA15A\",\"symbol\":\"circle\"},\"mode\":\"markers\",\"name\":\"Games\",\"orientation\":\"v\",\"showlegend\":true,\"x\":[\"Games\"],\"xaxis\":\"x\",\"y\":[3392],\"yaxis\":\"y\",\"type\":\"scatter\"},{\"hovertemplate\":\"Genre=%{x}<br>Required_IOS_Version=4<br>No_of_Apps=%{y}<extra></extra>\",\"ids\":[16],\"legendgroup\":\"Finance\",\"marker\":{\"color\":\"#19d3f3\",\"symbol\":\"circle\"},\"mode\":\"markers\",\"name\":\"Finance\",\"orientation\":\"v\",\"showlegend\":true,\"x\":[\"Finance\"],\"xaxis\":\"x\",\"y\":[16],\"yaxis\":\"y\",\"type\":\"scatter\"},{\"hovertemplate\":\"Genre=%{x}<br>Required_IOS_Version=4<br>No_of_Apps=%{y}<extra></extra>\",\"ids\":[10],\"legendgroup\":\"Weather\",\"marker\":{\"color\":\"#FF6692\",\"symbol\":\"circle\"},\"mode\":\"markers\",\"name\":\"Weather\",\"orientation\":\"v\",\"showlegend\":true,\"x\":[\"Weather\"],\"xaxis\":\"x\",\"y\":[10],\"yaxis\":\"y\",\"type\":\"scatter\"},{\"hovertemplate\":\"Genre=%{x}<br>Required_IOS_Version=4<br>No_of_Apps=%{y}<extra></extra>\",\"ids\":[128],\"legendgroup\":\"Lifestyle\",\"marker\":{\"color\":\"#B6E880\",\"symbol\":\"circle\"},\"mode\":\"markers\",\"name\":\"Lifestyle\",\"orientation\":\"v\",\"showlegend\":true,\"x\":[\"Lifestyle\"],\"xaxis\":\"x\",\"y\":[128],\"yaxis\":\"y\",\"type\":\"scatter\"},{\"hovertemplate\":\"Genre=%{x}<br>Required_IOS_Version=4<br>No_of_Apps=%{y}<extra></extra>\",\"ids\":[34],\"legendgroup\":\"Health & Fitness\",\"marker\":{\"color\":\"#FF97FF\",\"symbol\":\"circle\"},\"mode\":\"markers\",\"name\":\"Health & Fitness\",\"orientation\":\"v\",\"showlegend\":true,\"x\":[\"Health & Fitness\"],\"xaxis\":\"x\",\"y\":[34],\"yaxis\":\"y\",\"type\":\"scatter\"},{\"hovertemplate\":\"Genre=%{x}<br>Required_IOS_Version=4<br>No_of_Apps=%{y}<extra></extra>\",\"ids\":[27],\"legendgroup\":\"News\",\"marker\":{\"color\":\"#FECB52\",\"symbol\":\"circle\"},\"mode\":\"markers\",\"name\":\"News\",\"orientation\":\"v\",\"showlegend\":true,\"x\":[\"News\"],\"xaxis\":\"x\",\"y\":[27],\"yaxis\":\"y\",\"type\":\"scatter\"},{\"hovertemplate\":\"Genre=%{x}<br>Required_IOS_Version=4<br>No_of_Apps=%{y}<extra></extra>\",\"ids\":[12],\"legendgroup\":\"Food & Drink\",\"marker\":{\"color\":\"#636efa\",\"symbol\":\"circle\"},\"mode\":\"markers\",\"name\":\"Food & Drink\",\"orientation\":\"v\",\"showlegend\":true,\"x\":[\"Food & Drink\"],\"xaxis\":\"x\",\"y\":[12],\"yaxis\":\"y\",\"type\":\"scatter\"},{\"hovertemplate\":\"Genre=%{x}<br>Required_IOS_Version=4<br>No_of_Apps=%{y}<extra></extra>\",\"ids\":[14],\"legendgroup\":\"Shopping\",\"marker\":{\"color\":\"#EF553B\",\"symbol\":\"circle\"},\"mode\":\"markers\",\"name\":\"Shopping\",\"orientation\":\"v\",\"showlegend\":true,\"x\":[\"Shopping\"],\"xaxis\":\"x\",\"y\":[14],\"yaxis\":\"y\",\"type\":\"scatter\"}],\"name\":\"4\"},{\"data\":[{\"hovertemplate\":\"Genre=%{x}<br>Required_IOS_Version=5<br>No_of_Apps=%{y}<extra></extra>\",\"ids\":[203],\"legendgroup\":\"Book\",\"marker\":{\"color\":\"#636efa\",\"symbol\":\"circle\"},\"mode\":\"markers\",\"name\":\"Book\",\"orientation\":\"v\",\"showlegend\":true,\"x\":[\"Book\"],\"xaxis\":\"x\",\"y\":[203],\"yaxis\":\"y\",\"type\":\"scatter\"},{\"hovertemplate\":\"Genre=%{x}<br>Required_IOS_Version=5<br>No_of_Apps=%{y}<extra></extra>\",\"ids\":[1088],\"legendgroup\":\"Education\",\"marker\":{\"color\":\"#EF553B\",\"symbol\":\"circle\"},\"mode\":\"markers\",\"name\":\"Education\",\"orientation\":\"v\",\"showlegend\":true,\"x\":[\"Education\"],\"xaxis\":\"x\",\"y\":[1088],\"yaxis\":\"y\",\"type\":\"scatter\"},{\"hovertemplate\":\"Genre=%{x}<br>Required_IOS_Version=5<br>No_of_Apps=%{y}<extra></extra>\",\"ids\":[46],\"legendgroup\":\"Social Networking\",\"marker\":{\"color\":\"#00cc96\",\"symbol\":\"circle\"},\"mode\":\"markers\",\"name\":\"Social Networking\",\"orientation\":\"v\",\"showlegend\":true,\"x\":[\"Social Networking\"],\"xaxis\":\"x\",\"y\":[46],\"yaxis\":\"y\",\"type\":\"scatter\"},{\"hovertemplate\":\"Genre=%{x}<br>Required_IOS_Version=5<br>No_of_Apps=%{y}<extra></extra>\",\"ids\":[164],\"legendgroup\":\"Productivity\",\"marker\":{\"color\":\"#ab63fa\",\"symbol\":\"circle\"},\"mode\":\"markers\",\"name\":\"Productivity\",\"orientation\":\"v\",\"showlegend\":true,\"x\":[\"Productivity\"],\"xaxis\":\"x\",\"y\":[164],\"yaxis\":\"y\",\"type\":\"scatter\"},{\"hovertemplate\":\"Genre=%{x}<br>Required_IOS_Version=5<br>No_of_Apps=%{y}<extra></extra>\",\"ids\":[199],\"legendgroup\":\"Photo & Video\",\"marker\":{\"color\":\"#FFA15A\",\"symbol\":\"circle\"},\"mode\":\"markers\",\"name\":\"Photo & Video\",\"orientation\":\"v\",\"showlegend\":true,\"x\":[\"Photo & Video\"],\"xaxis\":\"x\",\"y\":[199],\"yaxis\":\"y\",\"type\":\"scatter\"},{\"hovertemplate\":\"Genre=%{x}<br>Required_IOS_Version=5<br>No_of_Apps=%{y}<extra></extra>\",\"ids\":[73],\"legendgroup\":\"Sports\",\"marker\":{\"color\":\"#19d3f3\",\"symbol\":\"circle\"},\"mode\":\"markers\",\"name\":\"Sports\",\"orientation\":\"v\",\"showlegend\":true,\"x\":[\"Sports\"],\"xaxis\":\"x\",\"y\":[73],\"yaxis\":\"y\",\"type\":\"scatter\"},{\"hovertemplate\":\"Genre=%{x}<br>Required_IOS_Version=5<br>No_of_Apps=%{y}<extra></extra>\",\"ids\":[563],\"legendgroup\":\"Entertainment\",\"marker\":{\"color\":\"#FF6692\",\"symbol\":\"circle\"},\"mode\":\"markers\",\"name\":\"Entertainment\",\"orientation\":\"v\",\"showlegend\":true,\"x\":[\"Entertainment\"],\"xaxis\":\"x\",\"y\":[563],\"yaxis\":\"y\",\"type\":\"scatter\"},{\"hovertemplate\":\"Genre=%{x}<br>Required_IOS_Version=5<br>No_of_Apps=%{y}<extra></extra>\",\"ids\":[132],\"legendgroup\":\"Travel\",\"marker\":{\"color\":\"#B6E880\",\"symbol\":\"circle\"},\"mode\":\"markers\",\"name\":\"Travel\",\"orientation\":\"v\",\"showlegend\":true,\"x\":[\"Travel\"],\"xaxis\":\"x\",\"y\":[132],\"yaxis\":\"y\",\"type\":\"scatter\"},{\"hovertemplate\":\"Genre=%{x}<br>Required_IOS_Version=5<br>No_of_Apps=%{y}<extra></extra>\",\"ids\":[186],\"legendgroup\":\"Reference\",\"marker\":{\"color\":\"#FF97FF\",\"symbol\":\"circle\"},\"mode\":\"markers\",\"name\":\"Reference\",\"orientation\":\"v\",\"showlegend\":true,\"x\":[\"Reference\"],\"xaxis\":\"x\",\"y\":[186],\"yaxis\":\"y\",\"type\":\"scatter\"},{\"hovertemplate\":\"Genre=%{x}<br>Required_IOS_Version=5<br>No_of_Apps=%{y}<extra></extra>\",\"ids\":[220],\"legendgroup\":\"Business\",\"marker\":{\"color\":\"#FECB52\",\"symbol\":\"circle\"},\"mode\":\"markers\",\"name\":\"Business\",\"orientation\":\"v\",\"showlegend\":true,\"x\":[\"Business\"],\"xaxis\":\"x\",\"y\":[220],\"yaxis\":\"y\",\"type\":\"scatter\"},{\"hovertemplate\":\"Genre=%{x}<br>Required_IOS_Version=5<br>No_of_Apps=%{y}<extra></extra>\",\"ids\":[190],\"legendgroup\":\"Music\",\"marker\":{\"color\":\"#636efa\",\"symbol\":\"circle\"},\"mode\":\"markers\",\"name\":\"Music\",\"orientation\":\"v\",\"showlegend\":true,\"x\":[\"Music\"],\"xaxis\":\"x\",\"y\":[190],\"yaxis\":\"y\",\"type\":\"scatter\"},{\"hovertemplate\":\"Genre=%{x}<br>Required_IOS_Version=5<br>No_of_Apps=%{y}<extra></extra>\",\"ids\":[38],\"legendgroup\":\"Navigation\",\"marker\":{\"color\":\"#EF553B\",\"symbol\":\"circle\"},\"mode\":\"markers\",\"name\":\"Navigation\",\"orientation\":\"v\",\"showlegend\":true,\"x\":[\"Navigation\"],\"xaxis\":\"x\",\"y\":[38],\"yaxis\":\"y\",\"type\":\"scatter\"},{\"hovertemplate\":\"Genre=%{x}<br>Required_IOS_Version=5<br>No_of_Apps=%{y}<extra></extra>\",\"ids\":[296],\"legendgroup\":\"Utilities\",\"marker\":{\"color\":\"#00cc96\",\"symbol\":\"circle\"},\"mode\":\"markers\",\"name\":\"Utilities\",\"orientation\":\"v\",\"showlegend\":true,\"x\":[\"Utilities\"],\"xaxis\":\"x\",\"y\":[296],\"yaxis\":\"y\",\"type\":\"scatter\"},{\"hovertemplate\":\"Genre=%{x}<br>Required_IOS_Version=5<br>No_of_Apps=%{y}<extra></extra>\",\"ids\":[81],\"legendgroup\":\"Medical\",\"marker\":{\"color\":\"#ab63fa\",\"symbol\":\"circle\"},\"mode\":\"markers\",\"name\":\"Medical\",\"orientation\":\"v\",\"showlegend\":true,\"x\":[\"Medical\"],\"xaxis\":\"x\",\"y\":[81],\"yaxis\":\"y\",\"type\":\"scatter\"},{\"hovertemplate\":\"Genre=%{x}<br>Required_IOS_Version=5<br>No_of_Apps=%{y}<extra></extra>\",\"ids\":[5455],\"legendgroup\":\"Games\",\"marker\":{\"color\":\"#FFA15A\",\"symbol\":\"circle\"},\"mode\":\"markers\",\"name\":\"Games\",\"orientation\":\"v\",\"showlegend\":true,\"x\":[\"Games\"],\"xaxis\":\"x\",\"y\":[5455],\"yaxis\":\"y\",\"type\":\"scatter\"},{\"hovertemplate\":\"Genre=%{x}<br>Required_IOS_Version=5<br>No_of_Apps=%{y}<extra></extra>\",\"ids\":[79],\"legendgroup\":\"Finance\",\"marker\":{\"color\":\"#19d3f3\",\"symbol\":\"circle\"},\"mode\":\"markers\",\"name\":\"Finance\",\"orientation\":\"v\",\"showlegend\":true,\"x\":[\"Finance\"],\"xaxis\":\"x\",\"y\":[79],\"yaxis\":\"y\",\"type\":\"scatter\"},{\"hovertemplate\":\"Genre=%{x}<br>Required_IOS_Version=5<br>No_of_Apps=%{y}<extra></extra>\",\"ids\":[18],\"legendgroup\":\"Weather\",\"marker\":{\"color\":\"#FF6692\",\"symbol\":\"circle\"},\"mode\":\"markers\",\"name\":\"Weather\",\"orientation\":\"v\",\"showlegend\":true,\"x\":[\"Weather\"],\"xaxis\":\"x\",\"y\":[18],\"yaxis\":\"y\",\"type\":\"scatter\"},{\"hovertemplate\":\"Genre=%{x}<br>Required_IOS_Version=5<br>No_of_Apps=%{y}<extra></extra>\",\"ids\":[208],\"legendgroup\":\"Lifestyle\",\"marker\":{\"color\":\"#B6E880\",\"symbol\":\"circle\"},\"mode\":\"markers\",\"name\":\"Lifestyle\",\"orientation\":\"v\",\"showlegend\":true,\"x\":[\"Lifestyle\"],\"xaxis\":\"x\",\"y\":[208],\"yaxis\":\"y\",\"type\":\"scatter\"},{\"hovertemplate\":\"Genre=%{x}<br>Required_IOS_Version=5<br>No_of_Apps=%{y}<extra></extra>\",\"ids\":[107],\"legendgroup\":\"Health & Fitness\",\"marker\":{\"color\":\"#FF97FF\",\"symbol\":\"circle\"},\"mode\":\"markers\",\"name\":\"Health & Fitness\",\"orientation\":\"v\",\"showlegend\":true,\"x\":[\"Health & Fitness\"],\"xaxis\":\"x\",\"y\":[107],\"yaxis\":\"y\",\"type\":\"scatter\"},{\"hovertemplate\":\"Genre=%{x}<br>Required_IOS_Version=5<br>No_of_Apps=%{y}<extra></extra>\",\"ids\":[58],\"legendgroup\":\"News\",\"marker\":{\"color\":\"#FECB52\",\"symbol\":\"circle\"},\"mode\":\"markers\",\"name\":\"News\",\"orientation\":\"v\",\"showlegend\":true,\"x\":[\"News\"],\"xaxis\":\"x\",\"y\":[58],\"yaxis\":\"y\",\"type\":\"scatter\"},{\"hovertemplate\":\"Genre=%{x}<br>Required_IOS_Version=5<br>No_of_Apps=%{y}<extra></extra>\",\"ids\":[57],\"legendgroup\":\"Food & Drink\",\"marker\":{\"color\":\"#636efa\",\"symbol\":\"circle\"},\"mode\":\"markers\",\"name\":\"Food & Drink\",\"orientation\":\"v\",\"showlegend\":true,\"x\":[\"Food & Drink\"],\"xaxis\":\"x\",\"y\":[57],\"yaxis\":\"y\",\"type\":\"scatter\"},{\"hovertemplate\":\"Genre=%{x}<br>Required_IOS_Version=5<br>No_of_Apps=%{y}<extra></extra>\",\"ids\":[37],\"legendgroup\":\"Shopping\",\"marker\":{\"color\":\"#EF553B\",\"symbol\":\"circle\"},\"mode\":\"markers\",\"name\":\"Shopping\",\"orientation\":\"v\",\"showlegend\":true,\"x\":[\"Shopping\"],\"xaxis\":\"x\",\"y\":[37],\"yaxis\":\"y\",\"type\":\"scatter\"}],\"name\":\"5\"},{\"data\":[{\"hovertemplate\":\"Genre=%{x}<br>Required_IOS_Version=6<br>No_of_Apps=%{y}<extra></extra>\",\"ids\":[647],\"legendgroup\":\"Book\",\"marker\":{\"color\":\"#636efa\",\"symbol\":\"circle\"},\"mode\":\"markers\",\"name\":\"Book\",\"orientation\":\"v\",\"showlegend\":true,\"x\":[\"Book\"],\"xaxis\":\"x\",\"y\":[647],\"yaxis\":\"y\",\"type\":\"scatter\"},{\"hovertemplate\":\"Genre=%{x}<br>Required_IOS_Version=6<br>No_of_Apps=%{y}<extra></extra>\",\"ids\":[4927],\"legendgroup\":\"Education\",\"marker\":{\"color\":\"#EF553B\",\"symbol\":\"circle\"},\"mode\":\"markers\",\"name\":\"Education\",\"orientation\":\"v\",\"showlegend\":true,\"x\":[\"Education\"],\"xaxis\":\"x\",\"y\":[4927],\"yaxis\":\"y\",\"type\":\"scatter\"},{\"hovertemplate\":\"Genre=%{x}<br>Required_IOS_Version=6<br>No_of_Apps=%{y}<extra></extra>\",\"ids\":[273],\"legendgroup\":\"Social Networking\",\"marker\":{\"color\":\"#00cc96\",\"symbol\":\"circle\"},\"mode\":\"markers\",\"name\":\"Social Networking\",\"orientation\":\"v\",\"showlegend\":true,\"x\":[\"Social Networking\"],\"xaxis\":\"x\",\"y\":[273],\"yaxis\":\"y\",\"type\":\"scatter\"},{\"hovertemplate\":\"Genre=%{x}<br>Required_IOS_Version=6<br>No_of_Apps=%{y}<extra></extra>\",\"ids\":[815],\"legendgroup\":\"Productivity\",\"marker\":{\"color\":\"#ab63fa\",\"symbol\":\"circle\"},\"mode\":\"markers\",\"name\":\"Productivity\",\"orientation\":\"v\",\"showlegend\":true,\"x\":[\"Productivity\"],\"xaxis\":\"x\",\"y\":[815],\"yaxis\":\"y\",\"type\":\"scatter\"},{\"hovertemplate\":\"Genre=%{x}<br>Required_IOS_Version=6<br>No_of_Apps=%{y}<extra></extra>\",\"ids\":[958],\"legendgroup\":\"Photo & Video\",\"marker\":{\"color\":\"#FFA15A\",\"symbol\":\"circle\"},\"mode\":\"markers\",\"name\":\"Photo & Video\",\"orientation\":\"v\",\"showlegend\":true,\"x\":[\"Photo & Video\"],\"xaxis\":\"x\",\"y\":[958],\"yaxis\":\"y\",\"type\":\"scatter\"},{\"hovertemplate\":\"Genre=%{x}<br>Required_IOS_Version=6<br>No_of_Apps=%{y}<extra></extra>\",\"ids\":[736],\"legendgroup\":\"Sports\",\"marker\":{\"color\":\"#19d3f3\",\"symbol\":\"circle\"},\"mode\":\"markers\",\"name\":\"Sports\",\"orientation\":\"v\",\"showlegend\":true,\"x\":[\"Sports\"],\"xaxis\":\"x\",\"y\":[736],\"yaxis\":\"y\",\"type\":\"scatter\"},{\"hovertemplate\":\"Genre=%{x}<br>Required_IOS_Version=6<br>No_of_Apps=%{y}<extra></extra>\",\"ids\":[2306],\"legendgroup\":\"Entertainment\",\"marker\":{\"color\":\"#FF6692\",\"symbol\":\"circle\"},\"mode\":\"markers\",\"name\":\"Entertainment\",\"orientation\":\"v\",\"showlegend\":true,\"x\":[\"Entertainment\"],\"xaxis\":\"x\",\"y\":[2306],\"yaxis\":\"y\",\"type\":\"scatter\"},{\"hovertemplate\":\"Genre=%{x}<br>Required_IOS_Version=6<br>No_of_Apps=%{y}<extra></extra>\",\"ids\":[738],\"legendgroup\":\"Travel\",\"marker\":{\"color\":\"#B6E880\",\"symbol\":\"circle\"},\"mode\":\"markers\",\"name\":\"Travel\",\"orientation\":\"v\",\"showlegend\":true,\"x\":[\"Travel\"],\"xaxis\":\"x\",\"y\":[738],\"yaxis\":\"y\",\"type\":\"scatter\"},{\"hovertemplate\":\"Genre=%{x}<br>Required_IOS_Version=6<br>No_of_Apps=%{y}<extra></extra>\",\"ids\":[709],\"legendgroup\":\"Reference\",\"marker\":{\"color\":\"#FF97FF\",\"symbol\":\"circle\"},\"mode\":\"markers\",\"name\":\"Reference\",\"orientation\":\"v\",\"showlegend\":true,\"x\":[\"Reference\"],\"xaxis\":\"x\",\"y\":[709],\"yaxis\":\"y\",\"type\":\"scatter\"},{\"hovertemplate\":\"Genre=%{x}<br>Required_IOS_Version=6<br>No_of_Apps=%{y}<extra></extra>\",\"ids\":[2102],\"legendgroup\":\"Business\",\"marker\":{\"color\":\"#FECB52\",\"symbol\":\"circle\"},\"mode\":\"markers\",\"name\":\"Business\",\"orientation\":\"v\",\"showlegend\":true,\"x\":[\"Business\"],\"xaxis\":\"x\",\"y\":[2102],\"yaxis\":\"y\",\"type\":\"scatter\"},{\"hovertemplate\":\"Genre=%{x}<br>Required_IOS_Version=6<br>No_of_Apps=%{y}<extra></extra>\",\"ids\":[1141],\"legendgroup\":\"Music\",\"marker\":{\"color\":\"#636efa\",\"symbol\":\"circle\"},\"mode\":\"markers\",\"name\":\"Music\",\"orientation\":\"v\",\"showlegend\":true,\"x\":[\"Music\"],\"xaxis\":\"x\",\"y\":[1141],\"yaxis\":\"y\",\"type\":\"scatter\"},{\"hovertemplate\":\"Genre=%{x}<br>Required_IOS_Version=6<br>No_of_Apps=%{y}<extra></extra>\",\"ids\":[515],\"legendgroup\":\"Navigation\",\"marker\":{\"color\":\"#EF553B\",\"symbol\":\"circle\"},\"mode\":\"markers\",\"name\":\"Navigation\",\"orientation\":\"v\",\"showlegend\":true,\"x\":[\"Navigation\"],\"xaxis\":\"x\",\"y\":[515],\"yaxis\":\"y\",\"type\":\"scatter\"},{\"hovertemplate\":\"Genre=%{x}<br>Required_IOS_Version=6<br>No_of_Apps=%{y}<extra></extra>\",\"ids\":[1988],\"legendgroup\":\"Utilities\",\"marker\":{\"color\":\"#00cc96\",\"symbol\":\"circle\"},\"mode\":\"markers\",\"name\":\"Utilities\",\"orientation\":\"v\",\"showlegend\":true,\"x\":[\"Utilities\"],\"xaxis\":\"x\",\"y\":[1988],\"yaxis\":\"y\",\"type\":\"scatter\"},{\"hovertemplate\":\"Genre=%{x}<br>Required_IOS_Version=6<br>No_of_Apps=%{y}<extra></extra>\",\"ids\":[672],\"legendgroup\":\"Medical\",\"marker\":{\"color\":\"#ab63fa\",\"symbol\":\"circle\"},\"mode\":\"markers\",\"name\":\"Medical\",\"orientation\":\"v\",\"showlegend\":true,\"x\":[\"Medical\"],\"xaxis\":\"x\",\"y\":[672],\"yaxis\":\"y\",\"type\":\"scatter\"},{\"hovertemplate\":\"Genre=%{x}<br>Required_IOS_Version=6<br>No_of_Apps=%{y}<extra></extra>\",\"ids\":[23422],\"legendgroup\":\"Games\",\"marker\":{\"color\":\"#FFA15A\",\"symbol\":\"circle\"},\"mode\":\"markers\",\"name\":\"Games\",\"orientation\":\"v\",\"showlegend\":true,\"x\":[\"Games\"],\"xaxis\":\"x\",\"y\":[23422],\"yaxis\":\"y\",\"type\":\"scatter\"},{\"hovertemplate\":\"Genre=%{x}<br>Required_IOS_Version=6<br>No_of_Apps=%{y}<extra></extra>\",\"ids\":[445],\"legendgroup\":\"Finance\",\"marker\":{\"color\":\"#19d3f3\",\"symbol\":\"circle\"},\"mode\":\"markers\",\"name\":\"Finance\",\"orientation\":\"v\",\"showlegend\":true,\"x\":[\"Finance\"],\"xaxis\":\"x\",\"y\":[445],\"yaxis\":\"y\",\"type\":\"scatter\"},{\"hovertemplate\":\"Genre=%{x}<br>Required_IOS_Version=6<br>No_of_Apps=%{y}<extra></extra>\",\"ids\":[98],\"legendgroup\":\"Weather\",\"marker\":{\"color\":\"#FF6692\",\"symbol\":\"circle\"},\"mode\":\"markers\",\"name\":\"Weather\",\"orientation\":\"v\",\"showlegend\":true,\"x\":[\"Weather\"],\"xaxis\":\"x\",\"y\":[98],\"yaxis\":\"y\",\"type\":\"scatter\"},{\"hovertemplate\":\"Genre=%{x}<br>Required_IOS_Version=6<br>No_of_Apps=%{y}<extra></extra>\",\"ids\":[1913],\"legendgroup\":\"Lifestyle\",\"marker\":{\"color\":\"#B6E880\",\"symbol\":\"circle\"},\"mode\":\"markers\",\"name\":\"Lifestyle\",\"orientation\":\"v\",\"showlegend\":true,\"x\":[\"Lifestyle\"],\"xaxis\":\"x\",\"y\":[1913],\"yaxis\":\"y\",\"type\":\"scatter\"},{\"hovertemplate\":\"Genre=%{x}<br>Required_IOS_Version=6<br>No_of_Apps=%{y}<extra></extra>\",\"ids\":[1004],\"legendgroup\":\"Health & Fitness\",\"marker\":{\"color\":\"#FF97FF\",\"symbol\":\"circle\"},\"mode\":\"markers\",\"name\":\"Health & Fitness\",\"orientation\":\"v\",\"showlegend\":true,\"x\":[\"Health & Fitness\"],\"xaxis\":\"x\",\"y\":[1004],\"yaxis\":\"y\",\"type\":\"scatter\"},{\"hovertemplate\":\"Genre=%{x}<br>Required_IOS_Version=6<br>No_of_Apps=%{y}<extra></extra>\",\"ids\":[409],\"legendgroup\":\"News\",\"marker\":{\"color\":\"#FECB52\",\"symbol\":\"circle\"},\"mode\":\"markers\",\"name\":\"News\",\"orientation\":\"v\",\"showlegend\":true,\"x\":[\"News\"],\"xaxis\":\"x\",\"y\":[409],\"yaxis\":\"y\",\"type\":\"scatter\"},{\"hovertemplate\":\"Genre=%{x}<br>Required_IOS_Version=6<br>No_of_Apps=%{y}<extra></extra>\",\"ids\":[1083],\"legendgroup\":\"Food & Drink\",\"marker\":{\"color\":\"#636efa\",\"symbol\":\"circle\"},\"mode\":\"markers\",\"name\":\"Food & Drink\",\"orientation\":\"v\",\"showlegend\":true,\"x\":[\"Food & Drink\"],\"xaxis\":\"x\",\"y\":[1083],\"yaxis\":\"y\",\"type\":\"scatter\"},{\"hovertemplate\":\"Genre=%{x}<br>Required_IOS_Version=6<br>No_of_Apps=%{y}<extra></extra>\",\"ids\":[385],\"legendgroup\":\"Shopping\",\"marker\":{\"color\":\"#EF553B\",\"symbol\":\"circle\"},\"mode\":\"markers\",\"name\":\"Shopping\",\"orientation\":\"v\",\"showlegend\":true,\"x\":[\"Shopping\"],\"xaxis\":\"x\",\"y\":[385],\"yaxis\":\"y\",\"type\":\"scatter\"},{\"hovertemplate\":\"Genre=%{x}<br>Required_IOS_Version=6<br>No_of_Apps=%{y}<extra></extra>\",\"ids\":[6],\"legendgroup\":\"Magazines & Newspapers\",\"marker\":{\"color\":\"#00cc96\",\"symbol\":\"circle\"},\"mode\":\"markers\",\"name\":\"Magazines & Newspapers\",\"orientation\":\"v\",\"showlegend\":true,\"x\":[\"Magazines & Newspapers\"],\"xaxis\":\"x\",\"y\":[6],\"yaxis\":\"y\",\"type\":\"scatter\"}],\"name\":\"6\"},{\"data\":[{\"hovertemplate\":\"Genre=%{x}<br>Required_IOS_Version=7<br>No_of_Apps=%{y}<extra></extra>\",\"ids\":[880],\"legendgroup\":\"Book\",\"marker\":{\"color\":\"#636efa\",\"symbol\":\"circle\"},\"mode\":\"markers\",\"name\":\"Book\",\"orientation\":\"v\",\"showlegend\":true,\"x\":[\"Book\"],\"xaxis\":\"x\",\"y\":[880],\"yaxis\":\"y\",\"type\":\"scatter\"},{\"hovertemplate\":\"Genre=%{x}<br>Required_IOS_Version=7<br>No_of_Apps=%{y}<extra></extra>\",\"ids\":[5664],\"legendgroup\":\"Education\",\"marker\":{\"color\":\"#EF553B\",\"symbol\":\"circle\"},\"mode\":\"markers\",\"name\":\"Education\",\"orientation\":\"v\",\"showlegend\":true,\"x\":[\"Education\"],\"xaxis\":\"x\",\"y\":[5664],\"yaxis\":\"y\",\"type\":\"scatter\"},{\"hovertemplate\":\"Genre=%{x}<br>Required_IOS_Version=7<br>No_of_Apps=%{y}<extra></extra>\",\"ids\":[650],\"legendgroup\":\"Social Networking\",\"marker\":{\"color\":\"#00cc96\",\"symbol\":\"circle\"},\"mode\":\"markers\",\"name\":\"Social Networking\",\"orientation\":\"v\",\"showlegend\":true,\"x\":[\"Social Networking\"],\"xaxis\":\"x\",\"y\":[650],\"yaxis\":\"y\",\"type\":\"scatter\"},{\"hovertemplate\":\"Genre=%{x}<br>Required_IOS_Version=7<br>No_of_Apps=%{y}<extra></extra>\",\"ids\":[1449],\"legendgroup\":\"Productivity\",\"marker\":{\"color\":\"#ab63fa\",\"symbol\":\"circle\"},\"mode\":\"markers\",\"name\":\"Productivity\",\"orientation\":\"v\",\"showlegend\":true,\"x\":[\"Productivity\"],\"xaxis\":\"x\",\"y\":[1449],\"yaxis\":\"y\",\"type\":\"scatter\"},{\"hovertemplate\":\"Genre=%{x}<br>Required_IOS_Version=7<br>No_of_Apps=%{y}<extra></extra>\",\"ids\":[2389],\"legendgroup\":\"Photo & Video\",\"marker\":{\"color\":\"#FFA15A\",\"symbol\":\"circle\"},\"mode\":\"markers\",\"name\":\"Photo & Video\",\"orientation\":\"v\",\"showlegend\":true,\"x\":[\"Photo & Video\"],\"xaxis\":\"x\",\"y\":[2389],\"yaxis\":\"y\",\"type\":\"scatter\"},{\"hovertemplate\":\"Genre=%{x}<br>Required_IOS_Version=7<br>No_of_Apps=%{y}<extra></extra>\",\"ids\":[1186],\"legendgroup\":\"Sports\",\"marker\":{\"color\":\"#19d3f3\",\"symbol\":\"circle\"},\"mode\":\"markers\",\"name\":\"Sports\",\"orientation\":\"v\",\"showlegend\":true,\"x\":[\"Sports\"],\"xaxis\":\"x\",\"y\":[1186],\"yaxis\":\"y\",\"type\":\"scatter\"},{\"hovertemplate\":\"Genre=%{x}<br>Required_IOS_Version=7<br>No_of_Apps=%{y}<extra></extra>\",\"ids\":[3213],\"legendgroup\":\"Entertainment\",\"marker\":{\"color\":\"#FF6692\",\"symbol\":\"circle\"},\"mode\":\"markers\",\"name\":\"Entertainment\",\"orientation\":\"v\",\"showlegend\":true,\"x\":[\"Entertainment\"],\"xaxis\":\"x\",\"y\":[3213],\"yaxis\":\"y\",\"type\":\"scatter\"},{\"hovertemplate\":\"Genre=%{x}<br>Required_IOS_Version=7<br>No_of_Apps=%{y}<extra></extra>\",\"ids\":[2020],\"legendgroup\":\"Travel\",\"marker\":{\"color\":\"#B6E880\",\"symbol\":\"circle\"},\"mode\":\"markers\",\"name\":\"Travel\",\"orientation\":\"v\",\"showlegend\":true,\"x\":[\"Travel\"],\"xaxis\":\"x\",\"y\":[2020],\"yaxis\":\"y\",\"type\":\"scatter\"},{\"hovertemplate\":\"Genre=%{x}<br>Required_IOS_Version=7<br>No_of_Apps=%{y}<extra></extra>\",\"ids\":[1248],\"legendgroup\":\"Reference\",\"marker\":{\"color\":\"#FF97FF\",\"symbol\":\"circle\"},\"mode\":\"markers\",\"name\":\"Reference\",\"orientation\":\"v\",\"showlegend\":true,\"x\":[\"Reference\"],\"xaxis\":\"x\",\"y\":[1248],\"yaxis\":\"y\",\"type\":\"scatter\"},{\"hovertemplate\":\"Genre=%{x}<br>Required_IOS_Version=7<br>No_of_Apps=%{y}<extra></extra>\",\"ids\":[3615],\"legendgroup\":\"Business\",\"marker\":{\"color\":\"#FECB52\",\"symbol\":\"circle\"},\"mode\":\"markers\",\"name\":\"Business\",\"orientation\":\"v\",\"showlegend\":true,\"x\":[\"Business\"],\"xaxis\":\"x\",\"y\":[3615],\"yaxis\":\"y\",\"type\":\"scatter\"},{\"hovertemplate\":\"Genre=%{x}<br>Required_IOS_Version=7<br>No_of_Apps=%{y}<extra></extra>\",\"ids\":[1823],\"legendgroup\":\"Music\",\"marker\":{\"color\":\"#636efa\",\"symbol\":\"circle\"},\"mode\":\"markers\",\"name\":\"Music\",\"orientation\":\"v\",\"showlegend\":true,\"x\":[\"Music\"],\"xaxis\":\"x\",\"y\":[1823],\"yaxis\":\"y\",\"type\":\"scatter\"},{\"hovertemplate\":\"Genre=%{x}<br>Required_IOS_Version=7<br>No_of_Apps=%{y}<extra></extra>\",\"ids\":[475],\"legendgroup\":\"Navigation\",\"marker\":{\"color\":\"#EF553B\",\"symbol\":\"circle\"},\"mode\":\"markers\",\"name\":\"Navigation\",\"orientation\":\"v\",\"showlegend\":true,\"x\":[\"Navigation\"],\"xaxis\":\"x\",\"y\":[475],\"yaxis\":\"y\",\"type\":\"scatter\"},{\"hovertemplate\":\"Genre=%{x}<br>Required_IOS_Version=7<br>No_of_Apps=%{y}<extra></extra>\",\"ids\":[3547],\"legendgroup\":\"Utilities\",\"marker\":{\"color\":\"#00cc96\",\"symbol\":\"circle\"},\"mode\":\"markers\",\"name\":\"Utilities\",\"orientation\":\"v\",\"showlegend\":true,\"x\":[\"Utilities\"],\"xaxis\":\"x\",\"y\":[3547],\"yaxis\":\"y\",\"type\":\"scatter\"},{\"hovertemplate\":\"Genre=%{x}<br>Required_IOS_Version=7<br>No_of_Apps=%{y}<extra></extra>\",\"ids\":[989],\"legendgroup\":\"Medical\",\"marker\":{\"color\":\"#ab63fa\",\"symbol\":\"circle\"},\"mode\":\"markers\",\"name\":\"Medical\",\"orientation\":\"v\",\"showlegend\":true,\"x\":[\"Medical\"],\"xaxis\":\"x\",\"y\":[989],\"yaxis\":\"y\",\"type\":\"scatter\"},{\"hovertemplate\":\"Genre=%{x}<br>Required_IOS_Version=7<br>No_of_Apps=%{y}<extra></extra>\",\"ids\":[18442],\"legendgroup\":\"Games\",\"marker\":{\"color\":\"#FFA15A\",\"symbol\":\"circle\"},\"mode\":\"markers\",\"name\":\"Games\",\"orientation\":\"v\",\"showlegend\":true,\"x\":[\"Games\"],\"xaxis\":\"x\",\"y\":[18442],\"yaxis\":\"y\",\"type\":\"scatter\"},{\"hovertemplate\":\"Genre=%{x}<br>Required_IOS_Version=7<br>No_of_Apps=%{y}<extra></extra>\",\"ids\":[985],\"legendgroup\":\"Finance\",\"marker\":{\"color\":\"#19d3f3\",\"symbol\":\"circle\"},\"mode\":\"markers\",\"name\":\"Finance\",\"orientation\":\"v\",\"showlegend\":true,\"x\":[\"Finance\"],\"xaxis\":\"x\",\"y\":[985],\"yaxis\":\"y\",\"type\":\"scatter\"},{\"hovertemplate\":\"Genre=%{x}<br>Required_IOS_Version=7<br>No_of_Apps=%{y}<extra></extra>\",\"ids\":[140],\"legendgroup\":\"Weather\",\"marker\":{\"color\":\"#FF6692\",\"symbol\":\"circle\"},\"mode\":\"markers\",\"name\":\"Weather\",\"orientation\":\"v\",\"showlegend\":true,\"x\":[\"Weather\"],\"xaxis\":\"x\",\"y\":[140],\"yaxis\":\"y\",\"type\":\"scatter\"},{\"hovertemplate\":\"Genre=%{x}<br>Required_IOS_Version=7<br>No_of_Apps=%{y}<extra></extra>\",\"ids\":[3554],\"legendgroup\":\"Lifestyle\",\"marker\":{\"color\":\"#B6E880\",\"symbol\":\"circle\"},\"mode\":\"markers\",\"name\":\"Lifestyle\",\"orientation\":\"v\",\"showlegend\":true,\"x\":[\"Lifestyle\"],\"xaxis\":\"x\",\"y\":[3554],\"yaxis\":\"y\",\"type\":\"scatter\"},{\"hovertemplate\":\"Genre=%{x}<br>Required_IOS_Version=7<br>No_of_Apps=%{y}<extra></extra>\",\"ids\":[1469],\"legendgroup\":\"Health & Fitness\",\"marker\":{\"color\":\"#FF97FF\",\"symbol\":\"circle\"},\"mode\":\"markers\",\"name\":\"Health & Fitness\",\"orientation\":\"v\",\"showlegend\":true,\"x\":[\"Health & Fitness\"],\"xaxis\":\"x\",\"y\":[1469],\"yaxis\":\"y\",\"type\":\"scatter\"},{\"hovertemplate\":\"Genre=%{x}<br>Required_IOS_Version=7<br>No_of_Apps=%{y}<extra></extra>\",\"ids\":[815],\"legendgroup\":\"News\",\"marker\":{\"color\":\"#FECB52\",\"symbol\":\"circle\"},\"mode\":\"markers\",\"name\":\"News\",\"orientation\":\"v\",\"showlegend\":true,\"x\":[\"News\"],\"xaxis\":\"x\",\"y\":[815],\"yaxis\":\"y\",\"type\":\"scatter\"},{\"hovertemplate\":\"Genre=%{x}<br>Required_IOS_Version=7<br>No_of_Apps=%{y}<extra></extra>\",\"ids\":[1885],\"legendgroup\":\"Food & Drink\",\"marker\":{\"color\":\"#636efa\",\"symbol\":\"circle\"},\"mode\":\"markers\",\"name\":\"Food & Drink\",\"orientation\":\"v\",\"showlegend\":true,\"x\":[\"Food & Drink\"],\"xaxis\":\"x\",\"y\":[1885],\"yaxis\":\"y\",\"type\":\"scatter\"},{\"hovertemplate\":\"Genre=%{x}<br>Required_IOS_Version=7<br>No_of_Apps=%{y}<extra></extra>\",\"ids\":[876],\"legendgroup\":\"Shopping\",\"marker\":{\"color\":\"#EF553B\",\"symbol\":\"circle\"},\"mode\":\"markers\",\"name\":\"Shopping\",\"orientation\":\"v\",\"showlegend\":true,\"x\":[\"Shopping\"],\"xaxis\":\"x\",\"y\":[876],\"yaxis\":\"y\",\"type\":\"scatter\"},{\"hovertemplate\":\"Genre=%{x}<br>Required_IOS_Version=7<br>No_of_Apps=%{y}<extra></extra>\",\"ids\":[31],\"legendgroup\":\"Magazines & Newspapers\",\"marker\":{\"color\":\"#00cc96\",\"symbol\":\"circle\"},\"mode\":\"markers\",\"name\":\"Magazines & Newspapers\",\"orientation\":\"v\",\"showlegend\":true,\"x\":[\"Magazines & Newspapers\"],\"xaxis\":\"x\",\"y\":[31],\"yaxis\":\"y\",\"type\":\"scatter\"}],\"name\":\"7\"},{\"data\":[{\"hovertemplate\":\"Genre=%{x}<br>Required_IOS_Version=8<br>No_of_Apps=%{y}<extra></extra>\",\"ids\":[2229],\"legendgroup\":\"Book\",\"marker\":{\"color\":\"#636efa\",\"symbol\":\"circle\"},\"mode\":\"markers\",\"name\":\"Book\",\"orientation\":\"v\",\"showlegend\":true,\"x\":[\"Book\"],\"xaxis\":\"x\",\"y\":[2229],\"yaxis\":\"y\",\"type\":\"scatter\"},{\"hovertemplate\":\"Genre=%{x}<br>Required_IOS_Version=8<br>No_of_Apps=%{y}<extra></extra>\",\"ids\":[19049],\"legendgroup\":\"Education\",\"marker\":{\"color\":\"#EF553B\",\"symbol\":\"circle\"},\"mode\":\"markers\",\"name\":\"Education\",\"orientation\":\"v\",\"showlegend\":true,\"x\":[\"Education\"],\"xaxis\":\"x\",\"y\":[19049],\"yaxis\":\"y\",\"type\":\"scatter\"},{\"hovertemplate\":\"Genre=%{x}<br>Required_IOS_Version=8<br>No_of_Apps=%{y}<extra></extra>\",\"ids\":[2066],\"legendgroup\":\"Social Networking\",\"marker\":{\"color\":\"#00cc96\",\"symbol\":\"circle\"},\"mode\":\"markers\",\"name\":\"Social Networking\",\"orientation\":\"v\",\"showlegend\":true,\"x\":[\"Social Networking\"],\"xaxis\":\"x\",\"y\":[2066],\"yaxis\":\"y\",\"type\":\"scatter\"},{\"hovertemplate\":\"Genre=%{x}<br>Required_IOS_Version=8<br>No_of_Apps=%{y}<extra></extra>\",\"ids\":[6436],\"legendgroup\":\"Productivity\",\"marker\":{\"color\":\"#ab63fa\",\"symbol\":\"circle\"},\"mode\":\"markers\",\"name\":\"Productivity\",\"orientation\":\"v\",\"showlegend\":true,\"x\":[\"Productivity\"],\"xaxis\":\"x\",\"y\":[6436],\"yaxis\":\"y\",\"type\":\"scatter\"},{\"hovertemplate\":\"Genre=%{x}<br>Required_IOS_Version=8<br>No_of_Apps=%{y}<extra></extra>\",\"ids\":[4752],\"legendgroup\":\"Photo & Video\",\"marker\":{\"color\":\"#FFA15A\",\"symbol\":\"circle\"},\"mode\":\"markers\",\"name\":\"Photo & Video\",\"orientation\":\"v\",\"showlegend\":true,\"x\":[\"Photo & Video\"],\"xaxis\":\"x\",\"y\":[4752],\"yaxis\":\"y\",\"type\":\"scatter\"},{\"hovertemplate\":\"Genre=%{x}<br>Required_IOS_Version=8<br>No_of_Apps=%{y}<extra></extra>\",\"ids\":[4006],\"legendgroup\":\"Sports\",\"marker\":{\"color\":\"#19d3f3\",\"symbol\":\"circle\"},\"mode\":\"markers\",\"name\":\"Sports\",\"orientation\":\"v\",\"showlegend\":true,\"x\":[\"Sports\"],\"xaxis\":\"x\",\"y\":[4006],\"yaxis\":\"y\",\"type\":\"scatter\"},{\"hovertemplate\":\"Genre=%{x}<br>Required_IOS_Version=8<br>No_of_Apps=%{y}<extra></extra>\",\"ids\":[7877],\"legendgroup\":\"Entertainment\",\"marker\":{\"color\":\"#FF6692\",\"symbol\":\"circle\"},\"mode\":\"markers\",\"name\":\"Entertainment\",\"orientation\":\"v\",\"showlegend\":true,\"x\":[\"Entertainment\"],\"xaxis\":\"x\",\"y\":[7877],\"yaxis\":\"y\",\"type\":\"scatter\"},{\"hovertemplate\":\"Genre=%{x}<br>Required_IOS_Version=8<br>No_of_Apps=%{y}<extra></extra>\",\"ids\":[6416],\"legendgroup\":\"Travel\",\"marker\":{\"color\":\"#B6E880\",\"symbol\":\"circle\"},\"mode\":\"markers\",\"name\":\"Travel\",\"orientation\":\"v\",\"showlegend\":true,\"x\":[\"Travel\"],\"xaxis\":\"x\",\"y\":[6416],\"yaxis\":\"y\",\"type\":\"scatter\"},{\"hovertemplate\":\"Genre=%{x}<br>Required_IOS_Version=8<br>No_of_Apps=%{y}<extra></extra>\",\"ids\":[3076],\"legendgroup\":\"Reference\",\"marker\":{\"color\":\"#FF97FF\",\"symbol\":\"circle\"},\"mode\":\"markers\",\"name\":\"Reference\",\"orientation\":\"v\",\"showlegend\":true,\"x\":[\"Reference\"],\"xaxis\":\"x\",\"y\":[3076],\"yaxis\":\"y\",\"type\":\"scatter\"},{\"hovertemplate\":\"Genre=%{x}<br>Required_IOS_Version=8<br>No_of_Apps=%{y}<extra></extra>\",\"ids\":[14883],\"legendgroup\":\"Business\",\"marker\":{\"color\":\"#FECB52\",\"symbol\":\"circle\"},\"mode\":\"markers\",\"name\":\"Business\",\"orientation\":\"v\",\"showlegend\":true,\"x\":[\"Business\"],\"xaxis\":\"x\",\"y\":[14883],\"yaxis\":\"y\",\"type\":\"scatter\"},{\"hovertemplate\":\"Genre=%{x}<br>Required_IOS_Version=8<br>No_of_Apps=%{y}<extra></extra>\",\"ids\":[4897],\"legendgroup\":\"Music\",\"marker\":{\"color\":\"#636efa\",\"symbol\":\"circle\"},\"mode\":\"markers\",\"name\":\"Music\",\"orientation\":\"v\",\"showlegend\":true,\"x\":[\"Music\"],\"xaxis\":\"x\",\"y\":[4897],\"yaxis\":\"y\",\"type\":\"scatter\"},{\"hovertemplate\":\"Genre=%{x}<br>Required_IOS_Version=8<br>No_of_Apps=%{y}<extra></extra>\",\"ids\":[1850],\"legendgroup\":\"Navigation\",\"marker\":{\"color\":\"#EF553B\",\"symbol\":\"circle\"},\"mode\":\"markers\",\"name\":\"Navigation\",\"orientation\":\"v\",\"showlegend\":true,\"x\":[\"Navigation\"],\"xaxis\":\"x\",\"y\":[1850],\"yaxis\":\"y\",\"type\":\"scatter\"},{\"hovertemplate\":\"Genre=%{x}<br>Required_IOS_Version=8<br>No_of_Apps=%{y}<extra></extra>\",\"ids\":[13578],\"legendgroup\":\"Utilities\",\"marker\":{\"color\":\"#00cc96\",\"symbol\":\"circle\"},\"mode\":\"markers\",\"name\":\"Utilities\",\"orientation\":\"v\",\"showlegend\":true,\"x\":[\"Utilities\"],\"xaxis\":\"x\",\"y\":[13578],\"yaxis\":\"y\",\"type\":\"scatter\"},{\"hovertemplate\":\"Genre=%{x}<br>Required_IOS_Version=8<br>No_of_Apps=%{y}<extra></extra>\",\"ids\":[3556],\"legendgroup\":\"Medical\",\"marker\":{\"color\":\"#ab63fa\",\"symbol\":\"circle\"},\"mode\":\"markers\",\"name\":\"Medical\",\"orientation\":\"v\",\"showlegend\":true,\"x\":[\"Medical\"],\"xaxis\":\"x\",\"y\":[3556],\"yaxis\":\"y\",\"type\":\"scatter\"},{\"hovertemplate\":\"Genre=%{x}<br>Required_IOS_Version=8<br>No_of_Apps=%{y}<extra></extra>\",\"ids\":[35518],\"legendgroup\":\"Games\",\"marker\":{\"color\":\"#FFA15A\",\"symbol\":\"circle\"},\"mode\":\"markers\",\"name\":\"Games\",\"orientation\":\"v\",\"showlegend\":true,\"x\":[\"Games\"],\"xaxis\":\"x\",\"y\":[35518],\"yaxis\":\"y\",\"type\":\"scatter\"},{\"hovertemplate\":\"Genre=%{x}<br>Required_IOS_Version=8<br>No_of_Apps=%{y}<extra></extra>\",\"ids\":[3786],\"legendgroup\":\"Finance\",\"marker\":{\"color\":\"#19d3f3\",\"symbol\":\"circle\"},\"mode\":\"markers\",\"name\":\"Finance\",\"orientation\":\"v\",\"showlegend\":true,\"x\":[\"Finance\"],\"xaxis\":\"x\",\"y\":[3786],\"yaxis\":\"y\",\"type\":\"scatter\"},{\"hovertemplate\":\"Genre=%{x}<br>Required_IOS_Version=8<br>No_of_Apps=%{y}<extra></extra>\",\"ids\":[409],\"legendgroup\":\"Weather\",\"marker\":{\"color\":\"#FF6692\",\"symbol\":\"circle\"},\"mode\":\"markers\",\"name\":\"Weather\",\"orientation\":\"v\",\"showlegend\":true,\"x\":[\"Weather\"],\"xaxis\":\"x\",\"y\":[409],\"yaxis\":\"y\",\"type\":\"scatter\"},{\"hovertemplate\":\"Genre=%{x}<br>Required_IOS_Version=8<br>No_of_Apps=%{y}<extra></extra>\",\"ids\":[11382],\"legendgroup\":\"Lifestyle\",\"marker\":{\"color\":\"#B6E880\",\"symbol\":\"circle\"},\"mode\":\"markers\",\"name\":\"Lifestyle\",\"orientation\":\"v\",\"showlegend\":true,\"x\":[\"Lifestyle\"],\"xaxis\":\"x\",\"y\":[11382],\"yaxis\":\"y\",\"type\":\"scatter\"},{\"hovertemplate\":\"Genre=%{x}<br>Required_IOS_Version=8<br>No_of_Apps=%{y}<extra></extra>\",\"ids\":[5996],\"legendgroup\":\"Health & Fitness\",\"marker\":{\"color\":\"#FF97FF\",\"symbol\":\"circle\"},\"mode\":\"markers\",\"name\":\"Health & Fitness\",\"orientation\":\"v\",\"showlegend\":true,\"x\":[\"Health & Fitness\"],\"xaxis\":\"x\",\"y\":[5996],\"yaxis\":\"y\",\"type\":\"scatter\"},{\"hovertemplate\":\"Genre=%{x}<br>Required_IOS_Version=8<br>No_of_Apps=%{y}<extra></extra>\",\"ids\":[2198],\"legendgroup\":\"News\",\"marker\":{\"color\":\"#FECB52\",\"symbol\":\"circle\"},\"mode\":\"markers\",\"name\":\"News\",\"orientation\":\"v\",\"showlegend\":true,\"x\":[\"News\"],\"xaxis\":\"x\",\"y\":[2198],\"yaxis\":\"y\",\"type\":\"scatter\"},{\"hovertemplate\":\"Genre=%{x}<br>Required_IOS_Version=8<br>No_of_Apps=%{y}<extra></extra>\",\"ids\":[7947],\"legendgroup\":\"Food & Drink\",\"marker\":{\"color\":\"#636efa\",\"symbol\":\"circle\"},\"mode\":\"markers\",\"name\":\"Food & Drink\",\"orientation\":\"v\",\"showlegend\":true,\"x\":[\"Food & Drink\"],\"xaxis\":\"x\",\"y\":[7947],\"yaxis\":\"y\",\"type\":\"scatter\"},{\"hovertemplate\":\"Genre=%{x}<br>Required_IOS_Version=8<br>No_of_Apps=%{y}<extra></extra>\",\"ids\":[3619],\"legendgroup\":\"Shopping\",\"marker\":{\"color\":\"#EF553B\",\"symbol\":\"circle\"},\"mode\":\"markers\",\"name\":\"Shopping\",\"orientation\":\"v\",\"showlegend\":true,\"x\":[\"Shopping\"],\"xaxis\":\"x\",\"y\":[3619],\"yaxis\":\"y\",\"type\":\"scatter\"},{\"hovertemplate\":\"Genre=%{x}<br>Required_IOS_Version=8<br>No_of_Apps=%{y}<extra></extra>\",\"ids\":[104],\"legendgroup\":\"Magazines & Newspapers\",\"marker\":{\"color\":\"#00cc96\",\"symbol\":\"circle\"},\"mode\":\"markers\",\"name\":\"Magazines & Newspapers\",\"orientation\":\"v\",\"showlegend\":true,\"x\":[\"Magazines & Newspapers\"],\"xaxis\":\"x\",\"y\":[104],\"yaxis\":\"y\",\"type\":\"scatter\"},{\"hovertemplate\":\"Genre=%{x}<br>Required_IOS_Version=8<br>No_of_Apps=%{y}<extra></extra>\",\"ids\":[16],\"legendgroup\":\"Graphics & Design\",\"marker\":{\"color\":\"#ab63fa\",\"symbol\":\"circle\"},\"mode\":\"markers\",\"name\":\"Graphics & Design\",\"orientation\":\"v\",\"showlegend\":true,\"x\":[\"Graphics & Design\"],\"xaxis\":\"x\",\"y\":[16],\"yaxis\":\"y\",\"type\":\"scatter\"},{\"hovertemplate\":\"Genre=%{x}<br>Required_IOS_Version=8<br>No_of_Apps=%{y}<extra></extra>\",\"ids\":[28],\"legendgroup\":\"Developer Tools\",\"marker\":{\"color\":\"#FFA15A\",\"symbol\":\"circle\"},\"mode\":\"markers\",\"name\":\"Developer Tools\",\"orientation\":\"v\",\"showlegend\":true,\"x\":[\"Developer Tools\"],\"xaxis\":\"x\",\"y\":[28],\"yaxis\":\"y\",\"type\":\"scatter\"}],\"name\":\"8\"},{\"data\":[{\"hovertemplate\":\"Genre=%{x}<br>Required_IOS_Version=9<br>No_of_Apps=%{y}<extra></extra>\",\"ids\":[2188],\"legendgroup\":\"Book\",\"marker\":{\"color\":\"#636efa\",\"symbol\":\"circle\"},\"mode\":\"markers\",\"name\":\"Book\",\"orientation\":\"v\",\"showlegend\":true,\"x\":[\"Book\"],\"xaxis\":\"x\",\"y\":[2188],\"yaxis\":\"y\",\"type\":\"scatter\"},{\"hovertemplate\":\"Genre=%{x}<br>Required_IOS_Version=9<br>No_of_Apps=%{y}<extra></extra>\",\"ids\":[24200],\"legendgroup\":\"Education\",\"marker\":{\"color\":\"#EF553B\",\"symbol\":\"circle\"},\"mode\":\"markers\",\"name\":\"Education\",\"orientation\":\"v\",\"showlegend\":true,\"x\":[\"Education\"],\"xaxis\":\"x\",\"y\":[24200],\"yaxis\":\"y\",\"type\":\"scatter\"},{\"hovertemplate\":\"Genre=%{x}<br>Required_IOS_Version=9<br>No_of_Apps=%{y}<extra></extra>\",\"ids\":[4714],\"legendgroup\":\"Social Networking\",\"marker\":{\"color\":\"#00cc96\",\"symbol\":\"circle\"},\"mode\":\"markers\",\"name\":\"Social Networking\",\"orientation\":\"v\",\"showlegend\":true,\"x\":[\"Social Networking\"],\"xaxis\":\"x\",\"y\":[4714],\"yaxis\":\"y\",\"type\":\"scatter\"},{\"hovertemplate\":\"Genre=%{x}<br>Required_IOS_Version=9<br>No_of_Apps=%{y}<extra></extra>\",\"ids\":[10619],\"legendgroup\":\"Productivity\",\"marker\":{\"color\":\"#ab63fa\",\"symbol\":\"circle\"},\"mode\":\"markers\",\"name\":\"Productivity\",\"orientation\":\"v\",\"showlegend\":true,\"x\":[\"Productivity\"],\"xaxis\":\"x\",\"y\":[10619],\"yaxis\":\"y\",\"type\":\"scatter\"},{\"hovertemplate\":\"Genre=%{x}<br>Required_IOS_Version=9<br>No_of_Apps=%{y}<extra></extra>\",\"ids\":[4129],\"legendgroup\":\"Photo & Video\",\"marker\":{\"color\":\"#FFA15A\",\"symbol\":\"circle\"},\"mode\":\"markers\",\"name\":\"Photo & Video\",\"orientation\":\"v\",\"showlegend\":true,\"x\":[\"Photo & Video\"],\"xaxis\":\"x\",\"y\":[4129],\"yaxis\":\"y\",\"type\":\"scatter\"},{\"hovertemplate\":\"Genre=%{x}<br>Required_IOS_Version=9<br>No_of_Apps=%{y}<extra></extra>\",\"ids\":[5529],\"legendgroup\":\"Sports\",\"marker\":{\"color\":\"#19d3f3\",\"symbol\":\"circle\"},\"mode\":\"markers\",\"name\":\"Sports\",\"orientation\":\"v\",\"showlegend\":true,\"x\":[\"Sports\"],\"xaxis\":\"x\",\"y\":[5529],\"yaxis\":\"y\",\"type\":\"scatter\"},{\"hovertemplate\":\"Genre=%{x}<br>Required_IOS_Version=9<br>No_of_Apps=%{y}<extra></extra>\",\"ids\":[9610],\"legendgroup\":\"Entertainment\",\"marker\":{\"color\":\"#FF6692\",\"symbol\":\"circle\"},\"mode\":\"markers\",\"name\":\"Entertainment\",\"orientation\":\"v\",\"showlegend\":true,\"x\":[\"Entertainment\"],\"xaxis\":\"x\",\"y\":[9610],\"yaxis\":\"y\",\"type\":\"scatter\"},{\"hovertemplate\":\"Genre=%{x}<br>Required_IOS_Version=9<br>No_of_Apps=%{y}<extra></extra>\",\"ids\":[8778],\"legendgroup\":\"Travel\",\"marker\":{\"color\":\"#B6E880\",\"symbol\":\"circle\"},\"mode\":\"markers\",\"name\":\"Travel\",\"orientation\":\"v\",\"showlegend\":true,\"x\":[\"Travel\"],\"xaxis\":\"x\",\"y\":[8778],\"yaxis\":\"y\",\"type\":\"scatter\"},{\"hovertemplate\":\"Genre=%{x}<br>Required_IOS_Version=9<br>No_of_Apps=%{y}<extra></extra>\",\"ids\":[3924],\"legendgroup\":\"Reference\",\"marker\":{\"color\":\"#FF97FF\",\"symbol\":\"circle\"},\"mode\":\"markers\",\"name\":\"Reference\",\"orientation\":\"v\",\"showlegend\":true,\"x\":[\"Reference\"],\"xaxis\":\"x\",\"y\":[3924],\"yaxis\":\"y\",\"type\":\"scatter\"},{\"hovertemplate\":\"Genre=%{x}<br>Required_IOS_Version=9<br>No_of_Apps=%{y}<extra></extra>\",\"ids\":[28066],\"legendgroup\":\"Business\",\"marker\":{\"color\":\"#FECB52\",\"symbol\":\"circle\"},\"mode\":\"markers\",\"name\":\"Business\",\"orientation\":\"v\",\"showlegend\":true,\"x\":[\"Business\"],\"xaxis\":\"x\",\"y\":[28066],\"yaxis\":\"y\",\"type\":\"scatter\"},{\"hovertemplate\":\"Genre=%{x}<br>Required_IOS_Version=9<br>No_of_Apps=%{y}<extra></extra>\",\"ids\":[5177],\"legendgroup\":\"Music\",\"marker\":{\"color\":\"#636efa\",\"symbol\":\"circle\"},\"mode\":\"markers\",\"name\":\"Music\",\"orientation\":\"v\",\"showlegend\":true,\"x\":[\"Music\"],\"xaxis\":\"x\",\"y\":[5177],\"yaxis\":\"y\",\"type\":\"scatter\"},{\"hovertemplate\":\"Genre=%{x}<br>Required_IOS_Version=9<br>No_of_Apps=%{y}<extra></extra>\",\"ids\":[2354],\"legendgroup\":\"Navigation\",\"marker\":{\"color\":\"#EF553B\",\"symbol\":\"circle\"},\"mode\":\"markers\",\"name\":\"Navigation\",\"orientation\":\"v\",\"showlegend\":true,\"x\":[\"Navigation\"],\"xaxis\":\"x\",\"y\":[2354],\"yaxis\":\"y\",\"type\":\"scatter\"},{\"hovertemplate\":\"Genre=%{x}<br>Required_IOS_Version=9<br>No_of_Apps=%{y}<extra></extra>\",\"ids\":[18352],\"legendgroup\":\"Utilities\",\"marker\":{\"color\":\"#00cc96\",\"symbol\":\"circle\"},\"mode\":\"markers\",\"name\":\"Utilities\",\"orientation\":\"v\",\"showlegend\":true,\"x\":[\"Utilities\"],\"xaxis\":\"x\",\"y\":[18352],\"yaxis\":\"y\",\"type\":\"scatter\"},{\"hovertemplate\":\"Genre=%{x}<br>Required_IOS_Version=9<br>No_of_Apps=%{y}<extra></extra>\",\"ids\":[5511],\"legendgroup\":\"Medical\",\"marker\":{\"color\":\"#ab63fa\",\"symbol\":\"circle\"},\"mode\":\"markers\",\"name\":\"Medical\",\"orientation\":\"v\",\"showlegend\":true,\"x\":[\"Medical\"],\"xaxis\":\"x\",\"y\":[5511],\"yaxis\":\"y\",\"type\":\"scatter\"},{\"hovertemplate\":\"Genre=%{x}<br>Required_IOS_Version=9<br>No_of_Apps=%{y}<extra></extra>\",\"ids\":[33903],\"legendgroup\":\"Games\",\"marker\":{\"color\":\"#FFA15A\",\"symbol\":\"circle\"},\"mode\":\"markers\",\"name\":\"Games\",\"orientation\":\"v\",\"showlegend\":true,\"x\":[\"Games\"],\"xaxis\":\"x\",\"y\":[33903],\"yaxis\":\"y\",\"type\":\"scatter\"},{\"hovertemplate\":\"Genre=%{x}<br>Required_IOS_Version=9<br>No_of_Apps=%{y}<extra></extra>\",\"ids\":[7495],\"legendgroup\":\"Finance\",\"marker\":{\"color\":\"#19d3f3\",\"symbol\":\"circle\"},\"mode\":\"markers\",\"name\":\"Finance\",\"orientation\":\"v\",\"showlegend\":true,\"x\":[\"Finance\"],\"xaxis\":\"x\",\"y\":[7495],\"yaxis\":\"y\",\"type\":\"scatter\"},{\"hovertemplate\":\"Genre=%{x}<br>Required_IOS_Version=9<br>No_of_Apps=%{y}<extra></extra>\",\"ids\":[572],\"legendgroup\":\"Weather\",\"marker\":{\"color\":\"#FF6692\",\"symbol\":\"circle\"},\"mode\":\"markers\",\"name\":\"Weather\",\"orientation\":\"v\",\"showlegend\":true,\"x\":[\"Weather\"],\"xaxis\":\"x\",\"y\":[572],\"yaxis\":\"y\",\"type\":\"scatter\"},{\"hovertemplate\":\"Genre=%{x}<br>Required_IOS_Version=9<br>No_of_Apps=%{y}<extra></extra>\",\"ids\":[16288],\"legendgroup\":\"Lifestyle\",\"marker\":{\"color\":\"#B6E880\",\"symbol\":\"circle\"},\"mode\":\"markers\",\"name\":\"Lifestyle\",\"orientation\":\"v\",\"showlegend\":true,\"x\":[\"Lifestyle\"],\"xaxis\":\"x\",\"y\":[16288],\"yaxis\":\"y\",\"type\":\"scatter\"},{\"hovertemplate\":\"Genre=%{x}<br>Required_IOS_Version=9<br>No_of_Apps=%{y}<extra></extra>\",\"ids\":[11828],\"legendgroup\":\"Health & Fitness\",\"marker\":{\"color\":\"#FF97FF\",\"symbol\":\"circle\"},\"mode\":\"markers\",\"name\":\"Health & Fitness\",\"orientation\":\"v\",\"showlegend\":true,\"x\":[\"Health & Fitness\"],\"xaxis\":\"x\",\"y\":[11828],\"yaxis\":\"y\",\"type\":\"scatter\"},{\"hovertemplate\":\"Genre=%{x}<br>Required_IOS_Version=9<br>No_of_Apps=%{y}<extra></extra>\",\"ids\":[4513],\"legendgroup\":\"News\",\"marker\":{\"color\":\"#FECB52\",\"symbol\":\"circle\"},\"mode\":\"markers\",\"name\":\"News\",\"orientation\":\"v\",\"showlegend\":true,\"x\":[\"News\"],\"xaxis\":\"x\",\"y\":[4513],\"yaxis\":\"y\",\"type\":\"scatter\"},{\"hovertemplate\":\"Genre=%{x}<br>Required_IOS_Version=9<br>No_of_Apps=%{y}<extra></extra>\",\"ids\":[16795],\"legendgroup\":\"Food & Drink\",\"marker\":{\"color\":\"#636efa\",\"symbol\":\"circle\"},\"mode\":\"markers\",\"name\":\"Food & Drink\",\"orientation\":\"v\",\"showlegend\":true,\"x\":[\"Food & Drink\"],\"xaxis\":\"x\",\"y\":[16795],\"yaxis\":\"y\",\"type\":\"scatter\"},{\"hovertemplate\":\"Genre=%{x}<br>Required_IOS_Version=9<br>No_of_Apps=%{y}<extra></extra>\",\"ids\":[8296],\"legendgroup\":\"Shopping\",\"marker\":{\"color\":\"#EF553B\",\"symbol\":\"circle\"},\"mode\":\"markers\",\"name\":\"Shopping\",\"orientation\":\"v\",\"showlegend\":true,\"x\":[\"Shopping\"],\"xaxis\":\"x\",\"y\":[8296],\"yaxis\":\"y\",\"type\":\"scatter\"},{\"hovertemplate\":\"Genre=%{x}<br>Required_IOS_Version=9<br>No_of_Apps=%{y}<extra></extra>\",\"ids\":[325],\"legendgroup\":\"Magazines & Newspapers\",\"marker\":{\"color\":\"#00cc96\",\"symbol\":\"circle\"},\"mode\":\"markers\",\"name\":\"Magazines & Newspapers\",\"orientation\":\"v\",\"showlegend\":true,\"x\":[\"Magazines & Newspapers\"],\"xaxis\":\"x\",\"y\":[325],\"yaxis\":\"y\",\"type\":\"scatter\"},{\"hovertemplate\":\"Genre=%{x}<br>Required_IOS_Version=9<br>No_of_Apps=%{y}<extra></extra>\",\"ids\":[138],\"legendgroup\":\"Graphics & Design\",\"marker\":{\"color\":\"#ab63fa\",\"symbol\":\"circle\"},\"mode\":\"markers\",\"name\":\"Graphics & Design\",\"orientation\":\"v\",\"showlegend\":true,\"x\":[\"Graphics & Design\"],\"xaxis\":\"x\",\"y\":[138],\"yaxis\":\"y\",\"type\":\"scatter\"},{\"hovertemplate\":\"Genre=%{x}<br>Required_IOS_Version=9<br>No_of_Apps=%{y}<extra></extra>\",\"ids\":[68],\"legendgroup\":\"Developer Tools\",\"marker\":{\"color\":\"#FFA15A\",\"symbol\":\"circle\"},\"mode\":\"markers\",\"name\":\"Developer Tools\",\"orientation\":\"v\",\"showlegend\":true,\"x\":[\"Developer Tools\"],\"xaxis\":\"x\",\"y\":[68],\"yaxis\":\"y\",\"type\":\"scatter\"},{\"hovertemplate\":\"Genre=%{x}<br>Required_IOS_Version=9<br>No_of_Apps=%{y}<extra></extra>\",\"ids\":[4],\"legendgroup\":\"Stickers\",\"marker\":{\"color\":\"#19d3f3\",\"symbol\":\"circle\"},\"mode\":\"markers\",\"name\":\"Stickers\",\"orientation\":\"v\",\"showlegend\":true,\"x\":[\"Stickers\"],\"xaxis\":\"x\",\"y\":[4],\"yaxis\":\"y\",\"type\":\"scatter\"}],\"name\":\"9\"},{\"data\":[{\"hovertemplate\":\"Genre=%{x}<br>Required_IOS_Version=10<br>No_of_Apps=%{y}<extra></extra>\",\"ids\":[1460],\"legendgroup\":\"Book\",\"marker\":{\"color\":\"#636efa\",\"symbol\":\"circle\"},\"mode\":\"markers\",\"name\":\"Book\",\"orientation\":\"v\",\"showlegend\":true,\"x\":[\"Book\"],\"xaxis\":\"x\",\"y\":[1460],\"yaxis\":\"y\",\"type\":\"scatter\"},{\"hovertemplate\":\"Genre=%{x}<br>Required_IOS_Version=10<br>No_of_Apps=%{y}<extra></extra>\",\"ids\":[19346],\"legendgroup\":\"Education\",\"marker\":{\"color\":\"#EF553B\",\"symbol\":\"circle\"},\"mode\":\"markers\",\"name\":\"Education\",\"orientation\":\"v\",\"showlegend\":true,\"x\":[\"Education\"],\"xaxis\":\"x\",\"y\":[19346],\"yaxis\":\"y\",\"type\":\"scatter\"},{\"hovertemplate\":\"Genre=%{x}<br>Required_IOS_Version=10<br>No_of_Apps=%{y}<extra></extra>\",\"ids\":[5311],\"legendgroup\":\"Social Networking\",\"marker\":{\"color\":\"#00cc96\",\"symbol\":\"circle\"},\"mode\":\"markers\",\"name\":\"Social Networking\",\"orientation\":\"v\",\"showlegend\":true,\"x\":[\"Social Networking\"],\"xaxis\":\"x\",\"y\":[5311],\"yaxis\":\"y\",\"type\":\"scatter\"},{\"hovertemplate\":\"Genre=%{x}<br>Required_IOS_Version=10<br>No_of_Apps=%{y}<extra></extra>\",\"ids\":[12611],\"legendgroup\":\"Productivity\",\"marker\":{\"color\":\"#ab63fa\",\"symbol\":\"circle\"},\"mode\":\"markers\",\"name\":\"Productivity\",\"orientation\":\"v\",\"showlegend\":true,\"x\":[\"Productivity\"],\"xaxis\":\"x\",\"y\":[12611],\"yaxis\":\"y\",\"type\":\"scatter\"},{\"hovertemplate\":\"Genre=%{x}<br>Required_IOS_Version=10<br>No_of_Apps=%{y}<extra></extra>\",\"ids\":[4697],\"legendgroup\":\"Photo & Video\",\"marker\":{\"color\":\"#FFA15A\",\"symbol\":\"circle\"},\"mode\":\"markers\",\"name\":\"Photo & Video\",\"orientation\":\"v\",\"showlegend\":true,\"x\":[\"Photo & Video\"],\"xaxis\":\"x\",\"y\":[4697],\"yaxis\":\"y\",\"type\":\"scatter\"},{\"hovertemplate\":\"Genre=%{x}<br>Required_IOS_Version=10<br>No_of_Apps=%{y}<extra></extra>\",\"ids\":[5369],\"legendgroup\":\"Sports\",\"marker\":{\"color\":\"#19d3f3\",\"symbol\":\"circle\"},\"mode\":\"markers\",\"name\":\"Sports\",\"orientation\":\"v\",\"showlegend\":true,\"x\":[\"Sports\"],\"xaxis\":\"x\",\"y\":[5369],\"yaxis\":\"y\",\"type\":\"scatter\"},{\"hovertemplate\":\"Genre=%{x}<br>Required_IOS_Version=10<br>No_of_Apps=%{y}<extra></extra>\",\"ids\":[8935],\"legendgroup\":\"Entertainment\",\"marker\":{\"color\":\"#FF6692\",\"symbol\":\"circle\"},\"mode\":\"markers\",\"name\":\"Entertainment\",\"orientation\":\"v\",\"showlegend\":true,\"x\":[\"Entertainment\"],\"xaxis\":\"x\",\"y\":[8935],\"yaxis\":\"y\",\"type\":\"scatter\"},{\"hovertemplate\":\"Genre=%{x}<br>Required_IOS_Version=10<br>No_of_Apps=%{y}<extra></extra>\",\"ids\":[7586],\"legendgroup\":\"Travel\",\"marker\":{\"color\":\"#B6E880\",\"symbol\":\"circle\"},\"mode\":\"markers\",\"name\":\"Travel\",\"orientation\":\"v\",\"showlegend\":true,\"x\":[\"Travel\"],\"xaxis\":\"x\",\"y\":[7586],\"yaxis\":\"y\",\"type\":\"scatter\"},{\"hovertemplate\":\"Genre=%{x}<br>Required_IOS_Version=10<br>No_of_Apps=%{y}<extra></extra>\",\"ids\":[3124],\"legendgroup\":\"Reference\",\"marker\":{\"color\":\"#FF97FF\",\"symbol\":\"circle\"},\"mode\":\"markers\",\"name\":\"Reference\",\"orientation\":\"v\",\"showlegend\":true,\"x\":[\"Reference\"],\"xaxis\":\"x\",\"y\":[3124],\"yaxis\":\"y\",\"type\":\"scatter\"},{\"hovertemplate\":\"Genre=%{x}<br>Required_IOS_Version=10<br>No_of_Apps=%{y}<extra></extra>\",\"ids\":[24279],\"legendgroup\":\"Business\",\"marker\":{\"color\":\"#FECB52\",\"symbol\":\"circle\"},\"mode\":\"markers\",\"name\":\"Business\",\"orientation\":\"v\",\"showlegend\":true,\"x\":[\"Business\"],\"xaxis\":\"x\",\"y\":[24279],\"yaxis\":\"y\",\"type\":\"scatter\"},{\"hovertemplate\":\"Genre=%{x}<br>Required_IOS_Version=10<br>No_of_Apps=%{y}<extra></extra>\",\"ids\":[6770],\"legendgroup\":\"Music\",\"marker\":{\"color\":\"#636efa\",\"symbol\":\"circle\"},\"mode\":\"markers\",\"name\":\"Music\",\"orientation\":\"v\",\"showlegend\":true,\"x\":[\"Music\"],\"xaxis\":\"x\",\"y\":[6770],\"yaxis\":\"y\",\"type\":\"scatter\"},{\"hovertemplate\":\"Genre=%{x}<br>Required_IOS_Version=10<br>No_of_Apps=%{y}<extra></extra>\",\"ids\":[2230],\"legendgroup\":\"Navigation\",\"marker\":{\"color\":\"#EF553B\",\"symbol\":\"circle\"},\"mode\":\"markers\",\"name\":\"Navigation\",\"orientation\":\"v\",\"showlegend\":true,\"x\":[\"Navigation\"],\"xaxis\":\"x\",\"y\":[2230],\"yaxis\":\"y\",\"type\":\"scatter\"},{\"hovertemplate\":\"Genre=%{x}<br>Required_IOS_Version=10<br>No_of_Apps=%{y}<extra></extra>\",\"ids\":[19523],\"legendgroup\":\"Utilities\",\"marker\":{\"color\":\"#00cc96\",\"symbol\":\"circle\"},\"mode\":\"markers\",\"name\":\"Utilities\",\"orientation\":\"v\",\"showlegend\":true,\"x\":[\"Utilities\"],\"xaxis\":\"x\",\"y\":[19523],\"yaxis\":\"y\",\"type\":\"scatter\"},{\"hovertemplate\":\"Genre=%{x}<br>Required_IOS_Version=10<br>No_of_Apps=%{y}<extra></extra>\",\"ids\":[4849],\"legendgroup\":\"Medical\",\"marker\":{\"color\":\"#ab63fa\",\"symbol\":\"circle\"},\"mode\":\"markers\",\"name\":\"Medical\",\"orientation\":\"v\",\"showlegend\":true,\"x\":[\"Medical\"],\"xaxis\":\"x\",\"y\":[4849],\"yaxis\":\"y\",\"type\":\"scatter\"},{\"hovertemplate\":\"Genre=%{x}<br>Required_IOS_Version=10<br>No_of_Apps=%{y}<extra></extra>\",\"ids\":[36686],\"legendgroup\":\"Games\",\"marker\":{\"color\":\"#FFA15A\",\"symbol\":\"circle\"},\"mode\":\"markers\",\"name\":\"Games\",\"orientation\":\"v\",\"showlegend\":true,\"x\":[\"Games\"],\"xaxis\":\"x\",\"y\":[36686],\"yaxis\":\"y\",\"type\":\"scatter\"},{\"hovertemplate\":\"Genre=%{x}<br>Required_IOS_Version=10<br>No_of_Apps=%{y}<extra></extra>\",\"ids\":[8254],\"legendgroup\":\"Finance\",\"marker\":{\"color\":\"#19d3f3\",\"symbol\":\"circle\"},\"mode\":\"markers\",\"name\":\"Finance\",\"orientation\":\"v\",\"showlegend\":true,\"x\":[\"Finance\"],\"xaxis\":\"x\",\"y\":[8254],\"yaxis\":\"y\",\"type\":\"scatter\"},{\"hovertemplate\":\"Genre=%{x}<br>Required_IOS_Version=10<br>No_of_Apps=%{y}<extra></extra>\",\"ids\":[553],\"legendgroup\":\"Weather\",\"marker\":{\"color\":\"#FF6692\",\"symbol\":\"circle\"},\"mode\":\"markers\",\"name\":\"Weather\",\"orientation\":\"v\",\"showlegend\":true,\"x\":[\"Weather\"],\"xaxis\":\"x\",\"y\":[553],\"yaxis\":\"y\",\"type\":\"scatter\"},{\"hovertemplate\":\"Genre=%{x}<br>Required_IOS_Version=10<br>No_of_Apps=%{y}<extra></extra>\",\"ids\":[15787],\"legendgroup\":\"Lifestyle\",\"marker\":{\"color\":\"#B6E880\",\"symbol\":\"circle\"},\"mode\":\"markers\",\"name\":\"Lifestyle\",\"orientation\":\"v\",\"showlegend\":true,\"x\":[\"Lifestyle\"],\"xaxis\":\"x\",\"y\":[15787],\"yaxis\":\"y\",\"type\":\"scatter\"},{\"hovertemplate\":\"Genre=%{x}<br>Required_IOS_Version=10<br>No_of_Apps=%{y}<extra></extra>\",\"ids\":[11312],\"legendgroup\":\"Health & Fitness\",\"marker\":{\"color\":\"#FF97FF\",\"symbol\":\"circle\"},\"mode\":\"markers\",\"name\":\"Health & Fitness\",\"orientation\":\"v\",\"showlegend\":true,\"x\":[\"Health & Fitness\"],\"xaxis\":\"x\",\"y\":[11312],\"yaxis\":\"y\",\"type\":\"scatter\"},{\"hovertemplate\":\"Genre=%{x}<br>Required_IOS_Version=10<br>No_of_Apps=%{y}<extra></extra>\",\"ids\":[4046],\"legendgroup\":\"News\",\"marker\":{\"color\":\"#FECB52\",\"symbol\":\"circle\"},\"mode\":\"markers\",\"name\":\"News\",\"orientation\":\"v\",\"showlegend\":true,\"x\":[\"News\"],\"xaxis\":\"x\",\"y\":[4046],\"yaxis\":\"y\",\"type\":\"scatter\"},{\"hovertemplate\":\"Genre=%{x}<br>Required_IOS_Version=10<br>No_of_Apps=%{y}<extra></extra>\",\"ids\":[17118],\"legendgroup\":\"Food & Drink\",\"marker\":{\"color\":\"#636efa\",\"symbol\":\"circle\"},\"mode\":\"markers\",\"name\":\"Food & Drink\",\"orientation\":\"v\",\"showlegend\":true,\"x\":[\"Food & Drink\"],\"xaxis\":\"x\",\"y\":[17118],\"yaxis\":\"y\",\"type\":\"scatter\"},{\"hovertemplate\":\"Genre=%{x}<br>Required_IOS_Version=10<br>No_of_Apps=%{y}<extra></extra>\",\"ids\":[9570],\"legendgroup\":\"Shopping\",\"marker\":{\"color\":\"#EF553B\",\"symbol\":\"circle\"},\"mode\":\"markers\",\"name\":\"Shopping\",\"orientation\":\"v\",\"showlegend\":true,\"x\":[\"Shopping\"],\"xaxis\":\"x\",\"y\":[9570],\"yaxis\":\"y\",\"type\":\"scatter\"},{\"hovertemplate\":\"Genre=%{x}<br>Required_IOS_Version=10<br>No_of_Apps=%{y}<extra></extra>\",\"ids\":[165],\"legendgroup\":\"Magazines & Newspapers\",\"marker\":{\"color\":\"#00cc96\",\"symbol\":\"circle\"},\"mode\":\"markers\",\"name\":\"Magazines & Newspapers\",\"orientation\":\"v\",\"showlegend\":true,\"x\":[\"Magazines & Newspapers\"],\"xaxis\":\"x\",\"y\":[165],\"yaxis\":\"y\",\"type\":\"scatter\"},{\"hovertemplate\":\"Genre=%{x}<br>Required_IOS_Version=10<br>No_of_Apps=%{y}<extra></extra>\",\"ids\":[1316],\"legendgroup\":\"Graphics & Design\",\"marker\":{\"color\":\"#ab63fa\",\"symbol\":\"circle\"},\"mode\":\"markers\",\"name\":\"Graphics & Design\",\"orientation\":\"v\",\"showlegend\":true,\"x\":[\"Graphics & Design\"],\"xaxis\":\"x\",\"y\":[1316],\"yaxis\":\"y\",\"type\":\"scatter\"},{\"hovertemplate\":\"Genre=%{x}<br>Required_IOS_Version=10<br>No_of_Apps=%{y}<extra></extra>\",\"ids\":[1112],\"legendgroup\":\"Developer Tools\",\"marker\":{\"color\":\"#FFA15A\",\"symbol\":\"circle\"},\"mode\":\"markers\",\"name\":\"Developer Tools\",\"orientation\":\"v\",\"showlegend\":true,\"x\":[\"Developer Tools\"],\"xaxis\":\"x\",\"y\":[1112],\"yaxis\":\"y\",\"type\":\"scatter\"},{\"hovertemplate\":\"Genre=%{x}<br>Required_IOS_Version=10<br>No_of_Apps=%{y}<extra></extra>\",\"ids\":[10976],\"legendgroup\":\"Stickers\",\"marker\":{\"color\":\"#19d3f3\",\"symbol\":\"circle\"},\"mode\":\"markers\",\"name\":\"Stickers\",\"orientation\":\"v\",\"showlegend\":true,\"x\":[\"Stickers\"],\"xaxis\":\"x\",\"y\":[10976],\"yaxis\":\"y\",\"type\":\"scatter\"}],\"name\":\"10\"},{\"data\":[{\"hovertemplate\":\"Genre=%{x}<br>Required_IOS_Version=11<br>No_of_Apps=%{y}<extra></extra>\",\"ids\":[1934],\"legendgroup\":\"Book\",\"marker\":{\"color\":\"#636efa\",\"symbol\":\"circle\"},\"mode\":\"markers\",\"name\":\"Book\",\"orientation\":\"v\",\"showlegend\":true,\"x\":[\"Book\"],\"xaxis\":\"x\",\"y\":[1934],\"yaxis\":\"y\",\"type\":\"scatter\"},{\"hovertemplate\":\"Genre=%{x}<br>Required_IOS_Version=11<br>No_of_Apps=%{y}<extra></extra>\",\"ids\":[21332],\"legendgroup\":\"Education\",\"marker\":{\"color\":\"#EF553B\",\"symbol\":\"circle\"},\"mode\":\"markers\",\"name\":\"Education\",\"orientation\":\"v\",\"showlegend\":true,\"x\":[\"Education\"],\"xaxis\":\"x\",\"y\":[21332],\"yaxis\":\"y\",\"type\":\"scatter\"},{\"hovertemplate\":\"Genre=%{x}<br>Required_IOS_Version=11<br>No_of_Apps=%{y}<extra></extra>\",\"ids\":[6051],\"legendgroup\":\"Social Networking\",\"marker\":{\"color\":\"#00cc96\",\"symbol\":\"circle\"},\"mode\":\"markers\",\"name\":\"Social Networking\",\"orientation\":\"v\",\"showlegend\":true,\"x\":[\"Social Networking\"],\"xaxis\":\"x\",\"y\":[6051],\"yaxis\":\"y\",\"type\":\"scatter\"},{\"hovertemplate\":\"Genre=%{x}<br>Required_IOS_Version=11<br>No_of_Apps=%{y}<extra></extra>\",\"ids\":[12104],\"legendgroup\":\"Productivity\",\"marker\":{\"color\":\"#ab63fa\",\"symbol\":\"circle\"},\"mode\":\"markers\",\"name\":\"Productivity\",\"orientation\":\"v\",\"showlegend\":true,\"x\":[\"Productivity\"],\"xaxis\":\"x\",\"y\":[12104],\"yaxis\":\"y\",\"type\":\"scatter\"},{\"hovertemplate\":\"Genre=%{x}<br>Required_IOS_Version=11<br>No_of_Apps=%{y}<extra></extra>\",\"ids\":[3523],\"legendgroup\":\"Photo & Video\",\"marker\":{\"color\":\"#FFA15A\",\"symbol\":\"circle\"},\"mode\":\"markers\",\"name\":\"Photo & Video\",\"orientation\":\"v\",\"showlegend\":true,\"x\":[\"Photo & Video\"],\"xaxis\":\"x\",\"y\":[3523],\"yaxis\":\"y\",\"type\":\"scatter\"},{\"hovertemplate\":\"Genre=%{x}<br>Required_IOS_Version=11<br>No_of_Apps=%{y}<extra></extra>\",\"ids\":[7542],\"legendgroup\":\"Sports\",\"marker\":{\"color\":\"#19d3f3\",\"symbol\":\"circle\"},\"mode\":\"markers\",\"name\":\"Sports\",\"orientation\":\"v\",\"showlegend\":true,\"x\":[\"Sports\"],\"xaxis\":\"x\",\"y\":[7542],\"yaxis\":\"y\",\"type\":\"scatter\"},{\"hovertemplate\":\"Genre=%{x}<br>Required_IOS_Version=11<br>No_of_Apps=%{y}<extra></extra>\",\"ids\":[9865],\"legendgroup\":\"Entertainment\",\"marker\":{\"color\":\"#FF6692\",\"symbol\":\"circle\"},\"mode\":\"markers\",\"name\":\"Entertainment\",\"orientation\":\"v\",\"showlegend\":true,\"x\":[\"Entertainment\"],\"xaxis\":\"x\",\"y\":[9865],\"yaxis\":\"y\",\"type\":\"scatter\"},{\"hovertemplate\":\"Genre=%{x}<br>Required_IOS_Version=11<br>No_of_Apps=%{y}<extra></extra>\",\"ids\":[9411],\"legendgroup\":\"Travel\",\"marker\":{\"color\":\"#B6E880\",\"symbol\":\"circle\"},\"mode\":\"markers\",\"name\":\"Travel\",\"orientation\":\"v\",\"showlegend\":true,\"x\":[\"Travel\"],\"xaxis\":\"x\",\"y\":[9411],\"yaxis\":\"y\",\"type\":\"scatter\"},{\"hovertemplate\":\"Genre=%{x}<br>Required_IOS_Version=11<br>No_of_Apps=%{y}<extra></extra>\",\"ids\":[2630],\"legendgroup\":\"Reference\",\"marker\":{\"color\":\"#FF97FF\",\"symbol\":\"circle\"},\"mode\":\"markers\",\"name\":\"Reference\",\"orientation\":\"v\",\"showlegend\":true,\"x\":[\"Reference\"],\"xaxis\":\"x\",\"y\":[2630],\"yaxis\":\"y\",\"type\":\"scatter\"},{\"hovertemplate\":\"Genre=%{x}<br>Required_IOS_Version=11<br>No_of_Apps=%{y}<extra></extra>\",\"ids\":[28897],\"legendgroup\":\"Business\",\"marker\":{\"color\":\"#FECB52\",\"symbol\":\"circle\"},\"mode\":\"markers\",\"name\":\"Business\",\"orientation\":\"v\",\"showlegend\":true,\"x\":[\"Business\"],\"xaxis\":\"x\",\"y\":[28897],\"yaxis\":\"y\",\"type\":\"scatter\"},{\"hovertemplate\":\"Genre=%{x}<br>Required_IOS_Version=11<br>No_of_Apps=%{y}<extra></extra>\",\"ids\":[4543],\"legendgroup\":\"Music\",\"marker\":{\"color\":\"#636efa\",\"symbol\":\"circle\"},\"mode\":\"markers\",\"name\":\"Music\",\"orientation\":\"v\",\"showlegend\":true,\"x\":[\"Music\"],\"xaxis\":\"x\",\"y\":[4543],\"yaxis\":\"y\",\"type\":\"scatter\"},{\"hovertemplate\":\"Genre=%{x}<br>Required_IOS_Version=11<br>No_of_Apps=%{y}<extra></extra>\",\"ids\":[2298],\"legendgroup\":\"Navigation\",\"marker\":{\"color\":\"#EF553B\",\"symbol\":\"circle\"},\"mode\":\"markers\",\"name\":\"Navigation\",\"orientation\":\"v\",\"showlegend\":true,\"x\":[\"Navigation\"],\"xaxis\":\"x\",\"y\":[2298],\"yaxis\":\"y\",\"type\":\"scatter\"},{\"hovertemplate\":\"Genre=%{x}<br>Required_IOS_Version=11<br>No_of_Apps=%{y}<extra></extra>\",\"ids\":[16512],\"legendgroup\":\"Utilities\",\"marker\":{\"color\":\"#00cc96\",\"symbol\":\"circle\"},\"mode\":\"markers\",\"name\":\"Utilities\",\"orientation\":\"v\",\"showlegend\":true,\"x\":[\"Utilities\"],\"xaxis\":\"x\",\"y\":[16512],\"yaxis\":\"y\",\"type\":\"scatter\"},{\"hovertemplate\":\"Genre=%{x}<br>Required_IOS_Version=11<br>No_of_Apps=%{y}<extra></extra>\",\"ids\":[6316],\"legendgroup\":\"Medical\",\"marker\":{\"color\":\"#ab63fa\",\"symbol\":\"circle\"},\"mode\":\"markers\",\"name\":\"Medical\",\"orientation\":\"v\",\"showlegend\":true,\"x\":[\"Medical\"],\"xaxis\":\"x\",\"y\":[6316],\"yaxis\":\"y\",\"type\":\"scatter\"},{\"hovertemplate\":\"Genre=%{x}<br>Required_IOS_Version=11<br>No_of_Apps=%{y}<extra></extra>\",\"ids\":[22164],\"legendgroup\":\"Games\",\"marker\":{\"color\":\"#FFA15A\",\"symbol\":\"circle\"},\"mode\":\"markers\",\"name\":\"Games\",\"orientation\":\"v\",\"showlegend\":true,\"x\":[\"Games\"],\"xaxis\":\"x\",\"y\":[22164],\"yaxis\":\"y\",\"type\":\"scatter\"},{\"hovertemplate\":\"Genre=%{x}<br>Required_IOS_Version=11<br>No_of_Apps=%{y}<extra></extra>\",\"ids\":[11291],\"legendgroup\":\"Finance\",\"marker\":{\"color\":\"#19d3f3\",\"symbol\":\"circle\"},\"mode\":\"markers\",\"name\":\"Finance\",\"orientation\":\"v\",\"showlegend\":true,\"x\":[\"Finance\"],\"xaxis\":\"x\",\"y\":[11291],\"yaxis\":\"y\",\"type\":\"scatter\"},{\"hovertemplate\":\"Genre=%{x}<br>Required_IOS_Version=11<br>No_of_Apps=%{y}<extra></extra>\",\"ids\":[460],\"legendgroup\":\"Weather\",\"marker\":{\"color\":\"#FF6692\",\"symbol\":\"circle\"},\"mode\":\"markers\",\"name\":\"Weather\",\"orientation\":\"v\",\"showlegend\":true,\"x\":[\"Weather\"],\"xaxis\":\"x\",\"y\":[460],\"yaxis\":\"y\",\"type\":\"scatter\"},{\"hovertemplate\":\"Genre=%{x}<br>Required_IOS_Version=11<br>No_of_Apps=%{y}<extra></extra>\",\"ids\":[17573],\"legendgroup\":\"Lifestyle\",\"marker\":{\"color\":\"#B6E880\",\"symbol\":\"circle\"},\"mode\":\"markers\",\"name\":\"Lifestyle\",\"orientation\":\"v\",\"showlegend\":true,\"x\":[\"Lifestyle\"],\"xaxis\":\"x\",\"y\":[17573],\"yaxis\":\"y\",\"type\":\"scatter\"},{\"hovertemplate\":\"Genre=%{x}<br>Required_IOS_Version=11<br>No_of_Apps=%{y}<extra></extra>\",\"ids\":[15480],\"legendgroup\":\"Health & Fitness\",\"marker\":{\"color\":\"#FF97FF\",\"symbol\":\"circle\"},\"mode\":\"markers\",\"name\":\"Health & Fitness\",\"orientation\":\"v\",\"showlegend\":true,\"x\":[\"Health & Fitness\"],\"xaxis\":\"x\",\"y\":[15480],\"yaxis\":\"y\",\"type\":\"scatter\"},{\"hovertemplate\":\"Genre=%{x}<br>Required_IOS_Version=11<br>No_of_Apps=%{y}<extra></extra>\",\"ids\":[4525],\"legendgroup\":\"News\",\"marker\":{\"color\":\"#FECB52\",\"symbol\":\"circle\"},\"mode\":\"markers\",\"name\":\"News\",\"orientation\":\"v\",\"showlegend\":true,\"x\":[\"News\"],\"xaxis\":\"x\",\"y\":[4525],\"yaxis\":\"y\",\"type\":\"scatter\"},{\"hovertemplate\":\"Genre=%{x}<br>Required_IOS_Version=11<br>No_of_Apps=%{y}<extra></extra>\",\"ids\":[17488],\"legendgroup\":\"Food & Drink\",\"marker\":{\"color\":\"#636efa\",\"symbol\":\"circle\"},\"mode\":\"markers\",\"name\":\"Food & Drink\",\"orientation\":\"v\",\"showlegend\":true,\"x\":[\"Food & Drink\"],\"xaxis\":\"x\",\"y\":[17488],\"yaxis\":\"y\",\"type\":\"scatter\"},{\"hovertemplate\":\"Genre=%{x}<br>Required_IOS_Version=11<br>No_of_Apps=%{y}<extra></extra>\",\"ids\":[11554],\"legendgroup\":\"Shopping\",\"marker\":{\"color\":\"#EF553B\",\"symbol\":\"circle\"},\"mode\":\"markers\",\"name\":\"Shopping\",\"orientation\":\"v\",\"showlegend\":true,\"x\":[\"Shopping\"],\"xaxis\":\"x\",\"y\":[11554],\"yaxis\":\"y\",\"type\":\"scatter\"},{\"hovertemplate\":\"Genre=%{x}<br>Required_IOS_Version=11<br>No_of_Apps=%{y}<extra></extra>\",\"ids\":[440],\"legendgroup\":\"Magazines & Newspapers\",\"marker\":{\"color\":\"#00cc96\",\"symbol\":\"circle\"},\"mode\":\"markers\",\"name\":\"Magazines & Newspapers\",\"orientation\":\"v\",\"showlegend\":true,\"x\":[\"Magazines & Newspapers\"],\"xaxis\":\"x\",\"y\":[440],\"yaxis\":\"y\",\"type\":\"scatter\"},{\"hovertemplate\":\"Genre=%{x}<br>Required_IOS_Version=11<br>No_of_Apps=%{y}<extra></extra>\",\"ids\":[352],\"legendgroup\":\"Graphics & Design\",\"marker\":{\"color\":\"#ab63fa\",\"symbol\":\"circle\"},\"mode\":\"markers\",\"name\":\"Graphics & Design\",\"orientation\":\"v\",\"showlegend\":true,\"x\":[\"Graphics & Design\"],\"xaxis\":\"x\",\"y\":[352],\"yaxis\":\"y\",\"type\":\"scatter\"},{\"hovertemplate\":\"Genre=%{x}<br>Required_IOS_Version=11<br>No_of_Apps=%{y}<extra></extra>\",\"ids\":[232],\"legendgroup\":\"Developer Tools\",\"marker\":{\"color\":\"#FFA15A\",\"symbol\":\"circle\"},\"mode\":\"markers\",\"name\":\"Developer Tools\",\"orientation\":\"v\",\"showlegend\":true,\"x\":[\"Developer Tools\"],\"xaxis\":\"x\",\"y\":[232],\"yaxis\":\"y\",\"type\":\"scatter\"},{\"hovertemplate\":\"Genre=%{x}<br>Required_IOS_Version=11<br>No_of_Apps=%{y}<extra></extra>\",\"ids\":[637],\"legendgroup\":\"Stickers\",\"marker\":{\"color\":\"#19d3f3\",\"symbol\":\"circle\"},\"mode\":\"markers\",\"name\":\"Stickers\",\"orientation\":\"v\",\"showlegend\":true,\"x\":[\"Stickers\"],\"xaxis\":\"x\",\"y\":[637],\"yaxis\":\"y\",\"type\":\"scatter\"}],\"name\":\"11\"},{\"data\":[{\"hovertemplate\":\"Genre=%{x}<br>Required_IOS_Version=12<br>No_of_Apps=%{y}<extra></extra>\",\"ids\":[1004],\"legendgroup\":\"Book\",\"marker\":{\"color\":\"#636efa\",\"symbol\":\"circle\"},\"mode\":\"markers\",\"name\":\"Book\",\"orientation\":\"v\",\"showlegend\":true,\"x\":[\"Book\"],\"xaxis\":\"x\",\"y\":[1004],\"yaxis\":\"y\",\"type\":\"scatter\"},{\"hovertemplate\":\"Genre=%{x}<br>Required_IOS_Version=12<br>No_of_Apps=%{y}<extra></extra>\",\"ids\":[15114],\"legendgroup\":\"Education\",\"marker\":{\"color\":\"#EF553B\",\"symbol\":\"circle\"},\"mode\":\"markers\",\"name\":\"Education\",\"orientation\":\"v\",\"showlegend\":true,\"x\":[\"Education\"],\"xaxis\":\"x\",\"y\":[15114],\"yaxis\":\"y\",\"type\":\"scatter\"},{\"hovertemplate\":\"Genre=%{x}<br>Required_IOS_Version=12<br>No_of_Apps=%{y}<extra></extra>\",\"ids\":[3446],\"legendgroup\":\"Social Networking\",\"marker\":{\"color\":\"#00cc96\",\"symbol\":\"circle\"},\"mode\":\"markers\",\"name\":\"Social Networking\",\"orientation\":\"v\",\"showlegend\":true,\"x\":[\"Social Networking\"],\"xaxis\":\"x\",\"y\":[3446],\"yaxis\":\"y\",\"type\":\"scatter\"},{\"hovertemplate\":\"Genre=%{x}<br>Required_IOS_Version=12<br>No_of_Apps=%{y}<extra></extra>\",\"ids\":[7842],\"legendgroup\":\"Productivity\",\"marker\":{\"color\":\"#ab63fa\",\"symbol\":\"circle\"},\"mode\":\"markers\",\"name\":\"Productivity\",\"orientation\":\"v\",\"showlegend\":true,\"x\":[\"Productivity\"],\"xaxis\":\"x\",\"y\":[7842],\"yaxis\":\"y\",\"type\":\"scatter\"},{\"hovertemplate\":\"Genre=%{x}<br>Required_IOS_Version=12<br>No_of_Apps=%{y}<extra></extra>\",\"ids\":[2289],\"legendgroup\":\"Photo & Video\",\"marker\":{\"color\":\"#FFA15A\",\"symbol\":\"circle\"},\"mode\":\"markers\",\"name\":\"Photo & Video\",\"orientation\":\"v\",\"showlegend\":true,\"x\":[\"Photo & Video\"],\"xaxis\":\"x\",\"y\":[2289],\"yaxis\":\"y\",\"type\":\"scatter\"},{\"hovertemplate\":\"Genre=%{x}<br>Required_IOS_Version=12<br>No_of_Apps=%{y}<extra></extra>\",\"ids\":[4030],\"legendgroup\":\"Sports\",\"marker\":{\"color\":\"#19d3f3\",\"symbol\":\"circle\"},\"mode\":\"markers\",\"name\":\"Sports\",\"orientation\":\"v\",\"showlegend\":true,\"x\":[\"Sports\"],\"xaxis\":\"x\",\"y\":[4030],\"yaxis\":\"y\",\"type\":\"scatter\"},{\"hovertemplate\":\"Genre=%{x}<br>Required_IOS_Version=12<br>No_of_Apps=%{y}<extra></extra>\",\"ids\":[5239],\"legendgroup\":\"Entertainment\",\"marker\":{\"color\":\"#FF6692\",\"symbol\":\"circle\"},\"mode\":\"markers\",\"name\":\"Entertainment\",\"orientation\":\"v\",\"showlegend\":true,\"x\":[\"Entertainment\"],\"xaxis\":\"x\",\"y\":[5239],\"yaxis\":\"y\",\"type\":\"scatter\"},{\"hovertemplate\":\"Genre=%{x}<br>Required_IOS_Version=12<br>No_of_Apps=%{y}<extra></extra>\",\"ids\":[5021],\"legendgroup\":\"Travel\",\"marker\":{\"color\":\"#B6E880\",\"symbol\":\"circle\"},\"mode\":\"markers\",\"name\":\"Travel\",\"orientation\":\"v\",\"showlegend\":true,\"x\":[\"Travel\"],\"xaxis\":\"x\",\"y\":[5021],\"yaxis\":\"y\",\"type\":\"scatter\"},{\"hovertemplate\":\"Genre=%{x}<br>Required_IOS_Version=12<br>No_of_Apps=%{y}<extra></extra>\",\"ids\":[1870],\"legendgroup\":\"Reference\",\"marker\":{\"color\":\"#FF97FF\",\"symbol\":\"circle\"},\"mode\":\"markers\",\"name\":\"Reference\",\"orientation\":\"v\",\"showlegend\":true,\"x\":[\"Reference\"],\"xaxis\":\"x\",\"y\":[1870],\"yaxis\":\"y\",\"type\":\"scatter\"},{\"hovertemplate\":\"Genre=%{x}<br>Required_IOS_Version=12<br>No_of_Apps=%{y}<extra></extra>\",\"ids\":[16409],\"legendgroup\":\"Business\",\"marker\":{\"color\":\"#FECB52\",\"symbol\":\"circle\"},\"mode\":\"markers\",\"name\":\"Business\",\"orientation\":\"v\",\"showlegend\":true,\"x\":[\"Business\"],\"xaxis\":\"x\",\"y\":[16409],\"yaxis\":\"y\",\"type\":\"scatter\"},{\"hovertemplate\":\"Genre=%{x}<br>Required_IOS_Version=12<br>No_of_Apps=%{y}<extra></extra>\",\"ids\":[2951],\"legendgroup\":\"Music\",\"marker\":{\"color\":\"#636efa\",\"symbol\":\"circle\"},\"mode\":\"markers\",\"name\":\"Music\",\"orientation\":\"v\",\"showlegend\":true,\"x\":[\"Music\"],\"xaxis\":\"x\",\"y\":[2951],\"yaxis\":\"y\",\"type\":\"scatter\"},{\"hovertemplate\":\"Genre=%{x}<br>Required_IOS_Version=12<br>No_of_Apps=%{y}<extra></extra>\",\"ids\":[1589],\"legendgroup\":\"Navigation\",\"marker\":{\"color\":\"#EF553B\",\"symbol\":\"circle\"},\"mode\":\"markers\",\"name\":\"Navigation\",\"orientation\":\"v\",\"showlegend\":true,\"x\":[\"Navigation\"],\"xaxis\":\"x\",\"y\":[1589],\"yaxis\":\"y\",\"type\":\"scatter\"},{\"hovertemplate\":\"Genre=%{x}<br>Required_IOS_Version=12<br>No_of_Apps=%{y}<extra></extra>\",\"ids\":[10240],\"legendgroup\":\"Utilities\",\"marker\":{\"color\":\"#00cc96\",\"symbol\":\"circle\"},\"mode\":\"markers\",\"name\":\"Utilities\",\"orientation\":\"v\",\"showlegend\":true,\"x\":[\"Utilities\"],\"xaxis\":\"x\",\"y\":[10240],\"yaxis\":\"y\",\"type\":\"scatter\"},{\"hovertemplate\":\"Genre=%{x}<br>Required_IOS_Version=12<br>No_of_Apps=%{y}<extra></extra>\",\"ids\":[3577],\"legendgroup\":\"Medical\",\"marker\":{\"color\":\"#ab63fa\",\"symbol\":\"circle\"},\"mode\":\"markers\",\"name\":\"Medical\",\"orientation\":\"v\",\"showlegend\":true,\"x\":[\"Medical\"],\"xaxis\":\"x\",\"y\":[3577],\"yaxis\":\"y\",\"type\":\"scatter\"},{\"hovertemplate\":\"Genre=%{x}<br>Required_IOS_Version=12<br>No_of_Apps=%{y}<extra></extra>\",\"ids\":[8572],\"legendgroup\":\"Games\",\"marker\":{\"color\":\"#FFA15A\",\"symbol\":\"circle\"},\"mode\":\"markers\",\"name\":\"Games\",\"orientation\":\"v\",\"showlegend\":true,\"x\":[\"Games\"],\"xaxis\":\"x\",\"y\":[8572],\"yaxis\":\"y\",\"type\":\"scatter\"},{\"hovertemplate\":\"Genre=%{x}<br>Required_IOS_Version=12<br>No_of_Apps=%{y}<extra></extra>\",\"ids\":[7843],\"legendgroup\":\"Finance\",\"marker\":{\"color\":\"#19d3f3\",\"symbol\":\"circle\"},\"mode\":\"markers\",\"name\":\"Finance\",\"orientation\":\"v\",\"showlegend\":true,\"x\":[\"Finance\"],\"xaxis\":\"x\",\"y\":[7843],\"yaxis\":\"y\",\"type\":\"scatter\"},{\"hovertemplate\":\"Genre=%{x}<br>Required_IOS_Version=12<br>No_of_Apps=%{y}<extra></extra>\",\"ids\":[677],\"legendgroup\":\"Weather\",\"marker\":{\"color\":\"#FF6692\",\"symbol\":\"circle\"},\"mode\":\"markers\",\"name\":\"Weather\",\"orientation\":\"v\",\"showlegend\":true,\"x\":[\"Weather\"],\"xaxis\":\"x\",\"y\":[677],\"yaxis\":\"y\",\"type\":\"scatter\"},{\"hovertemplate\":\"Genre=%{x}<br>Required_IOS_Version=12<br>No_of_Apps=%{y}<extra></extra>\",\"ids\":[11856],\"legendgroup\":\"Lifestyle\",\"marker\":{\"color\":\"#B6E880\",\"symbol\":\"circle\"},\"mode\":\"markers\",\"name\":\"Lifestyle\",\"orientation\":\"v\",\"showlegend\":true,\"x\":[\"Lifestyle\"],\"xaxis\":\"x\",\"y\":[11856],\"yaxis\":\"y\",\"type\":\"scatter\"},{\"hovertemplate\":\"Genre=%{x}<br>Required_IOS_Version=12<br>No_of_Apps=%{y}<extra></extra>\",\"ids\":[7669],\"legendgroup\":\"Health & Fitness\",\"marker\":{\"color\":\"#FF97FF\",\"symbol\":\"circle\"},\"mode\":\"markers\",\"name\":\"Health & Fitness\",\"orientation\":\"v\",\"showlegend\":true,\"x\":[\"Health & Fitness\"],\"xaxis\":\"x\",\"y\":[7669],\"yaxis\":\"y\",\"type\":\"scatter\"},{\"hovertemplate\":\"Genre=%{x}<br>Required_IOS_Version=12<br>No_of_Apps=%{y}<extra></extra>\",\"ids\":[2610],\"legendgroup\":\"News\",\"marker\":{\"color\":\"#FECB52\",\"symbol\":\"circle\"},\"mode\":\"markers\",\"name\":\"News\",\"orientation\":\"v\",\"showlegend\":true,\"x\":[\"News\"],\"xaxis\":\"x\",\"y\":[2610],\"yaxis\":\"y\",\"type\":\"scatter\"},{\"hovertemplate\":\"Genre=%{x}<br>Required_IOS_Version=12<br>No_of_Apps=%{y}<extra></extra>\",\"ids\":[6729],\"legendgroup\":\"Food & Drink\",\"marker\":{\"color\":\"#636efa\",\"symbol\":\"circle\"},\"mode\":\"markers\",\"name\":\"Food & Drink\",\"orientation\":\"v\",\"showlegend\":true,\"x\":[\"Food & Drink\"],\"xaxis\":\"x\",\"y\":[6729],\"yaxis\":\"y\",\"type\":\"scatter\"},{\"hovertemplate\":\"Genre=%{x}<br>Required_IOS_Version=12<br>No_of_Apps=%{y}<extra></extra>\",\"ids\":[9184],\"legendgroup\":\"Shopping\",\"marker\":{\"color\":\"#EF553B\",\"symbol\":\"circle\"},\"mode\":\"markers\",\"name\":\"Shopping\",\"orientation\":\"v\",\"showlegend\":true,\"x\":[\"Shopping\"],\"xaxis\":\"x\",\"y\":[9184],\"yaxis\":\"y\",\"type\":\"scatter\"},{\"hovertemplate\":\"Genre=%{x}<br>Required_IOS_Version=12<br>No_of_Apps=%{y}<extra></extra>\",\"ids\":[190],\"legendgroup\":\"Magazines & Newspapers\",\"marker\":{\"color\":\"#00cc96\",\"symbol\":\"circle\"},\"mode\":\"markers\",\"name\":\"Magazines & Newspapers\",\"orientation\":\"v\",\"showlegend\":true,\"x\":[\"Magazines & Newspapers\"],\"xaxis\":\"x\",\"y\":[190],\"yaxis\":\"y\",\"type\":\"scatter\"},{\"hovertemplate\":\"Genre=%{x}<br>Required_IOS_Version=12<br>No_of_Apps=%{y}<extra></extra>\",\"ids\":[285],\"legendgroup\":\"Graphics & Design\",\"marker\":{\"color\":\"#ab63fa\",\"symbol\":\"circle\"},\"mode\":\"markers\",\"name\":\"Graphics & Design\",\"orientation\":\"v\",\"showlegend\":true,\"x\":[\"Graphics & Design\"],\"xaxis\":\"x\",\"y\":[285],\"yaxis\":\"y\",\"type\":\"scatter\"},{\"hovertemplate\":\"Genre=%{x}<br>Required_IOS_Version=12<br>No_of_Apps=%{y}<extra></extra>\",\"ids\":[118],\"legendgroup\":\"Developer Tools\",\"marker\":{\"color\":\"#FFA15A\",\"symbol\":\"circle\"},\"mode\":\"markers\",\"name\":\"Developer Tools\",\"orientation\":\"v\",\"showlegend\":true,\"x\":[\"Developer Tools\"],\"xaxis\":\"x\",\"y\":[118],\"yaxis\":\"y\",\"type\":\"scatter\"},{\"hovertemplate\":\"Genre=%{x}<br>Required_IOS_Version=12<br>No_of_Apps=%{y}<extra></extra>\",\"ids\":[554],\"legendgroup\":\"Stickers\",\"marker\":{\"color\":\"#19d3f3\",\"symbol\":\"circle\"},\"mode\":\"markers\",\"name\":\"Stickers\",\"orientation\":\"v\",\"showlegend\":true,\"x\":[\"Stickers\"],\"xaxis\":\"x\",\"y\":[554],\"yaxis\":\"y\",\"type\":\"scatter\"}],\"name\":\"12\"},{\"data\":[{\"hovertemplate\":\"Genre=%{x}<br>Required_IOS_Version=13<br>No_of_Apps=%{y}<extra></extra>\",\"ids\":[587],\"legendgroup\":\"Book\",\"marker\":{\"color\":\"#636efa\",\"symbol\":\"circle\"},\"mode\":\"markers\",\"name\":\"Book\",\"orientation\":\"v\",\"showlegend\":true,\"x\":[\"Book\"],\"xaxis\":\"x\",\"y\":[587],\"yaxis\":\"y\",\"type\":\"scatter\"},{\"hovertemplate\":\"Genre=%{x}<br>Required_IOS_Version=13<br>No_of_Apps=%{y}<extra></extra>\",\"ids\":[5290],\"legendgroup\":\"Education\",\"marker\":{\"color\":\"#EF553B\",\"symbol\":\"circle\"},\"mode\":\"markers\",\"name\":\"Education\",\"orientation\":\"v\",\"showlegend\":true,\"x\":[\"Education\"],\"xaxis\":\"x\",\"y\":[5290],\"yaxis\":\"y\",\"type\":\"scatter\"},{\"hovertemplate\":\"Genre=%{x}<br>Required_IOS_Version=13<br>No_of_Apps=%{y}<extra></extra>\",\"ids\":[2088],\"legendgroup\":\"Social Networking\",\"marker\":{\"color\":\"#00cc96\",\"symbol\":\"circle\"},\"mode\":\"markers\",\"name\":\"Social Networking\",\"orientation\":\"v\",\"showlegend\":true,\"x\":[\"Social Networking\"],\"xaxis\":\"x\",\"y\":[2088],\"yaxis\":\"y\",\"type\":\"scatter\"},{\"hovertemplate\":\"Genre=%{x}<br>Required_IOS_Version=13<br>No_of_Apps=%{y}<extra></extra>\",\"ids\":[4689],\"legendgroup\":\"Productivity\",\"marker\":{\"color\":\"#ab63fa\",\"symbol\":\"circle\"},\"mode\":\"markers\",\"name\":\"Productivity\",\"orientation\":\"v\",\"showlegend\":true,\"x\":[\"Productivity\"],\"xaxis\":\"x\",\"y\":[4689],\"yaxis\":\"y\",\"type\":\"scatter\"},{\"hovertemplate\":\"Genre=%{x}<br>Required_IOS_Version=13<br>No_of_Apps=%{y}<extra></extra>\",\"ids\":[1957],\"legendgroup\":\"Photo & Video\",\"marker\":{\"color\":\"#FFA15A\",\"symbol\":\"circle\"},\"mode\":\"markers\",\"name\":\"Photo & Video\",\"orientation\":\"v\",\"showlegend\":true,\"x\":[\"Photo & Video\"],\"xaxis\":\"x\",\"y\":[1957],\"yaxis\":\"y\",\"type\":\"scatter\"},{\"hovertemplate\":\"Genre=%{x}<br>Required_IOS_Version=13<br>No_of_Apps=%{y}<extra></extra>\",\"ids\":[2125],\"legendgroup\":\"Sports\",\"marker\":{\"color\":\"#19d3f3\",\"symbol\":\"circle\"},\"mode\":\"markers\",\"name\":\"Sports\",\"orientation\":\"v\",\"showlegend\":true,\"x\":[\"Sports\"],\"xaxis\":\"x\",\"y\":[2125],\"yaxis\":\"y\",\"type\":\"scatter\"},{\"hovertemplate\":\"Genre=%{x}<br>Required_IOS_Version=13<br>No_of_Apps=%{y}<extra></extra>\",\"ids\":[3276],\"legendgroup\":\"Entertainment\",\"marker\":{\"color\":\"#FF6692\",\"symbol\":\"circle\"},\"mode\":\"markers\",\"name\":\"Entertainment\",\"orientation\":\"v\",\"showlegend\":true,\"x\":[\"Entertainment\"],\"xaxis\":\"x\",\"y\":[3276],\"yaxis\":\"y\",\"type\":\"scatter\"},{\"hovertemplate\":\"Genre=%{x}<br>Required_IOS_Version=13<br>No_of_Apps=%{y}<extra></extra>\",\"ids\":[2853],\"legendgroup\":\"Travel\",\"marker\":{\"color\":\"#B6E880\",\"symbol\":\"circle\"},\"mode\":\"markers\",\"name\":\"Travel\",\"orientation\":\"v\",\"showlegend\":true,\"x\":[\"Travel\"],\"xaxis\":\"x\",\"y\":[2853],\"yaxis\":\"y\",\"type\":\"scatter\"},{\"hovertemplate\":\"Genre=%{x}<br>Required_IOS_Version=13<br>No_of_Apps=%{y}<extra></extra>\",\"ids\":[1236],\"legendgroup\":\"Reference\",\"marker\":{\"color\":\"#FF97FF\",\"symbol\":\"circle\"},\"mode\":\"markers\",\"name\":\"Reference\",\"orientation\":\"v\",\"showlegend\":true,\"x\":[\"Reference\"],\"xaxis\":\"x\",\"y\":[1236],\"yaxis\":\"y\",\"type\":\"scatter\"},{\"hovertemplate\":\"Genre=%{x}<br>Required_IOS_Version=13<br>No_of_Apps=%{y}<extra></extra>\",\"ids\":[7859],\"legendgroup\":\"Business\",\"marker\":{\"color\":\"#FECB52\",\"symbol\":\"circle\"},\"mode\":\"markers\",\"name\":\"Business\",\"orientation\":\"v\",\"showlegend\":true,\"x\":[\"Business\"],\"xaxis\":\"x\",\"y\":[7859],\"yaxis\":\"y\",\"type\":\"scatter\"},{\"hovertemplate\":\"Genre=%{x}<br>Required_IOS_Version=13<br>No_of_Apps=%{y}<extra></extra>\",\"ids\":[1559],\"legendgroup\":\"Music\",\"marker\":{\"color\":\"#636efa\",\"symbol\":\"circle\"},\"mode\":\"markers\",\"name\":\"Music\",\"orientation\":\"v\",\"showlegend\":true,\"x\":[\"Music\"],\"xaxis\":\"x\",\"y\":[1559],\"yaxis\":\"y\",\"type\":\"scatter\"},{\"hovertemplate\":\"Genre=%{x}<br>Required_IOS_Version=13<br>No_of_Apps=%{y}<extra></extra>\",\"ids\":[913],\"legendgroup\":\"Navigation\",\"marker\":{\"color\":\"#EF553B\",\"symbol\":\"circle\"},\"mode\":\"markers\",\"name\":\"Navigation\",\"orientation\":\"v\",\"showlegend\":true,\"x\":[\"Navigation\"],\"xaxis\":\"x\",\"y\":[913],\"yaxis\":\"y\",\"type\":\"scatter\"},{\"hovertemplate\":\"Genre=%{x}<br>Required_IOS_Version=13<br>No_of_Apps=%{y}<extra></extra>\",\"ids\":[6133],\"legendgroup\":\"Utilities\",\"marker\":{\"color\":\"#00cc96\",\"symbol\":\"circle\"},\"mode\":\"markers\",\"name\":\"Utilities\",\"orientation\":\"v\",\"showlegend\":true,\"x\":[\"Utilities\"],\"xaxis\":\"x\",\"y\":[6133],\"yaxis\":\"y\",\"type\":\"scatter\"},{\"hovertemplate\":\"Genre=%{x}<br>Required_IOS_Version=13<br>No_of_Apps=%{y}<extra></extra>\",\"ids\":[1803],\"legendgroup\":\"Medical\",\"marker\":{\"color\":\"#ab63fa\",\"symbol\":\"circle\"},\"mode\":\"markers\",\"name\":\"Medical\",\"orientation\":\"v\",\"showlegend\":true,\"x\":[\"Medical\"],\"xaxis\":\"x\",\"y\":[1803],\"yaxis\":\"y\",\"type\":\"scatter\"},{\"hovertemplate\":\"Genre=%{x}<br>Required_IOS_Version=13<br>No_of_Apps=%{y}<extra></extra>\",\"ids\":[3779],\"legendgroup\":\"Games\",\"marker\":{\"color\":\"#FFA15A\",\"symbol\":\"circle\"},\"mode\":\"markers\",\"name\":\"Games\",\"orientation\":\"v\",\"showlegend\":true,\"x\":[\"Games\"],\"xaxis\":\"x\",\"y\":[3779],\"yaxis\":\"y\",\"type\":\"scatter\"},{\"hovertemplate\":\"Genre=%{x}<br>Required_IOS_Version=13<br>No_of_Apps=%{y}<extra></extra>\",\"ids\":[3783],\"legendgroup\":\"Finance\",\"marker\":{\"color\":\"#19d3f3\",\"symbol\":\"circle\"},\"mode\":\"markers\",\"name\":\"Finance\",\"orientation\":\"v\",\"showlegend\":true,\"x\":[\"Finance\"],\"xaxis\":\"x\",\"y\":[3783],\"yaxis\":\"y\",\"type\":\"scatter\"},{\"hovertemplate\":\"Genre=%{x}<br>Required_IOS_Version=13<br>No_of_Apps=%{y}<extra></extra>\",\"ids\":[415],\"legendgroup\":\"Weather\",\"marker\":{\"color\":\"#FF6692\",\"symbol\":\"circle\"},\"mode\":\"markers\",\"name\":\"Weather\",\"orientation\":\"v\",\"showlegend\":true,\"x\":[\"Weather\"],\"xaxis\":\"x\",\"y\":[415],\"yaxis\":\"y\",\"type\":\"scatter\"},{\"hovertemplate\":\"Genre=%{x}<br>Required_IOS_Version=13<br>No_of_Apps=%{y}<extra></extra>\",\"ids\":[4092],\"legendgroup\":\"Lifestyle\",\"marker\":{\"color\":\"#B6E880\",\"symbol\":\"circle\"},\"mode\":\"markers\",\"name\":\"Lifestyle\",\"orientation\":\"v\",\"showlegend\":true,\"x\":[\"Lifestyle\"],\"xaxis\":\"x\",\"y\":[4092],\"yaxis\":\"y\",\"type\":\"scatter\"},{\"hovertemplate\":\"Genre=%{x}<br>Required_IOS_Version=13<br>No_of_Apps=%{y}<extra></extra>\",\"ids\":[4037],\"legendgroup\":\"Health & Fitness\",\"marker\":{\"color\":\"#FF97FF\",\"symbol\":\"circle\"},\"mode\":\"markers\",\"name\":\"Health & Fitness\",\"orientation\":\"v\",\"showlegend\":true,\"x\":[\"Health & Fitness\"],\"xaxis\":\"x\",\"y\":[4037],\"yaxis\":\"y\",\"type\":\"scatter\"},{\"hovertemplate\":\"Genre=%{x}<br>Required_IOS_Version=13<br>No_of_Apps=%{y}<extra></extra>\",\"ids\":[907],\"legendgroup\":\"News\",\"marker\":{\"color\":\"#FECB52\",\"symbol\":\"circle\"},\"mode\":\"markers\",\"name\":\"News\",\"orientation\":\"v\",\"showlegend\":true,\"x\":[\"News\"],\"xaxis\":\"x\",\"y\":[907],\"yaxis\":\"y\",\"type\":\"scatter\"},{\"hovertemplate\":\"Genre=%{x}<br>Required_IOS_Version=13<br>No_of_Apps=%{y}<extra></extra>\",\"ids\":[2715],\"legendgroup\":\"Food & Drink\",\"marker\":{\"color\":\"#636efa\",\"symbol\":\"circle\"},\"mode\":\"markers\",\"name\":\"Food & Drink\",\"orientation\":\"v\",\"showlegend\":true,\"x\":[\"Food & Drink\"],\"xaxis\":\"x\",\"y\":[2715],\"yaxis\":\"y\",\"type\":\"scatter\"},{\"hovertemplate\":\"Genre=%{x}<br>Required_IOS_Version=13<br>No_of_Apps=%{y}<extra></extra>\",\"ids\":[5088],\"legendgroup\":\"Shopping\",\"marker\":{\"color\":\"#EF553B\",\"symbol\":\"circle\"},\"mode\":\"markers\",\"name\":\"Shopping\",\"orientation\":\"v\",\"showlegend\":true,\"x\":[\"Shopping\"],\"xaxis\":\"x\",\"y\":[5088],\"yaxis\":\"y\",\"type\":\"scatter\"},{\"hovertemplate\":\"Genre=%{x}<br>Required_IOS_Version=13<br>No_of_Apps=%{y}<extra></extra>\",\"ids\":[29],\"legendgroup\":\"Magazines & Newspapers\",\"marker\":{\"color\":\"#00cc96\",\"symbol\":\"circle\"},\"mode\":\"markers\",\"name\":\"Magazines & Newspapers\",\"orientation\":\"v\",\"showlegend\":true,\"x\":[\"Magazines & Newspapers\"],\"xaxis\":\"x\",\"y\":[29],\"yaxis\":\"y\",\"type\":\"scatter\"},{\"hovertemplate\":\"Genre=%{x}<br>Required_IOS_Version=13<br>No_of_Apps=%{y}<extra></extra>\",\"ids\":[320],\"legendgroup\":\"Graphics & Design\",\"marker\":{\"color\":\"#ab63fa\",\"symbol\":\"circle\"},\"mode\":\"markers\",\"name\":\"Graphics & Design\",\"orientation\":\"v\",\"showlegend\":true,\"x\":[\"Graphics & Design\"],\"xaxis\":\"x\",\"y\":[320],\"yaxis\":\"y\",\"type\":\"scatter\"},{\"hovertemplate\":\"Genre=%{x}<br>Required_IOS_Version=13<br>No_of_Apps=%{y}<extra></extra>\",\"ids\":[162],\"legendgroup\":\"Developer Tools\",\"marker\":{\"color\":\"#FFA15A\",\"symbol\":\"circle\"},\"mode\":\"markers\",\"name\":\"Developer Tools\",\"orientation\":\"v\",\"showlegend\":true,\"x\":[\"Developer Tools\"],\"xaxis\":\"x\",\"y\":[162],\"yaxis\":\"y\",\"type\":\"scatter\"},{\"hovertemplate\":\"Genre=%{x}<br>Required_IOS_Version=13<br>No_of_Apps=%{y}<extra></extra>\",\"ids\":[178],\"legendgroup\":\"Stickers\",\"marker\":{\"color\":\"#19d3f3\",\"symbol\":\"circle\"},\"mode\":\"markers\",\"name\":\"Stickers\",\"orientation\":\"v\",\"showlegend\":true,\"x\":[\"Stickers\"],\"xaxis\":\"x\",\"y\":[178],\"yaxis\":\"y\",\"type\":\"scatter\"}],\"name\":\"13\"},{\"data\":[{\"hovertemplate\":\"Genre=%{x}<br>Required_IOS_Version=14<br>No_of_Apps=%{y}<extra></extra>\",\"ids\":[183],\"legendgroup\":\"Book\",\"marker\":{\"color\":\"#636efa\",\"symbol\":\"circle\"},\"mode\":\"markers\",\"name\":\"Book\",\"orientation\":\"v\",\"showlegend\":true,\"x\":[\"Book\"],\"xaxis\":\"x\",\"y\":[183],\"yaxis\":\"y\",\"type\":\"scatter\"},{\"hovertemplate\":\"Genre=%{x}<br>Required_IOS_Version=14<br>No_of_Apps=%{y}<extra></extra>\",\"ids\":[2346],\"legendgroup\":\"Education\",\"marker\":{\"color\":\"#EF553B\",\"symbol\":\"circle\"},\"mode\":\"markers\",\"name\":\"Education\",\"orientation\":\"v\",\"showlegend\":true,\"x\":[\"Education\"],\"xaxis\":\"x\",\"y\":[2346],\"yaxis\":\"y\",\"type\":\"scatter\"},{\"hovertemplate\":\"Genre=%{x}<br>Required_IOS_Version=14<br>No_of_Apps=%{y}<extra></extra>\",\"ids\":[719],\"legendgroup\":\"Social Networking\",\"marker\":{\"color\":\"#00cc96\",\"symbol\":\"circle\"},\"mode\":\"markers\",\"name\":\"Social Networking\",\"orientation\":\"v\",\"showlegend\":true,\"x\":[\"Social Networking\"],\"xaxis\":\"x\",\"y\":[719],\"yaxis\":\"y\",\"type\":\"scatter\"},{\"hovertemplate\":\"Genre=%{x}<br>Required_IOS_Version=14<br>No_of_Apps=%{y}<extra></extra>\",\"ids\":[2478],\"legendgroup\":\"Productivity\",\"marker\":{\"color\":\"#ab63fa\",\"symbol\":\"circle\"},\"mode\":\"markers\",\"name\":\"Productivity\",\"orientation\":\"v\",\"showlegend\":true,\"x\":[\"Productivity\"],\"xaxis\":\"x\",\"y\":[2478],\"yaxis\":\"y\",\"type\":\"scatter\"},{\"hovertemplate\":\"Genre=%{x}<br>Required_IOS_Version=14<br>No_of_Apps=%{y}<extra></extra>\",\"ids\":[928],\"legendgroup\":\"Photo & Video\",\"marker\":{\"color\":\"#FFA15A\",\"symbol\":\"circle\"},\"mode\":\"markers\",\"name\":\"Photo & Video\",\"orientation\":\"v\",\"showlegend\":true,\"x\":[\"Photo & Video\"],\"xaxis\":\"x\",\"y\":[928],\"yaxis\":\"y\",\"type\":\"scatter\"},{\"hovertemplate\":\"Genre=%{x}<br>Required_IOS_Version=14<br>No_of_Apps=%{y}<extra></extra>\",\"ids\":[781],\"legendgroup\":\"Sports\",\"marker\":{\"color\":\"#19d3f3\",\"symbol\":\"circle\"},\"mode\":\"markers\",\"name\":\"Sports\",\"orientation\":\"v\",\"showlegend\":true,\"x\":[\"Sports\"],\"xaxis\":\"x\",\"y\":[781],\"yaxis\":\"y\",\"type\":\"scatter\"},{\"hovertemplate\":\"Genre=%{x}<br>Required_IOS_Version=14<br>No_of_Apps=%{y}<extra></extra>\",\"ids\":[1701],\"legendgroup\":\"Entertainment\",\"marker\":{\"color\":\"#FF6692\",\"symbol\":\"circle\"},\"mode\":\"markers\",\"name\":\"Entertainment\",\"orientation\":\"v\",\"showlegend\":true,\"x\":[\"Entertainment\"],\"xaxis\":\"x\",\"y\":[1701],\"yaxis\":\"y\",\"type\":\"scatter\"},{\"hovertemplate\":\"Genre=%{x}<br>Required_IOS_Version=14<br>No_of_Apps=%{y}<extra></extra>\",\"ids\":[715],\"legendgroup\":\"Travel\",\"marker\":{\"color\":\"#B6E880\",\"symbol\":\"circle\"},\"mode\":\"markers\",\"name\":\"Travel\",\"orientation\":\"v\",\"showlegend\":true,\"x\":[\"Travel\"],\"xaxis\":\"x\",\"y\":[715],\"yaxis\":\"y\",\"type\":\"scatter\"},{\"hovertemplate\":\"Genre=%{x}<br>Required_IOS_Version=14<br>No_of_Apps=%{y}<extra></extra>\",\"ids\":[505],\"legendgroup\":\"Reference\",\"marker\":{\"color\":\"#FF97FF\",\"symbol\":\"circle\"},\"mode\":\"markers\",\"name\":\"Reference\",\"orientation\":\"v\",\"showlegend\":true,\"x\":[\"Reference\"],\"xaxis\":\"x\",\"y\":[505],\"yaxis\":\"y\",\"type\":\"scatter\"},{\"hovertemplate\":\"Genre=%{x}<br>Required_IOS_Version=14<br>No_of_Apps=%{y}<extra></extra>\",\"ids\":[1854],\"legendgroup\":\"Business\",\"marker\":{\"color\":\"#FECB52\",\"symbol\":\"circle\"},\"mode\":\"markers\",\"name\":\"Business\",\"orientation\":\"v\",\"showlegend\":true,\"x\":[\"Business\"],\"xaxis\":\"x\",\"y\":[1854],\"yaxis\":\"y\",\"type\":\"scatter\"},{\"hovertemplate\":\"Genre=%{x}<br>Required_IOS_Version=14<br>No_of_Apps=%{y}<extra></extra>\",\"ids\":[600],\"legendgroup\":\"Music\",\"marker\":{\"color\":\"#636efa\",\"symbol\":\"circle\"},\"mode\":\"markers\",\"name\":\"Music\",\"orientation\":\"v\",\"showlegend\":true,\"x\":[\"Music\"],\"xaxis\":\"x\",\"y\":[600],\"yaxis\":\"y\",\"type\":\"scatter\"},{\"hovertemplate\":\"Genre=%{x}<br>Required_IOS_Version=14<br>No_of_Apps=%{y}<extra></extra>\",\"ids\":[325],\"legendgroup\":\"Navigation\",\"marker\":{\"color\":\"#EF553B\",\"symbol\":\"circle\"},\"mode\":\"markers\",\"name\":\"Navigation\",\"orientation\":\"v\",\"showlegend\":true,\"x\":[\"Navigation\"],\"xaxis\":\"x\",\"y\":[325],\"yaxis\":\"y\",\"type\":\"scatter\"},{\"hovertemplate\":\"Genre=%{x}<br>Required_IOS_Version=14<br>No_of_Apps=%{y}<extra></extra>\",\"ids\":[3407],\"legendgroup\":\"Utilities\",\"marker\":{\"color\":\"#00cc96\",\"symbol\":\"circle\"},\"mode\":\"markers\",\"name\":\"Utilities\",\"orientation\":\"v\",\"showlegend\":true,\"x\":[\"Utilities\"],\"xaxis\":\"x\",\"y\":[3407],\"yaxis\":\"y\",\"type\":\"scatter\"},{\"hovertemplate\":\"Genre=%{x}<br>Required_IOS_Version=14<br>No_of_Apps=%{y}<extra></extra>\",\"ids\":[599],\"legendgroup\":\"Medical\",\"marker\":{\"color\":\"#ab63fa\",\"symbol\":\"circle\"},\"mode\":\"markers\",\"name\":\"Medical\",\"orientation\":\"v\",\"showlegend\":true,\"x\":[\"Medical\"],\"xaxis\":\"x\",\"y\":[599],\"yaxis\":\"y\",\"type\":\"scatter\"},{\"hovertemplate\":\"Genre=%{x}<br>Required_IOS_Version=14<br>No_of_Apps=%{y}<extra></extra>\",\"ids\":[1581],\"legendgroup\":\"Games\",\"marker\":{\"color\":\"#FFA15A\",\"symbol\":\"circle\"},\"mode\":\"markers\",\"name\":\"Games\",\"orientation\":\"v\",\"showlegend\":true,\"x\":[\"Games\"],\"xaxis\":\"x\",\"y\":[1581],\"yaxis\":\"y\",\"type\":\"scatter\"},{\"hovertemplate\":\"Genre=%{x}<br>Required_IOS_Version=14<br>No_of_Apps=%{y}<extra></extra>\",\"ids\":[958],\"legendgroup\":\"Finance\",\"marker\":{\"color\":\"#19d3f3\",\"symbol\":\"circle\"},\"mode\":\"markers\",\"name\":\"Finance\",\"orientation\":\"v\",\"showlegend\":true,\"x\":[\"Finance\"],\"xaxis\":\"x\",\"y\":[958],\"yaxis\":\"y\",\"type\":\"scatter\"},{\"hovertemplate\":\"Genre=%{x}<br>Required_IOS_Version=14<br>No_of_Apps=%{y}<extra></extra>\",\"ids\":[195],\"legendgroup\":\"Weather\",\"marker\":{\"color\":\"#FF6692\",\"symbol\":\"circle\"},\"mode\":\"markers\",\"name\":\"Weather\",\"orientation\":\"v\",\"showlegend\":true,\"x\":[\"Weather\"],\"xaxis\":\"x\",\"y\":[195],\"yaxis\":\"y\",\"type\":\"scatter\"},{\"hovertemplate\":\"Genre=%{x}<br>Required_IOS_Version=14<br>No_of_Apps=%{y}<extra></extra>\",\"ids\":[1685],\"legendgroup\":\"Lifestyle\",\"marker\":{\"color\":\"#B6E880\",\"symbol\":\"circle\"},\"mode\":\"markers\",\"name\":\"Lifestyle\",\"orientation\":\"v\",\"showlegend\":true,\"x\":[\"Lifestyle\"],\"xaxis\":\"x\",\"y\":[1685],\"yaxis\":\"y\",\"type\":\"scatter\"},{\"hovertemplate\":\"Genre=%{x}<br>Required_IOS_Version=14<br>No_of_Apps=%{y}<extra></extra>\",\"ids\":[1702],\"legendgroup\":\"Health & Fitness\",\"marker\":{\"color\":\"#FF97FF\",\"symbol\":\"circle\"},\"mode\":\"markers\",\"name\":\"Health & Fitness\",\"orientation\":\"v\",\"showlegend\":true,\"x\":[\"Health & Fitness\"],\"xaxis\":\"x\",\"y\":[1702],\"yaxis\":\"y\",\"type\":\"scatter\"},{\"hovertemplate\":\"Genre=%{x}<br>Required_IOS_Version=14<br>No_of_Apps=%{y}<extra></extra>\",\"ids\":[291],\"legendgroup\":\"News\",\"marker\":{\"color\":\"#FECB52\",\"symbol\":\"circle\"},\"mode\":\"markers\",\"name\":\"News\",\"orientation\":\"v\",\"showlegend\":true,\"x\":[\"News\"],\"xaxis\":\"x\",\"y\":[291],\"yaxis\":\"y\",\"type\":\"scatter\"},{\"hovertemplate\":\"Genre=%{x}<br>Required_IOS_Version=14<br>No_of_Apps=%{y}<extra></extra>\",\"ids\":[1315],\"legendgroup\":\"Food & Drink\",\"marker\":{\"color\":\"#636efa\",\"symbol\":\"circle\"},\"mode\":\"markers\",\"name\":\"Food & Drink\",\"orientation\":\"v\",\"showlegend\":true,\"x\":[\"Food & Drink\"],\"xaxis\":\"x\",\"y\":[1315],\"yaxis\":\"y\",\"type\":\"scatter\"},{\"hovertemplate\":\"Genre=%{x}<br>Required_IOS_Version=14<br>No_of_Apps=%{y}<extra></extra>\",\"ids\":[902],\"legendgroup\":\"Shopping\",\"marker\":{\"color\":\"#EF553B\",\"symbol\":\"circle\"},\"mode\":\"markers\",\"name\":\"Shopping\",\"orientation\":\"v\",\"showlegend\":true,\"x\":[\"Shopping\"],\"xaxis\":\"x\",\"y\":[902],\"yaxis\":\"y\",\"type\":\"scatter\"},{\"hovertemplate\":\"Genre=%{x}<br>Required_IOS_Version=14<br>No_of_Apps=%{y}<extra></extra>\",\"ids\":[6],\"legendgroup\":\"Magazines & Newspapers\",\"marker\":{\"color\":\"#00cc96\",\"symbol\":\"circle\"},\"mode\":\"markers\",\"name\":\"Magazines & Newspapers\",\"orientation\":\"v\",\"showlegend\":true,\"x\":[\"Magazines & Newspapers\"],\"xaxis\":\"x\",\"y\":[6],\"yaxis\":\"y\",\"type\":\"scatter\"},{\"hovertemplate\":\"Genre=%{x}<br>Required_IOS_Version=14<br>No_of_Apps=%{y}<extra></extra>\",\"ids\":[347],\"legendgroup\":\"Graphics & Design\",\"marker\":{\"color\":\"#ab63fa\",\"symbol\":\"circle\"},\"mode\":\"markers\",\"name\":\"Graphics & Design\",\"orientation\":\"v\",\"showlegend\":true,\"x\":[\"Graphics & Design\"],\"xaxis\":\"x\",\"y\":[347],\"yaxis\":\"y\",\"type\":\"scatter\"},{\"hovertemplate\":\"Genre=%{x}<br>Required_IOS_Version=14<br>No_of_Apps=%{y}<extra></extra>\",\"ids\":[217],\"legendgroup\":\"Developer Tools\",\"marker\":{\"color\":\"#FFA15A\",\"symbol\":\"circle\"},\"mode\":\"markers\",\"name\":\"Developer Tools\",\"orientation\":\"v\",\"showlegend\":true,\"x\":[\"Developer Tools\"],\"xaxis\":\"x\",\"y\":[217],\"yaxis\":\"y\",\"type\":\"scatter\"},{\"hovertemplate\":\"Genre=%{x}<br>Required_IOS_Version=14<br>No_of_Apps=%{y}<extra></extra>\",\"ids\":[58],\"legendgroup\":\"Stickers\",\"marker\":{\"color\":\"#19d3f3\",\"symbol\":\"circle\"},\"mode\":\"markers\",\"name\":\"Stickers\",\"orientation\":\"v\",\"showlegend\":true,\"x\":[\"Stickers\"],\"xaxis\":\"x\",\"y\":[58],\"yaxis\":\"y\",\"type\":\"scatter\"}],\"name\":\"14\"},{\"data\":[{\"hovertemplate\":\"Genre=%{x}<br>Required_IOS_Version=15<br>No_of_Apps=%{y}<extra></extra>\",\"ids\":[3],\"legendgroup\":\"Book\",\"marker\":{\"color\":\"#636efa\",\"symbol\":\"circle\"},\"mode\":\"markers\",\"name\":\"Book\",\"orientation\":\"v\",\"showlegend\":true,\"x\":[\"Book\"],\"xaxis\":\"x\",\"y\":[3],\"yaxis\":\"y\",\"type\":\"scatter\"},{\"hovertemplate\":\"Genre=%{x}<br>Required_IOS_Version=15<br>No_of_Apps=%{y}<extra></extra>\",\"ids\":[107],\"legendgroup\":\"Education\",\"marker\":{\"color\":\"#EF553B\",\"symbol\":\"circle\"},\"mode\":\"markers\",\"name\":\"Education\",\"orientation\":\"v\",\"showlegend\":true,\"x\":[\"Education\"],\"xaxis\":\"x\",\"y\":[107],\"yaxis\":\"y\",\"type\":\"scatter\"},{\"hovertemplate\":\"Genre=%{x}<br>Required_IOS_Version=15<br>No_of_Apps=%{y}<extra></extra>\",\"ids\":[17],\"legendgroup\":\"Social Networking\",\"marker\":{\"color\":\"#00cc96\",\"symbol\":\"circle\"},\"mode\":\"markers\",\"name\":\"Social Networking\",\"orientation\":\"v\",\"showlegend\":true,\"x\":[\"Social Networking\"],\"xaxis\":\"x\",\"y\":[17],\"yaxis\":\"y\",\"type\":\"scatter\"},{\"hovertemplate\":\"Genre=%{x}<br>Required_IOS_Version=15<br>No_of_Apps=%{y}<extra></extra>\",\"ids\":[114],\"legendgroup\":\"Productivity\",\"marker\":{\"color\":\"#ab63fa\",\"symbol\":\"circle\"},\"mode\":\"markers\",\"name\":\"Productivity\",\"orientation\":\"v\",\"showlegend\":true,\"x\":[\"Productivity\"],\"xaxis\":\"x\",\"y\":[114],\"yaxis\":\"y\",\"type\":\"scatter\"},{\"hovertemplate\":\"Genre=%{x}<br>Required_IOS_Version=15<br>No_of_Apps=%{y}<extra></extra>\",\"ids\":[23],\"legendgroup\":\"Photo & Video\",\"marker\":{\"color\":\"#FFA15A\",\"symbol\":\"circle\"},\"mode\":\"markers\",\"name\":\"Photo & Video\",\"orientation\":\"v\",\"showlegend\":true,\"x\":[\"Photo & Video\"],\"xaxis\":\"x\",\"y\":[23],\"yaxis\":\"y\",\"type\":\"scatter\"},{\"hovertemplate\":\"Genre=%{x}<br>Required_IOS_Version=15<br>No_of_Apps=%{y}<extra></extra>\",\"ids\":[24],\"legendgroup\":\"Sports\",\"marker\":{\"color\":\"#19d3f3\",\"symbol\":\"circle\"},\"mode\":\"markers\",\"name\":\"Sports\",\"orientation\":\"v\",\"showlegend\":true,\"x\":[\"Sports\"],\"xaxis\":\"x\",\"y\":[24],\"yaxis\":\"y\",\"type\":\"scatter\"},{\"hovertemplate\":\"Genre=%{x}<br>Required_IOS_Version=15<br>No_of_Apps=%{y}<extra></extra>\",\"ids\":[34],\"legendgroup\":\"Entertainment\",\"marker\":{\"color\":\"#FF6692\",\"symbol\":\"circle\"},\"mode\":\"markers\",\"name\":\"Entertainment\",\"orientation\":\"v\",\"showlegend\":true,\"x\":[\"Entertainment\"],\"xaxis\":\"x\",\"y\":[34],\"yaxis\":\"y\",\"type\":\"scatter\"},{\"hovertemplate\":\"Genre=%{x}<br>Required_IOS_Version=15<br>No_of_Apps=%{y}<extra></extra>\",\"ids\":[28],\"legendgroup\":\"Travel\",\"marker\":{\"color\":\"#B6E880\",\"symbol\":\"circle\"},\"mode\":\"markers\",\"name\":\"Travel\",\"orientation\":\"v\",\"showlegend\":true,\"x\":[\"Travel\"],\"xaxis\":\"x\",\"y\":[28],\"yaxis\":\"y\",\"type\":\"scatter\"},{\"hovertemplate\":\"Genre=%{x}<br>Required_IOS_Version=15<br>No_of_Apps=%{y}<extra></extra>\",\"ids\":[15],\"legendgroup\":\"Reference\",\"marker\":{\"color\":\"#FF97FF\",\"symbol\":\"circle\"},\"mode\":\"markers\",\"name\":\"Reference\",\"orientation\":\"v\",\"showlegend\":true,\"x\":[\"Reference\"],\"xaxis\":\"x\",\"y\":[15],\"yaxis\":\"y\",\"type\":\"scatter\"},{\"hovertemplate\":\"Genre=%{x}<br>Required_IOS_Version=15<br>No_of_Apps=%{y}<extra></extra>\",\"ids\":[32],\"legendgroup\":\"Business\",\"marker\":{\"color\":\"#FECB52\",\"symbol\":\"circle\"},\"mode\":\"markers\",\"name\":\"Business\",\"orientation\":\"v\",\"showlegend\":true,\"x\":[\"Business\"],\"xaxis\":\"x\",\"y\":[32],\"yaxis\":\"y\",\"type\":\"scatter\"},{\"hovertemplate\":\"Genre=%{x}<br>Required_IOS_Version=15<br>No_of_Apps=%{y}<extra></extra>\",\"ids\":[22],\"legendgroup\":\"Music\",\"marker\":{\"color\":\"#636efa\",\"symbol\":\"circle\"},\"mode\":\"markers\",\"name\":\"Music\",\"orientation\":\"v\",\"showlegend\":true,\"x\":[\"Music\"],\"xaxis\":\"x\",\"y\":[22],\"yaxis\":\"y\",\"type\":\"scatter\"},{\"hovertemplate\":\"Genre=%{x}<br>Required_IOS_Version=15<br>No_of_Apps=%{y}<extra></extra>\",\"ids\":[15],\"legendgroup\":\"Navigation\",\"marker\":{\"color\":\"#EF553B\",\"symbol\":\"circle\"},\"mode\":\"markers\",\"name\":\"Navigation\",\"orientation\":\"v\",\"showlegend\":true,\"x\":[\"Navigation\"],\"xaxis\":\"x\",\"y\":[15],\"yaxis\":\"y\",\"type\":\"scatter\"},{\"hovertemplate\":\"Genre=%{x}<br>Required_IOS_Version=15<br>No_of_Apps=%{y}<extra></extra>\",\"ids\":[160],\"legendgroup\":\"Utilities\",\"marker\":{\"color\":\"#00cc96\",\"symbol\":\"circle\"},\"mode\":\"markers\",\"name\":\"Utilities\",\"orientation\":\"v\",\"showlegend\":true,\"x\":[\"Utilities\"],\"xaxis\":\"x\",\"y\":[160],\"yaxis\":\"y\",\"type\":\"scatter\"},{\"hovertemplate\":\"Genre=%{x}<br>Required_IOS_Version=15<br>No_of_Apps=%{y}<extra></extra>\",\"ids\":[11],\"legendgroup\":\"Medical\",\"marker\":{\"color\":\"#ab63fa\",\"symbol\":\"circle\"},\"mode\":\"markers\",\"name\":\"Medical\",\"orientation\":\"v\",\"showlegend\":true,\"x\":[\"Medical\"],\"xaxis\":\"x\",\"y\":[11],\"yaxis\":\"y\",\"type\":\"scatter\"},{\"hovertemplate\":\"Genre=%{x}<br>Required_IOS_Version=15<br>No_of_Apps=%{y}<extra></extra>\",\"ids\":[33],\"legendgroup\":\"Games\",\"marker\":{\"color\":\"#FFA15A\",\"symbol\":\"circle\"},\"mode\":\"markers\",\"name\":\"Games\",\"orientation\":\"v\",\"showlegend\":true,\"x\":[\"Games\"],\"xaxis\":\"x\",\"y\":[33],\"yaxis\":\"y\",\"type\":\"scatter\"},{\"hovertemplate\":\"Genre=%{x}<br>Required_IOS_Version=15<br>No_of_Apps=%{y}<extra></extra>\",\"ids\":[42],\"legendgroup\":\"Finance\",\"marker\":{\"color\":\"#19d3f3\",\"symbol\":\"circle\"},\"mode\":\"markers\",\"name\":\"Finance\",\"orientation\":\"v\",\"showlegend\":true,\"x\":[\"Finance\"],\"xaxis\":\"x\",\"y\":[42],\"yaxis\":\"y\",\"type\":\"scatter\"},{\"hovertemplate\":\"Genre=%{x}<br>Required_IOS_Version=15<br>No_of_Apps=%{y}<extra></extra>\",\"ids\":[6],\"legendgroup\":\"Weather\",\"marker\":{\"color\":\"#FF6692\",\"symbol\":\"circle\"},\"mode\":\"markers\",\"name\":\"Weather\",\"orientation\":\"v\",\"showlegend\":true,\"x\":[\"Weather\"],\"xaxis\":\"x\",\"y\":[6],\"yaxis\":\"y\",\"type\":\"scatter\"},{\"hovertemplate\":\"Genre=%{x}<br>Required_IOS_Version=15<br>No_of_Apps=%{y}<extra></extra>\",\"ids\":[52],\"legendgroup\":\"Lifestyle\",\"marker\":{\"color\":\"#B6E880\",\"symbol\":\"circle\"},\"mode\":\"markers\",\"name\":\"Lifestyle\",\"orientation\":\"v\",\"showlegend\":true,\"x\":[\"Lifestyle\"],\"xaxis\":\"x\",\"y\":[52],\"yaxis\":\"y\",\"type\":\"scatter\"},{\"hovertemplate\":\"Genre=%{x}<br>Required_IOS_Version=15<br>No_of_Apps=%{y}<extra></extra>\",\"ids\":[57],\"legendgroup\":\"Health & Fitness\",\"marker\":{\"color\":\"#FF97FF\",\"symbol\":\"circle\"},\"mode\":\"markers\",\"name\":\"Health & Fitness\",\"orientation\":\"v\",\"showlegend\":true,\"x\":[\"Health & Fitness\"],\"xaxis\":\"x\",\"y\":[57],\"yaxis\":\"y\",\"type\":\"scatter\"},{\"hovertemplate\":\"Genre=%{x}<br>Required_IOS_Version=15<br>No_of_Apps=%{y}<extra></extra>\",\"ids\":[11],\"legendgroup\":\"News\",\"marker\":{\"color\":\"#FECB52\",\"symbol\":\"circle\"},\"mode\":\"markers\",\"name\":\"News\",\"orientation\":\"v\",\"showlegend\":true,\"x\":[\"News\"],\"xaxis\":\"x\",\"y\":[11],\"yaxis\":\"y\",\"type\":\"scatter\"},{\"hovertemplate\":\"Genre=%{x}<br>Required_IOS_Version=15<br>No_of_Apps=%{y}<extra></extra>\",\"ids\":[12],\"legendgroup\":\"Food & Drink\",\"marker\":{\"color\":\"#636efa\",\"symbol\":\"circle\"},\"mode\":\"markers\",\"name\":\"Food & Drink\",\"orientation\":\"v\",\"showlegend\":true,\"x\":[\"Food & Drink\"],\"xaxis\":\"x\",\"y\":[12],\"yaxis\":\"y\",\"type\":\"scatter\"},{\"hovertemplate\":\"Genre=%{x}<br>Required_IOS_Version=15<br>No_of_Apps=%{y}<extra></extra>\",\"ids\":[9],\"legendgroup\":\"Shopping\",\"marker\":{\"color\":\"#EF553B\",\"symbol\":\"circle\"},\"mode\":\"markers\",\"name\":\"Shopping\",\"orientation\":\"v\",\"showlegend\":true,\"x\":[\"Shopping\"],\"xaxis\":\"x\",\"y\":[9],\"yaxis\":\"y\",\"type\":\"scatter\"},{\"hovertemplate\":\"Genre=%{x}<br>Required_IOS_Version=15<br>No_of_Apps=%{y}<extra></extra>\",\"ids\":[1],\"legendgroup\":\"Magazines & Newspapers\",\"marker\":{\"color\":\"#00cc96\",\"symbol\":\"circle\"},\"mode\":\"markers\",\"name\":\"Magazines & Newspapers\",\"orientation\":\"v\",\"showlegend\":true,\"x\":[\"Magazines & Newspapers\"],\"xaxis\":\"x\",\"y\":[1],\"yaxis\":\"y\",\"type\":\"scatter\"},{\"hovertemplate\":\"Genre=%{x}<br>Required_IOS_Version=15<br>No_of_Apps=%{y}<extra></extra>\",\"ids\":[7],\"legendgroup\":\"Graphics & Design\",\"marker\":{\"color\":\"#ab63fa\",\"symbol\":\"circle\"},\"mode\":\"markers\",\"name\":\"Graphics & Design\",\"orientation\":\"v\",\"showlegend\":true,\"x\":[\"Graphics & Design\"],\"xaxis\":\"x\",\"y\":[7],\"yaxis\":\"y\",\"type\":\"scatter\"},{\"hovertemplate\":\"Genre=%{x}<br>Required_IOS_Version=15<br>No_of_Apps=%{y}<extra></extra>\",\"ids\":[14],\"legendgroup\":\"Developer Tools\",\"marker\":{\"color\":\"#FFA15A\",\"symbol\":\"circle\"},\"mode\":\"markers\",\"name\":\"Developer Tools\",\"orientation\":\"v\",\"showlegend\":true,\"x\":[\"Developer Tools\"],\"xaxis\":\"x\",\"y\":[14],\"yaxis\":\"y\",\"type\":\"scatter\"}],\"name\":\"15\"}]);\n",
       "                        }).then(function(){\n",
       "                            \n",
       "var gd = document.getElementById('1dba1609-3158-45c2-bf6d-c5da48b8b887');\n",
       "var x = new MutationObserver(function (mutations, observer) {{\n",
       "        var display = window.getComputedStyle(gd).display;\n",
       "        if (!display || display === 'none') {{\n",
       "            console.log([gd, 'removed!']);\n",
       "            Plotly.purge(gd);\n",
       "            observer.disconnect();\n",
       "        }}\n",
       "}});\n",
       "\n",
       "// Listen for the removal of the full notebook cells\n",
       "var notebookContainer = gd.closest('#notebook-container');\n",
       "if (notebookContainer) {{\n",
       "    x.observe(notebookContainer, {childList: true});\n",
       "}}\n",
       "\n",
       "// Listen for the clearing of the current output cell\n",
       "var outputEl = gd.closest('.output');\n",
       "if (outputEl) {{\n",
       "    x.observe(outputEl, {childList: true});\n",
       "}}\n",
       "\n",
       "                        })                };                            </script>        </div>\n",
       "</body>\n",
       "</html>"
      ]
     },
     "metadata": {},
     "output_type": "display_data"
    }
   ],
   "source": [
    "trace11 = go.Table(\n",
    "        header=dict(\n",
    "            values=[\"Model\", \"Operating<br>System\"],\n",
    "            fill_color='mediumspringgreen',\n",
    "            font=dict(size=10),\n",
    "            align=\"left\"\n",
    "        ),\n",
    "        cells=dict(\n",
    "            values=[excel_df[k].tolist() for k in excel_df.columns],\n",
    "            fill_color='blanchedalmond',\n",
    "            align = \"left\")\n",
    "    )\n",
    "fig10 = go.Figure(data = [trace11])#, layout = layout)rgba(224, 148, 215, 0.8)\n",
    "fig10.update_layout(title='Verify Iphone Models Here: ', width=1000, height=300, title_x=0.45)\n",
    "\n",
    "###############################################################\n",
    "\n",
    "fig9 = px.scatter(working_apps.sort_values(by='Required_IOS_Version'), \n",
    "                 y=\"No_of_Apps\",\n",
    "                 x=\"Genre\", \n",
    "                 color=\"Genre\",\n",
    "                 animation_frame='Required_IOS_Version', \n",
    "                 animation_group=\"No_of_Apps\",\n",
    "                 range_y=[-1000,37000], \n",
    "                 title='Number of apps that work on differnt IOS versions')\n",
    "#fig.update_annotations(textangle=45, yshift=-40)\n",
    "fig9.update_xaxes(tickangle=45)\n",
    "fig9.update_layout(width=1000, \n",
    "                   title_x=0.45, \n",
    "                   margin=dict(l=20, r=20, t=60, b=200))\n",
    "#fig9.layout.pop(\"updatemenus\")\n",
    "fig9['layout']['sliders'][0]['pad']=dict(r= 10, t= 150,)\n",
    "##############\n",
    "fig10.show()\n",
    "fig9.show()"
   ]
  },
  {
   "cell_type": "markdown",
   "metadata": {
    "id": "JzMKwQ4YDlGV"
   },
   "source": [
    "> Games started rising from IOS 6 with 23+ thousand apps.\n",
    "\n",
    "> Majority of the apps has been added in between IOS 8-12.\n",
    "\n",
    "> People holding old phones have very few working apps. \n",
    "\n",
    "> We can also verify with the above table that contains iphone models and their compatible versions. \n",
    "\n",
    "> So far Ios 15 is the latest version and there are some catagories that they've already started deploying apps in this version."
   ]
  },
  {
   "cell_type": "markdown",
   "metadata": {
    "id": "ZnJ1ZK32gx2v"
   },
   "source": [
    "### Q6.What is percent of Free and Paid Games and What are the top 10 games that most users use?"
   ]
  },
  {
   "cell_type": "code",
   "execution_count": 50,
   "metadata": {
    "colab": {
     "base_uri": "https://localhost:8080/",
     "height": 498
    },
    "executionInfo": {
     "elapsed": 780,
     "status": "ok",
     "timestamp": 1662575258816,
     "user": {
      "displayName": "Pratul Chandra",
      "userId": "06160049637809107783"
     },
     "user_tz": -330
    },
    "id": "HU7Y8ux79zHc",
    "outputId": "26f0288b-c7c7-4368-df08-32d602b0f8c8"
   },
   "outputs": [
    {
     "name": "stdout",
     "output_type": "stream",
     "text": [
      "No of Free games: \n",
      " 177827\n",
      "No of Paid games: \n",
      " 15919\n"
     ]
    },
    {
     "data": {
      "image/png": "[encoded data removed]",
      "text/plain": [
       "<Figure size 504x504 with 1 Axes>"
      ]
     },
     "metadata": {},
     "output_type": "display_data"
    }
   ],
   "source": [
    "#Top Free games\n",
    "Top_Free_games= df[df['Primary_Genre']=='Games'].sort_values(by='Reviews', ascending=False).head(15)\n",
    "#Top Paid Games\n",
    "Top_Paid_games= df[(df['Primary_Genre']=='Games')&(df['Free']==False)].sort_values(by='Reviews', ascending=False).head(15)\n",
    "print(\"No of Free games: \\n\",\"177827\" ) #df[(df['Free']==True)&(df['Primary_Genre']=='Games')]['Free'].value_counts()\n",
    "print(\"No of Paid games: \\n\", \"15919\") #df[(df['Free']==False)&(df['Primary_Genre']=='Games')]['Free'].value_counts()\n",
    "##########\n",
    "plt.figure(figsize=(7,7))\n",
    "labels = 'Free', 'Paid'\n",
    "sizes = [177827, 15919] \n",
    "colors = [\"lightgreen\",\"pink\"]\n",
    "explode = (0.2,0)\n",
    "plt.pie(sizes, \n",
    "        explode=explode, \n",
    "        labels=labels, \n",
    "        colors=colors, \n",
    "        autopct='%1.1f%%', \n",
    "        shadow=True, startangle=45)\n",
    "plt.title('Free Vs Paid Games',size = 15)\n",
    "plt.show()"
   ]
  },
  {
   "cell_type": "code",
   "execution_count": 51,
   "metadata": {
    "colab": {
     "base_uri": "https://localhost:8080/",
     "height": 577
    },
    "executionInfo": {
     "elapsed": 32,
     "status": "ok",
     "timestamp": 1662575258818,
     "user": {
      "displayName": "Pratul Chandra",
      "userId": "06160049637809107783"
     },
     "user_tz": -330
    },
    "id": "egEfVuWu9zDS",
    "outputId": "634376d9-25ec-4b75-b090-d73957deec56"
   },
   "outputs": [
    {
     "data": {
      "text/html": [
       "<html>\n",
       "<head><meta charset=\"utf-8\" /></head>\n",
       "<body>\n",
       "    <div>            <script src=\"https://cdnjs.cloudflare.com/ajax/libs/mathjax/2.7.5/MathJax.js?config=TeX-AMS-MML_SVG\"></script><script type=\"text/javascript\">if (window.MathJax && window.MathJax.Hub && window.MathJax.Hub.Config) {window.MathJax.Hub.Config({SVG: {font: \"STIX-Web\"}});}</script>                <script type=\"text/javascript\">window.PlotlyConfig = {MathJaxConfig: 'local'};</script>\n",
       "        <script src=\"https://cdn.plot.ly/plotly-2.14.0.min.js\"></script>                <div id=\"ab1aade9-1ad4-4b4f-9372-7e36e3d02094\" class=\"plotly-graph-div\" style=\"height:560px; width:900px;\"></div>            <script type=\"text/javascript\">                                    window.PLOTLYENV=window.PLOTLYENV || {};                                    if (document.getElementById(\"ab1aade9-1ad4-4b4f-9372-7e36e3d02094\")) {                    Plotly.newPlot(                        \"ab1aade9-1ad4-4b4f-9372-7e36e3d02094\",                        [{\"name\":\"Top Free Games\",\"x\":[\"Roblox\",\"Sniper 3D: Gun Shooting Games\",\"Episode - Choose Your Story\",\"Candy Crush Saga\",\"Toon Blast\",\"Happy Color\\u00ae \\u2013 Paint by Number\",\"Golf Clash\",\"Hole.io\",\"Clash Royale\",\"Bowmasters - Multiplayer Game\",\"Clash of Clans\",\"Call of Duty\\u00ae: Mobile\",\"Helix Jump\",\"Homescapes\",\"Subway Surfers\"],\"y\":[6127588,2538582,2334130,2177394,2119062,2020726,1887985,1887798,1842876,1830342,1827601,1455647,1446845,1353514,1341151],\"type\":\"bar\",\"xaxis\":\"x\",\"yaxis\":\"y\"},{\"name\":\"Top Paid games\",\"x\":[\"Minecraft\",\"Bloons TD 6\",\"Plague Inc.\",\"Monopoly\",\"Solitaire by MobilityWare\",\"Heads Up!\",\"Trivia Crack (No Ads)\",\"Geometry Dash\",\"Bloons TD 5\",\"Clear Vision (17+)\",\"Terraria\",\"Stardew Valley\",\"Rebel Inc.\",\"Spider Solitaire MobilityWare\",\"Kingdom Rush Vengeance TD\"],\"y\":[493942,172222,123937,114771,105012,89916,88636,86737,79740,69873,43576,43496,32558,31752,31134],\"type\":\"bar\",\"xaxis\":\"x2\",\"yaxis\":\"y2\"}],                        {\"template\":{\"data\":{\"histogram2dcontour\":[{\"type\":\"histogram2dcontour\",\"colorbar\":{\"outlinewidth\":0,\"ticks\":\"\"},\"colorscale\":[[0.0,\"#0d0887\"],[0.1111111111111111,\"#46039f\"],[0.2222222222222222,\"#7201a8\"],[0.3333333333333333,\"#9c179e\"],[0.4444444444444444,\"#bd3786\"],[0.5555555555555556,\"#d8576b\"],[0.6666666666666666,\"#ed7953\"],[0.7777777777777778,\"#fb9f3a\"],[0.8888888888888888,\"#fdca26\"],[1.0,\"#f0f921\"]]}],\"choropleth\":[{\"type\":\"choropleth\",\"colorbar\":{\"outlinewidth\":0,\"ticks\":\"\"}}],\"histogram2d\":[{\"type\":\"histogram2d\",\"colorbar\":{\"outlinewidth\":0,\"ticks\":\"\"},\"colorscale\":[[0.0,\"#0d0887\"],[0.1111111111111111,\"#46039f\"],[0.2222222222222222,\"#7201a8\"],[0.3333333333333333,\"#9c179e\"],[0.4444444444444444,\"#bd3786\"],[0.5555555555555556,\"#d8576b\"],[0.6666666666666666,\"#ed7953\"],[0.7777777777777778,\"#fb9f3a\"],[0.8888888888888888,\"#fdca26\"],[1.0,\"#f0f921\"]]}],\"heatmap\":[{\"type\":\"heatmap\",\"colorbar\":{\"outlinewidth\":0,\"ticks\":\"\"},\"colorscale\":[[0.0,\"#0d0887\"],[0.1111111111111111,\"#46039f\"],[0.2222222222222222,\"#7201a8\"],[0.3333333333333333,\"#9c179e\"],[0.4444444444444444,\"#bd3786\"],[0.5555555555555556,\"#d8576b\"],[0.6666666666666666,\"#ed7953\"],[0.7777777777777778,\"#fb9f3a\"],[0.8888888888888888,\"#fdca26\"],[1.0,\"#f0f921\"]]}],\"heatmapgl\":[{\"type\":\"heatmapgl\",\"colorbar\":{\"outlinewidth\":0,\"ticks\":\"\"},\"colorscale\":[[0.0,\"#0d0887\"],[0.1111111111111111,\"#46039f\"],[0.2222222222222222,\"#7201a8\"],[0.3333333333333333,\"#9c179e\"],[0.4444444444444444,\"#bd3786\"],[0.5555555555555556,\"#d8576b\"],[0.6666666666666666,\"#ed7953\"],[0.7777777777777778,\"#fb9f3a\"],[0.8888888888888888,\"#fdca26\"],[1.0,\"#f0f921\"]]}],\"contourcarpet\":[{\"type\":\"contourcarpet\",\"colorbar\":{\"outlinewidth\":0,\"ticks\":\"\"}}],\"contour\":[{\"type\":\"contour\",\"colorbar\":{\"outlinewidth\":0,\"ticks\":\"\"},\"colorscale\":[[0.0,\"#0d0887\"],[0.1111111111111111,\"#46039f\"],[0.2222222222222222,\"#7201a8\"],[0.3333333333333333,\"#9c179e\"],[0.4444444444444444,\"#bd3786\"],[0.5555555555555556,\"#d8576b\"],[0.6666666666666666,\"#ed7953\"],[0.7777777777777778,\"#fb9f3a\"],[0.8888888888888888,\"#fdca26\"],[1.0,\"#f0f921\"]]}],\"surface\":[{\"type\":\"surface\",\"colorbar\":{\"outlinewidth\":0,\"ticks\":\"\"},\"colorscale\":[[0.0,\"#0d0887\"],[0.1111111111111111,\"#46039f\"],[0.2222222222222222,\"#7201a8\"],[0.3333333333333333,\"#9c179e\"],[0.4444444444444444,\"#bd3786\"],[0.5555555555555556,\"#d8576b\"],[0.6666666666666666,\"#ed7953\"],[0.7777777777777778,\"#fb9f3a\"],[0.8888888888888888,\"#fdca26\"],[1.0,\"#f0f921\"]]}],\"mesh3d\":[{\"type\":\"mesh3d\",\"colorbar\":{\"outlinewidth\":0,\"ticks\":\"\"}}],\"scatter\":[{\"fillpattern\":{\"fillmode\":\"overlay\",\"size\":10,\"solidity\":0.2},\"type\":\"scatter\"}],\"parcoords\":[{\"type\":\"parcoords\",\"line\":{\"colorbar\":{\"outlinewidth\":0,\"ticks\":\"\"}}}],\"scatterpolargl\":[{\"type\":\"scatterpolargl\",\"marker\":{\"colorbar\":{\"outlinewidth\":0,\"ticks\":\"\"}}}],\"bar\":[{\"error_x\":{\"color\":\"#2a3f5f\"},\"error_y\":{\"color\":\"#2a3f5f\"},\"marker\":{\"line\":{\"color\":\"#E5ECF6\",\"width\":0.5},\"pattern\":{\"fillmode\":\"overlay\",\"size\":10,\"solidity\":0.2}},\"type\":\"bar\"}],\"scattergeo\":[{\"type\":\"scattergeo\",\"marker\":{\"colorbar\":{\"outlinewidth\":0,\"ticks\":\"\"}}}],\"scatterpolar\":[{\"type\":\"scatterpolar\",\"marker\":{\"colorbar\":{\"outlinewidth\":0,\"ticks\":\"\"}}}],\"histogram\":[{\"marker\":{\"pattern\":{\"fillmode\":\"overlay\",\"size\":10,\"solidity\":0.2}},\"type\":\"histogram\"}],\"scattergl\":[{\"type\":\"scattergl\",\"marker\":{\"colorbar\":{\"outlinewidth\":0,\"ticks\":\"\"}}}],\"scatter3d\":[{\"type\":\"scatter3d\",\"line\":{\"colorbar\":{\"outlinewidth\":0,\"ticks\":\"\"}},\"marker\":{\"colorbar\":{\"outlinewidth\":0,\"ticks\":\"\"}}}],\"scattermapbox\":[{\"type\":\"scattermapbox\",\"marker\":{\"colorbar\":{\"outlinewidth\":0,\"ticks\":\"\"}}}],\"scatterternary\":[{\"type\":\"scatterternary\",\"marker\":{\"colorbar\":{\"outlinewidth\":0,\"ticks\":\"\"}}}],\"scattercarpet\":[{\"type\":\"scattercarpet\",\"marker\":{\"colorbar\":{\"outlinewidth\":0,\"ticks\":\"\"}}}],\"carpet\":[{\"aaxis\":{\"endlinecolor\":\"#2a3f5f\",\"gridcolor\":\"white\",\"linecolor\":\"white\",\"minorgridcolor\":\"white\",\"startlinecolor\":\"#2a3f5f\"},\"baxis\":{\"endlinecolor\":\"#2a3f5f\",\"gridcolor\":\"white\",\"linecolor\":\"white\",\"minorgridcolor\":\"white\",\"startlinecolor\":\"#2a3f5f\"},\"type\":\"carpet\"}],\"table\":[{\"cells\":{\"fill\":{\"color\":\"#EBF0F8\"},\"line\":{\"color\":\"white\"}},\"header\":{\"fill\":{\"color\":\"#C8D4E3\"},\"line\":{\"color\":\"white\"}},\"type\":\"table\"}],\"barpolar\":[{\"marker\":{\"line\":{\"color\":\"#E5ECF6\",\"width\":0.5},\"pattern\":{\"fillmode\":\"overlay\",\"size\":10,\"solidity\":0.2}},\"type\":\"barpolar\"}],\"pie\":[{\"automargin\":true,\"type\":\"pie\"}]},\"layout\":{\"autotypenumbers\":\"strict\",\"colorway\":[\"#636efa\",\"#EF553B\",\"#00cc96\",\"#ab63fa\",\"#FFA15A\",\"#19d3f3\",\"#FF6692\",\"#B6E880\",\"#FF97FF\",\"#FECB52\"],\"font\":{\"color\":\"#2a3f5f\"},\"hovermode\":\"closest\",\"hoverlabel\":{\"align\":\"left\"},\"paper_bgcolor\":\"white\",\"plot_bgcolor\":\"#E5ECF6\",\"polar\":{\"bgcolor\":\"#E5ECF6\",\"angularaxis\":{\"gridcolor\":\"white\",\"linecolor\":\"white\",\"ticks\":\"\"},\"radialaxis\":{\"gridcolor\":\"white\",\"linecolor\":\"white\",\"ticks\":\"\"}},\"ternary\":{\"bgcolor\":\"#E5ECF6\",\"aaxis\":{\"gridcolor\":\"white\",\"linecolor\":\"white\",\"ticks\":\"\"},\"baxis\":{\"gridcolor\":\"white\",\"linecolor\":\"white\",\"ticks\":\"\"},\"caxis\":{\"gridcolor\":\"white\",\"linecolor\":\"white\",\"ticks\":\"\"}},\"coloraxis\":{\"colorbar\":{\"outlinewidth\":0,\"ticks\":\"\"}},\"colorscale\":{\"sequential\":[[0.0,\"#0d0887\"],[0.1111111111111111,\"#46039f\"],[0.2222222222222222,\"#7201a8\"],[0.3333333333333333,\"#9c179e\"],[0.4444444444444444,\"#bd3786\"],[0.5555555555555556,\"#d8576b\"],[0.6666666666666666,\"#ed7953\"],[0.7777777777777778,\"#fb9f3a\"],[0.8888888888888888,\"#fdca26\"],[1.0,\"#f0f921\"]],\"sequentialminus\":[[0.0,\"#0d0887\"],[0.1111111111111111,\"#46039f\"],[0.2222222222222222,\"#7201a8\"],[0.3333333333333333,\"#9c179e\"],[0.4444444444444444,\"#bd3786\"],[0.5555555555555556,\"#d8576b\"],[0.6666666666666666,\"#ed7953\"],[0.7777777777777778,\"#fb9f3a\"],[0.8888888888888888,\"#fdca26\"],[1.0,\"#f0f921\"]],\"diverging\":[[0,\"#8e0152\"],[0.1,\"#c51b7d\"],[0.2,\"#de77ae\"],[0.3,\"#f1b6da\"],[0.4,\"#fde0ef\"],[0.5,\"#f7f7f7\"],[0.6,\"#e6f5d0\"],[0.7,\"#b8e186\"],[0.8,\"#7fbc41\"],[0.9,\"#4d9221\"],[1,\"#276419\"]]},\"xaxis\":{\"gridcolor\":\"white\",\"linecolor\":\"white\",\"ticks\":\"\",\"title\":{\"standoff\":15},\"zerolinecolor\":\"white\",\"automargin\":true,\"zerolinewidth\":2},\"yaxis\":{\"gridcolor\":\"white\",\"linecolor\":\"white\",\"ticks\":\"\",\"title\":{\"standoff\":15},\"zerolinecolor\":\"white\",\"automargin\":true,\"zerolinewidth\":2},\"scene\":{\"xaxis\":{\"backgroundcolor\":\"#E5ECF6\",\"gridcolor\":\"white\",\"linecolor\":\"white\",\"showbackground\":true,\"ticks\":\"\",\"zerolinecolor\":\"white\",\"gridwidth\":2},\"yaxis\":{\"backgroundcolor\":\"#E5ECF6\",\"gridcolor\":\"white\",\"linecolor\":\"white\",\"showbackground\":true,\"ticks\":\"\",\"zerolinecolor\":\"white\",\"gridwidth\":2},\"zaxis\":{\"backgroundcolor\":\"#E5ECF6\",\"gridcolor\":\"white\",\"linecolor\":\"white\",\"showbackground\":true,\"ticks\":\"\",\"zerolinecolor\":\"white\",\"gridwidth\":2}},\"shapedefaults\":{\"line\":{\"color\":\"#2a3f5f\"}},\"annotationdefaults\":{\"arrowcolor\":\"#2a3f5f\",\"arrowhead\":0,\"arrowwidth\":1},\"geo\":{\"bgcolor\":\"white\",\"landcolor\":\"#E5ECF6\",\"subunitcolor\":\"white\",\"showland\":true,\"showlakes\":true,\"lakecolor\":\"white\"},\"title\":{\"x\":0.05},\"mapbox\":{\"style\":\"light\"}}},\"xaxis\":{\"anchor\":\"y\",\"domain\":[0.0,0.45]},\"yaxis\":{\"anchor\":\"x\",\"domain\":[0.0,1.0]},\"xaxis2\":{\"anchor\":\"y2\",\"domain\":[0.55,1.0]},\"yaxis2\":{\"anchor\":\"x2\",\"domain\":[0.0,1.0]},\"height\":560,\"width\":900,\"title\":{\"text\":\"Top 10 Games\",\"x\":0.45}},                        {\"responsive\": true}                    ).then(function(){\n",
       "                            \n",
       "var gd = document.getElementById('ab1aade9-1ad4-4b4f-9372-7e36e3d02094');\n",
       "var x = new MutationObserver(function (mutations, observer) {{\n",
       "        var display = window.getComputedStyle(gd).display;\n",
       "        if (!display || display === 'none') {{\n",
       "            console.log([gd, 'removed!']);\n",
       "            Plotly.purge(gd);\n",
       "            observer.disconnect();\n",
       "        }}\n",
       "}});\n",
       "\n",
       "// Listen for the removal of the full notebook cells\n",
       "var notebookContainer = gd.closest('#notebook-container');\n",
       "if (notebookContainer) {{\n",
       "    x.observe(notebookContainer, {childList: true});\n",
       "}}\n",
       "\n",
       "// Listen for the clearing of the current output cell\n",
       "var outputEl = gd.closest('.output');\n",
       "if (outputEl) {{\n",
       "    x.observe(outputEl, {childList: true});\n",
       "}}\n",
       "\n",
       "                        })                };                            </script>        </div>\n",
       "</body>\n",
       "</html>"
      ]
     },
     "metadata": {},
     "output_type": "display_data"
    }
   ],
   "source": [
    "#Top Free Apps \n",
    "#Top Paid Apps\n",
    "\n",
    "from plotly import tools\n",
    "trace12 = go.Bar(\n",
    "    x=Top_Free_games[\"App_Name\"],\n",
    "    y=Top_Free_games[\"Reviews\"],\n",
    "    name='Top Free Games'\n",
    ")\n",
    "trace13= go.Bar(\n",
    "    x=Top_Paid_games[\"App_Name\"],\n",
    "    y=Top_Paid_games[\"Reviews\"],\n",
    "    name='Top Paid games'\n",
    ")\n",
    "fig10 = tools.make_subplots(rows=1, cols=2)#, shared_xaxes=True)\n",
    "\n",
    "fig10.append_trace(trace12, 1,1)\n",
    "fig10.append_trace(trace13, 1,2)\n",
    "\n",
    "\n",
    "fig10.layout.update(height=560, width=900)\n",
    "fig10.update_layout(title='Top 10 Games', title_x=0.45)\n",
    "\n",
    "fig10.show()"
   ]
  },
  {
   "cell_type": "markdown",
   "metadata": {
    "id": "DItwHYcvOC1D"
   },
   "source": [
    "> Seems like there are only 8.2% of paid apps present in 19.3 lakh applications.\n",
    "\n",
    "> Roblox has 6 million users in free apps\n",
    "\n",
    "> Minecraft is the most selling app and have around 500 thousand users. "
   ]
  },
  {
   "cell_type": "markdown",
   "metadata": {
    "id": "rVllRmRkifMp"
   },
   "source": [
    "### Q7. What is the growth of gamers over the years. (2008 - 2021)"
   ]
  },
  {
   "cell_type": "code",
   "execution_count": 52,
   "metadata": {
    "colab": {
     "base_uri": "https://localhost:8080/"
    },
    "executionInfo": {
     "elapsed": 29,
     "status": "ok",
     "timestamp": 1662575258819,
     "user": {
      "displayName": "Pratul Chandra",
      "userId": "06160049637809107783"
     },
     "user_tz": -330
    },
    "id": "XvBC9YEz9y_o",
    "outputId": "9b7bb0d6-535b-476c-99bd-e43110bc2a04"
   },
   "outputs": [
    {
     "name": "stdout",
     "output_type": "stream",
     "text": [
      "Large sized Games:\n",
      " 7051\n",
      "Moderate sized Games:\n",
      " 48107\n",
      "Small sized Games:\n",
      " 138547\n"
     ]
    }
   ],
   "source": [
    "print('Large sized Games:\\n',df.App_Name[(df.Size_MB>=500)&(df.Primary_Genre=='Games')].count())\n",
    "print('Moderate sized Games:\\n',df.App_Name[((df.Size_MB>=150)&(df.Size_MB<=500))&(df.Primary_Genre=='Games')].count())\n",
    "print('Small sized Games:\\n',df.App_Name[(df.Size_MB<=150)&(df.Primary_Genre=='Games')].count())"
   ]
  },
  {
   "cell_type": "code",
   "execution_count": 53,
   "metadata": {
    "executionInfo": {
     "elapsed": 619,
     "status": "ok",
     "timestamp": 1662575259419,
     "user": {
      "displayName": "Pratul Chandra",
      "userId": "06160049637809107783"
     },
     "user_tz": -330
    },
    "id": "4Qz7hiG29y9o"
   },
   "outputs": [],
   "source": [
    "lg_sz=df[(df.Size_MB>=500)&(df.Primary_Genre=='Games')]\n",
    "md_sz=df[((df.Size_MB>=150)&(df.Size_MB<=500))&(df.Primary_Genre=='Games')]\n",
    "sl_sz=df[(df.Size_MB<=150)&(df.Primary_Genre=='Games')]\n",
    "#Large games df\n",
    "lg_sz_pl_yr= lg_sz.groupby(lg_sz.Released.dt.year)[\"Reviews\"].sum().reset_index()\n",
    "lg_sz_pl_yr.columns=['Year', 'Players']\n",
    "#Medium games df\n",
    "md_sz_pl_yr=md_sz.groupby(md_sz.Released.dt.year)[\"Reviews\"].sum().reset_index()\n",
    "md_sz_pl_yr.columns=['Year', 'Players']\n",
    "#Small games df\n",
    "sl_sz_pl_yr=sl_sz.groupby(sl_sz.Released.dt.year)[\"Reviews\"].sum().reset_index()\n",
    "sl_sz_pl_yr.columns=['Year', 'Players']"
   ]
  },
  {
   "cell_type": "code",
   "execution_count": 54,
   "metadata": {
    "colab": {
     "base_uri": "https://localhost:8080/",
     "height": 542
    },
    "executionInfo": {
     "elapsed": 21,
     "status": "ok",
     "timestamp": 1662575259420,
     "user": {
      "displayName": "Pratul Chandra",
      "userId": "06160049637809107783"
     },
     "user_tz": -330
    },
    "id": "yCZSBF_89y7F",
    "outputId": "5a299c26-c916-431c-805c-6b5b52e508dd"
   },
   "outputs": [
    {
     "data": {
      "text/html": [
       "<html>\n",
       "<head><meta charset=\"utf-8\" /></head>\n",
       "<body>\n",
       "    <div>            <script src=\"https://cdnjs.cloudflare.com/ajax/libs/mathjax/2.7.5/MathJax.js?config=TeX-AMS-MML_SVG\"></script><script type=\"text/javascript\">if (window.MathJax && window.MathJax.Hub && window.MathJax.Hub.Config) {window.MathJax.Hub.Config({SVG: {font: \"STIX-Web\"}});}</script>                <script type=\"text/javascript\">window.PlotlyConfig = {MathJaxConfig: 'local'};</script>\n",
       "        <script src=\"https://cdn.plot.ly/plotly-2.14.0.min.js\"></script>                <div id=\"b45af0ee-35ce-4b49-91ba-e09200d95cb0\" class=\"plotly-graph-div\" style=\"height:525px; width:900px;\"></div>            <script type=\"text/javascript\">                                    window.PLOTLYENV=window.PLOTLYENV || {};                                    if (document.getElementById(\"b45af0ee-35ce-4b49-91ba-e09200d95cb0\")) {                    Plotly.newPlot(                        \"b45af0ee-35ce-4b49-91ba-e09200d95cb0\",                        [{\"line\":{\"color\":\"blue\",\"width\":2},\"name\":\"Large Game Players (500 MB+)\",\"opacity\":0.5,\"x\":[2009,2010,2011,2012,2013,2014,2015,2016,2017,2018,2019,2020,2021],\"y\":[7649,70208,447970,318881,2169341,2250586,2518344,5375155,2914035,8814321,6553010,4056652,1238891],\"type\":\"scatter\"},{\"line\":{\"color\":\"green\",\"width\":1},\"name\":\"Medium Game Players(150 - 500 MB)\",\"opacity\":0.5,\"x\":[2008,2009,2010,2011,2012,2013,2014,2015,2016,2017,2018,2019,2020,2021],\"y\":[21896,941239,1374423,7734119,8600869,11145171,7912109,6324096,13835799,25403657,37464351,32341193,23705130,5609668],\"type\":\"scatter\"},{\"line\":{\"color\":\"red\",\"width\":2},\"name\":\"Small Game Players (Below 150 MB)\",\"opacity\":0.75,\"x\":[2008,2009,2010,2011,2012,2013,2014,2015,2016,2017,2018,2019,2020,2021],\"y\":[124541,891332,579334,1571153,2238646,2546147,2538773,3035413,4259540,6259469,4818609,5706602,3620814,1115576],\"type\":\"scatter\"}],                        {\"template\":{\"data\":{\"histogram2dcontour\":[{\"type\":\"histogram2dcontour\",\"colorbar\":{\"outlinewidth\":0,\"ticks\":\"\"},\"colorscale\":[[0.0,\"#0d0887\"],[0.1111111111111111,\"#46039f\"],[0.2222222222222222,\"#7201a8\"],[0.3333333333333333,\"#9c179e\"],[0.4444444444444444,\"#bd3786\"],[0.5555555555555556,\"#d8576b\"],[0.6666666666666666,\"#ed7953\"],[0.7777777777777778,\"#fb9f3a\"],[0.8888888888888888,\"#fdca26\"],[1.0,\"#f0f921\"]]}],\"choropleth\":[{\"type\":\"choropleth\",\"colorbar\":{\"outlinewidth\":0,\"ticks\":\"\"}}],\"histogram2d\":[{\"type\":\"histogram2d\",\"colorbar\":{\"outlinewidth\":0,\"ticks\":\"\"},\"colorscale\":[[0.0,\"#0d0887\"],[0.1111111111111111,\"#46039f\"],[0.2222222222222222,\"#7201a8\"],[0.3333333333333333,\"#9c179e\"],[0.4444444444444444,\"#bd3786\"],[0.5555555555555556,\"#d8576b\"],[0.6666666666666666,\"#ed7953\"],[0.7777777777777778,\"#fb9f3a\"],[0.8888888888888888,\"#fdca26\"],[1.0,\"#f0f921\"]]}],\"heatmap\":[{\"type\":\"heatmap\",\"colorbar\":{\"outlinewidth\":0,\"ticks\":\"\"},\"colorscale\":[[0.0,\"#0d0887\"],[0.1111111111111111,\"#46039f\"],[0.2222222222222222,\"#7201a8\"],[0.3333333333333333,\"#9c179e\"],[0.4444444444444444,\"#bd3786\"],[0.5555555555555556,\"#d8576b\"],[0.6666666666666666,\"#ed7953\"],[0.7777777777777778,\"#fb9f3a\"],[0.8888888888888888,\"#fdca26\"],[1.0,\"#f0f921\"]]}],\"heatmapgl\":[{\"type\":\"heatmapgl\",\"colorbar\":{\"outlinewidth\":0,\"ticks\":\"\"},\"colorscale\":[[0.0,\"#0d0887\"],[0.1111111111111111,\"#46039f\"],[0.2222222222222222,\"#7201a8\"],[0.3333333333333333,\"#9c179e\"],[0.4444444444444444,\"#bd3786\"],[0.5555555555555556,\"#d8576b\"],[0.6666666666666666,\"#ed7953\"],[0.7777777777777778,\"#fb9f3a\"],[0.8888888888888888,\"#fdca26\"],[1.0,\"#f0f921\"]]}],\"contourcarpet\":[{\"type\":\"contourcarpet\",\"colorbar\":{\"outlinewidth\":0,\"ticks\":\"\"}}],\"contour\":[{\"type\":\"contour\",\"colorbar\":{\"outlinewidth\":0,\"ticks\":\"\"},\"colorscale\":[[0.0,\"#0d0887\"],[0.1111111111111111,\"#46039f\"],[0.2222222222222222,\"#7201a8\"],[0.3333333333333333,\"#9c179e\"],[0.4444444444444444,\"#bd3786\"],[0.5555555555555556,\"#d8576b\"],[0.6666666666666666,\"#ed7953\"],[0.7777777777777778,\"#fb9f3a\"],[0.8888888888888888,\"#fdca26\"],[1.0,\"#f0f921\"]]}],\"surface\":[{\"type\":\"surface\",\"colorbar\":{\"outlinewidth\":0,\"ticks\":\"\"},\"colorscale\":[[0.0,\"#0d0887\"],[0.1111111111111111,\"#46039f\"],[0.2222222222222222,\"#7201a8\"],[0.3333333333333333,\"#9c179e\"],[0.4444444444444444,\"#bd3786\"],[0.5555555555555556,\"#d8576b\"],[0.6666666666666666,\"#ed7953\"],[0.7777777777777778,\"#fb9f3a\"],[0.8888888888888888,\"#fdca26\"],[1.0,\"#f0f921\"]]}],\"mesh3d\":[{\"type\":\"mesh3d\",\"colorbar\":{\"outlinewidth\":0,\"ticks\":\"\"}}],\"scatter\":[{\"fillpattern\":{\"fillmode\":\"overlay\",\"size\":10,\"solidity\":0.2},\"type\":\"scatter\"}],\"parcoords\":[{\"type\":\"parcoords\",\"line\":{\"colorbar\":{\"outlinewidth\":0,\"ticks\":\"\"}}}],\"scatterpolargl\":[{\"type\":\"scatterpolargl\",\"marker\":{\"colorbar\":{\"outlinewidth\":0,\"ticks\":\"\"}}}],\"bar\":[{\"error_x\":{\"color\":\"#2a3f5f\"},\"error_y\":{\"color\":\"#2a3f5f\"},\"marker\":{\"line\":{\"color\":\"#E5ECF6\",\"width\":0.5},\"pattern\":{\"fillmode\":\"overlay\",\"size\":10,\"solidity\":0.2}},\"type\":\"bar\"}],\"scattergeo\":[{\"type\":\"scattergeo\",\"marker\":{\"colorbar\":{\"outlinewidth\":0,\"ticks\":\"\"}}}],\"scatterpolar\":[{\"type\":\"scatterpolar\",\"marker\":{\"colorbar\":{\"outlinewidth\":0,\"ticks\":\"\"}}}],\"histogram\":[{\"marker\":{\"pattern\":{\"fillmode\":\"overlay\",\"size\":10,\"solidity\":0.2}},\"type\":\"histogram\"}],\"scattergl\":[{\"type\":\"scattergl\",\"marker\":{\"colorbar\":{\"outlinewidth\":0,\"ticks\":\"\"}}}],\"scatter3d\":[{\"type\":\"scatter3d\",\"line\":{\"colorbar\":{\"outlinewidth\":0,\"ticks\":\"\"}},\"marker\":{\"colorbar\":{\"outlinewidth\":0,\"ticks\":\"\"}}}],\"scattermapbox\":[{\"type\":\"scattermapbox\",\"marker\":{\"colorbar\":{\"outlinewidth\":0,\"ticks\":\"\"}}}],\"scatterternary\":[{\"type\":\"scatterternary\",\"marker\":{\"colorbar\":{\"outlinewidth\":0,\"ticks\":\"\"}}}],\"scattercarpet\":[{\"type\":\"scattercarpet\",\"marker\":{\"colorbar\":{\"outlinewidth\":0,\"ticks\":\"\"}}}],\"carpet\":[{\"aaxis\":{\"endlinecolor\":\"#2a3f5f\",\"gridcolor\":\"white\",\"linecolor\":\"white\",\"minorgridcolor\":\"white\",\"startlinecolor\":\"#2a3f5f\"},\"baxis\":{\"endlinecolor\":\"#2a3f5f\",\"gridcolor\":\"white\",\"linecolor\":\"white\",\"minorgridcolor\":\"white\",\"startlinecolor\":\"#2a3f5f\"},\"type\":\"carpet\"}],\"table\":[{\"cells\":{\"fill\":{\"color\":\"#EBF0F8\"},\"line\":{\"color\":\"white\"}},\"header\":{\"fill\":{\"color\":\"#C8D4E3\"},\"line\":{\"color\":\"white\"}},\"type\":\"table\"}],\"barpolar\":[{\"marker\":{\"line\":{\"color\":\"#E5ECF6\",\"width\":0.5},\"pattern\":{\"fillmode\":\"overlay\",\"size\":10,\"solidity\":0.2}},\"type\":\"barpolar\"}],\"pie\":[{\"automargin\":true,\"type\":\"pie\"}]},\"layout\":{\"autotypenumbers\":\"strict\",\"colorway\":[\"#636efa\",\"#EF553B\",\"#00cc96\",\"#ab63fa\",\"#FFA15A\",\"#19d3f3\",\"#FF6692\",\"#B6E880\",\"#FF97FF\",\"#FECB52\"],\"font\":{\"color\":\"#2a3f5f\"},\"hovermode\":\"closest\",\"hoverlabel\":{\"align\":\"left\"},\"paper_bgcolor\":\"white\",\"plot_bgcolor\":\"#E5ECF6\",\"polar\":{\"bgcolor\":\"#E5ECF6\",\"angularaxis\":{\"gridcolor\":\"white\",\"linecolor\":\"white\",\"ticks\":\"\"},\"radialaxis\":{\"gridcolor\":\"white\",\"linecolor\":\"white\",\"ticks\":\"\"}},\"ternary\":{\"bgcolor\":\"#E5ECF6\",\"aaxis\":{\"gridcolor\":\"white\",\"linecolor\":\"white\",\"ticks\":\"\"},\"baxis\":{\"gridcolor\":\"white\",\"linecolor\":\"white\",\"ticks\":\"\"},\"caxis\":{\"gridcolor\":\"white\",\"linecolor\":\"white\",\"ticks\":\"\"}},\"coloraxis\":{\"colorbar\":{\"outlinewidth\":0,\"ticks\":\"\"}},\"colorscale\":{\"sequential\":[[0.0,\"#0d0887\"],[0.1111111111111111,\"#46039f\"],[0.2222222222222222,\"#7201a8\"],[0.3333333333333333,\"#9c179e\"],[0.4444444444444444,\"#bd3786\"],[0.5555555555555556,\"#d8576b\"],[0.6666666666666666,\"#ed7953\"],[0.7777777777777778,\"#fb9f3a\"],[0.8888888888888888,\"#fdca26\"],[1.0,\"#f0f921\"]],\"sequentialminus\":[[0.0,\"#0d0887\"],[0.1111111111111111,\"#46039f\"],[0.2222222222222222,\"#7201a8\"],[0.3333333333333333,\"#9c179e\"],[0.4444444444444444,\"#bd3786\"],[0.5555555555555556,\"#d8576b\"],[0.6666666666666666,\"#ed7953\"],[0.7777777777777778,\"#fb9f3a\"],[0.8888888888888888,\"#fdca26\"],[1.0,\"#f0f921\"]],\"diverging\":[[0,\"#8e0152\"],[0.1,\"#c51b7d\"],[0.2,\"#de77ae\"],[0.3,\"#f1b6da\"],[0.4,\"#fde0ef\"],[0.5,\"#f7f7f7\"],[0.6,\"#e6f5d0\"],[0.7,\"#b8e186\"],[0.8,\"#7fbc41\"],[0.9,\"#4d9221\"],[1,\"#276419\"]]},\"xaxis\":{\"gridcolor\":\"white\",\"linecolor\":\"white\",\"ticks\":\"\",\"title\":{\"standoff\":15},\"zerolinecolor\":\"white\",\"automargin\":true,\"zerolinewidth\":2},\"yaxis\":{\"gridcolor\":\"white\",\"linecolor\":\"white\",\"ticks\":\"\",\"title\":{\"standoff\":15},\"zerolinecolor\":\"white\",\"automargin\":true,\"zerolinewidth\":2},\"scene\":{\"xaxis\":{\"backgroundcolor\":\"#E5ECF6\",\"gridcolor\":\"white\",\"linecolor\":\"white\",\"showbackground\":true,\"ticks\":\"\",\"zerolinecolor\":\"white\",\"gridwidth\":2},\"yaxis\":{\"backgroundcolor\":\"#E5ECF6\",\"gridcolor\":\"white\",\"linecolor\":\"white\",\"showbackground\":true,\"ticks\":\"\",\"zerolinecolor\":\"white\",\"gridwidth\":2},\"zaxis\":{\"backgroundcolor\":\"#E5ECF6\",\"gridcolor\":\"white\",\"linecolor\":\"white\",\"showbackground\":true,\"ticks\":\"\",\"zerolinecolor\":\"white\",\"gridwidth\":2}},\"shapedefaults\":{\"line\":{\"color\":\"#2a3f5f\"}},\"annotationdefaults\":{\"arrowcolor\":\"#2a3f5f\",\"arrowhead\":0,\"arrowwidth\":1},\"geo\":{\"bgcolor\":\"white\",\"landcolor\":\"#E5ECF6\",\"subunitcolor\":\"white\",\"showland\":true,\"showlakes\":true,\"lakecolor\":\"white\"},\"title\":{\"x\":0.05},\"mapbox\":{\"style\":\"light\"}}},\"title\":{\"text\":\"Gamers over the years (2008 to 2021)\",\"x\":0.4},\"xaxis\":{\"title\":{\"text\":\"Year\"}},\"yaxis\":{\"title\":{\"text\":\"Players\"}},\"width\":900},                        {\"responsive\": true}                    ).then(function(){\n",
       "                            \n",
       "var gd = document.getElementById('b45af0ee-35ce-4b49-91ba-e09200d95cb0');\n",
       "var x = new MutationObserver(function (mutations, observer) {{\n",
       "        var display = window.getComputedStyle(gd).display;\n",
       "        if (!display || display === 'none') {{\n",
       "            console.log([gd, 'removed!']);\n",
       "            Plotly.purge(gd);\n",
       "            observer.disconnect();\n",
       "        }}\n",
       "}});\n",
       "\n",
       "// Listen for the removal of the full notebook cells\n",
       "var notebookContainer = gd.closest('#notebook-container');\n",
       "if (notebookContainer) {{\n",
       "    x.observe(notebookContainer, {childList: true});\n",
       "}}\n",
       "\n",
       "// Listen for the clearing of the current output cell\n",
       "var outputEl = gd.closest('.output');\n",
       "if (outputEl) {{\n",
       "    x.observe(outputEl, {childList: true});\n",
       "}}\n",
       "\n",
       "                        })                };                            </script>        </div>\n",
       "</body>\n",
       "</html>"
      ]
     },
     "metadata": {},
     "output_type": "display_data"
    }
   ],
   "source": [
    "fig2 = go.Figure()\n",
    "fig2.add_trace(go.Scatter(x=lg_sz_pl_yr['Year'], \n",
    "                          y=lg_sz_pl_yr['Players'], \n",
    "                          name='Large Game Players (500 MB+)', \n",
    "                          opacity=0.5,\n",
    "                         line = dict(color='blue', width=2)))\n",
    "\n",
    "fig2.add_trace(go.Scatter(x=md_sz_pl_yr['Year'], \n",
    "                          y=md_sz_pl_yr['Players'], \n",
    "                          name='Medium Game Players(150 - 500 MB)', \n",
    "                          opacity=0.5,\n",
    "                         line = dict(color='green', width=1)))\n",
    "\n",
    "fig2.add_trace(go.Scatter(x=sl_sz_pl_yr['Year'], \n",
    "                          y=sl_sz_pl_yr['Players'], \n",
    "                          name='Small Game Players (Below 150 MB)', \n",
    "                          opacity=0.75,\n",
    "                         line=dict(color='red', width=2)))\n",
    "\n",
    "fig2.update_layout(title='Gamers over the years (2008 to 2021)',\n",
    "                   xaxis_title='Year',\n",
    "                   yaxis_title='Players', title_x=0.4, width= 900)\n",
    "fig2.show()"
   ]
  },
  {
   "cell_type": "markdown",
   "metadata": {
    "id": "5wdnZzvZRJEP"
   },
   "source": [
    "> Overall there is an excess number of participants in medium sized games with 32 million gamers. \n",
    "\n",
    "> Since the start of small sized games the number of players has gradually increased.\n",
    "\n",
    "> Gamer rate in 2018 took steep growth despite fewer large games.\n",
    "\n",
    ">In the year 2020 and 2021 there has been a massive drop in users across all the catagories it is possible it might be the effect of COVID-19."
   ]
  },
  {
   "cell_type": "markdown",
   "metadata": {
    "id": "eGJ_qqETiyVS"
   },
   "source": [
    "### 8.Which developer has the highest earnings from paid apps?"
   ]
  },
  {
   "cell_type": "code",
   "execution_count": 55,
   "metadata": {
    "colab": {
     "base_uri": "https://localhost:8080/"
    },
    "executionInfo": {
     "elapsed": 19,
     "status": "ok",
     "timestamp": 1662575259421,
     "user": {
      "displayName": "Pratul Chandra",
      "userId": "06160049637809107783"
     },
     "user_tz": -330
    },
    "id": "LaeWhTwv9y1b",
    "outputId": "1d457644-6415-4cf9-e884-921057c5e372"
   },
   "outputs": [
    {
     "name": "stderr",
     "output_type": "stream",
     "text": [
      "/usr/local/lib/python3.7/dist-packages/ipykernel_launcher.py:3: SettingWithCopyWarning:\n",
      "\n",
      "\n",
      "A value is trying to be set on a copy of a slice from a DataFrame.\n",
      "Try using .loc[row_indexer,col_indexer] = value instead\n",
      "\n",
      "See the caveats in the documentation: https://pandas.pydata.org/pandas-docs/stable/user_guide/indexing.html#returning-a-view-versus-a-copy\n",
      "\n",
      "/usr/local/lib/python3.7/dist-packages/ipykernel_launcher.py:5: SettingWithCopyWarning:\n",
      "\n",
      "\n",
      "A value is trying to be set on a copy of a slice from a DataFrame.\n",
      "Try using .loc[row_indexer,col_indexer] = value instead\n",
      "\n",
      "See the caveats in the documentation: https://pandas.pydata.org/pandas-docs/stable/user_guide/indexing.html#returning-a-view-versus-a-copy\n",
      "\n",
      "/usr/local/lib/python3.7/dist-packages/pandas/core/frame.py:5047: SettingWithCopyWarning:\n",
      "\n",
      "\n",
      "A value is trying to be set on a copy of a slice from a DataFrame\n",
      "\n",
      "See the caveats in the documentation: https://pandas.pydata.org/pandas-docs/stable/user_guide/indexing.html#returning-a-view-versus-a-copy\n",
      "\n"
     ]
    }
   ],
   "source": [
    "#Paid apps df\n",
    "paid_apps_df= df[df['Free']==False]\n",
    "paid_apps_df['Revenue']=round(paid_apps_df['Revenue'],2)\n",
    "# Rounding up Average_User_Rating for color\n",
    "paid_apps_df['Average_User_Rating']=round(paid_apps_df['Average_User_Rating'],1)\n",
    "paid_apps_df.rename(columns = {'Average_User_Rating':'User Rating'}, inplace = True)\n",
    "#Grouping by Developer\n",
    "#paid_apps_df.groupby(['Developer'])['Revenue'].sum().reset_index().sort_values(by='Revenue',ascending=False).head(100)"
   ]
  },
  {
   "cell_type": "code",
   "execution_count": 56,
   "metadata": {
    "colab": {
     "base_uri": "https://localhost:8080/",
     "height": 542
    },
    "executionInfo": {
     "elapsed": 14,
     "status": "ok",
     "timestamp": 1662575259422,
     "user": {
      "displayName": "Pratul Chandra",
      "userId": "06160049637809107783"
     },
     "user_tz": -330
    },
    "id": "12w-abfr9yzq",
    "outputId": "1fbda6e4-a5e7-42b4-b0e6-4d320599b8c9"
   },
   "outputs": [
    {
     "data": {
      "text/html": [
       "<html>\n",
       "<head><meta charset=\"utf-8\" /></head>\n",
       "<body>\n",
       "    <div>            <script src=\"https://cdnjs.cloudflare.com/ajax/libs/mathjax/2.7.5/MathJax.js?config=TeX-AMS-MML_SVG\"></script><script type=\"text/javascript\">if (window.MathJax && window.MathJax.Hub && window.MathJax.Hub.Config) {window.MathJax.Hub.Config({SVG: {font: \"STIX-Web\"}});}</script>                <script type=\"text/javascript\">window.PlotlyConfig = {MathJaxConfig: 'local'};</script>\n",
       "        <script src=\"https://cdn.plot.ly/plotly-2.14.0.min.js\"></script>                <div id=\"0f10d846-b25c-4609-b45f-e1953813179d\" class=\"plotly-graph-div\" style=\"height:525px; width:100%;\"></div>            <script type=\"text/javascript\">                                    window.PLOTLYENV=window.PLOTLYENV || {};                                    if (document.getElementById(\"0f10d846-b25c-4609-b45f-e1953813179d\")) {                    Plotly.newPlot(                        \"0f10d846-b25c-4609-b45f-e1953813179d\",                        [{\"dimensions\":[{\"label\":\"Age+\",\"values\":[\"9+\",\"4+\",\"4+\",\"4+\",\"4+\",\"4+\",\"4+\",\"4+\",\"4+\",\"9+\",\"4+\",\"4+\",\"4+\",\"4+\",\"4+\",\"4+\",\"4+\",\"12+\",\"4+\",\"4+\",\"4+\",\"4+\",\"9+\",\"4+\",\"4+\",\"9+\",\"12+\",\"4+\",\"4+\",\"17+\"]},{\"label\":\"Developer\",\"values\":[\"Mojang\",\"Time Base Technology Limited\",\"Piksoft Inc.\",\"Ginger Labs\",\"Shotzoom Software\",\"Apple\",\"Readdle Technologies Limited\",\"Burak Acemoglu\",\"PlantSnap, Inc.\",\"Ninja Kiwi\",\"Ipnos Software Inc.\",\"Lightricks Ltd.\",\"North Pole Command Centre Limited\",\"Luma Touch LLC\",\"WeatherBug\",\"MobilityWare\",\"Marmalade Game Studio\",\"TuneIn\",\"Skript, LLC\",\"Duet, Inc.\",\"Maple Media, LLC\",\"Savage Interactive Pty Ltd\",\"Ninja Kiwi\",\"Tinkerworks Apps\",\"SkyPaw Co. Ltd\",\"505 Games (US), Inc.\",\"Chucklefish Limited\",\"Simulation Curriculum Corp.\",\"The Grizzly Labs\",\"Tasmanic Editions\"]},{\"label\":\"Earnings ($)\",\"values\":[3452654.58,1549996.08,1483579.24,1391472.2,1255174.47,1102321.29,1053608.68,896712.96,876501.53,859387.78,629637.03,599174.31,589972.47,550946.29,544007.86,524009.88,457936.29,445404.15,345580.87,312696.99,296370.36,260828.91,238422.6,229808.38,220784.79,217444.24,217045.04,214666.32,212992.91,209673.45]},{\"label\":\"Catagory\",\"values\":[\"Games\",\"Productivity\",\"Business\",\"Productivity\",\"Sports\",\"Weather\",\"Productivity\",\"Social Networking\",\"Education\",\"Games\",\"Health & Fitness\",\"Photo & Video\",\"Entertainment\",\"Photo & Video\",\"Weather\",\"Games\",\"Games\",\"Music\",\"Productivity\",\"Productivity\",\"Utilities\",\"Graphics & Design\",\"Games\",\"Photo & Video\",\"Utilities\",\"Games\",\"Games\",\"Reference\",\"Business\",\"Utilities\"]}],\"domain\":{\"x\":[0.0,1.0],\"y\":[0.0,1.0]},\"line\":{\"color\":[4.5,4.8,4.9,4.8,4.8,4.7,4.7,4.5,4.5,4.8,4.8,4.9,4.7,4.8,4.7,4.8,4.6,4.7,4.8,4.4,4.8,4.5,4.8,4.6,4.7,4.4,4.8,4.8,4.9,4.6],\"coloraxis\":\"coloraxis\"},\"name\":\"\",\"type\":\"parcats\"}],                        {\"template\":{\"data\":{\"histogram2dcontour\":[{\"type\":\"histogram2dcontour\",\"colorbar\":{\"outlinewidth\":0,\"ticks\":\"\"},\"colorscale\":[[0.0,\"#0d0887\"],[0.1111111111111111,\"#46039f\"],[0.2222222222222222,\"#7201a8\"],[0.3333333333333333,\"#9c179e\"],[0.4444444444444444,\"#bd3786\"],[0.5555555555555556,\"#d8576b\"],[0.6666666666666666,\"#ed7953\"],[0.7777777777777778,\"#fb9f3a\"],[0.8888888888888888,\"#fdca26\"],[1.0,\"#f0f921\"]]}],\"choropleth\":[{\"type\":\"choropleth\",\"colorbar\":{\"outlinewidth\":0,\"ticks\":\"\"}}],\"histogram2d\":[{\"type\":\"histogram2d\",\"colorbar\":{\"outlinewidth\":0,\"ticks\":\"\"},\"colorscale\":[[0.0,\"#0d0887\"],[0.1111111111111111,\"#46039f\"],[0.2222222222222222,\"#7201a8\"],[0.3333333333333333,\"#9c179e\"],[0.4444444444444444,\"#bd3786\"],[0.5555555555555556,\"#d8576b\"],[0.6666666666666666,\"#ed7953\"],[0.7777777777777778,\"#fb9f3a\"],[0.8888888888888888,\"#fdca26\"],[1.0,\"#f0f921\"]]}],\"heatmap\":[{\"type\":\"heatmap\",\"colorbar\":{\"outlinewidth\":0,\"ticks\":\"\"},\"colorscale\":[[0.0,\"#0d0887\"],[0.1111111111111111,\"#46039f\"],[0.2222222222222222,\"#7201a8\"],[0.3333333333333333,\"#9c179e\"],[0.4444444444444444,\"#bd3786\"],[0.5555555555555556,\"#d8576b\"],[0.6666666666666666,\"#ed7953\"],[0.7777777777777778,\"#fb9f3a\"],[0.8888888888888888,\"#fdca26\"],[1.0,\"#f0f921\"]]}],\"heatmapgl\":[{\"type\":\"heatmapgl\",\"colorbar\":{\"outlinewidth\":0,\"ticks\":\"\"},\"colorscale\":[[0.0,\"#0d0887\"],[0.1111111111111111,\"#46039f\"],[0.2222222222222222,\"#7201a8\"],[0.3333333333333333,\"#9c179e\"],[0.4444444444444444,\"#bd3786\"],[0.5555555555555556,\"#d8576b\"],[0.6666666666666666,\"#ed7953\"],[0.7777777777777778,\"#fb9f3a\"],[0.8888888888888888,\"#fdca26\"],[1.0,\"#f0f921\"]]}],\"contourcarpet\":[{\"type\":\"contourcarpet\",\"colorbar\":{\"outlinewidth\":0,\"ticks\":\"\"}}],\"contour\":[{\"type\":\"contour\",\"colorbar\":{\"outlinewidth\":0,\"ticks\":\"\"},\"colorscale\":[[0.0,\"#0d0887\"],[0.1111111111111111,\"#46039f\"],[0.2222222222222222,\"#7201a8\"],[0.3333333333333333,\"#9c179e\"],[0.4444444444444444,\"#bd3786\"],[0.5555555555555556,\"#d8576b\"],[0.6666666666666666,\"#ed7953\"],[0.7777777777777778,\"#fb9f3a\"],[0.8888888888888888,\"#fdca26\"],[1.0,\"#f0f921\"]]}],\"surface\":[{\"type\":\"surface\",\"colorbar\":{\"outlinewidth\":0,\"ticks\":\"\"},\"colorscale\":[[0.0,\"#0d0887\"],[0.1111111111111111,\"#46039f\"],[0.2222222222222222,\"#7201a8\"],[0.3333333333333333,\"#9c179e\"],[0.4444444444444444,\"#bd3786\"],[0.5555555555555556,\"#d8576b\"],[0.6666666666666666,\"#ed7953\"],[0.7777777777777778,\"#fb9f3a\"],[0.8888888888888888,\"#fdca26\"],[1.0,\"#f0f921\"]]}],\"mesh3d\":[{\"type\":\"mesh3d\",\"colorbar\":{\"outlinewidth\":0,\"ticks\":\"\"}}],\"scatter\":[{\"fillpattern\":{\"fillmode\":\"overlay\",\"size\":10,\"solidity\":0.2},\"type\":\"scatter\"}],\"parcoords\":[{\"type\":\"parcoords\",\"line\":{\"colorbar\":{\"outlinewidth\":0,\"ticks\":\"\"}}}],\"scatterpolargl\":[{\"type\":\"scatterpolargl\",\"marker\":{\"colorbar\":{\"outlinewidth\":0,\"ticks\":\"\"}}}],\"bar\":[{\"error_x\":{\"color\":\"#2a3f5f\"},\"error_y\":{\"color\":\"#2a3f5f\"},\"marker\":{\"line\":{\"color\":\"#E5ECF6\",\"width\":0.5},\"pattern\":{\"fillmode\":\"overlay\",\"size\":10,\"solidity\":0.2}},\"type\":\"bar\"}],\"scattergeo\":[{\"type\":\"scattergeo\",\"marker\":{\"colorbar\":{\"outlinewidth\":0,\"ticks\":\"\"}}}],\"scatterpolar\":[{\"type\":\"scatterpolar\",\"marker\":{\"colorbar\":{\"outlinewidth\":0,\"ticks\":\"\"}}}],\"histogram\":[{\"marker\":{\"pattern\":{\"fillmode\":\"overlay\",\"size\":10,\"solidity\":0.2}},\"type\":\"histogram\"}],\"scattergl\":[{\"type\":\"scattergl\",\"marker\":{\"colorbar\":{\"outlinewidth\":0,\"ticks\":\"\"}}}],\"scatter3d\":[{\"type\":\"scatter3d\",\"line\":{\"colorbar\":{\"outlinewidth\":0,\"ticks\":\"\"}},\"marker\":{\"colorbar\":{\"outlinewidth\":0,\"ticks\":\"\"}}}],\"scattermapbox\":[{\"type\":\"scattermapbox\",\"marker\":{\"colorbar\":{\"outlinewidth\":0,\"ticks\":\"\"}}}],\"scatterternary\":[{\"type\":\"scatterternary\",\"marker\":{\"colorbar\":{\"outlinewidth\":0,\"ticks\":\"\"}}}],\"scattercarpet\":[{\"type\":\"scattercarpet\",\"marker\":{\"colorbar\":{\"outlinewidth\":0,\"ticks\":\"\"}}}],\"carpet\":[{\"aaxis\":{\"endlinecolor\":\"#2a3f5f\",\"gridcolor\":\"white\",\"linecolor\":\"white\",\"minorgridcolor\":\"white\",\"startlinecolor\":\"#2a3f5f\"},\"baxis\":{\"endlinecolor\":\"#2a3f5f\",\"gridcolor\":\"white\",\"linecolor\":\"white\",\"minorgridcolor\":\"white\",\"startlinecolor\":\"#2a3f5f\"},\"type\":\"carpet\"}],\"table\":[{\"cells\":{\"fill\":{\"color\":\"#EBF0F8\"},\"line\":{\"color\":\"white\"}},\"header\":{\"fill\":{\"color\":\"#C8D4E3\"},\"line\":{\"color\":\"white\"}},\"type\":\"table\"}],\"barpolar\":[{\"marker\":{\"line\":{\"color\":\"#E5ECF6\",\"width\":0.5},\"pattern\":{\"fillmode\":\"overlay\",\"size\":10,\"solidity\":0.2}},\"type\":\"barpolar\"}],\"pie\":[{\"automargin\":true,\"type\":\"pie\"}]},\"layout\":{\"autotypenumbers\":\"strict\",\"colorway\":[\"#636efa\",\"#EF553B\",\"#00cc96\",\"#ab63fa\",\"#FFA15A\",\"#19d3f3\",\"#FF6692\",\"#B6E880\",\"#FF97FF\",\"#FECB52\"],\"font\":{\"color\":\"#2a3f5f\"},\"hovermode\":\"closest\",\"hoverlabel\":{\"align\":\"left\"},\"paper_bgcolor\":\"white\",\"plot_bgcolor\":\"#E5ECF6\",\"polar\":{\"bgcolor\":\"#E5ECF6\",\"angularaxis\":{\"gridcolor\":\"white\",\"linecolor\":\"white\",\"ticks\":\"\"},\"radialaxis\":{\"gridcolor\":\"white\",\"linecolor\":\"white\",\"ticks\":\"\"}},\"ternary\":{\"bgcolor\":\"#E5ECF6\",\"aaxis\":{\"gridcolor\":\"white\",\"linecolor\":\"white\",\"ticks\":\"\"},\"baxis\":{\"gridcolor\":\"white\",\"linecolor\":\"white\",\"ticks\":\"\"},\"caxis\":{\"gridcolor\":\"white\",\"linecolor\":\"white\",\"ticks\":\"\"}},\"coloraxis\":{\"colorbar\":{\"outlinewidth\":0,\"ticks\":\"\"}},\"colorscale\":{\"sequential\":[[0.0,\"#0d0887\"],[0.1111111111111111,\"#46039f\"],[0.2222222222222222,\"#7201a8\"],[0.3333333333333333,\"#9c179e\"],[0.4444444444444444,\"#bd3786\"],[0.5555555555555556,\"#d8576b\"],[0.6666666666666666,\"#ed7953\"],[0.7777777777777778,\"#fb9f3a\"],[0.8888888888888888,\"#fdca26\"],[1.0,\"#f0f921\"]],\"sequentialminus\":[[0.0,\"#0d0887\"],[0.1111111111111111,\"#46039f\"],[0.2222222222222222,\"#7201a8\"],[0.3333333333333333,\"#9c179e\"],[0.4444444444444444,\"#bd3786\"],[0.5555555555555556,\"#d8576b\"],[0.6666666666666666,\"#ed7953\"],[0.7777777777777778,\"#fb9f3a\"],[0.8888888888888888,\"#fdca26\"],[1.0,\"#f0f921\"]],\"diverging\":[[0,\"#8e0152\"],[0.1,\"#c51b7d\"],[0.2,\"#de77ae\"],[0.3,\"#f1b6da\"],[0.4,\"#fde0ef\"],[0.5,\"#f7f7f7\"],[0.6,\"#e6f5d0\"],[0.7,\"#b8e186\"],[0.8,\"#7fbc41\"],[0.9,\"#4d9221\"],[1,\"#276419\"]]},\"xaxis\":{\"gridcolor\":\"white\",\"linecolor\":\"white\",\"ticks\":\"\",\"title\":{\"standoff\":15},\"zerolinecolor\":\"white\",\"automargin\":true,\"zerolinewidth\":2},\"yaxis\":{\"gridcolor\":\"white\",\"linecolor\":\"white\",\"ticks\":\"\",\"title\":{\"standoff\":15},\"zerolinecolor\":\"white\",\"automargin\":true,\"zerolinewidth\":2},\"scene\":{\"xaxis\":{\"backgroundcolor\":\"#E5ECF6\",\"gridcolor\":\"white\",\"linecolor\":\"white\",\"showbackground\":true,\"ticks\":\"\",\"zerolinecolor\":\"white\",\"gridwidth\":2},\"yaxis\":{\"backgroundcolor\":\"#E5ECF6\",\"gridcolor\":\"white\",\"linecolor\":\"white\",\"showbackground\":true,\"ticks\":\"\",\"zerolinecolor\":\"white\",\"gridwidth\":2},\"zaxis\":{\"backgroundcolor\":\"#E5ECF6\",\"gridcolor\":\"white\",\"linecolor\":\"white\",\"showbackground\":true,\"ticks\":\"\",\"zerolinecolor\":\"white\",\"gridwidth\":2}},\"shapedefaults\":{\"line\":{\"color\":\"#2a3f5f\"}},\"annotationdefaults\":{\"arrowcolor\":\"#2a3f5f\",\"arrowhead\":0,\"arrowwidth\":1},\"geo\":{\"bgcolor\":\"white\",\"landcolor\":\"#E5ECF6\",\"subunitcolor\":\"white\",\"showland\":true,\"showlakes\":true,\"lakecolor\":\"white\"},\"title\":{\"x\":0.05},\"mapbox\":{\"style\":\"light\"}}},\"coloraxis\":{\"colorbar\":{\"title\":{\"text\":\"User Rating\"},\"x\":-0.1},\"colorscale\":[[0.0,\"rgb(84,48,5)\"],[0.1,\"rgb(140,81,10)\"],[0.2,\"rgb(191,129,45)\"],[0.3,\"rgb(223,194,125)\"],[0.4,\"rgb(246,232,195)\"],[0.5,\"rgb(245,245,245)\"],[0.6,\"rgb(199,234,229)\"],[0.7,\"rgb(128,205,193)\"],[0.8,\"rgb(53,151,143)\"],[0.9,\"rgb(1,102,94)\"],[1.0,\"rgb(0,60,48)\"]]},\"legend\":{\"tracegroupgap\":0},\"title\":{\"text\":\"Highest Earning Developer\",\"x\":0.5},\"margin\":{\"r\":100}},                        {\"responsive\": true}                    ).then(function(){\n",
       "                            \n",
       "var gd = document.getElementById('0f10d846-b25c-4609-b45f-e1953813179d');\n",
       "var x = new MutationObserver(function (mutations, observer) {{\n",
       "        var display = window.getComputedStyle(gd).display;\n",
       "        if (!display || display === 'none') {{\n",
       "            console.log([gd, 'removed!']);\n",
       "            Plotly.purge(gd);\n",
       "            observer.disconnect();\n",
       "        }}\n",
       "}});\n",
       "\n",
       "// Listen for the removal of the full notebook cells\n",
       "var notebookContainer = gd.closest('#notebook-container');\n",
       "if (notebookContainer) {{\n",
       "    x.observe(notebookContainer, {childList: true});\n",
       "}}\n",
       "\n",
       "// Listen for the clearing of the current output cell\n",
       "var outputEl = gd.closest('.output');\n",
       "if (outputEl) {{\n",
       "    x.observe(outputEl, {childList: true});\n",
       "}}\n",
       "\n",
       "                        })                };                            </script>        </div>\n",
       "</body>\n",
       "</html>"
      ]
     },
     "metadata": {},
     "output_type": "display_data"
    }
   ],
   "source": [
    "fig7 = px.parallel_categories(paid_apps_df.sort_values(by='Revenue',ascending=False).head(30), \n",
    "                              dimensions=['Content_Rating','Developer','Revenue','Primary_Genre'],\n",
    "                              color='User Rating',\n",
    "                              color_continuous_scale=px.colors.diverging.BrBG,\n",
    "                              labels={'Content_Rating':'Age+',\n",
    "                                      'Primary_Genre':'Catagory',\n",
    "                                      'Revenue':'Earnings ($)'},\n",
    "                              title= \"Highest Earning Developer\")\n",
    "fig7.update_layout(coloraxis_colorbar_x=-0.1, \n",
    "                   title_x=0.5, \n",
    "                   margin=dict(r=100))\n",
    "fig7.show()"
   ]
  },
  {
   "cell_type": "markdown",
   "metadata": {
    "id": "OzI_LkKxSj0h"
   },
   "source": [
    "> Mojang game developer is the highest earner from paid apps and Minecraft app is the app that brought 3.4M USD\n",
    "\n",
    "> Second highest is Time Base Technology Limited with one app GoodNotes 5 having 1.5M USD.\n",
    "\n",
    "> Games an Productivity apps has more earnings compared to other catagories.\n",
    "\n",
    "> Majority of the developers target their apps on Content Rating 4+ i.e to everyone. "
   ]
  },
  {
   "cell_type": "markdown",
   "metadata": {
    "id": "5Nfec9Dcnd0J"
   },
   "source": [
    "## Summary\n",
    "\n"
   ]
  },
  {
   "cell_type": "markdown",
   "metadata": {
    "id": "siy6Ez9jAH05"
   },
   "source": [
    "The Exploratory Data Analysis on Apple Appstore dataset is completed. Here are the outline's that we have followed:\n",
    "\n",
    "- Downloaded the dataset from Kaggle\n",
    "- Processed dirty data by cleaning, modifying to prepare a data frame ready for analysis.\n",
    "- Once done with data preprocessing started analyzing the data and got a good picture of it.\n",
    "- Asked and answered few interesting questions.\n",
    "\n",
    "> The following are the observations have been noticed during Exploratory Analysis:\n",
    "\n",
    "1. Google LLC, Instagram, Inc., Spotify Ltd., Voodoo, AMZN Mobile LLC, etc. are the top 5 developers with most popularity.\n",
    "\n",
    "2. The dominent apps from random top developers.\n",
    "a) Google LLC: Youtube, b) Disney: My Disney Exeperience, c) Microsoft:Teams, d) Voodoo: Hole.io, e) Amazon: AMZN shopping, f) Lion Studio: Match 3D \n",
    "\n",
    "3. Small Apps have more users. No of small sized apps are huge compared to large and medium. Although Medium sized apps are few, but user percentage is good.\n",
    "\n",
    "4. 2009 to 2012 have is steady growth with 100M users yearly and dropped heavily in 2013 by 30M users. 2013-2020 had ups and downs(mostly downs). In the year 2020 and 2021 there has been a massive drop in users and app releases across all the catagories it is possible that might be the effect of COVID-19.\n",
    "\n",
    "5. Majority of the apps has been added in between IOS 8-12 across all catagories. Games started rising from IOS 6 with 23+ thousand apps.\n",
    "\n",
    "6. Seems like there are only 8.2% of paid apps present in 19.3 lakh applications. Roblox has 6 million users in free apps. Minecraft is the most selling app and have around 500 thousand users.\n",
    "\n",
    "7. Overall there is an excess number of participants in medium sized games with 32 million gamers.\n",
    "\n",
    "8. Chownow has published 3699 apps in total.\n",
    "\n",
    "9. Mojang: Minecraft (3.4M USD), Time Base Technology Limited: GoodNotes 5 (1.5M USD), Piksoft Inc,:TurboScan™ Pro: PDF scanner(1.4M USD), Ginger Labs: Notability(1.3M USD), Shotzoom Software: Golfshot Plus (1.2M USD). Majority of the developers target their apps on Content Rating 4+ i.e to everyone.\n",
    "\n",
    " \n",
    "\n",
    "\n"
   ]
  },
  {
   "cell_type": "markdown",
   "metadata": {
    "id": "J9zW-3d-F2pF"
   },
   "source": [
    "## Future work\n",
    "\n",
    "- Interesting analysis can be done by comparing Google playstore and Apple appstore.\n",
    "\n",
    "- I am planning to do a prediction on success of the app from appstore."
   ]
  },
  {
   "cell_type": "markdown",
   "metadata": {
    "id": "NYWUBUvmnhPy"
   },
   "source": [
    "## References\n",
    "\n",
    "Apple AppStore Dataset : https://www.kaggle.com/datasets/gauthamp10/apple-appstore-apps\n",
    "\n",
    "What is Exploratory Data Analysis : https://en.wikipedia.org/wiki/Exploratory_data_analysis\n",
    "\n",
    "Pandas Documentation: https://pandas.pydata.org/docs/user_guide/index.html\n",
    "\n",
    "Properties of update_layout: https://plotly.com/python/reference/layout/\n",
    "\n",
    "Plotly Gallery: https://plotly.com/python/\n",
    "\n",
    "Seaborn gallery: https://seaborn.pydata.org/examples/index.html\n",
    "\n",
    "Matplotlib gallery: https://matplotlib.org/3.1.1/gallery/index.html\n"
   ]
  },
  {
   "cell_type": "markdown",
   "metadata": {
    "id": "4gqvE5nRgd6h"
   },
   "source": [
    "## Follow Me\n",
    "\n",
    "[LinkedIn](https://www.linkedin.com/in/pratulot/)  --  [Medium](https://medium.com/@pratulofficialthings)  --  [GitHub](https://github.com/pratulot)\n"
   ]
  },
  {
   "cell_type": "markdown",
   "metadata": {
    "id": "5eNRn67iQ75o"
   },
   "source": [
    "  >"
   ]
  },
  {
   "cell_type": "markdown",
   "metadata": {
    "id": "UGthluUOJNCp"
   },
   "source": [
    "Saving work on my Jovian profile"
   ]
  },
  {
   "cell_type": "code",
   "execution_count": 58,
   "metadata": {
    "colab": {
     "base_uri": "https://localhost:8080/",
     "height": 485
    },
    "executionInfo": {
     "elapsed": 2351,
     "status": "error",
     "timestamp": 1662575267817,
     "user": {
      "displayName": "Pratul Chandra",
      "userId": "06160049637809107783"
     },
     "user_tz": -330
    },
    "id": "5myNfflfd5BK",
    "outputId": "a926cc79-e5cc-41df-aa9d-4595e262ba7b"
   },
   "outputs": [
    {
     "name": "stdout",
     "output_type": "stream",
     "text": [
      "[jovian] Detected Colab notebook...\u001b[0m\n",
      "[jovian] Please enter your API key ( from https://jovian.ai/ ):\u001b[0m\n",
      "API KEY: \n"
     ]
    },
    {
     "ename": "Abort",
     "evalue": "ignored",
     "output_type": "error",
     "traceback": [
      "\u001b[0;31m---------------------------------------------------------------------------\u001b[0m",
      "\u001b[0;31mKeyboardInterrupt\u001b[0m                         Traceback (most recent call last)",
      "\u001b[0;32m/usr/local/lib/python3.7/dist-packages/click/termui.py\u001b[0m in \u001b[0;36mprompt_func\u001b[0;34m(text)\u001b[0m\n\u001b[1;32m    128\u001b[0m             \u001b[0mecho\u001b[0m\u001b[0;34m(\u001b[0m\u001b[0mtext\u001b[0m\u001b[0;34m,\u001b[0m \u001b[0mnl\u001b[0m\u001b[0;34m=\u001b[0m\u001b[0;32mFalse\u001b[0m\u001b[0;34m,\u001b[0m \u001b[0merr\u001b[0m\u001b[0;34m=\u001b[0m\u001b[0merr\u001b[0m\u001b[0;34m)\u001b[0m\u001b[0;34m\u001b[0m\u001b[0;34m\u001b[0m\u001b[0m\n\u001b[0;32m--> 129\u001b[0;31m             \u001b[0;32mreturn\u001b[0m \u001b[0mf\u001b[0m\u001b[0;34m(\u001b[0m\u001b[0;34m\"\"\u001b[0m\u001b[0;34m)\u001b[0m\u001b[0;34m\u001b[0m\u001b[0;34m\u001b[0m\u001b[0m\n\u001b[0m\u001b[1;32m    130\u001b[0m         \u001b[0;32mexcept\u001b[0m \u001b[0;34m(\u001b[0m\u001b[0mKeyboardInterrupt\u001b[0m\u001b[0;34m,\u001b[0m \u001b[0mEOFError\u001b[0m\u001b[0;34m)\u001b[0m\u001b[0;34m:\u001b[0m\u001b[0;34m\u001b[0m\u001b[0;34m\u001b[0m\u001b[0m\n",
      "\u001b[0;32m/usr/local/lib/python3.7/dist-packages/click/termui.py\u001b[0m in \u001b[0;36mhidden_prompt_func\u001b[0;34m(prompt)\u001b[0m\n\u001b[1;32m     53\u001b[0m \u001b[0;34m\u001b[0m\u001b[0m\n\u001b[0;32m---> 54\u001b[0;31m     \u001b[0;32mreturn\u001b[0m \u001b[0mgetpass\u001b[0m\u001b[0;34m.\u001b[0m\u001b[0mgetpass\u001b[0m\u001b[0;34m(\u001b[0m\u001b[0mprompt\u001b[0m\u001b[0;34m)\u001b[0m\u001b[0;34m\u001b[0m\u001b[0;34m\u001b[0m\u001b[0m\n\u001b[0m\u001b[1;32m     55\u001b[0m \u001b[0;34m\u001b[0m\u001b[0m\n",
      "\u001b[0;32m/usr/local/lib/python3.7/dist-packages/ipykernel/kernelbase.py\u001b[0m in \u001b[0;36mgetpass\u001b[0;34m(self, prompt, stream)\u001b[0m\n\u001b[1;32m    845\u001b[0m             \u001b[0mself\u001b[0m\u001b[0;34m.\u001b[0m\u001b[0m_parent_header\u001b[0m\u001b[0;34m,\u001b[0m\u001b[0;34m\u001b[0m\u001b[0;34m\u001b[0m\u001b[0m\n\u001b[0;32m--> 846\u001b[0;31m             \u001b[0mpassword\u001b[0m\u001b[0;34m=\u001b[0m\u001b[0;32mTrue\u001b[0m\u001b[0;34m,\u001b[0m\u001b[0;34m\u001b[0m\u001b[0;34m\u001b[0m\u001b[0m\n\u001b[0m\u001b[1;32m    847\u001b[0m         )\n",
      "\u001b[0;32m/usr/local/lib/python3.7/dist-packages/ipykernel/kernelbase.py\u001b[0m in \u001b[0;36m_input_request\u001b[0;34m(self, prompt, ident, parent, password)\u001b[0m\n\u001b[1;32m    903\u001b[0m                 \u001b[0;31m# re-raise KeyboardInterrupt, to truncate traceback\u001b[0m\u001b[0;34m\u001b[0m\u001b[0;34m\u001b[0m\u001b[0;34m\u001b[0m\u001b[0m\n\u001b[0;32m--> 904\u001b[0;31m                 \u001b[0;32mraise\u001b[0m \u001b[0mKeyboardInterrupt\u001b[0m\u001b[0;34m(\u001b[0m\u001b[0;34m\"Interrupted by user\"\u001b[0m\u001b[0;34m)\u001b[0m \u001b[0;32mfrom\u001b[0m \u001b[0;32mNone\u001b[0m\u001b[0;34m\u001b[0m\u001b[0;34m\u001b[0m\u001b[0m\n\u001b[0m\u001b[1;32m    905\u001b[0m             \u001b[0;32mexcept\u001b[0m \u001b[0mException\u001b[0m \u001b[0;32mas\u001b[0m \u001b[0me\u001b[0m\u001b[0;34m:\u001b[0m\u001b[0;34m\u001b[0m\u001b[0;34m\u001b[0m\u001b[0m\n",
      "\u001b[0;31mKeyboardInterrupt\u001b[0m: Interrupted by user",
      "\nDuring handling of the above exception, another exception occurred:\n",
      "\u001b[0;31mAbort\u001b[0m                                     Traceback (most recent call last)",
      "\u001b[0;32m<ipython-input-58-f6c382e553f3>\u001b[0m in \u001b[0;36m<module>\u001b[0;34m\u001b[0m\n\u001b[1;32m      1\u001b[0m \u001b[0;31m# Execute this to save new versions of the notebook\u001b[0m\u001b[0;34m\u001b[0m\u001b[0;34m\u001b[0m\u001b[0;34m\u001b[0m\u001b[0m\n\u001b[0;32m----> 2\u001b[0;31m \u001b[0mjovian\u001b[0m\u001b[0;34m.\u001b[0m\u001b[0mcommit\u001b[0m\u001b[0;34m(\u001b[0m\u001b[0mproject\u001b[0m\u001b[0;34m=\u001b[0m\u001b[0;34m\"apple-appstore-eda\"\u001b[0m\u001b[0;34m)\u001b[0m\u001b[0;34m\u001b[0m\u001b[0;34m\u001b[0m\u001b[0m\n\u001b[0m\u001b[1;32m      3\u001b[0m \u001b[0mjovian\u001b[0m\u001b[0;34m.\u001b[0m\u001b[0mcommit\u001b[0m\u001b[0;34m(\u001b[0m\u001b[0mfiles\u001b[0m\u001b[0;34m=\u001b[0m\u001b[0;34m\"iphone_models_list.csv\"\u001b[0m\u001b[0;34m)\u001b[0m\u001b[0;34m\u001b[0m\u001b[0;34m\u001b[0m\u001b[0m\n",
      "\u001b[0;32m/usr/local/lib/python3.7/dist-packages/jovian/utils/commit.py\u001b[0m in \u001b[0;36mcommit\u001b[0;34m(message, files, outputs, environment, privacy, filename, project, new_project, git_commit, git_message, **kwargs)\u001b[0m\n\u001b[1;32m    140\u001b[0m             \u001b[0;32mreturn\u001b[0m\u001b[0;34m\u001b[0m\u001b[0;34m\u001b[0m\u001b[0m\n\u001b[1;32m    141\u001b[0m \u001b[0;34m\u001b[0m\u001b[0m\n\u001b[0;32m--> 142\u001b[0;31m         \u001b[0mres\u001b[0m \u001b[0;34m=\u001b[0m \u001b[0mperform_colab_commit\u001b[0m\u001b[0;34m(\u001b[0m\u001b[0mproject\u001b[0m\u001b[0;34m,\u001b[0m \u001b[0mprivacy\u001b[0m\u001b[0;34m)\u001b[0m\u001b[0;34m\u001b[0m\u001b[0;34m\u001b[0m\u001b[0m\n\u001b[0m\u001b[1;32m    143\u001b[0m         \u001b[0mslug\u001b[0m\u001b[0;34m,\u001b[0m \u001b[0musername\u001b[0m\u001b[0;34m,\u001b[0m \u001b[0mversion\u001b[0m\u001b[0;34m,\u001b[0m \u001b[0mtitle\u001b[0m \u001b[0;34m=\u001b[0m \u001b[0mres\u001b[0m\u001b[0;34m[\u001b[0m\u001b[0;34m'slug'\u001b[0m\u001b[0;34m]\u001b[0m\u001b[0;34m,\u001b[0m \u001b[0mres\u001b[0m\u001b[0;34m[\u001b[0m\u001b[0;34m'owner'\u001b[0m\u001b[0;34m]\u001b[0m\u001b[0;34m[\u001b[0m\u001b[0;34m'username'\u001b[0m\u001b[0;34m]\u001b[0m\u001b[0;34m,\u001b[0m \u001b[0mres\u001b[0m\u001b[0;34m[\u001b[0m\u001b[0;34m'version'\u001b[0m\u001b[0;34m]\u001b[0m\u001b[0;34m,\u001b[0m \u001b[0mres\u001b[0m\u001b[0;34m[\u001b[0m\u001b[0;34m'title'\u001b[0m\u001b[0;34m]\u001b[0m\u001b[0;34m\u001b[0m\u001b[0;34m\u001b[0m\u001b[0m\n\u001b[1;32m    144\u001b[0m \u001b[0;34m\u001b[0m\u001b[0m\n",
      "\u001b[0;32m/usr/local/lib/python3.7/dist-packages/jovian/utils/colab.py\u001b[0m in \u001b[0;36mperform_colab_commit\u001b[0;34m(project, privacy)\u001b[0m\n\u001b[1;32m     27\u001b[0m \u001b[0;32mdef\u001b[0m \u001b[0mperform_colab_commit\u001b[0m\u001b[0;34m(\u001b[0m\u001b[0mproject\u001b[0m\u001b[0;34m,\u001b[0m \u001b[0mprivacy\u001b[0m\u001b[0;34m)\u001b[0m\u001b[0;34m:\u001b[0m\u001b[0;34m\u001b[0m\u001b[0;34m\u001b[0m\u001b[0m\n\u001b[1;32m     28\u001b[0m     \u001b[0;32mif\u001b[0m \u001b[0;34m'/'\u001b[0m \u001b[0;32mnot\u001b[0m \u001b[0;32min\u001b[0m \u001b[0mproject\u001b[0m\u001b[0;34m:\u001b[0m\u001b[0;34m\u001b[0m\u001b[0;34m\u001b[0m\u001b[0m\n\u001b[0;32m---> 29\u001b[0;31m         \u001b[0mproject\u001b[0m \u001b[0;34m=\u001b[0m \u001b[0mget_current_user\u001b[0m\u001b[0;34m(\u001b[0m\u001b[0;34m)\u001b[0m\u001b[0;34m[\u001b[0m\u001b[0;34m'username'\u001b[0m\u001b[0;34m]\u001b[0m \u001b[0;34m+\u001b[0m \u001b[0;34m'/'\u001b[0m \u001b[0;34m+\u001b[0m \u001b[0mproject\u001b[0m\u001b[0;34m\u001b[0m\u001b[0;34m\u001b[0m\u001b[0m\n\u001b[0m\u001b[1;32m     30\u001b[0m \u001b[0;34m\u001b[0m\u001b[0m\n\u001b[1;32m     31\u001b[0m     \u001b[0mdata\u001b[0m \u001b[0;34m=\u001b[0m \u001b[0;34m{\u001b[0m\u001b[0;34m'project'\u001b[0m\u001b[0;34m:\u001b[0m \u001b[0mproject\u001b[0m\u001b[0;34m,\u001b[0m \u001b[0;34m'file_id'\u001b[0m\u001b[0;34m:\u001b[0m \u001b[0mget_colab_file_id\u001b[0m\u001b[0;34m(\u001b[0m\u001b[0;34m)\u001b[0m\u001b[0;34m,\u001b[0m \u001b[0;34m'visibility'\u001b[0m\u001b[0;34m:\u001b[0m \u001b[0mprivacy\u001b[0m\u001b[0;34m}\u001b[0m\u001b[0;34m\u001b[0m\u001b[0;34m\u001b[0m\u001b[0m\n",
      "\u001b[0;32m/usr/local/lib/python3.7/dist-packages/jovian/utils/api.py\u001b[0m in \u001b[0;36mget_current_user\u001b[0;34m()\u001b[0m\n\u001b[1;32m     18\u001b[0m \u001b[0;34m\u001b[0m\u001b[0m\n\u001b[1;32m     19\u001b[0m \u001b[0;32mdef\u001b[0m \u001b[0mget_current_user\u001b[0m\u001b[0;34m(\u001b[0m\u001b[0;34m)\u001b[0m\u001b[0;34m:\u001b[0m\u001b[0;34m\u001b[0m\u001b[0;34m\u001b[0m\u001b[0m\n\u001b[0;32m---> 20\u001b[0;31m     \u001b[0mres\u001b[0m \u001b[0;34m=\u001b[0m \u001b[0mget\u001b[0m\u001b[0;34m(\u001b[0m\u001b[0murl\u001b[0m\u001b[0;34m=\u001b[0m\u001b[0m_u\u001b[0m\u001b[0;34m(\u001b[0m\u001b[0;34m'/user/profile'\u001b[0m\u001b[0;34m)\u001b[0m\u001b[0;34m,\u001b[0m \u001b[0mheaders\u001b[0m\u001b[0;34m=\u001b[0m\u001b[0m_h\u001b[0m\u001b[0;34m(\u001b[0m\u001b[0;34m)\u001b[0m\u001b[0;34m)\u001b[0m\u001b[0;34m\u001b[0m\u001b[0;34m\u001b[0m\u001b[0m\n\u001b[0m\u001b[1;32m     21\u001b[0m     \u001b[0;32mif\u001b[0m \u001b[0mres\u001b[0m\u001b[0;34m.\u001b[0m\u001b[0mstatus_code\u001b[0m \u001b[0;34m==\u001b[0m \u001b[0;36m200\u001b[0m\u001b[0;34m:\u001b[0m\u001b[0;34m\u001b[0m\u001b[0;34m\u001b[0m\u001b[0m\n\u001b[1;32m     22\u001b[0m         \u001b[0;32mreturn\u001b[0m \u001b[0mres\u001b[0m\u001b[0;34m.\u001b[0m\u001b[0mjson\u001b[0m\u001b[0;34m(\u001b[0m\u001b[0;34m)\u001b[0m\u001b[0;34m[\u001b[0m\u001b[0;34m'data'\u001b[0m\u001b[0;34m]\u001b[0m\u001b[0;34m\u001b[0m\u001b[0;34m\u001b[0m\u001b[0m\n",
      "\u001b[0;32m/usr/local/lib/python3.7/dist-packages/jovian/utils/api.py\u001b[0m in \u001b[0;36m_h\u001b[0;34m()\u001b[0m\n\u001b[1;32m     10\u001b[0m \u001b[0;32mdef\u001b[0m \u001b[0m_h\u001b[0m\u001b[0;34m(\u001b[0m\u001b[0;34m)\u001b[0m\u001b[0;34m:\u001b[0m\u001b[0;34m\u001b[0m\u001b[0;34m\u001b[0m\u001b[0m\n\u001b[1;32m     11\u001b[0m     \u001b[0;34m\"\"\"Create authorization header with API key\"\"\"\u001b[0m\u001b[0;34m\u001b[0m\u001b[0;34m\u001b[0m\u001b[0m\n\u001b[0;32m---> 12\u001b[0;31m     return {\"Authorization\": \"Bearer \" + get_api_key(),\n\u001b[0m\u001b[1;32m     13\u001b[0m             \u001b[0;34m\"x-jovian-source\"\u001b[0m\u001b[0;34m:\u001b[0m \u001b[0;34m\"library\"\u001b[0m\u001b[0;34m,\u001b[0m\u001b[0;34m\u001b[0m\u001b[0;34m\u001b[0m\u001b[0m\n\u001b[1;32m     14\u001b[0m             \u001b[0;34m\"x-jovian-library-version\"\u001b[0m\u001b[0;34m:\u001b[0m \u001b[0m__version__\u001b[0m\u001b[0;34m,\u001b[0m\u001b[0;34m\u001b[0m\u001b[0;34m\u001b[0m\u001b[0m\n",
      "\u001b[0;32m/usr/local/lib/python3.7/dist-packages/jovian/utils/credentials.py\u001b[0m in \u001b[0;36mget_api_key\u001b[0;34m()\u001b[0m\n\u001b[1;32m    263\u001b[0m     \u001b[0mcreds\u001b[0m \u001b[0;34m=\u001b[0m \u001b[0mread_creds\u001b[0m\u001b[0;34m(\u001b[0m\u001b[0;34m)\u001b[0m\u001b[0;34m\u001b[0m\u001b[0;34m\u001b[0m\u001b[0m\n\u001b[1;32m    264\u001b[0m     \u001b[0;32mif\u001b[0m \u001b[0mAPI_TOKEN_KEY\u001b[0m \u001b[0;32mnot\u001b[0m \u001b[0;32min\u001b[0m \u001b[0mcreds\u001b[0m\u001b[0;34m:\u001b[0m\u001b[0;34m\u001b[0m\u001b[0;34m\u001b[0m\u001b[0m\n\u001b[0;32m--> 265\u001b[0;31m         \u001b[0mkey\u001b[0m\u001b[0;34m,\u001b[0m \u001b[0m_\u001b[0m \u001b[0;34m=\u001b[0m \u001b[0mread_or_request_api_key\u001b[0m\u001b[0;34m(\u001b[0m\u001b[0;34m)\u001b[0m\u001b[0;34m\u001b[0m\u001b[0;34m\u001b[0m\u001b[0m\n\u001b[0m\u001b[1;32m    266\u001b[0m         \u001b[0;32mif\u001b[0m \u001b[0;32mnot\u001b[0m \u001b[0mvalidate_api_key\u001b[0m\u001b[0;34m(\u001b[0m\u001b[0mkey\u001b[0m\u001b[0;34m)\u001b[0m\u001b[0;34m:\u001b[0m\u001b[0;34m\u001b[0m\u001b[0;34m\u001b[0m\u001b[0m\n\u001b[1;32m    267\u001b[0m             \u001b[0mlog\u001b[0m\u001b[0;34m(\u001b[0m\u001b[0;34m'The current API key is invalid or expired.'\u001b[0m\u001b[0;34m,\u001b[0m \u001b[0merror\u001b[0m\u001b[0;34m=\u001b[0m\u001b[0;32mTrue\u001b[0m\u001b[0;34m)\u001b[0m\u001b[0;34m\u001b[0m\u001b[0;34m\u001b[0m\u001b[0m\n",
      "\u001b[0;32m/usr/local/lib/python3.7/dist-packages/jovian/utils/credentials.py\u001b[0m in \u001b[0;36mread_or_request_api_key\u001b[0;34m()\u001b[0m\n\u001b[1;32m    302\u001b[0m         \u001b[0;32mreturn\u001b[0m \u001b[0mapi_key\u001b[0m\u001b[0;34m,\u001b[0m \u001b[0msource\u001b[0m\u001b[0;34m\u001b[0m\u001b[0;34m\u001b[0m\u001b[0m\n\u001b[1;32m    303\u001b[0m     \u001b[0;32melse\u001b[0m\u001b[0;34m:\u001b[0m\u001b[0;34m\u001b[0m\u001b[0;34m\u001b[0m\u001b[0m\n\u001b[0;32m--> 304\u001b[0;31m         \u001b[0;32mreturn\u001b[0m \u001b[0mrequest_api_key\u001b[0m\u001b[0;34m(\u001b[0m\u001b[0;34m)\u001b[0m\u001b[0;34m,\u001b[0m \u001b[0;34m'request'\u001b[0m\u001b[0;34m\u001b[0m\u001b[0;34m\u001b[0m\u001b[0m\n\u001b[0m\u001b[1;32m    305\u001b[0m \u001b[0;34m\u001b[0m\u001b[0m\n\u001b[1;32m    306\u001b[0m \u001b[0;34m\u001b[0m\u001b[0m\n",
      "\u001b[0;32m/usr/local/lib/python3.7/dist-packages/jovian/utils/credentials.py\u001b[0m in \u001b[0;36mrequest_api_key\u001b[0;34m()\u001b[0m\n\u001b[1;32m    285\u001b[0m     \u001b[0mhide_api_key\u001b[0m \u001b[0;34m=\u001b[0m \u001b[0min_notebook\u001b[0m\u001b[0;34m(\u001b[0m\u001b[0;34m)\u001b[0m \u001b[0;32mor\u001b[0m \u001b[0mget_platform\u001b[0m\u001b[0;34m(\u001b[0m\u001b[0;34m)\u001b[0m \u001b[0;34m!=\u001b[0m \u001b[0;34m'windows'\u001b[0m\u001b[0;34m\u001b[0m\u001b[0;34m\u001b[0m\u001b[0m\n\u001b[1;32m    286\u001b[0m     \u001b[0mlog\u001b[0m\u001b[0;34m(\u001b[0m\u001b[0;34m\"Please enter your API key ( from \"\u001b[0m \u001b[0;34m+\u001b[0m \u001b[0mread_webapp_url\u001b[0m\u001b[0;34m(\u001b[0m\u001b[0;34m)\u001b[0m \u001b[0;34m+\u001b[0m \u001b[0;34m\" ):\"\u001b[0m\u001b[0;34m)\u001b[0m\u001b[0;34m\u001b[0m\u001b[0;34m\u001b[0m\u001b[0m\n\u001b[0;32m--> 287\u001b[0;31m     \u001b[0mapi_key\u001b[0m \u001b[0;34m=\u001b[0m \u001b[0mclick\u001b[0m\u001b[0;34m.\u001b[0m\u001b[0mprompt\u001b[0m\u001b[0;34m(\u001b[0m\u001b[0;34m\"API KEY\"\u001b[0m\u001b[0;34m,\u001b[0m \u001b[0mhide_input\u001b[0m\u001b[0;34m=\u001b[0m\u001b[0mhide_api_key\u001b[0m\u001b[0;34m)\u001b[0m\u001b[0;34m\u001b[0m\u001b[0;34m\u001b[0m\u001b[0m\n\u001b[0m\u001b[1;32m    288\u001b[0m     \u001b[0;32mreturn\u001b[0m \u001b[0mapi_key\u001b[0m\u001b[0;34m\u001b[0m\u001b[0;34m\u001b[0m\u001b[0m\n\u001b[1;32m    289\u001b[0m \u001b[0;34m\u001b[0m\u001b[0m\n",
      "\u001b[0;32m/usr/local/lib/python3.7/dist-packages/click/termui.py\u001b[0m in \u001b[0;36mprompt\u001b[0;34m(text, default, hide_input, confirmation_prompt, type, value_proc, prompt_suffix, show_default, err, show_choices)\u001b[0m\n\u001b[1;32m    145\u001b[0m     \u001b[0;32mwhile\u001b[0m \u001b[0;36m1\u001b[0m\u001b[0;34m:\u001b[0m\u001b[0;34m\u001b[0m\u001b[0;34m\u001b[0m\u001b[0m\n\u001b[1;32m    146\u001b[0m         \u001b[0;32mwhile\u001b[0m \u001b[0;36m1\u001b[0m\u001b[0;34m:\u001b[0m\u001b[0;34m\u001b[0m\u001b[0;34m\u001b[0m\u001b[0m\n\u001b[0;32m--> 147\u001b[0;31m             \u001b[0mvalue\u001b[0m \u001b[0;34m=\u001b[0m \u001b[0mprompt_func\u001b[0m\u001b[0;34m(\u001b[0m\u001b[0mprompt\u001b[0m\u001b[0;34m)\u001b[0m\u001b[0;34m\u001b[0m\u001b[0;34m\u001b[0m\u001b[0m\n\u001b[0m\u001b[1;32m    148\u001b[0m             \u001b[0;32mif\u001b[0m \u001b[0mvalue\u001b[0m\u001b[0;34m:\u001b[0m\u001b[0;34m\u001b[0m\u001b[0;34m\u001b[0m\u001b[0m\n\u001b[1;32m    149\u001b[0m                 \u001b[0;32mbreak\u001b[0m\u001b[0;34m\u001b[0m\u001b[0;34m\u001b[0m\u001b[0m\n",
      "\u001b[0;32m/usr/local/lib/python3.7/dist-packages/click/termui.py\u001b[0m in \u001b[0;36mprompt_func\u001b[0;34m(text)\u001b[0m\n\u001b[1;32m    134\u001b[0m             \u001b[0;32mif\u001b[0m \u001b[0mhide_input\u001b[0m\u001b[0;34m:\u001b[0m\u001b[0;34m\u001b[0m\u001b[0;34m\u001b[0m\u001b[0m\n\u001b[1;32m    135\u001b[0m                 \u001b[0mecho\u001b[0m\u001b[0;34m(\u001b[0m\u001b[0;32mNone\u001b[0m\u001b[0;34m,\u001b[0m \u001b[0merr\u001b[0m\u001b[0;34m=\u001b[0m\u001b[0merr\u001b[0m\u001b[0;34m)\u001b[0m\u001b[0;34m\u001b[0m\u001b[0;34m\u001b[0m\u001b[0m\n\u001b[0;32m--> 136\u001b[0;31m             \u001b[0;32mraise\u001b[0m \u001b[0mAbort\u001b[0m\u001b[0;34m(\u001b[0m\u001b[0;34m)\u001b[0m\u001b[0;34m\u001b[0m\u001b[0;34m\u001b[0m\u001b[0m\n\u001b[0m\u001b[1;32m    137\u001b[0m \u001b[0;34m\u001b[0m\u001b[0m\n\u001b[1;32m    138\u001b[0m     \u001b[0;32mif\u001b[0m \u001b[0mvalue_proc\u001b[0m \u001b[0;32mis\u001b[0m \u001b[0;32mNone\u001b[0m\u001b[0;34m:\u001b[0m\u001b[0;34m\u001b[0m\u001b[0;34m\u001b[0m\u001b[0m\n",
      "\u001b[0;31mAbort\u001b[0m: "
     ]
    }
   ],
   "source": [
    "# Execute this to save new versions of the notebook\n",
    "jovian.commit(project=\"apple-appstore-eda\")\n",
    "jovian.commit(files=\"iphone_models_list.csv\")"
   ]
  },
  {
   "cell_type": "code",
   "execution_count": null,
   "metadata": {
    "executionInfo": {
     "elapsed": 36,
     "status": "aborted",
     "timestamp": 1662575267819,
     "user": {
      "displayName": "Pratul Chandra",
      "userId": "06160049637809107783"
     },
     "user_tz": -330
    },
    "id": "AKdC9NIMJvnz"
   },
   "outputs": [],
   "source": []
  }
 ],
 "metadata": {
  "colab": {
   "provenance": []
  },
  "kernelspec": {
   "display_name": "Python 3",
   "language": "python",
   "name": "python3"
  },
  "language_info": {
   "codemirror_mode": {
    "name": "ipython",
    "version": 3
   },
   "file_extension": ".py",
   "mimetype": "text/x-python",
   "name": "python",
   "nbconvert_exporter": "python",
   "pygments_lexer": "ipython3",
   "version": "3.7.6"
  }
 },
 "nbformat": 4,
 "nbformat_minor": 0
}